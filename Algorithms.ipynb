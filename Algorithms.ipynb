{
 "cells": [
  {
   "cell_type": "markdown",
   "id": "7a49e59d-3309-4c0d-be15-9a872e26e42a",
   "metadata": {},
   "source": [
    "## Массивы"
   ]
  },
  {
   "cell_type": "markdown",
   "id": "62a81596-512b-4983-a427-ce9dd0b4dfa0",
   "metadata": {},
   "source": [
    "В Python - List (похоже, но не совсем). В нем хранятся не объект, а ссылки на них.  \n",
    "Массив - способ доступа к данным, когда есть одно имя и много данных.  \n",
    "Данные, хранящиеся в массие имеют одинаковый тип. "
   ]
  },
  {
   "cell_type": "code",
   "execution_count": 11,
   "id": "05595620-5b05-4ddb-aea1-89bcbf60109e",
   "metadata": {},
   "outputs": [
    {
     "data": {
      "text/plain": [
       "[1, 2, 3, 4, 5]"
      ]
     },
     "execution_count": 11,
     "metadata": {},
     "output_type": "execute_result"
    }
   ],
   "source": [
    "A = [1, 2, 3, 4, 5]\n",
    "A"
   ]
  },
  {
   "cell_type": "markdown",
   "id": "c029806e-9dae-4c91-8f94-1704adbd4bb3",
   "metadata": {},
   "source": [
    "**Перебор контейнера по порядку**"
   ]
  },
  {
   "cell_type": "code",
   "execution_count": 4,
   "id": "9c50c2cb-c15f-44da-82b6-97a4ddfe614c",
   "metadata": {},
   "outputs": [
    {
     "name": "stdout",
     "output_type": "stream",
     "text": [
      "1 <class 'int'>\n",
      "2 <class 'int'>\n",
      "3 <class 'int'>\n",
      "4 <class 'int'>\n",
      "5 <class 'int'>\n"
     ]
    }
   ],
   "source": [
    "for x in A:\n",
    "    print(x, type(x))"
   ]
  },
  {
   "cell_type": "markdown",
   "id": "3f16f645-8304-434c-8e2f-c667a015add6",
   "metadata": {},
   "source": [
    "Если попытаться изменить элементы массива в цикле, а потом вывести его повторно - ничего не выйдет, так как x это всего лишь ссылка на объект (создаются только временные переменные при изменении):"
   ]
  },
  {
   "cell_type": "code",
   "execution_count": 5,
   "id": "109a7938-abf6-436f-b1d6-b5d8bb6724be",
   "metadata": {},
   "outputs": [
    {
     "name": "stdout",
     "output_type": "stream",
     "text": [
      "2\n",
      "3\n",
      "4\n",
      "5\n",
      "6\n",
      "[1, 2, 3, 4, 5]\n"
     ]
    }
   ],
   "source": [
    "for x in A:\n",
    "    x += 1\n",
    "    print(x)\n",
    "print(A)"
   ]
  },
  {
   "cell_type": "markdown",
   "id": "99d3db54-7f72-439a-a28c-775873d63b31",
   "metadata": {},
   "source": [
    "Чтобы изменить элементы в массиве, нужно обратиться к нему по индексу (поэлементный доступ к нему):"
   ]
  },
  {
   "cell_type": "code",
   "execution_count": 12,
   "id": "ea226a4c-9457-456e-813a-d4b76f040078",
   "metadata": {},
   "outputs": [
    {
     "name": "stdout",
     "output_type": "stream",
     "text": [
      "[1, 2, 3, 4, 5]\n",
      "[4, 8, 12, 16, 20]\n"
     ]
    }
   ],
   "source": [
    "print(A)\n",
    "for i in range(len(A)):\n",
    "    A[i] *= 4\n",
    "print(A)"
   ]
  },
  {
   "cell_type": "markdown",
   "id": "d165e087-712f-4e33-898d-e3575a8f1739",
   "metadata": {},
   "source": [
    "**Заполнение массива**"
   ]
  },
  {
   "cell_type": "code",
   "execution_count": 23,
   "id": "6d4a693b-8433-4460-85cc-24d5670eea7b",
   "metadata": {},
   "outputs": [
    {
     "name": "stdin",
     "output_type": "stream",
     "text": [
      " 5\n",
      " 6\n",
      " 8\n",
      " 45\n",
      " 0\n"
     ]
    },
    {
     "name": "stdout",
     "output_type": "stream",
     "text": [
      "[5, 6, 8, 45]\n"
     ]
    }
   ],
   "source": [
    "A = [0] * 1000 # нужно создать непустой массив \n",
    "top = 0\n",
    "x = int(input())\n",
    "while x != 0:\n",
    "    A[top] = x\n",
    "    top += 1 # повышаем уровень заполненности\n",
    "    x = int(input())\n",
    "A = A[:top] # обрезаем нули\n",
    "print(A) # выводим все элементы массива (ноль не входит) "
   ]
  },
  {
   "cell_type": "markdown",
   "id": "947d37d5-2951-4d36-b515-0c768cd20440",
   "metadata": {},
   "source": [
    "**Вывод элементов в обратном порядке**"
   ]
  },
  {
   "cell_type": "code",
   "execution_count": 25,
   "id": "9972ce5d-b11a-477c-a0ac-099879bcb916",
   "metadata": {},
   "outputs": [
    {
     "name": "stdout",
     "output_type": "stream",
     "text": [
      "45\n",
      "8\n",
      "6\n",
      "5\n"
     ]
    }
   ],
   "source": [
    "for k in range(len(A)-1, -1, -1):\n",
    "    print(A[k])"
   ]
  },
  {
   "cell_type": "markdown",
   "id": "18abd730-3800-449d-8dbb-556bc3846535",
   "metadata": {},
   "source": [
    "**Линейный поиск**"
   ]
  },
  {
   "cell_type": "code",
   "execution_count": 19,
   "id": "ff1c6dda-78ad-400b-bc31-f985f22318ad",
   "metadata": {},
   "outputs": [
    {
     "name": "stdout",
     "output_type": "stream",
     "text": [
      "test1 - ok\n",
      "test2 - ok\n",
      "test3 - ok\n"
     ]
    }
   ],
   "source": [
    "def array_search(A: list, N: int, x: int): \n",
    "    \"\"\"\n",
    "    Осуществляет поиск числа х в массиве А в диапазоне от 0 до N-1 индекса включительно.\n",
    "    Возвращает индекс элемента Х в массиве А.\n",
    "    Или -1 если такого элемента нет.\n",
    "    Если есть несколько одинаковых элементов, то возвращает индекс перового по счету.\n",
    "    \"\"\"\n",
    "    for i in range(N):\n",
    "        if A[i]==x:\n",
    "            return i\n",
    "    return -1\n",
    "            \n",
    "\n",
    "def test_array_search():\n",
    "    A1 = [1, 2, 3, 4, 5]\n",
    "    m = array_search(A1, len(A1), 8)\n",
    "    if m == -1:\n",
    "        print('test1 - ok')\n",
    "    else:\n",
    "        print('test1 - fail')\n",
    "\n",
    "    A2 = [-1, -2, -3, -4, -5]\n",
    "    m = array_search(A2, len(A2), -3)\n",
    "    if m == 2:\n",
    "        print('test2 - ok')\n",
    "    else:\n",
    "        print('test2 - fail')       \n",
    "        \n",
    "    A3 = [10, 20, 30, 10, 10]\n",
    "    m = array_search(A3, len(A3), 10)\n",
    "    if m == 0:\n",
    "        print('test3 - ok')\n",
    "    else:\n",
    "        print('test3 - fail')  \n",
    "        \n",
    "test_array_search()"
   ]
  },
  {
   "cell_type": "markdown",
   "id": "48edbe7d-0747-45a4-8189-f4ee38c265fb",
   "metadata": {},
   "source": [
    "**Биннарный поиск** - при биннарном поиске каждый раз исключается половина чисел, выполняется в отсортировонном массиве $O(log_2n)$, то есть для поиска элемента в 128 потребуется 7 операций. "
   ]
  },
  {
   "cell_type": "code",
   "execution_count": 101,
   "id": "dc86dcc2-57f0-4117-973f-75eb12a8cbfa",
   "metadata": {},
   "outputs": [
    {
     "name": "stdout",
     "output_type": "stream",
     "text": [
      "test1:  Ok\n",
      "test2:  Ok\n",
      "test3:  Ok\n",
      "test4:  Ok\n",
      "test5:  Ok\n"
     ]
    }
   ],
   "source": [
    "def binary_search(list, element):\n",
    "    \"\"\"\n",
    "    Выполняет бинарный поиск элемента в отсортированном списке, возвращает его номер позиции.\n",
    "    Если элемента нет - -1\n",
    "    \"\"\"\n",
    "    low_pos = 0\n",
    "    high_pos = len(list) - 1\n",
    "    \n",
    "    while low_pos <= high_pos:\n",
    "        mid = (low_pos + high_pos) // 2\n",
    "        guess = list[mid]\n",
    "        if guess==element:\n",
    "            return mid\n",
    "        elif guess>element:\n",
    "            high_pos = mid - 1\n",
    "        else:\n",
    "            low_pos = mid + 1\n",
    "    return -1\n",
    "        \n",
    "\n",
    "def test_binary_search():\n",
    "    A = [-9, -4, 0, 2, 3, 4, 5, 6, 15, 25.3]\n",
    "    pos = binary_search(A, 6)\n",
    "\n",
    "    print(\"test1: \", 'Ok' if pos==7 else 'Fail')\n",
    "\n",
    "    pos = binary_search(A, 0)\n",
    "    print(\"test2: \", 'Ok' if pos==2 else 'Fail')\n",
    "    \n",
    "    pos = binary_search(A, -4)\n",
    "    print(\"test3: \", 'Ok' if pos==1 else 'Fail')\n",
    "    \n",
    "    pos = binary_search(A, 25.3)\n",
    "    print(\"test4: \", 'Ok' if pos==9 else 'Fail')\n",
    "    \n",
    "    pos = binary_search(A, -2)\n",
    "    print(\"test5: \", 'Ok' if pos==-1 else 'Fail')\n",
    "    \n",
    "test_binary_search()"
   ]
  },
  {
   "cell_type": "markdown",
   "id": "64bf95a1-6c53-425f-bc38-04b43a7103a1",
   "metadata": {},
   "source": [
    "**Копирование массива**\n"
   ]
  },
  {
   "cell_type": "code",
   "execution_count": 7,
   "id": "51e58993-93e7-4318-ac19-4a67028d0f4c",
   "metadata": {},
   "outputs": [
    {
     "name": "stdin",
     "output_type": "stream",
     "text": [
      "Number of elements:  6\n",
      " 35\n",
      " 4\n",
      " 5\n",
      " 7\n",
      " 5\n",
      " 4\n"
     ]
    },
    {
     "name": "stdout",
     "output_type": "stream",
     "text": [
      "A:  [35, 4, 5, 7, 5, 4]\n",
      "B:  [35, 4, 5, 7, 5, 4]\n"
     ]
    }
   ],
   "source": [
    "N = int(input('Number of elements: ')) # задаем количество элементов массива\n",
    "A = [0] * N\n",
    "B = [0] * N\n",
    "\n",
    "for k in range(N):\n",
    "    A[k] = int(input()) # вводим с клавиатуры все элементы\n",
    "for k in range(N):\n",
    "    B[k] = A[k]\n",
    "print('A: ', A)\n",
    "print('B: ', B)"
   ]
  },
  {
   "cell_type": "markdown",
   "id": "0220a027-e07c-462f-9193-3d461a7bbd58",
   "metadata": {},
   "source": [
    "Если просто присвоить значения массива другому имени - создастся только ссылка на старый объект, а не создастся новый объект. Если изменить какой-нибудь элемент - он поменяется и в ссылке и наоборот:"
   ]
  },
  {
   "cell_type": "code",
   "execution_count": 11,
   "id": "582cb8b2-0981-4d96-8b8e-c3b264a52320",
   "metadata": {},
   "outputs": [
    {
     "name": "stdout",
     "output_type": "stream",
     "text": [
      "[35, 4, 5, 888, 5, 4]\n",
      "[35, 4, 5, 777, 5, 4]\n",
      "[35, 4, 5, 888, 5, 4]\n"
     ]
    }
   ],
   "source": [
    "C = A \n",
    "print(C)\n",
    "A[3] = 777\n",
    "print(C)\n",
    "C[3] = 888\n",
    "print(A)"
   ]
  },
  {
   "cell_type": "markdown",
   "id": "41aa19a8-5ae0-4abc-b0b9-ec70e84fc25b",
   "metadata": {},
   "source": [
    "*2 способ (покороче)*"
   ]
  },
  {
   "cell_type": "code",
   "execution_count": 14,
   "id": "74dc07ae-2e74-45ed-b0c3-e39364824e16",
   "metadata": {},
   "outputs": [
    {
     "name": "stdout",
     "output_type": "stream",
     "text": [
      "[3, 6, 5, 4, 8]\n",
      "A: [3, 6, 5, 4, 8] \n",
      "B: [3, 6, 5, 555, 8]\n"
     ]
    }
   ],
   "source": [
    "A = [3, 6, 5, 4, 8]\n",
    "B = list(A) # создаст новый список на основе списка А\n",
    "print(B)\n",
    "\n",
    "\n",
    "B[3] = 555\n",
    "print('A:', A, '\\nB:', B)"
   ]
  },
  {
   "cell_type": "markdown",
   "id": "808fe75f-2447-4531-b33e-8aba22f8c728",
   "metadata": {},
   "source": [
    "**Копирование задом наперед**"
   ]
  },
  {
   "cell_type": "code",
   "execution_count": 23,
   "id": "30ddc72f-4866-4589-b723-1b5cf4bd73a0",
   "metadata": {},
   "outputs": [
    {
     "name": "stdin",
     "output_type": "stream",
     "text": [
      "Number of elements:  4\n",
      " 2\n",
      " 3\n",
      " 4\n",
      " 5\n"
     ]
    },
    {
     "name": "stdout",
     "output_type": "stream",
     "text": [
      "A:  [2, 3, 4, 5]\n",
      "B:  [5, 4, 3, 2]\n"
     ]
    }
   ],
   "source": [
    "N = int(input('Number of elements: ')) # задаем количество элементов массива\n",
    "A = [0] * N\n",
    "B = [0] * N\n",
    "\n",
    "for k in range(N):\n",
    "    A[k] = int(input()) # вводим с клавиатуры все элементы\n",
    "for k in range(N):\n",
    "    B[k] = A[N-1-k]\n",
    "print('A: ', A)\n",
    "print('B: ', B)"
   ]
  },
  {
   "cell_type": "markdown",
   "id": "8f048c74-00cf-4fe3-bc37-dc20a9bf3077",
   "metadata": {},
   "source": [
    "**Алгоритм обращения массива (меняет массив в самом себе)**"
   ]
  },
  {
   "cell_type": "code",
   "execution_count": 26,
   "id": "0cc0d43f-5561-408d-8308-1dcf513ecc19",
   "metadata": {},
   "outputs": [
    {
     "name": "stdout",
     "output_type": "stream",
     "text": [
      "A1 before:  [1, 2, 3, 4, 5]\n",
      "A1 after:  [5, 4, 3, 2, 1]\n",
      "test1 - ok\n",
      "A2 before:  [0, 0, 0, 0, 0, 10]\n",
      "A2 after:  [10, 0, 0, 0, 0, 0]\n",
      "test2 - ok\n"
     ]
    }
   ],
   "source": [
    "def invert_array(A: list, N: int):\n",
    "    \"\"\"\n",
    "    Обращение массива (поворот задом наперед) в рамках индекса массива\n",
    "    \"\"\"\n",
    "    for k in range(N//2):\n",
    "        A[k], A[N-1-k] = A[N-1-k], A[k]\n",
    "#     for k in range(N):\n",
    "#         A[k] = A[N-1-k] # так элементы просто перетирают половину массива\n",
    "#     for k in range(N):\n",
    "#         A[k], A[N-1-k] = A[N-1-k], A[k] # так элементы поменяются два раза (массив останется исходный)\n",
    "        \n",
    "def test_invert_array():\n",
    "    A1 = [1, 2, 3, 4, 5]\n",
    "    print('A1 before: ', A1)\n",
    "    invert_array(A1, len(A1))\n",
    "    print('A1 after: ', A1)\n",
    "    if A1 == [5, 4, 3, 2, 1]:\n",
    "        print('test1 - ok')\n",
    "    else:\n",
    "        print('test1 - fail')\n",
    "\n",
    "    A2 = [0, 0, 0, 0, 0, 10]\n",
    "    print('A2 before: ', A2)\n",
    "    invert_array(A2, len(A2))\n",
    "    print('A2 after: ', A2)\n",
    "    if A2 == [10, 0, 0, 0, 0, 0]:\n",
    "        print('test2 - ok')\n",
    "    else:\n",
    "        print('test2 - fail')  \n",
    "        \n",
    "test_invert_array()"
   ]
  },
  {
   "cell_type": "markdown",
   "id": "1cedc7cb-9ddd-4ed3-9fbb-59e68a3dd249",
   "metadata": {},
   "source": [
    "**Циклический сдвиг** - влево и вправо. Влево - Сдвигаются элементs массива на единицу, а первый встанет в конец массива"
   ]
  },
  {
   "cell_type": "code",
   "execution_count": 32,
   "id": "908da54c-0059-4fd7-b842-897cb99b4ea7",
   "metadata": {},
   "outputs": [
    {
     "name": "stdout",
     "output_type": "stream",
     "text": [
      "[3, 4, 5, 6, 2]\n"
     ]
    }
   ],
   "source": [
    "# Влево\n",
    "A = [2,3,4,5,6]\n",
    "N = len(A)\n",
    "tmp = A[0]\n",
    "for i in range(N-1):\n",
    "    A[i] = A[i+1]\n",
    "A[N-1] = tmp\n",
    "print(A)"
   ]
  },
  {
   "cell_type": "code",
   "execution_count": 33,
   "id": "916f1923-dfaf-4474-8972-50e263fa73fd",
   "metadata": {},
   "outputs": [
    {
     "name": "stdout",
     "output_type": "stream",
     "text": [
      "[6, 2, 3, 4, 5]\n"
     ]
    }
   ],
   "source": [
    "# Вправо\n",
    "A = [2,3,4,5,6]\n",
    "N = len(A)\n",
    "tmp = A[N-1]\n",
    "for i in range(N-2, -1, -1):\n",
    "    A[i+1] = A[i]\n",
    "A[0] = tmp\n",
    "print(A)"
   ]
  },
  {
   "cell_type": "markdown",
   "id": "5f774f01-5d76-436f-8a79-85ac411d0d6e",
   "metadata": {},
   "source": [
    "**Решето Эратосфена** - алгоритм нахождения простых чисел от 0 до N"
   ]
  },
  {
   "cell_type": "code",
   "execution_count": 38,
   "id": "6432b50d-45df-45e9-8efe-a36b084ce937",
   "metadata": {},
   "outputs": [
    {
     "name": "stdin",
     "output_type": "stream",
     "text": [
      "End of array:  25\n"
     ]
    },
    {
     "name": "stdout",
     "output_type": "stream",
     "text": [
      "0 - составное\n",
      "1 - составное\n",
      "2 - простое\n",
      "3 - простое\n",
      "4 - составное\n",
      "5 - простое\n",
      "6 - составное\n",
      "7 - простое\n",
      "8 - составное\n",
      "9 - составное\n",
      "10 - составное\n",
      "11 - простое\n",
      "12 - составное\n",
      "13 - простое\n",
      "14 - составное\n",
      "15 - составное\n",
      "16 - составное\n",
      "17 - простое\n",
      "18 - составное\n",
      "19 - простое\n",
      "20 - составное\n",
      "21 - составное\n",
      "22 - составное\n",
      "23 - простое\n",
      "24 - составное\n"
     ]
    }
   ],
   "source": [
    "n = int(input('End of array: '))\n",
    "a = [True]*n\n",
    "a[0] = a[1] = False\n",
    "for k in range(2, n):\n",
    "     if a[k]:\n",
    "        for m in range(2*k, n, k):\n",
    "             a[m] = False\n",
    "for k in range(n):\n",
    "    print(k, '-', 'простое' if a[k] else 'составное')"
   ]
  },
  {
   "cell_type": "markdown",
   "id": "9a4d37f7-3f10-4610-9d04-ecf74ca70d02",
   "metadata": {},
   "source": [
    "**Создание нового массива из элементов первого** (четные, возведенные в квадрат)"
   ]
  },
  {
   "cell_type": "code",
   "execution_count": 63,
   "id": "84e5c480-622d-436b-a2e7-88210d41c096",
   "metadata": {},
   "outputs": [
    {
     "name": "stdout",
     "output_type": "stream",
     "text": [
      " [0, 1, 2, 9, 4, 25, 6, 49, 8, 81, 10, 121, 12, 169, 14, 225, 16, 289, 18, 361] \n",
      " [0, 4, 16, 36, 64, 100, 144, 196, 256, 324]\n"
     ]
    }
   ],
   "source": [
    "A = [x if x%2==0 else x**2 for x in range(20)]\n",
    "# A = [x*3 for x in range(20) if x%2!=0, else x]\n",
    "# B = []\n",
    "# for x in A:\n",
    "#     if x % 2 == 0:\n",
    "#         B.append(x**2)\n",
    "\n",
    "print('',A, '\\n',B)"
   ]
  },
  {
   "cell_type": "code",
   "execution_count": 67,
   "id": "591990a9-17d8-4384-96de-1c8f2b33246c",
   "metadata": {},
   "outputs": [
    {
     "data": {
      "text/plain": [
       "[0, 4, 16, 36, 64, 100, 144, 196, 256, 324]"
      ]
     },
     "execution_count": 67,
     "metadata": {},
     "output_type": "execute_result"
    }
   ],
   "source": [
    "B = [x**2 for x in A if x%2==0]\n",
    "# B = [0 if x%2!=0 else x**2 for x in A]\n",
    "B"
   ]
  },
  {
   "cell_type": "markdown",
   "id": "00a775d4-6b66-4145-bcfd-f4bf6abbc514",
   "metadata": {},
   "source": [
    "## Алгоритмы сортировки"
   ]
  },
  {
   "cell_type": "markdown",
   "id": "75924027-274d-4e95-8b43-95537d1bcdbb",
   "metadata": {},
   "source": [
    "**Квадратичные сортировки** - $O(N^2)$ это означает, что количество операций, нужных для того, чтобы массив отсортировать примерно равен $N^2$, где N - длина массива  \n",
    "\n",
    "__1.__ Вставками (incert sort)  - Суть его заключается в том что, на каждом шаге алгоритма мы берем один из элементов массива, находим позицию для вставки и вставляем. Стоит отметить что массив из 1-го элемента считается отсортированным.   \n",
    "\n",
    "*Прапорщик берет одного солдата и ищет куда его поставить*  \n",
    "N-1 проход алгоритма  \n",
    "4 + 3 + 2 + 1 проход, сумма = $\\frac{N(N-1)}{2} \\Rightarrow O(N^2)$"
   ]
  },
  {
   "cell_type": "markdown",
   "id": "b64f38e0-fa18-49c7-ab68-fe484fd73863",
   "metadata": {},
   "source": [
    "__2.__ Методом выбора (Choise sort) - находим номер минимального значения в текущем списке, \n",
    "производим обмен этого значения со значением первой неотсортированной позиции (обмен не нужен, если минимальный элемент уже находится на данной позиции), затем сортируем хвост списка, исключив из рассмотрения уже отсортированные элементы  \n",
    "\n",
    "*Прапорщик пойдет по солдатам, найдет самого маленького и поменяет местами его с тем, кто стоит на месте, где должен самый низкий стоять (текущий минимум)*\n",
    "N-1 проход алгоритма "
   ]
  },
  {
   "cell_type": "markdown",
   "id": "5484add8-3106-4213-a2cb-fa287f066eef",
   "metadata": {},
   "source": [
    "__3.__ Методом пузырька (Bouble sort) - Алгоритм состоит из повторяющихся проходов по сортируемому массиву. За каждый проход элементы последовательно сравниваются попарно и, если порядок в паре неверный, выполняется перестановка элементов. Проходы по массиву повторяются \n",
    "N-1 раз или до тех пор, пока на очередном проходе не окажется, что обмены больше не нужны, что означает — массив отсортирован. При каждом проходе алгоритма по внутреннему циклу, очередной наибольший элемент массива ставится на своё место в конце массива рядом с предыдущим «наибольшим элементом», а наименьший элемент перемещается на одну позицию к началу массива («всплывает» до нужной позиции, как пузырёк в воде — отсюда и название алгоритма).\n",
    "\n",
    "*Близорукий прапорщик - видит, что два солдата стоят неправильно, говорит - неправильно стоите, поменяйтесь и пошел дальше. В итоге, самый высокий будет в конце*  \n",
    "4 + 3 + 2 + 1 проход, сумма = $\\frac{N(N-1)}{2} \\Rightarrow O(N^2)$"
   ]
  },
  {
   "cell_type": "code",
   "execution_count": 85,
   "id": "e5b18217-41cd-43b5-a208-eba131edff99",
   "metadata": {},
   "outputs": [
    {
     "name": "stdout",
     "output_type": "stream",
     "text": [
      "Test of:  Сортировка списка А вставкой\n",
      "testcase #1: OK\n",
      "testcase #2: OK\n",
      "testcase #2: OK\n",
      "Test of:  Сортировка списка А выбором\n",
      "testcase #1: OK\n",
      "testcase #2: OK\n",
      "testcase #2: OK\n",
      "Test of:  Сортировка списка А пузырьком\n",
      "testcase #1: OK\n",
      "testcase #2: OK\n",
      "testcase #2: OK\n"
     ]
    }
   ],
   "source": [
    "def insert_sort(A):\n",
    "    \"\"\"Сортировка списка А вставкой\"\"\"\n",
    "    N = len(A)\n",
    "    for top in range(1, N):\n",
    "        k = top\n",
    "        while k>0 and A[k-1] > A[k]:\n",
    "            A[k], A[k-1] = A[k-1], A[k]\n",
    "            k -= 1\n",
    "\n",
    "def choise_sort(A):\n",
    "    \"\"\"Сортировка списка А выбором\"\"\"\n",
    "    N = len(A)\n",
    "    for pos in range(0, N-1):\n",
    "        for k in range(pos + 1, N):\n",
    "            if A[k] < A[pos]:\n",
    "                A[k], A[pos] = A[pos], A[k]\n",
    "\n",
    "def bubble_sort(A):\n",
    "    \"\"\"Сортировка списка А пузырьком\"\"\"\n",
    "    N = len(A)\n",
    "    for bypass in range(1, N):\n",
    "        for k in range(0, N-bypass):\n",
    "            if A[k] > A[k+1]:\n",
    "                A[k], A[k+1] = A[k+1], A[k]\n",
    "\n",
    "def test_sort(sort_algorithm):\n",
    "    print(\"Test of: \", sort_algorithm.__doc__)\n",
    "    print(\"testcase #1: \", end=\"\")\n",
    "    A = [4, 2, 5, 1, 3]\n",
    "    A_sorted = [1, 2, 3, 4, 5]\n",
    "    sort_algorithm(A)\n",
    "    print(\"OK\" if A == A_sorted else \"Fail\")\n",
    "    \n",
    "    print(\"testcase #2: \", end=\"\")\n",
    "    A = list(range(10, 20)) + list(range(0, 10))\n",
    "    A_sorted = list(range(0, 20))\n",
    "    sort_algorithm(A)\n",
    "    print(\"OK\" if A == A_sorted else \"Fail\")\n",
    "    \n",
    "    print(\"testcase #2: \", end=\"\")\n",
    "    A = [4, 2, 4, 2, 1]\n",
    "    A_sorted = [1, 2, 2, 4, 4]\n",
    "    sort_algorithm(A)\n",
    "    print(\"OK\" if A == A_sorted else \"Fail\")\n",
    "    \n",
    "if __name__ == \"__main__\":\n",
    "    test_sort(insert_sort)\n",
    "    test_sort(choise_sort)\n",
    "    test_sort(bubble_sort)"
   ]
  },
  {
   "cell_type": "markdown",
   "id": "5df12be5-0954-4604-84ba-b8660ad1e925",
   "metadata": {},
   "source": [
    "__4.__ Сортировка подсчетом  (Count sort)- позволяет сортировать очень большое количество данных очень быстро.  \n",
    "О(N) - однопроходный алгоритм\n",
    "O(M) памяти, где М - кол-во различных элементов  \n",
    "В этом алгоритме мы считаем количество вхождений уникальных элементов (диапазон допустимых значений должен быть маленьким) Подсчет частоты вхождения элементов называется **частотный анализ**"
   ]
  },
  {
   "cell_type": "code",
   "execution_count": 87,
   "id": "b4ac4a00-4c9c-42b6-b5cc-285e4bf90651",
   "metadata": {},
   "outputs": [
    {
     "name": "stdin",
     "output_type": "stream",
     "text": [
      " 1\n",
      " 4\n",
      " 6\n",
      " 4\n",
      " 6\n",
      " 7\n",
      " 8\n",
      " 6\n",
      " 4\n",
      " 6\n"
     ]
    }
   ],
   "source": [
    "N = 10\n",
    "F = [0]*N\n",
    "for i in range(N):\n",
    "    x = int(input())\n",
    "    F[x] +=1"
   ]
  },
  {
   "cell_type": "code",
   "execution_count": null,
   "id": "dd356997-e9e9-4e19-aca5-0db15c00459f",
   "metadata": {},
   "outputs": [],
   "source": []
  }
 ],
 "metadata": {
  "kernelspec": {
   "display_name": "Python 3",
   "language": "python",
   "name": "python3"
  },
  "language_info": {
   "codemirror_mode": {
    "name": "ipython",
    "version": 3
   },
   "file_extension": ".py",
   "mimetype": "text/x-python",
   "name": "python",
   "nbconvert_exporter": "python",
   "pygments_lexer": "ipython3",
   "version": "3.9.5"
  }
 },
 "nbformat": 4,
 "nbformat_minor": 5
}
