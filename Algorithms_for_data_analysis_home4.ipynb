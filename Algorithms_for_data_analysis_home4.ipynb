{
 "cells": [
  {
   "cell_type": "code",
   "execution_count": 75,
   "id": "b71d4235-d8c3-4b12-884f-223d44f9a07d",
   "metadata": {
    "id": "b71d4235-d8c3-4b12-884f-223d44f9a07d"
   },
   "outputs": [],
   "source": [
    "import numpy as np\n",
    "from sklearn import datasets\n",
    "from sklearn.model_selection import train_test_split"
   ]
  },
  {
   "cell_type": "code",
   "execution_count": 155,
   "id": "7JsIvF_xWxCk",
   "metadata": {
    "id": "7JsIvF_xWxCk"
   },
   "outputs": [],
   "source": [
    "def r2(y_true, y_pred):\n",
    "    n = len(y_true)\n",
    "    r2 = 1 - ((1/n * np.sum((y_true - y_pred)**2))/(1/n * np.sum((y_true - np.mean(y_true))**2)))\n",
    "    return r2"
   ]
  },
  {
   "cell_type": "markdown",
   "id": "7faadc6c-76c2-4d2c-9f2b-98dbaaebfa7e",
   "metadata": {
    "id": "7faadc6c-76c2-4d2c-9f2b-98dbaaebfa7e"
   },
   "source": [
    "__1.__  В коде из методички реализуйте один или несколько из критериев останова (количество листьев, количество используемых признаков, глубина дерева и т.д.).\n",
    "\n",
    "Критерии остнова: \n",
    "\n",
    "- Ограничение максимальной глубины дерева.\n",
    "\n",
    "\n",
    "- Ограничение максимального количества листьев.\n",
    "\n",
    "\n",
    "- Ограничение минимального количества $n$ объектов в листе.\n",
    "\n",
    "\n",
    "- Останов в случае, когда все объекты в листе относятся к одному классу."
   ]
  },
  {
   "cell_type": "code",
   "execution_count": 18,
   "id": "9ea0afb3-3bd7-44aa-b9a5-dfa0a97782fa",
   "metadata": {
    "colab": {
     "base_uri": "https://localhost:8080/"
    },
    "id": "9ea0afb3-3bd7-44aa-b9a5-dfa0a97782fa",
    "outputId": "4e8939e9-6c4e-4f1c-d8f7-85f726c5adf1"
   },
   "outputs": [
    {
     "name": "stdout",
     "output_type": "stream",
     "text": [
      "(100, 2)\n"
     ]
    }
   ],
   "source": [
    "# сгенерируем данные\n",
    "classification_data, classification_labels = datasets.make_classification(n_features=2, n_informative=2, \n",
    "                                                                 n_classes=2, n_redundant=0,\n",
    "                                                                 n_clusters_per_class=1, random_state=5)\n",
    "\n",
    "train_data, test_data, train_labels, test_labels = train_test_split(classification_data, \n",
    "                                                                    classification_labels, \n",
    "                                                                    test_size=0.3,\n",
    "                                                                    random_state=1)\n",
    "\n",
    "print(classification_data.shape)"
   ]
  },
  {
   "cell_type": "code",
   "execution_count": 3,
   "id": "8n9XXmQrBwtH",
   "metadata": {
    "id": "8n9XXmQrBwtH"
   },
   "outputs": [],
   "source": [
    "# Реализуем класс узла\n",
    "\n",
    "class Node:\n",
    "    \n",
    "    def __init__(self, index, t, true_branch, false_branch):\n",
    "        self.index = index  # индекс признака, по которому ведется сравнение с порогом в этом узле\n",
    "        self.t = t  # значение порога\n",
    "        self.true_branch = true_branch  # поддерево, удовлетворяющее условию в узле\n",
    "        self.false_branch = false_branch  # поддерево, не удовлетворяющее условию в узле"
   ]
  },
  {
   "cell_type": "code",
   "execution_count": 4,
   "id": "1orsYeIcB0hY",
   "metadata": {
    "id": "1orsYeIcB0hY"
   },
   "outputs": [],
   "source": [
    "# И класс терминального узла (листа)\n",
    "\n",
    "class Leaf:\n",
    "    \n",
    "    def __init__(self, data, labels):\n",
    "        self.data = data\n",
    "        self.labels = labels\n",
    "        self.prediction = self.predict()\n",
    "        \n",
    "    def predict(self):\n",
    "        # подсчет количества объектов разных классов\n",
    "        classes = {}  # сформируем словарь \"класс: количество объектов\"\n",
    "        for label in self.labels:\n",
    "            if label not in classes:\n",
    "                classes[label] = 0\n",
    "            classes[label] += 1\n",
    "            \n",
    "        # найдем класс, количество объектов которого будет максимальным в этом листе и вернем его    \n",
    "        prediction = max(classes, key=classes.get)\n",
    "        return prediction        "
   ]
  },
  {
   "cell_type": "markdown",
   "id": "vpYai58FCCZc",
   "metadata": {
    "id": "vpYai58FCCZc"
   },
   "source": [
    "\n",
    "$$H(X) = \\sum^{K}_{k=1}p_{k}(1-p_{k}) = 1 - \\sum_{k=1}^K{p_k^2} ,$$"
   ]
  },
  {
   "cell_type": "code",
   "execution_count": 5,
   "id": "gCiCuk297uVw",
   "metadata": {
    "id": "gCiCuk297uVw"
   },
   "outputs": [],
   "source": [
    "# Расчет критерия Джини\n",
    "\n",
    "def gini(labels):\n",
    "    labels = list(labels)\n",
    "\n",
    "    #  подсчет количества объектов разных классов\n",
    "    classes = {}\n",
    "    for label in labels:\n",
    "        if label not in classes:\n",
    "            classes[label] = 0\n",
    "        classes[label] += 1\n",
    "    \n",
    "    #  расчет критерия\n",
    "    gini = 1\n",
    "    for label in classes:\n",
    "        p = classes[label] / len(labels)\n",
    "        gini -= p ** 2\n",
    "        \n",
    "    return gini"
   ]
  },
  {
   "cell_type": "markdown",
   "id": "czrxmd9UTN_a",
   "metadata": {
    "id": "czrxmd9UTN_a"
   },
   "source": [
    "$$H(X_{m}) - \\frac{|X_{l}|}{|X_{m}|}H(X_{l}) - \\frac{|X_{r}|}{|X_{m}|}H(X_{r}),$$"
   ]
  },
  {
   "cell_type": "code",
   "execution_count": 6,
   "id": "lGT87Z4YCPwE",
   "metadata": {
    "id": "lGT87Z4YCPwE"
   },
   "outputs": [],
   "source": [
    "# Расчет прироста\n",
    "\n",
    "def gain(left_labels, right_labels, root_gini):\n",
    "\n",
    "    # доля выборки, ушедшая в левое поддерево\n",
    "    p = float(left_labels.shape[0]) / (left_labels.shape[0] + right_labels.shape[0])\n",
    "    \n",
    "    return root_gini - p * gini(left_labels) - (1 - p) * gini(right_labels)"
   ]
  },
  {
   "cell_type": "code",
   "execution_count": 7,
   "id": "sAExKBM0CRkr",
   "metadata": {
    "id": "sAExKBM0CRkr"
   },
   "outputs": [],
   "source": [
    "# Разбиение датасета в узле\n",
    "\n",
    "def split(data, labels, column_index, t):\n",
    "    \n",
    "    left = np.where(data[:, column_index] <= t)\n",
    "    right = np.where(data[:, column_index] > t)\n",
    "        \n",
    "    true_data = data[left]\n",
    "    false_data = data[right]\n",
    "    \n",
    "    true_labels = labels[left]\n",
    "    false_labels = labels[right]\n",
    "        \n",
    "    return true_data, false_data, true_labels, false_labels"
   ]
  },
  {
   "cell_type": "code",
   "execution_count": 8,
   "id": "xjOAJhGWCW2K",
   "metadata": {
    "id": "xjOAJhGWCW2K"
   },
   "outputs": [],
   "source": [
    "# Нахождение наилучшего разбиения\n",
    "\n",
    "def find_best_split(data, labels):\n",
    "    \n",
    "    #  обозначим минимальное количество объектов в узле\n",
    "    min_samples_leaf = 5\n",
    "\n",
    "    root_gini = gini(labels)\n",
    "\n",
    "    best_gain = 0\n",
    "    best_t = None\n",
    "    best_index = None\n",
    "    \n",
    "    n_features = data.shape[1]\n",
    "    \n",
    "    for index in range(n_features):\n",
    "        # будем проверять только уникальные значения признака, исключая повторения\n",
    "        t_values = np.unique(data[:, index])\n",
    "        \n",
    "        for t in t_values:\n",
    "            true_data, false_data, true_labels, false_labels = split(data, labels, index, t)\n",
    "            #  пропускаем разбиения, в которых в узле остается менее 5 объектов\n",
    "            if len(true_data) < min_samples_leaf or len(false_data) < min_samples_leaf:\n",
    "                continue\n",
    "            \n",
    "            current_gain = gain(true_labels, false_labels, root_gini)\n",
    "            \n",
    "            #  выбираем порог, на котором получается максимальный прирост качества\n",
    "            if current_gain > best_gain:\n",
    "                best_gain, best_t, best_index = current_gain, t, index\n",
    "\n",
    "    return best_gain, best_t, best_index"
   ]
  },
  {
   "cell_type": "code",
   "execution_count": 34,
   "id": "He7QUqYvCccu",
   "metadata": {
    "id": "He7QUqYvCccu"
   },
   "outputs": [],
   "source": [
    "# Построение дерева с помощью рекурсивной функции\n",
    "\n",
    "def build_tree(data, labels, max_deep=5, one_class_stop=False):\n",
    "\n",
    "    gain, t, index = find_best_split(data, labels)\n",
    "    \n",
    "    # Ограничение глубины дерева\n",
    "    if max_deep == 0:\n",
    "        return Leaf(data, labels)\n",
    "\n",
    "    # Остановка, если все объекты в листе одного класса\n",
    "    if one_class_stop:\n",
    "        leaf = Leaf(data, labels)\n",
    "        if len(set(leaf.labels)) == 1:\n",
    "            return Leaf(data, labels)\n",
    "\n",
    "    #  Базовый случай - прекращаем рекурсию, когда нет прироста в качества\n",
    "    if gain == 0:\n",
    "        return Leaf(data, labels)\n",
    "\n",
    "    # Случай с ограниченной глубиной дерева\n",
    "    \n",
    "    true_data, false_data, true_labels, false_labels = split(data, labels, index, t)\n",
    "    # max_deep-=1\n",
    "\n",
    "    # Рекурсивно строим два поддерева\n",
    "    true_branch = build_tree(true_data, true_labels, max_deep-1)\n",
    "    import time\n",
    "    print(time.time(), true_branch)\n",
    "    false_branch = build_tree(false_data, false_labels, max_deep-1)\n",
    "    \n",
    "    print(time.time(), false_branch)\n",
    "    \n",
    "    # Возвращаем класс узла со всеми поддеревьями, то есть целого дерева\n",
    "    return Node(index, t, true_branch, false_branch)"
   ]
  },
  {
   "cell_type": "code",
   "execution_count": 12,
   "id": "-oiTbHdyCj0z",
   "metadata": {
    "id": "-oiTbHdyCj0z"
   },
   "outputs": [],
   "source": [
    "def classify_object(obj, node):\n",
    "\n",
    "    #  Останавливаем рекурсию, если достигли листа\n",
    "    if isinstance(node, Leaf):\n",
    "        answer = node.prediction\n",
    "        return answer\n",
    "\n",
    "    if obj[node.index] <= node.t:\n",
    "        return classify_object(obj, node.true_branch)\n",
    "    else:\n",
    "        return classify_object(obj, node.false_branch)"
   ]
  },
  {
   "cell_type": "code",
   "execution_count": 13,
   "id": "6IpIvj9FCmSk",
   "metadata": {
    "id": "6IpIvj9FCmSk"
   },
   "outputs": [],
   "source": [
    "def predict(data, tree):\n",
    "    \n",
    "    classes = []\n",
    "    for obj in data:\n",
    "        prediction = classify_object(obj, tree)\n",
    "        classes.append(prediction)\n",
    "    return classes"
   ]
  },
  {
   "cell_type": "code",
   "execution_count": 35,
   "id": "KWFt7ntL0C55",
   "metadata": {
    "colab": {
     "base_uri": "https://localhost:8080/"
    },
    "id": "KWFt7ntL0C55",
    "outputId": "07388ae4-63c5-4c82-cb2d-35637aa44f99"
   },
   "outputs": [
    {
     "name": "stdout",
     "output_type": "stream",
     "text": [
      "1629623100.5399032 <__main__.Leaf object at 0x7fd89f255d50>\n",
      "1629623100.540945 <__main__.Leaf object at 0x7fd89f255e10>\n",
      "1629623100.541391 <__main__.Node object at 0x7fd89f255c90>\n",
      "1629623100.5429788 <__main__.Leaf object at 0x7fd89f255290>\n",
      "1629623100.5434399 <__main__.Node object at 0x7fd89f255cd0>\n",
      "1629623100.5452614 <__main__.Leaf object at 0x7fd89f255a90>\n"
     ]
    }
   ],
   "source": [
    "my_tree = build_tree(train_data, train_labels,\n",
    "                    #  max_deep=1, \n",
    "                     one_class_stop=True\n",
    "                     )"
   ]
  },
  {
   "cell_type": "code",
   "execution_count": 25,
   "id": "u8dqKXQz0UkV",
   "metadata": {
    "colab": {
     "base_uri": "https://localhost:8080/"
    },
    "id": "u8dqKXQz0UkV",
    "outputId": "ba889c55-7363-41c6-c0af-7646b69ef0e4"
   },
   "outputs": [
    {
     "name": "stdout",
     "output_type": "stream",
     "text": [
      "Индекс 0 <= 0.16261402870113306\n",
      "--> True:\n",
      "  Индекс 1 <= -1.5208896621663803\n",
      "  --> True:\n",
      "    Индекс 0 <= -0.9478301462477035\n",
      "    --> True:\n",
      "      Прогноз: 0\n",
      "    --> False:\n",
      "      Прогноз: 1\n",
      "  --> False:\n",
      "    Прогноз: 0\n",
      "--> False:\n",
      "  Прогноз: 1\n"
     ]
    }
   ],
   "source": [
    "def print_tree(node, spacing=\"\"):\n",
    "\n",
    "    # Если лист, то выводим его прогноз\n",
    "    if isinstance(node, Leaf):\n",
    "        print(spacing + \"Прогноз:\", node.prediction)\n",
    "        return\n",
    "\n",
    "    # Выведем значение индекса и порога на этом узле\n",
    "    print(spacing + 'Индекс', str(node.index), '<=', str(node.t))\n",
    "\n",
    "    # Рекурсионный вызов функции на положительном поддереве\n",
    "    print (spacing + '--> True:')\n",
    "    print_tree(node.true_branch, spacing + \"  \")\n",
    "\n",
    "    # Рекурсионный вызов функции на отрицательном поддереве\n",
    "    print (spacing + '--> False:')\n",
    "    print_tree(node.false_branch, spacing + \"  \")\n",
    "    \n",
    "print_tree(my_tree)"
   ]
  },
  {
   "cell_type": "markdown",
   "id": "9df68546-2c48-476f-800b-245f0de244c8",
   "metadata": {
    "id": "9df68546-2c48-476f-800b-245f0de244c8"
   },
   "source": [
    "__2*.__ Реализуйте дерево для задачи регрессии. Возьмите за основу дерево, реализованное в методичке, заменив механизм предсказания в листе на взятие среднего значения по выборке, и критерий Джини на дисперсию значений."
   ]
  },
  {
   "cell_type": "code",
   "execution_count": 51,
   "id": "x0VSxZlbtCht",
   "metadata": {
    "id": "x0VSxZlbtCht"
   },
   "outputs": [],
   "source": [
    "# сгенерируем набор данных\n",
    "X, Y, coef = datasets.make_regression(n_samples=1000, n_features=2, n_informative=2, n_targets=1, \n",
    "                                      noise=5, coef=True, random_state=2)\n",
    "\n",
    "X[:, 0] *= 10\n",
    "\n",
    "train_data, test_data, train_values, test_values = train_test_split(X, \n",
    "                                                                    Y, \n",
    "                                                                    test_size=0.3,\n",
    "                                                                    random_state=1)\n"
   ]
  },
  {
   "cell_type": "code",
   "execution_count": 52,
   "id": "ShH5a9ZYPGix",
   "metadata": {
    "id": "ShH5a9ZYPGix"
   },
   "outputs": [],
   "source": [
    "# Реализуем класс узла\n",
    "\n",
    "class Node:\n",
    "    \n",
    "    def __init__(self, index, t, true_branch, false_branch):\n",
    "        self.index = index  # индекс признака, по которому ведется сравнение с порогом в этом узле\n",
    "        self.t = t  # значение порога\n",
    "        self.true_branch = true_branch  # поддерево, удовлетворяющее условию в узле\n",
    "        self.false_branch = false_branch  # поддерево, не удовлетворяющее условию в узле"
   ]
  },
  {
   "cell_type": "code",
   "execution_count": 62,
   "id": "FK0QWgrSOwqp",
   "metadata": {
    "id": "FK0QWgrSOwqp"
   },
   "outputs": [],
   "source": [
    "# И класс терминального узла (листа)\n",
    "\n",
    "class Leaf:\n",
    "    \n",
    "    def __init__(self, data, values):\n",
    "        self.data = data\n",
    "        self.values = values\n",
    "        self.prediction = self.predict()\n",
    "        \n",
    "    def predict(self):\n",
    "        # найдем среднее арифметическое от всех значений в листе и вернем его    \n",
    "        prediction = np.mean(self.values)\n",
    "        return prediction        "
   ]
  },
  {
   "cell_type": "code",
   "execution_count": 63,
   "id": "gFXXRgBWLKSs",
   "metadata": {
    "id": "gFXXRgBWLKSs"
   },
   "outputs": [],
   "source": [
    "def mse(array):\n",
    "    mean = array.mean()\n",
    "    return np.mean((array - mean)**2)"
   ]
  },
  {
   "cell_type": "code",
   "execution_count": 64,
   "id": "mv2ecS-EPOV_",
   "metadata": {
    "id": "mv2ecS-EPOV_"
   },
   "outputs": [],
   "source": [
    "# Расчет прироста\n",
    "\n",
    "def gain(left_values, right_values, root_mse):\n",
    "\n",
    "    # доля выборки, ушедшая в левое поддерево\n",
    "    p = float(left_values.shape[0]) / (left_values.shape[0] + right_values.shape[0])\n",
    "    \n",
    "    return root_mse - p * mse(left_values) - (1 - p) * mse(right_values)"
   ]
  },
  {
   "cell_type": "code",
   "execution_count": 65,
   "id": "yxzrcSYjQ1PY",
   "metadata": {
    "id": "yxzrcSYjQ1PY"
   },
   "outputs": [],
   "source": [
    "# Разбиение датасета в узле\n",
    "\n",
    "def split(data, values, column_index, t):\n",
    "    \n",
    "    left = np.where(data[:, column_index] <= t)\n",
    "    right = np.where(data[:, column_index] > t)\n",
    "        \n",
    "    true_data = data[left]\n",
    "    false_data = data[right]\n",
    "    \n",
    "    true_values = values[left]\n",
    "    false_values = values[right]\n",
    "        \n",
    "    return true_data, false_data, true_values, false_values"
   ]
  },
  {
   "cell_type": "code",
   "execution_count": 66,
   "id": "v5KK806QRPfK",
   "metadata": {
    "id": "v5KK806QRPfK"
   },
   "outputs": [],
   "source": [
    "# Нахождение наилучшего разбиения\n",
    "\n",
    "def find_best_split(data, values):\n",
    "    \n",
    "    #  обозначим минимальное количество объектов в узле\n",
    "    min_samples_leaf = 5\n",
    "\n",
    "    root_mse = mse(values)\n",
    "\n",
    "    best_gain = 0\n",
    "    best_t = None\n",
    "    best_index = None\n",
    "    \n",
    "    n_features = data.shape[1]\n",
    "    \n",
    "    for index in range(n_features):\n",
    "        # будем проверять только уникальные значения признака, исключая повторения\n",
    "        t_values = np.unique(data[:, index])\n",
    "        \n",
    "        for t in t_values:\n",
    "            true_data, false_data, true_values, false_values = split(data, values, index, t)\n",
    "            #  пропускаем разбиения, в которых в узле остается менее 5 объектов\n",
    "            if len(true_data) < min_samples_leaf or len(false_data) < min_samples_leaf:\n",
    "                continue\n",
    "            \n",
    "            current_gain = gain(true_values, false_values, root_mse)\n",
    "            \n",
    "            #  выбираем порог, на котором получается максимальный прирост качества\n",
    "            if current_gain > best_gain:\n",
    "                best_gain, best_t, best_index = current_gain, t, index\n",
    "\n",
    "    return best_gain, best_t, best_index"
   ]
  },
  {
   "cell_type": "code",
   "execution_count": 67,
   "id": "_kqdG8lCRwAs",
   "metadata": {
    "id": "_kqdG8lCRwAs"
   },
   "outputs": [],
   "source": [
    "# Построение дерева с помощью рекурсивной функции\n",
    "\n",
    "def build_tree(data, values, max_deep=5):\n",
    "\n",
    "    gain, t, index = find_best_split(data, values)\n",
    "    \n",
    "    # Ограничение глубины дерева\n",
    "    if max_deep == 0:\n",
    "        return Leaf(data, values)\n",
    "\n",
    "\n",
    "    #  Базовый случай - прекращаем рекурсию, когда нет прироста в качества\n",
    "    if gain == 0:\n",
    "        return Leaf(data, values)\n",
    "\n",
    "    # Случай с ограниченной глубиной дерева\n",
    "    \n",
    "    true_data, false_data, true_values, false_values = split(data, values, index, t)\n",
    "\n",
    "    # Рекурсивно строим два поддерева\n",
    "    true_branch = build_tree(true_data, true_values, max_deep-1)\n",
    "    import time\n",
    "    print(time.time(), true_branch)\n",
    "    false_branch = build_tree(false_data, false_values, max_deep-1)\n",
    "    \n",
    "    print(time.time(), false_branch)\n",
    "    \n",
    "    # Возвращаем класс узла со всеми поддеревьями, то есть целого дерева\n",
    "    return Node(index, t, true_branch, false_branch)"
   ]
  },
  {
   "cell_type": "code",
   "execution_count": 68,
   "id": "e0heXXv7SXoU",
   "metadata": {
    "id": "e0heXXv7SXoU"
   },
   "outputs": [],
   "source": [
    "def classify_object(obj, node):\n",
    "\n",
    "    #  Останавливаем рекурсию, если достигли листа\n",
    "    if isinstance(node, Leaf):\n",
    "        answer = node.prediction\n",
    "        return answer\n",
    "\n",
    "    if obj[node.index] <= node.t:\n",
    "        return classify_object(obj, node.true_branch)\n",
    "    else:\n",
    "        return classify_object(obj, node.false_branch)"
   ]
  },
  {
   "cell_type": "code",
   "execution_count": 69,
   "id": "UBqz0sxWSiRq",
   "metadata": {
    "id": "UBqz0sxWSiRq"
   },
   "outputs": [],
   "source": [
    "def predict(data, tree):\n",
    "    \n",
    "    values = []\n",
    "    for obj in data:\n",
    "        prediction = classify_object(obj, tree)\n",
    "        values.append(prediction)\n",
    "    return values"
   ]
  },
  {
   "cell_type": "code",
   "execution_count": 70,
   "id": "ZWcLpHMjSz0g",
   "metadata": {
    "colab": {
     "base_uri": "https://localhost:8080/"
    },
    "id": "ZWcLpHMjSz0g",
    "outputId": "86ffeb51-2221-4f4b-9ef9-c5148f5c7937"
   },
   "outputs": [
    {
     "name": "stdout",
     "output_type": "stream",
     "text": [
      "1629626495.6758003 <__main__.Leaf object at 0x7fd89f235e10>\n",
      "1629626495.6818473 <__main__.Leaf object at 0x7fd89f235f10>\n",
      "1629626495.6848898 <__main__.Leaf object at 0x7fd89f235d90>\n",
      "1629626495.6856427 <__main__.Node object at 0x7fd89f235fd0>\n",
      "1629626495.685717 <__main__.Node object at 0x7fd89f276850>\n",
      "1629626495.7210908 <__main__.Leaf object at 0x7fd89f302cd0>\n",
      "1629626495.7274182 <__main__.Leaf object at 0x7fd89f235dd0>\n",
      "1629626495.7282414 <__main__.Node object at 0x7fd89f276b10>\n",
      "1629626495.7427998 <__main__.Leaf object at 0x7fd89f276350>\n",
      "1629626495.7518928 <__main__.Leaf object at 0x7fd89f276c90>\n",
      "1629626495.752625 <__main__.Node object at 0x7fd89f276a90>\n",
      "1629626495.752698 <__main__.Node object at 0x7fd89f276550>\n",
      "1629626495.752761 <__main__.Node object at 0x7fd89f238110>\n",
      "1629626495.7787561 <__main__.Leaf object at 0x7fd89f276790>\n",
      "1629626495.7806108 <__main__.Leaf object at 0x7fd89f276c50>\n",
      "1629626495.7807 <__main__.Node object at 0x7fd89f276210>\n",
      "1629626495.7842243 <__main__.Leaf object at 0x7fd89f276a50>\n",
      "1629626495.7855947 <__main__.Leaf object at 0x7fd89f2765d0>\n",
      "1629626495.7856889 <__main__.Node object at 0x7fd89f276090>\n",
      "1629626495.7857542 <__main__.Node object at 0x7fd89f238150>\n",
      "1629626495.810864 <__main__.Leaf object at 0x7fd89f276590>\n",
      "1629626495.8153174 <__main__.Leaf object at 0x7fd89f2763d0>\n",
      "1629626495.8159902 <__main__.Node object at 0x7fd89f276410>\n",
      "1629626495.8234165 <__main__.Leaf object at 0x7fd89f276610>\n",
      "1629626495.8238564 <__main__.Leaf object at 0x7fd89f238190>\n",
      "1629626495.8239233 <__main__.Node object at 0x7fd89f238410>\n",
      "1629626495.8239808 <__main__.Node object at 0x7fd89f238650>\n",
      "1629626495.8240366 <__main__.Node object at 0x7fd89f238890>\n",
      "1629626495.8240857 <__main__.Node object at 0x7fd89f238ad0>\n",
      "1629626495.89848 <__main__.Leaf object at 0x7fd89f276dd0>\n",
      "1629626495.9025712 <__main__.Leaf object at 0x7fd89f235e90>\n",
      "1629626495.902662 <__main__.Node object at 0x7fd89f238d50>\n",
      "1629626495.9055831 <__main__.Leaf object at 0x7fd89f276510>\n",
      "1629626495.9061828 <__main__.Leaf object at 0x7fd89f238bd0>\n",
      "1629626495.9062576 <__main__.Node object at 0x7fd89f2389d0>\n",
      "1629626495.9063287 <__main__.Node object at 0x7fd89f238710>\n",
      "1629626495.9454143 <__main__.Leaf object at 0x7fd89f235f50>\n",
      "1629626495.9583192 <__main__.Leaf object at 0x7fd89f2769d0>\n",
      "1629626495.9584975 <__main__.Node object at 0x7fd89f2383d0>\n",
      "1629626495.9677632 <__main__.Leaf object at 0x7fd8a03468d0>\n",
      "1629626495.9688876 <__main__.Leaf object at 0x7fd89f32bc90>\n",
      "1629626495.9689696 <__main__.Node object at 0x7fd89f32b790>\n",
      "1629626495.9690297 <__main__.Node object at 0x7fd89f276450>\n",
      "1629626495.9691174 <__main__.Node object at 0x7fd89f276ad0>\n",
      "1629626496.010728 <__main__.Leaf object at 0x7fd89f276c10>\n",
      "1629626496.0150282 <__main__.Leaf object at 0x7fd89f276390>\n",
      "1629626496.0157723 <__main__.Node object at 0x7fd89f2761d0>\n",
      "1629626496.0340261 <__main__.Leaf object at 0x7fd89f276990>\n",
      "1629626496.036657 <__main__.Leaf object at 0x7fd89f276a10>\n",
      "1629626496.0367632 <__main__.Node object at 0x7fd89f276e50>\n",
      "1629626496.0368402 <__main__.Node object at 0x7fd89f32b6d0>\n",
      "1629626496.043114 <__main__.Leaf object at 0x7fd89f32b810>\n",
      "1629626496.044668 <__main__.Leaf object at 0x7fd89f32b710>\n",
      "1629626496.044765 <__main__.Node object at 0x7fd89f2766d0>\n",
      "1629626496.0467577 <__main__.Leaf object at 0x7fd89f32b9d0>\n",
      "1629626496.0468428 <__main__.Node object at 0x7fd89f276d10>\n",
      "1629626496.0468981 <__main__.Node object at 0x7fd89f332ed0>\n",
      "1629626496.04695 <__main__.Node object at 0x7fd89f332650>\n"
     ]
    }
   ],
   "source": [
    "my_tree = build_tree(train_data, train_values)"
   ]
  },
  {
   "cell_type": "code",
   "execution_count": 71,
   "id": "e-3qJ422Th1P",
   "metadata": {
    "id": "e-3qJ422Th1P"
   },
   "outputs": [],
   "source": [
    "train_answers = predict(train_data, my_tree)\n",
    "answers = predict(test_data, my_tree)"
   ]
  },
  {
   "cell_type": "code",
   "execution_count": 73,
   "id": "UAqlyMaVWO0Q",
   "metadata": {
    "colab": {
     "base_uri": "https://localhost:8080/"
    },
    "id": "UAqlyMaVWO0Q",
    "outputId": "042c3983-80fe-49c3-e571-f495d25fca90"
   },
   "outputs": [
    {
     "data": {
      "text/plain": [
       "0.9465266944201165"
      ]
     },
     "execution_count": 73,
     "metadata": {},
     "output_type": "execute_result"
    }
   ],
   "source": [
    "r2(train_values, train_answers)"
   ]
  }
 ],
 "metadata": {
  "colab": {
   "collapsed_sections": [],
   "name": "Algorithms_for_data_analysis_home4.ipynb",
   "provenance": []
  },
  "kernelspec": {
   "display_name": "Python 3",
   "language": "python",
   "name": "python3"
  },
  "language_info": {
   "codemirror_mode": {
    "name": "ipython",
    "version": 3
   },
   "file_extension": ".py",
   "mimetype": "text/x-python",
   "name": "python",
   "nbconvert_exporter": "python",
   "pygments_lexer": "ipython3",
   "version": "3.9.5"
  }
 },
 "nbformat": 4,
 "nbformat_minor": 5
}
