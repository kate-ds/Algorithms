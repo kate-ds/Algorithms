{
 "cells": [
  {
   "cell_type": "markdown",
   "id": "7faadc6c-76c2-4d2c-9f2b-98dbaaebfa7e",
   "metadata": {},
   "source": [
    "__1.__ Подберите скорость обучения (eta) и количество итераций"
   ]
  },
  {
   "cell_type": "code",
   "execution_count": 78,
   "id": "3436acda-0fd2-44c4-b50e-7674fd0887a3",
   "metadata": {},
   "outputs": [],
   "source": [
    "import numpy as np\n",
    "\n",
    "def calc_mae(y, y_pred):\n",
    "    err = np.mean(np.abs(y - y_pred))\n",
    "    return err\n",
    "\n",
    "def calc_mse(y, y_pred):\n",
    "    err = np.mean((y - y_pred)**2)\n",
    "    return err"
   ]
  },
  {
   "cell_type": "code",
   "execution_count": 79,
   "id": "65d1e0b7-a847-413a-87bf-985a8024a6ea",
   "metadata": {},
   "outputs": [],
   "source": [
    "X = np.array([[ 1,  1],\n",
    "              [ 1,  1],\n",
    "              [ 1,  2],\n",
    "              [ 1,  5],\n",
    "              [ 1,  3],\n",
    "              [ 1,  0],\n",
    "              [ 1,  5],\n",
    "              [ 1, 10],\n",
    "              [ 1,  1],\n",
    "              [ 1,  2]])\n",
    "y = [45, 55, 50, 55, 60, 35, 75, 80, 50, 60]"
   ]
  },
  {
   "cell_type": "code",
   "execution_count": 21,
   "id": "caf8cdb3-fbaa-4055-b58d-473c3a229738",
   "metadata": {},
   "outputs": [
    {
     "name": "stdout",
     "output_type": "stream",
     "text": [
      "Number of objects = 10            \n",
      "Learning rate = 0.1            \n",
      "Initial weights = [1.  0.5] \n",
      "\n",
      "Iteration #0: W_new = [11.8 38.2], MSE = 3047.75\n",
      "Iteration #10: W_new = [12651.73553914 69617.0969639 ], MSE = 18310954068.05\n",
      "Iteration #20: W_new = [ 7732434.81888021 42641607.37852183], MSE = 9128819654907562.0\n",
      "Iteration #30: W_new = [1.06344502e+09 5.86454589e+09], MSE = 2.327920364266843e+20\n",
      "Iteration #40: W_new = [3.00127077e+10 1.65510116e+11], MSE = 2.545133529815938e+23\n",
      "Iteration #50: W_new = [1.55345341e+11 8.56677968e+11], MSE = 9.572295620500076e+24\n",
      "Iteration #60: W_new = [1.27742291e+11 7.04456313e+11], MSE = 9.351480126475979e+24\n",
      "Iteration #70: W_new = [1.38141953e+10 7.61806995e+10], MSE = 1.6408589528283915e+23\n",
      "Iteration #80: W_new = [1.51674189e+08 8.36432543e+08], MSE = 3.1255335378744566e+19\n",
      "Iteration #90: W_new = [116395.49982731 641638.79865272], MSE = 31317286806394.36\n",
      "Iteration #100: W_new = [48.41962673 22.99884593], MSE = 53518.86\n",
      "Iteration #110: W_new = [44.97713318  3.82798809], MSE = 43.97\n",
      "Iteration #120: W_new = [44.99893395  3.82402672], MSE = 43.97\n",
      "Iteration #130: W_new = [45.0138644   3.82131932], MSE = 43.97\n"
     ]
    }
   ],
   "source": [
    "def gradient_descent(X, learning_rate=1e-2, n_iter=100):\n",
    "    \"\"\"Алгоритм градиентного спуска, завершающий работу по истечении заданного числа итераций\"\"\"\n",
    "    n = X.shape[0]\n",
    "    W = np.array([1, 0.5])\n",
    "    print(f'Number of objects = {n} \\\n",
    "           \\nLearning rate = {learning_rate} \\\n",
    "           \\nInitial weights = {W} \\n')\n",
    "    for i in range(n_iter):\n",
    "        y_pred = np.dot(X, W)\n",
    "        err = calc_mse(y, y_pred)\n",
    "        for k in range(W.shape[0]):\n",
    "            W[k] -= learning_rate * (1/n * 2 * X[:, k] @ (y_pred - y))\n",
    "        if i % 10 == 0:\n",
    "            learning_rate /= 1.1\n",
    "            print(f'Iteration #{i}: W_new = {W}, MSE = {round(err, 2)}')\n",
    "            \n",
    "gradient_descent(X, learning_rate=1e-1, n_iter=140)"
   ]
  },
  {
   "cell_type": "markdown",
   "id": "50411261-b272-4f92-85b9-279b314f0b01",
   "metadata": {},
   "source": [
    "__2*.__ В этом коде мы избавляемся от итераций по весам, но тут есть ошибка, исправьте ее."
   ]
  },
  {
   "cell_type": "code",
   "execution_count": 84,
   "id": "ead2063a-e5b1-4adf-b18a-4b8e9aee83ef",
   "metadata": {},
   "outputs": [
    {
     "name": "stdout",
     "output_type": "stream",
     "text": [
      "Number of objects = 10        \n",
      "Learning rate = 0.03        \n",
      "Initial weights = [1.  0.5] \n",
      "\n",
      "Iteration #0: W_new = [ 4.24 11.81], MSE = 3047.75\n",
      "Iteration #10: W_new = [14.05036364  9.43607278], MSE = 522.79\n",
      "Iteration #20: W_new = [21.56325286  8.07372615], MSE = 318.89\n",
      "Iteration #30: W_new = [27.25609642  7.04141675], MSE = 201.82\n",
      "Iteration #40: W_new = [31.56981205  6.25919093], MSE = 134.61\n",
      "Iteration #50: W_new = [34.83850237  5.66646433], MSE = 96.01\n",
      "Iteration #60: W_new = [37.31533146  5.21732957], MSE = 73.85\n",
      "Iteration #70: W_new = [39.1921328   4.87700058], MSE = 61.13\n",
      "Iteration #80: W_new = [40.61426696  4.61911848], MSE = 53.82\n",
      "Iteration #90: W_new = [41.69187999  4.42370997], MSE = 49.62\n",
      "Iteration #100: W_new = [42.50843433  4.27564043], MSE = 47.22\n",
      "Iteration #110: W_new = [43.12717315  4.16344169], MSE = 45.83\n",
      "Iteration #120: W_new = [43.59601851  4.07842381], MSE = 45.04\n",
      "Iteration #130: W_new = [43.95128307  4.01400206], MSE = 44.58\n",
      "Iteration #140: W_new = [44.22048251  3.96518689], MSE = 44.32\n",
      "Iteration #150: W_new = [44.42446665  3.92819751], MSE = 44.17\n",
      "Iteration #160: W_new = [44.57903433  3.90016905], MSE = 44.09\n",
      "Iteration #170: W_new = [44.69615699  3.87893066], MSE = 44.04\n",
      "Iteration #180: W_new = [44.78490594  3.8628374 ], MSE = 44.01\n",
      "Iteration #190: W_new = [44.85215488  3.85064284], MSE = 43.99\n",
      "Iteration #200: W_new = [44.90311234  3.84140249], MSE = 43.98\n",
      "Iteration #210: W_new = [44.94172502  3.83440068], MSE = 43.98\n",
      "Iteration #220: W_new = [44.97098354  3.8290951 ], MSE = 43.97\n",
      "Iteration #230: W_new = [44.99315399  3.82507483], MSE = 43.97\n",
      "Iteration #240: W_new = [45.00995351  3.8220285 ], MSE = 43.97\n"
     ]
    }
   ],
   "source": [
    "n = X.shape[0]\n",
    "\n",
    "# ИЗМЕНЕНИЯ\n",
    "eta = 3e-2 \n",
    "n_iter = 250\n",
    "\n",
    "W = np.array([1, 0.5])\n",
    "print(f'Number of objects = {n} \\\n",
    "       \\nLearning rate = {eta} \\\n",
    "       \\nInitial weights = {W} \\n')\n",
    "\n",
    "for i in range(n_iter):\n",
    "    y_pred = np.dot(X, W)\n",
    "    err = calc_mse(y, y_pred)\n",
    "    # ИЗМЕНЕНИЯ X.T\n",
    "    W -= eta * (1/n * 2 * np.dot(X.T, (y_pred - y)))  \n",
    "    if i % 10 == 0:\n",
    "        print(f'Iteration #{i}: W_new = {W}, MSE = {round(err,2)}')"
   ]
  },
  {
   "cell_type": "markdown",
   "id": "9354cd5f-8c41-4c54-b0e0-4e1d8d95485a",
   "metadata": {},
   "source": [
    "__3*.__ Вместо того, чтобы задавать количество итераций, задайте другое условие останова алгоритма - когда веса перестают изменяться меньше определенного порога $\\epsilon$."
   ]
  },
  {
   "cell_type": "code",
   "execution_count": 107,
   "id": "fdd32cb1-f1e1-4513-b80d-531c0db06c12",
   "metadata": {},
   "outputs": [
    {
     "name": "stdout",
     "output_type": "stream",
     "text": [
      "Iter 0: MSE - 3047.75, weights: [ 6.4  19.35]\n",
      "Iter 10: MSE - 379.601698386165, weights: [19.96966932  8.87179137]\n",
      "Iter 20: MSE - 172.92529491633329, weights: [29.27719328  6.70531799]\n",
      "Iter 30: MSE - 94.66354586632977, weights: [35.16120834  5.60976141]\n",
      "Iter 40: MSE - 63.90183716864531, weights: [38.85365942  4.93848587]\n",
      "Iter 50: MSE - 51.80641289622787, weights: [41.16920131  4.51849616]\n",
      "Iter 60: MSE - 47.050508496091695, weights: [42.62118483  4.25519525]\n",
      "Iter 70: MSE - 45.18049329075705, weights: [43.53165976  4.0900943 ]\n",
      "Iter 80: MSE - 44.44520583018881, weights: [44.10257814  3.98656703]\n",
      "Iter 90: MSE - 44.156091790833514, weights: [44.46057568  3.9216497 ]\n",
      "Iter 100: MSE - 44.04241253988077, weights: [44.68506002  3.88094292]\n",
      "Iter 110: MSE - 43.99771401148693, weights: [44.82582417  3.85541751]\n",
      "Iter 120: MSE - 43.980138610313645, weights: [44.91409111  3.83941166]\n",
      "Iter 130: MSE - 43.973227986239394, weights: [44.96943938  3.82937511]\n",
      "Iter 140: MSE - 43.97051073815926, weights: [45.00414582  3.82308163]\n",
      "Iter 150: MSE - 43.96944231987321, weights: [45.02590869  3.81913527]\n",
      "Iter 160: MSE - 43.969022219241864, weights: [45.03955522  3.81666068]\n",
      "Iter 170: MSE - 43.96885703623932, weights: [45.04811235  3.81510898]\n",
      "Iter 180: MSE - 43.968792086505175, weights: [45.05347814  3.81413597]\n",
      "Iter 190: MSE - 43.96876654835715, weights: [45.05684279  3.81352585]\n",
      "Iter 200: MSE - 43.96875650679174, weights: [45.05895262  3.81314326]\n",
      "Iter 210: MSE - 43.96875255846175, weights: [45.06027559  3.81290336]\n",
      "Iter 220: MSE - 43.96875100598372, weights: [45.06110517  3.81275293]\n",
      "Iter 230: MSE - 43.96875039555143, weights: [45.06162537  3.8126586 ]\n",
      "Iter 240: MSE - 43.9687501555303, weights: [45.06195156  3.81259945]\n",
      "Iter 250: MSE - 43.968750061154296, weights: [45.0621561   3.81256236]\n",
      "Iter 260: MSE - 43.96875002404579, weights: [45.06228435  3.8125391 ]\n",
      "Iter 270: MSE - 43.96875000945478, weights: [45.06236478  3.81252452]\n",
      "Iter 280: MSE - 43.9687500037176, weights: [45.06241521  3.81251538]\n",
      "Iter 290: MSE - 43.96875000146176, weights: [45.06244683  3.81250964]\n",
      "Iter 300: MSE - 43.96875000057475, weights: [45.06246666  3.81250605]\n",
      "Iter 310: MSE - 43.968750000225995, weights: [45.06247909  3.81250379]\n",
      "Iter 320: MSE - 43.96875000008887, weights: [45.06248689  3.81250238]\n",
      "Iter 330: MSE - 43.968750000034944, weights: [45.06249178  3.81250149]\n",
      "Iter 340: MSE - 43.96875000001374, weights: [45.06249485  3.81250093]\n",
      "Iter 350: MSE - 43.96875000000541, weights: [45.06249677  3.81250059]\n",
      "Iter 360: MSE - 43.96875000000214, weights: [45.06249797  3.81250037]\n"
     ]
    }
   ],
   "source": [
    "def gradient_descent2(X, y, learning_rate=1e-3):\n",
    "    \"\"\"Алгоритм градиентного спуска, завершающий работу, когда веса перестают менятся\"\"\"\n",
    "    e = 1e-7\n",
    "    dist = np.inf\n",
    "    w = np.array([1, 0.5])\n",
    "    i = 0\n",
    "    while dist > e and i<10000:\n",
    "        y_pred = np.dot(X,w)\n",
    "        dQ = 2 / len(y) * np.dot(X.T, y_pred - y)\n",
    "        W = w - learning_rate * dQ\n",
    "        dist = np.linalg.norm(W - w, ord=2)\n",
    "        err = calc_mse(y, y_pred)\n",
    "        if i % 10 == 0:\n",
    "            print(f'Iter {i}: MSE - {err}, weights: {W}')\n",
    "        i += 1\n",
    "        w = W\n",
    "        \n",
    "gradient_descent2(X, y, learning_rate=50e-3)"
   ]
  },
  {
   "cell_type": "code",
   "execution_count": null,
   "id": "6d7dbcb6-7345-4bf0-8bac-098d40b1400a",
   "metadata": {},
   "outputs": [],
   "source": []
  }
 ],
 "metadata": {
  "kernelspec": {
   "display_name": "Python 3",
   "language": "python",
   "name": "python3"
  },
  "language_info": {
   "codemirror_mode": {
    "name": "ipython",
    "version": 3
   },
   "file_extension": ".py",
   "mimetype": "text/x-python",
   "name": "python",
   "nbconvert_exporter": "python",
   "pygments_lexer": "ipython3",
   "version": "3.9.5"
  }
 },
 "nbformat": 4,
 "nbformat_minor": 5
}
