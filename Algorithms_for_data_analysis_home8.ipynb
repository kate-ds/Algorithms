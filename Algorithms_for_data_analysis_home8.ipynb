{
  "nbformat": 4,
  "nbformat_minor": 5,
  "metadata": {
    "colab": {
      "name": "Algorithms_for_data_analysis_home8.ipynb",
      "provenance": [],
      "collapsed_sections": []
    },
    "kernelspec": {
      "display_name": "Python 3",
      "language": "python",
      "name": "python3"
    },
    "language_info": {
      "codemirror_mode": {
        "name": "ipython",
        "version": 3
      },
      "file_extension": ".py",
      "mimetype": "text/x-python",
      "name": "python",
      "nbconvert_exporter": "python",
      "pygments_lexer": "ipython3",
      "version": "3.9.5"
    }
  },
  "cells": [
    {
      "cell_type": "code",
      "metadata": {
        "id": "b71d4235-d8c3-4b12-884f-223d44f9a07d"
      },
      "source": [
        "import numpy as np\n",
        "from sklearn import datasets \n",
        "from sklearn.model_selection import train_test_split\n",
        "\n",
        "import warnings\n",
        "warnings.filterwarnings('ignore')"
      ],
      "id": "b71d4235-d8c3-4b12-884f-223d44f9a07d",
      "execution_count": 1,
      "outputs": []
    },
    {
      "cell_type": "markdown",
      "metadata": {
        "id": "7faadc6c-76c2-4d2c-9f2b-98dbaaebfa7e"
      },
      "source": [
        "__1.__  Обучить любую модель классификации на датасете IRIS до применения самописного PCA (2 компоненты) и после него. Сравнить качество классификации по отложенной выборке."
      ],
      "id": "7faadc6c-76c2-4d2c-9f2b-98dbaaebfa7e"
    },
    {
      "cell_type": "code",
      "metadata": {
        "id": "MerhSJmKlTDL"
      },
      "source": [
        "def standard_scale(X):\n",
        "    res = (X - X.mean(axis=0)) / X.std(axis=0)\n",
        "    return res"
      ],
      "id": "MerhSJmKlTDL",
      "execution_count": 2,
      "outputs": []
    },
    {
      "cell_type": "code",
      "metadata": {
        "id": "-JzH7tQ1pkHQ"
      },
      "source": [
        "def accuracy(y, y_pred):\n",
        "  return np.sum(y == y_pred) / len(y)"
      ],
      "id": "-JzH7tQ1pkHQ",
      "execution_count": 3,
      "outputs": []
    },
    {
      "cell_type": "code",
      "metadata": {
        "id": "v4iE1wkYom7g"
      },
      "source": [
        "def e_metrics(x1, x2):\n",
        "    distance = np.sum(np.square(x1 - x2))\n",
        "    return np.sqrt(distance)"
      ],
      "id": "v4iE1wkYom7g",
      "execution_count": 4,
      "outputs": []
    },
    {
      "cell_type": "code",
      "metadata": {
        "id": "HHqO0OyQopJO"
      },
      "source": [
        "def knn(x_train, y_train, x_test, k, weights=False, q=0.5):\n",
        "    \n",
        "    answers = []\n",
        "    for x in x_test:\n",
        "        test_distances = []\n",
        "            \n",
        "        for i in range(len(x_train)):\n",
        "            \n",
        "            # расчет расстояния от классифицируемого объекта до\n",
        "            # объекта обучающей выборки\n",
        "            distance = e_metrics(x, x_train[i])\n",
        "            \n",
        "            # Записываем в список значение расстояния и ответ на объекте обучающей выборки\n",
        "            test_distances.append((distance, y_train[i]))\n",
        "        \n",
        "        # создаем словарь со всеми возможными классами\n",
        "        classes = {class_item: 0 for class_item in set(y_train)}\n",
        "        \n",
        "        # Сортируем список и среди первых k элементов \n",
        "        for d in sorted(test_distances)[0:k]:\n",
        "\n",
        "            if weights==True:\n",
        "              # расчитаем вес объекта  \n",
        "              weight = (q) ** d[0]\n",
        "              classes[d[1]] += weight\n",
        "            \n",
        "            else:\n",
        "              # подсчитаем частоту появления разных классов\n",
        "              classes[d[1]] += 1\n",
        "\n",
        "\n",
        "        # Записываем в список ответов наиболее часто встречающийся класс\n",
        "        answers.append(sorted(classes, key=classes.get)[-1])\n",
        "        \n",
        "    return answers"
      ],
      "id": "HHqO0OyQopJO",
      "execution_count": 5,
      "outputs": []
    },
    {
      "cell_type": "code",
      "metadata": {
        "id": "pytdgQpsrXsO"
      },
      "source": [
        "def pca(X, n_component):\n",
        "\n",
        "  # Найдем собственные векторы и собственные значения \n",
        "  covariance_matrix = X.T @ X\n",
        "  eig_values, eig_vectors = np.linalg.eig(covariance_matrix)\n",
        "\n",
        "  # сформируем список кортежей (собственное значение, собственный вектор)\n",
        "  eig_pairs = [(np.abs(eig_values[i]), eig_vectors[:, i]) for i in range(len(eig_values))]\n",
        "\n",
        "  # и отсортируем список по убыванию собственных значений\n",
        "  eig_pairs.sort(key=lambda x: x[0], reverse=True)\n",
        "\n",
        "  eig_sum = sum(eig_values)\n",
        "  var_exp = [(i / eig_sum) * 100 for i in sorted(eig_values, reverse=True)]\n",
        "  cum_var_exp = np.cumsum(var_exp)\n",
        "  print(f'Доля дисперсии, описываемая каждой из компонент \\n{var_exp}\\n')\n",
        "\n",
        "  # а теперь оценим кумулятивную (то есть накапливаемую) дисперсию при учитывании каждой из компонент\n",
        "  print(f'Кумулятивная доля дисперсии по компонентам \\n{cum_var_exp}\\n')\n",
        "\n",
        "  # Сформируем вектор весов из собственных векторов, соответствующих первым двум главным компонентам\n",
        "  W = np.hstack([eig_pairs[i][1].reshape(len(eig_pairs[i][1]),1) for i in range(n_component)])\n",
        "  print(f'Матрица весов W:\\n {W}\\n')\n",
        "\n",
        "  # Сформируем новую матрицу \"объекты-признаки\"\n",
        "  Z = X.dot(W)\n",
        "  return Z"
      ],
      "id": "pytdgQpsrXsO",
      "execution_count": 6,
      "outputs": []
    },
    {
      "cell_type": "code",
      "metadata": {
        "colab": {
          "base_uri": "https://localhost:8080/"
        },
        "id": "2557490d-e42d-4912-b9b6-d886c5915e95",
        "outputId": "1251b443-6cc3-4a78-8104-5f4b0eb41603"
      },
      "source": [
        "iris = datasets.load_iris()\n",
        "X = iris.data\n",
        "y = iris.target\n",
        "X.shape, y.shape"
      ],
      "id": "2557490d-e42d-4912-b9b6-d886c5915e95",
      "execution_count": 7,
      "outputs": [
        {
          "output_type": "execute_result",
          "data": {
            "text/plain": [
              "((150, 4), (150,))"
            ]
          },
          "metadata": {},
          "execution_count": 7
        }
      ]
    },
    {
      "cell_type": "code",
      "metadata": {
        "id": "Y5pTRbUolzla"
      },
      "source": [
        "# стандартизируем признаки\n",
        "\n",
        "X_standart = standard_scale(X)"
      ],
      "id": "Y5pTRbUolzla",
      "execution_count": 8,
      "outputs": []
    },
    {
      "cell_type": "code",
      "metadata": {
        "colab": {
          "base_uri": "https://localhost:8080/"
        },
        "id": "0xTLz_Hc1TDD",
        "outputId": "511251bd-ea42-484d-de76-580f11bbae06"
      },
      "source": [
        "# Разобьем датасет на train и test\n",
        "\n",
        "X_train, X_test, Y_train, Y_test = train_test_split(X_standart, y,\n",
        "                                                    test_size=0.3,\n",
        "                                                    random_state=24,\n",
        "                                                    stratify=y)\n",
        "X_train.shape, X_test.shape"
      ],
      "id": "0xTLz_Hc1TDD",
      "execution_count": 9,
      "outputs": [
        {
          "output_type": "execute_result",
          "data": {
            "text/plain": [
              "((105, 4), (45, 4))"
            ]
          },
          "metadata": {},
          "execution_count": 9
        }
      ]
    },
    {
      "cell_type": "code",
      "metadata": {
        "id": "KXq2HRcFp1in"
      },
      "source": [
        "# Получим предсказания для модели KNN без применения PCA\n",
        "y_pred = knn(X_train, Y_train, X_test, 5, weights=True)"
      ],
      "id": "KXq2HRcFp1in",
      "execution_count": 10,
      "outputs": []
    },
    {
      "cell_type": "code",
      "metadata": {
        "colab": {
          "base_uri": "https://localhost:8080/"
        },
        "id": "C-HliHbNu8yz",
        "outputId": "c539244e-d089-4caf-9c7e-9ed0f3acfe1b"
      },
      "source": [
        "# Применим алгоритм уменьшения размерности PCA\n",
        "\n",
        "X_pca = pca(X_standart, n_component=2)\n",
        "X_pca[:10]"
      ],
      "id": "C-HliHbNu8yz",
      "execution_count": 11,
      "outputs": [
        {
          "output_type": "stream",
          "name": "stdout",
          "text": [
            "Доля дисперсии, описываемая каждой из компонент \n",
            "[72.9624454132999, 22.850761786701742, 3.6689218892828737, 0.5178709107154724]\n",
            "\n",
            "Кумулятивная доля дисперсии по компонентам \n",
            "[ 72.96244541  95.8132072   99.48212909 100.        ]\n",
            "\n",
            "Матрица весов W:\n",
            " [[ 0.52106591 -0.37741762]\n",
            " [-0.26934744 -0.92329566]\n",
            " [ 0.5804131  -0.02449161]\n",
            " [ 0.56485654 -0.06694199]]\n",
            "\n"
          ]
        },
        {
          "output_type": "execute_result",
          "data": {
            "text/plain": [
              "array([[-2.26470281, -0.4800266 ],\n",
              "       [-2.08096115,  0.67413356],\n",
              "       [-2.36422905,  0.34190802],\n",
              "       [-2.29938422,  0.59739451],\n",
              "       [-2.38984217, -0.64683538],\n",
              "       [-2.07563095, -1.48917752],\n",
              "       [-2.44402884, -0.0476442 ],\n",
              "       [-2.23284716, -0.22314807],\n",
              "       [-2.33464048,  1.11532768],\n",
              "       [-2.18432817,  0.46901356]])"
            ]
          },
          "metadata": {},
          "execution_count": 11
        }
      ]
    },
    {
      "cell_type": "code",
      "metadata": {
        "colab": {
          "base_uri": "https://localhost:8080/"
        },
        "id": "zxLx4EqKv5gC",
        "outputId": "1e87e3e6-7c52-4609-e2ae-437469a3ed36"
      },
      "source": [
        "# Снова разобьем данные\n",
        "\n",
        "X_train_2, X_test_2, Y_train_2, Y_test_2 = train_test_split(X_pca, y,\n",
        "                                                            test_size=0.3,\n",
        "                                                            random_state=24,\n",
        "                                                            stratify=y)\n",
        "X_train_2.shape, X_test_2.shape"
      ],
      "id": "zxLx4EqKv5gC",
      "execution_count": 12,
      "outputs": [
        {
          "output_type": "execute_result",
          "data": {
            "text/plain": [
              "((105, 2), (45, 2))"
            ]
          },
          "metadata": {},
          "execution_count": 12
        }
      ]
    },
    {
      "cell_type": "code",
      "metadata": {
        "id": "d6tDeNkGv9WI"
      },
      "source": [
        "# Обучим модель KNN после применения PCA\n",
        "y_pred_pca = knn(X_train_2, Y_train_2, X_test_2, 5, weights=True)"
      ],
      "id": "d6tDeNkGv9WI",
      "execution_count": 13,
      "outputs": []
    },
    {
      "cell_type": "code",
      "metadata": {
        "colab": {
          "base_uri": "https://localhost:8080/"
        },
        "id": "TBx0hiKwu8jP",
        "outputId": "7b0a5d92-7825-4223-b5f6-843a877e9b6f"
      },
      "source": [
        "print(f'Модель KNN до применения PCA, accuracy: {accuracy(Y_test, y_pred):.4f}', \n",
        "      f'Модель KNN до применения PCA, accuracy: {accuracy(Y_test_2, y_pred_pca):.4f}', sep='\\n')\n"
      ],
      "id": "TBx0hiKwu8jP",
      "execution_count": 15,
      "outputs": [
        {
          "output_type": "stream",
          "name": "stdout",
          "text": [
            "Модель KNN до применения PCA, accuracy: 0.9778\n",
            "Модель KNN до применения PCA, accuracy: 0.9111\n"
          ]
        }
      ]
    },
    {
      "cell_type": "markdown",
      "metadata": {
        "id": "3dace522-a83a-456d-bb1e-1c9ae42398cd"
      },
      "source": [
        "__2*.__ Написать свою реализацию метода главных компонент с помощью сингулярного разложения с использованием функции `numpy.linalg.svd()`"
      ],
      "id": "3dace522-a83a-456d-bb1e-1c9ae42398cd"
    },
    {
      "cell_type": "code",
      "metadata": {
        "id": "TdUSk9D6-_w7"
      },
      "source": [
        "def svd(X, n_features):\n",
        "  '''Снижает размерность данных c помощью SVD до n_features'''\n",
        "\n",
        "  # получаем SVD разложение матрицы\n",
        "  U, S, W = np.linalg.svd(X)\n",
        "\n",
        "  # создадим матрицу из нулей размера, равного размеру матрицы X\n",
        "  D = np.zeros(X.shape)\n",
        "\n",
        "  # запомняем матрицу диагональными элементами\n",
        "  D[:X.shape[0], :X.shape[0]] = np.diag(S)\n",
        "  # D[np.diag_indices(min(a.shape))] = S\n",
        "\n",
        "  # сокращаем матрицы до нужного нам размера\n",
        "  D = D[:, :n_features]\n",
        "  W = W[:n_features, :]\n",
        "\n",
        "  # исходная матрица\n",
        "  X_base = U.dot(D.dot(W))\n",
        "  print(f'Base matrix:\\n {X_base}\\n')\n",
        "\n",
        "  # снижаем размерность\n",
        "  X_transform = U.dot(D)\n",
        "  # X_transform = A.dot(W.T)\n",
        "  print(f'Compressed matrix:\\n {X_transform}\\n')\n",
        "\n",
        "  return X_transform"
      ],
      "id": "TdUSk9D6-_w7",
      "execution_count": 16,
      "outputs": []
    },
    {
      "cell_type": "code",
      "metadata": {
        "colab": {
          "base_uri": "https://localhost:8080/"
        },
        "id": "gXKReMKmG3WD",
        "outputId": "8d809bd6-61b6-4f36-be7a-278ab9aed26a"
      },
      "source": [
        "X = np.array([[1, 2, 3, 4, 5], \n",
        "              [5, 6, 7, 8, 9],\n",
        "              [9, 10, 11, 12, 13]])\n",
        "\n",
        "X.shape"
      ],
      "id": "gXKReMKmG3WD",
      "execution_count": 17,
      "outputs": [
        {
          "output_type": "execute_result",
          "data": {
            "text/plain": [
              "(3, 5)"
            ]
          },
          "metadata": {},
          "execution_count": 17
        }
      ]
    },
    {
      "cell_type": "code",
      "metadata": {
        "colab": {
          "base_uri": "https://localhost:8080/"
        },
        "id": "4NOwZppTCDUg",
        "outputId": "27c4ee24-50a1-4aba-a594-b72dbc87eaa2"
      },
      "source": [
        "svd(X, 2)"
      ],
      "id": "4NOwZppTCDUg",
      "execution_count": 18,
      "outputs": [
        {
          "output_type": "stream",
          "name": "stdout",
          "text": [
            "Base matrix:\n",
            " [[ 1.  2.  3.  4.  5.]\n",
            " [ 5.  6.  7.  8.  9.]\n",
            " [ 9. 10. 11. 12. 13.]]\n",
            "\n",
            "Compressed matrix:\n",
            " [[ -7.1372378    2.01490362]\n",
            " [-15.95949868   0.54258812]\n",
            " [-24.78175956  -0.92972739]]\n",
            "\n"
          ]
        },
        {
          "output_type": "execute_result",
          "data": {
            "text/plain": [
              "array([[ -7.1372378 ,   2.01490362],\n",
              "       [-15.95949868,   0.54258812],\n",
              "       [-24.78175956,  -0.92972739]])"
            ]
          },
          "metadata": {},
          "execution_count": 18
        }
      ]
    },
    {
      "cell_type": "code",
      "metadata": {
        "colab": {
          "base_uri": "https://localhost:8080/"
        },
        "id": "IC1nLoWsIkGT",
        "outputId": "3b12a137-89e8-400e-a988-035080efe804"
      },
      "source": [
        "# Проверим, совпадают ли матрицы\n",
        "\n",
        "pca(X, 2)"
      ],
      "id": "IC1nLoWsIkGT",
      "execution_count": 19,
      "outputs": [
        {
          "output_type": "stream",
          "name": "stdout",
          "text": [
            "Доля дисперсии, описываемая каждой из компонент \n",
            "[99.43582362431287, 0.5641763756871232, 3.535940702564946e-15, -5.207539364016948e-18, -3.0580099788874984e-15]\n",
            "\n",
            "Кумулятивная доля дисперсии по компонентам \n",
            "[ 99.43582362 100.         100.         100.         100.        ]\n",
            "\n",
            "Матрица весов W:\n",
            " [[-0.33700462 -0.69744382]\n",
            " [-0.38905883 -0.3855298 ]\n",
            " [-0.44111304 -0.07361578]\n",
            " [-0.49316726  0.23829825]\n",
            " [-0.54522147  0.55021227]]\n",
            "\n"
          ]
        },
        {
          "output_type": "execute_result",
          "data": {
            "text/plain": [
              "array([[ -7.1372378 ,   2.01490362],\n",
              "       [-15.95949868,   0.54258812],\n",
              "       [-24.78175956,  -0.92972739]])"
            ]
          },
          "metadata": {},
          "execution_count": 19
        }
      ]
    }
  ]
}