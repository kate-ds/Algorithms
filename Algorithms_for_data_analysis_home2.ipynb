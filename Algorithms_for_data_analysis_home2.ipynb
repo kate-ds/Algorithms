{
  "nbformat": 4,
  "nbformat_minor": 5,
  "metadata": {
    "kernelspec": {
      "display_name": "Python 3",
      "language": "python",
      "name": "python3"
    },
    "language_info": {
      "codemirror_mode": {
        "name": "ipython",
        "version": 3
      },
      "file_extension": ".py",
      "mimetype": "text/x-python",
      "name": "python",
      "nbconvert_exporter": "python",
      "pygments_lexer": "ipython3",
      "version": "3.9.5"
    },
    "colab": {
      "name": "Algorithms_for_data_analysis_home2.ipynb",
      "provenance": [],
      "collapsed_sections": []
    }
  },
  "cells": [
    {
      "cell_type": "code",
      "metadata": {
        "id": "b71d4235-d8c3-4b12-884f-223d44f9a07d"
      },
      "source": [
        "import numpy as np\n",
        "import matplotlib.pyplot as plt\n",
        "import warnings\n",
        "warnings.filterwarnings('ignore')\n",
        "\n",
        "def calc_mae(y, y_pred):\n",
        "    err = np.mean(np.abs(y - y_pred))\n",
        "    return err\n",
        "\n",
        "def calc_mse(y, y_pred):\n",
        "    err = np.mean((y - y_pred)**2)\n",
        "    return err\n",
        "\n",
        "def min_max_scale(X):\n",
        "    return (X - X.min()) / (X.max() - X.min())\n",
        "\n",
        "def standard_scale(X):\n",
        "    mean = X.mean()\n",
        "    std = X.std()\n",
        "    return (X - mean) / std"
      ],
      "id": "b71d4235-d8c3-4b12-884f-223d44f9a07d",
      "execution_count": 1,
      "outputs": []
    },
    {
      "cell_type": "markdown",
      "metadata": {
        "id": "7faadc6c-76c2-4d2c-9f2b-98dbaaebfa7e"
      },
      "source": [
        "__1.__ Постройте график зависимости весов всех признаков от lambda в самописной L2-регуляризации (на данных про ЕГЭ). Сделайте вывод"
      ],
      "id": "7faadc6c-76c2-4d2c-9f2b-98dbaaebfa7e"
    },
    {
      "cell_type": "code",
      "metadata": {
        "id": "3b4edf0e-ff4f-43f0-b574-65d0f5228fda"
      },
      "source": [
        "X = np.array([[   1,    1,  500,    1],\n",
        "              [   1,    1,  700,    1],\n",
        "              [   1,    2,  750,    2],\n",
        "              [   1,    5,  600,    1],\n",
        "              [   1,    3, 1450,    2],\n",
        "              [   1,    0,  800,    1],\n",
        "              [   1,    5, 1500,    3],\n",
        "              [   1,   10, 2000,    3],\n",
        "              [   1,    1,  450,    1],\n",
        "              [   1,    2, 1000,    2]])\n",
        "y = [45, 55, 50, 55, 60, 35, 75, 80, 50, 60]\n"
      ],
      "id": "3b4edf0e-ff4f-43f0-b574-65d0f5228fda",
      "execution_count": 2,
      "outputs": []
    },
    {
      "cell_type": "code",
      "metadata": {
        "colab": {
          "base_uri": "https://localhost:8080/"
        },
        "id": "0l9SHYg4lkFG",
        "outputId": "65be2f83-8fce-4a28-911c-f728a07ddc83"
      },
      "source": [
        "X_norm = X.copy()\n",
        "X_norm = X_norm.astype(np.float64)\n",
        "X_norm[:, 1] = min_max_scale(X_norm[:, 1])\n",
        "X_norm[:, 2] = min_max_scale(X_norm[:, 2])\n",
        "X_norm[:, 3] = min_max_scale(X_norm[:, 3])\n",
        "X_norm"
      ],
      "id": "0l9SHYg4lkFG",
      "execution_count": 3,
      "outputs": [
        {
          "output_type": "execute_result",
          "data": {
            "text/plain": [
              "array([[1.        , 0.1       , 0.03225806, 0.        ],\n",
              "       [1.        , 0.1       , 0.16129032, 0.        ],\n",
              "       [1.        , 0.2       , 0.19354839, 0.5       ],\n",
              "       [1.        , 0.5       , 0.09677419, 0.        ],\n",
              "       [1.        , 0.3       , 0.64516129, 0.5       ],\n",
              "       [1.        , 0.        , 0.22580645, 0.        ],\n",
              "       [1.        , 0.5       , 0.67741935, 1.        ],\n",
              "       [1.        , 1.        , 1.        , 1.        ],\n",
              "       [1.        , 0.1       , 0.        , 0.        ],\n",
              "       [1.        , 0.2       , 0.35483871, 0.5       ]])"
            ]
          },
          "metadata": {
            "tags": []
          },
          "execution_count": 3
        }
      ]
    },
    {
      "cell_type": "code",
      "metadata": {
        "id": "3m7ekP3hkkJn"
      },
      "source": [
        "def gradient_descent_reg_l2(X, y, iterations, eta=1e-4, reg=1e-8, log=True, show_mse=True):\n",
        "    W = np.random.randn(X.shape[1])\n",
        "    n = X.shape[0]\n",
        "    \n",
        "    for i in range(0, iterations):\n",
        "        y_pred = np.dot(X, W)\n",
        "        err = calc_mse(y, y_pred)\n",
        "        \n",
        "        dQ = 2/n * X.T @ (y_pred - y) # градиент функции ошибки\n",
        "        dReg = reg * W # градиент регуляризации\n",
        "        \n",
        "        W -= eta * dQ + dReg\n",
        "        \n",
        "        if log == True and i % (iterations / 10) == 0:\n",
        "            print(f'Iter: {i}, weights: {W}, error {err}')\n",
        "    \n",
        "    if show_mse==True:\n",
        "      print(f'Final MSE: {calc_mse(y, np.dot(X, W))}')\n",
        "    return W"
      ],
      "id": "3m7ekP3hkkJn",
      "execution_count": 4,
      "outputs": []
    },
    {
      "cell_type": "code",
      "metadata": {
        "colab": {
          "base_uri": "https://localhost:8080/",
          "height": 599
        },
        "id": "yr4bAvaQkrMI",
        "outputId": "37be518c-d64d-4220-c86f-8c49cb99ba03"
      },
      "source": [
        "n = 70\n",
        "coeffs = np.zeros((n, X_norm.shape[1]))\n",
        "lambda_list = np.logspace(-5, 0.5, n)\n",
        "\n",
        "for i, num in enumerate(lambda_list):\n",
        "    w = gradient_descent_reg_l2(X_norm, y, iterations=8000, eta=3e-2, reg=num, log=False, show_mse=False)\n",
        "    coeffs[i, :] = w\n",
        "\n",
        "plt.figure(figsize = (12, 9))\n",
        "for i in range(X_norm.shape[1]):\n",
        "    plt.plot(lambda_list, coeffs[:, i])\n",
        "\n",
        "    \n",
        "plt.title('Убывание абсолютных значений весов признаков\\n при увеличении коэффициента регуляризации $\\lambda$ (Ridge)', size=20)\n",
        "# plt.xticks(np.arange(0, 10))\n",
        "plt.xlabel('$\\lambda$')\n",
        "plt.ylabel('Вес признака');"
      ],
      "id": "yr4bAvaQkrMI",
      "execution_count": 5,
      "outputs": [
        {
          "output_type": "display_data",
          "data": {
            "image/png": "[encoded data removed]",
            "text/plain": [
              "<Figure size 864x648 with 1 Axes>"
            ]
          },
          "metadata": {
            "tags": [],
            "needs_background": "light"
          }
        }
      ]
    },
    {
      "cell_type": "markdown",
      "metadata": {
        "id": "_2Y3AQQPzCaM"
      },
      "source": [
        "При увеличении коэффициента регуляризации веса признаков уменьшаются и становятся близкими к нулю."
      ],
      "id": "_2Y3AQQPzCaM"
    },
    {
      "cell_type": "markdown",
      "metadata": {
        "id": "cddabed0-ca9b-4278-9256-5ea7c7e78eb5"
      },
      "source": [
        "__2.__ Напишите функцию наподобие gradient_descent_reg_l2, но для применения L1-регуляризации."
      ],
      "id": "cddabed0-ca9b-4278-9256-5ea7c7e78eb5"
    },
    {
      "cell_type": "code",
      "metadata": {
        "colab": {
          "base_uri": "https://localhost:8080/"
        },
        "id": "urKfHMBbkqWI",
        "outputId": "fcf759ab-0419-4035-e895-46346becfc93"
      },
      "source": [
        "def gradient_descent_reg_l1(X, y, iterations, learning_rate=0.03, reg=0.1, log=True, show_mse=True):\n",
        "    W = np.random.randn(X.shape[1])\n",
        "    n = X.shape[0]\n",
        "    \n",
        "    for i in range(0, iterations):\n",
        "        y_pred = np.dot(X, W)\n",
        "        err = calc_mse(y, y_pred)\n",
        "\n",
        "        W -= learning_rate * ((2/n)* X.T @ (y_pred - y)) + reg * np.sign(W)\n",
        "        \n",
        "        if log == True and i % (iterations / 10) == 0:\n",
        "            print(f'Iter: {i}, weights: {W}, error {err}')\n",
        "    \n",
        "    if show_mse==True:\n",
        "      print(f'Final MSE: {calc_mse(y, np.dot(X, W))}')\n",
        "    return np.around(W, decimals=2)\n",
        "\n",
        "gradient_descent_reg_l1(X_norm, y, iterations=8000, learning_rate=0.03, reg=0.1)"
      ],
      "id": "urKfHMBbkqWI",
      "execution_count": 6,
      "outputs": [
        {
          "output_type": "stream",
          "text": [
            "Iter: 0, weights: [2.50889841 1.285986   2.34685855 1.57242727], error 3399.4171351405093\n",
            "Iter: 800, weights: [46.86588046  7.02575733  1.75808082 15.0177933 ], error 44.801758361296045\n",
            "Iter: 1600, weights: [4.68656590e+01 6.58227937e+00 3.92525055e-02 1.70358553e+01], error 44.5507154150139\n",
            "Iter: 2400, weights: [46.89284236  6.2680269   0.16231577 17.24093808], error 44.42062885459799\n",
            "Iter: 3200, weights: [46.89291209  6.18338769  0.07128153 17.28820995], error 44.840367082169514\n",
            "Iter: 4000, weights: [46.9049429   6.16773136  0.18916458 17.30842778], error 45.0440030387894\n",
            "Iter: 4800, weights: [46.89518678  6.15738948  0.0937787  17.30524574], error 44.78989461323865\n",
            "Iter: 5600, weights: [4.69022014e+01 6.15929885e+00 8.43315782e-03 1.73104365e+01], error 45.014324739307774\n",
            "Iter: 6400, weights: [46.89535116  6.15579846  0.11519995 17.30655998], error 44.721327511592655\n",
            "Iter: 7200, weights: [4.68993001e+01 6.15728325e+00 2.76693464e-02 1.73086053e+01], error 44.97652242481205\n",
            "Final MSE: 44.64592274068644\n"
          ],
          "name": "stdout"
        },
        {
          "output_type": "execute_result",
          "data": {
            "text/plain": [
              "array([46.9 ,  6.16,  0.15, 17.31])"
            ]
          },
          "metadata": {
            "tags": []
          },
          "execution_count": 6
        }
      ]
    },
    {
      "cell_type": "code",
      "metadata": {
        "colab": {
          "base_uri": "https://localhost:8080/"
        },
        "id": "MOIe60TOKZ_j",
        "outputId": "8968f498-54fe-45e4-95ed-a5c77b8c58e0"
      },
      "source": [
        "def gradient_descent_reg_l1(X, y, iterations, eta=0.03, reg=0.1):\n",
        "    W = np.random.randn(X.shape[1])\n",
        "    n = X.shape[0]\n",
        "    \n",
        "    for i in range(0, iterations):\n",
        "        y_pred = np.dot(X, W)\n",
        "        err = calc_mse(y, y_pred)\n",
        "        \n",
        "        dQ = 2/n * X.T @ (y_pred - y) # градиент функции ошибки\n",
        "        dReg = reg * np.sign(W) # градиент регуляризации\n",
        "        \n",
        "        W -= eta * (dQ + dReg)\n",
        "        \n",
        "        if i % (iterations / 10) == 0:\n",
        "            print(f'Iter: {i}, weights: {W}, error {err}')\n",
        "    \n",
        "    print(f'Final MSE: {calc_mse(y, np.dot(X, W))}')\n",
        "    return W\n",
        "\n",
        "gradient_descent_reg_l1(X_norm, y, iterations=10000, eta=0.04, reg=0.1)"
      ],
      "id": "MOIe60TOKZ_j",
      "execution_count": 7,
      "outputs": [
        {
          "output_type": "stream",
          "text": [
            "Iter: 0, weights: [3.11304535 1.72945875 1.17129512 1.34333619], error 3593.367626078301\n",
            "Iter: 1000, weights: [44.24715037 19.53562754  4.12769515 14.1229763 ], error 25.422727646667703\n",
            "Iter: 2000, weights: [44.32720842 21.11260521  0.82600595 15.73842208], error 24.99483684400737\n",
            "Iter: 3000, weights: [4.43316914e+01 2.14459745e+01 4.59312890e-03 1.62398500e+01], error 24.943828672852103\n",
            "Iter: 4000, weights: [ 4.43316120e+01  2.14454823e+01 -1.74227933e-03  1.62401572e+01], error 24.94375102990302\n",
            "Iter: 5000, weights: [ 4.43315694e+01  2.14454026e+01 -3.92539473e-05  1.62401497e+01], error 24.943657868472805\n",
            "Iter: 6000, weights: [4.43315583e+01 2.14454185e+01 1.67802089e-03 1.62401885e+01], error 24.94354630882787\n",
            "Iter: 7000, weights: [4.43315356e+01 2.14453712e+01 3.31067324e-03 1.62401163e+01], error 24.943461335163313\n",
            "Iter: 8000, weights: [4.43316222e+01 2.14454341e+01 5.10724926e-03 1.62402067e+01], error 24.943823019421\n",
            "Iter: 9000, weights: [ 4.43315371e+01  2.14453626e+01 -1.32478002e-03  1.62401018e+01], error 24.94375232470997\n",
            "Final MSE: 24.943653065943984\n"
          ],
          "name": "stdout"
        },
        {
          "output_type": "execute_result",
          "data": {
            "text/plain": [
              "array([4.43314663e+01, 2.14453449e+01, 2.19950573e-03, 1.62400849e+01])"
            ]
          },
          "metadata": {
            "tags": []
          },
          "execution_count": 7
        }
      ]
    },
    {
      "cell_type": "code",
      "metadata": {
        "colab": {
          "base_uri": "https://localhost:8080/"
        },
        "id": "e1PGp7PJ3vZK",
        "outputId": "d27820f2-68d2-4ff8-df22-820c1d89bf8f"
      },
      "source": [
        "from sklearn.linear_model import Lasso\n",
        "lasso = Lasso(alpha=0.1, fit_intercept=False)\n",
        "lasso.fit(X_norm, y)\n",
        "lasso.coef_"
      ],
      "id": "e1PGp7PJ3vZK",
      "execution_count": 8,
      "outputs": [
        {
          "output_type": "execute_result",
          "data": {
            "text/plain": [
              "array([44.41337559, 20.96548335,  0.        , 16.27892409])"
            ]
          },
          "metadata": {
            "tags": []
          },
          "execution_count": 8
        }
      ]
    },
    {
      "cell_type": "code",
      "metadata": {
        "id": "huLEMvlU45o7"
      },
      "source": [
        ""
      ],
      "id": "huLEMvlU45o7",
      "execution_count": 8,
      "outputs": []
    },
    {
      "cell_type": "markdown",
      "metadata": {
        "id": "8bca03f3-1816-4606-a104-e5f14af43f7c"
      },
      "source": [
        "__3*.__ Можно ли к одному и тому же признаку применить сразу и нормализацию, и стандартизацию?  \n",
        "- думаю, что нет, потому что мы приводим данные к разным диапазонам заначений. При нормализации данные приводятся к диапазону от 0 до 1, а при стандартизации приводится к стандартному нормальному распределению с отклонением 1 (могут быть отрицательные тоже), так, так что после применения одного из методов масштабирования данные уже приведены к определенному диапазону. (Не уверена, что правильно рассуждаю=))"
      ],
      "id": "8bca03f3-1816-4606-a104-e5f14af43f7c"
    },
    {
      "cell_type": "code",
      "metadata": {
        "colab": {
          "base_uri": "https://localhost:8080/"
        },
        "id": "LWzIXP8daxAw",
        "outputId": "b95668f9-ed05-4ee1-d355-8417cef2569d"
      },
      "source": [
        "X_norm_stand = X_norm.copy()\n",
        "X_norm_stand = X_norm_stand.astype(np.float64)\n",
        "X_norm_stand[:, 1] = standard_scale(X_norm_stand[:, 1])\n",
        "X_norm_stand[:, 2] = standard_scale(X_norm_stand[:, 2])\n",
        "X_norm_stand[:, 3] = standard_scale(X_norm_stand[:, 3])\n",
        "X_norm_stand"
      ],
      "id": "LWzIXP8daxAw",
      "execution_count": 9,
      "outputs": [
        {
          "output_type": "execute_result",
          "data": {
            "text/plain": [
              "array([[ 1.00000000e+00, -7.07106781e-01, -9.79589689e-01,\n",
              "        -8.96258160e-01],\n",
              "       [ 1.00000000e+00, -7.07106781e-01, -5.67130873e-01,\n",
              "        -8.96258160e-01],\n",
              "       [ 1.00000000e+00, -3.53553391e-01, -4.64016169e-01,\n",
              "         3.84110640e-01],\n",
              "       [ 1.00000000e+00,  7.07106781e-01, -7.73360281e-01,\n",
              "        -8.96258160e-01],\n",
              "       [ 1.00000000e+00, -1.96261557e-16,  9.79589689e-01,\n",
              "         3.84110640e-01],\n",
              "       [ 1.00000000e+00, -1.06066017e+00, -3.60901465e-01,\n",
              "        -8.96258160e-01],\n",
              "       [ 1.00000000e+00,  7.07106781e-01,  1.08270439e+00,\n",
              "         1.66447944e+00],\n",
              "       [ 1.00000000e+00,  2.47487373e+00,  2.11385144e+00,\n",
              "         1.66447944e+00],\n",
              "       [ 1.00000000e+00, -7.07106781e-01, -1.08270439e+00,\n",
              "        -8.96258160e-01],\n",
              "       [ 1.00000000e+00, -3.53553391e-01,  5.15573521e-02,\n",
              "         3.84110640e-01]])"
            ]
          },
          "metadata": {
            "tags": []
          },
          "execution_count": 9
        }
      ]
    },
    {
      "cell_type": "markdown",
      "metadata": {
        "id": "d7f0522e-e2a4-436b-8ef6-9287478c72b8"
      },
      "source": [
        "__4*.__ Сгенерируйте датасет при помощи <code>sklearn.datasets.make_regression</code> и обучите линейную модель при помощи градиентного и стохастического градиентного спуска. Нанесите среднеквадратичную ошибку для обоих методов на один график, сделайте выводы о разнице скорости сходимости каждого из методов."
      ],
      "id": "d7f0522e-e2a4-436b-8ef6-9287478c72b8"
    },
    {
      "cell_type": "code",
      "metadata": {
        "colab": {
          "base_uri": "https://localhost:8080/",
          "height": 1000
        },
        "id": "3436acda-0fd2-44c4-b50e-7674fd0887a3",
        "outputId": "37c7ac4c-1892-4d38-f968-21eb3837e8d6"
      },
      "source": [
        "from sklearn.datasets import make_regression\n",
        "\n",
        "# сгенерируем набор данных\n",
        "X, y, coef = make_regression(n_samples=100, n_features=2, n_informative=2, n_targets=1, \n",
        "                                      noise=3, coef=True, random_state=2)\n",
        "X[:, 0] *= 10\n",
        "display(X, y, coef)"
      ],
      "id": "3436acda-0fd2-44c4-b50e-7674fd0887a3",
      "execution_count": 10,
      "outputs": [
        {
          "output_type": "display_data",
          "data": {
            "text/plain": [
              "array([[ 1.80409807e+00,  5.53164274e-01],\n",
              "       [-2.76179492e+00, -5.16883894e-01],\n",
              "       [-4.62005348e+00,  3.50888494e-01],\n",
              "       [ 3.96520159e+00, -3.14617436e-01],\n",
              "       [-1.02141473e+01,  4.32395701e-01],\n",
              "       [-3.13508197e+00,  7.71011738e-01],\n",
              "       [-1.45336435e+01, -3.38017777e-01],\n",
              "       [-4.16757847e+00, -5.62668272e-02],\n",
              "       [ 1.24823646e+00,  7.56502143e-01],\n",
              "       [ 1.00036589e+01, -3.81092518e-01],\n",
              "       [-1.73795950e+01,  1.04082395e+00],\n",
              "       [-1.54667461e+01, -2.08265194e+00],\n",
              "       [ 2.04207979e+00,  1.40669624e+00],\n",
              "       [-2.13619610e+01,  1.64027081e+00],\n",
              "       [ 4.33496330e+00,  1.27837923e+00],\n",
              "       [ 2.41439629e+00,  4.97425649e-01],\n",
              "       [-2.69056960e+00,  2.23136679e+00],\n",
              "       [-3.25049628e+00, -5.60234506e-01],\n",
              "       [-9.02246068e+00, -5.90972275e-01],\n",
              "       [-1.41881055e+01, -2.51774118e-01],\n",
              "       [ 6.95119605e+00, -2.03346655e+00],\n",
              "       [-1.09873895e+01,  1.58448706e+00],\n",
              "       [-6.53250268e+00,  8.42456282e-01],\n",
              "       [ 1.79259285e+01, -4.29013319e-01],\n",
              "       [ 6.01515814e+00,  3.65949071e-03],\n",
              "       [-3.95702397e-01,  3.26003433e-01],\n",
              "       [-1.05795222e+01, -9.09007615e-01],\n",
              "       [-3.75669423e+00, -7.44707629e-02],\n",
              "       [ 1.03302907e+01, -3.29002435e-01],\n",
              "       [ 2.55043824e+01, -1.47317325e+00],\n",
              "       [-3.64479092e+00, -8.75979478e-01],\n",
              "       [ 4.10869262e+01,  8.21120877e-01],\n",
              "       [-1.25542722e+01,  9.38163671e-01],\n",
              "       [ 1.83533272e+01,  4.40689872e-01],\n",
              "       [-1.83256574e+00,  1.01985473e+00],\n",
              "       [-1.86809065e+01,  1.73118467e+00],\n",
              "       [ 1.46767801e+01, -3.35677339e-01],\n",
              "       [-1.06079904e+01,  5.91666521e-01],\n",
              "       [-4.54227855e+00,  5.14370717e-01],\n",
              "       [ 1.74181219e+01, -4.47500876e-01],\n",
              "       [-7.19253841e+00, -5.83414595e-01],\n",
              "       [-4.03892269e+00, -1.38451867e+00],\n",
              "       [-1.91304965e-01,  1.17500122e+00],\n",
              "       [ 1.11788673e+01, -2.74242089e-01],\n",
              "       [ 1.17353150e+01, -2.34360319e+00],\n",
              "       [ 2.56570452e+00, -9.88779049e-01],\n",
              "       [-2.04032305e+01,  4.62555231e-02],\n",
              "       [-1.48246548e+01,  8.46311892e-01],\n",
              "       [ 5.01857207e+00, -8.44213704e-01],\n",
              "       [ 1.33556617e+01,  3.02629336e-01],\n",
              "       [ 3.70444537e+00,  1.35963386e+00],\n",
              "       [-6.34679305e+00,  5.08396243e-01],\n",
              "       [ 5.24296430e+00,  7.35279576e-01],\n",
              "       [-1.42121723e+01, -1.53495196e-01],\n",
              "       [-2.43476758e+01,  1.12726505e-01],\n",
              "       [ 9.76147160e-05,  5.42352572e-01],\n",
              "       [ 6.96197980e+00,  6.97416272e-01],\n",
              "       [ 6.11340780e+00,  4.79705919e-02],\n",
              "       [-8.78107893e+00, -1.56434170e-01],\n",
              "       [-4.19316482e+00, -1.32328898e-01],\n",
              "       [ 1.53176032e+01, -1.98584577e+00],\n",
              "       [ 7.51964849e+00, -9.93760983e-01],\n",
              "       [ 8.29458431e+00,  6.30621967e-01],\n",
              "       [-4.68346260e+00, -1.25472031e+00],\n",
              "       [ 3.59133332e+00,  6.22220414e-01],\n",
              "       [-6.37655012e+00, -1.18761229e+00],\n",
              "       [-3.81516482e+00,  6.64890091e-02],\n",
              "       [ 4.15393930e-01, -1.11792545e+00],\n",
              "       [-3.23580070e+00,  4.23824708e-01],\n",
              "       [-1.89469265e+00, -7.72186654e-02],\n",
              "       [ 8.24703005e+00,  1.24821292e+00],\n",
              "       [-1.14421297e+00, -4.98174194e-01],\n",
              "       [ 3.27974540e+01,  9.70861320e-01],\n",
              "       [ 1.16152149e+01,  3.86078048e-01],\n",
              "       [-1.13431848e+01, -7.07420888e-01],\n",
              "       [ 3.80471970e+00, -2.17135269e-01],\n",
              "       [ 9.60781945e+00,  7.58370347e-01],\n",
              "       [-2.28247558e+00, -2.06961226e+00],\n",
              "       [ 6.10144086e+00,  4.23496900e-01],\n",
              "       [ 2.16116006e+00, -1.85861239e+00],\n",
              "       [ 3.65053516e+00,  7.74082033e-01],\n",
              "       [-1.79343559e+01, -8.41747366e-01],\n",
              "       [-2.65944946e+01, -9.14526229e-02],\n",
              "       [ 5.39058321e+00, -5.96159700e-01],\n",
              "       [ 4.97940148e+00,  1.26504175e-01],\n",
              "       [ 5.02881417e+00, -1.24528809e+00],\n",
              "       [ 1.10914328e+01, -1.76491773e+00],\n",
              "       [-3.38821966e+00, -2.36184031e-01],\n",
              "       [ 1.36723542e+01,  1.21788563e+00],\n",
              "       [-1.13313327e+01,  4.33092555e-01],\n",
              "       [ 5.51454045e+00,  2.29220801e+00],\n",
              "       [-5.93755583e+00,  1.14950057e+00],\n",
              "       [ 7.99179995e+00,  1.26261366e+00],\n",
              "       [-6.98589950e+00, -9.28891925e-01],\n",
              "       [ 3.81866234e+00,  5.66275441e-01],\n",
              "       [-1.22142917e+01,  1.80447664e+00],\n",
              "       [-3.04086439e+00,  2.58529487e+00],\n",
              "       [-6.77675577e+00, -1.43943903e+00],\n",
              "       [-7.47870949e+00,  9.02525097e-03],\n",
              "       [-8.29135289e+00,  8.77102184e-02]])"
            ]
          },
          "metadata": {
            "tags": []
          }
        },
        {
          "output_type": "display_data",
          "data": {
            "text/plain": [
              "array([  19.34585659,  -14.02013032,  -13.19126078,   12.57381019,\n",
              "        -33.73466164,    2.17305413,  -60.49292954,  -17.31756415,\n",
              "         18.23574923,   32.40885147,  -48.6258274 ,  -97.99074637,\n",
              "         34.39861918,  -47.59281178,   42.00851498,   17.64555454,\n",
              "         30.44055372,  -22.77361991,  -43.88675242,  -61.7178349 ,\n",
              "        -15.8658487 ,  -13.81612152,   -4.37547891,   59.5570899 ,\n",
              "         27.07757647,    2.31952919,  -54.50187077,  -12.3756807 ,\n",
              "         35.24896435,   72.84667257,  -25.79656444,  171.19505662,\n",
              "        -37.14744897,   77.92160228,    6.8953074 ,  -42.80726899,\n",
              "         50.08402068,  -30.36943557,  -11.33731341,   53.75420262,\n",
              "        -36.66187072,  -40.54641897,   14.67173947,   42.16914716,\n",
              "          4.51373379,  -11.91089597,  -79.93975205,  -46.31721406,\n",
              "          3.12037822,   62.05301858,   35.82853218,  -13.93202325,\n",
              "         25.55920228,  -58.51471651,  -89.04612817,   16.10508535,\n",
              "         42.08275425,   20.11899966,  -37.17415197,  -17.75209403,\n",
              "         17.99703438,    7.85558151,   41.1156265 ,  -39.40325668,\n",
              "         21.18533274,  -44.7378706 ,  -18.48450254,  -21.53601731,\n",
              "         -7.32150342,   -8.8384699 ,   52.74694216,  -16.04150559,\n",
              "        140.36539975,   51.28578081,  -56.32722975,    9.76579667,\n",
              "         48.64456088,  -43.41865858,   29.70677687,  -21.98481997,\n",
              "         24.23351307,  -80.69308521, -106.85325493,    9.57127725,\n",
              "         19.18989997,   -6.31663074,   10.74233255,  -19.20799557,\n",
              "         75.42624839,  -34.94914335,   64.07593665,   -4.2786866 ,\n",
              "         51.50586867,  -42.90874981,   25.77481403,  -15.52156404,\n",
              "         27.39575415,  -52.81652037,  -27.32597782,  -26.61065927])"
            ]
          },
          "metadata": {
            "tags": []
          }
        },
        {
          "output_type": "display_data",
          "data": {
            "text/plain": [
              "array([38.07925837, 17.83098278])"
            ]
          },
          "metadata": {
            "tags": []
          }
        }
      ]
    },
    {
      "cell_type": "code",
      "metadata": {
        "id": "fdd32cb1-f1e1-4513-b80d-531c0db06c12"
      },
      "source": [
        "def gradient_descent(X, y, learning_rate=1e-3, max_iter=10000, log=True):\n",
        "    \"\"\"Алгоритм градиентного спуска, завершающий работу, когда веса перестают менятся\"\"\"\n",
        "    e = 1e-7\n",
        "    dist = np.inf\n",
        "    w = np.array([1, 0.5])\n",
        "    i = 0\n",
        "    errors = []\n",
        "    while dist > e and i < max_iter:\n",
        "        y_pred = np.dot(X,w)\n",
        "        dQ = 2 / len(y) * np.dot(X.T, y_pred - y)\n",
        "        W = w - learning_rate * dQ\n",
        "        dist = np.linalg.norm(W - w, ord=2)\n",
        "        err = calc_mse(y, y_pred)\n",
        "        errors.append(err)\n",
        "        if log == True and i % 10 == 0:\n",
        "            print(f'Iter {i}: MSE - {err}, weights: {W}')\n",
        "        i += 1\n",
        "        w = W\n",
        "    return w, np.array(errors)\n",
        "\n",
        "def stochastic_gradient_descent(X, y, learning_rate=1e-3, max_iter=10000, log=True):\n",
        "    \"\"\"Алгоритм стохастического градиентного спуска, завершающий работу, когда веса перестают менятся\"\"\"\n",
        "    e = 1e-7\n",
        "    dist = np.inf\n",
        "    w = np.array([1, 0.5])\n",
        "    i = 0\n",
        "    errors = []\n",
        "    np.random.seed(1234)\n",
        "    while dist > e and i < max_iter:\n",
        "        train_ind = np.random.randint(X.shape[0], size=1)\n",
        "        y_pred = np.dot(X[train_ind], w)\n",
        "\n",
        "        #         dQ = 2 / len(y) * np.dot(X.T, y_pred - y)\n",
        "        # W = w - learning_rate * dQ\n",
        "\n",
        "        W = w - learning_rate * 2 / y[train_ind].shape[0] * np.dot(X[train_ind].T, y_pred - y[train_ind])\n",
        "        dist = np.linalg.norm(W - w, ord=2)\n",
        "        err = calc_mse(y[train_ind], y_pred)\n",
        "        errors.append(err)\n",
        "        if log == True and i % 10 == 0:\n",
        "            print(f'Iter {i}: MSE - {err}, weights: {W}')\n",
        "        i += 1\n",
        "        w = W\n",
        "    return w, np.array(errors)"
      ],
      "id": "fdd32cb1-f1e1-4513-b80d-531c0db06c12",
      "execution_count": 11,
      "outputs": []
    },
    {
      "cell_type": "code",
      "metadata": {
        "colab": {
          "base_uri": "https://localhost:8080/"
        },
        "id": "s0ojwtKsMnOT",
        "outputId": "2bf30d67-d249-4ade-ee63-5c72f144f2de"
      },
      "source": [
        "%%time\n",
        "w_sdg, errors_sgd = stochastic_gradient_descent(X, y, \n",
        "                                                learning_rate=0.00069, \n",
        "                                                max_iter=800\n",
        "                                                ,log=False\n",
        "                                                )"
      ],
      "id": "s0ojwtKsMnOT",
      "execution_count": 13,
      "outputs": [
        {
          "output_type": "stream",
          "text": [
            "CPU times: user 52.4 ms, sys: 925 µs, total: 53.3 ms\n",
            "Wall time: 57.8 ms\n"
          ],
          "name": "stdout"
        }
      ]
    },
    {
      "cell_type": "code",
      "metadata": {
        "colab": {
          "base_uri": "https://localhost:8080/"
        },
        "id": "qJEqPMVu0yyk",
        "outputId": "3c54eceb-880c-4b20-a663-1e0cd7a7a733"
      },
      "source": [
        "errors_sgd"
      ],
      "id": "qJEqPMVu0yyk",
      "execution_count": 14,
      "outputs": [
        {
          "output_type": "execute_result",
          "data": {
            "text/plain": [
              "array([1.01861288e+03, 8.77716965e-01, 1.62827822e+01, 1.18983297e+03,\n",
              "       6.55354467e+02, 1.17245003e+02, 1.13668938e+02, 5.83276748e+02,\n",
              "       1.27329112e+00, 3.65966376e+02, 1.50909695e+02, 2.62786901e+00,\n",
              "       1.42938841e+02, 2.12374122e+02, 6.24155120e+00, 3.63032203e+02,\n",
              "       7.62322271e-01, 7.21438697e+01, 3.92666530e+00, 2.63899875e+02,\n",
              "       4.16926221e+02, 8.88912719e+01, 1.76217889e+02, 1.80438548e+02,\n",
              "       3.74287991e+01, 4.99010960e+02, 1.33206828e+03, 1.09697595e+02,\n",
              "       6.15426833e+01, 4.39154229e+01, 3.21335705e+01, 6.29422268e+01,\n",
              "       1.30797134e+01, 5.72301070e+02, 2.06991917e+02, 6.32847395e+01,\n",
              "       1.50411054e+01, 4.39156267e+02, 1.03412584e+02, 2.73056132e+03,\n",
              "       3.97981278e+01, 1.23676535e+01, 1.60667141e+02, 2.70731849e+01,\n",
              "       1.41334442e+03, 1.10239984e+03, 7.12990771e+02, 1.04061116e+01,\n",
              "       3.06352835e+02, 3.89767246e+03, 1.16720824e+03, 8.11529110e+01,\n",
              "       6.07543544e+02, 1.73365604e+03, 2.78575181e+02, 1.50971195e+03,\n",
              "       2.39085029e+02, 3.70770891e+02, 1.65609863e+02, 1.03341220e+03,\n",
              "       1.16097996e+03, 1.80828643e+03, 5.86229475e+01, 3.44851046e+00,\n",
              "       2.87057103e+02, 9.57571004e+01, 5.12335472e+02, 4.14117494e+01,\n",
              "       9.77746901e-01, 7.13662712e+01, 1.73139881e+01, 4.30145882e+00,\n",
              "       4.26357748e+02, 1.40892870e+02, 2.36415375e+01, 1.14434042e+01,\n",
              "       6.92351688e+01, 1.19738104e+02, 6.89703443e+01, 7.99629513e+00,\n",
              "       2.26472833e+00, 3.86325033e+02, 8.69253920e+01, 2.21711490e+02,\n",
              "       2.79119691e+01, 8.51716294e+01, 3.68164276e+02, 7.17823111e+01,\n",
              "       2.20693958e+02, 9.80196914e-02, 1.23424803e+02, 2.87736924e+00,\n",
              "       1.40127747e+03, 4.41732926e-01, 7.90029146e+02, 1.10538063e+02,\n",
              "       1.42515109e+01, 1.31842524e+02, 6.74602004e+00, 2.58907899e+01,\n",
              "       5.58249169e+02, 4.49874577e+02, 2.42334563e+00, 4.49348927e+02,\n",
              "       9.44188758e+00, 7.02967158e+01, 4.88955926e+02, 8.93165644e-01,\n",
              "       3.67271715e-01, 4.69907446e+01, 1.13345305e+03, 2.66632728e+01,\n",
              "       1.85827977e+01, 4.34740605e+02, 1.42930670e+02, 3.47485316e+00,\n",
              "       1.18547728e+02, 1.40968338e+03, 3.24300008e+01, 1.06536224e+02,\n",
              "       5.35834279e+01, 2.81103978e+02, 3.89761543e+01, 1.25808604e+03,\n",
              "       2.92827790e+01, 6.37816222e+02, 3.86364024e+02, 2.01346104e+01,\n",
              "       7.29677865e+00, 1.96809923e+01, 2.05594899e+02, 4.68704692e+01,\n",
              "       3.71851941e+02, 5.25792398e-02, 1.34317167e+02, 2.40959141e+01,\n",
              "       1.93623846e+01, 3.76855588e+00, 8.34401115e+02, 1.25297121e+02,\n",
              "       1.45115347e+02, 2.44531470e+00, 1.29542329e+02, 4.93900721e+01,\n",
              "       1.12704874e+02, 2.35796685e+01, 3.89104373e+01, 1.36104198e+03,\n",
              "       1.05030750e+03, 3.74776611e+01, 2.40556720e+02, 8.01152334e+02,\n",
              "       3.62827371e+01, 1.10088344e-03, 2.98656644e+02, 8.07551975e+01,\n",
              "       6.80295714e+00, 6.27502191e+01, 2.12524978e+00, 3.73682011e+01,\n",
              "       3.37252229e+02, 2.58238446e+01, 6.16401547e+00, 1.67355176e+02,\n",
              "       1.66797343e+01, 1.01533573e+01, 1.62162624e+03, 2.34381263e+01,\n",
              "       5.07965095e+01, 5.10016235e+01, 3.19136099e+01, 1.39415480e+01,\n",
              "       6.98083122e+00, 1.12693785e+02, 2.81966566e+00, 4.03807619e+02,\n",
              "       1.88555072e+01, 9.06437026e+02, 9.62195661e+01, 1.68454246e+02,\n",
              "       2.26061899e+01, 6.40757156e+00, 5.48061561e+02, 2.50083044e+02,\n",
              "       2.77523723e+02, 1.40798067e+02, 3.91030884e+02, 3.66156654e+01,\n",
              "       4.49348573e+00, 5.23985879e+01, 8.38776746e+01, 2.41906553e+01,\n",
              "       9.47045873e+00, 2.74454112e+02, 8.75108282e+01, 2.05968359e+00,\n",
              "       2.68160879e+01, 1.56024540e+01, 1.02819685e+02, 1.82684046e+01,\n",
              "       6.82252101e+01, 3.73876357e+02, 5.00558691e+01, 6.35060473e+01,\n",
              "       2.99577277e-02, 9.29053764e+02, 1.53276729e+02, 9.78270356e+01,\n",
              "       7.71110143e+02, 4.32040801e+02, 3.86214955e+00, 3.16465616e+01,\n",
              "       5.13871153e-02, 3.38556706e+02, 3.12243387e+00, 5.19382886e-01,\n",
              "       4.94652897e+01, 3.37402593e+00, 1.14975874e+02, 5.73402664e+02,\n",
              "       7.83721556e+00, 6.42004104e+02, 1.71513804e+00, 1.78854732e+02,\n",
              "       3.15305050e+02, 2.04651629e+00, 2.99412399e+02, 3.40125657e+02,\n",
              "       6.66985319e+01, 9.70664905e+01, 1.20357137e+02, 7.05004213e+01,\n",
              "       2.68128549e+00, 3.25280918e+02, 2.35962346e+00, 6.82961347e+01,\n",
              "       1.87041871e+02, 3.97702822e+02, 2.06128813e-01, 7.09593037e+02,\n",
              "       1.00635159e+02, 4.75779067e+02, 4.04803102e-01, 4.53168914e-04,\n",
              "       4.12016030e+02, 3.07011517e-01, 6.07201786e+01, 6.94325344e+01,\n",
              "       2.26019080e+02, 8.74480518e-01, 1.07823990e+02, 6.57032373e+01,\n",
              "       1.15255961e+02, 2.71926989e+01, 1.92306356e+02, 9.22989071e+01,\n",
              "       2.86555020e+02, 2.07102047e+00, 7.28327064e+01, 1.27844023e+03,\n",
              "       9.70445958e+01, 3.64071292e+02, 1.01896132e+02, 1.38894774e+00,\n",
              "       2.72348988e+02, 1.73045709e+02, 3.56509000e+01, 3.11307051e-01,\n",
              "       3.04560833e-01, 2.00234562e+01, 1.00183072e+02, 5.09544718e+02,\n",
              "       3.07567725e-01, 7.10025574e+01, 2.66482310e+02, 1.88753408e+02,\n",
              "       2.09303974e+01, 1.46471477e+02, 6.37935151e+02, 2.98478478e+00,\n",
              "       5.14712393e+02, 6.42948019e+01, 2.52377181e+02, 7.51021157e+01,\n",
              "       7.71842702e+02, 1.17886274e+03, 6.45618910e+00, 3.01797565e+02,\n",
              "       9.08035135e+01, 1.00272150e+02, 1.99345958e+02, 7.66060789e+01,\n",
              "       1.69915491e-03, 2.65459465e+01, 8.36191853e+02, 1.63487452e+02,\n",
              "       9.64800180e-03, 1.06979446e+02, 8.60000908e+00, 5.36778104e+02,\n",
              "       7.07478143e+02, 3.14742065e+01, 6.84454134e+01, 8.70988589e+00,\n",
              "       1.99408020e+01, 1.38381926e+01, 1.06386245e+00, 1.40056721e+01,\n",
              "       3.25884841e+00, 1.94409418e+01, 2.05398026e+01, 1.35454447e+02,\n",
              "       1.38194976e+02, 6.80339696e+02, 7.68335640e-01, 3.09251918e+02,\n",
              "       7.23013529e+01, 5.32835940e-01, 1.14086532e+01, 2.60853379e+02,\n",
              "       1.15079919e+01, 9.81428953e+02, 6.83416065e+02, 4.87320999e+01,\n",
              "       2.42527798e+02, 1.14825376e+02, 2.33152858e+01, 8.32390771e+01,\n",
              "       5.67438479e+01, 5.16273747e+01, 1.19447930e+02, 6.73016931e+02,\n",
              "       1.02831121e+02, 2.95359240e+01, 6.28660161e+01, 3.23038961e+01,\n",
              "       4.48679502e+02, 1.87420624e+02, 9.99714159e+01, 2.24873883e+01,\n",
              "       2.66903346e+00, 1.70190075e+00, 2.65576581e+00, 7.36990168e-01,\n",
              "       1.41394395e+02, 2.08330168e+01, 2.71717389e+00, 3.99317692e+02,\n",
              "       6.71814416e+00, 3.48716264e+01, 6.79711794e+01, 2.37341619e+02,\n",
              "       6.71291472e+01, 5.43431965e+00, 2.60523363e+01, 3.15793965e+01,\n",
              "       9.51199773e+02, 1.50928714e+00, 2.25909268e+02, 1.95945193e+01,\n",
              "       3.03684015e+00, 4.39393332e+00, 3.18752453e+00, 6.41983566e+00,\n",
              "       3.71958541e+01, 5.76356496e+01, 3.36090506e+01, 7.60337297e+02,\n",
              "       1.50272917e+02, 5.35745090e+01, 3.41134070e+01, 2.58757094e+02,\n",
              "       1.46051257e+00, 3.06746136e+02, 9.41225433e+00, 6.63113292e+01,\n",
              "       3.05987545e+00, 1.47010615e+02, 3.21581235e+01, 1.97653888e+01,\n",
              "       4.43785346e+01, 4.57618847e+01, 1.00136817e+02, 6.90748087e+02,\n",
              "       1.11994864e+02, 5.11756330e+00, 2.91429846e+02, 9.46931910e+01,\n",
              "       3.73659992e+01, 6.00186913e+00, 2.48134678e+02, 2.17895543e+02,\n",
              "       2.35661386e+00, 1.32891924e+00, 5.44621392e+01, 1.28608056e+02,\n",
              "       4.19457509e+01, 1.07650099e+02, 1.79788543e+02, 1.11277585e+01,\n",
              "       2.84660385e+02, 1.97251653e+01, 1.54491674e+01, 1.08738787e+01,\n",
              "       2.42210049e+02, 7.58044865e+02, 3.94259687e-01, 1.43184276e+02,\n",
              "       1.90665084e+01, 5.50066544e+01, 4.37711798e+01, 1.31902202e+02,\n",
              "       1.90578825e+02, 3.05146978e+00, 1.08830860e+01, 4.04013388e+01,\n",
              "       3.27332830e+00, 3.38680172e+02, 1.39531408e+02, 2.67688114e+02,\n",
              "       3.08444098e+01, 1.55802461e+01, 2.64322176e+02, 4.31788769e+00,\n",
              "       2.50073833e+02, 1.36014438e+02, 3.41169098e+01, 7.55807587e+01,\n",
              "       5.28903108e+01, 5.07372039e+01, 1.40123509e+00, 1.81201472e+02,\n",
              "       1.45383747e+02, 6.55213580e+01, 2.50924849e+02, 9.98621831e+01,\n",
              "       5.57305745e+01, 2.78088884e+01, 7.12454811e+01, 1.98774192e+01,\n",
              "       7.05550500e+00, 1.23743924e+02, 1.79339071e+00, 3.00099380e+01,\n",
              "       1.24328986e+01, 1.51452569e+01, 2.54694384e+00, 3.32259199e+01,\n",
              "       2.70101426e+01, 1.03427242e+02, 2.01471911e+02, 3.03601580e+01,\n",
              "       2.77179179e+02, 1.40995253e+00, 5.21097499e+02, 2.56036978e+02,\n",
              "       1.35912546e+02, 2.04953713e+02, 4.23451554e+00, 1.23050852e+02,\n",
              "       5.04118474e+01, 3.51137733e+02, 3.59954437e+02, 6.38725583e+01,\n",
              "       2.63513297e+01, 4.95734650e+01, 5.70436839e+01, 2.60099231e+01,\n",
              "       1.30991717e+02, 3.95944849e+02, 5.51424591e+00, 3.28588264e+01,\n",
              "       4.43092211e+01, 2.40506400e+02, 1.15601214e-01, 6.16940104e+01,\n",
              "       4.80123206e+00, 1.86697556e+02, 1.21542347e+02, 1.49992189e+01,\n",
              "       1.28902559e+01, 1.08957646e+01, 1.91642618e+02, 8.09728569e+01,\n",
              "       1.56374489e+01, 6.32720336e+01, 2.87753675e+01, 7.14914035e+01,\n",
              "       6.89283602e+01, 6.12309260e+00, 7.05222331e+00, 1.78428386e+02,\n",
              "       8.47074118e+01, 3.03169794e+00, 4.26171888e+00, 4.33520691e+00,\n",
              "       1.78208272e+02, 1.21587350e+00, 5.96957196e+01, 4.84319546e+00,\n",
              "       2.52530081e+02, 5.97716293e+01, 5.25649867e+02, 1.01634826e+02,\n",
              "       3.63033475e+00, 8.16254028e+00, 2.09936878e+02, 7.22199905e+01,\n",
              "       2.86088834e+01, 2.10752011e+00, 4.84460584e+01, 1.40010434e+02,\n",
              "       5.40476833e+01, 1.32268003e+01, 6.47554882e+01, 3.98155022e+01,\n",
              "       1.63005919e+02, 2.18769935e+01, 5.49267155e+01, 6.11506025e+00,\n",
              "       1.29639122e+00, 1.61021592e+02, 9.75833807e+01, 7.01286504e-01,\n",
              "       1.34542917e+01, 3.11139768e+00, 6.96842433e+01, 1.16248792e+01,\n",
              "       5.71725941e+01, 1.15788197e+00, 8.85625628e+01, 5.48917111e+00,\n",
              "       1.45890563e+01, 2.07447140e+01, 1.79246677e+02, 2.89526212e-01,\n",
              "       1.23345539e+02, 2.02152711e+00, 8.35876353e+00, 3.58249667e-03,\n",
              "       2.33692846e+01, 4.31748320e+01, 1.78804166e+01, 1.19910895e+02,\n",
              "       3.78794015e+00, 1.33955046e+01, 4.22539630e+01, 1.01422488e+02,\n",
              "       9.94007934e+01, 5.63798797e+00, 1.32461392e+02, 7.84431256e+00,\n",
              "       1.68357672e+00, 1.61148486e+00, 4.27052448e+01, 5.30170885e+01,\n",
              "       2.47493800e+01, 1.70239066e+02, 1.60416737e+02, 7.79041746e+01,\n",
              "       3.56894999e+01, 2.17660366e+00, 6.56263606e+01, 1.64075419e+02,\n",
              "       6.65278852e-01, 1.59698664e+02, 5.22752619e+01, 6.46280643e+01,\n",
              "       1.82909041e+01, 2.19444837e+01, 3.25214834e+00, 8.30629416e+00,\n",
              "       6.54447643e+01, 4.86295910e+01, 2.25245955e+01, 4.61011349e+01,\n",
              "       2.08573150e+01, 1.34423199e+01, 7.32370863e+00, 5.34751446e+01,\n",
              "       4.99351496e+01, 3.00161798e+02, 7.97653769e+00, 3.22581158e+01,\n",
              "       1.13692699e+02, 9.40660191e+01, 5.48638938e+01, 6.43299924e+01,\n",
              "       3.17412789e+02, 3.06799193e+02, 1.43375535e+02, 3.05720035e+02,\n",
              "       5.23719040e+01, 2.52134531e+01, 2.96211484e+02, 1.93569119e+02,\n",
              "       1.70408629e+02, 2.13280102e+02, 2.42865455e-01, 2.04737010e+01,\n",
              "       4.51828126e+02, 1.15086372e+02, 1.05322558e+02, 7.78647721e-01,\n",
              "       1.79006268e+01, 1.37236529e+00, 2.48817846e+01, 1.32481683e+02,\n",
              "       1.01422169e+01, 1.36513263e+02, 4.78076817e+01, 4.93526684e+00,\n",
              "       1.40973615e+02, 2.76153066e-03, 1.03150094e+02, 1.19073887e+02,\n",
              "       5.54277499e+01, 1.69588817e+02, 1.30790975e+01, 1.15898552e+02,\n",
              "       1.65706736e-01, 1.97972865e+02, 1.43643427e+01, 1.31772184e-02,\n",
              "       9.37611899e+01, 7.10994767e-01, 1.26704592e+02, 1.80251391e-01,\n",
              "       1.14311195e+02, 4.49297673e+00, 6.39592036e+00, 4.14412111e+01,\n",
              "       1.70830612e+01, 1.34874052e+00, 7.09981179e+01, 1.28412165e+01,\n",
              "       6.51698617e+01, 2.80149492e+00, 1.97525911e+02, 2.62543841e+01,\n",
              "       1.45547345e+01, 6.25043753e+01, 1.51381211e+01, 4.78129299e+01,\n",
              "       3.79123134e+01, 2.12581296e+02, 3.66628974e+02, 1.30715104e+01,\n",
              "       2.91493196e+01, 1.39701834e+01, 1.69525181e+00, 2.55780295e+01,\n",
              "       2.21920199e+01, 1.32864170e+02, 6.41030739e+01, 2.79690343e+01,\n",
              "       9.34200189e+00, 3.62610392e+01, 1.45632031e+00, 1.91472940e+02,\n",
              "       1.64307612e+01, 4.99003572e+01, 1.71212025e+02, 2.20071478e+00,\n",
              "       1.63408450e+00, 3.85956402e-01, 3.59974143e+00, 2.25715307e+02,\n",
              "       1.89101112e+01, 4.81164503e+01, 2.01797149e+02, 2.08322967e+02,\n",
              "       2.60959085e+00, 1.37376211e+02, 7.43651258e-01, 8.00736698e-01,\n",
              "       3.69693781e-01, 8.33385386e-01, 1.20591042e+02, 5.50175601e+01,\n",
              "       1.47574710e+02, 1.04709858e-01, 1.32965108e+02, 1.70862657e-02,\n",
              "       1.20982495e+02, 2.82505636e+01, 7.06488866e+00, 4.92569614e-01,\n",
              "       4.23074553e-01, 3.90976914e+00, 7.35940938e+01, 2.69593010e+02,\n",
              "       1.98987332e+01, 4.99588729e+00, 3.97764068e+02, 9.52199459e+01,\n",
              "       3.00712923e+01, 1.17740064e+02, 9.38366714e+01, 2.84300642e-01,\n",
              "       7.36094062e-01, 3.58544042e+01, 3.87208605e+01, 2.88431883e+02,\n",
              "       1.43033031e+00, 6.81952072e+00, 6.90980952e+00, 5.16278066e+01,\n",
              "       2.59414290e+00, 3.00882833e+01, 2.13793864e+00, 1.53128169e+02,\n",
              "       6.86184492e+01, 7.46497590e-01, 1.13005021e+01, 1.64362170e+01,\n",
              "       1.38591073e+00, 1.60192500e+02, 9.43596776e+01, 1.13915297e+02,\n",
              "       1.39276674e+00, 1.42805627e+02, 1.54909272e+01, 1.65650546e+02,\n",
              "       2.72216932e+01, 5.10909212e+00, 4.18985801e+01, 3.35825487e+01,\n",
              "       3.78756683e-01, 5.24548749e+00, 6.22208912e+00, 5.20953173e+00,\n",
              "       1.37900683e+02, 3.11741883e+02, 1.12595384e+02, 1.04139999e+02,\n",
              "       3.74274067e+00, 4.19853326e-02, 5.36536776e+01, 5.06962940e+01,\n",
              "       5.53742619e-01, 1.01057232e+01, 2.27318302e+01, 2.36226547e+02,\n",
              "       3.43357294e+02, 1.22370781e+01, 2.48700689e+00, 1.78768265e+01,\n",
              "       1.40303883e+02, 1.75278417e+01, 6.10829844e+01, 1.44927982e+01,\n",
              "       1.70305363e+01, 2.70401485e+02, 7.79129631e-02, 2.21401936e+01,\n",
              "       1.30848441e+02, 2.29638052e+01, 3.58624611e+02, 6.07874463e+00,\n",
              "       5.63512502e+01, 2.59823432e+01, 9.01384494e+01, 3.76430242e+01,\n",
              "       9.09387440e+01, 3.68429754e+00, 1.52164983e+02, 4.12658135e+01,\n",
              "       4.22609458e+01, 6.20523188e+01, 1.07133944e+02, 9.02429192e+01,\n",
              "       1.59600858e-01, 2.59467399e-01, 2.93118131e+02, 1.00242775e+02,\n",
              "       3.00984034e+01, 3.73084662e+01, 4.36571044e+01, 4.89020599e+00,\n",
              "       1.43929831e+00, 1.87367314e+00, 3.22941044e+01, 8.42852969e+00,\n",
              "       1.34879651e+00, 3.06220518e+01, 1.96491998e+01, 1.63760609e+01,\n",
              "       6.72055888e-02, 8.50186772e+01, 9.53760690e+01, 1.52514191e+01,\n",
              "       4.21233529e+01, 1.19973706e+02, 1.04607114e+02, 1.97843117e+00,\n",
              "       8.25951658e+01, 2.63077499e+01, 1.57464742e+01, 1.19743154e+01])"
            ]
          },
          "metadata": {
            "tags": []
          },
          "execution_count": 14
        }
      ]
    },
    {
      "cell_type": "code",
      "metadata": {
        "colab": {
          "base_uri": "https://localhost:8080/"
        },
        "id": "Bx7lCFXxiT1j",
        "outputId": "31913bd3-5176-4151-b3d7-5e0c55aa7016"
      },
      "source": [
        "%%time\n",
        "w_dg, errors_gd = gradient_descent(X, y, \n",
        "                                                learning_rate=0.0035, \n",
        "                                                max_iter=500\n",
        "                                                ,log=False\n",
        "                                                )"
      ],
      "id": "Bx7lCFXxiT1j",
      "execution_count": 16,
      "outputs": [
        {
          "output_type": "stream",
          "text": [
            "CPU times: user 27.6 ms, sys: 10 ms, total: 37.6 ms\n",
            "Wall time: 34.2 ms\n"
          ],
          "name": "stdout"
        }
      ]
    },
    {
      "cell_type": "code",
      "metadata": {
        "colab": {
          "base_uri": "https://localhost:8080/"
        },
        "id": "jmd-0-9V09Sh",
        "outputId": "2d28efa9-7a3b-4561-efa6-88fce503d21e"
      },
      "source": [
        "errors_gd"
      ],
      "id": "jmd-0-9V09Sh",
      "execution_count": 17,
      "outputs": [
        {
          "output_type": "execute_result",
          "data": {
            "text/plain": [
              "array([1257.30312921,  321.23753826,  307.09748781,  302.64375943,\n",
              "        298.35393568,  294.12771044,  289.96313414,  285.85929701,\n",
              "        281.81531305,  277.83030933,  273.90342565,  270.03381433,\n",
              "        266.22064008,  262.46307979,  258.76032234,  255.11156844,\n",
              "        251.51603048,  247.97293231,  244.48150912,  241.04100725,\n",
              "        237.65068402,  234.30980759,  231.0176568 ,  227.773521  ,\n",
              "        224.5766999 ,  221.42650344,  218.3222516 ,  215.26327431,\n",
              "        212.24891125,  209.27851172,  206.35143454,  203.46704787,\n",
              "        200.62472908,  197.82386461,  195.06384987,  192.34408909,\n",
              "        189.66399517,  187.02298957,  184.42050222,  181.85597133,\n",
              "        179.32884332,  176.83857268,  174.38462186,  171.96646114,\n",
              "        169.58356854,  167.23542969,  164.9215377 ,  162.6413931 ,\n",
              "        160.3945037 ,  158.18038448,  155.99855749,  153.84855177,\n",
              "        151.7299032 ,  149.64215447,  147.58485489,  145.55756039,\n",
              "        143.55983334,  141.59124251,  139.65136297,  137.73977596,\n",
              "        135.85606885,  133.99983502,  132.17067377,  130.36819027,\n",
              "        128.59199543,  126.84170584,  125.11694367,  123.41733662,\n",
              "        121.7425178 ,  120.09212569,  118.46580403,  116.86320177,\n",
              "        115.28397296,  113.72777671,  112.19427709,  110.68314308,\n",
              "        109.19404849,  107.72667188,  106.2806965 ,  104.85581021,\n",
              "        103.45170545,  102.06807911,  100.70463253,   99.3610714 ,\n",
              "         98.03710568,   96.73244958,   95.44682149,   94.17994388,\n",
              "         92.93154329,   91.70135022,   90.48909914,   89.29452836,\n",
              "         88.11738002,   86.95740002,   85.81433796,   84.68794711,\n",
              "         83.57798432,   82.48420998,   81.406388  ,   80.34428572,\n",
              "         79.29767387,   78.26632652,   77.25002105,   76.24853808,\n",
              "         75.26166143,   74.28917806,   73.33087806,   72.38655456,\n",
              "         71.45600372,   70.53902468,   69.63541949,   68.7449931 ,\n",
              "         67.8675533 ,   67.00291068,   66.15087861,   65.31127315,\n",
              "         64.48391308,   63.6686198 ,   62.86521732,   62.0735322 ,\n",
              "         61.29339357,   60.52463302,   59.76708459,   59.02058478,\n",
              "         58.28497243,   57.56008875,   56.84577728,   56.14188382,\n",
              "         55.44825642,   54.76474536,   54.0912031 ,   53.42748424,\n",
              "         52.77344551,   52.12894573,   51.49384578,   50.86800856,\n",
              "         50.25129898,   49.64358392,   49.04473219,   48.45461453,\n",
              "         47.87310355,   47.30007372,   46.73540136,   46.17896456,\n",
              "         45.63064322,   45.09031898,   44.5578752 ,   44.03319694,\n",
              "         43.51617095,   43.00668562,   42.50463098,   42.00989864,\n",
              "         41.52238183,   41.04197529,   40.56857533,   40.10207976,\n",
              "         39.64238788,   39.18940047,   38.74301974,   38.30314932,\n",
              "         37.86969429,   37.44256105,   37.02165742,   36.60689254,\n",
              "         36.19817688,   35.7954222 ,   35.39854158,   35.00744933,\n",
              "         34.62206105,   34.24229353,   33.8680648 ,   33.49929408,\n",
              "         33.13590177,   32.77780942,   32.42493973,   32.07721654,\n",
              "         31.73456478,   31.39691049,   31.06418078,   30.73630383,\n",
              "         30.41320887,   30.09482614,   29.78108692,   29.4719235 ,\n",
              "         29.16726912,   28.86705803,   28.57122543,   28.27970746,\n",
              "         27.99244118,   27.70936459,   27.43041659,   27.15553695,\n",
              "         26.88466635,   26.61774631,   26.35471921,   26.09552829,\n",
              "         25.84011758,   25.58843196,   25.34041709,   25.09601944,\n",
              "         24.85518626,   24.61786555,   24.38400609,   24.1535574 ,\n",
              "         23.92646973,   23.70269406,   23.48218209,   23.26488622,\n",
              "         23.05075954,   22.83975583,   22.63182955,   22.4269358 ,\n",
              "         22.22503037,   22.02606966,   21.83001073,   21.63681126,\n",
              "         21.44642955,   21.25882449,   21.07395559,   20.89178295,\n",
              "         20.71226724,   20.53536971,   20.36105217,   20.189277  ,\n",
              "         20.02000712,   19.85320599,   19.6888376 ,   19.52686647,\n",
              "         19.36725763,   19.20997665,   19.05498956,   18.9022629 ,\n",
              "         18.75176372,   18.60345952,   18.45731829,   18.31330848,\n",
              "         18.17139901,   18.03155925,   17.89375901,   17.75796854,\n",
              "         17.62415853,   17.49230009,   17.36236478,   17.23432452,\n",
              "         17.1081517 ,   16.98381907,   16.86129979,   16.74056741,\n",
              "         16.62159588,   16.50435951,   16.38883299,   16.2749914 ,\n",
              "         16.16281015,   16.05226502,   15.94333217,   15.83598806,\n",
              "         15.73020954,   15.62597376,   15.52325822,   15.42204077,\n",
              "         15.32229953,   15.22401299,   15.12715993,   15.03171944,\n",
              "         14.93767093,   14.84499407,   14.75366889,   14.66367565,\n",
              "         14.57499493,   14.4876076 ,   14.40149478,   14.31663789,\n",
              "         14.23301861,   14.15061889,   14.06942095,   13.98940725,\n",
              "         13.91056053,   13.83286376,   13.75630018,   13.68085325,\n",
              "         13.60650669,   13.53324445,   13.46105072,   13.38990991,\n",
              "         13.31980667,   13.25072586,   13.18265258,   13.11557212,\n",
              "         13.04947001,   12.98433198,   12.92014397,   12.85689211,\n",
              "         12.79456277,   12.73314248,   12.67261799,   12.61297622,\n",
              "         12.55420432,   12.49628958,   12.43921951,   12.38298179,\n",
              "         12.32756428,   12.27295502,   12.21914222,   12.16611425,\n",
              "         12.11385969,   12.06236724,   12.0116258 ,   11.9616244 ,\n",
              "         11.91235225,   11.86379873,   11.81595334,   11.76880576,\n",
              "         11.72234582,   11.67656348,   11.63144886,   11.58699222,\n",
              "         11.54318397,   11.50001465,   11.45747494,   11.41555565,\n",
              "         11.37424775,   11.33354231,   11.29343055,   11.2539038 ,\n",
              "         11.21495354,   11.17657136,   11.13874897,   11.1014782 ,\n",
              "         11.06475102,   11.0285595 ,   10.99289581,   10.95775227,\n",
              "         10.92312129,   10.88899539,   10.8553672 ,   10.82222947,\n",
              "         10.78957504,   10.75739687,   10.72568801,   10.69444161,\n",
              "         10.66365093,   10.63330932,   10.60341024,   10.57394722,\n",
              "         10.54491392,   10.51630405,   10.48811145,   10.46033003,\n",
              "         10.4329538 ,   10.40597684,   10.37939332,   10.35319753,\n",
              "         10.32738378,   10.30194653,   10.27688027,   10.25217959,\n",
              "         10.22783916,   10.20385373,   10.18021812,   10.15692723,\n",
              "         10.13397603,   10.11135956,   10.08907295,   10.06711139,\n",
              "         10.04547012,   10.02414449,   10.00312988,    9.98242177,\n",
              "          9.96201567,    9.9419072 ,    9.922092  ,    9.90256579,\n",
              "          9.88332437,    9.86436359,    9.84567933,    9.82726759,\n",
              "          9.80912437,    9.79124576,    9.77362791,    9.75626701,\n",
              "          9.73915931,    9.72230113,    9.70568881,    9.68931878,\n",
              "          9.6731875 ,    9.6572915 ,    9.64162733,    9.62619161,\n",
              "          9.61098103,    9.59599228,    9.58122214,    9.56666742,\n",
              "          9.55232497,    9.5381917 ,    9.52426457,    9.51054055,\n",
              "          9.4970167 ,    9.48369009,    9.47055784,    9.45761712,\n",
              "          9.44486514,    9.43229914,    9.41991641,    9.40771428,\n",
              "          9.39569012,    9.38384132,    9.37216534,    9.36065964,\n",
              "          9.34932176,    9.33814923,    9.32713965,    9.31629064,\n",
              "          9.30559986,    9.295065  ,    9.28468379,    9.27445399,\n",
              "          9.26437339,    9.2544398 ,    9.2446511 ,    9.23500516,\n",
              "          9.2254999 ,    9.21613328,    9.20690326,    9.19780786,\n",
              "          9.18884512,    9.18001309,    9.17130988,    9.1627336 ,\n",
              "          9.1542824 ,    9.14595446,    9.13774798,    9.12966119,\n",
              "          9.12169234,    9.11383972,    9.10610162,    9.09847638,\n",
              "          9.09096236,    9.08355792,    9.07626148,    9.06907145,\n",
              "          9.06198628,    9.05500445,    9.04812445,    9.04134479,\n",
              "          9.03466401,    9.02808067,    9.02159334,    9.01520063,\n",
              "          9.00890115,    9.00269355,    8.99657649,    8.99054864,\n",
              "          8.98460871,    8.9787554 ,    8.97298747,    8.96730366,\n",
              "          8.96170275,    8.95618352,    8.95074479,    8.94538538,\n",
              "          8.94010414,    8.93489992,    8.92977161,    8.92471809,\n",
              "          8.91973827,    8.91483108,    8.90999547,    8.90523038,\n",
              "          8.90053478,    8.89590767,    8.89134805,    8.88685492,\n",
              "          8.88242733,    8.87806431,    8.87376492,    8.86952824,\n",
              "          8.86535335,    8.86123935,    8.85718535,    8.85319048,\n",
              "          8.84925387,    8.84537468,    8.84155206,    8.8377852 ,\n",
              "          8.83407327,    8.83041548,    8.82681104,    8.82325916,\n",
              "          8.81975909,    8.81631007,    8.81291135,    8.8095622 ,\n",
              "          8.8062619 ,    8.80300973,    8.79980499,    8.79664699,\n",
              "          8.79353505,    8.7904685 ,    8.78744667,    8.78446892])"
            ]
          },
          "metadata": {
            "tags": []
          },
          "execution_count": 17
        }
      ]
    },
    {
      "cell_type": "code",
      "metadata": {
        "colab": {
          "base_uri": "https://localhost:8080/",
          "height": 467
        },
        "id": "qzmFUGyZLMzl",
        "outputId": "930ee16f-ed9a-4d68-e59d-a7468ce34ec6"
      },
      "source": [
        "# w_dg, errors_gd = gradient_descent(X, y, learning_rate=95e-5, log=False)\n",
        "# w_sdg, errors_sgd = stochastic_gradient_descent(X, y, learning_rate=95e-5, log=False)\n",
        "plt.figure(figsize = (12, 7))\n",
        "\n",
        "plt.plot(range(len(errors_gd)), errors_gd, c='#F46036')\n",
        "plt.plot(range(len(errors_sgd)), errors_sgd, c='#0CA4A5')\n",
        "plt.xlim(0, 800)\n",
        "# plt.ylim(0, 500)\n",
        "plt.title('MSE', size=20)"
      ],
      "id": "qzmFUGyZLMzl",
      "execution_count": null,
      "outputs": [
        {
          "output_type": "execute_result",
          "data": {
            "text/plain": [
              "Text(0.5, 1.0, 'MSE')"
            ]
          },
          "metadata": {
            "tags": []
          },
          "execution_count": 264
        },
        {
          "output_type": "display_data",
          "data": {
            "image/png": "[encoded data removed]",
            "text/plain": [
              "<Figure size 864x504 with 1 Axes>"
            ]
          },
          "metadata": {
            "tags": [],
            "needs_background": "light"
          }
        }
      ]
    },
    {
      "cell_type": "markdown",
      "metadata": {
        "id": "qqclobvM1Mkq"
      },
      "source": [
        "Градиентный спуск сходится за меньшее количество итераций и отрабатывает быстрее, чем Стохастический градиентный спуск"
      ],
      "id": "qqclobvM1Mkq"
    },
    {
      "cell_type": "code",
      "metadata": {
        "id": "6d7dbcb6-7345-4bf0-8bac-098d40b1400a"
      },
      "source": [
        ""
      ],
      "id": "6d7dbcb6-7345-4bf0-8bac-098d40b1400a",
      "execution_count": null,
      "outputs": []
    }
  ]
}