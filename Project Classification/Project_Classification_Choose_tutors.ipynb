{
  "nbformat": 4,
  "nbformat_minor": 5,
  "metadata": {
    "kernelspec": {
      "display_name": "Python 3",
      "language": "python",
      "name": "python3"
    },
    "language_info": {
      "codemirror_mode": {
        "name": "ipython",
        "version": 3
      },
      "file_extension": ".py",
      "mimetype": "text/x-python",
      "name": "python",
      "nbconvert_exporter": "python",
      "pygments_lexer": "ipython3",
      "version": "3.9.5"
    },
    "colab": {
      "name": "Project_Classification_Choose tutors.ipynb",
      "provenance": [],
      "collapsed_sections": []
    }
  },
  "cells": [
    {
      "cell_type": "markdown",
      "metadata": {
        "id": "69693436-99b5-40ab-9dff-9a1e9b1416b0"
      },
      "source": [
        "## Описание проекта\n",
        "\n",
        "In this competition your task will be to predict the probability for a tutor to be a proper one for preparing for the math exam. You will be given two datasets: train.csv (contains all features and the target) and test.csv (only features).\n",
        "\n",
        "The evaluation metric is ROC AUC  \n",
        "\n",
        "**Columns:** \n",
        "`Id`, `age`, `years_of_experience`, `lesson_price`, `qualification`, `physics`, `chemistry`, `biology`\n",
        "`english`, `geography`, `history`, `mean_exam_points`,\n",
        "\n",
        "**Target:**\n",
        "`choose` "
      ],
      "id": "69693436-99b5-40ab-9dff-9a1e9b1416b0"
    },
    {
      "cell_type": "markdown",
      "metadata": {
        "id": "U2c4NXlS-4Q5"
      },
      "source": [
        "## Подключение библиотек и загрузка данных"
      ],
      "id": "U2c4NXlS-4Q5"
    },
    {
      "cell_type": "code",
      "metadata": {
        "id": "974f8a66-6def-4a64-bbcb-6d837ba3f2a1",
        "colab": {
          "base_uri": "https://localhost:8080/"
        },
        "outputId": "015c6ed3-cec2-4a5d-96a9-873e6bedb51b"
      },
      "source": [
        "import numpy as np\n",
        "import pandas as pd\n",
        "from sklearn.model_selection import train_test_split\n",
        "from imblearn import over_sampling, under_sampling\n",
        "import matplotlib.pyplot as plt\n",
        "import seaborn as sns\n",
        "\n",
        "%matplotlib inline\n",
        "%config InlineBackend.figure_format = 'svg'\n",
        "import warnings\n",
        "warnings.filterwarnings('ignore')\n",
        "from matplotlib.colors import ListedColormap\n",
        "\n",
        "\n",
        "color = {'orange': '#F46036', 'teal': '#0CA4A5', 'dblue': '#6D597A'}"
      ],
      "id": "974f8a66-6def-4a64-bbcb-6d837ba3f2a1",
      "execution_count": null,
      "outputs": [
        {
          "output_type": "stream",
          "name": "stderr",
          "text": [
            "/usr/local/lib/python3.7/dist-packages/sklearn/externals/six.py:31: FutureWarning: The module is deprecated in version 0.21 and will be removed in version 0.23 since we've dropped support for Python 2.7. Please rely on the official version of six (https://pypi.org/project/six/).\n",
            "  \"(https://pypi.org/project/six/).\", FutureWarning)\n",
            "/usr/local/lib/python3.7/dist-packages/sklearn/utils/deprecation.py:144: FutureWarning: The sklearn.neighbors.base module is  deprecated in version 0.22 and will be removed in version 0.24. The corresponding classes / functions should instead be imported from sklearn.neighbors. Anything that cannot be imported from sklearn.neighbors is now part of the private API.\n",
            "  warnings.warn(message, FutureWarning)\n"
          ]
        }
      ]
    },
    {
      "cell_type": "code",
      "metadata": {
        "id": "PgigFm5lyph0"
      },
      "source": [
        "def roc_auc(y_proba, y_true):\n",
        "  '''\n",
        "  Make a plot - ROC AUC curve, returns - area_under_curve value\n",
        "\n",
        "  arguments:\n",
        "  y_proba: numpy array - predicted probabilities \n",
        "  y_true: numpy array - true classes\n",
        "\n",
        "  returns:\n",
        "  area_under_curve: float\n",
        "  '''\n",
        "\n",
        "  TPR = []\n",
        "  FPR = []\n",
        "  tresholds = np.linspace(0, 1, 20)\n",
        "\n",
        "  for treshold in tresholds:\n",
        "    y_pred = np.where(y_proba >= treshold, 1, 0)\n",
        "\n",
        "    TP = np.sum((y_true == y_pred) & (y_pred == 1))\n",
        "    FP = np.sum((y_true != y_pred) & (y_pred == 1))\n",
        "    TN = np.sum((y_true == y_pred) & (y_pred == 0))\n",
        "    FN = np.sum((y_true != y_pred) & (y_pred == 0))\n",
        "    \n",
        "    tpr = TP / (TP + FN); TPR.append(tpr)\n",
        "    fpr = FP / (FP + TN); FPR.append(fpr)\n",
        "\n",
        "  area_under_curve = np.abs(np.trapz(TPR, FPR))\n",
        "  x = np.linspace(0, 1, 50)\n",
        "  y = x\n",
        "\n",
        "  plt.figure(figsize=(10, 6))\n",
        "  plt.plot(FPR, TPR, linewidth=1.5, color='#0B032D')\n",
        "  plt.plot(x, y, linestyle='--', linewidth=1.5, color='#e36414')\n",
        "  plt.xlabel('False Positive Rate')\n",
        "  plt.ylabel('True Positive Rate')\n",
        "  plt.title('ROC AUC curve', size=20)\n",
        "\n",
        "  return f'ROC AUC score = {area_under_curve:.4f}'"
      ],
      "id": "PgigFm5lyph0",
      "execution_count": null,
      "outputs": []
    },
    {
      "cell_type": "code",
      "metadata": {
        "id": "f3087d88-1ccb-4126-a779-abc628f48072"
      },
      "source": [
        "df_train = pd.read_csv('train.csv')\n",
        "df_test = pd.read_csv('test.csv')"
      ],
      "id": "f3087d88-1ccb-4126-a779-abc628f48072",
      "execution_count": null,
      "outputs": []
    },
    {
      "cell_type": "code",
      "metadata": {
        "colab": {
          "base_uri": "https://localhost:8080/",
          "height": 226
        },
        "id": "b2e253b6-126f-447b-895e-e6d9e05aa49b",
        "outputId": "95a830b2-8103-4c15-c11f-f850e370ab71"
      },
      "source": [
        "df_train.sample(5)"
      ],
      "id": "b2e253b6-126f-447b-895e-e6d9e05aa49b",
      "execution_count": null,
      "outputs": [
        {
          "output_type": "execute_result",
          "data": {
            "text/html": [
              "<div>\n",
              "<style scoped>\n",
              "    .dataframe tbody tr th:only-of-type {\n",
              "        vertical-align: middle;\n",
              "    }\n",
              "\n",
              "    .dataframe tbody tr th {\n",
              "        vertical-align: top;\n",
              "    }\n",
              "\n",
              "    .dataframe thead th {\n",
              "        text-align: right;\n",
              "    }\n",
              "</style>\n",
              "<table border=\"1\" class=\"dataframe\">\n",
              "  <thead>\n",
              "    <tr style=\"text-align: right;\">\n",
              "      <th></th>\n",
              "      <th>Id</th>\n",
              "      <th>age</th>\n",
              "      <th>years_of_experience</th>\n",
              "      <th>lesson_price</th>\n",
              "      <th>qualification</th>\n",
              "      <th>physics</th>\n",
              "      <th>chemistry</th>\n",
              "      <th>biology</th>\n",
              "      <th>english</th>\n",
              "      <th>geography</th>\n",
              "      <th>history</th>\n",
              "      <th>mean_exam_points</th>\n",
              "      <th>choose</th>\n",
              "    </tr>\n",
              "  </thead>\n",
              "  <tbody>\n",
              "    <tr>\n",
              "      <th>4735</th>\n",
              "      <td>4735</td>\n",
              "      <td>46.0</td>\n",
              "      <td>0.0</td>\n",
              "      <td>2250.0</td>\n",
              "      <td>3.0</td>\n",
              "      <td>0.0</td>\n",
              "      <td>0.0</td>\n",
              "      <td>0.0</td>\n",
              "      <td>0.0</td>\n",
              "      <td>0.0</td>\n",
              "      <td>0.0</td>\n",
              "      <td>82.0</td>\n",
              "      <td>1</td>\n",
              "    </tr>\n",
              "    <tr>\n",
              "      <th>4721</th>\n",
              "      <td>4721</td>\n",
              "      <td>53.0</td>\n",
              "      <td>1.0</td>\n",
              "      <td>2200.0</td>\n",
              "      <td>2.0</td>\n",
              "      <td>0.0</td>\n",
              "      <td>0.0</td>\n",
              "      <td>0.0</td>\n",
              "      <td>0.0</td>\n",
              "      <td>0.0</td>\n",
              "      <td>0.0</td>\n",
              "      <td>67.0</td>\n",
              "      <td>0</td>\n",
              "    </tr>\n",
              "    <tr>\n",
              "      <th>9334</th>\n",
              "      <td>9334</td>\n",
              "      <td>41.0</td>\n",
              "      <td>1.0</td>\n",
              "      <td>2100.0</td>\n",
              "      <td>2.0</td>\n",
              "      <td>0.0</td>\n",
              "      <td>1.0</td>\n",
              "      <td>0.0</td>\n",
              "      <td>0.0</td>\n",
              "      <td>0.0</td>\n",
              "      <td>0.0</td>\n",
              "      <td>72.0</td>\n",
              "      <td>0</td>\n",
              "    </tr>\n",
              "    <tr>\n",
              "      <th>581</th>\n",
              "      <td>581</td>\n",
              "      <td>39.0</td>\n",
              "      <td>0.0</td>\n",
              "      <td>2250.0</td>\n",
              "      <td>3.0</td>\n",
              "      <td>1.0</td>\n",
              "      <td>0.0</td>\n",
              "      <td>1.0</td>\n",
              "      <td>0.0</td>\n",
              "      <td>0.0</td>\n",
              "      <td>0.0</td>\n",
              "      <td>87.0</td>\n",
              "      <td>0</td>\n",
              "    </tr>\n",
              "    <tr>\n",
              "      <th>3140</th>\n",
              "      <td>3140</td>\n",
              "      <td>38.0</td>\n",
              "      <td>2.0</td>\n",
              "      <td>950.0</td>\n",
              "      <td>1.0</td>\n",
              "      <td>0.0</td>\n",
              "      <td>0.0</td>\n",
              "      <td>0.0</td>\n",
              "      <td>0.0</td>\n",
              "      <td>0.0</td>\n",
              "      <td>0.0</td>\n",
              "      <td>50.0</td>\n",
              "      <td>0</td>\n",
              "    </tr>\n",
              "  </tbody>\n",
              "</table>\n",
              "</div>"
            ],
            "text/plain": [
              "        Id   age  years_of_experience  ...  history  mean_exam_points  choose\n",
              "4735  4735  46.0                  0.0  ...      0.0              82.0       1\n",
              "4721  4721  53.0                  1.0  ...      0.0              67.0       0\n",
              "9334  9334  41.0                  1.0  ...      0.0              72.0       0\n",
              "581    581  39.0                  0.0  ...      0.0              87.0       0\n",
              "3140  3140  38.0                  2.0  ...      0.0              50.0       0\n",
              "\n",
              "[5 rows x 13 columns]"
            ]
          },
          "metadata": {},
          "execution_count": 4
        }
      ]
    },
    {
      "cell_type": "code",
      "metadata": {
        "colab": {
          "base_uri": "https://localhost:8080/",
          "height": 226
        },
        "id": "5a434b76-aed6-4404-ad95-bfd75a8db8fc",
        "outputId": "3b369879-2a60-41c4-cf00-62bd2690c531"
      },
      "source": [
        "df_test.sample(5)"
      ],
      "id": "5a434b76-aed6-4404-ad95-bfd75a8db8fc",
      "execution_count": null,
      "outputs": [
        {
          "output_type": "execute_result",
          "data": {
            "text/html": [
              "<div>\n",
              "<style scoped>\n",
              "    .dataframe tbody tr th:only-of-type {\n",
              "        vertical-align: middle;\n",
              "    }\n",
              "\n",
              "    .dataframe tbody tr th {\n",
              "        vertical-align: top;\n",
              "    }\n",
              "\n",
              "    .dataframe thead th {\n",
              "        text-align: right;\n",
              "    }\n",
              "</style>\n",
              "<table border=\"1\" class=\"dataframe\">\n",
              "  <thead>\n",
              "    <tr style=\"text-align: right;\">\n",
              "      <th></th>\n",
              "      <th>Id</th>\n",
              "      <th>age</th>\n",
              "      <th>years_of_experience</th>\n",
              "      <th>lesson_price</th>\n",
              "      <th>qualification</th>\n",
              "      <th>physics</th>\n",
              "      <th>chemistry</th>\n",
              "      <th>biology</th>\n",
              "      <th>english</th>\n",
              "      <th>geography</th>\n",
              "      <th>history</th>\n",
              "      <th>mean_exam_points</th>\n",
              "    </tr>\n",
              "  </thead>\n",
              "  <tbody>\n",
              "    <tr>\n",
              "      <th>4002</th>\n",
              "      <td>14002</td>\n",
              "      <td>48.0</td>\n",
              "      <td>3.0</td>\n",
              "      <td>1250.0</td>\n",
              "      <td>1.0</td>\n",
              "      <td>0.0</td>\n",
              "      <td>0.0</td>\n",
              "      <td>0.0</td>\n",
              "      <td>0.0</td>\n",
              "      <td>0.0</td>\n",
              "      <td>0.0</td>\n",
              "      <td>58.0</td>\n",
              "    </tr>\n",
              "    <tr>\n",
              "      <th>8571</th>\n",
              "      <td>18571</td>\n",
              "      <td>43.0</td>\n",
              "      <td>2.0</td>\n",
              "      <td>1550.0</td>\n",
              "      <td>1.0</td>\n",
              "      <td>1.0</td>\n",
              "      <td>0.0</td>\n",
              "      <td>0.0</td>\n",
              "      <td>0.0</td>\n",
              "      <td>0.0</td>\n",
              "      <td>0.0</td>\n",
              "      <td>58.0</td>\n",
              "    </tr>\n",
              "    <tr>\n",
              "      <th>7829</th>\n",
              "      <td>17829</td>\n",
              "      <td>49.0</td>\n",
              "      <td>1.0</td>\n",
              "      <td>1200.0</td>\n",
              "      <td>1.0</td>\n",
              "      <td>1.0</td>\n",
              "      <td>0.0</td>\n",
              "      <td>0.0</td>\n",
              "      <td>0.0</td>\n",
              "      <td>0.0</td>\n",
              "      <td>0.0</td>\n",
              "      <td>67.0</td>\n",
              "    </tr>\n",
              "    <tr>\n",
              "      <th>5905</th>\n",
              "      <td>15905</td>\n",
              "      <td>40.0</td>\n",
              "      <td>2.0</td>\n",
              "      <td>1700.0</td>\n",
              "      <td>1.0</td>\n",
              "      <td>0.0</td>\n",
              "      <td>0.0</td>\n",
              "      <td>0.0</td>\n",
              "      <td>0.0</td>\n",
              "      <td>0.0</td>\n",
              "      <td>0.0</td>\n",
              "      <td>56.0</td>\n",
              "    </tr>\n",
              "    <tr>\n",
              "      <th>3658</th>\n",
              "      <td>13658</td>\n",
              "      <td>48.0</td>\n",
              "      <td>0.0</td>\n",
              "      <td>1350.0</td>\n",
              "      <td>1.0</td>\n",
              "      <td>1.0</td>\n",
              "      <td>0.0</td>\n",
              "      <td>0.0</td>\n",
              "      <td>0.0</td>\n",
              "      <td>0.0</td>\n",
              "      <td>0.0</td>\n",
              "      <td>63.0</td>\n",
              "    </tr>\n",
              "  </tbody>\n",
              "</table>\n",
              "</div>"
            ],
            "text/plain": [
              "         Id   age  years_of_experience  ...  geography  history  mean_exam_points\n",
              "4002  14002  48.0                  3.0  ...        0.0      0.0              58.0\n",
              "8571  18571  43.0                  2.0  ...        0.0      0.0              58.0\n",
              "7829  17829  49.0                  1.0  ...        0.0      0.0              67.0\n",
              "5905  15905  40.0                  2.0  ...        0.0      0.0              56.0\n",
              "3658  13658  48.0                  0.0  ...        0.0      0.0              63.0\n",
              "\n",
              "[5 rows x 12 columns]"
            ]
          },
          "metadata": {},
          "execution_count": 5
        }
      ]
    },
    {
      "cell_type": "markdown",
      "metadata": {
        "id": "_9ifK9ac3VZu"
      },
      "source": [
        "## EDA"
      ],
      "id": "_9ifK9ac3VZu"
    },
    {
      "cell_type": "markdown",
      "metadata": {
        "id": "OVbCDEX03uv2"
      },
      "source": [
        "Посмотрим на данные в датасете. Проверим, есть ли в данных пропуски и какого типа данные в каждой колонке "
      ],
      "id": "OVbCDEX03uv2"
    },
    {
      "cell_type": "code",
      "metadata": {
        "colab": {
          "base_uri": "https://localhost:8080/"
        },
        "id": "18817b25-a28e-46bc-87c5-b75fa33057e2",
        "outputId": "05dad248-561d-4068-a6e6-6f031191629b"
      },
      "source": [
        "df_train.info()"
      ],
      "id": "18817b25-a28e-46bc-87c5-b75fa33057e2",
      "execution_count": null,
      "outputs": [
        {
          "output_type": "stream",
          "name": "stdout",
          "text": [
            "<class 'pandas.core.frame.DataFrame'>\n",
            "RangeIndex: 10000 entries, 0 to 9999\n",
            "Data columns (total 13 columns):\n",
            " #   Column               Non-Null Count  Dtype  \n",
            "---  ------               --------------  -----  \n",
            " 0   Id                   10000 non-null  int64  \n",
            " 1   age                  10000 non-null  float64\n",
            " 2   years_of_experience  10000 non-null  float64\n",
            " 3   lesson_price         10000 non-null  float64\n",
            " 4   qualification        10000 non-null  float64\n",
            " 5   physics              10000 non-null  float64\n",
            " 6   chemistry            10000 non-null  float64\n",
            " 7   biology              10000 non-null  float64\n",
            " 8   english              10000 non-null  float64\n",
            " 9   geography            10000 non-null  float64\n",
            " 10  history              10000 non-null  float64\n",
            " 11  mean_exam_points     10000 non-null  float64\n",
            " 12  choose               10000 non-null  int64  \n",
            "dtypes: float64(11), int64(2)\n",
            "memory usage: 1015.8 KB\n"
          ]
        }
      ]
    },
    {
      "cell_type": "code",
      "metadata": {
        "colab": {
          "base_uri": "https://localhost:8080/"
        },
        "id": "fAcjKEyd3ch9",
        "outputId": "1ec3eb3f-9104-4822-ecb3-6fb45a7c7482"
      },
      "source": [
        "df_test.info()"
      ],
      "id": "fAcjKEyd3ch9",
      "execution_count": null,
      "outputs": [
        {
          "output_type": "stream",
          "name": "stdout",
          "text": [
            "<class 'pandas.core.frame.DataFrame'>\n",
            "RangeIndex: 10000 entries, 0 to 9999\n",
            "Data columns (total 12 columns):\n",
            " #   Column               Non-Null Count  Dtype  \n",
            "---  ------               --------------  -----  \n",
            " 0   Id                   10000 non-null  int64  \n",
            " 1   age                  10000 non-null  float64\n",
            " 2   years_of_experience  10000 non-null  float64\n",
            " 3   lesson_price         10000 non-null  float64\n",
            " 4   qualification        10000 non-null  float64\n",
            " 5   physics              10000 non-null  float64\n",
            " 6   chemistry            10000 non-null  float64\n",
            " 7   biology              10000 non-null  float64\n",
            " 8   english              10000 non-null  float64\n",
            " 9   geography            10000 non-null  float64\n",
            " 10  history              10000 non-null  float64\n",
            " 11  mean_exam_points     10000 non-null  float64\n",
            "dtypes: float64(11), int64(1)\n",
            "memory usage: 937.6 KB\n"
          ]
        }
      ]
    },
    {
      "cell_type": "markdown",
      "metadata": {
        "id": "UEQ71mFf4QH7"
      },
      "source": [
        "Все данные числовые, пропуски отсутствуют и в trein и в test.  \n",
        "\n",
        "\n",
        "**Обзор целевой переменной**\n",
        "\n",
        "Посмотрим на значения целевой переменной."
      ],
      "id": "UEQ71mFf4QH7"
    },
    {
      "cell_type": "code",
      "metadata": {
        "colab": {
          "base_uri": "https://localhost:8080/"
        },
        "id": "iZUX3lQP-TOk",
        "outputId": "fff4ea39-9dec-4347-b754-861a09ed57e0"
      },
      "source": [
        "df_train['choose'].value_counts(normalize=True)"
      ],
      "id": "iZUX3lQP-TOk",
      "execution_count": null,
      "outputs": [
        {
          "output_type": "execute_result",
          "data": {
            "text/plain": [
              "0    0.8891\n",
              "1    0.1109\n",
              "Name: choose, dtype: float64"
            ]
          },
          "metadata": {},
          "execution_count": 8
        }
      ]
    },
    {
      "cell_type": "code",
      "metadata": {
        "colab": {
          "base_uri": "https://localhost:8080/",
          "height": 545
        },
        "id": "kl0WS7IwFuJR",
        "outputId": "0835ce33-11ee-4cff-e12d-892f7d789557"
      },
      "source": [
        "plt.figure(figsize=(10, 6))\n",
        "\n",
        "x = np.arange(2)\n",
        "target_count = df_train['choose'].value_counts()\n",
        "\n",
        "plt.barh(x, target_count.values, color=[color['teal'], color['orange']])\n",
        "plt.title('Target values', size=20)\n",
        "plt.xlabel('Value counts')\n",
        "plt.ylabel('Values')\n",
        "plt.yticks(x, (0, 1))\n",
        "plt.show()"
      ],
      "id": "kl0WS7IwFuJR",
      "execution_count": null,
      "outputs": [
        {
          "output_type": "display_data",
          "data": {
            "text/plain": [
              "<Figure size 720x432 with 1 Axes>"
            ],
            "image/svg+xml": "<?xml version=\"1.0\" encoding=\"utf-8\" standalone=\"no\"?>\n<!DOCTYPE svg PUBLIC \"-//W3C//DTD SVG 1.1//EN\"\n  \"http://www.w3.org/Graphics/SVG/1.1/DTD/svg11.dtd\">\n<!-- Created with matplotlib (https://matplotlib.org/) -->\n<svg height=\"392.113125pt\" version=\"1.1\" viewBox=\"0 0 599.440625 392.113125\" width=\"599.440625pt\" xmlns=\"http://www.w3.org/2000/svg\" xmlns:xlink=\"http://www.w3.org/1999/xlink\">\n <defs>\n  <style type=\"text/css\">\n*{stroke-linecap:butt;stroke-linejoin:round;}\n  </style>\n </defs>\n <g id=\"figure_1\">\n  <g id=\"patch_1\">\n   <path d=\"M 0 392.113125 \nL 599.440625 392.113125 \nL 599.440625 0 \nL 0 0 \nz\n\" style=\"fill:none;\"/>\n  </g>\n  <g id=\"axes_1\">\n   <g id=\"patch_2\">\n    <path d=\"M 34.240625 354.556875 \nL 592.240625 354.556875 \nL 592.240625 28.396875 \nL 34.240625 28.396875 \nz\n\" style=\"fill:#ffffff;\"/>\n   </g>\n   <g id=\"patch_3\">\n    <path clip-path=\"url(#p54917bb7b2)\" d=\"M 34.240625 339.73142 \nL 565.669196 339.73142 \nL 565.669196 207.949602 \nL 34.240625 207.949602 \nz\n\" style=\"fill:#0ca4a5;\"/>\n   </g>\n   <g id=\"patch_4\">\n    <path clip-path=\"url(#p54917bb7b2)\" d=\"M 34.240625 175.004148 \nL 100.527239 175.004148 \nL 100.527239 43.22233 \nL 34.240625 43.22233 \nz\n\" style=\"fill:#f46036;\"/>\n   </g>\n   <g id=\"matplotlib.axis_1\">\n    <g id=\"xtick_1\">\n     <g id=\"line2d_1\">\n      <defs>\n       <path d=\"M 0 0 \nL 0 3.5 \n\" id=\"m35add15e47\" style=\"stroke:#000000;stroke-width:0.8;\"/>\n      </defs>\n      <g>\n       <use style=\"stroke:#000000;stroke-width:0.8;\" x=\"34.240625\" xlink:href=\"#m35add15e47\" y=\"354.556875\"/>\n      </g>\n     </g>\n     <g id=\"text_1\">\n      <!-- 0 -->\n      <defs>\n       <path d=\"M 31.78125 66.40625 \nQ 24.171875 66.40625 20.328125 58.90625 \nQ 16.5 51.421875 16.5 36.375 \nQ 16.5 21.390625 20.328125 13.890625 \nQ 24.171875 6.390625 31.78125 6.390625 \nQ 39.453125 6.390625 43.28125 13.890625 \nQ 47.125 21.390625 47.125 36.375 \nQ 47.125 51.421875 43.28125 58.90625 \nQ 39.453125 66.40625 31.78125 66.40625 \nz\nM 31.78125 74.21875 \nQ 44.046875 74.21875 50.515625 64.515625 \nQ 56.984375 54.828125 56.984375 36.375 \nQ 56.984375 17.96875 50.515625 8.265625 \nQ 44.046875 -1.421875 31.78125 -1.421875 \nQ 19.53125 -1.421875 13.0625 8.265625 \nQ 6.59375 17.96875 6.59375 36.375 \nQ 6.59375 54.828125 13.0625 64.515625 \nQ 19.53125 74.21875 31.78125 74.21875 \nz\n\" id=\"DejaVuSans-48\"/>\n      </defs>\n      <g transform=\"translate(31.059375 369.155312)scale(0.1 -0.1)\">\n       <use xlink:href=\"#DejaVuSans-48\"/>\n      </g>\n     </g>\n    </g>\n    <g id=\"xtick_2\">\n     <g id=\"line2d_2\">\n      <g>\n       <use style=\"stroke:#000000;stroke-width:0.8;\" x=\"153.783662\" xlink:href=\"#m35add15e47\" y=\"354.556875\"/>\n      </g>\n     </g>\n     <g id=\"text_2\">\n      <!-- 2000 -->\n      <defs>\n       <path d=\"M 19.1875 8.296875 \nL 53.609375 8.296875 \nL 53.609375 0 \nL 7.328125 0 \nL 7.328125 8.296875 \nQ 12.9375 14.109375 22.625 23.890625 \nQ 32.328125 33.6875 34.8125 36.53125 \nQ 39.546875 41.84375 41.421875 45.53125 \nQ 43.3125 49.21875 43.3125 52.78125 \nQ 43.3125 58.59375 39.234375 62.25 \nQ 35.15625 65.921875 28.609375 65.921875 \nQ 23.96875 65.921875 18.8125 64.3125 \nQ 13.671875 62.703125 7.8125 59.421875 \nL 7.8125 69.390625 \nQ 13.765625 71.78125 18.9375 73 \nQ 24.125 74.21875 28.421875 74.21875 \nQ 39.75 74.21875 46.484375 68.546875 \nQ 53.21875 62.890625 53.21875 53.421875 \nQ 53.21875 48.921875 51.53125 44.890625 \nQ 49.859375 40.875 45.40625 35.40625 \nQ 44.1875 33.984375 37.640625 27.21875 \nQ 31.109375 20.453125 19.1875 8.296875 \nz\n\" id=\"DejaVuSans-50\"/>\n      </defs>\n      <g transform=\"translate(141.058662 369.155312)scale(0.1 -0.1)\">\n       <use xlink:href=\"#DejaVuSans-50\"/>\n       <use x=\"63.623047\" xlink:href=\"#DejaVuSans-48\"/>\n       <use x=\"127.246094\" xlink:href=\"#DejaVuSans-48\"/>\n       <use x=\"190.869141\" xlink:href=\"#DejaVuSans-48\"/>\n      </g>\n     </g>\n    </g>\n    <g id=\"xtick_3\">\n     <g id=\"line2d_3\">\n      <g>\n       <use style=\"stroke:#000000;stroke-width:0.8;\" x=\"273.326699\" xlink:href=\"#m35add15e47\" y=\"354.556875\"/>\n      </g>\n     </g>\n     <g id=\"text_3\">\n      <!-- 4000 -->\n      <defs>\n       <path d=\"M 37.796875 64.3125 \nL 12.890625 25.390625 \nL 37.796875 25.390625 \nz\nM 35.203125 72.90625 \nL 47.609375 72.90625 \nL 47.609375 25.390625 \nL 58.015625 25.390625 \nL 58.015625 17.1875 \nL 47.609375 17.1875 \nL 47.609375 0 \nL 37.796875 0 \nL 37.796875 17.1875 \nL 4.890625 17.1875 \nL 4.890625 26.703125 \nz\n\" id=\"DejaVuSans-52\"/>\n      </defs>\n      <g transform=\"translate(260.601699 369.155312)scale(0.1 -0.1)\">\n       <use xlink:href=\"#DejaVuSans-52\"/>\n       <use x=\"63.623047\" xlink:href=\"#DejaVuSans-48\"/>\n       <use x=\"127.246094\" xlink:href=\"#DejaVuSans-48\"/>\n       <use x=\"190.869141\" xlink:href=\"#DejaVuSans-48\"/>\n      </g>\n     </g>\n    </g>\n    <g id=\"xtick_4\">\n     <g id=\"line2d_4\">\n      <g>\n       <use style=\"stroke:#000000;stroke-width:0.8;\" x=\"392.869736\" xlink:href=\"#m35add15e47\" y=\"354.556875\"/>\n      </g>\n     </g>\n     <g id=\"text_4\">\n      <!-- 6000 -->\n      <defs>\n       <path d=\"M 33.015625 40.375 \nQ 26.375 40.375 22.484375 35.828125 \nQ 18.609375 31.296875 18.609375 23.390625 \nQ 18.609375 15.53125 22.484375 10.953125 \nQ 26.375 6.390625 33.015625 6.390625 \nQ 39.65625 6.390625 43.53125 10.953125 \nQ 47.40625 15.53125 47.40625 23.390625 \nQ 47.40625 31.296875 43.53125 35.828125 \nQ 39.65625 40.375 33.015625 40.375 \nz\nM 52.59375 71.296875 \nL 52.59375 62.3125 \nQ 48.875 64.0625 45.09375 64.984375 \nQ 41.3125 65.921875 37.59375 65.921875 \nQ 27.828125 65.921875 22.671875 59.328125 \nQ 17.53125 52.734375 16.796875 39.40625 \nQ 19.671875 43.65625 24.015625 45.921875 \nQ 28.375 48.1875 33.59375 48.1875 \nQ 44.578125 48.1875 50.953125 41.515625 \nQ 57.328125 34.859375 57.328125 23.390625 \nQ 57.328125 12.15625 50.6875 5.359375 \nQ 44.046875 -1.421875 33.015625 -1.421875 \nQ 20.359375 -1.421875 13.671875 8.265625 \nQ 6.984375 17.96875 6.984375 36.375 \nQ 6.984375 53.65625 15.1875 63.9375 \nQ 23.390625 74.21875 37.203125 74.21875 \nQ 40.921875 74.21875 44.703125 73.484375 \nQ 48.484375 72.75 52.59375 71.296875 \nz\n\" id=\"DejaVuSans-54\"/>\n      </defs>\n      <g transform=\"translate(380.144736 369.155312)scale(0.1 -0.1)\">\n       <use xlink:href=\"#DejaVuSans-54\"/>\n       <use x=\"63.623047\" xlink:href=\"#DejaVuSans-48\"/>\n       <use x=\"127.246094\" xlink:href=\"#DejaVuSans-48\"/>\n       <use x=\"190.869141\" xlink:href=\"#DejaVuSans-48\"/>\n      </g>\n     </g>\n    </g>\n    <g id=\"xtick_5\">\n     <g id=\"line2d_5\">\n      <g>\n       <use style=\"stroke:#000000;stroke-width:0.8;\" x=\"512.412773\" xlink:href=\"#m35add15e47\" y=\"354.556875\"/>\n      </g>\n     </g>\n     <g id=\"text_5\">\n      <!-- 8000 -->\n      <defs>\n       <path d=\"M 31.78125 34.625 \nQ 24.75 34.625 20.71875 30.859375 \nQ 16.703125 27.09375 16.703125 20.515625 \nQ 16.703125 13.921875 20.71875 10.15625 \nQ 24.75 6.390625 31.78125 6.390625 \nQ 38.8125 6.390625 42.859375 10.171875 \nQ 46.921875 13.96875 46.921875 20.515625 \nQ 46.921875 27.09375 42.890625 30.859375 \nQ 38.875 34.625 31.78125 34.625 \nz\nM 21.921875 38.8125 \nQ 15.578125 40.375 12.03125 44.71875 \nQ 8.5 49.078125 8.5 55.328125 \nQ 8.5 64.0625 14.71875 69.140625 \nQ 20.953125 74.21875 31.78125 74.21875 \nQ 42.671875 74.21875 48.875 69.140625 \nQ 55.078125 64.0625 55.078125 55.328125 \nQ 55.078125 49.078125 51.53125 44.71875 \nQ 48 40.375 41.703125 38.8125 \nQ 48.828125 37.15625 52.796875 32.3125 \nQ 56.78125 27.484375 56.78125 20.515625 \nQ 56.78125 9.90625 50.3125 4.234375 \nQ 43.84375 -1.421875 31.78125 -1.421875 \nQ 19.734375 -1.421875 13.25 4.234375 \nQ 6.78125 9.90625 6.78125 20.515625 \nQ 6.78125 27.484375 10.78125 32.3125 \nQ 14.796875 37.15625 21.921875 38.8125 \nz\nM 18.3125 54.390625 \nQ 18.3125 48.734375 21.84375 45.5625 \nQ 25.390625 42.390625 31.78125 42.390625 \nQ 38.140625 42.390625 41.71875 45.5625 \nQ 45.3125 48.734375 45.3125 54.390625 \nQ 45.3125 60.0625 41.71875 63.234375 \nQ 38.140625 66.40625 31.78125 66.40625 \nQ 25.390625 66.40625 21.84375 63.234375 \nQ 18.3125 60.0625 18.3125 54.390625 \nz\n\" id=\"DejaVuSans-56\"/>\n      </defs>\n      <g transform=\"translate(499.687773 369.155312)scale(0.1 -0.1)\">\n       <use xlink:href=\"#DejaVuSans-56\"/>\n       <use x=\"63.623047\" xlink:href=\"#DejaVuSans-48\"/>\n       <use x=\"127.246094\" xlink:href=\"#DejaVuSans-48\"/>\n       <use x=\"190.869141\" xlink:href=\"#DejaVuSans-48\"/>\n      </g>\n     </g>\n    </g>\n    <g id=\"text_6\">\n     <!-- Value counts -->\n     <defs>\n      <path d=\"M 28.609375 0 \nL 0.78125 72.90625 \nL 11.078125 72.90625 \nL 34.1875 11.53125 \nL 57.328125 72.90625 \nL 67.578125 72.90625 \nL 39.796875 0 \nz\n\" id=\"DejaVuSans-86\"/>\n      <path d=\"M 34.28125 27.484375 \nQ 23.390625 27.484375 19.1875 25 \nQ 14.984375 22.515625 14.984375 16.5 \nQ 14.984375 11.71875 18.140625 8.90625 \nQ 21.296875 6.109375 26.703125 6.109375 \nQ 34.1875 6.109375 38.703125 11.40625 \nQ 43.21875 16.703125 43.21875 25.484375 \nL 43.21875 27.484375 \nz\nM 52.203125 31.203125 \nL 52.203125 0 \nL 43.21875 0 \nL 43.21875 8.296875 \nQ 40.140625 3.328125 35.546875 0.953125 \nQ 30.953125 -1.421875 24.3125 -1.421875 \nQ 15.921875 -1.421875 10.953125 3.296875 \nQ 6 8.015625 6 15.921875 \nQ 6 25.140625 12.171875 29.828125 \nQ 18.359375 34.515625 30.609375 34.515625 \nL 43.21875 34.515625 \nL 43.21875 35.40625 \nQ 43.21875 41.609375 39.140625 45 \nQ 35.0625 48.390625 27.6875 48.390625 \nQ 23 48.390625 18.546875 47.265625 \nQ 14.109375 46.140625 10.015625 43.890625 \nL 10.015625 52.203125 \nQ 14.9375 54.109375 19.578125 55.046875 \nQ 24.21875 56 28.609375 56 \nQ 40.484375 56 46.34375 49.84375 \nQ 52.203125 43.703125 52.203125 31.203125 \nz\n\" id=\"DejaVuSans-97\"/>\n      <path d=\"M 9.421875 75.984375 \nL 18.40625 75.984375 \nL 18.40625 0 \nL 9.421875 0 \nz\n\" id=\"DejaVuSans-108\"/>\n      <path d=\"M 8.5 21.578125 \nL 8.5 54.6875 \nL 17.484375 54.6875 \nL 17.484375 21.921875 \nQ 17.484375 14.15625 20.5 10.265625 \nQ 23.53125 6.390625 29.59375 6.390625 \nQ 36.859375 6.390625 41.078125 11.03125 \nQ 45.3125 15.671875 45.3125 23.6875 \nL 45.3125 54.6875 \nL 54.296875 54.6875 \nL 54.296875 0 \nL 45.3125 0 \nL 45.3125 8.40625 \nQ 42.046875 3.421875 37.71875 1 \nQ 33.40625 -1.421875 27.6875 -1.421875 \nQ 18.265625 -1.421875 13.375 4.4375 \nQ 8.5 10.296875 8.5 21.578125 \nz\nM 31.109375 56 \nz\n\" id=\"DejaVuSans-117\"/>\n      <path d=\"M 56.203125 29.59375 \nL 56.203125 25.203125 \nL 14.890625 25.203125 \nQ 15.484375 15.921875 20.484375 11.0625 \nQ 25.484375 6.203125 34.421875 6.203125 \nQ 39.59375 6.203125 44.453125 7.46875 \nQ 49.3125 8.734375 54.109375 11.28125 \nL 54.109375 2.78125 \nQ 49.265625 0.734375 44.1875 -0.34375 \nQ 39.109375 -1.421875 33.890625 -1.421875 \nQ 20.796875 -1.421875 13.15625 6.1875 \nQ 5.515625 13.8125 5.515625 26.8125 \nQ 5.515625 40.234375 12.765625 48.109375 \nQ 20.015625 56 32.328125 56 \nQ 43.359375 56 49.78125 48.890625 \nQ 56.203125 41.796875 56.203125 29.59375 \nz\nM 47.21875 32.234375 \nQ 47.125 39.59375 43.09375 43.984375 \nQ 39.0625 48.390625 32.421875 48.390625 \nQ 24.90625 48.390625 20.390625 44.140625 \nQ 15.875 39.890625 15.1875 32.171875 \nz\n\" id=\"DejaVuSans-101\"/>\n      <path id=\"DejaVuSans-32\"/>\n      <path d=\"M 48.78125 52.59375 \nL 48.78125 44.1875 \nQ 44.96875 46.296875 41.140625 47.34375 \nQ 37.3125 48.390625 33.40625 48.390625 \nQ 24.65625 48.390625 19.8125 42.84375 \nQ 14.984375 37.3125 14.984375 27.296875 \nQ 14.984375 17.28125 19.8125 11.734375 \nQ 24.65625 6.203125 33.40625 6.203125 \nQ 37.3125 6.203125 41.140625 7.25 \nQ 44.96875 8.296875 48.78125 10.40625 \nL 48.78125 2.09375 \nQ 45.015625 0.34375 40.984375 -0.53125 \nQ 36.96875 -1.421875 32.421875 -1.421875 \nQ 20.0625 -1.421875 12.78125 6.34375 \nQ 5.515625 14.109375 5.515625 27.296875 \nQ 5.515625 40.671875 12.859375 48.328125 \nQ 20.21875 56 33.015625 56 \nQ 37.15625 56 41.109375 55.140625 \nQ 45.0625 54.296875 48.78125 52.59375 \nz\n\" id=\"DejaVuSans-99\"/>\n      <path d=\"M 30.609375 48.390625 \nQ 23.390625 48.390625 19.1875 42.75 \nQ 14.984375 37.109375 14.984375 27.296875 \nQ 14.984375 17.484375 19.15625 11.84375 \nQ 23.34375 6.203125 30.609375 6.203125 \nQ 37.796875 6.203125 41.984375 11.859375 \nQ 46.1875 17.53125 46.1875 27.296875 \nQ 46.1875 37.015625 41.984375 42.703125 \nQ 37.796875 48.390625 30.609375 48.390625 \nz\nM 30.609375 56 \nQ 42.328125 56 49.015625 48.375 \nQ 55.71875 40.765625 55.71875 27.296875 \nQ 55.71875 13.875 49.015625 6.21875 \nQ 42.328125 -1.421875 30.609375 -1.421875 \nQ 18.84375 -1.421875 12.171875 6.21875 \nQ 5.515625 13.875 5.515625 27.296875 \nQ 5.515625 40.765625 12.171875 48.375 \nQ 18.84375 56 30.609375 56 \nz\n\" id=\"DejaVuSans-111\"/>\n      <path d=\"M 54.890625 33.015625 \nL 54.890625 0 \nL 45.90625 0 \nL 45.90625 32.71875 \nQ 45.90625 40.484375 42.875 44.328125 \nQ 39.84375 48.1875 33.796875 48.1875 \nQ 26.515625 48.1875 22.3125 43.546875 \nQ 18.109375 38.921875 18.109375 30.90625 \nL 18.109375 0 \nL 9.078125 0 \nL 9.078125 54.6875 \nL 18.109375 54.6875 \nL 18.109375 46.1875 \nQ 21.34375 51.125 25.703125 53.5625 \nQ 30.078125 56 35.796875 56 \nQ 45.21875 56 50.046875 50.171875 \nQ 54.890625 44.34375 54.890625 33.015625 \nz\n\" id=\"DejaVuSans-110\"/>\n      <path d=\"M 18.3125 70.21875 \nL 18.3125 54.6875 \nL 36.8125 54.6875 \nL 36.8125 47.703125 \nL 18.3125 47.703125 \nL 18.3125 18.015625 \nQ 18.3125 11.328125 20.140625 9.421875 \nQ 21.96875 7.515625 27.59375 7.515625 \nL 36.8125 7.515625 \nL 36.8125 0 \nL 27.59375 0 \nQ 17.1875 0 13.234375 3.875 \nQ 9.28125 7.765625 9.28125 18.015625 \nL 9.28125 47.703125 \nL 2.6875 47.703125 \nL 2.6875 54.6875 \nL 9.28125 54.6875 \nL 9.28125 70.21875 \nz\n\" id=\"DejaVuSans-116\"/>\n      <path d=\"M 44.28125 53.078125 \nL 44.28125 44.578125 \nQ 40.484375 46.53125 36.375 47.5 \nQ 32.28125 48.484375 27.875 48.484375 \nQ 21.1875 48.484375 17.84375 46.4375 \nQ 14.5 44.390625 14.5 40.28125 \nQ 14.5 37.15625 16.890625 35.375 \nQ 19.28125 33.59375 26.515625 31.984375 \nL 29.59375 31.296875 \nQ 39.15625 29.25 43.1875 25.515625 \nQ 47.21875 21.78125 47.21875 15.09375 \nQ 47.21875 7.46875 41.1875 3.015625 \nQ 35.15625 -1.421875 24.609375 -1.421875 \nQ 20.21875 -1.421875 15.453125 -0.5625 \nQ 10.6875 0.296875 5.421875 2 \nL 5.421875 11.28125 \nQ 10.40625 8.6875 15.234375 7.390625 \nQ 20.0625 6.109375 24.8125 6.109375 \nQ 31.15625 6.109375 34.5625 8.28125 \nQ 37.984375 10.453125 37.984375 14.40625 \nQ 37.984375 18.0625 35.515625 20.015625 \nQ 33.0625 21.96875 24.703125 23.78125 \nL 21.578125 24.515625 \nQ 13.234375 26.265625 9.515625 29.90625 \nQ 5.8125 33.546875 5.8125 39.890625 \nQ 5.8125 47.609375 11.28125 51.796875 \nQ 16.75 56 26.8125 56 \nQ 31.78125 56 36.171875 55.265625 \nQ 40.578125 54.546875 44.28125 53.078125 \nz\n\" id=\"DejaVuSans-115\"/>\n     </defs>\n     <g transform=\"translate(281.209375 382.833437)scale(0.1 -0.1)\">\n      <use xlink:href=\"#DejaVuSans-86\"/>\n      <use x=\"60.658203\" xlink:href=\"#DejaVuSans-97\"/>\n      <use x=\"121.9375\" xlink:href=\"#DejaVuSans-108\"/>\n      <use x=\"149.720703\" xlink:href=\"#DejaVuSans-117\"/>\n      <use x=\"213.099609\" xlink:href=\"#DejaVuSans-101\"/>\n      <use x=\"274.623047\" xlink:href=\"#DejaVuSans-32\"/>\n      <use x=\"306.410156\" xlink:href=\"#DejaVuSans-99\"/>\n      <use x=\"361.390625\" xlink:href=\"#DejaVuSans-111\"/>\n      <use x=\"422.572266\" xlink:href=\"#DejaVuSans-117\"/>\n      <use x=\"485.951172\" xlink:href=\"#DejaVuSans-110\"/>\n      <use x=\"549.330078\" xlink:href=\"#DejaVuSans-116\"/>\n      <use x=\"588.539062\" xlink:href=\"#DejaVuSans-115\"/>\n     </g>\n    </g>\n   </g>\n   <g id=\"matplotlib.axis_2\">\n    <g id=\"ytick_1\">\n     <g id=\"line2d_6\">\n      <defs>\n       <path d=\"M 0 0 \nL -3.5 0 \n\" id=\"m30b4e210fb\" style=\"stroke:#000000;stroke-width:0.8;\"/>\n      </defs>\n      <g>\n       <use style=\"stroke:#000000;stroke-width:0.8;\" x=\"34.240625\" xlink:href=\"#m30b4e210fb\" y=\"273.840511\"/>\n      </g>\n     </g>\n     <g id=\"text_7\">\n      <!-- 0 -->\n      <g transform=\"translate(20.878125 277.63973)scale(0.1 -0.1)\">\n       <use xlink:href=\"#DejaVuSans-48\"/>\n      </g>\n     </g>\n    </g>\n    <g id=\"ytick_2\">\n     <g id=\"line2d_7\">\n      <g>\n       <use style=\"stroke:#000000;stroke-width:0.8;\" x=\"34.240625\" xlink:href=\"#m30b4e210fb\" y=\"109.113239\"/>\n      </g>\n     </g>\n     <g id=\"text_8\">\n      <!-- 1 -->\n      <defs>\n       <path d=\"M 12.40625 8.296875 \nL 28.515625 8.296875 \nL 28.515625 63.921875 \nL 10.984375 60.40625 \nL 10.984375 69.390625 \nL 28.421875 72.90625 \nL 38.28125 72.90625 \nL 38.28125 8.296875 \nL 54.390625 8.296875 \nL 54.390625 0 \nL 12.40625 0 \nz\n\" id=\"DejaVuSans-49\"/>\n      </defs>\n      <g transform=\"translate(20.878125 112.912457)scale(0.1 -0.1)\">\n       <use xlink:href=\"#DejaVuSans-49\"/>\n      </g>\n     </g>\n    </g>\n    <g id=\"text_9\">\n     <!-- Values -->\n     <g transform=\"translate(14.798437 207.812812)rotate(-90)scale(0.1 -0.1)\">\n      <use xlink:href=\"#DejaVuSans-86\"/>\n      <use x=\"60.658203\" xlink:href=\"#DejaVuSans-97\"/>\n      <use x=\"121.9375\" xlink:href=\"#DejaVuSans-108\"/>\n      <use x=\"149.720703\" xlink:href=\"#DejaVuSans-117\"/>\n      <use x=\"213.099609\" xlink:href=\"#DejaVuSans-101\"/>\n      <use x=\"274.623047\" xlink:href=\"#DejaVuSans-115\"/>\n     </g>\n    </g>\n   </g>\n   <g id=\"patch_5\">\n    <path d=\"M 34.240625 354.556875 \nL 34.240625 28.396875 \n\" style=\"fill:none;stroke:#000000;stroke-linecap:square;stroke-linejoin:miter;stroke-width:0.8;\"/>\n   </g>\n   <g id=\"patch_6\">\n    <path d=\"M 592.240625 354.556875 \nL 592.240625 28.396875 \n\" style=\"fill:none;stroke:#000000;stroke-linecap:square;stroke-linejoin:miter;stroke-width:0.8;\"/>\n   </g>\n   <g id=\"patch_7\">\n    <path d=\"M 34.240625 354.556875 \nL 592.240625 354.556875 \n\" style=\"fill:none;stroke:#000000;stroke-linecap:square;stroke-linejoin:miter;stroke-width:0.8;\"/>\n   </g>\n   <g id=\"patch_8\">\n    <path d=\"M 34.240625 28.396875 \nL 592.240625 28.396875 \n\" style=\"fill:none;stroke:#000000;stroke-linecap:square;stroke-linejoin:miter;stroke-width:0.8;\"/>\n   </g>\n   <g id=\"text_10\">\n    <!-- Target values -->\n    <defs>\n     <path d=\"M -0.296875 72.90625 \nL 61.375 72.90625 \nL 61.375 64.59375 \nL 35.5 64.59375 \nL 35.5 0 \nL 25.59375 0 \nL 25.59375 64.59375 \nL -0.296875 64.59375 \nz\n\" id=\"DejaVuSans-84\"/>\n     <path d=\"M 41.109375 46.296875 \nQ 39.59375 47.171875 37.8125 47.578125 \nQ 36.03125 48 33.890625 48 \nQ 26.265625 48 22.1875 43.046875 \nQ 18.109375 38.09375 18.109375 28.8125 \nL 18.109375 0 \nL 9.078125 0 \nL 9.078125 54.6875 \nL 18.109375 54.6875 \nL 18.109375 46.1875 \nQ 20.953125 51.171875 25.484375 53.578125 \nQ 30.03125 56 36.53125 56 \nQ 37.453125 56 38.578125 55.875 \nQ 39.703125 55.765625 41.0625 55.515625 \nz\n\" id=\"DejaVuSans-114\"/>\n     <path d=\"M 45.40625 27.984375 \nQ 45.40625 37.75 41.375 43.109375 \nQ 37.359375 48.484375 30.078125 48.484375 \nQ 22.859375 48.484375 18.828125 43.109375 \nQ 14.796875 37.75 14.796875 27.984375 \nQ 14.796875 18.265625 18.828125 12.890625 \nQ 22.859375 7.515625 30.078125 7.515625 \nQ 37.359375 7.515625 41.375 12.890625 \nQ 45.40625 18.265625 45.40625 27.984375 \nz\nM 54.390625 6.78125 \nQ 54.390625 -7.171875 48.1875 -13.984375 \nQ 42 -20.796875 29.203125 -20.796875 \nQ 24.46875 -20.796875 20.265625 -20.09375 \nQ 16.0625 -19.390625 12.109375 -17.921875 \nL 12.109375 -9.1875 \nQ 16.0625 -11.328125 19.921875 -12.34375 \nQ 23.78125 -13.375 27.78125 -13.375 \nQ 36.625 -13.375 41.015625 -8.765625 \nQ 45.40625 -4.15625 45.40625 5.171875 \nL 45.40625 9.625 \nQ 42.625 4.78125 38.28125 2.390625 \nQ 33.9375 0 27.875 0 \nQ 17.828125 0 11.671875 7.65625 \nQ 5.515625 15.328125 5.515625 27.984375 \nQ 5.515625 40.671875 11.671875 48.328125 \nQ 17.828125 56 27.875 56 \nQ 33.9375 56 38.28125 53.609375 \nQ 42.625 51.21875 45.40625 46.390625 \nL 45.40625 54.6875 \nL 54.390625 54.6875 \nz\n\" id=\"DejaVuSans-103\"/>\n     <path d=\"M 2.984375 54.6875 \nL 12.5 54.6875 \nL 29.59375 8.796875 \nL 46.6875 54.6875 \nL 56.203125 54.6875 \nL 35.6875 0 \nL 23.484375 0 \nz\n\" id=\"DejaVuSans-118\"/>\n    </defs>\n    <g transform=\"translate(246.59375 22.396875)scale(0.2 -0.2)\">\n     <use xlink:href=\"#DejaVuSans-84\"/>\n     <use x=\"44.583984\" xlink:href=\"#DejaVuSans-97\"/>\n     <use x=\"105.863281\" xlink:href=\"#DejaVuSans-114\"/>\n     <use x=\"145.226562\" xlink:href=\"#DejaVuSans-103\"/>\n     <use x=\"208.703125\" xlink:href=\"#DejaVuSans-101\"/>\n     <use x=\"270.226562\" xlink:href=\"#DejaVuSans-116\"/>\n     <use x=\"309.435547\" xlink:href=\"#DejaVuSans-32\"/>\n     <use x=\"341.222656\" xlink:href=\"#DejaVuSans-118\"/>\n     <use x=\"400.402344\" xlink:href=\"#DejaVuSans-97\"/>\n     <use x=\"461.681641\" xlink:href=\"#DejaVuSans-108\"/>\n     <use x=\"489.464844\" xlink:href=\"#DejaVuSans-117\"/>\n     <use x=\"552.84375\" xlink:href=\"#DejaVuSans-101\"/>\n     <use x=\"614.367188\" xlink:href=\"#DejaVuSans-115\"/>\n    </g>\n   </g>\n  </g>\n </g>\n <defs>\n  <clipPath id=\"p54917bb7b2\">\n   <rect height=\"326.16\" width=\"558\" x=\"34.240625\" y=\"28.396875\"/>\n  </clipPath>\n </defs>\n</svg>\n"
          },
          "metadata": {
            "needs_background": "light"
          }
        }
      ]
    },
    {
      "cell_type": "markdown",
      "metadata": {
        "id": "eFRul_YMVG5n"
      },
      "source": [
        "Видно, что в целевой переменной наблюдается сильный дисбаланс классов\n",
        "\n",
        "****Обзор признаков****"
      ],
      "id": "eFRul_YMVG5n"
    },
    {
      "cell_type": "code",
      "metadata": {
        "colab": {
          "base_uri": "https://localhost:8080/",
          "height": 320
        },
        "id": "4eSQrlEg4OOZ",
        "outputId": "80494357-7206-4a47-fb29-f5f8875e08b6"
      },
      "source": [
        "df_train.describe()"
      ],
      "id": "4eSQrlEg4OOZ",
      "execution_count": null,
      "outputs": [
        {
          "output_type": "execute_result",
          "data": {
            "text/html": [
              "<div>\n",
              "<style scoped>\n",
              "    .dataframe tbody tr th:only-of-type {\n",
              "        vertical-align: middle;\n",
              "    }\n",
              "\n",
              "    .dataframe tbody tr th {\n",
              "        vertical-align: top;\n",
              "    }\n",
              "\n",
              "    .dataframe thead th {\n",
              "        text-align: right;\n",
              "    }\n",
              "</style>\n",
              "<table border=\"1\" class=\"dataframe\">\n",
              "  <thead>\n",
              "    <tr style=\"text-align: right;\">\n",
              "      <th></th>\n",
              "      <th>Id</th>\n",
              "      <th>age</th>\n",
              "      <th>years_of_experience</th>\n",
              "      <th>lesson_price</th>\n",
              "      <th>qualification</th>\n",
              "      <th>physics</th>\n",
              "      <th>chemistry</th>\n",
              "      <th>biology</th>\n",
              "      <th>english</th>\n",
              "      <th>geography</th>\n",
              "      <th>history</th>\n",
              "      <th>mean_exam_points</th>\n",
              "      <th>choose</th>\n",
              "    </tr>\n",
              "  </thead>\n",
              "  <tbody>\n",
              "    <tr>\n",
              "      <th>count</th>\n",
              "      <td>10000.00000</td>\n",
              "      <td>10000.000000</td>\n",
              "      <td>10000.000000</td>\n",
              "      <td>10000.000000</td>\n",
              "      <td>10000.000000</td>\n",
              "      <td>10000.00000</td>\n",
              "      <td>10000.000000</td>\n",
              "      <td>10000.000000</td>\n",
              "      <td>10000.000000</td>\n",
              "      <td>10000.00000</td>\n",
              "      <td>10000.000000</td>\n",
              "      <td>10000.000000</td>\n",
              "      <td>10000.000000</td>\n",
              "    </tr>\n",
              "    <tr>\n",
              "      <th>mean</th>\n",
              "      <td>4999.50000</td>\n",
              "      <td>45.800900</td>\n",
              "      <td>1.974800</td>\n",
              "      <td>1702.440000</td>\n",
              "      <td>1.724300</td>\n",
              "      <td>0.37060</td>\n",
              "      <td>0.121500</td>\n",
              "      <td>0.117200</td>\n",
              "      <td>0.059100</td>\n",
              "      <td>0.02770</td>\n",
              "      <td>0.018000</td>\n",
              "      <td>64.435200</td>\n",
              "      <td>0.110900</td>\n",
              "    </tr>\n",
              "    <tr>\n",
              "      <th>std</th>\n",
              "      <td>2886.89568</td>\n",
              "      <td>8.030274</td>\n",
              "      <td>1.766883</td>\n",
              "      <td>523.789062</td>\n",
              "      <td>0.798845</td>\n",
              "      <td>0.48299</td>\n",
              "      <td>0.326724</td>\n",
              "      <td>0.321675</td>\n",
              "      <td>0.235824</td>\n",
              "      <td>0.16412</td>\n",
              "      <td>0.132958</td>\n",
              "      <td>13.595024</td>\n",
              "      <td>0.314024</td>\n",
              "    </tr>\n",
              "    <tr>\n",
              "      <th>min</th>\n",
              "      <td>0.00000</td>\n",
              "      <td>23.000000</td>\n",
              "      <td>0.000000</td>\n",
              "      <td>200.000000</td>\n",
              "      <td>1.000000</td>\n",
              "      <td>0.00000</td>\n",
              "      <td>0.000000</td>\n",
              "      <td>0.000000</td>\n",
              "      <td>0.000000</td>\n",
              "      <td>0.00000</td>\n",
              "      <td>0.000000</td>\n",
              "      <td>33.000000</td>\n",
              "      <td>0.000000</td>\n",
              "    </tr>\n",
              "    <tr>\n",
              "      <th>25%</th>\n",
              "      <td>2499.75000</td>\n",
              "      <td>40.000000</td>\n",
              "      <td>0.000000</td>\n",
              "      <td>1300.000000</td>\n",
              "      <td>1.000000</td>\n",
              "      <td>0.00000</td>\n",
              "      <td>0.000000</td>\n",
              "      <td>0.000000</td>\n",
              "      <td>0.000000</td>\n",
              "      <td>0.00000</td>\n",
              "      <td>0.000000</td>\n",
              "      <td>55.000000</td>\n",
              "      <td>0.000000</td>\n",
              "    </tr>\n",
              "    <tr>\n",
              "      <th>50%</th>\n",
              "      <td>4999.50000</td>\n",
              "      <td>46.000000</td>\n",
              "      <td>2.000000</td>\n",
              "      <td>1550.000000</td>\n",
              "      <td>2.000000</td>\n",
              "      <td>0.00000</td>\n",
              "      <td>0.000000</td>\n",
              "      <td>0.000000</td>\n",
              "      <td>0.000000</td>\n",
              "      <td>0.00000</td>\n",
              "      <td>0.000000</td>\n",
              "      <td>63.000000</td>\n",
              "      <td>0.000000</td>\n",
              "    </tr>\n",
              "    <tr>\n",
              "      <th>75%</th>\n",
              "      <td>7499.25000</td>\n",
              "      <td>51.000000</td>\n",
              "      <td>3.000000</td>\n",
              "      <td>2150.000000</td>\n",
              "      <td>2.000000</td>\n",
              "      <td>1.00000</td>\n",
              "      <td>0.000000</td>\n",
              "      <td>0.000000</td>\n",
              "      <td>0.000000</td>\n",
              "      <td>0.00000</td>\n",
              "      <td>0.000000</td>\n",
              "      <td>74.000000</td>\n",
              "      <td>0.000000</td>\n",
              "    </tr>\n",
              "    <tr>\n",
              "      <th>max</th>\n",
              "      <td>9999.00000</td>\n",
              "      <td>68.000000</td>\n",
              "      <td>9.000000</td>\n",
              "      <td>3950.000000</td>\n",
              "      <td>4.000000</td>\n",
              "      <td>1.00000</td>\n",
              "      <td>1.000000</td>\n",
              "      <td>1.000000</td>\n",
              "      <td>1.000000</td>\n",
              "      <td>1.00000</td>\n",
              "      <td>1.000000</td>\n",
              "      <td>100.000000</td>\n",
              "      <td>1.000000</td>\n",
              "    </tr>\n",
              "  </tbody>\n",
              "</table>\n",
              "</div>"
            ],
            "text/plain": [
              "                Id           age  ...  mean_exam_points        choose\n",
              "count  10000.00000  10000.000000  ...      10000.000000  10000.000000\n",
              "mean    4999.50000     45.800900  ...         64.435200      0.110900\n",
              "std     2886.89568      8.030274  ...         13.595024      0.314024\n",
              "min        0.00000     23.000000  ...         33.000000      0.000000\n",
              "25%     2499.75000     40.000000  ...         55.000000      0.000000\n",
              "50%     4999.50000     46.000000  ...         63.000000      0.000000\n",
              "75%     7499.25000     51.000000  ...         74.000000      0.000000\n",
              "max     9999.00000     68.000000  ...        100.000000      1.000000\n",
              "\n",
              "[8 rows x 13 columns]"
            ]
          },
          "metadata": {},
          "execution_count": 10
        }
      ]
    },
    {
      "cell_type": "markdown",
      "metadata": {
        "id": "bQKJ905D41oB"
      },
      "source": [
        "* `Id` - Колонка содержит ID преподавателя, информации для моделей в себе не несет.\n",
        "* `age` - Среднее значение практически совпадает с медианой, минимальный и максимальный возраста совпадают с обычными для данной ситуации, значениями, скорее всего, выбросов в данных нет, значения соответствуют нормальному распределению.   \n",
        "* `years_of_experience` - похожая ситуация с этой колонкой: cреднее значение практически совпадает с медианой, минимальный и максимальный опыт совпадают с обычными для данной ситуации, значениями, скорее всего, выбросов в данных нет.  \n",
        "* `lesson_price` - есть небольшой сдвиг средней цены в сторону более высоких цен. Минимальное значение цены довольно назкое, возможно, есть выбросы.  \n",
        "* `qualification` - категория преподавателя от 1 до 4  \n",
        "* `physics`, `chemistry`, `biology`, `english`, `geography`, `history` - предмет, который преподаватель может вести дополнительно - бинарные признаки.\n",
        "* `mean_exam_points` -  Средний балл практически совпадает с медианой, минимальное и максимальное значение совпадают с обычными для данной ситуации, значениями, скорее всего, выбросов в данных нет.  \n",
        "\n",
        "\n"
      ],
      "id": "bQKJ905D41oB"
    },
    {
      "cell_type": "code",
      "metadata": {
        "colab": {
          "base_uri": "https://localhost:8080/",
          "height": 1000
        },
        "id": "AQKyzbsYEKuo",
        "outputId": "2c55260c-e595-4a23-cbe4-eb6a5f260348"
      },
      "source": [
        "cols = ['age', 'lesson_price', 'mean_exam_points']\n",
        "\n",
        "from scipy.stats import norm\n",
        "\n",
        "fig=plt.figure(figsize=(10, 18))\n",
        "y = np.linspace(0, 0.5, 10)\n",
        "\n",
        "i=0\n",
        "for column in cols:\n",
        "    \n",
        "    ax=plt.subplot(311+i)\n",
        "    ax = plt.title(f\"Distribution of {column}\", size=20)\n",
        "    ax = sns.distplot(df_train[column], kde_kws={\"shade\": True}, label='Life Ladder in 2020', color='#0B032D')\n",
        "    ax = plt.ylabel(column)\n",
        "    i+=1"
      ],
      "id": "AQKyzbsYEKuo",
      "execution_count": null,
      "outputs": [
        {
          "output_type": "display_data",
          "data": {
            "text/plain": [
              "<Figure size 720x1296 with 3 Axes>"
            ],
            "image/svg+xml": "<?xml version=\"1.0\" encoding=\"utf-8\" standalone=\"no\"?>\n<!DOCTYPE svg PUBLIC \"-//W3C//DTD SVG 1.1//EN\"\n  \"http://www.w3.org/Graphics/SVG/1.1/DTD/svg11.dtd\">\n<!-- Created with matplotlib (https://matplotlib.org/) -->\n<svg height=\"1044.71125pt\" version=\"1.1\" viewBox=\"0 0 634.968652 1044.71125\" width=\"634.968652pt\" xmlns=\"http://www.w3.org/2000/svg\" xmlns:xlink=\"http://www.w3.org/1999/xlink\">\n <defs>\n  <style type=\"text/css\">\n*{stroke-linecap:butt;stroke-linejoin:round;}\n  </style>\n </defs>\n <g id=\"figure_1\">\n  <g id=\"patch_1\">\n   <path d=\"M 0 1044.71125 \nL 634.968652 1044.71125 \nL 634.968652 0 \nL 0 0 \nz\n\" style=\"fill:none;\"/>\n  </g>\n  <g id=\"axes_1\">\n   <g id=\"patch_2\">\n    <path d=\"M 63.146875 316.18511 \nL 621.146875 316.18511 \nL 621.146875 28.396875 \nL 63.146875 28.396875 \nz\n\" style=\"fill:#ffffff;\"/>\n   </g>\n   <g id=\"PolyCollection_1\">\n    <defs>\n     <path d=\"M 88.510511 -728.568265 \nL 88.510511 -728.52614 \nL 91.059621 -728.52614 \nL 93.60873 -728.52614 \nL 96.157839 -728.52614 \nL 98.706948 -728.52614 \nL 101.256057 -728.52614 \nL 103.805166 -728.52614 \nL 106.354276 -728.52614 \nL 108.903385 -728.52614 \nL 111.452494 -728.52614 \nL 114.001603 -728.52614 \nL 116.550712 -728.52614 \nL 119.099822 -728.52614 \nL 121.648931 -728.52614 \nL 124.19804 -728.52614 \nL 126.747149 -728.52614 \nL 129.296258 -728.52614 \nL 131.845367 -728.52614 \nL 134.394477 -728.52614 \nL 136.943586 -728.52614 \nL 139.492695 -728.52614 \nL 142.041804 -728.52614 \nL 144.590913 -728.52614 \nL 147.140023 -728.52614 \nL 149.689132 -728.52614 \nL 152.238241 -728.52614 \nL 154.78735 -728.52614 \nL 157.336459 -728.52614 \nL 159.885568 -728.52614 \nL 162.434678 -728.52614 \nL 164.983787 -728.52614 \nL 167.532896 -728.52614 \nL 170.082005 -728.52614 \nL 172.631114 -728.52614 \nL 175.180224 -728.52614 \nL 177.729333 -728.52614 \nL 180.278442 -728.52614 \nL 182.827551 -728.52614 \nL 185.37666 -728.52614 \nL 187.925769 -728.52614 \nL 190.474879 -728.52614 \nL 193.023988 -728.52614 \nL 195.573097 -728.52614 \nL 198.122206 -728.52614 \nL 200.671315 -728.52614 \nL 203.220425 -728.52614 \nL 205.769534 -728.52614 \nL 208.318643 -728.52614 \nL 210.867752 -728.52614 \nL 213.416861 -728.52614 \nL 215.96597 -728.52614 \nL 218.51508 -728.52614 \nL 221.064189 -728.52614 \nL 223.613298 -728.52614 \nL 226.162407 -728.52614 \nL 228.711516 -728.52614 \nL 231.260626 -728.52614 \nL 233.809735 -728.52614 \nL 236.358844 -728.52614 \nL 238.907953 -728.52614 \nL 241.457062 -728.52614 \nL 244.006171 -728.52614 \nL 246.555281 -728.52614 \nL 249.10439 -728.52614 \nL 251.653499 -728.52614 \nL 254.202608 -728.52614 \nL 256.751717 -728.52614 \nL 259.300827 -728.52614 \nL 261.849936 -728.52614 \nL 264.399045 -728.52614 \nL 266.948154 -728.52614 \nL 269.497263 -728.52614 \nL 272.046372 -728.52614 \nL 274.595482 -728.52614 \nL 277.144591 -728.52614 \nL 279.6937 -728.52614 \nL 282.242809 -728.52614 \nL 284.791918 -728.52614 \nL 287.341028 -728.52614 \nL 289.890137 -728.52614 \nL 292.439246 -728.52614 \nL 294.988355 -728.52614 \nL 297.537464 -728.52614 \nL 300.086573 -728.52614 \nL 302.635683 -728.52614 \nL 305.184792 -728.52614 \nL 307.733901 -728.52614 \nL 310.28301 -728.52614 \nL 312.832119 -728.52614 \nL 315.381229 -728.52614 \nL 317.930338 -728.52614 \nL 320.479447 -728.52614 \nL 323.028556 -728.52614 \nL 325.577665 -728.52614 \nL 328.126774 -728.52614 \nL 330.675884 -728.52614 \nL 333.224993 -728.52614 \nL 335.774102 -728.52614 \nL 338.323211 -728.52614 \nL 340.87232 -728.52614 \nL 343.42143 -728.52614 \nL 345.970539 -728.52614 \nL 348.519648 -728.52614 \nL 351.068757 -728.52614 \nL 353.617866 -728.52614 \nL 356.166976 -728.52614 \nL 358.716085 -728.52614 \nL 361.265194 -728.52614 \nL 363.814303 -728.52614 \nL 366.363412 -728.52614 \nL 368.912521 -728.52614 \nL 371.461631 -728.52614 \nL 374.01074 -728.52614 \nL 376.559849 -728.52614 \nL 379.108958 -728.52614 \nL 381.658067 -728.52614 \nL 384.207177 -728.52614 \nL 386.756286 -728.52614 \nL 389.305395 -728.52614 \nL 391.854504 -728.52614 \nL 394.403613 -728.52614 \nL 396.952722 -728.52614 \nL 399.501832 -728.52614 \nL 402.050941 -728.52614 \nL 404.60005 -728.52614 \nL 407.149159 -728.52614 \nL 409.698268 -728.52614 \nL 412.247378 -728.52614 \nL 414.796487 -728.52614 \nL 417.345596 -728.52614 \nL 419.894705 -728.52614 \nL 422.443814 -728.52614 \nL 424.992923 -728.52614 \nL 427.542033 -728.52614 \nL 430.091142 -728.52614 \nL 432.640251 -728.52614 \nL 435.18936 -728.52614 \nL 437.738469 -728.52614 \nL 440.287579 -728.52614 \nL 442.836688 -728.52614 \nL 445.385797 -728.52614 \nL 447.934906 -728.52614 \nL 450.484015 -728.52614 \nL 453.033124 -728.52614 \nL 455.582234 -728.52614 \nL 458.131343 -728.52614 \nL 460.680452 -728.52614 \nL 463.229561 -728.52614 \nL 465.77867 -728.52614 \nL 468.32778 -728.52614 \nL 470.876889 -728.52614 \nL 473.425998 -728.52614 \nL 475.975107 -728.52614 \nL 478.524216 -728.52614 \nL 481.073325 -728.52614 \nL 483.622435 -728.52614 \nL 486.171544 -728.52614 \nL 488.720653 -728.52614 \nL 491.269762 -728.52614 \nL 493.818871 -728.52614 \nL 496.367981 -728.52614 \nL 498.91709 -728.52614 \nL 501.466199 -728.52614 \nL 504.015308 -728.52614 \nL 506.564417 -728.52614 \nL 509.113526 -728.52614 \nL 511.662636 -728.52614 \nL 514.211745 -728.52614 \nL 516.760854 -728.52614 \nL 519.309963 -728.52614 \nL 521.859072 -728.52614 \nL 524.408182 -728.52614 \nL 526.957291 -728.52614 \nL 529.5064 -728.52614 \nL 532.055509 -728.52614 \nL 534.604618 -728.52614 \nL 537.153727 -728.52614 \nL 539.702837 -728.52614 \nL 542.251946 -728.52614 \nL 544.801055 -728.52614 \nL 547.350164 -728.52614 \nL 549.899273 -728.52614 \nL 552.448383 -728.52614 \nL 554.997492 -728.52614 \nL 557.546601 -728.52614 \nL 560.09571 -728.52614 \nL 562.644819 -728.52614 \nL 565.193928 -728.52614 \nL 567.743038 -728.52614 \nL 570.292147 -728.52614 \nL 572.841256 -728.52614 \nL 575.390365 -728.52614 \nL 577.939474 -728.52614 \nL 580.488584 -728.52614 \nL 583.037693 -728.52614 \nL 585.586802 -728.52614 \nL 588.135911 -728.52614 \nL 590.68502 -728.52614 \nL 593.234129 -728.52614 \nL 595.783239 -728.52614 \nL 595.783239 -728.602022 \nL 595.783239 -728.602022 \nL 593.234129 -728.66537 \nL 590.68502 -728.771048 \nL 588.135911 -728.939232 \nL 585.586802 -729.19446 \nL 583.037693 -729.563586 \nL 580.488584 -730.072037 \nL 577.939474 -730.738582 \nL 575.390365 -731.569477 \nL 572.841256 -732.553437 \nL 570.292147 -733.6592 \nL 567.743038 -734.837167 \nL 565.193928 -736.025695 \nL 562.644819 -737.161244 \nL 560.09571 -738.190243 \nL 557.546601 -739.079698 \nL 554.997492 -739.823701 \nL 552.448383 -740.444104 \nL 549.899273 -740.985337 \nL 547.350164 -741.504993 \nL 544.801055 -742.062868 \nL 542.251946 -742.711205 \nL 539.702837 -743.488096 \nL 537.153727 -744.414772 \nL 534.604618 -745.496365 \nL 532.055509 -746.724992 \nL 529.5064 -748.083889 \nL 526.957291 -749.55159 \nL 524.408182 -751.105566 \nL 521.859072 -752.725139 \nL 519.309963 -754.393693 \nL 516.760854 -756.100231 \nL 514.211745 -757.840357 \nL 511.662636 -759.616671 \nL 509.113526 -761.438601 \nL 506.564417 -763.321661 \nL 504.015308 -765.286161 \nL 501.466199 -767.355387 \nL 498.91709 -769.553317 \nL 496.367981 -771.902038 \nL 493.818871 -774.41913 \nL 491.269762 -777.115432 \nL 488.720653 -779.993619 \nL 486.171544 -783.047997 \nL 483.622435 -786.265635 \nL 481.073325 -789.628704 \nL 478.524216 -793.117526 \nL 475.975107 -796.713632 \nL 473.425998 -800.402124 \nL 470.876889 -804.172851 \nL 468.32778 -808.02033 \nL 465.77867 -811.942804 \nL 463.229561 -815.941131 \nL 460.680452 -820.01826 \nL 458.131343 -824.179705 \nL 455.582234 -828.434881 \nL 453.033124 -832.798596 \nL 450.484015 -837.291599 \nL 447.934906 -841.939213 \nL 445.385797 -846.767566 \nL 442.836688 -851.797787 \nL 440.287579 -857.039389 \nL 437.738469 -862.484567 \nL 435.18936 -868.105233 \nL 432.640251 -873.854041 \nL 430.091142 -879.669685 \nL 427.542033 -885.485637 \nL 424.992923 -891.240441 \nL 422.443814 -896.887185 \nL 419.894705 -902.399813 \nL 417.345596 -907.774676 \nL 414.796487 -913.026889 \nL 412.247378 -918.182402 \nL 409.698268 -923.267812 \nL 407.149159 -928.30055 \nL 404.60005 -933.281978 \nL 402.050941 -938.195148 \nL 399.501832 -943.007675 \nL 396.952722 -947.678765 \nL 394.403613 -952.168235 \nL 391.854504 -956.444841 \nL 389.305395 -960.491427 \nL 386.756286 -964.305395 \nL 384.207177 -967.894462 \nL 381.658067 -971.269099 \nL 379.108958 -974.434182 \nL 376.559849 -977.382654 \nL 374.01074 -980.093488 \nL 371.461631 -982.534907 \nL 368.912521 -984.67225 \nL 366.363412 -986.478374 \nL 363.814303 -987.943686 \nL 361.265194 -989.08298 \nL 358.716085 -989.937171 \nL 356.166976 -990.569428 \nL 353.617866 -991.056639 \nL 351.068757 -991.478136 \nL 348.519648 -991.903995 \nL 345.970539 -992.384953 \nL 343.42143 -992.945356 \nL 340.87232 -993.579763 \nL 338.323211 -994.25317 \nL 335.774102 -994.904314 \nL 333.224993 -995.45131 \nL 330.675884 -995.798805 \nL 328.126774 -995.845976 \nL 325.577665 -995.494923 \nL 323.028556 -994.659223 \nL 320.479447 -993.272474 \nL 317.930338 -991.296421 \nL 315.381229 -988.727772 \nL 312.832119 -985.602169 \nL 310.28301 -981.993443 \nL 307.733901 -978.006607 \nL 305.184792 -973.764237 \nL 302.635683 -969.387783 \nL 300.086573 -964.977309 \nL 297.537464 -960.594371 \nL 294.988355 -956.252578 \nL 292.439246 -951.918582 \nL 289.890137 -947.523479 \nL 287.341028 -942.981682 \nL 284.791918 -938.212347 \nL 282.242809 -933.158038 \nL 279.6937 -927.796486 \nL 277.144591 -922.143527 \nL 274.595482 -916.247754 \nL 272.046372 -910.179328 \nL 269.497263 -904.016374 \nL 266.948154 -897.832342 \nL 264.399045 -891.686923 \nL 261.849936 -885.621888 \nL 259.300827 -879.661943 \nL 256.751717 -873.819552 \nL 254.202608 -868.101937 \nL 251.653499 -862.518103 \nL 249.10439 -857.083868 \nL 246.555281 -851.823499 \nL 244.006171 -846.767412 \nL 241.457062 -841.946486 \nL 238.907953 -837.384409 \nL 236.358844 -833.090062 \nL 233.809735 -829.05196 \nL 231.260626 -825.23633 \nL 228.711516 -821.589527 \nL 226.162407 -818.044456 \nL 223.613298 -814.529779 \nL 221.064189 -810.980038 \nL 218.51508 -807.344753 \nL 215.96597 -803.594875 \nL 213.416861 -799.725678 \nL 210.867752 -795.756009 \nL 208.318643 -791.724545 \nL 205.769534 -787.684136 \nL 203.220425 -783.695436 \nL 200.671315 -779.820761 \nL 198.122206 -776.118753 \nL 195.573097 -772.639991 \nL 193.023988 -769.42348 \nL 190.474879 -766.493884 \nL 187.925769 -763.859572 \nL 185.37666 -761.511757 \nL 182.827551 -759.425192 \nL 180.278442 -757.560788 \nL 177.729333 -755.870206 \nL 175.180224 -754.301959 \nL 172.631114 -752.808072 \nL 170.082005 -751.350086 \nL 167.532896 -749.903236 \nL 164.983787 -748.458088 \nL 162.434678 -747.019508 \nL 159.885568 -745.603497 \nL 157.336459 -744.232788 \nL 154.78735 -742.932243 \nL 152.238241 -741.724829 \nL 149.689132 -740.628579 \nL 147.140023 -739.654516 \nL 144.590913 -738.805314 \nL 142.041804 -738.074503 \nL 139.492695 -737.446242 \nL 136.943586 -736.896003 \nL 134.394477 -736.392602 \nL 131.845367 -735.901843 \nL 129.296258 -735.391524 \nL 126.747149 -734.836947 \nL 124.19804 -734.225603 \nL 121.648931 -733.559705 \nL 119.099822 -732.855693 \nL 116.550712 -732.140736 \nL 114.001603 -731.447092 \nL 111.452494 -730.805835 \nL 108.903385 -730.241513 \nL 106.354276 -729.768862 \nL 103.805166 -729.392018 \nL 101.256057 -729.105892 \nL 98.706948 -728.898912 \nL 96.157839 -728.756197 \nL 93.60873 -728.662359 \nL 91.059621 -728.603499 \nL 88.510511 -728.568265 \nz\n\" id=\"mc0fc253b61\" style=\"stroke:#0b032d;\"/>\n    </defs>\n    <g clip-path=\"url(#p53067dbce0)\">\n     <use style=\"fill:#0b032d;fill-opacity:0.25;stroke:#0b032d;\" x=\"0\" xlink:href=\"#mc0fc253b61\" y=\"1044.71125\"/>\n    </g>\n   </g>\n   <g id=\"patch_3\">\n    <path clip-path=\"url(#p53067dbce0)\" d=\"M 125.307137 316.18511 \nL 134.944459 316.18511 \nL 134.944459 304.462575 \nL 125.307137 304.462575 \nz\n\" style=\"fill:#0b032d;opacity:0.4;\"/>\n   </g>\n   <g id=\"patch_4\">\n    <path clip-path=\"url(#p53067dbce0)\" d=\"M 134.944459 316.18511 \nL 144.581781 316.18511 \nL 144.581781 311.161167 \nL 134.944459 311.161167 \nz\n\" style=\"fill:#0b032d;opacity:0.4;\"/>\n   </g>\n   <g id=\"patch_5\">\n    <path clip-path=\"url(#p53067dbce0)\" d=\"M 144.581781 316.18511 \nL 154.219102 316.18511 \nL 154.219102 306.695439 \nL 144.581781 306.695439 \nz\n\" style=\"fill:#0b032d;opacity:0.4;\"/>\n   </g>\n   <g id=\"patch_6\">\n    <path clip-path=\"url(#p53067dbce0)\" d=\"M 154.219102 316.18511 \nL 163.856424 316.18511 \nL 163.856424 304.462575 \nL 154.219102 304.462575 \nz\n\" style=\"fill:#0b032d;opacity:0.4;\"/>\n   </g>\n   <g id=\"patch_7\">\n    <path clip-path=\"url(#p53067dbce0)\" d=\"M 163.856424 316.18511 \nL 173.493746 316.18511 \nL 173.493746 296.647552 \nL 163.856424 296.647552 \nz\n\" style=\"fill:#0b032d;opacity:0.4;\"/>\n   </g>\n   <g id=\"patch_8\">\n    <path clip-path=\"url(#p53067dbce0)\" d=\"M 173.493746 316.18511 \nL 183.131067 316.18511 \nL 183.131067 288.832529 \nL 173.493746 288.832529 \nz\n\" style=\"fill:#0b032d;opacity:0.4;\"/>\n   </g>\n   <g id=\"patch_9\">\n    <path clip-path=\"url(#p53067dbce0)\" d=\"M 183.131067 316.18511 \nL 192.768389 316.18511 \nL 192.768389 290.507176 \nL 183.131067 290.507176 \nz\n\" style=\"fill:#0b032d;opacity:0.4;\"/>\n   </g>\n   <g id=\"patch_10\">\n    <path clip-path=\"url(#p53067dbce0)\" d=\"M 192.768389 316.18511 \nL 202.405711 316.18511 \nL 202.405711 279.342857 \nL 192.768389 279.342857 \nz\n\" style=\"fill:#0b032d;opacity:0.4;\"/>\n   </g>\n   <g id=\"patch_11\">\n    <path clip-path=\"url(#p53067dbce0)\" d=\"M 202.405711 316.18511 \nL 212.043032 316.18511 \nL 212.043032 264.829242 \nL 202.405711 264.829242 \nz\n\" style=\"fill:#0b032d;opacity:0.4;\"/>\n   </g>\n   <g id=\"patch_12\">\n    <path clip-path=\"url(#p53067dbce0)\" d=\"M 212.043032 316.18511 \nL 221.680354 316.18511 \nL 221.680354 245.291684 \nL 212.043032 245.291684 \nz\n\" style=\"fill:#0b032d;opacity:0.4;\"/>\n   </g>\n   <g id=\"patch_13\">\n    <path clip-path=\"url(#p53067dbce0)\" d=\"M 221.680354 316.18511 \nL 231.317676 316.18511 \nL 231.317676 227.986989 \nL 221.680354 227.986989 \nz\n\" style=\"fill:#0b032d;opacity:0.4;\"/>\n   </g>\n   <g id=\"patch_14\">\n    <path clip-path=\"url(#p53067dbce0)\" d=\"M 231.317676 316.18511 \nL 240.954997 316.18511 \nL 240.954997 224.079478 \nL 231.317676 224.079478 \nz\n\" style=\"fill:#0b032d;opacity:0.4;\"/>\n   </g>\n   <g id=\"patch_15\">\n    <path clip-path=\"url(#p53067dbce0)\" d=\"M 240.954997 316.18511 \nL 250.592319 316.18511 \nL 250.592319 209.565863 \nL 240.954997 209.565863 \nz\n\" style=\"fill:#0b032d;opacity:0.4;\"/>\n   </g>\n   <g id=\"patch_16\">\n    <path clip-path=\"url(#p53067dbce0)\" d=\"M 250.592319 316.18511 \nL 260.229641 316.18511 \nL 260.229641 182.771497 \nL 250.592319 182.771497 \nz\n\" style=\"fill:#0b032d;opacity:0.4;\"/>\n   </g>\n   <g id=\"patch_17\">\n    <path clip-path=\"url(#p53067dbce0)\" d=\"M 260.229641 316.18511 \nL 269.866962 316.18511 \nL 269.866962 165.466803 \nL 260.229641 165.466803 \nz\n\" style=\"fill:#0b032d;opacity:0.4;\"/>\n   </g>\n   <g id=\"patch_18\">\n    <path clip-path=\"url(#p53067dbce0)\" d=\"M 269.866962 316.18511 \nL 279.504284 316.18511 \nL 279.504284 142.579948 \nL 269.866962 142.579948 \nz\n\" style=\"fill:#0b032d;opacity:0.4;\"/>\n   </g>\n   <g id=\"patch_19\">\n    <path clip-path=\"url(#p53067dbce0)\" d=\"M 279.504284 316.18511 \nL 289.141606 316.18511 \nL 289.141606 111.319855 \nL 279.504284 111.319855 \nz\n\" style=\"fill:#0b032d;opacity:0.4;\"/>\n   </g>\n   <g id=\"patch_20\">\n    <path clip-path=\"url(#p53067dbce0)\" d=\"M 289.141606 316.18511 \nL 298.778927 316.18511 \nL 298.778927 88.433001 \nL 289.141606 88.433001 \nz\n\" style=\"fill:#0b032d;opacity:0.4;\"/>\n   </g>\n   <g id=\"patch_21\">\n    <path clip-path=\"url(#p53067dbce0)\" d=\"M 298.778927 316.18511 \nL 308.416249 316.18511 \nL 308.416249 97.922672 \nL 298.778927 97.922672 \nz\n\" style=\"fill:#0b032d;opacity:0.4;\"/>\n   </g>\n   <g id=\"patch_22\">\n    <path clip-path=\"url(#p53067dbce0)\" d=\"M 308.416249 316.18511 \nL 318.053571 316.18511 \nL 318.053571 54.381828 \nL 308.416249 54.381828 \nz\n\" style=\"fill:#0b032d;opacity:0.4;\"/>\n   </g>\n   <g id=\"patch_23\">\n    <path clip-path=\"url(#p53067dbce0)\" d=\"M 318.053571 316.18511 \nL 327.690892 316.18511 \nL 327.690892 45.450372 \nL 318.053571 45.450372 \nz\n\" style=\"fill:#0b032d;opacity:0.4;\"/>\n   </g>\n   <g id=\"patch_24\">\n    <path clip-path=\"url(#p53067dbce0)\" d=\"M 327.690892 316.18511 \nL 337.328214 316.18511 \nL 337.328214 42.101077 \nL 327.690892 42.101077 \nz\n\" style=\"fill:#0b032d;opacity:0.4;\"/>\n   </g>\n   <g id=\"patch_25\">\n    <path clip-path=\"url(#p53067dbce0)\" d=\"M 337.328214 316.18511 \nL 346.965536 316.18511 \nL 346.965536 51.590748 \nL 337.328214 51.590748 \nz\n\" style=\"fill:#0b032d;opacity:0.4;\"/>\n   </g>\n   <g id=\"patch_26\">\n    <path clip-path=\"url(#p53067dbce0)\" d=\"M 346.965536 316.18511 \nL 356.602858 316.18511 \nL 356.602858 56.056476 \nL 346.965536 56.056476 \nz\n\" style=\"fill:#0b032d;opacity:0.4;\"/>\n   </g>\n   <g id=\"patch_27\">\n    <path clip-path=\"url(#p53067dbce0)\" d=\"M 356.602858 316.18511 \nL 366.240179 316.18511 \nL 366.240179 53.823612 \nL 356.602858 53.823612 \nz\n\" style=\"fill:#0b032d;opacity:0.4;\"/>\n   </g>\n   <g id=\"patch_28\">\n    <path clip-path=\"url(#p53067dbce0)\" d=\"M 366.240179 316.18511 \nL 375.877501 316.18511 \nL 375.877501 47.12502 \nL 366.240179 47.12502 \nz\n\" style=\"fill:#0b032d;opacity:0.4;\"/>\n   </g>\n   <g id=\"patch_29\">\n    <path clip-path=\"url(#p53067dbce0)\" d=\"M 375.877501 316.18511 \nL 385.514823 316.18511 \nL 385.514823 68.895442 \nL 375.877501 68.895442 \nz\n\" style=\"fill:#0b032d;opacity:0.4;\"/>\n   </g>\n   <g id=\"patch_30\">\n    <path clip-path=\"url(#p53067dbce0)\" d=\"M 385.514823 316.18511 \nL 395.152144 316.18511 \nL 395.152144 76.15225 \nL 385.514823 76.15225 \nz\n\" style=\"fill:#0b032d;opacity:0.4;\"/>\n   </g>\n   <g id=\"patch_31\">\n    <path clip-path=\"url(#p53067dbce0)\" d=\"M 395.152144 316.18511 \nL 404.789466 316.18511 \nL 404.789466 86.758353 \nL 395.152144 86.758353 \nz\n\" style=\"fill:#0b032d;opacity:0.4;\"/>\n   </g>\n   <g id=\"patch_32\">\n    <path clip-path=\"url(#p53067dbce0)\" d=\"M 404.789466 316.18511 \nL 414.426788 316.18511 \nL 414.426788 115.785583 \nL 404.789466 115.785583 \nz\n\" style=\"fill:#0b032d;opacity:0.4;\"/>\n   </g>\n   <g id=\"patch_33\">\n    <path clip-path=\"url(#p53067dbce0)\" d=\"M 414.426788 316.18511 \nL 424.064109 316.18511 \nL 424.064109 130.299197 \nL 414.426788 130.299197 \nz\n\" style=\"fill:#0b032d;opacity:0.4;\"/>\n   </g>\n   <g id=\"patch_34\">\n    <path clip-path=\"url(#p53067dbce0)\" d=\"M 424.064109 316.18511 \nL 433.701431 316.18511 \nL 433.701431 144.812812 \nL 424.064109 144.812812 \nz\n\" style=\"fill:#0b032d;opacity:0.4;\"/>\n   </g>\n   <g id=\"patch_35\">\n    <path clip-path=\"url(#p53067dbce0)\" d=\"M 433.701431 316.18511 \nL 443.338753 316.18511 \nL 443.338753 177.189338 \nL 433.701431 177.189338 \nz\n\" style=\"fill:#0b032d;opacity:0.4;\"/>\n   </g>\n   <g id=\"patch_36\">\n    <path clip-path=\"url(#p53067dbce0)\" d=\"M 443.338753 316.18511 \nL 452.976074 316.18511 \nL 452.976074 198.95976 \nL 443.338753 198.95976 \nz\n\" style=\"fill:#0b032d;opacity:0.4;\"/>\n   </g>\n   <g id=\"patch_37\">\n    <path clip-path=\"url(#p53067dbce0)\" d=\"M 452.976074 316.18511 \nL 462.613396 316.18511 \nL 462.613396 210.124079 \nL 452.976074 210.124079 \nz\n\" style=\"fill:#0b032d;opacity:0.4;\"/>\n   </g>\n   <g id=\"patch_38\">\n    <path clip-path=\"url(#p53067dbce0)\" d=\"M 462.613396 316.18511 \nL 472.250718 316.18511 \nL 472.250718 230.778069 \nL 462.613396 230.778069 \nz\n\" style=\"fill:#0b032d;opacity:0.4;\"/>\n   </g>\n   <g id=\"patch_39\">\n    <path clip-path=\"url(#p53067dbce0)\" d=\"M 472.250718 316.18511 \nL 481.888039 316.18511 \nL 481.888039 241.942388 \nL 472.250718 241.942388 \nz\n\" style=\"fill:#0b032d;opacity:0.4;\"/>\n   </g>\n   <g id=\"patch_40\">\n    <path clip-path=\"url(#p53067dbce0)\" d=\"M 481.888039 316.18511 \nL 491.525361 316.18511 \nL 491.525361 257.572435 \nL 481.888039 257.572435 \nz\n\" style=\"fill:#0b032d;opacity:0.4;\"/>\n   </g>\n   <g id=\"patch_41\">\n    <path clip-path=\"url(#p53067dbce0)\" d=\"M 491.525361 316.18511 \nL 501.162683 316.18511 \nL 501.162683 271.527834 \nL 491.525361 271.527834 \nz\n\" style=\"fill:#0b032d;opacity:0.4;\"/>\n   </g>\n   <g id=\"patch_42\">\n    <path clip-path=\"url(#p53067dbce0)\" d=\"M 501.162683 316.18511 \nL 510.800004 316.18511 \nL 510.800004 278.226425 \nL 501.162683 278.226425 \nz\n\" style=\"fill:#0b032d;opacity:0.4;\"/>\n   </g>\n   <g id=\"patch_43\">\n    <path clip-path=\"url(#p53067dbce0)\" d=\"M 510.800004 316.18511 \nL 520.437326 316.18511 \nL 520.437326 284.925017 \nL 510.800004 284.925017 \nz\n\" style=\"fill:#0b032d;opacity:0.4;\"/>\n   </g>\n   <g id=\"patch_44\">\n    <path clip-path=\"url(#p53067dbce0)\" d=\"M 520.437326 316.18511 \nL 530.074648 316.18511 \nL 530.074648 290.507176 \nL 520.437326 290.507176 \nz\n\" style=\"fill:#0b032d;opacity:0.4;\"/>\n   </g>\n   <g id=\"patch_45\">\n    <path clip-path=\"url(#p53067dbce0)\" d=\"M 530.074648 316.18511 \nL 539.711969 316.18511 \nL 539.711969 298.880416 \nL 530.074648 298.880416 \nz\n\" style=\"fill:#0b032d;opacity:0.4;\"/>\n   </g>\n   <g id=\"patch_46\">\n    <path clip-path=\"url(#p53067dbce0)\" d=\"M 539.711969 316.18511 \nL 549.349291 316.18511 \nL 549.349291 302.787927 \nL 539.711969 302.787927 \nz\n\" style=\"fill:#0b032d;opacity:0.4;\"/>\n   </g>\n   <g id=\"patch_47\">\n    <path clip-path=\"url(#p53067dbce0)\" d=\"M 549.349291 316.18511 \nL 558.986613 316.18511 \nL 558.986613 287.157881 \nL 549.349291 287.157881 \nz\n\" style=\"fill:#0b032d;opacity:0.4;\"/>\n   </g>\n   <g id=\"matplotlib.axis_1\">\n    <g id=\"xtick_1\">\n     <g id=\"line2d_1\">\n      <defs>\n       <path d=\"M 0 0 \nL 0 3.5 \n\" id=\"mf572e4f285\" style=\"stroke:#000000;stroke-width:0.8;\"/>\n      </defs>\n      <g>\n       <use style=\"stroke:#000000;stroke-width:0.8;\" x=\"96.395172\" xlink:href=\"#mf572e4f285\" y=\"316.18511\"/>\n      </g>\n     </g>\n     <g id=\"text_1\">\n      <!-- 20 -->\n      <defs>\n       <path d=\"M 19.1875 8.296875 \nL 53.609375 8.296875 \nL 53.609375 0 \nL 7.328125 0 \nL 7.328125 8.296875 \nQ 12.9375 14.109375 22.625 23.890625 \nQ 32.328125 33.6875 34.8125 36.53125 \nQ 39.546875 41.84375 41.421875 45.53125 \nQ 43.3125 49.21875 43.3125 52.78125 \nQ 43.3125 58.59375 39.234375 62.25 \nQ 35.15625 65.921875 28.609375 65.921875 \nQ 23.96875 65.921875 18.8125 64.3125 \nQ 13.671875 62.703125 7.8125 59.421875 \nL 7.8125 69.390625 \nQ 13.765625 71.78125 18.9375 73 \nQ 24.125 74.21875 28.421875 74.21875 \nQ 39.75 74.21875 46.484375 68.546875 \nQ 53.21875 62.890625 53.21875 53.421875 \nQ 53.21875 48.921875 51.53125 44.890625 \nQ 49.859375 40.875 45.40625 35.40625 \nQ 44.1875 33.984375 37.640625 27.21875 \nQ 31.109375 20.453125 19.1875 8.296875 \nz\n\" id=\"DejaVuSans-50\"/>\n       <path d=\"M 31.78125 66.40625 \nQ 24.171875 66.40625 20.328125 58.90625 \nQ 16.5 51.421875 16.5 36.375 \nQ 16.5 21.390625 20.328125 13.890625 \nQ 24.171875 6.390625 31.78125 6.390625 \nQ 39.453125 6.390625 43.28125 13.890625 \nQ 47.125 21.390625 47.125 36.375 \nQ 47.125 51.421875 43.28125 58.90625 \nQ 39.453125 66.40625 31.78125 66.40625 \nz\nM 31.78125 74.21875 \nQ 44.046875 74.21875 50.515625 64.515625 \nQ 56.984375 54.828125 56.984375 36.375 \nQ 56.984375 17.96875 50.515625 8.265625 \nQ 44.046875 -1.421875 31.78125 -1.421875 \nQ 19.53125 -1.421875 13.0625 8.265625 \nQ 6.59375 17.96875 6.59375 36.375 \nQ 6.59375 54.828125 13.0625 64.515625 \nQ 19.53125 74.21875 31.78125 74.21875 \nz\n\" id=\"DejaVuSans-48\"/>\n      </defs>\n      <g transform=\"translate(90.032672 330.783548)scale(0.1 -0.1)\">\n       <use xlink:href=\"#DejaVuSans-50\"/>\n       <use x=\"63.623047\" xlink:href=\"#DejaVuSans-48\"/>\n      </g>\n     </g>\n    </g>\n    <g id=\"xtick_2\">\n     <g id=\"line2d_2\">\n      <g>\n       <use style=\"stroke:#000000;stroke-width:0.8;\" x=\"192.768389\" xlink:href=\"#mf572e4f285\" y=\"316.18511\"/>\n      </g>\n     </g>\n     <g id=\"text_2\">\n      <!-- 30 -->\n      <defs>\n       <path d=\"M 40.578125 39.3125 \nQ 47.65625 37.796875 51.625 33 \nQ 55.609375 28.21875 55.609375 21.1875 \nQ 55.609375 10.40625 48.1875 4.484375 \nQ 40.765625 -1.421875 27.09375 -1.421875 \nQ 22.515625 -1.421875 17.65625 -0.515625 \nQ 12.796875 0.390625 7.625 2.203125 \nL 7.625 11.71875 \nQ 11.71875 9.328125 16.59375 8.109375 \nQ 21.484375 6.890625 26.8125 6.890625 \nQ 36.078125 6.890625 40.9375 10.546875 \nQ 45.796875 14.203125 45.796875 21.1875 \nQ 45.796875 27.640625 41.28125 31.265625 \nQ 36.765625 34.90625 28.71875 34.90625 \nL 20.21875 34.90625 \nL 20.21875 43.015625 \nL 29.109375 43.015625 \nQ 36.375 43.015625 40.234375 45.921875 \nQ 44.09375 48.828125 44.09375 54.296875 \nQ 44.09375 59.90625 40.109375 62.90625 \nQ 36.140625 65.921875 28.71875 65.921875 \nQ 24.65625 65.921875 20.015625 65.03125 \nQ 15.375 64.15625 9.8125 62.3125 \nL 9.8125 71.09375 \nQ 15.4375 72.65625 20.34375 73.4375 \nQ 25.25 74.21875 29.59375 74.21875 \nQ 40.828125 74.21875 47.359375 69.109375 \nQ 53.90625 64.015625 53.90625 55.328125 \nQ 53.90625 49.265625 50.4375 45.09375 \nQ 46.96875 40.921875 40.578125 39.3125 \nz\n\" id=\"DejaVuSans-51\"/>\n      </defs>\n      <g transform=\"translate(186.405889 330.783548)scale(0.1 -0.1)\">\n       <use xlink:href=\"#DejaVuSans-51\"/>\n       <use x=\"63.623047\" xlink:href=\"#DejaVuSans-48\"/>\n      </g>\n     </g>\n    </g>\n    <g id=\"xtick_3\">\n     <g id=\"line2d_3\">\n      <g>\n       <use style=\"stroke:#000000;stroke-width:0.8;\" x=\"289.141606\" xlink:href=\"#mf572e4f285\" y=\"316.18511\"/>\n      </g>\n     </g>\n     <g id=\"text_3\">\n      <!-- 40 -->\n      <defs>\n       <path d=\"M 37.796875 64.3125 \nL 12.890625 25.390625 \nL 37.796875 25.390625 \nz\nM 35.203125 72.90625 \nL 47.609375 72.90625 \nL 47.609375 25.390625 \nL 58.015625 25.390625 \nL 58.015625 17.1875 \nL 47.609375 17.1875 \nL 47.609375 0 \nL 37.796875 0 \nL 37.796875 17.1875 \nL 4.890625 17.1875 \nL 4.890625 26.703125 \nz\n\" id=\"DejaVuSans-52\"/>\n      </defs>\n      <g transform=\"translate(282.779106 330.783548)scale(0.1 -0.1)\">\n       <use xlink:href=\"#DejaVuSans-52\"/>\n       <use x=\"63.623047\" xlink:href=\"#DejaVuSans-48\"/>\n      </g>\n     </g>\n    </g>\n    <g id=\"xtick_4\">\n     <g id=\"line2d_4\">\n      <g>\n       <use style=\"stroke:#000000;stroke-width:0.8;\" x=\"385.514823\" xlink:href=\"#mf572e4f285\" y=\"316.18511\"/>\n      </g>\n     </g>\n     <g id=\"text_4\">\n      <!-- 50 -->\n      <defs>\n       <path d=\"M 10.796875 72.90625 \nL 49.515625 72.90625 \nL 49.515625 64.59375 \nL 19.828125 64.59375 \nL 19.828125 46.734375 \nQ 21.96875 47.46875 24.109375 47.828125 \nQ 26.265625 48.1875 28.421875 48.1875 \nQ 40.625 48.1875 47.75 41.5 \nQ 54.890625 34.8125 54.890625 23.390625 \nQ 54.890625 11.625 47.5625 5.09375 \nQ 40.234375 -1.421875 26.90625 -1.421875 \nQ 22.3125 -1.421875 17.546875 -0.640625 \nQ 12.796875 0.140625 7.71875 1.703125 \nL 7.71875 11.625 \nQ 12.109375 9.234375 16.796875 8.0625 \nQ 21.484375 6.890625 26.703125 6.890625 \nQ 35.15625 6.890625 40.078125 11.328125 \nQ 45.015625 15.765625 45.015625 23.390625 \nQ 45.015625 31 40.078125 35.4375 \nQ 35.15625 39.890625 26.703125 39.890625 \nQ 22.75 39.890625 18.8125 39.015625 \nQ 14.890625 38.140625 10.796875 36.28125 \nz\n\" id=\"DejaVuSans-53\"/>\n      </defs>\n      <g transform=\"translate(379.152323 330.783548)scale(0.1 -0.1)\">\n       <use xlink:href=\"#DejaVuSans-53\"/>\n       <use x=\"63.623047\" xlink:href=\"#DejaVuSans-48\"/>\n      </g>\n     </g>\n    </g>\n    <g id=\"xtick_5\">\n     <g id=\"line2d_5\">\n      <g>\n       <use style=\"stroke:#000000;stroke-width:0.8;\" x=\"481.888039\" xlink:href=\"#mf572e4f285\" y=\"316.18511\"/>\n      </g>\n     </g>\n     <g id=\"text_5\">\n      <!-- 60 -->\n      <defs>\n       <path d=\"M 33.015625 40.375 \nQ 26.375 40.375 22.484375 35.828125 \nQ 18.609375 31.296875 18.609375 23.390625 \nQ 18.609375 15.53125 22.484375 10.953125 \nQ 26.375 6.390625 33.015625 6.390625 \nQ 39.65625 6.390625 43.53125 10.953125 \nQ 47.40625 15.53125 47.40625 23.390625 \nQ 47.40625 31.296875 43.53125 35.828125 \nQ 39.65625 40.375 33.015625 40.375 \nz\nM 52.59375 71.296875 \nL 52.59375 62.3125 \nQ 48.875 64.0625 45.09375 64.984375 \nQ 41.3125 65.921875 37.59375 65.921875 \nQ 27.828125 65.921875 22.671875 59.328125 \nQ 17.53125 52.734375 16.796875 39.40625 \nQ 19.671875 43.65625 24.015625 45.921875 \nQ 28.375 48.1875 33.59375 48.1875 \nQ 44.578125 48.1875 50.953125 41.515625 \nQ 57.328125 34.859375 57.328125 23.390625 \nQ 57.328125 12.15625 50.6875 5.359375 \nQ 44.046875 -1.421875 33.015625 -1.421875 \nQ 20.359375 -1.421875 13.671875 8.265625 \nQ 6.984375 17.96875 6.984375 36.375 \nQ 6.984375 53.65625 15.1875 63.9375 \nQ 23.390625 74.21875 37.203125 74.21875 \nQ 40.921875 74.21875 44.703125 73.484375 \nQ 48.484375 72.75 52.59375 71.296875 \nz\n\" id=\"DejaVuSans-54\"/>\n      </defs>\n      <g transform=\"translate(475.525539 330.783548)scale(0.1 -0.1)\">\n       <use xlink:href=\"#DejaVuSans-54\"/>\n       <use x=\"63.623047\" xlink:href=\"#DejaVuSans-48\"/>\n      </g>\n     </g>\n    </g>\n    <g id=\"xtick_6\">\n     <g id=\"line2d_6\">\n      <g>\n       <use style=\"stroke:#000000;stroke-width:0.8;\" x=\"578.261256\" xlink:href=\"#mf572e4f285\" y=\"316.18511\"/>\n      </g>\n     </g>\n     <g id=\"text_6\">\n      <!-- 70 -->\n      <defs>\n       <path d=\"M 8.203125 72.90625 \nL 55.078125 72.90625 \nL 55.078125 68.703125 \nL 28.609375 0 \nL 18.3125 0 \nL 43.21875 64.59375 \nL 8.203125 64.59375 \nz\n\" id=\"DejaVuSans-55\"/>\n      </defs>\n      <g transform=\"translate(571.898756 330.783548)scale(0.1 -0.1)\">\n       <use xlink:href=\"#DejaVuSans-55\"/>\n       <use x=\"63.623047\" xlink:href=\"#DejaVuSans-48\"/>\n      </g>\n     </g>\n    </g>\n    <g id=\"text_7\">\n     <!-- age -->\n     <defs>\n      <path d=\"M 34.28125 27.484375 \nQ 23.390625 27.484375 19.1875 25 \nQ 14.984375 22.515625 14.984375 16.5 \nQ 14.984375 11.71875 18.140625 8.90625 \nQ 21.296875 6.109375 26.703125 6.109375 \nQ 34.1875 6.109375 38.703125 11.40625 \nQ 43.21875 16.703125 43.21875 25.484375 \nL 43.21875 27.484375 \nz\nM 52.203125 31.203125 \nL 52.203125 0 \nL 43.21875 0 \nL 43.21875 8.296875 \nQ 40.140625 3.328125 35.546875 0.953125 \nQ 30.953125 -1.421875 24.3125 -1.421875 \nQ 15.921875 -1.421875 10.953125 3.296875 \nQ 6 8.015625 6 15.921875 \nQ 6 25.140625 12.171875 29.828125 \nQ 18.359375 34.515625 30.609375 34.515625 \nL 43.21875 34.515625 \nL 43.21875 35.40625 \nQ 43.21875 41.609375 39.140625 45 \nQ 35.0625 48.390625 27.6875 48.390625 \nQ 23 48.390625 18.546875 47.265625 \nQ 14.109375 46.140625 10.015625 43.890625 \nL 10.015625 52.203125 \nQ 14.9375 54.109375 19.578125 55.046875 \nQ 24.21875 56 28.609375 56 \nQ 40.484375 56 46.34375 49.84375 \nQ 52.203125 43.703125 52.203125 31.203125 \nz\n\" id=\"DejaVuSans-97\"/>\n      <path d=\"M 45.40625 27.984375 \nQ 45.40625 37.75 41.375 43.109375 \nQ 37.359375 48.484375 30.078125 48.484375 \nQ 22.859375 48.484375 18.828125 43.109375 \nQ 14.796875 37.75 14.796875 27.984375 \nQ 14.796875 18.265625 18.828125 12.890625 \nQ 22.859375 7.515625 30.078125 7.515625 \nQ 37.359375 7.515625 41.375 12.890625 \nQ 45.40625 18.265625 45.40625 27.984375 \nz\nM 54.390625 6.78125 \nQ 54.390625 -7.171875 48.1875 -13.984375 \nQ 42 -20.796875 29.203125 -20.796875 \nQ 24.46875 -20.796875 20.265625 -20.09375 \nQ 16.0625 -19.390625 12.109375 -17.921875 \nL 12.109375 -9.1875 \nQ 16.0625 -11.328125 19.921875 -12.34375 \nQ 23.78125 -13.375 27.78125 -13.375 \nQ 36.625 -13.375 41.015625 -8.765625 \nQ 45.40625 -4.15625 45.40625 5.171875 \nL 45.40625 9.625 \nQ 42.625 4.78125 38.28125 2.390625 \nQ 33.9375 0 27.875 0 \nQ 17.828125 0 11.671875 7.65625 \nQ 5.515625 15.328125 5.515625 27.984375 \nQ 5.515625 40.671875 11.671875 48.328125 \nQ 17.828125 56 27.875 56 \nQ 33.9375 56 38.28125 53.609375 \nQ 42.625 51.21875 45.40625 46.390625 \nL 45.40625 54.6875 \nL 54.390625 54.6875 \nz\n\" id=\"DejaVuSans-103\"/>\n      <path d=\"M 56.203125 29.59375 \nL 56.203125 25.203125 \nL 14.890625 25.203125 \nQ 15.484375 15.921875 20.484375 11.0625 \nQ 25.484375 6.203125 34.421875 6.203125 \nQ 39.59375 6.203125 44.453125 7.46875 \nQ 49.3125 8.734375 54.109375 11.28125 \nL 54.109375 2.78125 \nQ 49.265625 0.734375 44.1875 -0.34375 \nQ 39.109375 -1.421875 33.890625 -1.421875 \nQ 20.796875 -1.421875 13.15625 6.1875 \nQ 5.515625 13.8125 5.515625 26.8125 \nQ 5.515625 40.234375 12.765625 48.109375 \nQ 20.015625 56 32.328125 56 \nQ 43.359375 56 49.78125 48.890625 \nQ 56.203125 41.796875 56.203125 29.59375 \nz\nM 47.21875 32.234375 \nQ 47.125 39.59375 43.09375 43.984375 \nQ 39.0625 48.390625 32.421875 48.390625 \nQ 24.90625 48.390625 20.390625 44.140625 \nQ 15.875 39.890625 15.1875 32.171875 \nz\n\" id=\"DejaVuSans-101\"/>\n     </defs>\n     <g transform=\"translate(332.832031 344.461673)scale(0.1 -0.1)\">\n      <use xlink:href=\"#DejaVuSans-97\"/>\n      <use x=\"61.279297\" xlink:href=\"#DejaVuSans-103\"/>\n      <use x=\"124.755859\" xlink:href=\"#DejaVuSans-101\"/>\n     </g>\n    </g>\n   </g>\n   <g id=\"matplotlib.axis_2\">\n    <g id=\"ytick_1\">\n     <g id=\"line2d_7\">\n      <defs>\n       <path d=\"M 0 0 \nL -3.5 0 \n\" id=\"mb44cabf20f\" style=\"stroke:#000000;stroke-width:0.8;\"/>\n      </defs>\n      <g>\n       <use style=\"stroke:#000000;stroke-width:0.8;\" x=\"63.146875\" xlink:href=\"#mb44cabf20f\" y=\"316.18511\"/>\n      </g>\n     </g>\n     <g id=\"text_8\">\n      <!-- 0.00 -->\n      <defs>\n       <path d=\"M 10.6875 12.40625 \nL 21 12.40625 \nL 21 0 \nL 10.6875 0 \nz\n\" id=\"DejaVuSans-46\"/>\n      </defs>\n      <g transform=\"translate(33.88125 319.984329)scale(0.1 -0.1)\">\n       <use xlink:href=\"#DejaVuSans-48\"/>\n       <use x=\"63.623047\" xlink:href=\"#DejaVuSans-46\"/>\n       <use x=\"95.410156\" xlink:href=\"#DejaVuSans-48\"/>\n       <use x=\"159.033203\" xlink:href=\"#DejaVuSans-48\"/>\n      </g>\n     </g>\n    </g>\n    <g id=\"ytick_2\">\n     <g id=\"line2d_8\">\n      <g>\n       <use style=\"stroke:#000000;stroke-width:0.8;\" x=\"63.146875\" xlink:href=\"#mb44cabf20f\" y=\"260.363515\"/>\n      </g>\n     </g>\n     <g id=\"text_9\">\n      <!-- 0.01 -->\n      <defs>\n       <path d=\"M 12.40625 8.296875 \nL 28.515625 8.296875 \nL 28.515625 63.921875 \nL 10.984375 60.40625 \nL 10.984375 69.390625 \nL 28.421875 72.90625 \nL 38.28125 72.90625 \nL 38.28125 8.296875 \nL 54.390625 8.296875 \nL 54.390625 0 \nL 12.40625 0 \nz\n\" id=\"DejaVuSans-49\"/>\n      </defs>\n      <g transform=\"translate(33.88125 264.162734)scale(0.1 -0.1)\">\n       <use xlink:href=\"#DejaVuSans-48\"/>\n       <use x=\"63.623047\" xlink:href=\"#DejaVuSans-46\"/>\n       <use x=\"95.410156\" xlink:href=\"#DejaVuSans-48\"/>\n       <use x=\"159.033203\" xlink:href=\"#DejaVuSans-49\"/>\n      </g>\n     </g>\n    </g>\n    <g id=\"ytick_3\">\n     <g id=\"line2d_9\">\n      <g>\n       <use style=\"stroke:#000000;stroke-width:0.8;\" x=\"63.146875\" xlink:href=\"#mb44cabf20f\" y=\"204.541919\"/>\n      </g>\n     </g>\n     <g id=\"text_10\">\n      <!-- 0.02 -->\n      <g transform=\"translate(33.88125 208.341138)scale(0.1 -0.1)\">\n       <use xlink:href=\"#DejaVuSans-48\"/>\n       <use x=\"63.623047\" xlink:href=\"#DejaVuSans-46\"/>\n       <use x=\"95.410156\" xlink:href=\"#DejaVuSans-48\"/>\n       <use x=\"159.033203\" xlink:href=\"#DejaVuSans-50\"/>\n      </g>\n     </g>\n    </g>\n    <g id=\"ytick_4\">\n     <g id=\"line2d_10\">\n      <g>\n       <use style=\"stroke:#000000;stroke-width:0.8;\" x=\"63.146875\" xlink:href=\"#mb44cabf20f\" y=\"148.720324\"/>\n      </g>\n     </g>\n     <g id=\"text_11\">\n      <!-- 0.03 -->\n      <g transform=\"translate(33.88125 152.519543)scale(0.1 -0.1)\">\n       <use xlink:href=\"#DejaVuSans-48\"/>\n       <use x=\"63.623047\" xlink:href=\"#DejaVuSans-46\"/>\n       <use x=\"95.410156\" xlink:href=\"#DejaVuSans-48\"/>\n       <use x=\"159.033203\" xlink:href=\"#DejaVuSans-51\"/>\n      </g>\n     </g>\n    </g>\n    <g id=\"ytick_5\">\n     <g id=\"line2d_11\">\n      <g>\n       <use style=\"stroke:#000000;stroke-width:0.8;\" x=\"63.146875\" xlink:href=\"#mb44cabf20f\" y=\"92.898729\"/>\n      </g>\n     </g>\n     <g id=\"text_12\">\n      <!-- 0.04 -->\n      <g transform=\"translate(33.88125 96.697947)scale(0.1 -0.1)\">\n       <use xlink:href=\"#DejaVuSans-48\"/>\n       <use x=\"63.623047\" xlink:href=\"#DejaVuSans-46\"/>\n       <use x=\"95.410156\" xlink:href=\"#DejaVuSans-48\"/>\n       <use x=\"159.033203\" xlink:href=\"#DejaVuSans-52\"/>\n      </g>\n     </g>\n    </g>\n    <g id=\"ytick_6\">\n     <g id=\"line2d_12\">\n      <g>\n       <use style=\"stroke:#000000;stroke-width:0.8;\" x=\"63.146875\" xlink:href=\"#mb44cabf20f\" y=\"37.077133\"/>\n      </g>\n     </g>\n     <g id=\"text_13\">\n      <!-- 0.05 -->\n      <g transform=\"translate(33.88125 40.876352)scale(0.1 -0.1)\">\n       <use xlink:href=\"#DejaVuSans-48\"/>\n       <use x=\"63.623047\" xlink:href=\"#DejaVuSans-46\"/>\n       <use x=\"95.410156\" xlink:href=\"#DejaVuSans-48\"/>\n       <use x=\"159.033203\" xlink:href=\"#DejaVuSans-53\"/>\n      </g>\n     </g>\n    </g>\n    <g id=\"text_14\">\n     <!-- age -->\n     <g transform=\"translate(27.801563 181.605836)rotate(-90)scale(0.1 -0.1)\">\n      <use xlink:href=\"#DejaVuSans-97\"/>\n      <use x=\"61.279297\" xlink:href=\"#DejaVuSans-103\"/>\n      <use x=\"124.755859\" xlink:href=\"#DejaVuSans-101\"/>\n     </g>\n    </g>\n   </g>\n   <g id=\"patch_48\">\n    <path d=\"M 63.146875 316.18511 \nL 63.146875 28.396875 \n\" style=\"fill:none;stroke:#000000;stroke-linecap:square;stroke-linejoin:miter;stroke-width:0.8;\"/>\n   </g>\n   <g id=\"patch_49\">\n    <path d=\"M 621.146875 316.18511 \nL 621.146875 28.396875 \n\" style=\"fill:none;stroke:#000000;stroke-linecap:square;stroke-linejoin:miter;stroke-width:0.8;\"/>\n   </g>\n   <g id=\"patch_50\">\n    <path d=\"M 63.146875 316.18511 \nL 621.146875 316.18511 \n\" style=\"fill:none;stroke:#000000;stroke-linecap:square;stroke-linejoin:miter;stroke-width:0.8;\"/>\n   </g>\n   <g id=\"patch_51\">\n    <path d=\"M 63.146875 28.396875 \nL 621.146875 28.396875 \n\" style=\"fill:none;stroke:#000000;stroke-linecap:square;stroke-linejoin:miter;stroke-width:0.8;\"/>\n   </g>\n   <g id=\"text_15\">\n    <!-- Distribution of age -->\n    <defs>\n     <path d=\"M 19.671875 64.796875 \nL 19.671875 8.109375 \nL 31.59375 8.109375 \nQ 46.6875 8.109375 53.6875 14.9375 \nQ 60.6875 21.78125 60.6875 36.53125 \nQ 60.6875 51.171875 53.6875 57.984375 \nQ 46.6875 64.796875 31.59375 64.796875 \nz\nM 9.8125 72.90625 \nL 30.078125 72.90625 \nQ 51.265625 72.90625 61.171875 64.09375 \nQ 71.09375 55.28125 71.09375 36.53125 \nQ 71.09375 17.671875 61.125 8.828125 \nQ 51.171875 0 30.078125 0 \nL 9.8125 0 \nz\n\" id=\"DejaVuSans-68\"/>\n     <path d=\"M 9.421875 54.6875 \nL 18.40625 54.6875 \nL 18.40625 0 \nL 9.421875 0 \nz\nM 9.421875 75.984375 \nL 18.40625 75.984375 \nL 18.40625 64.59375 \nL 9.421875 64.59375 \nz\n\" id=\"DejaVuSans-105\"/>\n     <path d=\"M 44.28125 53.078125 \nL 44.28125 44.578125 \nQ 40.484375 46.53125 36.375 47.5 \nQ 32.28125 48.484375 27.875 48.484375 \nQ 21.1875 48.484375 17.84375 46.4375 \nQ 14.5 44.390625 14.5 40.28125 \nQ 14.5 37.15625 16.890625 35.375 \nQ 19.28125 33.59375 26.515625 31.984375 \nL 29.59375 31.296875 \nQ 39.15625 29.25 43.1875 25.515625 \nQ 47.21875 21.78125 47.21875 15.09375 \nQ 47.21875 7.46875 41.1875 3.015625 \nQ 35.15625 -1.421875 24.609375 -1.421875 \nQ 20.21875 -1.421875 15.453125 -0.5625 \nQ 10.6875 0.296875 5.421875 2 \nL 5.421875 11.28125 \nQ 10.40625 8.6875 15.234375 7.390625 \nQ 20.0625 6.109375 24.8125 6.109375 \nQ 31.15625 6.109375 34.5625 8.28125 \nQ 37.984375 10.453125 37.984375 14.40625 \nQ 37.984375 18.0625 35.515625 20.015625 \nQ 33.0625 21.96875 24.703125 23.78125 \nL 21.578125 24.515625 \nQ 13.234375 26.265625 9.515625 29.90625 \nQ 5.8125 33.546875 5.8125 39.890625 \nQ 5.8125 47.609375 11.28125 51.796875 \nQ 16.75 56 26.8125 56 \nQ 31.78125 56 36.171875 55.265625 \nQ 40.578125 54.546875 44.28125 53.078125 \nz\n\" id=\"DejaVuSans-115\"/>\n     <path d=\"M 18.3125 70.21875 \nL 18.3125 54.6875 \nL 36.8125 54.6875 \nL 36.8125 47.703125 \nL 18.3125 47.703125 \nL 18.3125 18.015625 \nQ 18.3125 11.328125 20.140625 9.421875 \nQ 21.96875 7.515625 27.59375 7.515625 \nL 36.8125 7.515625 \nL 36.8125 0 \nL 27.59375 0 \nQ 17.1875 0 13.234375 3.875 \nQ 9.28125 7.765625 9.28125 18.015625 \nL 9.28125 47.703125 \nL 2.6875 47.703125 \nL 2.6875 54.6875 \nL 9.28125 54.6875 \nL 9.28125 70.21875 \nz\n\" id=\"DejaVuSans-116\"/>\n     <path d=\"M 41.109375 46.296875 \nQ 39.59375 47.171875 37.8125 47.578125 \nQ 36.03125 48 33.890625 48 \nQ 26.265625 48 22.1875 43.046875 \nQ 18.109375 38.09375 18.109375 28.8125 \nL 18.109375 0 \nL 9.078125 0 \nL 9.078125 54.6875 \nL 18.109375 54.6875 \nL 18.109375 46.1875 \nQ 20.953125 51.171875 25.484375 53.578125 \nQ 30.03125 56 36.53125 56 \nQ 37.453125 56 38.578125 55.875 \nQ 39.703125 55.765625 41.0625 55.515625 \nz\n\" id=\"DejaVuSans-114\"/>\n     <path d=\"M 48.6875 27.296875 \nQ 48.6875 37.203125 44.609375 42.84375 \nQ 40.53125 48.484375 33.40625 48.484375 \nQ 26.265625 48.484375 22.1875 42.84375 \nQ 18.109375 37.203125 18.109375 27.296875 \nQ 18.109375 17.390625 22.1875 11.75 \nQ 26.265625 6.109375 33.40625 6.109375 \nQ 40.53125 6.109375 44.609375 11.75 \nQ 48.6875 17.390625 48.6875 27.296875 \nz\nM 18.109375 46.390625 \nQ 20.953125 51.265625 25.265625 53.625 \nQ 29.59375 56 35.59375 56 \nQ 45.5625 56 51.78125 48.09375 \nQ 58.015625 40.1875 58.015625 27.296875 \nQ 58.015625 14.40625 51.78125 6.484375 \nQ 45.5625 -1.421875 35.59375 -1.421875 \nQ 29.59375 -1.421875 25.265625 0.953125 \nQ 20.953125 3.328125 18.109375 8.203125 \nL 18.109375 0 \nL 9.078125 0 \nL 9.078125 75.984375 \nL 18.109375 75.984375 \nz\n\" id=\"DejaVuSans-98\"/>\n     <path d=\"M 8.5 21.578125 \nL 8.5 54.6875 \nL 17.484375 54.6875 \nL 17.484375 21.921875 \nQ 17.484375 14.15625 20.5 10.265625 \nQ 23.53125 6.390625 29.59375 6.390625 \nQ 36.859375 6.390625 41.078125 11.03125 \nQ 45.3125 15.671875 45.3125 23.6875 \nL 45.3125 54.6875 \nL 54.296875 54.6875 \nL 54.296875 0 \nL 45.3125 0 \nL 45.3125 8.40625 \nQ 42.046875 3.421875 37.71875 1 \nQ 33.40625 -1.421875 27.6875 -1.421875 \nQ 18.265625 -1.421875 13.375 4.4375 \nQ 8.5 10.296875 8.5 21.578125 \nz\nM 31.109375 56 \nz\n\" id=\"DejaVuSans-117\"/>\n     <path d=\"M 30.609375 48.390625 \nQ 23.390625 48.390625 19.1875 42.75 \nQ 14.984375 37.109375 14.984375 27.296875 \nQ 14.984375 17.484375 19.15625 11.84375 \nQ 23.34375 6.203125 30.609375 6.203125 \nQ 37.796875 6.203125 41.984375 11.859375 \nQ 46.1875 17.53125 46.1875 27.296875 \nQ 46.1875 37.015625 41.984375 42.703125 \nQ 37.796875 48.390625 30.609375 48.390625 \nz\nM 30.609375 56 \nQ 42.328125 56 49.015625 48.375 \nQ 55.71875 40.765625 55.71875 27.296875 \nQ 55.71875 13.875 49.015625 6.21875 \nQ 42.328125 -1.421875 30.609375 -1.421875 \nQ 18.84375 -1.421875 12.171875 6.21875 \nQ 5.515625 13.875 5.515625 27.296875 \nQ 5.515625 40.765625 12.171875 48.375 \nQ 18.84375 56 30.609375 56 \nz\n\" id=\"DejaVuSans-111\"/>\n     <path d=\"M 54.890625 33.015625 \nL 54.890625 0 \nL 45.90625 0 \nL 45.90625 32.71875 \nQ 45.90625 40.484375 42.875 44.328125 \nQ 39.84375 48.1875 33.796875 48.1875 \nQ 26.515625 48.1875 22.3125 43.546875 \nQ 18.109375 38.921875 18.109375 30.90625 \nL 18.109375 0 \nL 9.078125 0 \nL 9.078125 54.6875 \nL 18.109375 54.6875 \nL 18.109375 46.1875 \nQ 21.34375 51.125 25.703125 53.5625 \nQ 30.078125 56 35.796875 56 \nQ 45.21875 56 50.046875 50.171875 \nQ 54.890625 44.34375 54.890625 33.015625 \nz\n\" id=\"DejaVuSans-110\"/>\n     <path id=\"DejaVuSans-32\"/>\n     <path d=\"M 37.109375 75.984375 \nL 37.109375 68.5 \nL 28.515625 68.5 \nQ 23.6875 68.5 21.796875 66.546875 \nQ 19.921875 64.59375 19.921875 59.515625 \nL 19.921875 54.6875 \nL 34.71875 54.6875 \nL 34.71875 47.703125 \nL 19.921875 47.703125 \nL 19.921875 0 \nL 10.890625 0 \nL 10.890625 47.703125 \nL 2.296875 47.703125 \nL 2.296875 54.6875 \nL 10.890625 54.6875 \nL 10.890625 58.5 \nQ 10.890625 67.625 15.140625 71.796875 \nQ 19.390625 75.984375 28.609375 75.984375 \nz\n\" id=\"DejaVuSans-102\"/>\n    </defs>\n    <g transform=\"translate(249.184375 22.396875)scale(0.2 -0.2)\">\n     <use xlink:href=\"#DejaVuSans-68\"/>\n     <use x=\"77.001953\" xlink:href=\"#DejaVuSans-105\"/>\n     <use x=\"104.785156\" xlink:href=\"#DejaVuSans-115\"/>\n     <use x=\"156.884766\" xlink:href=\"#DejaVuSans-116\"/>\n     <use x=\"196.09375\" xlink:href=\"#DejaVuSans-114\"/>\n     <use x=\"237.207031\" xlink:href=\"#DejaVuSans-105\"/>\n     <use x=\"264.990234\" xlink:href=\"#DejaVuSans-98\"/>\n     <use x=\"328.466797\" xlink:href=\"#DejaVuSans-117\"/>\n     <use x=\"391.845703\" xlink:href=\"#DejaVuSans-116\"/>\n     <use x=\"431.054688\" xlink:href=\"#DejaVuSans-105\"/>\n     <use x=\"458.837891\" xlink:href=\"#DejaVuSans-111\"/>\n     <use x=\"520.019531\" xlink:href=\"#DejaVuSans-110\"/>\n     <use x=\"583.398438\" xlink:href=\"#DejaVuSans-32\"/>\n     <use x=\"615.185547\" xlink:href=\"#DejaVuSans-111\"/>\n     <use x=\"676.367188\" xlink:href=\"#DejaVuSans-102\"/>\n     <use x=\"711.572266\" xlink:href=\"#DejaVuSans-32\"/>\n     <use x=\"743.359375\" xlink:href=\"#DejaVuSans-97\"/>\n     <use x=\"804.638672\" xlink:href=\"#DejaVuSans-103\"/>\n     <use x=\"868.115234\" xlink:href=\"#DejaVuSans-101\"/>\n    </g>\n   </g>\n  </g>\n  <g id=\"axes_2\">\n   <g id=\"patch_52\">\n    <path d=\"M 63.146875 661.530993 \nL 621.146875 661.530993 \nL 621.146875 373.742757 \nL 63.146875 373.742757 \nz\n\" style=\"fill:#ffffff;\"/>\n   </g>\n   <g id=\"PolyCollection_2\">\n    <defs>\n     <path d=\"M 88.510511 -383.181998 \nL 88.510511 -383.180257 \nL 91.059621 -383.180257 \nL 93.60873 -383.180257 \nL 96.157839 -383.180257 \nL 98.706948 -383.180257 \nL 101.256057 -383.180257 \nL 103.805166 -383.180257 \nL 106.354276 -383.180257 \nL 108.903385 -383.180257 \nL 111.452494 -383.180257 \nL 114.001603 -383.180257 \nL 116.550712 -383.180257 \nL 119.099822 -383.180257 \nL 121.648931 -383.180257 \nL 124.19804 -383.180257 \nL 126.747149 -383.180257 \nL 129.296258 -383.180257 \nL 131.845367 -383.180257 \nL 134.394477 -383.180257 \nL 136.943586 -383.180257 \nL 139.492695 -383.180257 \nL 142.041804 -383.180257 \nL 144.590913 -383.180257 \nL 147.140023 -383.180257 \nL 149.689132 -383.180257 \nL 152.238241 -383.180257 \nL 154.78735 -383.180257 \nL 157.336459 -383.180257 \nL 159.885568 -383.180257 \nL 162.434678 -383.180257 \nL 164.983787 -383.180257 \nL 167.532896 -383.180257 \nL 170.082005 -383.180257 \nL 172.631114 -383.180257 \nL 175.180224 -383.180257 \nL 177.729333 -383.180257 \nL 180.278442 -383.180257 \nL 182.827551 -383.180257 \nL 185.37666 -383.180257 \nL 187.925769 -383.180257 \nL 190.474879 -383.180257 \nL 193.023988 -383.180257 \nL 195.573097 -383.180257 \nL 198.122206 -383.180257 \nL 200.671315 -383.180257 \nL 203.220425 -383.180257 \nL 205.769534 -383.180257 \nL 208.318643 -383.180257 \nL 210.867752 -383.180257 \nL 213.416861 -383.180257 \nL 215.96597 -383.180257 \nL 218.51508 -383.180257 \nL 221.064189 -383.180257 \nL 223.613298 -383.180257 \nL 226.162407 -383.180257 \nL 228.711516 -383.180257 \nL 231.260626 -383.180257 \nL 233.809735 -383.180257 \nL 236.358844 -383.180257 \nL 238.907953 -383.180257 \nL 241.457062 -383.180257 \nL 244.006171 -383.180257 \nL 246.555281 -383.180257 \nL 249.10439 -383.180257 \nL 251.653499 -383.180257 \nL 254.202608 -383.180257 \nL 256.751717 -383.180257 \nL 259.300827 -383.180257 \nL 261.849936 -383.180257 \nL 264.399045 -383.180257 \nL 266.948154 -383.180257 \nL 269.497263 -383.180257 \nL 272.046372 -383.180257 \nL 274.595482 -383.180257 \nL 277.144591 -383.180257 \nL 279.6937 -383.180257 \nL 282.242809 -383.180257 \nL 284.791918 -383.180257 \nL 287.341028 -383.180257 \nL 289.890137 -383.180257 \nL 292.439246 -383.180257 \nL 294.988355 -383.180257 \nL 297.537464 -383.180257 \nL 300.086573 -383.180257 \nL 302.635683 -383.180257 \nL 305.184792 -383.180257 \nL 307.733901 -383.180257 \nL 310.28301 -383.180257 \nL 312.832119 -383.180257 \nL 315.381229 -383.180257 \nL 317.930338 -383.180257 \nL 320.479447 -383.180257 \nL 323.028556 -383.180257 \nL 325.577665 -383.180257 \nL 328.126774 -383.180257 \nL 330.675884 -383.180257 \nL 333.224993 -383.180257 \nL 335.774102 -383.180257 \nL 338.323211 -383.180257 \nL 340.87232 -383.180257 \nL 343.42143 -383.180257 \nL 345.970539 -383.180257 \nL 348.519648 -383.180257 \nL 351.068757 -383.180257 \nL 353.617866 -383.180257 \nL 356.166976 -383.180257 \nL 358.716085 -383.180257 \nL 361.265194 -383.180257 \nL 363.814303 -383.180257 \nL 366.363412 -383.180257 \nL 368.912521 -383.180257 \nL 371.461631 -383.180257 \nL 374.01074 -383.180257 \nL 376.559849 -383.180257 \nL 379.108958 -383.180257 \nL 381.658067 -383.180257 \nL 384.207177 -383.180257 \nL 386.756286 -383.180257 \nL 389.305395 -383.180257 \nL 391.854504 -383.180257 \nL 394.403613 -383.180257 \nL 396.952722 -383.180257 \nL 399.501832 -383.180257 \nL 402.050941 -383.180257 \nL 404.60005 -383.180257 \nL 407.149159 -383.180257 \nL 409.698268 -383.180257 \nL 412.247378 -383.180257 \nL 414.796487 -383.180257 \nL 417.345596 -383.180257 \nL 419.894705 -383.180257 \nL 422.443814 -383.180257 \nL 424.992923 -383.180257 \nL 427.542033 -383.180257 \nL 430.091142 -383.180257 \nL 432.640251 -383.180257 \nL 435.18936 -383.180257 \nL 437.738469 -383.180257 \nL 440.287579 -383.180257 \nL 442.836688 -383.180257 \nL 445.385797 -383.180257 \nL 447.934906 -383.180257 \nL 450.484015 -383.180257 \nL 453.033124 -383.180257 \nL 455.582234 -383.180257 \nL 458.131343 -383.180257 \nL 460.680452 -383.180257 \nL 463.229561 -383.180257 \nL 465.77867 -383.180257 \nL 468.32778 -383.180257 \nL 470.876889 -383.180257 \nL 473.425998 -383.180257 \nL 475.975107 -383.180257 \nL 478.524216 -383.180257 \nL 481.073325 -383.180257 \nL 483.622435 -383.180257 \nL 486.171544 -383.180257 \nL 488.720653 -383.180257 \nL 491.269762 -383.180257 \nL 493.818871 -383.180257 \nL 496.367981 -383.180257 \nL 498.91709 -383.180257 \nL 501.466199 -383.180257 \nL 504.015308 -383.180257 \nL 506.564417 -383.180257 \nL 509.113526 -383.180257 \nL 511.662636 -383.180257 \nL 514.211745 -383.180257 \nL 516.760854 -383.180257 \nL 519.309963 -383.180257 \nL 521.859072 -383.180257 \nL 524.408182 -383.180257 \nL 526.957291 -383.180257 \nL 529.5064 -383.180257 \nL 532.055509 -383.180257 \nL 534.604618 -383.180257 \nL 537.153727 -383.180257 \nL 539.702837 -383.180257 \nL 542.251946 -383.180257 \nL 544.801055 -383.180257 \nL 547.350164 -383.180257 \nL 549.899273 -383.180257 \nL 552.448383 -383.180257 \nL 554.997492 -383.180257 \nL 557.546601 -383.180257 \nL 560.09571 -383.180257 \nL 562.644819 -383.180257 \nL 565.193928 -383.180257 \nL 567.743038 -383.180257 \nL 570.292147 -383.180257 \nL 572.841256 -383.180257 \nL 575.390365 -383.180257 \nL 577.939474 -383.180257 \nL 580.488584 -383.180257 \nL 583.037693 -383.180257 \nL 585.586802 -383.180257 \nL 588.135911 -383.180257 \nL 590.68502 -383.180257 \nL 593.234129 -383.180257 \nL 595.783239 -383.180257 \nL 595.783239 -383.181126 \nL 595.783239 -383.181126 \nL 593.234129 -383.182075 \nL 590.68502 -383.183819 \nL 588.135911 -383.186788 \nL 585.586802 -383.191469 \nL 583.037693 -383.198282 \nL 580.488584 -383.207401 \nL 577.939474 -383.218575 \nL 575.390365 -383.231027 \nL 572.841256 -383.243549 \nL 570.292147 -383.25483 \nL 567.743038 -383.263976 \nL 565.193928 -383.271058 \nL 562.644819 -383.277457 \nL 560.09571 -383.285812 \nL 557.546601 -383.299505 \nL 554.997492 -383.321807 \nL 552.448383 -383.354974 \nL 549.899273 -383.399668 \nL 547.350164 -383.454955 \nL 544.801055 -383.518963 \nL 542.251946 -383.589974 \nL 539.702837 -383.667443 \nL 537.153727 -383.752441 \nL 534.604618 -383.847147 \nL 532.055509 -383.953487 \nL 529.5064 -384.071494 \nL 526.957291 -384.198237 \nL 524.408182 -384.32804 \nL 521.859072 -384.454175 \nL 519.309963 -384.571485 \nL 516.760854 -384.678893 \nL 514.211745 -384.780756 \nL 511.662636 -384.886506 \nL 509.113526 -385.008755 \nL 506.564417 -385.160586 \nL 504.015308 -385.352839 \nL 501.466199 -385.591987 \nL 498.91709 -385.878913 \nL 496.367981 -386.208774 \nL 493.818871 -386.572205 \nL 491.269762 -386.957973 \nL 488.720653 -387.356774 \nL 486.171544 -387.76511 \nL 483.622435 -388.187603 \nL 481.073325 -388.636181 \nL 478.524216 -389.125613 \nL 475.975107 -389.666551 \nL 473.425998 -390.258811 \nL 470.876889 -390.888183 \nL 468.32778 -391.529011 \nL 465.77867 -392.152478 \nL 463.229561 -392.737878 \nL 460.680452 -393.282535 \nL 458.131343 -393.806248 \nL 455.582234 -394.348237 \nL 453.033124 -394.957443 \nL 450.484015 -395.679552 \nL 447.934906 -396.545002 \nL 445.385797 -397.561503 \nL 442.836688 -398.712605 \nL 440.287579 -399.961676 \nL 437.738469 -401.259172 \nL 435.18936 -402.550784 \nL 432.640251 -403.784647 \nL 430.091142 -404.916768 \nL 427.542033 -405.914472 \nL 424.992923 -406.757867 \nL 422.443814 -407.439276 \nL 419.894705 -407.960881 \nL 417.345596 -408.331367 \nL 414.796487 -408.56292 \nL 412.247378 -408.670032 \nL 409.698268 -408.67085 \nL 407.149159 -408.59087 \nL 404.60005 -408.467924 \nL 402.050941 -408.35719 \nL 399.501832 -408.335149 \nL 396.952722 -408.50179 \nL 394.403613 -408.980672 \nL 391.854504 -409.916815 \nL 389.305395 -411.472685 \nL 386.756286 -413.822541 \nL 384.207177 -417.14427 \nL 381.658067 -421.605627 \nL 379.108958 -427.339448 \nL 376.559849 -434.402563 \nL 374.01074 -442.718456 \nL 371.461631 -452.014409 \nL 368.912521 -461.776247 \nL 366.363412 -471.250279 \nL 363.814303 -479.515477 \nL 361.265194 -485.627343 \nL 358.716085 -488.805197 \nL 356.166976 -488.610252 \nL 353.617866 -485.056461 \nL 351.068757 -478.615028 \nL 348.519648 -470.109826 \nL 345.970539 -460.538748 \nL 343.42143 -450.878623 \nL 340.87232 -441.930132 \nL 338.323211 -434.237379 \nL 335.774102 -428.086401 \nL 333.224993 -423.561545 \nL 330.675884 -420.626835 \nL 328.126774 -419.201829 \nL 325.577665 -419.212445 \nL 323.028556 -420.609659 \nL 320.479447 -423.358033 \nL 317.930338 -427.401455 \nL 315.381229 -432.617551 \nL 312.832119 -438.776971 \nL 310.28301 -445.527605 \nL 307.733901 -452.422298 \nL 305.184792 -458.997502 \nL 302.635683 -464.890182 \nL 300.086573 -469.958545 \nL 297.537464 -474.360132 \nL 294.988355 -478.547419 \nL 292.439246 -483.166594 \nL 289.890137 -488.880377 \nL 287.341028 -496.165653 \nL 284.791918 -505.14879 \nL 282.242809 -515.531065 \nL 279.6937 -526.628457 \nL 277.144591 -537.514947 \nL 274.595482 -547.228114 \nL 272.046372 -554.979149 \nL 269.497263 -560.31044 \nL 266.948154 -563.161682 \nL 264.399045 -563.834242 \nL 261.849936 -562.873644 \nL 259.300827 -560.910822 \nL 256.751717 -558.507348 \nL 254.202608 -556.038663 \nL 251.653499 -553.630798 \nL 249.10439 -551.150628 \nL 246.555281 -548.243371 \nL 244.006171 -544.411286 \nL 241.457062 -539.126457 \nL 238.907953 -531.962623 \nL 236.358844 -522.718506 \nL 233.809735 -511.497507 \nL 231.260626 -498.715221 \nL 228.711516 -485.027895 \nL 226.162407 -471.202665 \nL 223.613298 -457.970479 \nL 221.064189 -445.905244 \nL 218.51508 -435.358289 \nL 215.96597 -426.454153 \nL 213.416861 -419.133482 \nL 210.867752 -413.218705 \nL 208.318643 -408.479291 \nL 205.769534 -404.681624 \nL 203.220425 -401.618485 \nL 200.671315 -399.120722 \nL 198.122206 -397.057228 \nL 195.573097 -395.329445 \nL 193.023988 -393.864516 \nL 190.474879 -392.608905 \nL 187.925769 -391.522757 \nL 185.37666 -390.574983 \nL 182.827551 -389.739475 \nL 180.278442 -388.993169 \nL 177.729333 -388.316241 \nL 175.180224 -387.693799 \nL 172.631114 -387.11756 \nL 170.082005 -386.586022 \nL 167.532896 -386.102535 \nL 164.983787 -385.671978 \nL 162.434678 -385.29756 \nL 159.885568 -384.979107 \nL 157.336459 -384.713248 \nL 154.78735 -384.494793 \nL 152.238241 -384.318125 \nL 149.689132 -384.177721 \nL 147.140023 -384.067765 \nL 144.590913 -383.981525 \nL 142.041804 -383.911313 \nL 139.492695 -383.84942 \nL 136.943586 -383.789669 \nL 134.394477 -383.728779 \nL 131.845367 -383.666751 \nL 129.296258 -383.606004 \nL 126.747149 -383.549674 \nL 124.19804 -383.499914 \nL 121.648931 -383.456972 \nL 119.099822 -383.419367 \nL 116.550712 -383.384876 \nL 114.001603 -383.351716 \nL 111.452494 -383.319296 \nL 108.903385 -383.288272 \nL 106.354276 -383.260032 \nL 103.805166 -383.235966 \nL 101.256057 -383.216907 \nL 98.706948 -383.202918 \nL 96.157839 -383.193406 \nL 93.60873 -383.18741 \nL 91.059621 -383.183903 \nL 88.510511 -383.181998 \nz\n\" id=\"mc7f8fca5f1\" style=\"stroke:#0b032d;\"/>\n    </defs>\n    <g clip-path=\"url(#p72427c8efc)\">\n     <use style=\"fill:#0b032d;fill-opacity:0.25;stroke:#0b032d;\" x=\"0\" xlink:href=\"#mc7f8fca5f1\" y=\"1044.71125\"/>\n    </g>\n   </g>\n   <g id=\"patch_53\">\n    <path clip-path=\"url(#p72427c8efc)\" d=\"M 118.249453 661.530993 \nL 127.578512 661.530993 \nL 127.578512 661.114452 \nL 118.249453 661.114452 \nz\n\" style=\"fill:#0b032d;opacity:0.4;\"/>\n   </g>\n   <g id=\"patch_54\">\n    <path clip-path=\"url(#p72427c8efc)\" d=\"M 127.578512 661.530993 \nL 136.907571 661.530993 \nL 136.907571 660.69791 \nL 127.578512 660.69791 \nz\n\" style=\"fill:#0b032d;opacity:0.4;\"/>\n   </g>\n   <g id=\"patch_55\">\n    <path clip-path=\"url(#p72427c8efc)\" d=\"M 136.907571 661.530993 \nL 146.23663 661.530993 \nL 146.23663 661.114452 \nL 136.907571 661.114452 \nz\n\" style=\"fill:#0b032d;opacity:0.4;\"/>\n   </g>\n   <g id=\"patch_56\">\n    <path clip-path=\"url(#p72427c8efc)\" d=\"M 146.23663 661.530993 \nL 155.56569 661.530993 \nL 155.56569 660.69791 \nL 146.23663 660.69791 \nz\n\" style=\"fill:#0b032d;opacity:0.4;\"/>\n   </g>\n   <g id=\"patch_57\">\n    <path clip-path=\"url(#p72427c8efc)\" d=\"M 155.56569 661.530993 \nL 164.894749 661.530993 \nL 164.894749 660.073099 \nL 155.56569 660.073099 \nz\n\" style=\"fill:#0b032d;opacity:0.4;\"/>\n   </g>\n   <g id=\"patch_58\">\n    <path clip-path=\"url(#p72427c8efc)\" d=\"M 164.894749 661.530993 \nL 174.223808 661.530993 \nL 174.223808 658.406935 \nL 164.894749 658.406935 \nz\n\" style=\"fill:#0b032d;opacity:0.4;\"/>\n   </g>\n   <g id=\"patch_59\">\n    <path clip-path=\"url(#p72427c8efc)\" d=\"M 174.223808 661.530993 \nL 183.552867 661.530993 \nL 183.552867 657.782123 \nL 174.223808 657.782123 \nz\n\" style=\"fill:#0b032d;opacity:0.4;\"/>\n   </g>\n   <g id=\"patch_60\">\n    <path clip-path=\"url(#p72427c8efc)\" d=\"M 183.552867 661.530993 \nL 192.881927 661.530993 \nL 192.881927 652.9919 \nL 183.552867 652.9919 \nz\n\" style=\"fill:#0b032d;opacity:0.4;\"/>\n   </g>\n   <g id=\"patch_61\">\n    <path clip-path=\"url(#p72427c8efc)\" d=\"M 192.881927 661.530993 \nL 202.210986 661.530993 \nL 202.210986 646.118973 \nL 192.881927 646.118973 \nz\n\" style=\"fill:#0b032d;opacity:0.4;\"/>\n   </g>\n   <g id=\"patch_62\">\n    <path clip-path=\"url(#p72427c8efc)\" d=\"M 202.210986 661.530993 \nL 211.540045 661.530993 \nL 211.540045 647.785137 \nL 202.210986 647.785137 \nz\n\" style=\"fill:#0b032d;opacity:0.4;\"/>\n   </g>\n   <g id=\"patch_63\">\n    <path clip-path=\"url(#p72427c8efc)\" d=\"M 211.540045 661.530993 \nL 220.869105 661.530993 \nL 220.869105 618.835531 \nL 211.540045 618.835531 \nz\n\" style=\"fill:#0b032d;opacity:0.4;\"/>\n   </g>\n   <g id=\"patch_64\">\n    <path clip-path=\"url(#p72427c8efc)\" d=\"M 220.869105 661.530993 \nL 230.198164 661.530993 \nL 230.198164 622.584401 \nL 220.869105 622.584401 \nz\n\" style=\"fill:#0b032d;opacity:0.4;\"/>\n   </g>\n   <g id=\"patch_65\">\n    <path clip-path=\"url(#p72427c8efc)\" d=\"M 230.198164 661.530993 \nL 239.527223 661.530993 \nL 239.527223 453.05218 \nL 230.198164 453.05218 \nz\n\" style=\"fill:#0b032d;opacity:0.4;\"/>\n   </g>\n   <g id=\"patch_66\">\n    <path clip-path=\"url(#p72427c8efc)\" d=\"M 239.527223 661.530993 \nL 248.856282 661.530993 \nL 248.856282 560.311509 \nL 239.527223 560.311509 \nz\n\" style=\"fill:#0b032d;opacity:0.4;\"/>\n   </g>\n   <g id=\"patch_67\">\n    <path clip-path=\"url(#p72427c8efc)\" d=\"M 248.856282 661.530993 \nL 258.185342 661.530993 \nL 258.185342 444.304817 \nL 248.856282 444.304817 \nz\n\" style=\"fill:#0b032d;opacity:0.4;\"/>\n   </g>\n   <g id=\"patch_68\">\n    <path clip-path=\"url(#p72427c8efc)\" d=\"M 258.185342 661.530993 \nL 267.514401 661.530993 \nL 267.514401 559.270156 \nL 258.185342 559.270156 \nz\n\" style=\"fill:#0b032d;opacity:0.4;\"/>\n   </g>\n   <g id=\"patch_69\">\n    <path clip-path=\"url(#p72427c8efc)\" d=\"M 267.514401 661.530993 \nL 276.84346 661.530993 \nL 276.84346 387.446959 \nL 267.514401 387.446959 \nz\n\" style=\"fill:#0b032d;opacity:0.4;\"/>\n   </g>\n   <g id=\"patch_70\">\n    <path clip-path=\"url(#p72427c8efc)\" d=\"M 276.84346 661.530993 \nL 286.172519 661.530993 \nL 286.172519 514.49199 \nL 276.84346 514.49199 \nz\n\" style=\"fill:#0b032d;opacity:0.4;\"/>\n   </g>\n   <g id=\"patch_71\">\n    <path clip-path=\"url(#p72427c8efc)\" d=\"M 286.172519 661.530993 \nL 295.501579 661.530993 \nL 295.501579 618.002449 \nL 286.172519 618.002449 \nz\n\" style=\"fill:#0b032d;opacity:0.4;\"/>\n   </g>\n   <g id=\"patch_72\">\n    <path clip-path=\"url(#p72427c8efc)\" d=\"M 295.501579 661.530993 \nL 304.830638 661.530993 \nL 304.830638 516.366425 \nL 295.501579 516.366425 \nz\n\" style=\"fill:#0b032d;opacity:0.4;\"/>\n   </g>\n   <g id=\"patch_73\">\n    <path clip-path=\"url(#p72427c8efc)\" d=\"M 304.830638 661.530993 \nL 314.159697 661.530993 \nL 314.159697 631.331764 \nL 304.830638 631.331764 \nz\n\" style=\"fill:#0b032d;opacity:0.4;\"/>\n   </g>\n   <g id=\"patch_74\">\n    <path clip-path=\"url(#p72427c8efc)\" d=\"M 314.159697 661.530993 \nL 323.488756 661.530993 \nL 323.488756 616.752826 \nL 314.159697 616.752826 \nz\n\" style=\"fill:#0b032d;opacity:0.4;\"/>\n   </g>\n   <g id=\"patch_75\">\n    <path clip-path=\"url(#p72427c8efc)\" d=\"M 323.488756 661.530993 \nL 332.817816 661.530993 \nL 332.817816 645.702431 \nL 323.488756 645.702431 \nz\n\" style=\"fill:#0b032d;opacity:0.4;\"/>\n   </g>\n   <g id=\"patch_76\">\n    <path clip-path=\"url(#p72427c8efc)\" d=\"M 332.817816 661.530993 \nL 342.146875 661.530993 \nL 342.146875 616.752826 \nL 332.817816 616.752826 \nz\n\" style=\"fill:#0b032d;opacity:0.4;\"/>\n   </g>\n   <g id=\"patch_77\">\n    <path clip-path=\"url(#p72427c8efc)\" d=\"M 342.146875 661.530993 \nL 351.475934 661.530993 \nL 351.475934 559.270156 \nL 342.146875 559.270156 \nz\n\" style=\"fill:#0b032d;opacity:0.4;\"/>\n   </g>\n   <g id=\"patch_78\">\n    <path clip-path=\"url(#p72427c8efc)\" d=\"M 351.475934 661.530993 \nL 360.804994 661.530993 \nL 360.804994 547.607006 \nL 351.475934 547.607006 \nz\n\" style=\"fill:#0b032d;opacity:0.4;\"/>\n   </g>\n   <g id=\"patch_79\">\n    <path clip-path=\"url(#p72427c8efc)\" d=\"M 360.804994 661.530993 \nL 370.134053 661.530993 \nL 370.134053 549.27317 \nL 360.804994 549.27317 \nz\n\" style=\"fill:#0b032d;opacity:0.4;\"/>\n   </g>\n   <g id=\"patch_80\">\n    <path clip-path=\"url(#p72427c8efc)\" d=\"M 370.134053 661.530993 \nL 379.463112 661.530993 \nL 379.463112 631.331764 \nL 370.134053 631.331764 \nz\n\" style=\"fill:#0b032d;opacity:0.4;\"/>\n   </g>\n   <g id=\"patch_81\">\n    <path clip-path=\"url(#p72427c8efc)\" d=\"M 379.463112 661.530993 \nL 388.792171 661.530993 \nL 388.792171 628.624247 \nL 379.463112 628.624247 \nz\n\" style=\"fill:#0b032d;opacity:0.4;\"/>\n   </g>\n   <g id=\"patch_82\">\n    <path clip-path=\"url(#p72427c8efc)\" d=\"M 388.792171 661.530993 \nL 398.121231 661.530993 \nL 398.121231 646.952055 \nL 388.792171 646.952055 \nz\n\" style=\"fill:#0b032d;opacity:0.4;\"/>\n   </g>\n   <g id=\"patch_83\">\n    <path clip-path=\"url(#p72427c8efc)\" d=\"M 398.121231 661.530993 \nL 407.45029 661.530993 \nL 407.45029 629.6656 \nL 398.121231 629.6656 \nz\n\" style=\"fill:#0b032d;opacity:0.4;\"/>\n   </g>\n   <g id=\"patch_84\">\n    <path clip-path=\"url(#p72427c8efc)\" d=\"M 407.45029 661.530993 \nL 416.779349 661.530993 \nL 416.779349 643.411455 \nL 407.45029 643.411455 \nz\n\" style=\"fill:#0b032d;opacity:0.4;\"/>\n   </g>\n   <g id=\"patch_85\">\n    <path clip-path=\"url(#p72427c8efc)\" d=\"M 416.779349 661.530993 \nL 426.108408 661.530993 \nL 426.108408 629.040788 \nL 416.779349 629.040788 \nz\n\" style=\"fill:#0b032d;opacity:0.4;\"/>\n   </g>\n   <g id=\"patch_86\">\n    <path clip-path=\"url(#p72427c8efc)\" d=\"M 426.108408 661.530993 \nL 435.437468 661.530993 \nL 435.437468 633.62274 \nL 426.108408 633.62274 \nz\n\" style=\"fill:#0b032d;opacity:0.4;\"/>\n   </g>\n   <g id=\"patch_87\">\n    <path clip-path=\"url(#p72427c8efc)\" d=\"M 435.437468 661.530993 \nL 444.766527 661.530993 \nL 444.766527 650.284383 \nL 435.437468 650.284383 \nz\n\" style=\"fill:#0b032d;opacity:0.4;\"/>\n   </g>\n   <g id=\"patch_88\">\n    <path clip-path=\"url(#p72427c8efc)\" d=\"M 444.766527 661.530993 \nL 454.095586 661.530993 \nL 454.095586 648.201678 \nL 444.766527 648.201678 \nz\n\" style=\"fill:#0b032d;opacity:0.4;\"/>\n   </g>\n   <g id=\"patch_89\">\n    <path clip-path=\"url(#p72427c8efc)\" d=\"M 454.095586 661.530993 \nL 463.424645 661.530993 \nL 463.424645 654.866335 \nL 454.095586 654.866335 \nz\n\" style=\"fill:#0b032d;opacity:0.4;\"/>\n   </g>\n   <g id=\"patch_90\">\n    <path clip-path=\"url(#p72427c8efc)\" d=\"M 463.424645 661.530993 \nL 472.753705 661.530993 \nL 472.753705 649.451301 \nL 463.424645 649.451301 \nz\n\" style=\"fill:#0b032d;opacity:0.4;\"/>\n   </g>\n   <g id=\"patch_91\">\n    <path clip-path=\"url(#p72427c8efc)\" d=\"M 472.753705 661.530993 \nL 482.082764 661.530993 \nL 482.082764 658.406935 \nL 472.753705 658.406935 \nz\n\" style=\"fill:#0b032d;opacity:0.4;\"/>\n   </g>\n   <g id=\"patch_92\">\n    <path clip-path=\"url(#p72427c8efc)\" d=\"M 482.082764 661.530993 \nL 491.411823 661.530993 \nL 491.411823 654.658065 \nL 482.082764 654.658065 \nz\n\" style=\"fill:#0b032d;opacity:0.4;\"/>\n   </g>\n   <g id=\"patch_93\">\n    <path clip-path=\"url(#p72427c8efc)\" d=\"M 491.411823 661.530993 \nL 500.740883 661.530993 \nL 500.740883 658.615205 \nL 491.411823 658.615205 \nz\n\" style=\"fill:#0b032d;opacity:0.4;\"/>\n   </g>\n   <g id=\"patch_94\">\n    <path clip-path=\"url(#p72427c8efc)\" d=\"M 500.740883 661.530993 \nL 510.069942 661.530993 \nL 510.069942 660.48964 \nL 500.740883 660.48964 \nz\n\" style=\"fill:#0b032d;opacity:0.4;\"/>\n   </g>\n   <g id=\"patch_95\">\n    <path clip-path=\"url(#p72427c8efc)\" d=\"M 510.069942 661.530993 \nL 519.399001 661.530993 \nL 519.399001 659.240017 \nL 510.069942 659.240017 \nz\n\" style=\"fill:#0b032d;opacity:0.4;\"/>\n   </g>\n   <g id=\"patch_96\">\n    <path clip-path=\"url(#p72427c8efc)\" d=\"M 519.399001 661.530993 \nL 528.72806 661.530993 \nL 528.72806 660.906181 \nL 519.399001 660.906181 \nz\n\" style=\"fill:#0b032d;opacity:0.4;\"/>\n   </g>\n   <g id=\"patch_97\">\n    <path clip-path=\"url(#p72427c8efc)\" d=\"M 528.72806 661.530993 \nL 538.05712 661.530993 \nL 538.05712 660.906181 \nL 528.72806 660.906181 \nz\n\" style=\"fill:#0b032d;opacity:0.4;\"/>\n   </g>\n   <g id=\"patch_98\">\n    <path clip-path=\"url(#p72427c8efc)\" d=\"M 538.05712 661.530993 \nL 547.386179 661.530993 \nL 547.386179 661.114452 \nL 538.05712 661.114452 \nz\n\" style=\"fill:#0b032d;opacity:0.4;\"/>\n   </g>\n   <g id=\"patch_99\">\n    <path clip-path=\"url(#p72427c8efc)\" d=\"M 547.386179 661.530993 \nL 556.715238 661.530993 \nL 556.715238 661.530993 \nL 547.386179 661.530993 \nz\n\" style=\"fill:#0b032d;opacity:0.4;\"/>\n   </g>\n   <g id=\"patch_100\">\n    <path clip-path=\"url(#p72427c8efc)\" d=\"M 556.715238 661.530993 \nL 566.044297 661.530993 \nL 566.044297 661.322722 \nL 556.715238 661.322722 \nz\n\" style=\"fill:#0b032d;opacity:0.4;\"/>\n   </g>\n   <g id=\"matplotlib.axis_3\">\n    <g id=\"xtick_7\">\n     <g id=\"line2d_13\">\n      <g>\n       <use style=\"stroke:#000000;stroke-width:0.8;\" x=\"94.367061\" xlink:href=\"#mf572e4f285\" y=\"661.530993\"/>\n      </g>\n     </g>\n     <g id=\"text_16\">\n      <!-- 0 -->\n      <g transform=\"translate(91.185811 676.12943)scale(0.1 -0.1)\">\n       <use xlink:href=\"#DejaVuSans-48\"/>\n      </g>\n     </g>\n    </g>\n    <g id=\"xtick_8\">\n     <g id=\"line2d_14\">\n      <g>\n       <use style=\"stroke:#000000;stroke-width:0.8;\" x=\"213.779019\" xlink:href=\"#mf572e4f285\" y=\"661.530993\"/>\n      </g>\n     </g>\n     <g id=\"text_17\">\n      <!-- 1000 -->\n      <g transform=\"translate(201.054019 676.12943)scale(0.1 -0.1)\">\n       <use xlink:href=\"#DejaVuSans-49\"/>\n       <use x=\"63.623047\" xlink:href=\"#DejaVuSans-48\"/>\n       <use x=\"127.246094\" xlink:href=\"#DejaVuSans-48\"/>\n       <use x=\"190.869141\" xlink:href=\"#DejaVuSans-48\"/>\n      </g>\n     </g>\n    </g>\n    <g id=\"xtick_9\">\n     <g id=\"line2d_15\">\n      <g>\n       <use style=\"stroke:#000000;stroke-width:0.8;\" x=\"333.190978\" xlink:href=\"#mf572e4f285\" y=\"661.530993\"/>\n      </g>\n     </g>\n     <g id=\"text_18\">\n      <!-- 2000 -->\n      <g transform=\"translate(320.465978 676.12943)scale(0.1 -0.1)\">\n       <use xlink:href=\"#DejaVuSans-50\"/>\n       <use x=\"63.623047\" xlink:href=\"#DejaVuSans-48\"/>\n       <use x=\"127.246094\" xlink:href=\"#DejaVuSans-48\"/>\n       <use x=\"190.869141\" xlink:href=\"#DejaVuSans-48\"/>\n      </g>\n     </g>\n    </g>\n    <g id=\"xtick_10\">\n     <g id=\"line2d_16\">\n      <g>\n       <use style=\"stroke:#000000;stroke-width:0.8;\" x=\"452.602937\" xlink:href=\"#mf572e4f285\" y=\"661.530993\"/>\n      </g>\n     </g>\n     <g id=\"text_19\">\n      <!-- 3000 -->\n      <g transform=\"translate(439.877937 676.12943)scale(0.1 -0.1)\">\n       <use xlink:href=\"#DejaVuSans-51\"/>\n       <use x=\"63.623047\" xlink:href=\"#DejaVuSans-48\"/>\n       <use x=\"127.246094\" xlink:href=\"#DejaVuSans-48\"/>\n       <use x=\"190.869141\" xlink:href=\"#DejaVuSans-48\"/>\n      </g>\n     </g>\n    </g>\n    <g id=\"xtick_11\">\n     <g id=\"line2d_17\">\n      <g>\n       <use style=\"stroke:#000000;stroke-width:0.8;\" x=\"572.014895\" xlink:href=\"#mf572e4f285\" y=\"661.530993\"/>\n      </g>\n     </g>\n     <g id=\"text_20\">\n      <!-- 4000 -->\n      <g transform=\"translate(559.289895 676.12943)scale(0.1 -0.1)\">\n       <use xlink:href=\"#DejaVuSans-52\"/>\n       <use x=\"63.623047\" xlink:href=\"#DejaVuSans-48\"/>\n       <use x=\"127.246094\" xlink:href=\"#DejaVuSans-48\"/>\n       <use x=\"190.869141\" xlink:href=\"#DejaVuSans-48\"/>\n      </g>\n     </g>\n    </g>\n    <g id=\"text_21\">\n     <!-- lesson_price -->\n     <defs>\n      <path d=\"M 9.421875 75.984375 \nL 18.40625 75.984375 \nL 18.40625 0 \nL 9.421875 0 \nz\n\" id=\"DejaVuSans-108\"/>\n      <path d=\"M 50.984375 -16.609375 \nL 50.984375 -23.578125 \nL -0.984375 -23.578125 \nL -0.984375 -16.609375 \nz\n\" id=\"DejaVuSans-95\"/>\n      <path d=\"M 18.109375 8.203125 \nL 18.109375 -20.796875 \nL 9.078125 -20.796875 \nL 9.078125 54.6875 \nL 18.109375 54.6875 \nL 18.109375 46.390625 \nQ 20.953125 51.265625 25.265625 53.625 \nQ 29.59375 56 35.59375 56 \nQ 45.5625 56 51.78125 48.09375 \nQ 58.015625 40.1875 58.015625 27.296875 \nQ 58.015625 14.40625 51.78125 6.484375 \nQ 45.5625 -1.421875 35.59375 -1.421875 \nQ 29.59375 -1.421875 25.265625 0.953125 \nQ 20.953125 3.328125 18.109375 8.203125 \nz\nM 48.6875 27.296875 \nQ 48.6875 37.203125 44.609375 42.84375 \nQ 40.53125 48.484375 33.40625 48.484375 \nQ 26.265625 48.484375 22.1875 42.84375 \nQ 18.109375 37.203125 18.109375 27.296875 \nQ 18.109375 17.390625 22.1875 11.75 \nQ 26.265625 6.109375 33.40625 6.109375 \nQ 40.53125 6.109375 44.609375 11.75 \nQ 48.6875 17.390625 48.6875 27.296875 \nz\n\" id=\"DejaVuSans-112\"/>\n      <path d=\"M 48.78125 52.59375 \nL 48.78125 44.1875 \nQ 44.96875 46.296875 41.140625 47.34375 \nQ 37.3125 48.390625 33.40625 48.390625 \nQ 24.65625 48.390625 19.8125 42.84375 \nQ 14.984375 37.3125 14.984375 27.296875 \nQ 14.984375 17.28125 19.8125 11.734375 \nQ 24.65625 6.203125 33.40625 6.203125 \nQ 37.3125 6.203125 41.140625 7.25 \nQ 44.96875 8.296875 48.78125 10.40625 \nL 48.78125 2.09375 \nQ 45.015625 0.34375 40.984375 -0.53125 \nQ 36.96875 -1.421875 32.421875 -1.421875 \nQ 20.0625 -1.421875 12.78125 6.34375 \nQ 5.515625 14.109375 5.515625 27.296875 \nQ 5.515625 40.671875 12.859375 48.328125 \nQ 20.21875 56 33.015625 56 \nQ 37.15625 56 41.109375 55.140625 \nQ 45.0625 54.296875 48.78125 52.59375 \nz\n\" id=\"DejaVuSans-99\"/>\n     </defs>\n     <g transform=\"translate(311.299219 689.807555)scale(0.1 -0.1)\">\n      <use xlink:href=\"#DejaVuSans-108\"/>\n      <use x=\"27.783203\" xlink:href=\"#DejaVuSans-101\"/>\n      <use x=\"89.306641\" xlink:href=\"#DejaVuSans-115\"/>\n      <use x=\"141.40625\" xlink:href=\"#DejaVuSans-115\"/>\n      <use x=\"193.505859\" xlink:href=\"#DejaVuSans-111\"/>\n      <use x=\"254.6875\" xlink:href=\"#DejaVuSans-110\"/>\n      <use x=\"318.066406\" xlink:href=\"#DejaVuSans-95\"/>\n      <use x=\"368.066406\" xlink:href=\"#DejaVuSans-112\"/>\n      <use x=\"431.542969\" xlink:href=\"#DejaVuSans-114\"/>\n      <use x=\"472.65625\" xlink:href=\"#DejaVuSans-105\"/>\n      <use x=\"500.439453\" xlink:href=\"#DejaVuSans-99\"/>\n      <use x=\"555.419922\" xlink:href=\"#DejaVuSans-101\"/>\n     </g>\n    </g>\n   </g>\n   <g id=\"matplotlib.axis_4\">\n    <g id=\"ytick_7\">\n     <g id=\"line2d_18\">\n      <g>\n       <use style=\"stroke:#000000;stroke-width:0.8;\" x=\"63.146875\" xlink:href=\"#mb44cabf20f\" y=\"661.530993\"/>\n      </g>\n     </g>\n     <g id=\"text_22\">\n      <!-- 0.0000 -->\n      <g transform=\"translate(21.15625 665.330211)scale(0.1 -0.1)\">\n       <use xlink:href=\"#DejaVuSans-48\"/>\n       <use x=\"63.623047\" xlink:href=\"#DejaVuSans-46\"/>\n       <use x=\"95.410156\" xlink:href=\"#DejaVuSans-48\"/>\n       <use x=\"159.033203\" xlink:href=\"#DejaVuSans-48\"/>\n       <use x=\"222.65625\" xlink:href=\"#DejaVuSans-48\"/>\n       <use x=\"286.279297\" xlink:href=\"#DejaVuSans-48\"/>\n      </g>\n     </g>\n    </g>\n    <g id=\"ytick_8\">\n     <g id=\"line2d_19\">\n      <g>\n       <use style=\"stroke:#000000;stroke-width:0.8;\" x=\"63.146875\" xlink:href=\"#mb44cabf20f\" y=\"628.98872\"/>\n      </g>\n     </g>\n     <g id=\"text_23\">\n      <!-- 0.0002 -->\n      <g transform=\"translate(21.15625 632.787939)scale(0.1 -0.1)\">\n       <use xlink:href=\"#DejaVuSans-48\"/>\n       <use x=\"63.623047\" xlink:href=\"#DejaVuSans-46\"/>\n       <use x=\"95.410156\" xlink:href=\"#DejaVuSans-48\"/>\n       <use x=\"159.033203\" xlink:href=\"#DejaVuSans-48\"/>\n       <use x=\"222.65625\" xlink:href=\"#DejaVuSans-48\"/>\n       <use x=\"286.279297\" xlink:href=\"#DejaVuSans-50\"/>\n      </g>\n     </g>\n    </g>\n    <g id=\"ytick_9\">\n     <g id=\"line2d_20\">\n      <g>\n       <use style=\"stroke:#000000;stroke-width:0.8;\" x=\"63.146875\" xlink:href=\"#mb44cabf20f\" y=\"596.446448\"/>\n      </g>\n     </g>\n     <g id=\"text_24\">\n      <!-- 0.0004 -->\n      <g transform=\"translate(21.15625 600.245667)scale(0.1 -0.1)\">\n       <use xlink:href=\"#DejaVuSans-48\"/>\n       <use x=\"63.623047\" xlink:href=\"#DejaVuSans-46\"/>\n       <use x=\"95.410156\" xlink:href=\"#DejaVuSans-48\"/>\n       <use x=\"159.033203\" xlink:href=\"#DejaVuSans-48\"/>\n       <use x=\"222.65625\" xlink:href=\"#DejaVuSans-48\"/>\n       <use x=\"286.279297\" xlink:href=\"#DejaVuSans-52\"/>\n      </g>\n     </g>\n    </g>\n    <g id=\"ytick_10\">\n     <g id=\"line2d_21\">\n      <g>\n       <use style=\"stroke:#000000;stroke-width:0.8;\" x=\"63.146875\" xlink:href=\"#mb44cabf20f\" y=\"563.904176\"/>\n      </g>\n     </g>\n     <g id=\"text_25\">\n      <!-- 0.0006 -->\n      <g transform=\"translate(21.15625 567.703395)scale(0.1 -0.1)\">\n       <use xlink:href=\"#DejaVuSans-48\"/>\n       <use x=\"63.623047\" xlink:href=\"#DejaVuSans-46\"/>\n       <use x=\"95.410156\" xlink:href=\"#DejaVuSans-48\"/>\n       <use x=\"159.033203\" xlink:href=\"#DejaVuSans-48\"/>\n       <use x=\"222.65625\" xlink:href=\"#DejaVuSans-48\"/>\n       <use x=\"286.279297\" xlink:href=\"#DejaVuSans-54\"/>\n      </g>\n     </g>\n    </g>\n    <g id=\"ytick_11\">\n     <g id=\"line2d_22\">\n      <g>\n       <use style=\"stroke:#000000;stroke-width:0.8;\" x=\"63.146875\" xlink:href=\"#mb44cabf20f\" y=\"531.361904\"/>\n      </g>\n     </g>\n     <g id=\"text_26\">\n      <!-- 0.0008 -->\n      <defs>\n       <path d=\"M 31.78125 34.625 \nQ 24.75 34.625 20.71875 30.859375 \nQ 16.703125 27.09375 16.703125 20.515625 \nQ 16.703125 13.921875 20.71875 10.15625 \nQ 24.75 6.390625 31.78125 6.390625 \nQ 38.8125 6.390625 42.859375 10.171875 \nQ 46.921875 13.96875 46.921875 20.515625 \nQ 46.921875 27.09375 42.890625 30.859375 \nQ 38.875 34.625 31.78125 34.625 \nz\nM 21.921875 38.8125 \nQ 15.578125 40.375 12.03125 44.71875 \nQ 8.5 49.078125 8.5 55.328125 \nQ 8.5 64.0625 14.71875 69.140625 \nQ 20.953125 74.21875 31.78125 74.21875 \nQ 42.671875 74.21875 48.875 69.140625 \nQ 55.078125 64.0625 55.078125 55.328125 \nQ 55.078125 49.078125 51.53125 44.71875 \nQ 48 40.375 41.703125 38.8125 \nQ 48.828125 37.15625 52.796875 32.3125 \nQ 56.78125 27.484375 56.78125 20.515625 \nQ 56.78125 9.90625 50.3125 4.234375 \nQ 43.84375 -1.421875 31.78125 -1.421875 \nQ 19.734375 -1.421875 13.25 4.234375 \nQ 6.78125 9.90625 6.78125 20.515625 \nQ 6.78125 27.484375 10.78125 32.3125 \nQ 14.796875 37.15625 21.921875 38.8125 \nz\nM 18.3125 54.390625 \nQ 18.3125 48.734375 21.84375 45.5625 \nQ 25.390625 42.390625 31.78125 42.390625 \nQ 38.140625 42.390625 41.71875 45.5625 \nQ 45.3125 48.734375 45.3125 54.390625 \nQ 45.3125 60.0625 41.71875 63.234375 \nQ 38.140625 66.40625 31.78125 66.40625 \nQ 25.390625 66.40625 21.84375 63.234375 \nQ 18.3125 60.0625 18.3125 54.390625 \nz\n\" id=\"DejaVuSans-56\"/>\n      </defs>\n      <g transform=\"translate(21.15625 535.161122)scale(0.1 -0.1)\">\n       <use xlink:href=\"#DejaVuSans-48\"/>\n       <use x=\"63.623047\" xlink:href=\"#DejaVuSans-46\"/>\n       <use x=\"95.410156\" xlink:href=\"#DejaVuSans-48\"/>\n       <use x=\"159.033203\" xlink:href=\"#DejaVuSans-48\"/>\n       <use x=\"222.65625\" xlink:href=\"#DejaVuSans-48\"/>\n       <use x=\"286.279297\" xlink:href=\"#DejaVuSans-56\"/>\n      </g>\n     </g>\n    </g>\n    <g id=\"ytick_12\">\n     <g id=\"line2d_23\">\n      <g>\n       <use style=\"stroke:#000000;stroke-width:0.8;\" x=\"63.146875\" xlink:href=\"#mb44cabf20f\" y=\"498.819632\"/>\n      </g>\n     </g>\n     <g id=\"text_27\">\n      <!-- 0.0010 -->\n      <g transform=\"translate(21.15625 502.61885)scale(0.1 -0.1)\">\n       <use xlink:href=\"#DejaVuSans-48\"/>\n       <use x=\"63.623047\" xlink:href=\"#DejaVuSans-46\"/>\n       <use x=\"95.410156\" xlink:href=\"#DejaVuSans-48\"/>\n       <use x=\"159.033203\" xlink:href=\"#DejaVuSans-48\"/>\n       <use x=\"222.65625\" xlink:href=\"#DejaVuSans-49\"/>\n       <use x=\"286.279297\" xlink:href=\"#DejaVuSans-48\"/>\n      </g>\n     </g>\n    </g>\n    <g id=\"ytick_13\">\n     <g id=\"line2d_24\">\n      <g>\n       <use style=\"stroke:#000000;stroke-width:0.8;\" x=\"63.146875\" xlink:href=\"#mb44cabf20f\" y=\"466.277359\"/>\n      </g>\n     </g>\n     <g id=\"text_28\">\n      <!-- 0.0012 -->\n      <g transform=\"translate(21.15625 470.076578)scale(0.1 -0.1)\">\n       <use xlink:href=\"#DejaVuSans-48\"/>\n       <use x=\"63.623047\" xlink:href=\"#DejaVuSans-46\"/>\n       <use x=\"95.410156\" xlink:href=\"#DejaVuSans-48\"/>\n       <use x=\"159.033203\" xlink:href=\"#DejaVuSans-48\"/>\n       <use x=\"222.65625\" xlink:href=\"#DejaVuSans-49\"/>\n       <use x=\"286.279297\" xlink:href=\"#DejaVuSans-50\"/>\n      </g>\n     </g>\n    </g>\n    <g id=\"ytick_14\">\n     <g id=\"line2d_25\">\n      <g>\n       <use style=\"stroke:#000000;stroke-width:0.8;\" x=\"63.146875\" xlink:href=\"#mb44cabf20f\" y=\"433.735087\"/>\n      </g>\n     </g>\n     <g id=\"text_29\">\n      <!-- 0.0014 -->\n      <g transform=\"translate(21.15625 437.534306)scale(0.1 -0.1)\">\n       <use xlink:href=\"#DejaVuSans-48\"/>\n       <use x=\"63.623047\" xlink:href=\"#DejaVuSans-46\"/>\n       <use x=\"95.410156\" xlink:href=\"#DejaVuSans-48\"/>\n       <use x=\"159.033203\" xlink:href=\"#DejaVuSans-48\"/>\n       <use x=\"222.65625\" xlink:href=\"#DejaVuSans-49\"/>\n       <use x=\"286.279297\" xlink:href=\"#DejaVuSans-52\"/>\n      </g>\n     </g>\n    </g>\n    <g id=\"ytick_15\">\n     <g id=\"line2d_26\">\n      <g>\n       <use style=\"stroke:#000000;stroke-width:0.8;\" x=\"63.146875\" xlink:href=\"#mb44cabf20f\" y=\"401.192815\"/>\n      </g>\n     </g>\n     <g id=\"text_30\">\n      <!-- 0.0016 -->\n      <g transform=\"translate(21.15625 404.992034)scale(0.1 -0.1)\">\n       <use xlink:href=\"#DejaVuSans-48\"/>\n       <use x=\"63.623047\" xlink:href=\"#DejaVuSans-46\"/>\n       <use x=\"95.410156\" xlink:href=\"#DejaVuSans-48\"/>\n       <use x=\"159.033203\" xlink:href=\"#DejaVuSans-48\"/>\n       <use x=\"222.65625\" xlink:href=\"#DejaVuSans-49\"/>\n       <use x=\"286.279297\" xlink:href=\"#DejaVuSans-54\"/>\n      </g>\n     </g>\n    </g>\n    <g id=\"text_31\">\n     <!-- lesson_price -->\n     <g transform=\"translate(14.798438 548.484531)rotate(-90)scale(0.1 -0.1)\">\n      <use xlink:href=\"#DejaVuSans-108\"/>\n      <use x=\"27.783203\" xlink:href=\"#DejaVuSans-101\"/>\n      <use x=\"89.306641\" xlink:href=\"#DejaVuSans-115\"/>\n      <use x=\"141.40625\" xlink:href=\"#DejaVuSans-115\"/>\n      <use x=\"193.505859\" xlink:href=\"#DejaVuSans-111\"/>\n      <use x=\"254.6875\" xlink:href=\"#DejaVuSans-110\"/>\n      <use x=\"318.066406\" xlink:href=\"#DejaVuSans-95\"/>\n      <use x=\"368.066406\" xlink:href=\"#DejaVuSans-112\"/>\n      <use x=\"431.542969\" xlink:href=\"#DejaVuSans-114\"/>\n      <use x=\"472.65625\" xlink:href=\"#DejaVuSans-105\"/>\n      <use x=\"500.439453\" xlink:href=\"#DejaVuSans-99\"/>\n      <use x=\"555.419922\" xlink:href=\"#DejaVuSans-101\"/>\n     </g>\n    </g>\n   </g>\n   <g id=\"patch_101\">\n    <path d=\"M 63.146875 661.530993 \nL 63.146875 373.742757 \n\" style=\"fill:none;stroke:#000000;stroke-linecap:square;stroke-linejoin:miter;stroke-width:0.8;\"/>\n   </g>\n   <g id=\"patch_102\">\n    <path d=\"M 621.146875 661.530993 \nL 621.146875 373.742757 \n\" style=\"fill:none;stroke:#000000;stroke-linecap:square;stroke-linejoin:miter;stroke-width:0.8;\"/>\n   </g>\n   <g id=\"patch_103\">\n    <path d=\"M 63.146875 661.530993 \nL 621.146875 661.530993 \n\" style=\"fill:none;stroke:#000000;stroke-linecap:square;stroke-linejoin:miter;stroke-width:0.8;\"/>\n   </g>\n   <g id=\"patch_104\">\n    <path d=\"M 63.146875 373.742757 \nL 621.146875 373.742757 \n\" style=\"fill:none;stroke:#000000;stroke-linecap:square;stroke-linejoin:miter;stroke-width:0.8;\"/>\n   </g>\n   <g id=\"text_32\">\n    <!-- Distribution of lesson_price -->\n    <g transform=\"translate(206.11875 367.742757)scale(0.2 -0.2)\">\n     <use xlink:href=\"#DejaVuSans-68\"/>\n     <use x=\"77.001953\" xlink:href=\"#DejaVuSans-105\"/>\n     <use x=\"104.785156\" xlink:href=\"#DejaVuSans-115\"/>\n     <use x=\"156.884766\" xlink:href=\"#DejaVuSans-116\"/>\n     <use x=\"196.09375\" xlink:href=\"#DejaVuSans-114\"/>\n     <use x=\"237.207031\" xlink:href=\"#DejaVuSans-105\"/>\n     <use x=\"264.990234\" xlink:href=\"#DejaVuSans-98\"/>\n     <use x=\"328.466797\" xlink:href=\"#DejaVuSans-117\"/>\n     <use x=\"391.845703\" xlink:href=\"#DejaVuSans-116\"/>\n     <use x=\"431.054688\" xlink:href=\"#DejaVuSans-105\"/>\n     <use x=\"458.837891\" xlink:href=\"#DejaVuSans-111\"/>\n     <use x=\"520.019531\" xlink:href=\"#DejaVuSans-110\"/>\n     <use x=\"583.398438\" xlink:href=\"#DejaVuSans-32\"/>\n     <use x=\"615.185547\" xlink:href=\"#DejaVuSans-111\"/>\n     <use x=\"676.367188\" xlink:href=\"#DejaVuSans-102\"/>\n     <use x=\"711.572266\" xlink:href=\"#DejaVuSans-32\"/>\n     <use x=\"743.359375\" xlink:href=\"#DejaVuSans-108\"/>\n     <use x=\"771.142578\" xlink:href=\"#DejaVuSans-101\"/>\n     <use x=\"832.666016\" xlink:href=\"#DejaVuSans-115\"/>\n     <use x=\"884.765625\" xlink:href=\"#DejaVuSans-115\"/>\n     <use x=\"936.865234\" xlink:href=\"#DejaVuSans-111\"/>\n     <use x=\"998.046875\" xlink:href=\"#DejaVuSans-110\"/>\n     <use x=\"1061.425781\" xlink:href=\"#DejaVuSans-95\"/>\n     <use x=\"1111.425781\" xlink:href=\"#DejaVuSans-112\"/>\n     <use x=\"1174.902344\" xlink:href=\"#DejaVuSans-114\"/>\n     <use x=\"1216.015625\" xlink:href=\"#DejaVuSans-105\"/>\n     <use x=\"1243.798828\" xlink:href=\"#DejaVuSans-99\"/>\n     <use x=\"1298.779297\" xlink:href=\"#DejaVuSans-101\"/>\n    </g>\n   </g>\n  </g>\n  <g id=\"axes_3\">\n   <g id=\"patch_105\">\n    <path d=\"M 63.146875 1006.876875 \nL 621.146875 1006.876875 \nL 621.146875 719.08864 \nL 63.146875 719.08864 \nz\n\" style=\"fill:#ffffff;\"/>\n   </g>\n   <g id=\"PolyCollection_3\">\n    <defs>\n     <path d=\"M 88.510511 -37.854559 \nL 88.510511 -37.834375 \nL 91.059621 -37.834375 \nL 93.60873 -37.834375 \nL 96.157839 -37.834375 \nL 98.706948 -37.834375 \nL 101.256057 -37.834375 \nL 103.805166 -37.834375 \nL 106.354276 -37.834375 \nL 108.903385 -37.834375 \nL 111.452494 -37.834375 \nL 114.001603 -37.834375 \nL 116.550712 -37.834375 \nL 119.099822 -37.834375 \nL 121.648931 -37.834375 \nL 124.19804 -37.834375 \nL 126.747149 -37.834375 \nL 129.296258 -37.834375 \nL 131.845367 -37.834375 \nL 134.394477 -37.834375 \nL 136.943586 -37.834375 \nL 139.492695 -37.834375 \nL 142.041804 -37.834375 \nL 144.590913 -37.834375 \nL 147.140023 -37.834375 \nL 149.689132 -37.834375 \nL 152.238241 -37.834375 \nL 154.78735 -37.834375 \nL 157.336459 -37.834375 \nL 159.885568 -37.834375 \nL 162.434678 -37.834375 \nL 164.983787 -37.834375 \nL 167.532896 -37.834375 \nL 170.082005 -37.834375 \nL 172.631114 -37.834375 \nL 175.180224 -37.834375 \nL 177.729333 -37.834375 \nL 180.278442 -37.834375 \nL 182.827551 -37.834375 \nL 185.37666 -37.834375 \nL 187.925769 -37.834375 \nL 190.474879 -37.834375 \nL 193.023988 -37.834375 \nL 195.573097 -37.834375 \nL 198.122206 -37.834375 \nL 200.671315 -37.834375 \nL 203.220425 -37.834375 \nL 205.769534 -37.834375 \nL 208.318643 -37.834375 \nL 210.867752 -37.834375 \nL 213.416861 -37.834375 \nL 215.96597 -37.834375 \nL 218.51508 -37.834375 \nL 221.064189 -37.834375 \nL 223.613298 -37.834375 \nL 226.162407 -37.834375 \nL 228.711516 -37.834375 \nL 231.260626 -37.834375 \nL 233.809735 -37.834375 \nL 236.358844 -37.834375 \nL 238.907953 -37.834375 \nL 241.457062 -37.834375 \nL 244.006171 -37.834375 \nL 246.555281 -37.834375 \nL 249.10439 -37.834375 \nL 251.653499 -37.834375 \nL 254.202608 -37.834375 \nL 256.751717 -37.834375 \nL 259.300827 -37.834375 \nL 261.849936 -37.834375 \nL 264.399045 -37.834375 \nL 266.948154 -37.834375 \nL 269.497263 -37.834375 \nL 272.046372 -37.834375 \nL 274.595482 -37.834375 \nL 277.144591 -37.834375 \nL 279.6937 -37.834375 \nL 282.242809 -37.834375 \nL 284.791918 -37.834375 \nL 287.341028 -37.834375 \nL 289.890137 -37.834375 \nL 292.439246 -37.834375 \nL 294.988355 -37.834375 \nL 297.537464 -37.834375 \nL 300.086573 -37.834375 \nL 302.635683 -37.834375 \nL 305.184792 -37.834375 \nL 307.733901 -37.834375 \nL 310.28301 -37.834375 \nL 312.832119 -37.834375 \nL 315.381229 -37.834375 \nL 317.930338 -37.834375 \nL 320.479447 -37.834375 \nL 323.028556 -37.834375 \nL 325.577665 -37.834375 \nL 328.126774 -37.834375 \nL 330.675884 -37.834375 \nL 333.224993 -37.834375 \nL 335.774102 -37.834375 \nL 338.323211 -37.834375 \nL 340.87232 -37.834375 \nL 343.42143 -37.834375 \nL 345.970539 -37.834375 \nL 348.519648 -37.834375 \nL 351.068757 -37.834375 \nL 353.617866 -37.834375 \nL 356.166976 -37.834375 \nL 358.716085 -37.834375 \nL 361.265194 -37.834375 \nL 363.814303 -37.834375 \nL 366.363412 -37.834375 \nL 368.912521 -37.834375 \nL 371.461631 -37.834375 \nL 374.01074 -37.834375 \nL 376.559849 -37.834375 \nL 379.108958 -37.834375 \nL 381.658067 -37.834375 \nL 384.207177 -37.834375 \nL 386.756286 -37.834375 \nL 389.305395 -37.834375 \nL 391.854504 -37.834375 \nL 394.403613 -37.834375 \nL 396.952722 -37.834375 \nL 399.501832 -37.834375 \nL 402.050941 -37.834375 \nL 404.60005 -37.834375 \nL 407.149159 -37.834375 \nL 409.698268 -37.834375 \nL 412.247378 -37.834375 \nL 414.796487 -37.834375 \nL 417.345596 -37.834375 \nL 419.894705 -37.834375 \nL 422.443814 -37.834375 \nL 424.992923 -37.834375 \nL 427.542033 -37.834375 \nL 430.091142 -37.834375 \nL 432.640251 -37.834375 \nL 435.18936 -37.834375 \nL 437.738469 -37.834375 \nL 440.287579 -37.834375 \nL 442.836688 -37.834375 \nL 445.385797 -37.834375 \nL 447.934906 -37.834375 \nL 450.484015 -37.834375 \nL 453.033124 -37.834375 \nL 455.582234 -37.834375 \nL 458.131343 -37.834375 \nL 460.680452 -37.834375 \nL 463.229561 -37.834375 \nL 465.77867 -37.834375 \nL 468.32778 -37.834375 \nL 470.876889 -37.834375 \nL 473.425998 -37.834375 \nL 475.975107 -37.834375 \nL 478.524216 -37.834375 \nL 481.073325 -37.834375 \nL 483.622435 -37.834375 \nL 486.171544 -37.834375 \nL 488.720653 -37.834375 \nL 491.269762 -37.834375 \nL 493.818871 -37.834375 \nL 496.367981 -37.834375 \nL 498.91709 -37.834375 \nL 501.466199 -37.834375 \nL 504.015308 -37.834375 \nL 506.564417 -37.834375 \nL 509.113526 -37.834375 \nL 511.662636 -37.834375 \nL 514.211745 -37.834375 \nL 516.760854 -37.834375 \nL 519.309963 -37.834375 \nL 521.859072 -37.834375 \nL 524.408182 -37.834375 \nL 526.957291 -37.834375 \nL 529.5064 -37.834375 \nL 532.055509 -37.834375 \nL 534.604618 -37.834375 \nL 537.153727 -37.834375 \nL 539.702837 -37.834375 \nL 542.251946 -37.834375 \nL 544.801055 -37.834375 \nL 547.350164 -37.834375 \nL 549.899273 -37.834375 \nL 552.448383 -37.834375 \nL 554.997492 -37.834375 \nL 557.546601 -37.834375 \nL 560.09571 -37.834375 \nL 562.644819 -37.834375 \nL 565.193928 -37.834375 \nL 567.743038 -37.834375 \nL 570.292147 -37.834375 \nL 572.841256 -37.834375 \nL 575.390365 -37.834375 \nL 577.939474 -37.834375 \nL 580.488584 -37.834375 \nL 583.037693 -37.834375 \nL 585.586802 -37.834375 \nL 588.135911 -37.834375 \nL 590.68502 -37.834375 \nL 593.234129 -37.834375 \nL 595.783239 -37.834375 \nL 595.783239 -37.836685 \nL 595.783239 -37.836685 \nL 593.234129 -37.838528 \nL 590.68502 -37.841636 \nL 588.135911 -37.846731 \nL 585.586802 -37.854861 \nL 583.037693 -37.867508 \nL 580.488584 -37.886716 \nL 577.939474 -37.915239 \nL 575.390365 -37.956712 \nL 572.841256 -38.015834 \nL 570.292147 -38.098559 \nL 567.743038 -38.212261 \nL 565.193928 -38.365857 \nL 562.644819 -38.569827 \nL 560.09571 -38.836102 \nL 557.546601 -39.177777 \nL 554.997492 -39.608627 \nL 552.448383 -40.142475 \nL 549.899273 -40.792452 \nL 547.350164 -41.570268 \nL 544.801055 -42.485613 \nL 542.251946 -43.545824 \nL 539.702837 -44.755893 \nL 537.153727 -46.118886 \nL 534.604618 -47.636743 \nL 532.055509 -49.311413 \nL 529.5064 -51.146186 \nL 526.957291 -53.147089 \nL 524.408182 -55.32414 \nL 521.859072 -57.692275 \nL 519.309963 -60.27173 \nL 516.760854 -63.087692 \nL 514.211745 -66.169048 \nL 511.662636 -69.546173 \nL 509.113526 -73.24775 \nL 506.564417 -77.296777 \nL 504.015308 -81.706053 \nL 501.466199 -86.473594 \nL 498.91709 -91.578585 \nL 496.367981 -96.978568 \nL 493.818871 -102.608556 \nL 491.269762 -108.382666 \nL 488.720653 -114.198458 \nL 486.171544 -119.943786 \nL 483.622435 -125.505335 \nL 481.073325 -130.777613 \nL 478.524216 -135.670905 \nL 475.975107 -140.116807 \nL 473.425998 -144.070492 \nL 470.876889 -147.509516 \nL 468.32778 -150.429845 \nL 465.77867 -152.840296 \nL 463.229561 -154.756858 \nL 460.680452 -156.198156 \nL 458.131343 -157.182803 \nL 455.582234 -157.728793 \nL 453.033124 -157.854511 \nL 450.484015 -157.580702 \nL 447.934906 -156.932666 \nL 445.385797 -155.942185 \nL 442.836688 -154.648893 \nL 440.287579 -153.10103 \nL 437.738469 -151.355573 \nL 435.18936 -149.477727 \nL 432.640251 -147.539691 \nL 430.091142 -145.618645 \nL 427.542033 -143.793973 \nL 424.992923 -142.14392 \nL 422.443814 -140.742034 \nL 419.894705 -139.653818 \nL 417.345596 -138.933981 \nL 414.796487 -138.624506 \nL 412.247378 -138.753617 \nL 409.698268 -139.335605 \nL 407.149159 -140.371465 \nL 404.60005 -141.850386 \nL 402.050941 -143.752192 \nL 399.501832 -146.050771 \nL 396.952722 -148.718364 \nL 394.403613 -151.730242 \nL 391.854504 -155.069013 \nL 389.305395 -158.727641 \nL 386.756286 -162.710323 \nL 384.207177 -167.030769 \nL 381.658067 -171.707947 \nL 379.108958 -176.759896 \nL 376.559849 -182.196631 \nL 374.01074 -188.013312 \nL 371.461631 -194.184691 \nL 368.912521 -200.661625 \nL 366.363412 -207.370026 \nL 363.814303 -214.21241 \nL 361.265194 -221.071982 \nL 358.716085 -227.819118 \nL 356.166976 -234.319971 \nL 353.617866 -240.446701 \nL 351.068757 -246.088479 \nL 348.519648 -251.162042 \nL 345.970539 -255.620237 \nL 343.42143 -259.456938 \nL 340.87232 -262.707008 \nL 338.323211 -265.440643 \nL 335.774102 -267.75245 \nL 333.224993 -269.74666 \nL 330.675884 -271.520906 \nL 328.126774 -273.151479 \nL 325.577665 -274.682963 \nL 323.028556 -276.124393 \nL 320.479447 -277.452709 \nL 317.930338 -278.622665 \nL 315.381229 -279.58074 \nL 312.832119 -280.279618 \nL 310.28301 -280.689569 \nL 307.733901 -280.803921 \nL 305.184792 -280.637321 \nL 302.635683 -280.21747 \nL 300.086573 -279.572737 \nL 297.537464 -278.719154 \nL 294.988355 -277.650413 \nL 292.439246 -276.333615 \nL 289.890137 -274.711991 \nL 287.341028 -272.714056 \nL 284.791918 -270.267099 \nL 282.242809 -267.312022 \nL 279.6937 -263.816378 \nL 277.144591 -259.783011 \nL 274.595482 -255.252754 \nL 272.046372 -250.300846 \nL 269.497263 -245.02789 \nL 266.948154 -239.546992 \nL 264.399045 -233.969238 \nL 261.849936 -228.389758 \nL 259.300827 -222.876438 \nL 256.751717 -217.462946 \nL 254.202608 -212.147087 \nL 251.653499 -206.894822 \nL 249.10439 -201.649442 \nL 246.555281 -196.344554 \nL 244.006171 -190.918855 \nL 241.457062 -185.330223 \nL 238.907953 -179.566646 \nL 236.358844 -173.652002 \nL 233.809735 -167.645661 \nL 231.260626 -161.636054 \nL 228.711516 -155.729576 \nL 226.162407 -150.037026 \nL 223.613298 -144.66014 \nL 221.064189 -139.680488 \nL 218.51508 -135.152303 \nL 215.96597 -131.0998 \nL 213.416861 -127.518617 \nL 210.867752 -124.38035 \nL 208.318643 -121.638824 \nL 205.769534 -119.236813 \nL 203.220425 -117.112225 \nL 200.671315 -115.203147 \nL 198.122206 -113.45153 \nL 195.573097 -111.80553 \nL 193.023988 -110.220668 \nL 190.474879 -108.660019 \nL 187.925769 -107.093635 \nL 185.37666 -105.497433 \nL 182.827551 -103.851771 \nL 180.278442 -102.139953 \nL 177.729333 -100.346886 \nL 175.180224 -98.458108 \nL 172.631114 -96.459291 \nL 170.082005 -94.336335 \nL 167.532896 -92.076026 \nL 164.983787 -89.667234 \nL 162.434678 -87.102506 \nL 159.885568 -84.379865 \nL 157.336459 -81.504531 \nL 154.78735 -78.490243 \nL 152.238241 -75.359874 \nL 149.689132 -72.145139 \nL 147.140023 -68.885343 \nL 144.590913 -65.625319 \nL 142.041804 -62.412829 \nL 139.492695 -59.2958 \nL 136.943586 -56.319693 \nL 134.394477 -53.525244 \nL 131.845367 -50.946657 \nL 129.296258 -48.610256 \nL 126.747149 -46.533576 \nL 124.19804 -44.724886 \nL 121.648931 -43.183179 \nL 119.099822 -41.898694 \nL 116.550712 -40.853992 \nL 114.001603 -40.025562 \nL 111.452494 -39.385799 \nL 108.903385 -38.905151 \nL 106.354276 -38.554176 \nL 103.805166 -38.305285 \nL 101.256057 -38.133996 \nL 98.706948 -38.019664 \nL 96.157839 -37.945684 \nL 93.60873 -37.899299 \nL 91.059621 -37.871127 \nL 88.510511 -37.854559 \nz\n\" id=\"m8c2fd845e9\" style=\"stroke:#0b032d;\"/>\n    </defs>\n    <g clip-path=\"url(#paea3646448)\">\n     <use style=\"fill:#0b032d;fill-opacity:0.25;stroke:#0b032d;\" x=\"0\" xlink:href=\"#m8c2fd845e9\" y=\"1044.71125\"/>\n    </g>\n   </g>\n   <g id=\"patch_106\">\n    <path clip-path=\"url(#paea3646448)\" d=\"M 129.535061 1006.876875 \nL 140.725157 1006.876875 \nL 140.725157 993.803788 \nL 129.535061 993.803788 \nz\n\" style=\"fill:#0b032d;opacity:0.4;\"/>\n   </g>\n   <g id=\"patch_107\">\n    <path clip-path=\"url(#paea3646448)\" d=\"M 140.725157 1006.876875 \nL 151.915252 1006.876875 \nL 151.915252 977.575128 \nL 140.725157 977.575128 \nz\n\" style=\"fill:#0b032d;opacity:0.4;\"/>\n   </g>\n   <g id=\"patch_108\">\n    <path clip-path=\"url(#paea3646448)\" d=\"M 151.915252 1006.876875 \nL 163.105348 1006.876875 \nL 163.105348 951.87975 \nL 151.915252 951.87975 \nz\n\" style=\"fill:#0b032d;opacity:0.4;\"/>\n   </g>\n   <g id=\"patch_109\">\n    <path clip-path=\"url(#paea3646448)\" d=\"M 163.105348 1006.876875 \nL 174.295443 1006.876875 \nL 174.295443 939.257459 \nL 163.105348 939.257459 \nz\n\" style=\"fill:#0b032d;opacity:0.4;\"/>\n   </g>\n   <g id=\"patch_110\">\n    <path clip-path=\"url(#paea3646448)\" d=\"M 174.295443 1006.876875 \nL 185.485539 1006.876875 \nL 185.485539 969.460798 \nL 174.295443 969.460798 \nz\n\" style=\"fill:#0b032d;opacity:0.4;\"/>\n   </g>\n   <g id=\"patch_111\">\n    <path clip-path=\"url(#paea3646448)\" d=\"M 185.485539 1006.876875 \nL 196.675634 1006.876875 \nL 196.675634 923.028799 \nL 185.485539 923.028799 \nz\n\" style=\"fill:#0b032d;opacity:0.4;\"/>\n   </g>\n   <g id=\"patch_112\">\n    <path clip-path=\"url(#paea3646448)\" d=\"M 196.675634 1006.876875 \nL 207.86573 1006.876875 \nL 207.86573 920.324022 \nL 196.675634 920.324022 \nz\n\" style=\"fill:#0b032d;opacity:0.4;\"/>\n   </g>\n   <g id=\"patch_113\">\n    <path clip-path=\"url(#paea3646448)\" d=\"M 207.86573 1006.876875 \nL 219.055825 1006.876875 \nL 219.055825 911.3081 \nL 207.86573 911.3081 \nz\n\" style=\"fill:#0b032d;opacity:0.4;\"/>\n   </g>\n   <g id=\"patch_114\">\n    <path clip-path=\"url(#paea3646448)\" d=\"M 219.055825 1006.876875 \nL 230.24592 1006.876875 \nL 230.24592 956.838507 \nL 219.055825 956.838507 \nz\n\" style=\"fill:#0b032d;opacity:0.4;\"/>\n   </g>\n   <g id=\"patch_115\">\n    <path clip-path=\"url(#paea3646448)\" d=\"M 230.24592 1006.876875 \nL 241.436016 1006.876875 \nL 241.436016 852.25381 \nL 230.24592 852.25381 \nz\n\" style=\"fill:#0b032d;opacity:0.4;\"/>\n   </g>\n   <g id=\"patch_116\">\n    <path clip-path=\"url(#paea3646448)\" d=\"M 241.436016 1006.876875 \nL 252.626111 1006.876875 \nL 252.626111 824.755247 \nL 241.436016 824.755247 \nz\n\" style=\"fill:#0b032d;opacity:0.4;\"/>\n   </g>\n   <g id=\"patch_117\">\n    <path clip-path=\"url(#paea3646448)\" d=\"M 252.626111 1006.876875 \nL 263.816207 1006.876875 \nL 263.816207 803.56783 \nL 252.626111 803.56783 \nz\n\" style=\"fill:#0b032d;opacity:0.4;\"/>\n   </g>\n   <g id=\"patch_118\">\n    <path clip-path=\"url(#paea3646448)\" d=\"M 263.816207 1006.876875 \nL 275.006302 1006.876875 \nL 275.006302 886.96511 \nL 263.816207 886.96511 \nz\n\" style=\"fill:#0b032d;opacity:0.4;\"/>\n   </g>\n   <g id=\"patch_119\">\n    <path clip-path=\"url(#paea3646448)\" d=\"M 275.006302 1006.876875 \nL 286.196398 1006.876875 \nL 286.196398 736.39921 \nL 275.006302 736.39921 \nz\n\" style=\"fill:#0b032d;opacity:0.4;\"/>\n   </g>\n   <g id=\"patch_120\">\n    <path clip-path=\"url(#paea3646448)\" d=\"M 286.196398 1006.876875 \nL 297.386493 1006.876875 \nL 297.386493 732.792841 \nL 286.196398 732.792841 \nz\n\" style=\"fill:#0b032d;opacity:0.4;\"/>\n   </g>\n   <g id=\"patch_121\">\n    <path clip-path=\"url(#paea3646448)\" d=\"M 297.386493 1006.876875 \nL 308.576589 1006.876875 \nL 308.576589 733.243637 \nL 297.386493 733.243637 \nz\n\" style=\"fill:#0b032d;opacity:0.4;\"/>\n   </g>\n   <g id=\"patch_122\">\n    <path clip-path=\"url(#paea3646448)\" d=\"M 308.576589 1006.876875 \nL 319.766684 1006.876875 \nL 319.766684 856.310975 \nL 308.576589 856.310975 \nz\n\" style=\"fill:#0b032d;opacity:0.4;\"/>\n   </g>\n   <g id=\"patch_123\">\n    <path clip-path=\"url(#paea3646448)\" d=\"M 319.766684 1006.876875 \nL 330.95678 1006.876875 \nL 330.95678 749.472297 \nL 319.766684 749.472297 \nz\n\" style=\"fill:#0b032d;opacity:0.4;\"/>\n   </g>\n   <g id=\"patch_124\">\n    <path clip-path=\"url(#paea3646448)\" d=\"M 330.95678 1006.876875 \nL 342.146875 1006.876875 \nL 342.146875 739.554783 \nL 330.95678 739.554783 \nz\n\" style=\"fill:#0b032d;opacity:0.4;\"/>\n   </g>\n   <g id=\"patch_125\">\n    <path clip-path=\"url(#paea3646448)\" d=\"M 342.146875 1006.876875 \nL 353.33697 1006.876875 \nL 353.33697 743.161152 \nL 342.146875 743.161152 \nz\n\" style=\"fill:#0b032d;opacity:0.4;\"/>\n   </g>\n   <g id=\"patch_126\">\n    <path clip-path=\"url(#paea3646448)\" d=\"M 353.33697 1006.876875 \nL 364.527066 1006.876875 \nL 364.527066 800.863054 \nL 353.33697 800.863054 \nz\n\" style=\"fill:#0b032d;opacity:0.4;\"/>\n   </g>\n   <g id=\"patch_127\">\n    <path clip-path=\"url(#paea3646448)\" d=\"M 364.527066 1006.876875 \nL 375.717161 1006.876875 \nL 375.717161 920.324022 \nL 364.527066 920.324022 \nz\n\" style=\"fill:#0b032d;opacity:0.4;\"/>\n   </g>\n   <g id=\"patch_128\">\n    <path clip-path=\"url(#paea3646448)\" d=\"M 375.717161 1006.876875 \nL 386.907257 1006.876875 \nL 386.907257 863.072917 \nL 375.717161 863.072917 \nz\n\" style=\"fill:#0b032d;opacity:0.4;\"/>\n   </g>\n   <g id=\"patch_129\">\n    <path clip-path=\"url(#paea3646448)\" d=\"M 386.907257 1006.876875 \nL 398.097352 1006.876875 \nL 398.097352 873.892023 \nL 386.907257 873.892023 \nz\n\" style=\"fill:#0b032d;opacity:0.4;\"/>\n   </g>\n   <g id=\"patch_130\">\n    <path clip-path=\"url(#paea3646448)\" d=\"M 398.097352 1006.876875 \nL 409.287448 1006.876875 \nL 409.287448 901.841382 \nL 398.097352 901.841382 \nz\n\" style=\"fill:#0b032d;opacity:0.4;\"/>\n   </g>\n   <g id=\"patch_131\">\n    <path clip-path=\"url(#paea3646448)\" d=\"M 409.287448 1006.876875 \nL 420.477543 1006.876875 \nL 420.477543 948.273381 \nL 409.287448 948.273381 \nz\n\" style=\"fill:#0b032d;opacity:0.4;\"/>\n   </g>\n   <g id=\"patch_132\">\n    <path clip-path=\"url(#paea3646448)\" d=\"M 420.477543 1006.876875 \nL 431.667639 1006.876875 \nL 431.667639 899.587401 \nL 420.477543 899.587401 \nz\n\" style=\"fill:#0b032d;opacity:0.4;\"/>\n   </g>\n   <g id=\"patch_133\">\n    <path clip-path=\"url(#paea3646448)\" d=\"M 431.667639 1006.876875 \nL 442.857734 1006.876875 \nL 442.857734 876.5968 \nL 431.667639 876.5968 \nz\n\" style=\"fill:#0b032d;opacity:0.4;\"/>\n   </g>\n   <g id=\"patch_134\">\n    <path clip-path=\"url(#paea3646448)\" d=\"M 442.857734 1006.876875 \nL 454.04783 1006.876875 \nL 454.04783 864.876101 \nL 442.857734 864.876101 \nz\n\" style=\"fill:#0b032d;opacity:0.4;\"/>\n   </g>\n   <g id=\"patch_135\">\n    <path clip-path=\"url(#paea3646448)\" d=\"M 454.04783 1006.876875 \nL 465.237925 1006.876875 \nL 465.237925 927.53676 \nL 454.04783 927.53676 \nz\n\" style=\"fill:#0b032d;opacity:0.4;\"/>\n   </g>\n   <g id=\"patch_136\">\n    <path clip-path=\"url(#paea3646448)\" d=\"M 465.237925 1006.876875 \nL 476.42802 1006.876875 \nL 476.42802 880.203169 \nL 465.237925 880.203169 \nz\n\" style=\"fill:#0b032d;opacity:0.4;\"/>\n   </g>\n   <g id=\"patch_137\">\n    <path clip-path=\"url(#paea3646448)\" d=\"M 476.42802 1006.876875 \nL 487.618116 1006.876875 \nL 487.618116 890.571479 \nL 476.42802 890.571479 \nz\n\" style=\"fill:#0b032d;opacity:0.4;\"/>\n   </g>\n   <g id=\"patch_138\">\n    <path clip-path=\"url(#paea3646448)\" d=\"M 487.618116 1006.876875 \nL 498.808211 1006.876875 \nL 498.808211 941.511439 \nL 487.618116 941.511439 \nz\n\" style=\"fill:#0b032d;opacity:0.4;\"/>\n   </g>\n   <g id=\"patch_139\">\n    <path clip-path=\"url(#paea3646448)\" d=\"M 498.808211 1006.876875 \nL 509.998307 1006.876875 \nL 509.998307 985.689458 \nL 498.808211 985.689458 \nz\n\" style=\"fill:#0b032d;opacity:0.4;\"/>\n   </g>\n   <g id=\"patch_140\">\n    <path clip-path=\"url(#paea3646448)\" d=\"M 509.998307 1006.876875 \nL 521.188402 1006.876875 \nL 521.188402 978.025924 \nL 509.998307 978.025924 \nz\n\" style=\"fill:#0b032d;opacity:0.4;\"/>\n   </g>\n   <g id=\"patch_141\">\n    <path clip-path=\"url(#paea3646448)\" d=\"M 521.188402 1006.876875 \nL 532.378498 1006.876875 \nL 532.378498 991.549807 \nL 521.188402 991.549807 \nz\n\" style=\"fill:#0b032d;opacity:0.4;\"/>\n   </g>\n   <g id=\"patch_142\">\n    <path clip-path=\"url(#paea3646448)\" d=\"M 532.378498 1006.876875 \nL 543.568593 1006.876875 \nL 543.568593 1001.016526 \nL 532.378498 1001.016526 \nz\n\" style=\"fill:#0b032d;opacity:0.4;\"/>\n   </g>\n   <g id=\"patch_143\">\n    <path clip-path=\"url(#paea3646448)\" d=\"M 543.568593 1006.876875 \nL 554.758689 1006.876875 \nL 554.758689 1005.975283 \nL 543.568593 1005.975283 \nz\n\" style=\"fill:#0b032d;opacity:0.4;\"/>\n   </g>\n   <g id=\"matplotlib.axis_5\">\n    <g id=\"xtick_12\">\n     <g id=\"line2d_27\">\n      <g>\n       <use style=\"stroke:#000000;stroke-width:0.8;\" x=\"110.495197\" xlink:href=\"#mf572e4f285\" y=\"1006.876875\"/>\n      </g>\n     </g>\n     <g id=\"text_33\">\n      <!-- 30 -->\n      <g transform=\"translate(104.132697 1021.475313)scale(0.1 -0.1)\">\n       <use xlink:href=\"#DejaVuSans-51\"/>\n       <use x=\"63.623047\" xlink:href=\"#DejaVuSans-48\"/>\n      </g>\n     </g>\n    </g>\n    <g id=\"xtick_13\">\n     <g id=\"line2d_28\">\n      <g>\n       <use style=\"stroke:#000000;stroke-width:0.8;\" x=\"173.96141\" xlink:href=\"#mf572e4f285\" y=\"1006.876875\"/>\n      </g>\n     </g>\n     <g id=\"text_34\">\n      <!-- 40 -->\n      <g transform=\"translate(167.59891 1021.475313)scale(0.1 -0.1)\">\n       <use xlink:href=\"#DejaVuSans-52\"/>\n       <use x=\"63.623047\" xlink:href=\"#DejaVuSans-48\"/>\n      </g>\n     </g>\n    </g>\n    <g id=\"xtick_14\">\n     <g id=\"line2d_29\">\n      <g>\n       <use style=\"stroke:#000000;stroke-width:0.8;\" x=\"237.427623\" xlink:href=\"#mf572e4f285\" y=\"1006.876875\"/>\n      </g>\n     </g>\n     <g id=\"text_35\">\n      <!-- 50 -->\n      <g transform=\"translate(231.065123 1021.475313)scale(0.1 -0.1)\">\n       <use xlink:href=\"#DejaVuSans-53\"/>\n       <use x=\"63.623047\" xlink:href=\"#DejaVuSans-48\"/>\n      </g>\n     </g>\n    </g>\n    <g id=\"xtick_15\">\n     <g id=\"line2d_30\">\n      <g>\n       <use style=\"stroke:#000000;stroke-width:0.8;\" x=\"300.893837\" xlink:href=\"#mf572e4f285\" y=\"1006.876875\"/>\n      </g>\n     </g>\n     <g id=\"text_36\">\n      <!-- 60 -->\n      <g transform=\"translate(294.531337 1021.475313)scale(0.1 -0.1)\">\n       <use xlink:href=\"#DejaVuSans-54\"/>\n       <use x=\"63.623047\" xlink:href=\"#DejaVuSans-48\"/>\n      </g>\n     </g>\n    </g>\n    <g id=\"xtick_16\">\n     <g id=\"line2d_31\">\n      <g>\n       <use style=\"stroke:#000000;stroke-width:0.8;\" x=\"364.36005\" xlink:href=\"#mf572e4f285\" y=\"1006.876875\"/>\n      </g>\n     </g>\n     <g id=\"text_37\">\n      <!-- 70 -->\n      <g transform=\"translate(357.99755 1021.475313)scale(0.1 -0.1)\">\n       <use xlink:href=\"#DejaVuSans-55\"/>\n       <use x=\"63.623047\" xlink:href=\"#DejaVuSans-48\"/>\n      </g>\n     </g>\n    </g>\n    <g id=\"xtick_17\">\n     <g id=\"line2d_32\">\n      <g>\n       <use style=\"stroke:#000000;stroke-width:0.8;\" x=\"427.826263\" xlink:href=\"#mf572e4f285\" y=\"1006.876875\"/>\n      </g>\n     </g>\n     <g id=\"text_38\">\n      <!-- 80 -->\n      <g transform=\"translate(421.463763 1021.475313)scale(0.1 -0.1)\">\n       <use xlink:href=\"#DejaVuSans-56\"/>\n       <use x=\"63.623047\" xlink:href=\"#DejaVuSans-48\"/>\n      </g>\n     </g>\n    </g>\n    <g id=\"xtick_18\">\n     <g id=\"line2d_33\">\n      <g>\n       <use style=\"stroke:#000000;stroke-width:0.8;\" x=\"491.292476\" xlink:href=\"#mf572e4f285\" y=\"1006.876875\"/>\n      </g>\n     </g>\n     <g id=\"text_39\">\n      <!-- 90 -->\n      <defs>\n       <path d=\"M 10.984375 1.515625 \nL 10.984375 10.5 \nQ 14.703125 8.734375 18.5 7.8125 \nQ 22.3125 6.890625 25.984375 6.890625 \nQ 35.75 6.890625 40.890625 13.453125 \nQ 46.046875 20.015625 46.78125 33.40625 \nQ 43.953125 29.203125 39.59375 26.953125 \nQ 35.25 24.703125 29.984375 24.703125 \nQ 19.046875 24.703125 12.671875 31.3125 \nQ 6.296875 37.9375 6.296875 49.421875 \nQ 6.296875 60.640625 12.9375 67.421875 \nQ 19.578125 74.21875 30.609375 74.21875 \nQ 43.265625 74.21875 49.921875 64.515625 \nQ 56.59375 54.828125 56.59375 36.375 \nQ 56.59375 19.140625 48.40625 8.859375 \nQ 40.234375 -1.421875 26.421875 -1.421875 \nQ 22.703125 -1.421875 18.890625 -0.6875 \nQ 15.09375 0.046875 10.984375 1.515625 \nz\nM 30.609375 32.421875 \nQ 37.25 32.421875 41.125 36.953125 \nQ 45.015625 41.5 45.015625 49.421875 \nQ 45.015625 57.28125 41.125 61.84375 \nQ 37.25 66.40625 30.609375 66.40625 \nQ 23.96875 66.40625 20.09375 61.84375 \nQ 16.21875 57.28125 16.21875 49.421875 \nQ 16.21875 41.5 20.09375 36.953125 \nQ 23.96875 32.421875 30.609375 32.421875 \nz\n\" id=\"DejaVuSans-57\"/>\n      </defs>\n      <g transform=\"translate(484.929976 1021.475313)scale(0.1 -0.1)\">\n       <use xlink:href=\"#DejaVuSans-57\"/>\n       <use x=\"63.623047\" xlink:href=\"#DejaVuSans-48\"/>\n      </g>\n     </g>\n    </g>\n    <g id=\"xtick_19\">\n     <g id=\"line2d_34\">\n      <g>\n       <use style=\"stroke:#000000;stroke-width:0.8;\" x=\"554.758689\" xlink:href=\"#mf572e4f285\" y=\"1006.876875\"/>\n      </g>\n     </g>\n     <g id=\"text_40\">\n      <!-- 100 -->\n      <g transform=\"translate(545.214939 1021.475313)scale(0.1 -0.1)\">\n       <use xlink:href=\"#DejaVuSans-49\"/>\n       <use x=\"63.623047\" xlink:href=\"#DejaVuSans-48\"/>\n       <use x=\"127.246094\" xlink:href=\"#DejaVuSans-48\"/>\n      </g>\n     </g>\n    </g>\n    <g id=\"xtick_20\">\n     <g id=\"line2d_35\">\n      <g>\n       <use style=\"stroke:#000000;stroke-width:0.8;\" x=\"618.224902\" xlink:href=\"#mf572e4f285\" y=\"1006.876875\"/>\n      </g>\n     </g>\n     <g id=\"text_41\">\n      <!-- 110 -->\n      <g transform=\"translate(608.681152 1021.475313)scale(0.1 -0.1)\">\n       <use xlink:href=\"#DejaVuSans-49\"/>\n       <use x=\"63.623047\" xlink:href=\"#DejaVuSans-49\"/>\n       <use x=\"127.246094\" xlink:href=\"#DejaVuSans-48\"/>\n      </g>\n     </g>\n    </g>\n    <g id=\"text_42\">\n     <!-- mean_exam_points -->\n     <defs>\n      <path d=\"M 52 44.1875 \nQ 55.375 50.25 60.0625 53.125 \nQ 64.75 56 71.09375 56 \nQ 79.640625 56 84.28125 50.015625 \nQ 88.921875 44.046875 88.921875 33.015625 \nL 88.921875 0 \nL 79.890625 0 \nL 79.890625 32.71875 \nQ 79.890625 40.578125 77.09375 44.375 \nQ 74.3125 48.1875 68.609375 48.1875 \nQ 61.625 48.1875 57.5625 43.546875 \nQ 53.515625 38.921875 53.515625 30.90625 \nL 53.515625 0 \nL 44.484375 0 \nL 44.484375 32.71875 \nQ 44.484375 40.625 41.703125 44.40625 \nQ 38.921875 48.1875 33.109375 48.1875 \nQ 26.21875 48.1875 22.15625 43.53125 \nQ 18.109375 38.875 18.109375 30.90625 \nL 18.109375 0 \nL 9.078125 0 \nL 9.078125 54.6875 \nL 18.109375 54.6875 \nL 18.109375 46.1875 \nQ 21.1875 51.21875 25.484375 53.609375 \nQ 29.78125 56 35.6875 56 \nQ 41.65625 56 45.828125 52.96875 \nQ 50 49.953125 52 44.1875 \nz\n\" id=\"DejaVuSans-109\"/>\n      <path d=\"M 54.890625 54.6875 \nL 35.109375 28.078125 \nL 55.90625 0 \nL 45.3125 0 \nL 29.390625 21.484375 \nL 13.484375 0 \nL 2.875 0 \nL 24.125 28.609375 \nL 4.6875 54.6875 \nL 15.28125 54.6875 \nL 29.78125 35.203125 \nL 44.28125 54.6875 \nz\n\" id=\"DejaVuSans-120\"/>\n     </defs>\n     <g transform=\"translate(293.728125 1035.153438)scale(0.1 -0.1)\">\n      <use xlink:href=\"#DejaVuSans-109\"/>\n      <use x=\"97.412109\" xlink:href=\"#DejaVuSans-101\"/>\n      <use x=\"158.935547\" xlink:href=\"#DejaVuSans-97\"/>\n      <use x=\"220.214844\" xlink:href=\"#DejaVuSans-110\"/>\n      <use x=\"283.59375\" xlink:href=\"#DejaVuSans-95\"/>\n      <use x=\"333.59375\" xlink:href=\"#DejaVuSans-101\"/>\n      <use x=\"393.367188\" xlink:href=\"#DejaVuSans-120\"/>\n      <use x=\"452.546875\" xlink:href=\"#DejaVuSans-97\"/>\n      <use x=\"513.826172\" xlink:href=\"#DejaVuSans-109\"/>\n      <use x=\"611.238281\" xlink:href=\"#DejaVuSans-95\"/>\n      <use x=\"661.238281\" xlink:href=\"#DejaVuSans-112\"/>\n      <use x=\"724.714844\" xlink:href=\"#DejaVuSans-111\"/>\n      <use x=\"785.896484\" xlink:href=\"#DejaVuSans-105\"/>\n      <use x=\"813.679688\" xlink:href=\"#DejaVuSans-110\"/>\n      <use x=\"877.058594\" xlink:href=\"#DejaVuSans-116\"/>\n      <use x=\"916.267578\" xlink:href=\"#DejaVuSans-115\"/>\n     </g>\n    </g>\n   </g>\n   <g id=\"matplotlib.axis_6\">\n    <g id=\"ytick_16\">\n     <g id=\"line2d_36\">\n      <g>\n       <use style=\"stroke:#000000;stroke-width:0.8;\" x=\"63.146875\" xlink:href=\"#mb44cabf20f\" y=\"1006.876875\"/>\n      </g>\n     </g>\n     <g id=\"text_43\">\n      <!-- 0.000 -->\n      <g transform=\"translate(27.51875 1010.676094)scale(0.1 -0.1)\">\n       <use xlink:href=\"#DejaVuSans-48\"/>\n       <use x=\"63.623047\" xlink:href=\"#DejaVuSans-46\"/>\n       <use x=\"95.410156\" xlink:href=\"#DejaVuSans-48\"/>\n       <use x=\"159.033203\" xlink:href=\"#DejaVuSans-48\"/>\n       <use x=\"222.65625\" xlink:href=\"#DejaVuSans-48\"/>\n      </g>\n     </g>\n    </g>\n    <g id=\"ytick_17\">\n     <g id=\"line2d_37\">\n      <g>\n       <use style=\"stroke:#000000;stroke-width:0.8;\" x=\"63.146875\" xlink:href=\"#mb44cabf20f\" y=\"967.135639\"/>\n      </g>\n     </g>\n     <g id=\"text_44\">\n      <!-- 0.005 -->\n      <g transform=\"translate(27.51875 970.934858)scale(0.1 -0.1)\">\n       <use xlink:href=\"#DejaVuSans-48\"/>\n       <use x=\"63.623047\" xlink:href=\"#DejaVuSans-46\"/>\n       <use x=\"95.410156\" xlink:href=\"#DejaVuSans-48\"/>\n       <use x=\"159.033203\" xlink:href=\"#DejaVuSans-48\"/>\n       <use x=\"222.65625\" xlink:href=\"#DejaVuSans-53\"/>\n      </g>\n     </g>\n    </g>\n    <g id=\"ytick_18\">\n     <g id=\"line2d_38\">\n      <g>\n       <use style=\"stroke:#000000;stroke-width:0.8;\" x=\"63.146875\" xlink:href=\"#mb44cabf20f\" y=\"927.394403\"/>\n      </g>\n     </g>\n     <g id=\"text_45\">\n      <!-- 0.010 -->\n      <g transform=\"translate(27.51875 931.193622)scale(0.1 -0.1)\">\n       <use xlink:href=\"#DejaVuSans-48\"/>\n       <use x=\"63.623047\" xlink:href=\"#DejaVuSans-46\"/>\n       <use x=\"95.410156\" xlink:href=\"#DejaVuSans-48\"/>\n       <use x=\"159.033203\" xlink:href=\"#DejaVuSans-49\"/>\n       <use x=\"222.65625\" xlink:href=\"#DejaVuSans-48\"/>\n      </g>\n     </g>\n    </g>\n    <g id=\"ytick_19\">\n     <g id=\"line2d_39\">\n      <g>\n       <use style=\"stroke:#000000;stroke-width:0.8;\" x=\"63.146875\" xlink:href=\"#mb44cabf20f\" y=\"887.653168\"/>\n      </g>\n     </g>\n     <g id=\"text_46\">\n      <!-- 0.015 -->\n      <g transform=\"translate(27.51875 891.452386)scale(0.1 -0.1)\">\n       <use xlink:href=\"#DejaVuSans-48\"/>\n       <use x=\"63.623047\" xlink:href=\"#DejaVuSans-46\"/>\n       <use x=\"95.410156\" xlink:href=\"#DejaVuSans-48\"/>\n       <use x=\"159.033203\" xlink:href=\"#DejaVuSans-49\"/>\n       <use x=\"222.65625\" xlink:href=\"#DejaVuSans-53\"/>\n      </g>\n     </g>\n    </g>\n    <g id=\"ytick_20\">\n     <g id=\"line2d_40\">\n      <g>\n       <use style=\"stroke:#000000;stroke-width:0.8;\" x=\"63.146875\" xlink:href=\"#mb44cabf20f\" y=\"847.911932\"/>\n      </g>\n     </g>\n     <g id=\"text_47\">\n      <!-- 0.020 -->\n      <g transform=\"translate(27.51875 851.71115)scale(0.1 -0.1)\">\n       <use xlink:href=\"#DejaVuSans-48\"/>\n       <use x=\"63.623047\" xlink:href=\"#DejaVuSans-46\"/>\n       <use x=\"95.410156\" xlink:href=\"#DejaVuSans-48\"/>\n       <use x=\"159.033203\" xlink:href=\"#DejaVuSans-50\"/>\n       <use x=\"222.65625\" xlink:href=\"#DejaVuSans-48\"/>\n      </g>\n     </g>\n    </g>\n    <g id=\"ytick_21\">\n     <g id=\"line2d_41\">\n      <g>\n       <use style=\"stroke:#000000;stroke-width:0.8;\" x=\"63.146875\" xlink:href=\"#mb44cabf20f\" y=\"808.170696\"/>\n      </g>\n     </g>\n     <g id=\"text_48\">\n      <!-- 0.025 -->\n      <g transform=\"translate(27.51875 811.969915)scale(0.1 -0.1)\">\n       <use xlink:href=\"#DejaVuSans-48\"/>\n       <use x=\"63.623047\" xlink:href=\"#DejaVuSans-46\"/>\n       <use x=\"95.410156\" xlink:href=\"#DejaVuSans-48\"/>\n       <use x=\"159.033203\" xlink:href=\"#DejaVuSans-50\"/>\n       <use x=\"222.65625\" xlink:href=\"#DejaVuSans-53\"/>\n      </g>\n     </g>\n    </g>\n    <g id=\"ytick_22\">\n     <g id=\"line2d_42\">\n      <g>\n       <use style=\"stroke:#000000;stroke-width:0.8;\" x=\"63.146875\" xlink:href=\"#mb44cabf20f\" y=\"768.42946\"/>\n      </g>\n     </g>\n     <g id=\"text_49\">\n      <!-- 0.030 -->\n      <g transform=\"translate(27.51875 772.228679)scale(0.1 -0.1)\">\n       <use xlink:href=\"#DejaVuSans-48\"/>\n       <use x=\"63.623047\" xlink:href=\"#DejaVuSans-46\"/>\n       <use x=\"95.410156\" xlink:href=\"#DejaVuSans-48\"/>\n       <use x=\"159.033203\" xlink:href=\"#DejaVuSans-51\"/>\n       <use x=\"222.65625\" xlink:href=\"#DejaVuSans-48\"/>\n      </g>\n     </g>\n    </g>\n    <g id=\"ytick_23\">\n     <g id=\"line2d_43\">\n      <g>\n       <use style=\"stroke:#000000;stroke-width:0.8;\" x=\"63.146875\" xlink:href=\"#mb44cabf20f\" y=\"728.688224\"/>\n      </g>\n     </g>\n     <g id=\"text_50\">\n      <!-- 0.035 -->\n      <g transform=\"translate(27.51875 732.487443)scale(0.1 -0.1)\">\n       <use xlink:href=\"#DejaVuSans-48\"/>\n       <use x=\"63.623047\" xlink:href=\"#DejaVuSans-46\"/>\n       <use x=\"95.410156\" xlink:href=\"#DejaVuSans-48\"/>\n       <use x=\"159.033203\" xlink:href=\"#DejaVuSans-51\"/>\n       <use x=\"222.65625\" xlink:href=\"#DejaVuSans-53\"/>\n      </g>\n     </g>\n    </g>\n    <g id=\"text_51\">\n     <!-- mean_exam_points -->\n     <g transform=\"translate(21.160938 911.401507)rotate(-90)scale(0.1 -0.1)\">\n      <use xlink:href=\"#DejaVuSans-109\"/>\n      <use x=\"97.412109\" xlink:href=\"#DejaVuSans-101\"/>\n      <use x=\"158.935547\" xlink:href=\"#DejaVuSans-97\"/>\n      <use x=\"220.214844\" xlink:href=\"#DejaVuSans-110\"/>\n      <use x=\"283.59375\" xlink:href=\"#DejaVuSans-95\"/>\n      <use x=\"333.59375\" xlink:href=\"#DejaVuSans-101\"/>\n      <use x=\"393.367188\" xlink:href=\"#DejaVuSans-120\"/>\n      <use x=\"452.546875\" xlink:href=\"#DejaVuSans-97\"/>\n      <use x=\"513.826172\" xlink:href=\"#DejaVuSans-109\"/>\n      <use x=\"611.238281\" xlink:href=\"#DejaVuSans-95\"/>\n      <use x=\"661.238281\" xlink:href=\"#DejaVuSans-112\"/>\n      <use x=\"724.714844\" xlink:href=\"#DejaVuSans-111\"/>\n      <use x=\"785.896484\" xlink:href=\"#DejaVuSans-105\"/>\n      <use x=\"813.679688\" xlink:href=\"#DejaVuSans-110\"/>\n      <use x=\"877.058594\" xlink:href=\"#DejaVuSans-116\"/>\n      <use x=\"916.267578\" xlink:href=\"#DejaVuSans-115\"/>\n     </g>\n    </g>\n   </g>\n   <g id=\"patch_144\">\n    <path d=\"M 63.146875 1006.876875 \nL 63.146875 719.08864 \n\" style=\"fill:none;stroke:#000000;stroke-linecap:square;stroke-linejoin:miter;stroke-width:0.8;\"/>\n   </g>\n   <g id=\"patch_145\">\n    <path d=\"M 621.146875 1006.876875 \nL 621.146875 719.08864 \n\" style=\"fill:none;stroke:#000000;stroke-linecap:square;stroke-linejoin:miter;stroke-width:0.8;\"/>\n   </g>\n   <g id=\"patch_146\">\n    <path d=\"M 63.146875 1006.876875 \nL 621.146875 1006.876875 \n\" style=\"fill:none;stroke:#000000;stroke-linecap:square;stroke-linejoin:miter;stroke-width:0.8;\"/>\n   </g>\n   <g id=\"patch_147\">\n    <path d=\"M 63.146875 719.08864 \nL 621.146875 719.08864 \n\" style=\"fill:none;stroke:#000000;stroke-linecap:square;stroke-linejoin:miter;stroke-width:0.8;\"/>\n   </g>\n   <g id=\"text_52\">\n    <!-- Distribution of mean_exam_points -->\n    <g transform=\"translate(170.976562 713.08864)scale(0.2 -0.2)\">\n     <use xlink:href=\"#DejaVuSans-68\"/>\n     <use x=\"77.001953\" xlink:href=\"#DejaVuSans-105\"/>\n     <use x=\"104.785156\" xlink:href=\"#DejaVuSans-115\"/>\n     <use x=\"156.884766\" xlink:href=\"#DejaVuSans-116\"/>\n     <use x=\"196.09375\" xlink:href=\"#DejaVuSans-114\"/>\n     <use x=\"237.207031\" xlink:href=\"#DejaVuSans-105\"/>\n     <use x=\"264.990234\" xlink:href=\"#DejaVuSans-98\"/>\n     <use x=\"328.466797\" xlink:href=\"#DejaVuSans-117\"/>\n     <use x=\"391.845703\" xlink:href=\"#DejaVuSans-116\"/>\n     <use x=\"431.054688\" xlink:href=\"#DejaVuSans-105\"/>\n     <use x=\"458.837891\" xlink:href=\"#DejaVuSans-111\"/>\n     <use x=\"520.019531\" xlink:href=\"#DejaVuSans-110\"/>\n     <use x=\"583.398438\" xlink:href=\"#DejaVuSans-32\"/>\n     <use x=\"615.185547\" xlink:href=\"#DejaVuSans-111\"/>\n     <use x=\"676.367188\" xlink:href=\"#DejaVuSans-102\"/>\n     <use x=\"711.572266\" xlink:href=\"#DejaVuSans-32\"/>\n     <use x=\"743.359375\" xlink:href=\"#DejaVuSans-109\"/>\n     <use x=\"840.771484\" xlink:href=\"#DejaVuSans-101\"/>\n     <use x=\"902.294922\" xlink:href=\"#DejaVuSans-97\"/>\n     <use x=\"963.574219\" xlink:href=\"#DejaVuSans-110\"/>\n     <use x=\"1026.953125\" xlink:href=\"#DejaVuSans-95\"/>\n     <use x=\"1076.953125\" xlink:href=\"#DejaVuSans-101\"/>\n     <use x=\"1136.726562\" xlink:href=\"#DejaVuSans-120\"/>\n     <use x=\"1195.90625\" xlink:href=\"#DejaVuSans-97\"/>\n     <use x=\"1257.185547\" xlink:href=\"#DejaVuSans-109\"/>\n     <use x=\"1354.597656\" xlink:href=\"#DejaVuSans-95\"/>\n     <use x=\"1404.597656\" xlink:href=\"#DejaVuSans-112\"/>\n     <use x=\"1468.074219\" xlink:href=\"#DejaVuSans-111\"/>\n     <use x=\"1529.255859\" xlink:href=\"#DejaVuSans-105\"/>\n     <use x=\"1557.039062\" xlink:href=\"#DejaVuSans-110\"/>\n     <use x=\"1620.417969\" xlink:href=\"#DejaVuSans-116\"/>\n     <use x=\"1659.626953\" xlink:href=\"#DejaVuSans-115\"/>\n    </g>\n   </g>\n  </g>\n </g>\n <defs>\n  <clipPath id=\"p53067dbce0\">\n   <rect height=\"287.788235\" width=\"558\" x=\"63.146875\" y=\"28.396875\"/>\n  </clipPath>\n  <clipPath id=\"p72427c8efc\">\n   <rect height=\"287.788235\" width=\"558\" x=\"63.146875\" y=\"373.742757\"/>\n  </clipPath>\n  <clipPath id=\"paea3646448\">\n   <rect height=\"287.788235\" width=\"558\" x=\"63.146875\" y=\"719.08864\"/>\n  </clipPath>\n </defs>\n</svg>\n"
          },
          "metadata": {
            "needs_background": "light"
          }
        }
      ]
    },
    {
      "cell_type": "code",
      "metadata": {
        "colab": {
          "base_uri": "https://localhost:8080/",
          "height": 527
        },
        "id": "hnYCzU8-oKoo",
        "outputId": "35f5bbf8-c740-4629-83ab-f9d3c7e0d20f"
      },
      "source": [
        "exam_chosen = df_train.loc[df_train['choose'] == 1, 'mean_exam_points']\n",
        "exam_not_chosen = df_train.loc[df_train['choose'] == 0, 'mean_exam_points']\n",
        "\n",
        "plt.figure(figsize = (10, 6))\n",
        "plt.hist(exam_chosen, bins = 20, ec = 'White', color=color['teal'], alpha=0.5, density=True, label = 'Chosen')\n",
        "plt.hist(exam_not_chosen, bins = 20, ec = 'White', color =color['orange'], alpha=0.5, density=True, label = 'Not chosen')\n",
        "plt.title('Exam points distribution', size=20)\n",
        "plt.legend()\n",
        "\n",
        "plt.show()"
      ],
      "id": "hnYCzU8-oKoo",
      "execution_count": null,
      "outputs": [
        {
          "output_type": "display_data",
          "data": {
            "text/plain": [
              "<Figure size 720x432 with 1 Axes>"
            ],
            "image/svg+xml": "<?xml version=\"1.0\" encoding=\"utf-8\" standalone=\"no\"?>\n<!DOCTYPE svg PUBLIC \"-//W3C//DTD SVG 1.1//EN\"\n  \"http://www.w3.org/Graphics/SVG/1.1/DTD/svg11.dtd\">\n<!-- Created with matplotlib (https://matplotlib.org/) -->\n<svg height=\"378.435pt\" version=\"1.1\" viewBox=\"0 0 608.028125 378.435\" width=\"608.028125pt\" xmlns=\"http://www.w3.org/2000/svg\" xmlns:xlink=\"http://www.w3.org/1999/xlink\">\n <defs>\n  <style type=\"text/css\">\n*{stroke-linecap:butt;stroke-linejoin:round;}\n  </style>\n </defs>\n <g id=\"figure_1\">\n  <g id=\"patch_1\">\n   <path d=\"M 0 378.435 \nL 608.028125 378.435 \nL 608.028125 0 \nL 0 0 \nz\n\" style=\"fill:none;\"/>\n  </g>\n  <g id=\"axes_1\">\n   <g id=\"patch_2\">\n    <path d=\"M 42.828125 354.556875 \nL 600.828125 354.556875 \nL 600.828125 28.396875 \nL 42.828125 28.396875 \nz\n\" style=\"fill:#ffffff;\"/>\n   </g>\n   <g id=\"patch_3\">\n    <path clip-path=\"url(#pce381010f3)\" d=\"M 128.761639 354.556875 \nL 150.339658 354.556875 \nL 150.339658 352.091569 \nL 128.761639 352.091569 \nz\n\" style=\"fill:#0ca4a5;opacity:0.5;stroke:#ffffff;stroke-linejoin:miter;\"/>\n   </g>\n   <g id=\"patch_4\">\n    <path clip-path=\"url(#pce381010f3)\" d=\"M 150.339658 354.556875 \nL 171.917677 354.556875 \nL 171.917677 349.626263 \nL 150.339658 349.626263 \nz\n\" style=\"fill:#0ca4a5;opacity:0.5;stroke:#ffffff;stroke-linejoin:miter;\"/>\n   </g>\n   <g id=\"patch_5\">\n    <path clip-path=\"url(#pce381010f3)\" d=\"M 171.917677 354.556875 \nL 193.495696 354.556875 \nL 193.495696 322.507895 \nL 171.917677 322.507895 \nz\n\" style=\"fill:#0ca4a5;opacity:0.5;stroke:#ffffff;stroke-linejoin:miter;\"/>\n   </g>\n   <g id=\"patch_6\">\n    <path clip-path=\"url(#pce381010f3)\" d=\"M 193.495696 354.556875 \nL 215.073715 354.556875 \nL 215.073715 275.667079 \nL 193.495696 275.667079 \nz\n\" style=\"fill:#0ca4a5;opacity:0.5;stroke:#ffffff;stroke-linejoin:miter;\"/>\n   </g>\n   <g id=\"patch_7\">\n    <path clip-path=\"url(#pce381010f3)\" d=\"M 215.073715 354.556875 \nL 236.651734 354.556875 \nL 236.651734 154.867079 \nL 215.073715 154.867079 \nz\n\" style=\"fill:#0ca4a5;opacity:0.5;stroke:#ffffff;stroke-linejoin:miter;\"/>\n   </g>\n   <g id=\"patch_8\">\n    <path clip-path=\"url(#pce381010f3)\" d=\"M 236.651734 354.556875 \nL 258.229753 354.556875 \nL 258.229753 125.283406 \nL 236.651734 125.283406 \nz\n\" style=\"fill:#0ca4a5;opacity:0.5;stroke:#ffffff;stroke-linejoin:miter;\"/>\n   </g>\n   <g id=\"patch_9\">\n    <path clip-path=\"url(#pce381010f3)\" d=\"M 258.229753 354.556875 \nL 279.807772 354.556875 \nL 279.807772 149.936467 \nL 258.229753 149.936467 \nz\n\" style=\"fill:#0ca4a5;opacity:0.5;stroke:#ffffff;stroke-linejoin:miter;\"/>\n   </g>\n   <g id=\"patch_10\">\n    <path clip-path=\"url(#pce381010f3)\" d=\"M 279.807772 354.556875 \nL 301.385791 354.556875 \nL 301.385791 58.72014 \nL 279.807772 58.72014 \nz\n\" style=\"fill:#0ca4a5;opacity:0.5;stroke:#ffffff;stroke-linejoin:miter;\"/>\n   </g>\n   <g id=\"patch_11\">\n    <path clip-path=\"url(#pce381010f3)\" d=\"M 301.385791 354.556875 \nL 322.96381 354.556875 \nL 322.96381 43.928304 \nL 301.385791 43.928304 \nz\n\" style=\"fill:#0ca4a5;opacity:0.5;stroke:#ffffff;stroke-linejoin:miter;\"/>\n   </g>\n   <g id=\"patch_12\">\n    <path clip-path=\"url(#pce381010f3)\" d=\"M 322.96381 354.556875 \nL 344.541829 354.556875 \nL 344.541829 51.324222 \nL 322.96381 51.324222 \nz\n\" style=\"fill:#0ca4a5;opacity:0.5;stroke:#ffffff;stroke-linejoin:miter;\"/>\n   </g>\n   <g id=\"patch_13\">\n    <path clip-path=\"url(#pce381010f3)\" d=\"M 344.541829 354.556875 \nL 366.119848 354.556875 \nL 366.119848 127.748712 \nL 344.541829 127.748712 \nz\n\" style=\"fill:#0ca4a5;opacity:0.5;stroke:#ffffff;stroke-linejoin:miter;\"/>\n   </g>\n   <g id=\"patch_14\">\n    <path clip-path=\"url(#pce381010f3)\" d=\"M 366.119848 354.556875 \nL 387.697867 354.556875 \nL 387.697867 206.638508 \nL 366.119848 206.638508 \nz\n\" style=\"fill:#0ca4a5;opacity:0.5;stroke:#ffffff;stroke-linejoin:miter;\"/>\n   </g>\n   <g id=\"patch_15\">\n    <path clip-path=\"url(#pce381010f3)\" d=\"M 387.697867 354.556875 \nL 409.275886 354.556875 \nL 409.275886 273.201773 \nL 387.697867 273.201773 \nz\n\" style=\"fill:#0ca4a5;opacity:0.5;stroke:#ffffff;stroke-linejoin:miter;\"/>\n   </g>\n   <g id=\"patch_16\">\n    <path clip-path=\"url(#pce381010f3)\" d=\"M 409.275886 354.556875 \nL 430.853905 354.556875 \nL 430.853905 302.785446 \nL 409.275886 302.785446 \nz\n\" style=\"fill:#0ca4a5;opacity:0.5;stroke:#ffffff;stroke-linejoin:miter;\"/>\n   </g>\n   <g id=\"patch_17\">\n    <path clip-path=\"url(#pce381010f3)\" d=\"M 430.853905 354.556875 \nL 452.431924 354.556875 \nL 452.431924 214.034426 \nL 430.853905 214.034426 \nz\n\" style=\"fill:#0ca4a5;opacity:0.5;stroke:#ffffff;stroke-linejoin:miter;\"/>\n   </g>\n   <g id=\"patch_18\">\n    <path clip-path=\"url(#pce381010f3)\" d=\"M 452.431924 354.556875 \nL 474.009943 354.556875 \nL 474.009943 248.548712 \nL 452.431924 248.548712 \nz\n\" style=\"fill:#0ca4a5;opacity:0.5;stroke:#ffffff;stroke-linejoin:miter;\"/>\n   </g>\n   <g id=\"patch_19\">\n    <path clip-path=\"url(#pce381010f3)\" d=\"M 474.009943 354.556875 \nL 495.587962 354.556875 \nL 495.587962 177.054834 \nL 474.009943 177.054834 \nz\n\" style=\"fill:#0ca4a5;opacity:0.5;stroke:#ffffff;stroke-linejoin:miter;\"/>\n   </g>\n   <g id=\"patch_20\">\n    <path clip-path=\"url(#pce381010f3)\" d=\"M 495.587962 354.556875 \nL 517.165981 354.556875 \nL 517.165981 275.667079 \nL 495.587962 275.667079 \nz\n\" style=\"fill:#0ca4a5;opacity:0.5;stroke:#ffffff;stroke-linejoin:miter;\"/>\n   </g>\n   <g id=\"patch_21\">\n    <path clip-path=\"url(#pce381010f3)\" d=\"M 517.165981 354.556875 \nL 538.744 354.556875 \nL 538.744 315.111977 \nL 517.165981 315.111977 \nz\n\" style=\"fill:#0ca4a5;opacity:0.5;stroke:#ffffff;stroke-linejoin:miter;\"/>\n   </g>\n   <g id=\"patch_22\">\n    <path clip-path=\"url(#pce381010f3)\" d=\"M 538.744 354.556875 \nL 560.322019 354.556875 \nL 560.322019 332.36912 \nL 538.744 332.36912 \nz\n\" style=\"fill:#0ca4a5;opacity:0.5;stroke:#ffffff;stroke-linejoin:miter;\"/>\n   </g>\n   <g id=\"patch_23\">\n    <path clip-path=\"url(#pce381010f3)\" d=\"M 68.191761 354.556875 \nL 93.555398 354.556875 \nL 93.555398 329.965676 \nL 68.191761 329.965676 \nz\n\" style=\"fill:#f46036;opacity:0.5;stroke:#ffffff;stroke-linejoin:miter;\"/>\n   </g>\n   <g id=\"patch_24\">\n    <path clip-path=\"url(#pce381010f3)\" d=\"M 93.555398 354.556875 \nL 118.919034 354.556875 \nL 118.919034 304.066435 \nL 93.555398 304.066435 \nz\n\" style=\"fill:#f46036;opacity:0.5;stroke:#ffffff;stroke-linejoin:miter;\"/>\n   </g>\n   <g id=\"patch_25\">\n    <path clip-path=\"url(#pce381010f3)\" d=\"M 118.919034 354.556875 \nL 144.28267 354.556875 \nL 144.28267 263.778727 \nL 118.919034 263.778727 \nz\n\" style=\"fill:#f46036;opacity:0.5;stroke:#ffffff;stroke-linejoin:miter;\"/>\n   </g>\n   <g id=\"patch_26\">\n    <path clip-path=\"url(#pce381010f3)\" d=\"M 144.28267 354.556875 \nL 169.646307 354.556875 \nL 169.646307 281.568105 \nL 144.28267 281.568105 \nz\n\" style=\"fill:#f46036;opacity:0.5;stroke:#ffffff;stroke-linejoin:miter;\"/>\n   </g>\n   <g id=\"patch_27\">\n    <path clip-path=\"url(#pce381010f3)\" d=\"M 169.646307 354.556875 \nL 195.009943 354.556875 \nL 195.009943 258.284949 \nL 169.646307 258.284949 \nz\n\" style=\"fill:#f46036;opacity:0.5;stroke:#ffffff;stroke-linejoin:miter;\"/>\n   </g>\n   <g id=\"patch_28\">\n    <path clip-path=\"url(#pce381010f3)\" d=\"M 195.009943 354.556875 \nL 220.37358 354.556875 \nL 220.37358 149.717423 \nL 195.009943 149.717423 \nz\n\" style=\"fill:#f46036;opacity:0.5;stroke:#ffffff;stroke-linejoin:miter;\"/>\n   </g>\n   <g id=\"patch_29\">\n    <path clip-path=\"url(#pce381010f3)\" d=\"M 220.37358 354.556875 \nL 245.737216 354.556875 \nL 245.737216 176.40149 \nL 220.37358 176.40149 \nz\n\" style=\"fill:#f46036;opacity:0.5;stroke:#ffffff;stroke-linejoin:miter;\"/>\n   </g>\n   <g id=\"patch_30\">\n    <path clip-path=\"url(#pce381010f3)\" d=\"M 245.737216 354.556875 \nL 271.100852 354.556875 \nL 271.100852 142.392385 \nL 245.737216 142.392385 \nz\n\" style=\"fill:#f46036;opacity:0.5;stroke:#ffffff;stroke-linejoin:miter;\"/>\n   </g>\n   <g id=\"patch_31\">\n    <path clip-path=\"url(#pce381010f3)\" d=\"M 271.100852 354.556875 \nL 296.464489 354.556875 \nL 296.464489 70.711657 \nL 271.100852 70.711657 \nz\n\" style=\"fill:#f46036;opacity:0.5;stroke:#ffffff;stroke-linejoin:miter;\"/>\n   </g>\n   <g id=\"patch_32\">\n    <path clip-path=\"url(#pce381010f3)\" d=\"M 296.464489 354.556875 \nL 321.828125 354.556875 \nL 321.828125 162.274631 \nL 296.464489 162.274631 \nz\n\" style=\"fill:#f46036;opacity:0.5;stroke:#ffffff;stroke-linejoin:miter;\"/>\n   </g>\n   <g id=\"patch_33\">\n    <path clip-path=\"url(#pce381010f3)\" d=\"M 321.828125 354.556875 \nL 347.191761 354.556875 \nL 347.191761 172.477362 \nL 321.828125 172.477362 \nz\n\" style=\"fill:#f46036;opacity:0.5;stroke:#ffffff;stroke-linejoin:miter;\"/>\n   </g>\n   <g id=\"patch_34\">\n    <path clip-path=\"url(#pce381010f3)\" d=\"M 347.191761 354.556875 \nL 372.555398 354.556875 \nL 372.555398 191.574782 \nL 347.191761 191.574782 \nz\n\" style=\"fill:#f46036;opacity:0.5;stroke:#ffffff;stroke-linejoin:miter;\"/>\n   </g>\n   <g id=\"patch_35\">\n    <path clip-path=\"url(#pce381010f3)\" d=\"M 372.555398 354.556875 \nL 397.919034 354.556875 \nL 397.919034 259.592991 \nL 372.555398 259.592991 \nz\n\" style=\"fill:#f46036;opacity:0.5;stroke:#ffffff;stroke-linejoin:miter;\"/>\n   </g>\n   <g id=\"patch_36\">\n    <path clip-path=\"url(#pce381010f3)\" d=\"M 397.919034 354.556875 \nL 423.28267 354.556875 \nL 423.28267 272.411807 \nL 397.919034 272.411807 \nz\n\" style=\"fill:#f46036;opacity:0.5;stroke:#ffffff;stroke-linejoin:miter;\"/>\n   </g>\n   <g id=\"patch_37\">\n    <path clip-path=\"url(#pce381010f3)\" d=\"M 423.28267 354.556875 \nL 448.646307 354.556875 \nL 448.646307 217.735632 \nL 423.28267 217.735632 \nz\n\" style=\"fill:#f46036;opacity:0.5;stroke:#ffffff;stroke-linejoin:miter;\"/>\n   </g>\n   <g id=\"patch_38\">\n    <path clip-path=\"url(#pce381010f3)\" d=\"M 448.646307 354.556875 \nL 474.009943 354.556875 \nL 474.009943 246.512566 \nL 448.646307 246.512566 \nz\n\" style=\"fill:#f46036;opacity:0.5;stroke:#ffffff;stroke-linejoin:miter;\"/>\n   </g>\n   <g id=\"patch_39\">\n    <path clip-path=\"url(#pce381010f3)\" d=\"M 474.009943 354.556875 \nL 499.37358 354.556875 \nL 499.37358 266.918029 \nL 474.009943 266.918029 \nz\n\" style=\"fill:#f46036;opacity:0.5;stroke:#ffffff;stroke-linejoin:miter;\"/>\n   </g>\n   <g id=\"patch_40\">\n    <path clip-path=\"url(#pce381010f3)\" d=\"M 499.37358 354.556875 \nL 524.737216 354.556875 \nL 524.737216 305.897695 \nL 499.37358 305.897695 \nz\n\" style=\"fill:#f46036;opacity:0.5;stroke:#ffffff;stroke-linejoin:miter;\"/>\n   </g>\n   <g id=\"patch_41\">\n    <path clip-path=\"url(#pce381010f3)\" d=\"M 524.737216 354.556875 \nL 550.100852 354.556875 \nL 550.100852 341.47645 \nL 524.737216 341.47645 \nz\n\" style=\"fill:#f46036;opacity:0.5;stroke:#ffffff;stroke-linejoin:miter;\"/>\n   </g>\n   <g id=\"patch_42\">\n    <path clip-path=\"url(#pce381010f3)\" d=\"M 550.100852 354.556875 \nL 575.464489 354.556875 \nL 575.464489 351.417573 \nL 550.100852 351.417573 \nz\n\" style=\"fill:#f46036;opacity:0.5;stroke:#ffffff;stroke-linejoin:miter;\"/>\n   </g>\n   <g id=\"matplotlib.axis_1\">\n    <g id=\"xtick_1\">\n     <g id=\"line2d_1\">\n      <defs>\n       <path d=\"M 0 0 \nL 0 3.5 \n\" id=\"m8512263a8f\" style=\"stroke:#000000;stroke-width:0.8;\"/>\n      </defs>\n      <g>\n       <use style=\"stroke:#000000;stroke-width:0.8;\" x=\"45.478057\" xlink:href=\"#m8512263a8f\" y=\"354.556875\"/>\n      </g>\n     </g>\n     <g id=\"text_1\">\n      <!-- 30 -->\n      <defs>\n       <path d=\"M 40.578125 39.3125 \nQ 47.65625 37.796875 51.625 33 \nQ 55.609375 28.21875 55.609375 21.1875 \nQ 55.609375 10.40625 48.1875 4.484375 \nQ 40.765625 -1.421875 27.09375 -1.421875 \nQ 22.515625 -1.421875 17.65625 -0.515625 \nQ 12.796875 0.390625 7.625 2.203125 \nL 7.625 11.71875 \nQ 11.71875 9.328125 16.59375 8.109375 \nQ 21.484375 6.890625 26.8125 6.890625 \nQ 36.078125 6.890625 40.9375 10.546875 \nQ 45.796875 14.203125 45.796875 21.1875 \nQ 45.796875 27.640625 41.28125 31.265625 \nQ 36.765625 34.90625 28.71875 34.90625 \nL 20.21875 34.90625 \nL 20.21875 43.015625 \nL 29.109375 43.015625 \nQ 36.375 43.015625 40.234375 45.921875 \nQ 44.09375 48.828125 44.09375 54.296875 \nQ 44.09375 59.90625 40.109375 62.90625 \nQ 36.140625 65.921875 28.71875 65.921875 \nQ 24.65625 65.921875 20.015625 65.03125 \nQ 15.375 64.15625 9.8125 62.3125 \nL 9.8125 71.09375 \nQ 15.4375 72.65625 20.34375 73.4375 \nQ 25.25 74.21875 29.59375 74.21875 \nQ 40.828125 74.21875 47.359375 69.109375 \nQ 53.90625 64.015625 53.90625 55.328125 \nQ 53.90625 49.265625 50.4375 45.09375 \nQ 46.96875 40.921875 40.578125 39.3125 \nz\n\" id=\"DejaVuSans-51\"/>\n       <path d=\"M 31.78125 66.40625 \nQ 24.171875 66.40625 20.328125 58.90625 \nQ 16.5 51.421875 16.5 36.375 \nQ 16.5 21.390625 20.328125 13.890625 \nQ 24.171875 6.390625 31.78125 6.390625 \nQ 39.453125 6.390625 43.28125 13.890625 \nQ 47.125 21.390625 47.125 36.375 \nQ 47.125 51.421875 43.28125 58.90625 \nQ 39.453125 66.40625 31.78125 66.40625 \nz\nM 31.78125 74.21875 \nQ 44.046875 74.21875 50.515625 64.515625 \nQ 56.984375 54.828125 56.984375 36.375 \nQ 56.984375 17.96875 50.515625 8.265625 \nQ 44.046875 -1.421875 31.78125 -1.421875 \nQ 19.53125 -1.421875 13.0625 8.265625 \nQ 6.59375 17.96875 6.59375 36.375 \nQ 6.59375 54.828125 13.0625 64.515625 \nQ 19.53125 74.21875 31.78125 74.21875 \nz\n\" id=\"DejaVuSans-48\"/>\n      </defs>\n      <g transform=\"translate(39.115557 369.155312)scale(0.1 -0.1)\">\n       <use xlink:href=\"#DejaVuSans-51\"/>\n       <use x=\"63.623047\" xlink:href=\"#DejaVuSans-48\"/>\n      </g>\n     </g>\n    </g>\n    <g id=\"xtick_2\">\n     <g id=\"line2d_2\">\n      <g>\n       <use style=\"stroke:#000000;stroke-width:0.8;\" x=\"121.190405\" xlink:href=\"#m8512263a8f\" y=\"354.556875\"/>\n      </g>\n     </g>\n     <g id=\"text_2\">\n      <!-- 40 -->\n      <defs>\n       <path d=\"M 37.796875 64.3125 \nL 12.890625 25.390625 \nL 37.796875 25.390625 \nz\nM 35.203125 72.90625 \nL 47.609375 72.90625 \nL 47.609375 25.390625 \nL 58.015625 25.390625 \nL 58.015625 17.1875 \nL 47.609375 17.1875 \nL 47.609375 0 \nL 37.796875 0 \nL 37.796875 17.1875 \nL 4.890625 17.1875 \nL 4.890625 26.703125 \nz\n\" id=\"DejaVuSans-52\"/>\n      </defs>\n      <g transform=\"translate(114.827905 369.155312)scale(0.1 -0.1)\">\n       <use xlink:href=\"#DejaVuSans-52\"/>\n       <use x=\"63.623047\" xlink:href=\"#DejaVuSans-48\"/>\n      </g>\n     </g>\n    </g>\n    <g id=\"xtick_3\">\n     <g id=\"line2d_3\">\n      <g>\n       <use style=\"stroke:#000000;stroke-width:0.8;\" x=\"196.902752\" xlink:href=\"#m8512263a8f\" y=\"354.556875\"/>\n      </g>\n     </g>\n     <g id=\"text_3\">\n      <!-- 50 -->\n      <defs>\n       <path d=\"M 10.796875 72.90625 \nL 49.515625 72.90625 \nL 49.515625 64.59375 \nL 19.828125 64.59375 \nL 19.828125 46.734375 \nQ 21.96875 47.46875 24.109375 47.828125 \nQ 26.265625 48.1875 28.421875 48.1875 \nQ 40.625 48.1875 47.75 41.5 \nQ 54.890625 34.8125 54.890625 23.390625 \nQ 54.890625 11.625 47.5625 5.09375 \nQ 40.234375 -1.421875 26.90625 -1.421875 \nQ 22.3125 -1.421875 17.546875 -0.640625 \nQ 12.796875 0.140625 7.71875 1.703125 \nL 7.71875 11.625 \nQ 12.109375 9.234375 16.796875 8.0625 \nQ 21.484375 6.890625 26.703125 6.890625 \nQ 35.15625 6.890625 40.078125 11.328125 \nQ 45.015625 15.765625 45.015625 23.390625 \nQ 45.015625 31 40.078125 35.4375 \nQ 35.15625 39.890625 26.703125 39.890625 \nQ 22.75 39.890625 18.8125 39.015625 \nQ 14.890625 38.140625 10.796875 36.28125 \nz\n\" id=\"DejaVuSans-53\"/>\n      </defs>\n      <g transform=\"translate(190.540252 369.155312)scale(0.1 -0.1)\">\n       <use xlink:href=\"#DejaVuSans-53\"/>\n       <use x=\"63.623047\" xlink:href=\"#DejaVuSans-48\"/>\n      </g>\n     </g>\n    </g>\n    <g id=\"xtick_4\">\n     <g id=\"line2d_4\">\n      <g>\n       <use style=\"stroke:#000000;stroke-width:0.8;\" x=\"272.615099\" xlink:href=\"#m8512263a8f\" y=\"354.556875\"/>\n      </g>\n     </g>\n     <g id=\"text_4\">\n      <!-- 60 -->\n      <defs>\n       <path d=\"M 33.015625 40.375 \nQ 26.375 40.375 22.484375 35.828125 \nQ 18.609375 31.296875 18.609375 23.390625 \nQ 18.609375 15.53125 22.484375 10.953125 \nQ 26.375 6.390625 33.015625 6.390625 \nQ 39.65625 6.390625 43.53125 10.953125 \nQ 47.40625 15.53125 47.40625 23.390625 \nQ 47.40625 31.296875 43.53125 35.828125 \nQ 39.65625 40.375 33.015625 40.375 \nz\nM 52.59375 71.296875 \nL 52.59375 62.3125 \nQ 48.875 64.0625 45.09375 64.984375 \nQ 41.3125 65.921875 37.59375 65.921875 \nQ 27.828125 65.921875 22.671875 59.328125 \nQ 17.53125 52.734375 16.796875 39.40625 \nQ 19.671875 43.65625 24.015625 45.921875 \nQ 28.375 48.1875 33.59375 48.1875 \nQ 44.578125 48.1875 50.953125 41.515625 \nQ 57.328125 34.859375 57.328125 23.390625 \nQ 57.328125 12.15625 50.6875 5.359375 \nQ 44.046875 -1.421875 33.015625 -1.421875 \nQ 20.359375 -1.421875 13.671875 8.265625 \nQ 6.984375 17.96875 6.984375 36.375 \nQ 6.984375 53.65625 15.1875 63.9375 \nQ 23.390625 74.21875 37.203125 74.21875 \nQ 40.921875 74.21875 44.703125 73.484375 \nQ 48.484375 72.75 52.59375 71.296875 \nz\n\" id=\"DejaVuSans-54\"/>\n      </defs>\n      <g transform=\"translate(266.252599 369.155312)scale(0.1 -0.1)\">\n       <use xlink:href=\"#DejaVuSans-54\"/>\n       <use x=\"63.623047\" xlink:href=\"#DejaVuSans-48\"/>\n      </g>\n     </g>\n    </g>\n    <g id=\"xtick_5\">\n     <g id=\"line2d_5\">\n      <g>\n       <use style=\"stroke:#000000;stroke-width:0.8;\" x=\"348.327447\" xlink:href=\"#m8512263a8f\" y=\"354.556875\"/>\n      </g>\n     </g>\n     <g id=\"text_5\">\n      <!-- 70 -->\n      <defs>\n       <path d=\"M 8.203125 72.90625 \nL 55.078125 72.90625 \nL 55.078125 68.703125 \nL 28.609375 0 \nL 18.3125 0 \nL 43.21875 64.59375 \nL 8.203125 64.59375 \nz\n\" id=\"DejaVuSans-55\"/>\n      </defs>\n      <g transform=\"translate(341.964947 369.155312)scale(0.1 -0.1)\">\n       <use xlink:href=\"#DejaVuSans-55\"/>\n       <use x=\"63.623047\" xlink:href=\"#DejaVuSans-48\"/>\n      </g>\n     </g>\n    </g>\n    <g id=\"xtick_6\">\n     <g id=\"line2d_6\">\n      <g>\n       <use style=\"stroke:#000000;stroke-width:0.8;\" x=\"424.039794\" xlink:href=\"#m8512263a8f\" y=\"354.556875\"/>\n      </g>\n     </g>\n     <g id=\"text_6\">\n      <!-- 80 -->\n      <defs>\n       <path d=\"M 31.78125 34.625 \nQ 24.75 34.625 20.71875 30.859375 \nQ 16.703125 27.09375 16.703125 20.515625 \nQ 16.703125 13.921875 20.71875 10.15625 \nQ 24.75 6.390625 31.78125 6.390625 \nQ 38.8125 6.390625 42.859375 10.171875 \nQ 46.921875 13.96875 46.921875 20.515625 \nQ 46.921875 27.09375 42.890625 30.859375 \nQ 38.875 34.625 31.78125 34.625 \nz\nM 21.921875 38.8125 \nQ 15.578125 40.375 12.03125 44.71875 \nQ 8.5 49.078125 8.5 55.328125 \nQ 8.5 64.0625 14.71875 69.140625 \nQ 20.953125 74.21875 31.78125 74.21875 \nQ 42.671875 74.21875 48.875 69.140625 \nQ 55.078125 64.0625 55.078125 55.328125 \nQ 55.078125 49.078125 51.53125 44.71875 \nQ 48 40.375 41.703125 38.8125 \nQ 48.828125 37.15625 52.796875 32.3125 \nQ 56.78125 27.484375 56.78125 20.515625 \nQ 56.78125 9.90625 50.3125 4.234375 \nQ 43.84375 -1.421875 31.78125 -1.421875 \nQ 19.734375 -1.421875 13.25 4.234375 \nQ 6.78125 9.90625 6.78125 20.515625 \nQ 6.78125 27.484375 10.78125 32.3125 \nQ 14.796875 37.15625 21.921875 38.8125 \nz\nM 18.3125 54.390625 \nQ 18.3125 48.734375 21.84375 45.5625 \nQ 25.390625 42.390625 31.78125 42.390625 \nQ 38.140625 42.390625 41.71875 45.5625 \nQ 45.3125 48.734375 45.3125 54.390625 \nQ 45.3125 60.0625 41.71875 63.234375 \nQ 38.140625 66.40625 31.78125 66.40625 \nQ 25.390625 66.40625 21.84375 63.234375 \nQ 18.3125 60.0625 18.3125 54.390625 \nz\n\" id=\"DejaVuSans-56\"/>\n      </defs>\n      <g transform=\"translate(417.677294 369.155312)scale(0.1 -0.1)\">\n       <use xlink:href=\"#DejaVuSans-56\"/>\n       <use x=\"63.623047\" xlink:href=\"#DejaVuSans-48\"/>\n      </g>\n     </g>\n    </g>\n    <g id=\"xtick_7\">\n     <g id=\"line2d_7\">\n      <g>\n       <use style=\"stroke:#000000;stroke-width:0.8;\" x=\"499.752141\" xlink:href=\"#m8512263a8f\" y=\"354.556875\"/>\n      </g>\n     </g>\n     <g id=\"text_7\">\n      <!-- 90 -->\n      <defs>\n       <path d=\"M 10.984375 1.515625 \nL 10.984375 10.5 \nQ 14.703125 8.734375 18.5 7.8125 \nQ 22.3125 6.890625 25.984375 6.890625 \nQ 35.75 6.890625 40.890625 13.453125 \nQ 46.046875 20.015625 46.78125 33.40625 \nQ 43.953125 29.203125 39.59375 26.953125 \nQ 35.25 24.703125 29.984375 24.703125 \nQ 19.046875 24.703125 12.671875 31.3125 \nQ 6.296875 37.9375 6.296875 49.421875 \nQ 6.296875 60.640625 12.9375 67.421875 \nQ 19.578125 74.21875 30.609375 74.21875 \nQ 43.265625 74.21875 49.921875 64.515625 \nQ 56.59375 54.828125 56.59375 36.375 \nQ 56.59375 19.140625 48.40625 8.859375 \nQ 40.234375 -1.421875 26.421875 -1.421875 \nQ 22.703125 -1.421875 18.890625 -0.6875 \nQ 15.09375 0.046875 10.984375 1.515625 \nz\nM 30.609375 32.421875 \nQ 37.25 32.421875 41.125 36.953125 \nQ 45.015625 41.5 45.015625 49.421875 \nQ 45.015625 57.28125 41.125 61.84375 \nQ 37.25 66.40625 30.609375 66.40625 \nQ 23.96875 66.40625 20.09375 61.84375 \nQ 16.21875 57.28125 16.21875 49.421875 \nQ 16.21875 41.5 20.09375 36.953125 \nQ 23.96875 32.421875 30.609375 32.421875 \nz\n\" id=\"DejaVuSans-57\"/>\n      </defs>\n      <g transform=\"translate(493.389641 369.155312)scale(0.1 -0.1)\">\n       <use xlink:href=\"#DejaVuSans-57\"/>\n       <use x=\"63.623047\" xlink:href=\"#DejaVuSans-48\"/>\n      </g>\n     </g>\n    </g>\n    <g id=\"xtick_8\">\n     <g id=\"line2d_8\">\n      <g>\n       <use style=\"stroke:#000000;stroke-width:0.8;\" x=\"575.464489\" xlink:href=\"#m8512263a8f\" y=\"354.556875\"/>\n      </g>\n     </g>\n     <g id=\"text_8\">\n      <!-- 100 -->\n      <defs>\n       <path d=\"M 12.40625 8.296875 \nL 28.515625 8.296875 \nL 28.515625 63.921875 \nL 10.984375 60.40625 \nL 10.984375 69.390625 \nL 28.421875 72.90625 \nL 38.28125 72.90625 \nL 38.28125 8.296875 \nL 54.390625 8.296875 \nL 54.390625 0 \nL 12.40625 0 \nz\n\" id=\"DejaVuSans-49\"/>\n      </defs>\n      <g transform=\"translate(565.920739 369.155312)scale(0.1 -0.1)\">\n       <use xlink:href=\"#DejaVuSans-49\"/>\n       <use x=\"63.623047\" xlink:href=\"#DejaVuSans-48\"/>\n       <use x=\"127.246094\" xlink:href=\"#DejaVuSans-48\"/>\n      </g>\n     </g>\n    </g>\n   </g>\n   <g id=\"matplotlib.axis_2\">\n    <g id=\"ytick_1\">\n     <g id=\"line2d_9\">\n      <defs>\n       <path d=\"M 0 0 \nL -3.5 0 \n\" id=\"m64e874855b\" style=\"stroke:#000000;stroke-width:0.8;\"/>\n      </defs>\n      <g>\n       <use style=\"stroke:#000000;stroke-width:0.8;\" x=\"42.828125\" xlink:href=\"#m64e874855b\" y=\"354.556875\"/>\n      </g>\n     </g>\n     <g id=\"text_9\">\n      <!-- 0.000 -->\n      <defs>\n       <path d=\"M 10.6875 12.40625 \nL 21 12.40625 \nL 21 0 \nL 10.6875 0 \nz\n\" id=\"DejaVuSans-46\"/>\n      </defs>\n      <g transform=\"translate(7.2 358.356094)scale(0.1 -0.1)\">\n       <use xlink:href=\"#DejaVuSans-48\"/>\n       <use x=\"63.623047\" xlink:href=\"#DejaVuSans-46\"/>\n       <use x=\"95.410156\" xlink:href=\"#DejaVuSans-48\"/>\n       <use x=\"159.033203\" xlink:href=\"#DejaVuSans-48\"/>\n       <use x=\"222.65625\" xlink:href=\"#DejaVuSans-48\"/>\n      </g>\n     </g>\n    </g>\n    <g id=\"ytick_2\">\n     <g id=\"line2d_10\">\n      <g>\n       <use style=\"stroke:#000000;stroke-width:0.8;\" x=\"42.828125\" xlink:href=\"#m64e874855b\" y=\"315.597026\"/>\n      </g>\n     </g>\n     <g id=\"text_10\">\n      <!-- 0.005 -->\n      <g transform=\"translate(7.2 319.396245)scale(0.1 -0.1)\">\n       <use xlink:href=\"#DejaVuSans-48\"/>\n       <use x=\"63.623047\" xlink:href=\"#DejaVuSans-46\"/>\n       <use x=\"95.410156\" xlink:href=\"#DejaVuSans-48\"/>\n       <use x=\"159.033203\" xlink:href=\"#DejaVuSans-48\"/>\n       <use x=\"222.65625\" xlink:href=\"#DejaVuSans-53\"/>\n      </g>\n     </g>\n    </g>\n    <g id=\"ytick_3\">\n     <g id=\"line2d_11\">\n      <g>\n       <use style=\"stroke:#000000;stroke-width:0.8;\" x=\"42.828125\" xlink:href=\"#m64e874855b\" y=\"276.637177\"/>\n      </g>\n     </g>\n     <g id=\"text_11\">\n      <!-- 0.010 -->\n      <g transform=\"translate(7.2 280.436396)scale(0.1 -0.1)\">\n       <use xlink:href=\"#DejaVuSans-48\"/>\n       <use x=\"63.623047\" xlink:href=\"#DejaVuSans-46\"/>\n       <use x=\"95.410156\" xlink:href=\"#DejaVuSans-48\"/>\n       <use x=\"159.033203\" xlink:href=\"#DejaVuSans-49\"/>\n       <use x=\"222.65625\" xlink:href=\"#DejaVuSans-48\"/>\n      </g>\n     </g>\n    </g>\n    <g id=\"ytick_4\">\n     <g id=\"line2d_12\">\n      <g>\n       <use style=\"stroke:#000000;stroke-width:0.8;\" x=\"42.828125\" xlink:href=\"#m64e874855b\" y=\"237.677328\"/>\n      </g>\n     </g>\n     <g id=\"text_12\">\n      <!-- 0.015 -->\n      <g transform=\"translate(7.2 241.476547)scale(0.1 -0.1)\">\n       <use xlink:href=\"#DejaVuSans-48\"/>\n       <use x=\"63.623047\" xlink:href=\"#DejaVuSans-46\"/>\n       <use x=\"95.410156\" xlink:href=\"#DejaVuSans-48\"/>\n       <use x=\"159.033203\" xlink:href=\"#DejaVuSans-49\"/>\n       <use x=\"222.65625\" xlink:href=\"#DejaVuSans-53\"/>\n      </g>\n     </g>\n    </g>\n    <g id=\"ytick_5\">\n     <g id=\"line2d_13\">\n      <g>\n       <use style=\"stroke:#000000;stroke-width:0.8;\" x=\"42.828125\" xlink:href=\"#m64e874855b\" y=\"198.717479\"/>\n      </g>\n     </g>\n     <g id=\"text_13\">\n      <!-- 0.020 -->\n      <defs>\n       <path d=\"M 19.1875 8.296875 \nL 53.609375 8.296875 \nL 53.609375 0 \nL 7.328125 0 \nL 7.328125 8.296875 \nQ 12.9375 14.109375 22.625 23.890625 \nQ 32.328125 33.6875 34.8125 36.53125 \nQ 39.546875 41.84375 41.421875 45.53125 \nQ 43.3125 49.21875 43.3125 52.78125 \nQ 43.3125 58.59375 39.234375 62.25 \nQ 35.15625 65.921875 28.609375 65.921875 \nQ 23.96875 65.921875 18.8125 64.3125 \nQ 13.671875 62.703125 7.8125 59.421875 \nL 7.8125 69.390625 \nQ 13.765625 71.78125 18.9375 73 \nQ 24.125 74.21875 28.421875 74.21875 \nQ 39.75 74.21875 46.484375 68.546875 \nQ 53.21875 62.890625 53.21875 53.421875 \nQ 53.21875 48.921875 51.53125 44.890625 \nQ 49.859375 40.875 45.40625 35.40625 \nQ 44.1875 33.984375 37.640625 27.21875 \nQ 31.109375 20.453125 19.1875 8.296875 \nz\n\" id=\"DejaVuSans-50\"/>\n      </defs>\n      <g transform=\"translate(7.2 202.516698)scale(0.1 -0.1)\">\n       <use xlink:href=\"#DejaVuSans-48\"/>\n       <use x=\"63.623047\" xlink:href=\"#DejaVuSans-46\"/>\n       <use x=\"95.410156\" xlink:href=\"#DejaVuSans-48\"/>\n       <use x=\"159.033203\" xlink:href=\"#DejaVuSans-50\"/>\n       <use x=\"222.65625\" xlink:href=\"#DejaVuSans-48\"/>\n      </g>\n     </g>\n    </g>\n    <g id=\"ytick_6\">\n     <g id=\"line2d_14\">\n      <g>\n       <use style=\"stroke:#000000;stroke-width:0.8;\" x=\"42.828125\" xlink:href=\"#m64e874855b\" y=\"159.75763\"/>\n      </g>\n     </g>\n     <g id=\"text_14\">\n      <!-- 0.025 -->\n      <g transform=\"translate(7.2 163.556849)scale(0.1 -0.1)\">\n       <use xlink:href=\"#DejaVuSans-48\"/>\n       <use x=\"63.623047\" xlink:href=\"#DejaVuSans-46\"/>\n       <use x=\"95.410156\" xlink:href=\"#DejaVuSans-48\"/>\n       <use x=\"159.033203\" xlink:href=\"#DejaVuSans-50\"/>\n       <use x=\"222.65625\" xlink:href=\"#DejaVuSans-53\"/>\n      </g>\n     </g>\n    </g>\n    <g id=\"ytick_7\">\n     <g id=\"line2d_15\">\n      <g>\n       <use style=\"stroke:#000000;stroke-width:0.8;\" x=\"42.828125\" xlink:href=\"#m64e874855b\" y=\"120.797781\"/>\n      </g>\n     </g>\n     <g id=\"text_15\">\n      <!-- 0.030 -->\n      <g transform=\"translate(7.2 124.597)scale(0.1 -0.1)\">\n       <use xlink:href=\"#DejaVuSans-48\"/>\n       <use x=\"63.623047\" xlink:href=\"#DejaVuSans-46\"/>\n       <use x=\"95.410156\" xlink:href=\"#DejaVuSans-48\"/>\n       <use x=\"159.033203\" xlink:href=\"#DejaVuSans-51\"/>\n       <use x=\"222.65625\" xlink:href=\"#DejaVuSans-48\"/>\n      </g>\n     </g>\n    </g>\n    <g id=\"ytick_8\">\n     <g id=\"line2d_16\">\n      <g>\n       <use style=\"stroke:#000000;stroke-width:0.8;\" x=\"42.828125\" xlink:href=\"#m64e874855b\" y=\"81.837932\"/>\n      </g>\n     </g>\n     <g id=\"text_16\">\n      <!-- 0.035 -->\n      <g transform=\"translate(7.2 85.637151)scale(0.1 -0.1)\">\n       <use xlink:href=\"#DejaVuSans-48\"/>\n       <use x=\"63.623047\" xlink:href=\"#DejaVuSans-46\"/>\n       <use x=\"95.410156\" xlink:href=\"#DejaVuSans-48\"/>\n       <use x=\"159.033203\" xlink:href=\"#DejaVuSans-51\"/>\n       <use x=\"222.65625\" xlink:href=\"#DejaVuSans-53\"/>\n      </g>\n     </g>\n    </g>\n    <g id=\"ytick_9\">\n     <g id=\"line2d_17\">\n      <g>\n       <use style=\"stroke:#000000;stroke-width:0.8;\" x=\"42.828125\" xlink:href=\"#m64e874855b\" y=\"42.878083\"/>\n      </g>\n     </g>\n     <g id=\"text_17\">\n      <!-- 0.040 -->\n      <g transform=\"translate(7.2 46.677302)scale(0.1 -0.1)\">\n       <use xlink:href=\"#DejaVuSans-48\"/>\n       <use x=\"63.623047\" xlink:href=\"#DejaVuSans-46\"/>\n       <use x=\"95.410156\" xlink:href=\"#DejaVuSans-48\"/>\n       <use x=\"159.033203\" xlink:href=\"#DejaVuSans-52\"/>\n       <use x=\"222.65625\" xlink:href=\"#DejaVuSans-48\"/>\n      </g>\n     </g>\n    </g>\n   </g>\n   <g id=\"patch_43\">\n    <path d=\"M 42.828125 354.556875 \nL 42.828125 28.396875 \n\" style=\"fill:none;stroke:#000000;stroke-linecap:square;stroke-linejoin:miter;stroke-width:0.8;\"/>\n   </g>\n   <g id=\"patch_44\">\n    <path d=\"M 600.828125 354.556875 \nL 600.828125 28.396875 \n\" style=\"fill:none;stroke:#000000;stroke-linecap:square;stroke-linejoin:miter;stroke-width:0.8;\"/>\n   </g>\n   <g id=\"patch_45\">\n    <path d=\"M 42.828125 354.556875 \nL 600.828125 354.556875 \n\" style=\"fill:none;stroke:#000000;stroke-linecap:square;stroke-linejoin:miter;stroke-width:0.8;\"/>\n   </g>\n   <g id=\"patch_46\">\n    <path d=\"M 42.828125 28.396875 \nL 600.828125 28.396875 \n\" style=\"fill:none;stroke:#000000;stroke-linecap:square;stroke-linejoin:miter;stroke-width:0.8;\"/>\n   </g>\n   <g id=\"text_18\">\n    <!-- Exam points distribution -->\n    <defs>\n     <path d=\"M 9.8125 72.90625 \nL 55.90625 72.90625 \nL 55.90625 64.59375 \nL 19.671875 64.59375 \nL 19.671875 43.015625 \nL 54.390625 43.015625 \nL 54.390625 34.71875 \nL 19.671875 34.71875 \nL 19.671875 8.296875 \nL 56.78125 8.296875 \nL 56.78125 0 \nL 9.8125 0 \nz\n\" id=\"DejaVuSans-69\"/>\n     <path d=\"M 54.890625 54.6875 \nL 35.109375 28.078125 \nL 55.90625 0 \nL 45.3125 0 \nL 29.390625 21.484375 \nL 13.484375 0 \nL 2.875 0 \nL 24.125 28.609375 \nL 4.6875 54.6875 \nL 15.28125 54.6875 \nL 29.78125 35.203125 \nL 44.28125 54.6875 \nz\n\" id=\"DejaVuSans-120\"/>\n     <path d=\"M 34.28125 27.484375 \nQ 23.390625 27.484375 19.1875 25 \nQ 14.984375 22.515625 14.984375 16.5 \nQ 14.984375 11.71875 18.140625 8.90625 \nQ 21.296875 6.109375 26.703125 6.109375 \nQ 34.1875 6.109375 38.703125 11.40625 \nQ 43.21875 16.703125 43.21875 25.484375 \nL 43.21875 27.484375 \nz\nM 52.203125 31.203125 \nL 52.203125 0 \nL 43.21875 0 \nL 43.21875 8.296875 \nQ 40.140625 3.328125 35.546875 0.953125 \nQ 30.953125 -1.421875 24.3125 -1.421875 \nQ 15.921875 -1.421875 10.953125 3.296875 \nQ 6 8.015625 6 15.921875 \nQ 6 25.140625 12.171875 29.828125 \nQ 18.359375 34.515625 30.609375 34.515625 \nL 43.21875 34.515625 \nL 43.21875 35.40625 \nQ 43.21875 41.609375 39.140625 45 \nQ 35.0625 48.390625 27.6875 48.390625 \nQ 23 48.390625 18.546875 47.265625 \nQ 14.109375 46.140625 10.015625 43.890625 \nL 10.015625 52.203125 \nQ 14.9375 54.109375 19.578125 55.046875 \nQ 24.21875 56 28.609375 56 \nQ 40.484375 56 46.34375 49.84375 \nQ 52.203125 43.703125 52.203125 31.203125 \nz\n\" id=\"DejaVuSans-97\"/>\n     <path d=\"M 52 44.1875 \nQ 55.375 50.25 60.0625 53.125 \nQ 64.75 56 71.09375 56 \nQ 79.640625 56 84.28125 50.015625 \nQ 88.921875 44.046875 88.921875 33.015625 \nL 88.921875 0 \nL 79.890625 0 \nL 79.890625 32.71875 \nQ 79.890625 40.578125 77.09375 44.375 \nQ 74.3125 48.1875 68.609375 48.1875 \nQ 61.625 48.1875 57.5625 43.546875 \nQ 53.515625 38.921875 53.515625 30.90625 \nL 53.515625 0 \nL 44.484375 0 \nL 44.484375 32.71875 \nQ 44.484375 40.625 41.703125 44.40625 \nQ 38.921875 48.1875 33.109375 48.1875 \nQ 26.21875 48.1875 22.15625 43.53125 \nQ 18.109375 38.875 18.109375 30.90625 \nL 18.109375 0 \nL 9.078125 0 \nL 9.078125 54.6875 \nL 18.109375 54.6875 \nL 18.109375 46.1875 \nQ 21.1875 51.21875 25.484375 53.609375 \nQ 29.78125 56 35.6875 56 \nQ 41.65625 56 45.828125 52.96875 \nQ 50 49.953125 52 44.1875 \nz\n\" id=\"DejaVuSans-109\"/>\n     <path id=\"DejaVuSans-32\"/>\n     <path d=\"M 18.109375 8.203125 \nL 18.109375 -20.796875 \nL 9.078125 -20.796875 \nL 9.078125 54.6875 \nL 18.109375 54.6875 \nL 18.109375 46.390625 \nQ 20.953125 51.265625 25.265625 53.625 \nQ 29.59375 56 35.59375 56 \nQ 45.5625 56 51.78125 48.09375 \nQ 58.015625 40.1875 58.015625 27.296875 \nQ 58.015625 14.40625 51.78125 6.484375 \nQ 45.5625 -1.421875 35.59375 -1.421875 \nQ 29.59375 -1.421875 25.265625 0.953125 \nQ 20.953125 3.328125 18.109375 8.203125 \nz\nM 48.6875 27.296875 \nQ 48.6875 37.203125 44.609375 42.84375 \nQ 40.53125 48.484375 33.40625 48.484375 \nQ 26.265625 48.484375 22.1875 42.84375 \nQ 18.109375 37.203125 18.109375 27.296875 \nQ 18.109375 17.390625 22.1875 11.75 \nQ 26.265625 6.109375 33.40625 6.109375 \nQ 40.53125 6.109375 44.609375 11.75 \nQ 48.6875 17.390625 48.6875 27.296875 \nz\n\" id=\"DejaVuSans-112\"/>\n     <path d=\"M 30.609375 48.390625 \nQ 23.390625 48.390625 19.1875 42.75 \nQ 14.984375 37.109375 14.984375 27.296875 \nQ 14.984375 17.484375 19.15625 11.84375 \nQ 23.34375 6.203125 30.609375 6.203125 \nQ 37.796875 6.203125 41.984375 11.859375 \nQ 46.1875 17.53125 46.1875 27.296875 \nQ 46.1875 37.015625 41.984375 42.703125 \nQ 37.796875 48.390625 30.609375 48.390625 \nz\nM 30.609375 56 \nQ 42.328125 56 49.015625 48.375 \nQ 55.71875 40.765625 55.71875 27.296875 \nQ 55.71875 13.875 49.015625 6.21875 \nQ 42.328125 -1.421875 30.609375 -1.421875 \nQ 18.84375 -1.421875 12.171875 6.21875 \nQ 5.515625 13.875 5.515625 27.296875 \nQ 5.515625 40.765625 12.171875 48.375 \nQ 18.84375 56 30.609375 56 \nz\n\" id=\"DejaVuSans-111\"/>\n     <path d=\"M 9.421875 54.6875 \nL 18.40625 54.6875 \nL 18.40625 0 \nL 9.421875 0 \nz\nM 9.421875 75.984375 \nL 18.40625 75.984375 \nL 18.40625 64.59375 \nL 9.421875 64.59375 \nz\n\" id=\"DejaVuSans-105\"/>\n     <path d=\"M 54.890625 33.015625 \nL 54.890625 0 \nL 45.90625 0 \nL 45.90625 32.71875 \nQ 45.90625 40.484375 42.875 44.328125 \nQ 39.84375 48.1875 33.796875 48.1875 \nQ 26.515625 48.1875 22.3125 43.546875 \nQ 18.109375 38.921875 18.109375 30.90625 \nL 18.109375 0 \nL 9.078125 0 \nL 9.078125 54.6875 \nL 18.109375 54.6875 \nL 18.109375 46.1875 \nQ 21.34375 51.125 25.703125 53.5625 \nQ 30.078125 56 35.796875 56 \nQ 45.21875 56 50.046875 50.171875 \nQ 54.890625 44.34375 54.890625 33.015625 \nz\n\" id=\"DejaVuSans-110\"/>\n     <path d=\"M 18.3125 70.21875 \nL 18.3125 54.6875 \nL 36.8125 54.6875 \nL 36.8125 47.703125 \nL 18.3125 47.703125 \nL 18.3125 18.015625 \nQ 18.3125 11.328125 20.140625 9.421875 \nQ 21.96875 7.515625 27.59375 7.515625 \nL 36.8125 7.515625 \nL 36.8125 0 \nL 27.59375 0 \nQ 17.1875 0 13.234375 3.875 \nQ 9.28125 7.765625 9.28125 18.015625 \nL 9.28125 47.703125 \nL 2.6875 47.703125 \nL 2.6875 54.6875 \nL 9.28125 54.6875 \nL 9.28125 70.21875 \nz\n\" id=\"DejaVuSans-116\"/>\n     <path d=\"M 44.28125 53.078125 \nL 44.28125 44.578125 \nQ 40.484375 46.53125 36.375 47.5 \nQ 32.28125 48.484375 27.875 48.484375 \nQ 21.1875 48.484375 17.84375 46.4375 \nQ 14.5 44.390625 14.5 40.28125 \nQ 14.5 37.15625 16.890625 35.375 \nQ 19.28125 33.59375 26.515625 31.984375 \nL 29.59375 31.296875 \nQ 39.15625 29.25 43.1875 25.515625 \nQ 47.21875 21.78125 47.21875 15.09375 \nQ 47.21875 7.46875 41.1875 3.015625 \nQ 35.15625 -1.421875 24.609375 -1.421875 \nQ 20.21875 -1.421875 15.453125 -0.5625 \nQ 10.6875 0.296875 5.421875 2 \nL 5.421875 11.28125 \nQ 10.40625 8.6875 15.234375 7.390625 \nQ 20.0625 6.109375 24.8125 6.109375 \nQ 31.15625 6.109375 34.5625 8.28125 \nQ 37.984375 10.453125 37.984375 14.40625 \nQ 37.984375 18.0625 35.515625 20.015625 \nQ 33.0625 21.96875 24.703125 23.78125 \nL 21.578125 24.515625 \nQ 13.234375 26.265625 9.515625 29.90625 \nQ 5.8125 33.546875 5.8125 39.890625 \nQ 5.8125 47.609375 11.28125 51.796875 \nQ 16.75 56 26.8125 56 \nQ 31.78125 56 36.171875 55.265625 \nQ 40.578125 54.546875 44.28125 53.078125 \nz\n\" id=\"DejaVuSans-115\"/>\n     <path d=\"M 45.40625 46.390625 \nL 45.40625 75.984375 \nL 54.390625 75.984375 \nL 54.390625 0 \nL 45.40625 0 \nL 45.40625 8.203125 \nQ 42.578125 3.328125 38.25 0.953125 \nQ 33.9375 -1.421875 27.875 -1.421875 \nQ 17.96875 -1.421875 11.734375 6.484375 \nQ 5.515625 14.40625 5.515625 27.296875 \nQ 5.515625 40.1875 11.734375 48.09375 \nQ 17.96875 56 27.875 56 \nQ 33.9375 56 38.25 53.625 \nQ 42.578125 51.265625 45.40625 46.390625 \nz\nM 14.796875 27.296875 \nQ 14.796875 17.390625 18.875 11.75 \nQ 22.953125 6.109375 30.078125 6.109375 \nQ 37.203125 6.109375 41.296875 11.75 \nQ 45.40625 17.390625 45.40625 27.296875 \nQ 45.40625 37.203125 41.296875 42.84375 \nQ 37.203125 48.484375 30.078125 48.484375 \nQ 22.953125 48.484375 18.875 42.84375 \nQ 14.796875 37.203125 14.796875 27.296875 \nz\n\" id=\"DejaVuSans-100\"/>\n     <path d=\"M 41.109375 46.296875 \nQ 39.59375 47.171875 37.8125 47.578125 \nQ 36.03125 48 33.890625 48 \nQ 26.265625 48 22.1875 43.046875 \nQ 18.109375 38.09375 18.109375 28.8125 \nL 18.109375 0 \nL 9.078125 0 \nL 9.078125 54.6875 \nL 18.109375 54.6875 \nL 18.109375 46.1875 \nQ 20.953125 51.171875 25.484375 53.578125 \nQ 30.03125 56 36.53125 56 \nQ 37.453125 56 38.578125 55.875 \nQ 39.703125 55.765625 41.0625 55.515625 \nz\n\" id=\"DejaVuSans-114\"/>\n     <path d=\"M 48.6875 27.296875 \nQ 48.6875 37.203125 44.609375 42.84375 \nQ 40.53125 48.484375 33.40625 48.484375 \nQ 26.265625 48.484375 22.1875 42.84375 \nQ 18.109375 37.203125 18.109375 27.296875 \nQ 18.109375 17.390625 22.1875 11.75 \nQ 26.265625 6.109375 33.40625 6.109375 \nQ 40.53125 6.109375 44.609375 11.75 \nQ 48.6875 17.390625 48.6875 27.296875 \nz\nM 18.109375 46.390625 \nQ 20.953125 51.265625 25.265625 53.625 \nQ 29.59375 56 35.59375 56 \nQ 45.5625 56 51.78125 48.09375 \nQ 58.015625 40.1875 58.015625 27.296875 \nQ 58.015625 14.40625 51.78125 6.484375 \nQ 45.5625 -1.421875 35.59375 -1.421875 \nQ 29.59375 -1.421875 25.265625 0.953125 \nQ 20.953125 3.328125 18.109375 8.203125 \nL 18.109375 0 \nL 9.078125 0 \nL 9.078125 75.984375 \nL 18.109375 75.984375 \nz\n\" id=\"DejaVuSans-98\"/>\n     <path d=\"M 8.5 21.578125 \nL 8.5 54.6875 \nL 17.484375 54.6875 \nL 17.484375 21.921875 \nQ 17.484375 14.15625 20.5 10.265625 \nQ 23.53125 6.390625 29.59375 6.390625 \nQ 36.859375 6.390625 41.078125 11.03125 \nQ 45.3125 15.671875 45.3125 23.6875 \nL 45.3125 54.6875 \nL 54.296875 54.6875 \nL 54.296875 0 \nL 45.3125 0 \nL 45.3125 8.40625 \nQ 42.046875 3.421875 37.71875 1 \nQ 33.40625 -1.421875 27.6875 -1.421875 \nQ 18.265625 -1.421875 13.375 4.4375 \nQ 8.5 10.296875 8.5 21.578125 \nz\nM 31.109375 56 \nz\n\" id=\"DejaVuSans-117\"/>\n    </defs>\n    <g transform=\"translate(199.667188 22.396875)scale(0.2 -0.2)\">\n     <use xlink:href=\"#DejaVuSans-69\"/>\n     <use x=\"63.183594\" xlink:href=\"#DejaVuSans-120\"/>\n     <use x=\"122.363281\" xlink:href=\"#DejaVuSans-97\"/>\n     <use x=\"183.642578\" xlink:href=\"#DejaVuSans-109\"/>\n     <use x=\"281.054688\" xlink:href=\"#DejaVuSans-32\"/>\n     <use x=\"312.841797\" xlink:href=\"#DejaVuSans-112\"/>\n     <use x=\"376.318359\" xlink:href=\"#DejaVuSans-111\"/>\n     <use x=\"437.5\" xlink:href=\"#DejaVuSans-105\"/>\n     <use x=\"465.283203\" xlink:href=\"#DejaVuSans-110\"/>\n     <use x=\"528.662109\" xlink:href=\"#DejaVuSans-116\"/>\n     <use x=\"567.871094\" xlink:href=\"#DejaVuSans-115\"/>\n     <use x=\"619.970703\" xlink:href=\"#DejaVuSans-32\"/>\n     <use x=\"651.757812\" xlink:href=\"#DejaVuSans-100\"/>\n     <use x=\"715.234375\" xlink:href=\"#DejaVuSans-105\"/>\n     <use x=\"743.017578\" xlink:href=\"#DejaVuSans-115\"/>\n     <use x=\"795.117188\" xlink:href=\"#DejaVuSans-116\"/>\n     <use x=\"834.326172\" xlink:href=\"#DejaVuSans-114\"/>\n     <use x=\"875.439453\" xlink:href=\"#DejaVuSans-105\"/>\n     <use x=\"903.222656\" xlink:href=\"#DejaVuSans-98\"/>\n     <use x=\"966.699219\" xlink:href=\"#DejaVuSans-117\"/>\n     <use x=\"1030.078125\" xlink:href=\"#DejaVuSans-116\"/>\n     <use x=\"1069.287109\" xlink:href=\"#DejaVuSans-105\"/>\n     <use x=\"1097.070312\" xlink:href=\"#DejaVuSans-111\"/>\n     <use x=\"1158.251953\" xlink:href=\"#DejaVuSans-110\"/>\n    </g>\n   </g>\n   <g id=\"legend_1\">\n    <g id=\"patch_47\">\n     <path d=\"M 505.475 65.753125 \nL 593.828125 65.753125 \nQ 595.828125 65.753125 595.828125 63.753125 \nL 595.828125 35.396875 \nQ 595.828125 33.396875 593.828125 33.396875 \nL 505.475 33.396875 \nQ 503.475 33.396875 503.475 35.396875 \nL 503.475 63.753125 \nQ 503.475 65.753125 505.475 65.753125 \nz\n\" style=\"fill:#ffffff;opacity:0.8;stroke:#cccccc;stroke-linejoin:miter;\"/>\n    </g>\n    <g id=\"patch_48\">\n     <path d=\"M 507.475 44.995312 \nL 527.475 44.995312 \nL 527.475 37.995312 \nL 507.475 37.995312 \nz\n\" style=\"fill:#0ca4a5;opacity:0.5;stroke:#ffffff;stroke-linejoin:miter;\"/>\n    </g>\n    <g id=\"text_19\">\n     <!-- Chosen -->\n     <defs>\n      <path d=\"M 64.40625 67.28125 \nL 64.40625 56.890625 \nQ 59.421875 61.53125 53.78125 63.8125 \nQ 48.140625 66.109375 41.796875 66.109375 \nQ 29.296875 66.109375 22.65625 58.46875 \nQ 16.015625 50.828125 16.015625 36.375 \nQ 16.015625 21.96875 22.65625 14.328125 \nQ 29.296875 6.6875 41.796875 6.6875 \nQ 48.140625 6.6875 53.78125 8.984375 \nQ 59.421875 11.28125 64.40625 15.921875 \nL 64.40625 5.609375 \nQ 59.234375 2.09375 53.4375 0.328125 \nQ 47.65625 -1.421875 41.21875 -1.421875 \nQ 24.65625 -1.421875 15.125 8.703125 \nQ 5.609375 18.84375 5.609375 36.375 \nQ 5.609375 53.953125 15.125 64.078125 \nQ 24.65625 74.21875 41.21875 74.21875 \nQ 47.75 74.21875 53.53125 72.484375 \nQ 59.328125 70.75 64.40625 67.28125 \nz\n\" id=\"DejaVuSans-67\"/>\n      <path d=\"M 54.890625 33.015625 \nL 54.890625 0 \nL 45.90625 0 \nL 45.90625 32.71875 \nQ 45.90625 40.484375 42.875 44.328125 \nQ 39.84375 48.1875 33.796875 48.1875 \nQ 26.515625 48.1875 22.3125 43.546875 \nQ 18.109375 38.921875 18.109375 30.90625 \nL 18.109375 0 \nL 9.078125 0 \nL 9.078125 75.984375 \nL 18.109375 75.984375 \nL 18.109375 46.1875 \nQ 21.34375 51.125 25.703125 53.5625 \nQ 30.078125 56 35.796875 56 \nQ 45.21875 56 50.046875 50.171875 \nQ 54.890625 44.34375 54.890625 33.015625 \nz\n\" id=\"DejaVuSans-104\"/>\n      <path d=\"M 56.203125 29.59375 \nL 56.203125 25.203125 \nL 14.890625 25.203125 \nQ 15.484375 15.921875 20.484375 11.0625 \nQ 25.484375 6.203125 34.421875 6.203125 \nQ 39.59375 6.203125 44.453125 7.46875 \nQ 49.3125 8.734375 54.109375 11.28125 \nL 54.109375 2.78125 \nQ 49.265625 0.734375 44.1875 -0.34375 \nQ 39.109375 -1.421875 33.890625 -1.421875 \nQ 20.796875 -1.421875 13.15625 6.1875 \nQ 5.515625 13.8125 5.515625 26.8125 \nQ 5.515625 40.234375 12.765625 48.109375 \nQ 20.015625 56 32.328125 56 \nQ 43.359375 56 49.78125 48.890625 \nQ 56.203125 41.796875 56.203125 29.59375 \nz\nM 47.21875 32.234375 \nQ 47.125 39.59375 43.09375 43.984375 \nQ 39.0625 48.390625 32.421875 48.390625 \nQ 24.90625 48.390625 20.390625 44.140625 \nQ 15.875 39.890625 15.1875 32.171875 \nz\n\" id=\"DejaVuSans-101\"/>\n     </defs>\n     <g transform=\"translate(535.475 44.995312)scale(0.1 -0.1)\">\n      <use xlink:href=\"#DejaVuSans-67\"/>\n      <use x=\"69.824219\" xlink:href=\"#DejaVuSans-104\"/>\n      <use x=\"133.203125\" xlink:href=\"#DejaVuSans-111\"/>\n      <use x=\"194.384766\" xlink:href=\"#DejaVuSans-115\"/>\n      <use x=\"246.484375\" xlink:href=\"#DejaVuSans-101\"/>\n      <use x=\"308.007812\" xlink:href=\"#DejaVuSans-110\"/>\n     </g>\n    </g>\n    <g id=\"patch_49\">\n     <path d=\"M 507.475 59.673437 \nL 527.475 59.673437 \nL 527.475 52.673437 \nL 507.475 52.673437 \nz\n\" style=\"fill:#f46036;opacity:0.5;stroke:#ffffff;stroke-linejoin:miter;\"/>\n    </g>\n    <g id=\"text_20\">\n     <!-- Not chosen -->\n     <defs>\n      <path d=\"M 9.8125 72.90625 \nL 23.09375 72.90625 \nL 55.421875 11.921875 \nL 55.421875 72.90625 \nL 64.984375 72.90625 \nL 64.984375 0 \nL 51.703125 0 \nL 19.390625 60.984375 \nL 19.390625 0 \nL 9.8125 0 \nz\n\" id=\"DejaVuSans-78\"/>\n      <path d=\"M 48.78125 52.59375 \nL 48.78125 44.1875 \nQ 44.96875 46.296875 41.140625 47.34375 \nQ 37.3125 48.390625 33.40625 48.390625 \nQ 24.65625 48.390625 19.8125 42.84375 \nQ 14.984375 37.3125 14.984375 27.296875 \nQ 14.984375 17.28125 19.8125 11.734375 \nQ 24.65625 6.203125 33.40625 6.203125 \nQ 37.3125 6.203125 41.140625 7.25 \nQ 44.96875 8.296875 48.78125 10.40625 \nL 48.78125 2.09375 \nQ 45.015625 0.34375 40.984375 -0.53125 \nQ 36.96875 -1.421875 32.421875 -1.421875 \nQ 20.0625 -1.421875 12.78125 6.34375 \nQ 5.515625 14.109375 5.515625 27.296875 \nQ 5.515625 40.671875 12.859375 48.328125 \nQ 20.21875 56 33.015625 56 \nQ 37.15625 56 41.109375 55.140625 \nQ 45.0625 54.296875 48.78125 52.59375 \nz\n\" id=\"DejaVuSans-99\"/>\n     </defs>\n     <g transform=\"translate(535.475 59.673437)scale(0.1 -0.1)\">\n      <use xlink:href=\"#DejaVuSans-78\"/>\n      <use x=\"74.804688\" xlink:href=\"#DejaVuSans-111\"/>\n      <use x=\"135.986328\" xlink:href=\"#DejaVuSans-116\"/>\n      <use x=\"175.195312\" xlink:href=\"#DejaVuSans-32\"/>\n      <use x=\"206.982422\" xlink:href=\"#DejaVuSans-99\"/>\n      <use x=\"261.962891\" xlink:href=\"#DejaVuSans-104\"/>\n      <use x=\"325.341797\" xlink:href=\"#DejaVuSans-111\"/>\n      <use x=\"386.523438\" xlink:href=\"#DejaVuSans-115\"/>\n      <use x=\"438.623047\" xlink:href=\"#DejaVuSans-101\"/>\n      <use x=\"500.146484\" xlink:href=\"#DejaVuSans-110\"/>\n     </g>\n    </g>\n   </g>\n  </g>\n </g>\n <defs>\n  <clipPath id=\"pce381010f3\">\n   <rect height=\"326.16\" width=\"558\" x=\"42.828125\" y=\"28.396875\"/>\n  </clipPath>\n </defs>\n</svg>\n"
          },
          "metadata": {
            "needs_background": "light"
          }
        }
      ]
    },
    {
      "cell_type": "code",
      "metadata": {
        "colab": {
          "base_uri": "https://localhost:8080/"
        },
        "id": "RcowCWjJHa9D",
        "outputId": "9fe4ce03-c922-459d-bbfd-9904958f521e"
      },
      "source": [
        "cat_features = ['qualification', 'physics', 'chemistry', 'biology', \n",
        "                'english', 'geography', 'history']\n",
        "\n",
        "for column in cat_features:\n",
        "  print(f'\\n{column}: \\n{df_train[column].value_counts()}', '\\n'+'-'*30)"
      ],
      "id": "RcowCWjJHa9D",
      "execution_count": null,
      "outputs": [
        {
          "output_type": "stream",
          "name": "stdout",
          "text": [
            "\n",
            "qualification: \n",
            "1.0    4891\n",
            "2.0    3033\n",
            "3.0    2018\n",
            "4.0      58\n",
            "Name: qualification, dtype: int64 \n",
            "------------------------------\n",
            "\n",
            "physics: \n",
            "0.0    6294\n",
            "1.0    3706\n",
            "Name: physics, dtype: int64 \n",
            "------------------------------\n",
            "\n",
            "chemistry: \n",
            "0.0    8785\n",
            "1.0    1215\n",
            "Name: chemistry, dtype: int64 \n",
            "------------------------------\n",
            "\n",
            "biology: \n",
            "0.0    8828\n",
            "1.0    1172\n",
            "Name: biology, dtype: int64 \n",
            "------------------------------\n",
            "\n",
            "english: \n",
            "0.0    9409\n",
            "1.0     591\n",
            "Name: english, dtype: int64 \n",
            "------------------------------\n",
            "\n",
            "geography: \n",
            "0.0    9723\n",
            "1.0     277\n",
            "Name: geography, dtype: int64 \n",
            "------------------------------\n",
            "\n",
            "history: \n",
            "0.0    9820\n",
            "1.0     180\n",
            "Name: history, dtype: int64 \n",
            "------------------------------\n"
          ]
        }
      ]
    },
    {
      "cell_type": "markdown",
      "metadata": {
        "id": "vbwzz7jUhr0M"
      },
      "source": [
        "qualification - чем выше - тем меньше рекомендуют\n",
        "physics, chemistry, biology, english, geography, history  - человек, который так же преподает физику более востребован для подготовки к экзамену по математике, чем преподающий химию, биологию, наименее востребованы преодаватели гуманитарных предметов.\n",
        " \n"
      ],
      "id": "vbwzz7jUhr0M"
    },
    {
      "cell_type": "code",
      "metadata": {
        "colab": {
          "base_uri": "https://localhost:8080/",
          "height": 723
        },
        "id": "qd1F6gIYKLun",
        "outputId": "017887d5-6206-4499-e0aa-e7304225e362"
      },
      "source": [
        "matrix = df_train.corr().round(decimals=2)\n",
        "matrix[np.abs(matrix) < 0.3] = 0\n",
        "\n",
        "plt.figure(figsize = (10, 7))\n",
        "plt.title('Correlation matrix', size=20)\n",
        "sns.heatmap(matrix, annot=True, vmax=True, linewidths=.5, cmap='vlag_r')\n",
        "plt.plot()\n",
        "plt.show()"
      ],
      "id": "qd1F6gIYKLun",
      "execution_count": null,
      "outputs": [
        {
          "output_type": "display_data",
          "data": {
            "text/plain": [
              "<Figure size 720x504 with 2 Axes>"
            ],
            "image/svg+xml": "<?xml version=\"1.0\" encoding=\"utf-8\" standalone=\"no\"?>\n<!DOCTYPE svg PUBLIC \"-//W3C//DTD SVG 1.1//EN\"\n  \"http://www.w3.org/Graphics/SVG/1.1/DTD/svg11.dtd\">\n<!-- Created with matplotlib (https://matplotlib.org/) -->\n<svg height=\"525.705937pt\" version=\"1.1\" viewBox=\"0 0 640.218188 525.705937\" width=\"640.218188pt\" xmlns=\"http://www.w3.org/2000/svg\" xmlns:xlink=\"http://www.w3.org/1999/xlink\">\n <defs>\n  <style type=\"text/css\">\n*{stroke-linecap:butt;stroke-linejoin:round;}\n  </style>\n </defs>\n <g id=\"figure_1\">\n  <g id=\"patch_1\">\n   <path d=\"M 0 525.705937 \nL 640.218188 525.705937 \nL 640.218188 0 \nL 0 0 \nz\n\" style=\"fill:none;\"/>\n  </g>\n  <g id=\"axes_1\">\n   <g id=\"patch_2\">\n    <path d=\"M 116.789062 408.916875 \nL 563.189063 408.916875 \nL 563.189063 28.396875 \nL 116.789062 28.396875 \nz\n\" style=\"fill:#ffffff;\"/>\n   </g>\n   <g id=\"QuadMesh_1\">\n    <path clip-path=\"url(#p0d77c3625b)\" d=\"M 116.789062 28.396875 \nL 151.127524 28.396875 \nL 151.127524 57.667644 \nL 116.789062 57.667644 \nL 116.789062 28.396875 \n\" style=\"fill:#2369bd;stroke:#ffffff;stroke-width:0.5;\"/>\n    <path clip-path=\"url(#p0d77c3625b)\" d=\"M 151.127524 28.396875 \nL 185.465986 28.396875 \nL 185.465986 57.667644 \nL 151.127524 57.667644 \nL 151.127524 28.396875 \n\" style=\"fill:#a9373b;stroke:#ffffff;stroke-width:0.5;\"/>\n    <path clip-path=\"url(#p0d77c3625b)\" d=\"M 185.465986 28.396875 \nL 219.804447 28.396875 \nL 219.804447 57.667644 \nL 185.465986 57.667644 \nL 185.465986 28.396875 \n\" style=\"fill:#a9373b;stroke:#ffffff;stroke-width:0.5;\"/>\n    <path clip-path=\"url(#p0d77c3625b)\" d=\"M 219.804447 28.396875 \nL 254.142909 28.396875 \nL 254.142909 57.667644 \nL 219.804447 57.667644 \nL 219.804447 28.396875 \n\" style=\"fill:#a9373b;stroke:#ffffff;stroke-width:0.5;\"/>\n    <path clip-path=\"url(#p0d77c3625b)\" d=\"M 254.142909 28.396875 \nL 288.48137 28.396875 \nL 288.48137 57.667644 \nL 254.142909 57.667644 \nL 254.142909 28.396875 \n\" style=\"fill:#a9373b;stroke:#ffffff;stroke-width:0.5;\"/>\n    <path clip-path=\"url(#p0d77c3625b)\" d=\"M 288.48137 28.396875 \nL 322.819832 28.396875 \nL 322.819832 57.667644 \nL 288.48137 57.667644 \nL 288.48137 28.396875 \n\" style=\"fill:#a9373b;stroke:#ffffff;stroke-width:0.5;\"/>\n    <path clip-path=\"url(#p0d77c3625b)\" d=\"M 322.819832 28.396875 \nL 357.158293 28.396875 \nL 357.158293 57.667644 \nL 322.819832 57.667644 \nL 322.819832 28.396875 \n\" style=\"fill:#a9373b;stroke:#ffffff;stroke-width:0.5;\"/>\n    <path clip-path=\"url(#p0d77c3625b)\" d=\"M 357.158293 28.396875 \nL 391.496755 28.396875 \nL 391.496755 57.667644 \nL 357.158293 57.667644 \nL 357.158293 28.396875 \n\" style=\"fill:#a9373b;stroke:#ffffff;stroke-width:0.5;\"/>\n    <path clip-path=\"url(#p0d77c3625b)\" d=\"M 391.496755 28.396875 \nL 425.835216 28.396875 \nL 425.835216 57.667644 \nL 391.496755 57.667644 \nL 391.496755 28.396875 \n\" style=\"fill:#a9373b;stroke:#ffffff;stroke-width:0.5;\"/>\n    <path clip-path=\"url(#p0d77c3625b)\" d=\"M 425.835216 28.396875 \nL 460.173678 28.396875 \nL 460.173678 57.667644 \nL 425.835216 57.667644 \nL 425.835216 28.396875 \n\" style=\"fill:#a9373b;stroke:#ffffff;stroke-width:0.5;\"/>\n    <path clip-path=\"url(#p0d77c3625b)\" d=\"M 460.173678 28.396875 \nL 494.512139 28.396875 \nL 494.512139 57.667644 \nL 460.173678 57.667644 \nL 460.173678 28.396875 \n\" style=\"fill:#a9373b;stroke:#ffffff;stroke-width:0.5;\"/>\n    <path clip-path=\"url(#p0d77c3625b)\" d=\"M 494.512139 28.396875 \nL 528.850601 28.396875 \nL 528.850601 57.667644 \nL 494.512139 57.667644 \nL 494.512139 28.396875 \n\" style=\"fill:#a9373b;stroke:#ffffff;stroke-width:0.5;\"/>\n    <path clip-path=\"url(#p0d77c3625b)\" d=\"M 528.850601 28.396875 \nL 563.189063 28.396875 \nL 563.189063 57.667644 \nL 528.850601 57.667644 \nL 528.850601 28.396875 \n\" style=\"fill:#a9373b;stroke:#ffffff;stroke-width:0.5;\"/>\n    <path clip-path=\"url(#p0d77c3625b)\" d=\"M 116.789062 57.667644 \nL 151.127524 57.667644 \nL 151.127524 86.938413 \nL 116.789062 86.938413 \nL 116.789062 57.667644 \n\" style=\"fill:#a9373b;stroke:#ffffff;stroke-width:0.5;\"/>\n    <path clip-path=\"url(#p0d77c3625b)\" d=\"M 151.127524 57.667644 \nL 185.465986 57.667644 \nL 185.465986 86.938413 \nL 151.127524 86.938413 \nL 151.127524 57.667644 \n\" style=\"fill:#2369bd;stroke:#ffffff;stroke-width:0.5;\"/>\n    <path clip-path=\"url(#p0d77c3625b)\" d=\"M 185.465986 57.667644 \nL 219.804447 57.667644 \nL 219.804447 86.938413 \nL 185.465986 86.938413 \nL 185.465986 57.667644 \n\" style=\"fill:#a9373b;stroke:#ffffff;stroke-width:0.5;\"/>\n    <path clip-path=\"url(#p0d77c3625b)\" d=\"M 219.804447 57.667644 \nL 254.142909 57.667644 \nL 254.142909 86.938413 \nL 219.804447 86.938413 \nL 219.804447 57.667644 \n\" style=\"fill:#a9373b;stroke:#ffffff;stroke-width:0.5;\"/>\n    <path clip-path=\"url(#p0d77c3625b)\" d=\"M 254.142909 57.667644 \nL 288.48137 57.667644 \nL 288.48137 86.938413 \nL 254.142909 86.938413 \nL 254.142909 57.667644 \n\" style=\"fill:#a9373b;stroke:#ffffff;stroke-width:0.5;\"/>\n    <path clip-path=\"url(#p0d77c3625b)\" d=\"M 288.48137 57.667644 \nL 322.819832 57.667644 \nL 322.819832 86.938413 \nL 288.48137 86.938413 \nL 288.48137 57.667644 \n\" style=\"fill:#a9373b;stroke:#ffffff;stroke-width:0.5;\"/>\n    <path clip-path=\"url(#p0d77c3625b)\" d=\"M 322.819832 57.667644 \nL 357.158293 57.667644 \nL 357.158293 86.938413 \nL 322.819832 86.938413 \nL 322.819832 57.667644 \n\" style=\"fill:#a9373b;stroke:#ffffff;stroke-width:0.5;\"/>\n    <path clip-path=\"url(#p0d77c3625b)\" d=\"M 357.158293 57.667644 \nL 391.496755 57.667644 \nL 391.496755 86.938413 \nL 357.158293 86.938413 \nL 357.158293 57.667644 \n\" style=\"fill:#a9373b;stroke:#ffffff;stroke-width:0.5;\"/>\n    <path clip-path=\"url(#p0d77c3625b)\" d=\"M 391.496755 57.667644 \nL 425.835216 57.667644 \nL 425.835216 86.938413 \nL 391.496755 86.938413 \nL 391.496755 57.667644 \n\" style=\"fill:#a9373b;stroke:#ffffff;stroke-width:0.5;\"/>\n    <path clip-path=\"url(#p0d77c3625b)\" d=\"M 425.835216 57.667644 \nL 460.173678 57.667644 \nL 460.173678 86.938413 \nL 425.835216 86.938413 \nL 425.835216 57.667644 \n\" style=\"fill:#a9373b;stroke:#ffffff;stroke-width:0.5;\"/>\n    <path clip-path=\"url(#p0d77c3625b)\" d=\"M 460.173678 57.667644 \nL 494.512139 57.667644 \nL 494.512139 86.938413 \nL 460.173678 86.938413 \nL 460.173678 57.667644 \n\" style=\"fill:#a9373b;stroke:#ffffff;stroke-width:0.5;\"/>\n    <path clip-path=\"url(#p0d77c3625b)\" d=\"M 494.512139 57.667644 \nL 528.850601 57.667644 \nL 528.850601 86.938413 \nL 494.512139 86.938413 \nL 494.512139 57.667644 \n\" style=\"fill:#a9373b;stroke:#ffffff;stroke-width:0.5;\"/>\n    <path clip-path=\"url(#p0d77c3625b)\" d=\"M 528.850601 57.667644 \nL 563.189063 57.667644 \nL 563.189063 86.938413 \nL 528.850601 86.938413 \nL 528.850601 57.667644 \n\" style=\"fill:#a9373b;stroke:#ffffff;stroke-width:0.5;\"/>\n    <path clip-path=\"url(#p0d77c3625b)\" d=\"M 116.789062 86.938413 \nL 151.127524 86.938413 \nL 151.127524 116.209183 \nL 116.789062 116.209183 \nL 116.789062 86.938413 \n\" style=\"fill:#a9373b;stroke:#ffffff;stroke-width:0.5;\"/>\n    <path clip-path=\"url(#p0d77c3625b)\" d=\"M 151.127524 86.938413 \nL 185.465986 86.938413 \nL 185.465986 116.209183 \nL 151.127524 116.209183 \nL 151.127524 86.938413 \n\" style=\"fill:#a9373b;stroke:#ffffff;stroke-width:0.5;\"/>\n    <path clip-path=\"url(#p0d77c3625b)\" d=\"M 185.465986 86.938413 \nL 219.804447 86.938413 \nL 219.804447 116.209183 \nL 185.465986 116.209183 \nL 185.465986 86.938413 \n\" style=\"fill:#2369bd;stroke:#ffffff;stroke-width:0.5;\"/>\n    <path clip-path=\"url(#p0d77c3625b)\" d=\"M 219.804447 86.938413 \nL 254.142909 86.938413 \nL 254.142909 116.209183 \nL 219.804447 116.209183 \nL 219.804447 86.938413 \n\" style=\"fill:#a9373b;stroke:#ffffff;stroke-width:0.5;\"/>\n    <path clip-path=\"url(#p0d77c3625b)\" d=\"M 254.142909 86.938413 \nL 288.48137 86.938413 \nL 288.48137 116.209183 \nL 254.142909 116.209183 \nL 254.142909 86.938413 \n\" style=\"fill:#a9373b;stroke:#ffffff;stroke-width:0.5;\"/>\n    <path clip-path=\"url(#p0d77c3625b)\" d=\"M 288.48137 86.938413 \nL 322.819832 86.938413 \nL 322.819832 116.209183 \nL 288.48137 116.209183 \nL 288.48137 86.938413 \n\" style=\"fill:#a9373b;stroke:#ffffff;stroke-width:0.5;\"/>\n    <path clip-path=\"url(#p0d77c3625b)\" d=\"M 322.819832 86.938413 \nL 357.158293 86.938413 \nL 357.158293 116.209183 \nL 322.819832 116.209183 \nL 322.819832 86.938413 \n\" style=\"fill:#a9373b;stroke:#ffffff;stroke-width:0.5;\"/>\n    <path clip-path=\"url(#p0d77c3625b)\" d=\"M 357.158293 86.938413 \nL 391.496755 86.938413 \nL 391.496755 116.209183 \nL 357.158293 116.209183 \nL 357.158293 86.938413 \n\" style=\"fill:#a9373b;stroke:#ffffff;stroke-width:0.5;\"/>\n    <path clip-path=\"url(#p0d77c3625b)\" d=\"M 391.496755 86.938413 \nL 425.835216 86.938413 \nL 425.835216 116.209183 \nL 391.496755 116.209183 \nL 391.496755 86.938413 \n\" style=\"fill:#a9373b;stroke:#ffffff;stroke-width:0.5;\"/>\n    <path clip-path=\"url(#p0d77c3625b)\" d=\"M 425.835216 86.938413 \nL 460.173678 86.938413 \nL 460.173678 116.209183 \nL 425.835216 116.209183 \nL 425.835216 86.938413 \n\" style=\"fill:#a9373b;stroke:#ffffff;stroke-width:0.5;\"/>\n    <path clip-path=\"url(#p0d77c3625b)\" d=\"M 460.173678 86.938413 \nL 494.512139 86.938413 \nL 494.512139 116.209183 \nL 460.173678 116.209183 \nL 460.173678 86.938413 \n\" style=\"fill:#a9373b;stroke:#ffffff;stroke-width:0.5;\"/>\n    <path clip-path=\"url(#p0d77c3625b)\" d=\"M 494.512139 86.938413 \nL 528.850601 86.938413 \nL 528.850601 116.209183 \nL 494.512139 116.209183 \nL 494.512139 86.938413 \n\" style=\"fill:#a9373b;stroke:#ffffff;stroke-width:0.5;\"/>\n    <path clip-path=\"url(#p0d77c3625b)\" d=\"M 528.850601 86.938413 \nL 563.189063 86.938413 \nL 563.189063 116.209183 \nL 528.850601 116.209183 \nL 528.850601 86.938413 \n\" style=\"fill:#a9373b;stroke:#ffffff;stroke-width:0.5;\"/>\n    <path clip-path=\"url(#p0d77c3625b)\" d=\"M 116.789062 116.209183 \nL 151.127524 116.209183 \nL 151.127524 145.479952 \nL 116.789062 145.479952 \nL 116.789062 116.209183 \n\" style=\"fill:#a9373b;stroke:#ffffff;stroke-width:0.5;\"/>\n    <path clip-path=\"url(#p0d77c3625b)\" d=\"M 151.127524 116.209183 \nL 185.465986 116.209183 \nL 185.465986 145.479952 \nL 151.127524 145.479952 \nL 151.127524 116.209183 \n\" style=\"fill:#a9373b;stroke:#ffffff;stroke-width:0.5;\"/>\n    <path clip-path=\"url(#p0d77c3625b)\" d=\"M 185.465986 116.209183 \nL 219.804447 116.209183 \nL 219.804447 145.479952 \nL 185.465986 145.479952 \nL 185.465986 116.209183 \n\" style=\"fill:#a9373b;stroke:#ffffff;stroke-width:0.5;\"/>\n    <path clip-path=\"url(#p0d77c3625b)\" d=\"M 219.804447 116.209183 \nL 254.142909 116.209183 \nL 254.142909 145.479952 \nL 219.804447 145.479952 \nL 219.804447 116.209183 \n\" style=\"fill:#2369bd;stroke:#ffffff;stroke-width:0.5;\"/>\n    <path clip-path=\"url(#p0d77c3625b)\" d=\"M 254.142909 116.209183 \nL 288.48137 116.209183 \nL 288.48137 145.479952 \nL 254.142909 145.479952 \nL 254.142909 116.209183 \n\" style=\"fill:#87a0c4;stroke:#ffffff;stroke-width:0.5;\"/>\n    <path clip-path=\"url(#p0d77c3625b)\" d=\"M 288.48137 116.209183 \nL 322.819832 116.209183 \nL 322.819832 145.479952 \nL 288.48137 145.479952 \nL 288.48137 116.209183 \n\" style=\"fill:#a9373b;stroke:#ffffff;stroke-width:0.5;\"/>\n    <path clip-path=\"url(#p0d77c3625b)\" d=\"M 322.819832 116.209183 \nL 357.158293 116.209183 \nL 357.158293 145.479952 \nL 322.819832 145.479952 \nL 322.819832 116.209183 \n\" style=\"fill:#a9373b;stroke:#ffffff;stroke-width:0.5;\"/>\n    <path clip-path=\"url(#p0d77c3625b)\" d=\"M 357.158293 116.209183 \nL 391.496755 116.209183 \nL 391.496755 145.479952 \nL 357.158293 145.479952 \nL 357.158293 116.209183 \n\" style=\"fill:#a9373b;stroke:#ffffff;stroke-width:0.5;\"/>\n    <path clip-path=\"url(#p0d77c3625b)\" d=\"M 391.496755 116.209183 \nL 425.835216 116.209183 \nL 425.835216 145.479952 \nL 391.496755 145.479952 \nL 391.496755 116.209183 \n\" style=\"fill:#a9373b;stroke:#ffffff;stroke-width:0.5;\"/>\n    <path clip-path=\"url(#p0d77c3625b)\" d=\"M 425.835216 116.209183 \nL 460.173678 116.209183 \nL 460.173678 145.479952 \nL 425.835216 145.479952 \nL 425.835216 116.209183 \n\" style=\"fill:#a9373b;stroke:#ffffff;stroke-width:0.5;\"/>\n    <path clip-path=\"url(#p0d77c3625b)\" d=\"M 460.173678 116.209183 \nL 494.512139 116.209183 \nL 494.512139 145.479952 \nL 460.173678 145.479952 \nL 460.173678 116.209183 \n\" style=\"fill:#a9373b;stroke:#ffffff;stroke-width:0.5;\"/>\n    <path clip-path=\"url(#p0d77c3625b)\" d=\"M 494.512139 116.209183 \nL 528.850601 116.209183 \nL 528.850601 145.479952 \nL 494.512139 145.479952 \nL 494.512139 116.209183 \n\" style=\"fill:#a3b4cd;stroke:#ffffff;stroke-width:0.5;\"/>\n    <path clip-path=\"url(#p0d77c3625b)\" d=\"M 528.850601 116.209183 \nL 563.189063 116.209183 \nL 563.189063 145.479952 \nL 528.850601 145.479952 \nL 528.850601 116.209183 \n\" style=\"fill:#a9373b;stroke:#ffffff;stroke-width:0.5;\"/>\n    <path clip-path=\"url(#p0d77c3625b)\" d=\"M 116.789062 145.479952 \nL 151.127524 145.479952 \nL 151.127524 174.750721 \nL 116.789062 174.750721 \nL 116.789062 145.479952 \n\" style=\"fill:#a9373b;stroke:#ffffff;stroke-width:0.5;\"/>\n    <path clip-path=\"url(#p0d77c3625b)\" d=\"M 151.127524 145.479952 \nL 185.465986 145.479952 \nL 185.465986 174.750721 \nL 151.127524 174.750721 \nL 151.127524 145.479952 \n\" style=\"fill:#a9373b;stroke:#ffffff;stroke-width:0.5;\"/>\n    <path clip-path=\"url(#p0d77c3625b)\" d=\"M 185.465986 145.479952 \nL 219.804447 145.479952 \nL 219.804447 174.750721 \nL 185.465986 174.750721 \nL 185.465986 145.479952 \n\" style=\"fill:#a9373b;stroke:#ffffff;stroke-width:0.5;\"/>\n    <path clip-path=\"url(#p0d77c3625b)\" d=\"M 219.804447 145.479952 \nL 254.142909 145.479952 \nL 254.142909 174.750721 \nL 219.804447 174.750721 \nL 219.804447 145.479952 \n\" style=\"fill:#87a0c4;stroke:#ffffff;stroke-width:0.5;\"/>\n    <path clip-path=\"url(#p0d77c3625b)\" d=\"M 254.142909 145.479952 \nL 288.48137 145.479952 \nL 288.48137 174.750721 \nL 254.142909 174.750721 \nL 254.142909 145.479952 \n\" style=\"fill:#2369bd;stroke:#ffffff;stroke-width:0.5;\"/>\n    <path clip-path=\"url(#p0d77c3625b)\" d=\"M 288.48137 145.479952 \nL 322.819832 145.479952 \nL 322.819832 174.750721 \nL 288.48137 174.750721 \nL 288.48137 145.479952 \n\" style=\"fill:#a9373b;stroke:#ffffff;stroke-width:0.5;\"/>\n    <path clip-path=\"url(#p0d77c3625b)\" d=\"M 322.819832 145.479952 \nL 357.158293 145.479952 \nL 357.158293 174.750721 \nL 322.819832 174.750721 \nL 322.819832 145.479952 \n\" style=\"fill:#a9373b;stroke:#ffffff;stroke-width:0.5;\"/>\n    <path clip-path=\"url(#p0d77c3625b)\" d=\"M 357.158293 145.479952 \nL 391.496755 145.479952 \nL 391.496755 174.750721 \nL 357.158293 174.750721 \nL 357.158293 145.479952 \n\" style=\"fill:#a9373b;stroke:#ffffff;stroke-width:0.5;\"/>\n    <path clip-path=\"url(#p0d77c3625b)\" d=\"M 391.496755 145.479952 \nL 425.835216 145.479952 \nL 425.835216 174.750721 \nL 391.496755 174.750721 \nL 391.496755 145.479952 \n\" style=\"fill:#a9373b;stroke:#ffffff;stroke-width:0.5;\"/>\n    <path clip-path=\"url(#p0d77c3625b)\" d=\"M 425.835216 145.479952 \nL 460.173678 145.479952 \nL 460.173678 174.750721 \nL 425.835216 174.750721 \nL 425.835216 145.479952 \n\" style=\"fill:#a9373b;stroke:#ffffff;stroke-width:0.5;\"/>\n    <path clip-path=\"url(#p0d77c3625b)\" d=\"M 460.173678 145.479952 \nL 494.512139 145.479952 \nL 494.512139 174.750721 \nL 460.173678 174.750721 \nL 460.173678 145.479952 \n\" style=\"fill:#a9373b;stroke:#ffffff;stroke-width:0.5;\"/>\n    <path clip-path=\"url(#p0d77c3625b)\" d=\"M 494.512139 145.479952 \nL 528.850601 145.479952 \nL 528.850601 174.750721 \nL 494.512139 174.750721 \nL 494.512139 145.479952 \n\" style=\"fill:#97abc9;stroke:#ffffff;stroke-width:0.5;\"/>\n    <path clip-path=\"url(#p0d77c3625b)\" d=\"M 528.850601 145.479952 \nL 563.189063 145.479952 \nL 563.189063 174.750721 \nL 528.850601 174.750721 \nL 528.850601 145.479952 \n\" style=\"fill:#a9373b;stroke:#ffffff;stroke-width:0.5;\"/>\n    <path clip-path=\"url(#p0d77c3625b)\" d=\"M 116.789062 174.750721 \nL 151.127524 174.750721 \nL 151.127524 204.02149 \nL 116.789062 204.02149 \nL 116.789062 174.750721 \n\" style=\"fill:#a9373b;stroke:#ffffff;stroke-width:0.5;\"/>\n    <path clip-path=\"url(#p0d77c3625b)\" d=\"M 151.127524 174.750721 \nL 185.465986 174.750721 \nL 185.465986 204.02149 \nL 151.127524 204.02149 \nL 151.127524 174.750721 \n\" style=\"fill:#a9373b;stroke:#ffffff;stroke-width:0.5;\"/>\n    <path clip-path=\"url(#p0d77c3625b)\" d=\"M 185.465986 174.750721 \nL 219.804447 174.750721 \nL 219.804447 204.02149 \nL 185.465986 204.02149 \nL 185.465986 174.750721 \n\" style=\"fill:#a9373b;stroke:#ffffff;stroke-width:0.5;\"/>\n    <path clip-path=\"url(#p0d77c3625b)\" d=\"M 219.804447 174.750721 \nL 254.142909 174.750721 \nL 254.142909 204.02149 \nL 219.804447 204.02149 \nL 219.804447 174.750721 \n\" style=\"fill:#a9373b;stroke:#ffffff;stroke-width:0.5;\"/>\n    <path clip-path=\"url(#p0d77c3625b)\" d=\"M 254.142909 174.750721 \nL 288.48137 174.750721 \nL 288.48137 204.02149 \nL 254.142909 204.02149 \nL 254.142909 174.750721 \n\" style=\"fill:#a9373b;stroke:#ffffff;stroke-width:0.5;\"/>\n    <path clip-path=\"url(#p0d77c3625b)\" d=\"M 288.48137 174.750721 \nL 322.819832 174.750721 \nL 322.819832 204.02149 \nL 288.48137 204.02149 \nL 288.48137 174.750721 \n\" style=\"fill:#2369bd;stroke:#ffffff;stroke-width:0.5;\"/>\n    <path clip-path=\"url(#p0d77c3625b)\" d=\"M 322.819832 174.750721 \nL 357.158293 174.750721 \nL 357.158293 204.02149 \nL 322.819832 204.02149 \nL 322.819832 174.750721 \n\" style=\"fill:#a9373b;stroke:#ffffff;stroke-width:0.5;\"/>\n    <path clip-path=\"url(#p0d77c3625b)\" d=\"M 357.158293 174.750721 \nL 391.496755 174.750721 \nL 391.496755 204.02149 \nL 357.158293 204.02149 \nL 357.158293 174.750721 \n\" style=\"fill:#a9373b;stroke:#ffffff;stroke-width:0.5;\"/>\n    <path clip-path=\"url(#p0d77c3625b)\" d=\"M 391.496755 174.750721 \nL 425.835216 174.750721 \nL 425.835216 204.02149 \nL 391.496755 204.02149 \nL 391.496755 174.750721 \n\" style=\"fill:#a9373b;stroke:#ffffff;stroke-width:0.5;\"/>\n    <path clip-path=\"url(#p0d77c3625b)\" d=\"M 425.835216 174.750721 \nL 460.173678 174.750721 \nL 460.173678 204.02149 \nL 425.835216 204.02149 \nL 425.835216 174.750721 \n\" style=\"fill:#a9373b;stroke:#ffffff;stroke-width:0.5;\"/>\n    <path clip-path=\"url(#p0d77c3625b)\" d=\"M 460.173678 174.750721 \nL 494.512139 174.750721 \nL 494.512139 204.02149 \nL 460.173678 204.02149 \nL 460.173678 174.750721 \n\" style=\"fill:#a9373b;stroke:#ffffff;stroke-width:0.5;\"/>\n    <path clip-path=\"url(#p0d77c3625b)\" d=\"M 494.512139 174.750721 \nL 528.850601 174.750721 \nL 528.850601 204.02149 \nL 494.512139 204.02149 \nL 494.512139 174.750721 \n\" style=\"fill:#a9373b;stroke:#ffffff;stroke-width:0.5;\"/>\n    <path clip-path=\"url(#p0d77c3625b)\" d=\"M 528.850601 174.750721 \nL 563.189063 174.750721 \nL 563.189063 204.02149 \nL 528.850601 204.02149 \nL 528.850601 174.750721 \n\" style=\"fill:#a9373b;stroke:#ffffff;stroke-width:0.5;\"/>\n    <path clip-path=\"url(#p0d77c3625b)\" d=\"M 116.789062 204.02149 \nL 151.127524 204.02149 \nL 151.127524 233.29226 \nL 116.789062 233.29226 \nL 116.789062 204.02149 \n\" style=\"fill:#a9373b;stroke:#ffffff;stroke-width:0.5;\"/>\n    <path clip-path=\"url(#p0d77c3625b)\" d=\"M 151.127524 204.02149 \nL 185.465986 204.02149 \nL 185.465986 233.29226 \nL 151.127524 233.29226 \nL 151.127524 204.02149 \n\" style=\"fill:#a9373b;stroke:#ffffff;stroke-width:0.5;\"/>\n    <path clip-path=\"url(#p0d77c3625b)\" d=\"M 185.465986 204.02149 \nL 219.804447 204.02149 \nL 219.804447 233.29226 \nL 185.465986 233.29226 \nL 185.465986 204.02149 \n\" style=\"fill:#a9373b;stroke:#ffffff;stroke-width:0.5;\"/>\n    <path clip-path=\"url(#p0d77c3625b)\" d=\"M 219.804447 204.02149 \nL 254.142909 204.02149 \nL 254.142909 233.29226 \nL 219.804447 233.29226 \nL 219.804447 204.02149 \n\" style=\"fill:#a9373b;stroke:#ffffff;stroke-width:0.5;\"/>\n    <path clip-path=\"url(#p0d77c3625b)\" d=\"M 254.142909 204.02149 \nL 288.48137 204.02149 \nL 288.48137 233.29226 \nL 254.142909 233.29226 \nL 254.142909 204.02149 \n\" style=\"fill:#a9373b;stroke:#ffffff;stroke-width:0.5;\"/>\n    <path clip-path=\"url(#p0d77c3625b)\" d=\"M 288.48137 204.02149 \nL 322.819832 204.02149 \nL 322.819832 233.29226 \nL 288.48137 233.29226 \nL 288.48137 204.02149 \n\" style=\"fill:#a9373b;stroke:#ffffff;stroke-width:0.5;\"/>\n    <path clip-path=\"url(#p0d77c3625b)\" d=\"M 322.819832 204.02149 \nL 357.158293 204.02149 \nL 357.158293 233.29226 \nL 322.819832 233.29226 \nL 322.819832 204.02149 \n\" style=\"fill:#2369bd;stroke:#ffffff;stroke-width:0.5;\"/>\n    <path clip-path=\"url(#p0d77c3625b)\" d=\"M 357.158293 204.02149 \nL 391.496755 204.02149 \nL 391.496755 233.29226 \nL 357.158293 233.29226 \nL 357.158293 204.02149 \n\" style=\"fill:#a9373b;stroke:#ffffff;stroke-width:0.5;\"/>\n    <path clip-path=\"url(#p0d77c3625b)\" d=\"M 391.496755 204.02149 \nL 425.835216 204.02149 \nL 425.835216 233.29226 \nL 391.496755 233.29226 \nL 391.496755 204.02149 \n\" style=\"fill:#a9373b;stroke:#ffffff;stroke-width:0.5;\"/>\n    <path clip-path=\"url(#p0d77c3625b)\" d=\"M 425.835216 204.02149 \nL 460.173678 204.02149 \nL 460.173678 233.29226 \nL 425.835216 233.29226 \nL 425.835216 204.02149 \n\" style=\"fill:#a9373b;stroke:#ffffff;stroke-width:0.5;\"/>\n    <path clip-path=\"url(#p0d77c3625b)\" d=\"M 460.173678 204.02149 \nL 494.512139 204.02149 \nL 494.512139 233.29226 \nL 460.173678 233.29226 \nL 460.173678 204.02149 \n\" style=\"fill:#a9373b;stroke:#ffffff;stroke-width:0.5;\"/>\n    <path clip-path=\"url(#p0d77c3625b)\" d=\"M 494.512139 204.02149 \nL 528.850601 204.02149 \nL 528.850601 233.29226 \nL 494.512139 233.29226 \nL 494.512139 204.02149 \n\" style=\"fill:#a9373b;stroke:#ffffff;stroke-width:0.5;\"/>\n    <path clip-path=\"url(#p0d77c3625b)\" d=\"M 528.850601 204.02149 \nL 563.189063 204.02149 \nL 563.189063 233.29226 \nL 528.850601 233.29226 \nL 528.850601 204.02149 \n\" style=\"fill:#a9373b;stroke:#ffffff;stroke-width:0.5;\"/>\n    <path clip-path=\"url(#p0d77c3625b)\" d=\"M 116.789062 233.29226 \nL 151.127524 233.29226 \nL 151.127524 262.563029 \nL 116.789062 262.563029 \nL 116.789062 233.29226 \n\" style=\"fill:#a9373b;stroke:#ffffff;stroke-width:0.5;\"/>\n    <path clip-path=\"url(#p0d77c3625b)\" d=\"M 151.127524 233.29226 \nL 185.465986 233.29226 \nL 185.465986 262.563029 \nL 151.127524 262.563029 \nL 151.127524 233.29226 \n\" style=\"fill:#a9373b;stroke:#ffffff;stroke-width:0.5;\"/>\n    <path clip-path=\"url(#p0d77c3625b)\" d=\"M 185.465986 233.29226 \nL 219.804447 233.29226 \nL 219.804447 262.563029 \nL 185.465986 262.563029 \nL 185.465986 233.29226 \n\" style=\"fill:#a9373b;stroke:#ffffff;stroke-width:0.5;\"/>\n    <path clip-path=\"url(#p0d77c3625b)\" d=\"M 219.804447 233.29226 \nL 254.142909 233.29226 \nL 254.142909 262.563029 \nL 219.804447 262.563029 \nL 219.804447 233.29226 \n\" style=\"fill:#a9373b;stroke:#ffffff;stroke-width:0.5;\"/>\n    <path clip-path=\"url(#p0d77c3625b)\" d=\"M 254.142909 233.29226 \nL 288.48137 233.29226 \nL 288.48137 262.563029 \nL 254.142909 262.563029 \nL 254.142909 233.29226 \n\" style=\"fill:#a9373b;stroke:#ffffff;stroke-width:0.5;\"/>\n    <path clip-path=\"url(#p0d77c3625b)\" d=\"M 288.48137 233.29226 \nL 322.819832 233.29226 \nL 322.819832 262.563029 \nL 288.48137 262.563029 \nL 288.48137 233.29226 \n\" style=\"fill:#a9373b;stroke:#ffffff;stroke-width:0.5;\"/>\n    <path clip-path=\"url(#p0d77c3625b)\" d=\"M 322.819832 233.29226 \nL 357.158293 233.29226 \nL 357.158293 262.563029 \nL 322.819832 262.563029 \nL 322.819832 233.29226 \n\" style=\"fill:#a9373b;stroke:#ffffff;stroke-width:0.5;\"/>\n    <path clip-path=\"url(#p0d77c3625b)\" d=\"M 357.158293 233.29226 \nL 391.496755 233.29226 \nL 391.496755 262.563029 \nL 357.158293 262.563029 \nL 357.158293 233.29226 \n\" style=\"fill:#2369bd;stroke:#ffffff;stroke-width:0.5;\"/>\n    <path clip-path=\"url(#p0d77c3625b)\" d=\"M 391.496755 233.29226 \nL 425.835216 233.29226 \nL 425.835216 262.563029 \nL 391.496755 262.563029 \nL 391.496755 233.29226 \n\" style=\"fill:#a9373b;stroke:#ffffff;stroke-width:0.5;\"/>\n    <path clip-path=\"url(#p0d77c3625b)\" d=\"M 425.835216 233.29226 \nL 460.173678 233.29226 \nL 460.173678 262.563029 \nL 425.835216 262.563029 \nL 425.835216 233.29226 \n\" style=\"fill:#a9373b;stroke:#ffffff;stroke-width:0.5;\"/>\n    <path clip-path=\"url(#p0d77c3625b)\" d=\"M 460.173678 233.29226 \nL 494.512139 233.29226 \nL 494.512139 262.563029 \nL 460.173678 262.563029 \nL 460.173678 233.29226 \n\" style=\"fill:#a9373b;stroke:#ffffff;stroke-width:0.5;\"/>\n    <path clip-path=\"url(#p0d77c3625b)\" d=\"M 494.512139 233.29226 \nL 528.850601 233.29226 \nL 528.850601 262.563029 \nL 494.512139 262.563029 \nL 494.512139 233.29226 \n\" style=\"fill:#a9373b;stroke:#ffffff;stroke-width:0.5;\"/>\n    <path clip-path=\"url(#p0d77c3625b)\" d=\"M 528.850601 233.29226 \nL 563.189063 233.29226 \nL 563.189063 262.563029 \nL 528.850601 262.563029 \nL 528.850601 233.29226 \n\" style=\"fill:#a9373b;stroke:#ffffff;stroke-width:0.5;\"/>\n    <path clip-path=\"url(#p0d77c3625b)\" d=\"M 116.789062 262.563029 \nL 151.127524 262.563029 \nL 151.127524 291.833798 \nL 116.789062 291.833798 \nL 116.789062 262.563029 \n\" style=\"fill:#a9373b;stroke:#ffffff;stroke-width:0.5;\"/>\n    <path clip-path=\"url(#p0d77c3625b)\" d=\"M 151.127524 262.563029 \nL 185.465986 262.563029 \nL 185.465986 291.833798 \nL 151.127524 291.833798 \nL 151.127524 262.563029 \n\" style=\"fill:#a9373b;stroke:#ffffff;stroke-width:0.5;\"/>\n    <path clip-path=\"url(#p0d77c3625b)\" d=\"M 185.465986 262.563029 \nL 219.804447 262.563029 \nL 219.804447 291.833798 \nL 185.465986 291.833798 \nL 185.465986 262.563029 \n\" style=\"fill:#a9373b;stroke:#ffffff;stroke-width:0.5;\"/>\n    <path clip-path=\"url(#p0d77c3625b)\" d=\"M 219.804447 262.563029 \nL 254.142909 262.563029 \nL 254.142909 291.833798 \nL 219.804447 291.833798 \nL 219.804447 262.563029 \n\" style=\"fill:#a9373b;stroke:#ffffff;stroke-width:0.5;\"/>\n    <path clip-path=\"url(#p0d77c3625b)\" d=\"M 254.142909 262.563029 \nL 288.48137 262.563029 \nL 288.48137 291.833798 \nL 254.142909 291.833798 \nL 254.142909 262.563029 \n\" style=\"fill:#a9373b;stroke:#ffffff;stroke-width:0.5;\"/>\n    <path clip-path=\"url(#p0d77c3625b)\" d=\"M 288.48137 262.563029 \nL 322.819832 262.563029 \nL 322.819832 291.833798 \nL 288.48137 291.833798 \nL 288.48137 262.563029 \n\" style=\"fill:#a9373b;stroke:#ffffff;stroke-width:0.5;\"/>\n    <path clip-path=\"url(#p0d77c3625b)\" d=\"M 322.819832 262.563029 \nL 357.158293 262.563029 \nL 357.158293 291.833798 \nL 322.819832 291.833798 \nL 322.819832 262.563029 \n\" style=\"fill:#a9373b;stroke:#ffffff;stroke-width:0.5;\"/>\n    <path clip-path=\"url(#p0d77c3625b)\" d=\"M 357.158293 262.563029 \nL 391.496755 262.563029 \nL 391.496755 291.833798 \nL 357.158293 291.833798 \nL 357.158293 262.563029 \n\" style=\"fill:#a9373b;stroke:#ffffff;stroke-width:0.5;\"/>\n    <path clip-path=\"url(#p0d77c3625b)\" d=\"M 391.496755 262.563029 \nL 425.835216 262.563029 \nL 425.835216 291.833798 \nL 391.496755 291.833798 \nL 391.496755 262.563029 \n\" style=\"fill:#2369bd;stroke:#ffffff;stroke-width:0.5;\"/>\n    <path clip-path=\"url(#p0d77c3625b)\" d=\"M 425.835216 262.563029 \nL 460.173678 262.563029 \nL 460.173678 291.833798 \nL 425.835216 291.833798 \nL 425.835216 262.563029 \n\" style=\"fill:#a9373b;stroke:#ffffff;stroke-width:0.5;\"/>\n    <path clip-path=\"url(#p0d77c3625b)\" d=\"M 460.173678 262.563029 \nL 494.512139 262.563029 \nL 494.512139 291.833798 \nL 460.173678 291.833798 \nL 460.173678 262.563029 \n\" style=\"fill:#a9373b;stroke:#ffffff;stroke-width:0.5;\"/>\n    <path clip-path=\"url(#p0d77c3625b)\" d=\"M 494.512139 262.563029 \nL 528.850601 262.563029 \nL 528.850601 291.833798 \nL 494.512139 291.833798 \nL 494.512139 262.563029 \n\" style=\"fill:#a9373b;stroke:#ffffff;stroke-width:0.5;\"/>\n    <path clip-path=\"url(#p0d77c3625b)\" d=\"M 528.850601 262.563029 \nL 563.189063 262.563029 \nL 563.189063 291.833798 \nL 528.850601 291.833798 \nL 528.850601 262.563029 \n\" style=\"fill:#a9373b;stroke:#ffffff;stroke-width:0.5;\"/>\n    <path clip-path=\"url(#p0d77c3625b)\" d=\"M 116.789062 291.833798 \nL 151.127524 291.833798 \nL 151.127524 321.104567 \nL 116.789062 321.104567 \nL 116.789062 291.833798 \n\" style=\"fill:#a9373b;stroke:#ffffff;stroke-width:0.5;\"/>\n    <path clip-path=\"url(#p0d77c3625b)\" d=\"M 151.127524 291.833798 \nL 185.465986 291.833798 \nL 185.465986 321.104567 \nL 151.127524 321.104567 \nL 151.127524 291.833798 \n\" style=\"fill:#a9373b;stroke:#ffffff;stroke-width:0.5;\"/>\n    <path clip-path=\"url(#p0d77c3625b)\" d=\"M 185.465986 291.833798 \nL 219.804447 291.833798 \nL 219.804447 321.104567 \nL 185.465986 321.104567 \nL 185.465986 291.833798 \n\" style=\"fill:#a9373b;stroke:#ffffff;stroke-width:0.5;\"/>\n    <path clip-path=\"url(#p0d77c3625b)\" d=\"M 219.804447 291.833798 \nL 254.142909 291.833798 \nL 254.142909 321.104567 \nL 219.804447 321.104567 \nL 219.804447 291.833798 \n\" style=\"fill:#a9373b;stroke:#ffffff;stroke-width:0.5;\"/>\n    <path clip-path=\"url(#p0d77c3625b)\" d=\"M 254.142909 291.833798 \nL 288.48137 291.833798 \nL 288.48137 321.104567 \nL 254.142909 321.104567 \nL 254.142909 291.833798 \n\" style=\"fill:#a9373b;stroke:#ffffff;stroke-width:0.5;\"/>\n    <path clip-path=\"url(#p0d77c3625b)\" d=\"M 288.48137 291.833798 \nL 322.819832 291.833798 \nL 322.819832 321.104567 \nL 288.48137 321.104567 \nL 288.48137 291.833798 \n\" style=\"fill:#a9373b;stroke:#ffffff;stroke-width:0.5;\"/>\n    <path clip-path=\"url(#p0d77c3625b)\" d=\"M 322.819832 291.833798 \nL 357.158293 291.833798 \nL 357.158293 321.104567 \nL 322.819832 321.104567 \nL 322.819832 291.833798 \n\" style=\"fill:#a9373b;stroke:#ffffff;stroke-width:0.5;\"/>\n    <path clip-path=\"url(#p0d77c3625b)\" d=\"M 357.158293 291.833798 \nL 391.496755 291.833798 \nL 391.496755 321.104567 \nL 357.158293 321.104567 \nL 357.158293 291.833798 \n\" style=\"fill:#a9373b;stroke:#ffffff;stroke-width:0.5;\"/>\n    <path clip-path=\"url(#p0d77c3625b)\" d=\"M 391.496755 291.833798 \nL 425.835216 291.833798 \nL 425.835216 321.104567 \nL 391.496755 321.104567 \nL 391.496755 291.833798 \n\" style=\"fill:#a9373b;stroke:#ffffff;stroke-width:0.5;\"/>\n    <path clip-path=\"url(#p0d77c3625b)\" d=\"M 425.835216 291.833798 \nL 460.173678 291.833798 \nL 460.173678 321.104567 \nL 425.835216 321.104567 \nL 425.835216 291.833798 \n\" style=\"fill:#2369bd;stroke:#ffffff;stroke-width:0.5;\"/>\n    <path clip-path=\"url(#p0d77c3625b)\" d=\"M 460.173678 291.833798 \nL 494.512139 291.833798 \nL 494.512139 321.104567 \nL 460.173678 321.104567 \nL 460.173678 291.833798 \n\" style=\"fill:#a9373b;stroke:#ffffff;stroke-width:0.5;\"/>\n    <path clip-path=\"url(#p0d77c3625b)\" d=\"M 494.512139 291.833798 \nL 528.850601 291.833798 \nL 528.850601 321.104567 \nL 494.512139 321.104567 \nL 494.512139 291.833798 \n\" style=\"fill:#a9373b;stroke:#ffffff;stroke-width:0.5;\"/>\n    <path clip-path=\"url(#p0d77c3625b)\" d=\"M 528.850601 291.833798 \nL 563.189063 291.833798 \nL 563.189063 321.104567 \nL 528.850601 321.104567 \nL 528.850601 291.833798 \n\" style=\"fill:#a9373b;stroke:#ffffff;stroke-width:0.5;\"/>\n    <path clip-path=\"url(#p0d77c3625b)\" d=\"M 116.789062 321.104567 \nL 151.127524 321.104567 \nL 151.127524 350.375337 \nL 116.789062 350.375337 \nL 116.789062 321.104567 \n\" style=\"fill:#a9373b;stroke:#ffffff;stroke-width:0.5;\"/>\n    <path clip-path=\"url(#p0d77c3625b)\" d=\"M 151.127524 321.104567 \nL 185.465986 321.104567 \nL 185.465986 350.375337 \nL 151.127524 350.375337 \nL 151.127524 321.104567 \n\" style=\"fill:#a9373b;stroke:#ffffff;stroke-width:0.5;\"/>\n    <path clip-path=\"url(#p0d77c3625b)\" d=\"M 185.465986 321.104567 \nL 219.804447 321.104567 \nL 219.804447 350.375337 \nL 185.465986 350.375337 \nL 185.465986 321.104567 \n\" style=\"fill:#a9373b;stroke:#ffffff;stroke-width:0.5;\"/>\n    <path clip-path=\"url(#p0d77c3625b)\" d=\"M 219.804447 321.104567 \nL 254.142909 321.104567 \nL 254.142909 350.375337 \nL 219.804447 350.375337 \nL 219.804447 321.104567 \n\" style=\"fill:#a9373b;stroke:#ffffff;stroke-width:0.5;\"/>\n    <path clip-path=\"url(#p0d77c3625b)\" d=\"M 254.142909 321.104567 \nL 288.48137 321.104567 \nL 288.48137 350.375337 \nL 254.142909 350.375337 \nL 254.142909 321.104567 \n\" style=\"fill:#a9373b;stroke:#ffffff;stroke-width:0.5;\"/>\n    <path clip-path=\"url(#p0d77c3625b)\" d=\"M 288.48137 321.104567 \nL 322.819832 321.104567 \nL 322.819832 350.375337 \nL 288.48137 350.375337 \nL 288.48137 321.104567 \n\" style=\"fill:#a9373b;stroke:#ffffff;stroke-width:0.5;\"/>\n    <path clip-path=\"url(#p0d77c3625b)\" d=\"M 322.819832 321.104567 \nL 357.158293 321.104567 \nL 357.158293 350.375337 \nL 322.819832 350.375337 \nL 322.819832 321.104567 \n\" style=\"fill:#a9373b;stroke:#ffffff;stroke-width:0.5;\"/>\n    <path clip-path=\"url(#p0d77c3625b)\" d=\"M 357.158293 321.104567 \nL 391.496755 321.104567 \nL 391.496755 350.375337 \nL 357.158293 350.375337 \nL 357.158293 321.104567 \n\" style=\"fill:#a9373b;stroke:#ffffff;stroke-width:0.5;\"/>\n    <path clip-path=\"url(#p0d77c3625b)\" d=\"M 391.496755 321.104567 \nL 425.835216 321.104567 \nL 425.835216 350.375337 \nL 391.496755 350.375337 \nL 391.496755 321.104567 \n\" style=\"fill:#a9373b;stroke:#ffffff;stroke-width:0.5;\"/>\n    <path clip-path=\"url(#p0d77c3625b)\" d=\"M 425.835216 321.104567 \nL 460.173678 321.104567 \nL 460.173678 350.375337 \nL 425.835216 350.375337 \nL 425.835216 321.104567 \n\" style=\"fill:#a9373b;stroke:#ffffff;stroke-width:0.5;\"/>\n    <path clip-path=\"url(#p0d77c3625b)\" d=\"M 460.173678 321.104567 \nL 494.512139 321.104567 \nL 494.512139 350.375337 \nL 460.173678 350.375337 \nL 460.173678 321.104567 \n\" style=\"fill:#2369bd;stroke:#ffffff;stroke-width:0.5;\"/>\n    <path clip-path=\"url(#p0d77c3625b)\" d=\"M 494.512139 321.104567 \nL 528.850601 321.104567 \nL 528.850601 350.375337 \nL 494.512139 350.375337 \nL 494.512139 321.104567 \n\" style=\"fill:#a9373b;stroke:#ffffff;stroke-width:0.5;\"/>\n    <path clip-path=\"url(#p0d77c3625b)\" d=\"M 528.850601 321.104567 \nL 563.189063 321.104567 \nL 563.189063 350.375337 \nL 528.850601 350.375337 \nL 528.850601 321.104567 \n\" style=\"fill:#a9373b;stroke:#ffffff;stroke-width:0.5;\"/>\n    <path clip-path=\"url(#p0d77c3625b)\" d=\"M 116.789062 350.375337 \nL 151.127524 350.375337 \nL 151.127524 379.646106 \nL 116.789062 379.646106 \nL 116.789062 350.375337 \n\" style=\"fill:#a9373b;stroke:#ffffff;stroke-width:0.5;\"/>\n    <path clip-path=\"url(#p0d77c3625b)\" d=\"M 151.127524 350.375337 \nL 185.465986 350.375337 \nL 185.465986 379.646106 \nL 151.127524 379.646106 \nL 151.127524 350.375337 \n\" style=\"fill:#a9373b;stroke:#ffffff;stroke-width:0.5;\"/>\n    <path clip-path=\"url(#p0d77c3625b)\" d=\"M 185.465986 350.375337 \nL 219.804447 350.375337 \nL 219.804447 379.646106 \nL 185.465986 379.646106 \nL 185.465986 350.375337 \n\" style=\"fill:#a9373b;stroke:#ffffff;stroke-width:0.5;\"/>\n    <path clip-path=\"url(#p0d77c3625b)\" d=\"M 219.804447 350.375337 \nL 254.142909 350.375337 \nL 254.142909 379.646106 \nL 219.804447 379.646106 \nL 219.804447 350.375337 \n\" style=\"fill:#a3b4cd;stroke:#ffffff;stroke-width:0.5;\"/>\n    <path clip-path=\"url(#p0d77c3625b)\" d=\"M 254.142909 350.375337 \nL 288.48137 350.375337 \nL 288.48137 379.646106 \nL 254.142909 379.646106 \nL 254.142909 350.375337 \n\" style=\"fill:#97abc9;stroke:#ffffff;stroke-width:0.5;\"/>\n    <path clip-path=\"url(#p0d77c3625b)\" d=\"M 288.48137 350.375337 \nL 322.819832 350.375337 \nL 322.819832 379.646106 \nL 288.48137 379.646106 \nL 288.48137 350.375337 \n\" style=\"fill:#a9373b;stroke:#ffffff;stroke-width:0.5;\"/>\n    <path clip-path=\"url(#p0d77c3625b)\" d=\"M 322.819832 350.375337 \nL 357.158293 350.375337 \nL 357.158293 379.646106 \nL 322.819832 379.646106 \nL 322.819832 350.375337 \n\" style=\"fill:#a9373b;stroke:#ffffff;stroke-width:0.5;\"/>\n    <path clip-path=\"url(#p0d77c3625b)\" d=\"M 357.158293 350.375337 \nL 391.496755 350.375337 \nL 391.496755 379.646106 \nL 357.158293 379.646106 \nL 357.158293 350.375337 \n\" style=\"fill:#a9373b;stroke:#ffffff;stroke-width:0.5;\"/>\n    <path clip-path=\"url(#p0d77c3625b)\" d=\"M 391.496755 350.375337 \nL 425.835216 350.375337 \nL 425.835216 379.646106 \nL 391.496755 379.646106 \nL 391.496755 350.375337 \n\" style=\"fill:#a9373b;stroke:#ffffff;stroke-width:0.5;\"/>\n    <path clip-path=\"url(#p0d77c3625b)\" d=\"M 425.835216 350.375337 \nL 460.173678 350.375337 \nL 460.173678 379.646106 \nL 425.835216 379.646106 \nL 425.835216 350.375337 \n\" style=\"fill:#a9373b;stroke:#ffffff;stroke-width:0.5;\"/>\n    <path clip-path=\"url(#p0d77c3625b)\" d=\"M 460.173678 350.375337 \nL 494.512139 350.375337 \nL 494.512139 379.646106 \nL 460.173678 379.646106 \nL 460.173678 350.375337 \n\" style=\"fill:#a9373b;stroke:#ffffff;stroke-width:0.5;\"/>\n    <path clip-path=\"url(#p0d77c3625b)\" d=\"M 494.512139 350.375337 \nL 528.850601 350.375337 \nL 528.850601 379.646106 \nL 494.512139 379.646106 \nL 494.512139 350.375337 \n\" style=\"fill:#2369bd;stroke:#ffffff;stroke-width:0.5;\"/>\n    <path clip-path=\"url(#p0d77c3625b)\" d=\"M 528.850601 350.375337 \nL 563.189063 350.375337 \nL 563.189063 379.646106 \nL 528.850601 379.646106 \nL 528.850601 350.375337 \n\" style=\"fill:#a9373b;stroke:#ffffff;stroke-width:0.5;\"/>\n    <path clip-path=\"url(#p0d77c3625b)\" d=\"M 116.789062 379.646106 \nL 151.127524 379.646106 \nL 151.127524 408.916875 \nL 116.789062 408.916875 \nL 116.789062 379.646106 \n\" style=\"fill:#a9373b;stroke:#ffffff;stroke-width:0.5;\"/>\n    <path clip-path=\"url(#p0d77c3625b)\" d=\"M 151.127524 379.646106 \nL 185.465986 379.646106 \nL 185.465986 408.916875 \nL 151.127524 408.916875 \nL 151.127524 379.646106 \n\" style=\"fill:#a9373b;stroke:#ffffff;stroke-width:0.5;\"/>\n    <path clip-path=\"url(#p0d77c3625b)\" d=\"M 185.465986 379.646106 \nL 219.804447 379.646106 \nL 219.804447 408.916875 \nL 185.465986 408.916875 \nL 185.465986 379.646106 \n\" style=\"fill:#a9373b;stroke:#ffffff;stroke-width:0.5;\"/>\n    <path clip-path=\"url(#p0d77c3625b)\" d=\"M 219.804447 379.646106 \nL 254.142909 379.646106 \nL 254.142909 408.916875 \nL 219.804447 408.916875 \nL 219.804447 379.646106 \n\" style=\"fill:#a9373b;stroke:#ffffff;stroke-width:0.5;\"/>\n    <path clip-path=\"url(#p0d77c3625b)\" d=\"M 254.142909 379.646106 \nL 288.48137 379.646106 \nL 288.48137 408.916875 \nL 254.142909 408.916875 \nL 254.142909 379.646106 \n\" style=\"fill:#a9373b;stroke:#ffffff;stroke-width:0.5;\"/>\n    <path clip-path=\"url(#p0d77c3625b)\" d=\"M 288.48137 379.646106 \nL 322.819832 379.646106 \nL 322.819832 408.916875 \nL 288.48137 408.916875 \nL 288.48137 379.646106 \n\" style=\"fill:#a9373b;stroke:#ffffff;stroke-width:0.5;\"/>\n    <path clip-path=\"url(#p0d77c3625b)\" d=\"M 322.819832 379.646106 \nL 357.158293 379.646106 \nL 357.158293 408.916875 \nL 322.819832 408.916875 \nL 322.819832 379.646106 \n\" style=\"fill:#a9373b;stroke:#ffffff;stroke-width:0.5;\"/>\n    <path clip-path=\"url(#p0d77c3625b)\" d=\"M 357.158293 379.646106 \nL 391.496755 379.646106 \nL 391.496755 408.916875 \nL 357.158293 408.916875 \nL 357.158293 379.646106 \n\" style=\"fill:#a9373b;stroke:#ffffff;stroke-width:0.5;\"/>\n    <path clip-path=\"url(#p0d77c3625b)\" d=\"M 391.496755 379.646106 \nL 425.835216 379.646106 \nL 425.835216 408.916875 \nL 391.496755 408.916875 \nL 391.496755 379.646106 \n\" style=\"fill:#a9373b;stroke:#ffffff;stroke-width:0.5;\"/>\n    <path clip-path=\"url(#p0d77c3625b)\" d=\"M 425.835216 379.646106 \nL 460.173678 379.646106 \nL 460.173678 408.916875 \nL 425.835216 408.916875 \nL 425.835216 379.646106 \n\" style=\"fill:#a9373b;stroke:#ffffff;stroke-width:0.5;\"/>\n    <path clip-path=\"url(#p0d77c3625b)\" d=\"M 460.173678 379.646106 \nL 494.512139 379.646106 \nL 494.512139 408.916875 \nL 460.173678 408.916875 \nL 460.173678 379.646106 \n\" style=\"fill:#a9373b;stroke:#ffffff;stroke-width:0.5;\"/>\n    <path clip-path=\"url(#p0d77c3625b)\" d=\"M 494.512139 379.646106 \nL 528.850601 379.646106 \nL 528.850601 408.916875 \nL 494.512139 408.916875 \nL 494.512139 379.646106 \n\" style=\"fill:#a9373b;stroke:#ffffff;stroke-width:0.5;\"/>\n    <path clip-path=\"url(#p0d77c3625b)\" d=\"M 528.850601 379.646106 \nL 563.189063 379.646106 \nL 563.189063 408.916875 \nL 528.850601 408.916875 \nL 528.850601 379.646106 \n\" style=\"fill:#2369bd;stroke:#ffffff;stroke-width:0.5;\"/>\n   </g>\n   <g id=\"matplotlib.axis_1\">\n    <g id=\"xtick_1\">\n     <g id=\"line2d_1\">\n      <defs>\n       <path d=\"M 0 0 \nL 0 3.5 \n\" id=\"ma0a01254a5\" style=\"stroke:#000000;stroke-width:0.8;\"/>\n      </defs>\n      <g>\n       <use style=\"stroke:#000000;stroke-width:0.8;\" x=\"133.958293\" xlink:href=\"#ma0a01254a5\" y=\"408.916875\"/>\n      </g>\n     </g>\n     <g id=\"text_1\">\n      <!-- Id -->\n      <defs>\n       <path d=\"M 9.8125 72.90625 \nL 19.671875 72.90625 \nL 19.671875 0 \nL 9.8125 0 \nz\n\" id=\"DejaVuSans-73\"/>\n       <path d=\"M 45.40625 46.390625 \nL 45.40625 75.984375 \nL 54.390625 75.984375 \nL 54.390625 0 \nL 45.40625 0 \nL 45.40625 8.203125 \nQ 42.578125 3.328125 38.25 0.953125 \nQ 33.9375 -1.421875 27.875 -1.421875 \nQ 17.96875 -1.421875 11.734375 6.484375 \nQ 5.515625 14.40625 5.515625 27.296875 \nQ 5.515625 40.1875 11.734375 48.09375 \nQ 17.96875 56 27.875 56 \nQ 33.9375 56 38.25 53.625 \nQ 42.578125 51.265625 45.40625 46.390625 \nz\nM 14.796875 27.296875 \nQ 14.796875 17.390625 18.875 11.75 \nQ 22.953125 6.109375 30.078125 6.109375 \nQ 37.203125 6.109375 41.296875 11.75 \nQ 45.40625 17.390625 45.40625 27.296875 \nQ 45.40625 37.203125 41.296875 42.84375 \nQ 37.203125 48.484375 30.078125 48.484375 \nQ 22.953125 48.484375 18.875 42.84375 \nQ 14.796875 37.203125 14.796875 27.296875 \nz\n\" id=\"DejaVuSans-100\"/>\n      </defs>\n      <g transform=\"translate(136.717668 425.215312)rotate(-90)scale(0.1 -0.1)\">\n       <use xlink:href=\"#DejaVuSans-73\"/>\n       <use x=\"29.492188\" xlink:href=\"#DejaVuSans-100\"/>\n      </g>\n     </g>\n    </g>\n    <g id=\"xtick_2\">\n     <g id=\"line2d_2\">\n      <g>\n       <use style=\"stroke:#000000;stroke-width:0.8;\" x=\"168.296755\" xlink:href=\"#ma0a01254a5\" y=\"408.916875\"/>\n      </g>\n     </g>\n     <g id=\"text_2\">\n      <!-- age -->\n      <defs>\n       <path d=\"M 34.28125 27.484375 \nQ 23.390625 27.484375 19.1875 25 \nQ 14.984375 22.515625 14.984375 16.5 \nQ 14.984375 11.71875 18.140625 8.90625 \nQ 21.296875 6.109375 26.703125 6.109375 \nQ 34.1875 6.109375 38.703125 11.40625 \nQ 43.21875 16.703125 43.21875 25.484375 \nL 43.21875 27.484375 \nz\nM 52.203125 31.203125 \nL 52.203125 0 \nL 43.21875 0 \nL 43.21875 8.296875 \nQ 40.140625 3.328125 35.546875 0.953125 \nQ 30.953125 -1.421875 24.3125 -1.421875 \nQ 15.921875 -1.421875 10.953125 3.296875 \nQ 6 8.015625 6 15.921875 \nQ 6 25.140625 12.171875 29.828125 \nQ 18.359375 34.515625 30.609375 34.515625 \nL 43.21875 34.515625 \nL 43.21875 35.40625 \nQ 43.21875 41.609375 39.140625 45 \nQ 35.0625 48.390625 27.6875 48.390625 \nQ 23 48.390625 18.546875 47.265625 \nQ 14.109375 46.140625 10.015625 43.890625 \nL 10.015625 52.203125 \nQ 14.9375 54.109375 19.578125 55.046875 \nQ 24.21875 56 28.609375 56 \nQ 40.484375 56 46.34375 49.84375 \nQ 52.203125 43.703125 52.203125 31.203125 \nz\n\" id=\"DejaVuSans-97\"/>\n       <path d=\"M 45.40625 27.984375 \nQ 45.40625 37.75 41.375 43.109375 \nQ 37.359375 48.484375 30.078125 48.484375 \nQ 22.859375 48.484375 18.828125 43.109375 \nQ 14.796875 37.75 14.796875 27.984375 \nQ 14.796875 18.265625 18.828125 12.890625 \nQ 22.859375 7.515625 30.078125 7.515625 \nQ 37.359375 7.515625 41.375 12.890625 \nQ 45.40625 18.265625 45.40625 27.984375 \nz\nM 54.390625 6.78125 \nQ 54.390625 -7.171875 48.1875 -13.984375 \nQ 42 -20.796875 29.203125 -20.796875 \nQ 24.46875 -20.796875 20.265625 -20.09375 \nQ 16.0625 -19.390625 12.109375 -17.921875 \nL 12.109375 -9.1875 \nQ 16.0625 -11.328125 19.921875 -12.34375 \nQ 23.78125 -13.375 27.78125 -13.375 \nQ 36.625 -13.375 41.015625 -8.765625 \nQ 45.40625 -4.15625 45.40625 5.171875 \nL 45.40625 9.625 \nQ 42.625 4.78125 38.28125 2.390625 \nQ 33.9375 0 27.875 0 \nQ 17.828125 0 11.671875 7.65625 \nQ 5.515625 15.328125 5.515625 27.984375 \nQ 5.515625 40.671875 11.671875 48.328125 \nQ 17.828125 56 27.875 56 \nQ 33.9375 56 38.28125 53.609375 \nQ 42.625 51.21875 45.40625 46.390625 \nL 45.40625 54.6875 \nL 54.390625 54.6875 \nz\n\" id=\"DejaVuSans-103\"/>\n       <path d=\"M 56.203125 29.59375 \nL 56.203125 25.203125 \nL 14.890625 25.203125 \nQ 15.484375 15.921875 20.484375 11.0625 \nQ 25.484375 6.203125 34.421875 6.203125 \nQ 39.59375 6.203125 44.453125 7.46875 \nQ 49.3125 8.734375 54.109375 11.28125 \nL 54.109375 2.78125 \nQ 49.265625 0.734375 44.1875 -0.34375 \nQ 39.109375 -1.421875 33.890625 -1.421875 \nQ 20.796875 -1.421875 13.15625 6.1875 \nQ 5.515625 13.8125 5.515625 26.8125 \nQ 5.515625 40.234375 12.765625 48.109375 \nQ 20.015625 56 32.328125 56 \nQ 43.359375 56 49.78125 48.890625 \nQ 56.203125 41.796875 56.203125 29.59375 \nz\nM 47.21875 32.234375 \nQ 47.125 39.59375 43.09375 43.984375 \nQ 39.0625 48.390625 32.421875 48.390625 \nQ 24.90625 48.390625 20.390625 44.140625 \nQ 15.875 39.890625 15.1875 32.171875 \nz\n\" id=\"DejaVuSans-101\"/>\n      </defs>\n      <g transform=\"translate(171.05613 434.546562)rotate(-90)scale(0.1 -0.1)\">\n       <use xlink:href=\"#DejaVuSans-97\"/>\n       <use x=\"61.279297\" xlink:href=\"#DejaVuSans-103\"/>\n       <use x=\"124.755859\" xlink:href=\"#DejaVuSans-101\"/>\n      </g>\n     </g>\n    </g>\n    <g id=\"xtick_3\">\n     <g id=\"line2d_3\">\n      <g>\n       <use style=\"stroke:#000000;stroke-width:0.8;\" x=\"202.635216\" xlink:href=\"#ma0a01254a5\" y=\"408.916875\"/>\n      </g>\n     </g>\n     <g id=\"text_3\">\n      <!-- years_of_experience -->\n      <defs>\n       <path d=\"M 32.171875 -5.078125 \nQ 28.375 -14.84375 24.75 -17.8125 \nQ 21.140625 -20.796875 15.09375 -20.796875 \nL 7.90625 -20.796875 \nL 7.90625 -13.28125 \nL 13.1875 -13.28125 \nQ 16.890625 -13.28125 18.9375 -11.515625 \nQ 21 -9.765625 23.484375 -3.21875 \nL 25.09375 0.875 \nL 2.984375 54.6875 \nL 12.5 54.6875 \nL 29.59375 11.921875 \nL 46.6875 54.6875 \nL 56.203125 54.6875 \nz\n\" id=\"DejaVuSans-121\"/>\n       <path d=\"M 41.109375 46.296875 \nQ 39.59375 47.171875 37.8125 47.578125 \nQ 36.03125 48 33.890625 48 \nQ 26.265625 48 22.1875 43.046875 \nQ 18.109375 38.09375 18.109375 28.8125 \nL 18.109375 0 \nL 9.078125 0 \nL 9.078125 54.6875 \nL 18.109375 54.6875 \nL 18.109375 46.1875 \nQ 20.953125 51.171875 25.484375 53.578125 \nQ 30.03125 56 36.53125 56 \nQ 37.453125 56 38.578125 55.875 \nQ 39.703125 55.765625 41.0625 55.515625 \nz\n\" id=\"DejaVuSans-114\"/>\n       <path d=\"M 44.28125 53.078125 \nL 44.28125 44.578125 \nQ 40.484375 46.53125 36.375 47.5 \nQ 32.28125 48.484375 27.875 48.484375 \nQ 21.1875 48.484375 17.84375 46.4375 \nQ 14.5 44.390625 14.5 40.28125 \nQ 14.5 37.15625 16.890625 35.375 \nQ 19.28125 33.59375 26.515625 31.984375 \nL 29.59375 31.296875 \nQ 39.15625 29.25 43.1875 25.515625 \nQ 47.21875 21.78125 47.21875 15.09375 \nQ 47.21875 7.46875 41.1875 3.015625 \nQ 35.15625 -1.421875 24.609375 -1.421875 \nQ 20.21875 -1.421875 15.453125 -0.5625 \nQ 10.6875 0.296875 5.421875 2 \nL 5.421875 11.28125 \nQ 10.40625 8.6875 15.234375 7.390625 \nQ 20.0625 6.109375 24.8125 6.109375 \nQ 31.15625 6.109375 34.5625 8.28125 \nQ 37.984375 10.453125 37.984375 14.40625 \nQ 37.984375 18.0625 35.515625 20.015625 \nQ 33.0625 21.96875 24.703125 23.78125 \nL 21.578125 24.515625 \nQ 13.234375 26.265625 9.515625 29.90625 \nQ 5.8125 33.546875 5.8125 39.890625 \nQ 5.8125 47.609375 11.28125 51.796875 \nQ 16.75 56 26.8125 56 \nQ 31.78125 56 36.171875 55.265625 \nQ 40.578125 54.546875 44.28125 53.078125 \nz\n\" id=\"DejaVuSans-115\"/>\n       <path d=\"M 50.984375 -16.609375 \nL 50.984375 -23.578125 \nL -0.984375 -23.578125 \nL -0.984375 -16.609375 \nz\n\" id=\"DejaVuSans-95\"/>\n       <path d=\"M 30.609375 48.390625 \nQ 23.390625 48.390625 19.1875 42.75 \nQ 14.984375 37.109375 14.984375 27.296875 \nQ 14.984375 17.484375 19.15625 11.84375 \nQ 23.34375 6.203125 30.609375 6.203125 \nQ 37.796875 6.203125 41.984375 11.859375 \nQ 46.1875 17.53125 46.1875 27.296875 \nQ 46.1875 37.015625 41.984375 42.703125 \nQ 37.796875 48.390625 30.609375 48.390625 \nz\nM 30.609375 56 \nQ 42.328125 56 49.015625 48.375 \nQ 55.71875 40.765625 55.71875 27.296875 \nQ 55.71875 13.875 49.015625 6.21875 \nQ 42.328125 -1.421875 30.609375 -1.421875 \nQ 18.84375 -1.421875 12.171875 6.21875 \nQ 5.515625 13.875 5.515625 27.296875 \nQ 5.515625 40.765625 12.171875 48.375 \nQ 18.84375 56 30.609375 56 \nz\n\" id=\"DejaVuSans-111\"/>\n       <path d=\"M 37.109375 75.984375 \nL 37.109375 68.5 \nL 28.515625 68.5 \nQ 23.6875 68.5 21.796875 66.546875 \nQ 19.921875 64.59375 19.921875 59.515625 \nL 19.921875 54.6875 \nL 34.71875 54.6875 \nL 34.71875 47.703125 \nL 19.921875 47.703125 \nL 19.921875 0 \nL 10.890625 0 \nL 10.890625 47.703125 \nL 2.296875 47.703125 \nL 2.296875 54.6875 \nL 10.890625 54.6875 \nL 10.890625 58.5 \nQ 10.890625 67.625 15.140625 71.796875 \nQ 19.390625 75.984375 28.609375 75.984375 \nz\n\" id=\"DejaVuSans-102\"/>\n       <path d=\"M 54.890625 54.6875 \nL 35.109375 28.078125 \nL 55.90625 0 \nL 45.3125 0 \nL 29.390625 21.484375 \nL 13.484375 0 \nL 2.875 0 \nL 24.125 28.609375 \nL 4.6875 54.6875 \nL 15.28125 54.6875 \nL 29.78125 35.203125 \nL 44.28125 54.6875 \nz\n\" id=\"DejaVuSans-120\"/>\n       <path d=\"M 18.109375 8.203125 \nL 18.109375 -20.796875 \nL 9.078125 -20.796875 \nL 9.078125 54.6875 \nL 18.109375 54.6875 \nL 18.109375 46.390625 \nQ 20.953125 51.265625 25.265625 53.625 \nQ 29.59375 56 35.59375 56 \nQ 45.5625 56 51.78125 48.09375 \nQ 58.015625 40.1875 58.015625 27.296875 \nQ 58.015625 14.40625 51.78125 6.484375 \nQ 45.5625 -1.421875 35.59375 -1.421875 \nQ 29.59375 -1.421875 25.265625 0.953125 \nQ 20.953125 3.328125 18.109375 8.203125 \nz\nM 48.6875 27.296875 \nQ 48.6875 37.203125 44.609375 42.84375 \nQ 40.53125 48.484375 33.40625 48.484375 \nQ 26.265625 48.484375 22.1875 42.84375 \nQ 18.109375 37.203125 18.109375 27.296875 \nQ 18.109375 17.390625 22.1875 11.75 \nQ 26.265625 6.109375 33.40625 6.109375 \nQ 40.53125 6.109375 44.609375 11.75 \nQ 48.6875 17.390625 48.6875 27.296875 \nz\n\" id=\"DejaVuSans-112\"/>\n       <path d=\"M 9.421875 54.6875 \nL 18.40625 54.6875 \nL 18.40625 0 \nL 9.421875 0 \nz\nM 9.421875 75.984375 \nL 18.40625 75.984375 \nL 18.40625 64.59375 \nL 9.421875 64.59375 \nz\n\" id=\"DejaVuSans-105\"/>\n       <path d=\"M 54.890625 33.015625 \nL 54.890625 0 \nL 45.90625 0 \nL 45.90625 32.71875 \nQ 45.90625 40.484375 42.875 44.328125 \nQ 39.84375 48.1875 33.796875 48.1875 \nQ 26.515625 48.1875 22.3125 43.546875 \nQ 18.109375 38.921875 18.109375 30.90625 \nL 18.109375 0 \nL 9.078125 0 \nL 9.078125 54.6875 \nL 18.109375 54.6875 \nL 18.109375 46.1875 \nQ 21.34375 51.125 25.703125 53.5625 \nQ 30.078125 56 35.796875 56 \nQ 45.21875 56 50.046875 50.171875 \nQ 54.890625 44.34375 54.890625 33.015625 \nz\n\" id=\"DejaVuSans-110\"/>\n       <path d=\"M 48.78125 52.59375 \nL 48.78125 44.1875 \nQ 44.96875 46.296875 41.140625 47.34375 \nQ 37.3125 48.390625 33.40625 48.390625 \nQ 24.65625 48.390625 19.8125 42.84375 \nQ 14.984375 37.3125 14.984375 27.296875 \nQ 14.984375 17.28125 19.8125 11.734375 \nQ 24.65625 6.203125 33.40625 6.203125 \nQ 37.3125 6.203125 41.140625 7.25 \nQ 44.96875 8.296875 48.78125 10.40625 \nL 48.78125 2.09375 \nQ 45.015625 0.34375 40.984375 -0.53125 \nQ 36.96875 -1.421875 32.421875 -1.421875 \nQ 20.0625 -1.421875 12.78125 6.34375 \nQ 5.515625 14.109375 5.515625 27.296875 \nQ 5.515625 40.671875 12.859375 48.328125 \nQ 20.21875 56 33.015625 56 \nQ 37.15625 56 41.109375 55.140625 \nQ 45.0625 54.296875 48.78125 52.59375 \nz\n\" id=\"DejaVuSans-99\"/>\n      </defs>\n      <g transform=\"translate(205.255529 518.505937)rotate(-90)scale(0.1 -0.1)\">\n       <use xlink:href=\"#DejaVuSans-121\"/>\n       <use x=\"59.179688\" xlink:href=\"#DejaVuSans-101\"/>\n       <use x=\"120.703125\" xlink:href=\"#DejaVuSans-97\"/>\n       <use x=\"181.982422\" xlink:href=\"#DejaVuSans-114\"/>\n       <use x=\"223.095703\" xlink:href=\"#DejaVuSans-115\"/>\n       <use x=\"275.195312\" xlink:href=\"#DejaVuSans-95\"/>\n       <use x=\"325.195312\" xlink:href=\"#DejaVuSans-111\"/>\n       <use x=\"386.376953\" xlink:href=\"#DejaVuSans-102\"/>\n       <use x=\"421.582031\" xlink:href=\"#DejaVuSans-95\"/>\n       <use x=\"471.582031\" xlink:href=\"#DejaVuSans-101\"/>\n       <use x=\"531.355469\" xlink:href=\"#DejaVuSans-120\"/>\n       <use x=\"590.535156\" xlink:href=\"#DejaVuSans-112\"/>\n       <use x=\"654.011719\" xlink:href=\"#DejaVuSans-101\"/>\n       <use x=\"715.535156\" xlink:href=\"#DejaVuSans-114\"/>\n       <use x=\"756.648438\" xlink:href=\"#DejaVuSans-105\"/>\n       <use x=\"784.431641\" xlink:href=\"#DejaVuSans-101\"/>\n       <use x=\"845.955078\" xlink:href=\"#DejaVuSans-110\"/>\n       <use x=\"909.333984\" xlink:href=\"#DejaVuSans-99\"/>\n       <use x=\"964.314453\" xlink:href=\"#DejaVuSans-101\"/>\n      </g>\n     </g>\n    </g>\n    <g id=\"xtick_4\">\n     <g id=\"line2d_4\">\n      <g>\n       <use style=\"stroke:#000000;stroke-width:0.8;\" x=\"236.973678\" xlink:href=\"#ma0a01254a5\" y=\"408.916875\"/>\n      </g>\n     </g>\n     <g id=\"text_4\">\n      <!-- lesson_price -->\n      <defs>\n       <path d=\"M 9.421875 75.984375 \nL 18.40625 75.984375 \nL 18.40625 0 \nL 9.421875 0 \nz\n\" id=\"DejaVuSans-108\"/>\n      </defs>\n      <g transform=\"translate(239.59399 477.612187)rotate(-90)scale(0.1 -0.1)\">\n       <use xlink:href=\"#DejaVuSans-108\"/>\n       <use x=\"27.783203\" xlink:href=\"#DejaVuSans-101\"/>\n       <use x=\"89.306641\" xlink:href=\"#DejaVuSans-115\"/>\n       <use x=\"141.40625\" xlink:href=\"#DejaVuSans-115\"/>\n       <use x=\"193.505859\" xlink:href=\"#DejaVuSans-111\"/>\n       <use x=\"254.6875\" xlink:href=\"#DejaVuSans-110\"/>\n       <use x=\"318.066406\" xlink:href=\"#DejaVuSans-95\"/>\n       <use x=\"368.066406\" xlink:href=\"#DejaVuSans-112\"/>\n       <use x=\"431.542969\" xlink:href=\"#DejaVuSans-114\"/>\n       <use x=\"472.65625\" xlink:href=\"#DejaVuSans-105\"/>\n       <use x=\"500.439453\" xlink:href=\"#DejaVuSans-99\"/>\n       <use x=\"555.419922\" xlink:href=\"#DejaVuSans-101\"/>\n      </g>\n     </g>\n    </g>\n    <g id=\"xtick_5\">\n     <g id=\"line2d_5\">\n      <g>\n       <use style=\"stroke:#000000;stroke-width:0.8;\" x=\"271.312139\" xlink:href=\"#ma0a01254a5\" y=\"408.916875\"/>\n      </g>\n     </g>\n     <g id=\"text_5\">\n      <!-- qualification -->\n      <defs>\n       <path d=\"M 14.796875 27.296875 \nQ 14.796875 17.390625 18.875 11.75 \nQ 22.953125 6.109375 30.078125 6.109375 \nQ 37.203125 6.109375 41.296875 11.75 \nQ 45.40625 17.390625 45.40625 27.296875 \nQ 45.40625 37.203125 41.296875 42.84375 \nQ 37.203125 48.484375 30.078125 48.484375 \nQ 22.953125 48.484375 18.875 42.84375 \nQ 14.796875 37.203125 14.796875 27.296875 \nz\nM 45.40625 8.203125 \nQ 42.578125 3.328125 38.25 0.953125 \nQ 33.9375 -1.421875 27.875 -1.421875 \nQ 17.96875 -1.421875 11.734375 6.484375 \nQ 5.515625 14.40625 5.515625 27.296875 \nQ 5.515625 40.1875 11.734375 48.09375 \nQ 17.96875 56 27.875 56 \nQ 33.9375 56 38.25 53.625 \nQ 42.578125 51.265625 45.40625 46.390625 \nL 45.40625 54.6875 \nL 54.390625 54.6875 \nL 54.390625 -20.796875 \nL 45.40625 -20.796875 \nz\n\" id=\"DejaVuSans-113\"/>\n       <path d=\"M 8.5 21.578125 \nL 8.5 54.6875 \nL 17.484375 54.6875 \nL 17.484375 21.921875 \nQ 17.484375 14.15625 20.5 10.265625 \nQ 23.53125 6.390625 29.59375 6.390625 \nQ 36.859375 6.390625 41.078125 11.03125 \nQ 45.3125 15.671875 45.3125 23.6875 \nL 45.3125 54.6875 \nL 54.296875 54.6875 \nL 54.296875 0 \nL 45.3125 0 \nL 45.3125 8.40625 \nQ 42.046875 3.421875 37.71875 1 \nQ 33.40625 -1.421875 27.6875 -1.421875 \nQ 18.265625 -1.421875 13.375 4.4375 \nQ 8.5 10.296875 8.5 21.578125 \nz\nM 31.109375 56 \nz\n\" id=\"DejaVuSans-117\"/>\n       <path d=\"M 18.3125 70.21875 \nL 18.3125 54.6875 \nL 36.8125 54.6875 \nL 36.8125 47.703125 \nL 18.3125 47.703125 \nL 18.3125 18.015625 \nQ 18.3125 11.328125 20.140625 9.421875 \nQ 21.96875 7.515625 27.59375 7.515625 \nL 36.8125 7.515625 \nL 36.8125 0 \nL 27.59375 0 \nQ 17.1875 0 13.234375 3.875 \nQ 9.28125 7.765625 9.28125 18.015625 \nL 9.28125 47.703125 \nL 2.6875 47.703125 \nL 2.6875 54.6875 \nL 9.28125 54.6875 \nL 9.28125 70.21875 \nz\n\" id=\"DejaVuSans-116\"/>\n      </defs>\n      <g transform=\"translate(274.071514 477.366875)rotate(-90)scale(0.1 -0.1)\">\n       <use xlink:href=\"#DejaVuSans-113\"/>\n       <use x=\"63.476562\" xlink:href=\"#DejaVuSans-117\"/>\n       <use x=\"126.855469\" xlink:href=\"#DejaVuSans-97\"/>\n       <use x=\"188.134766\" xlink:href=\"#DejaVuSans-108\"/>\n       <use x=\"215.917969\" xlink:href=\"#DejaVuSans-105\"/>\n       <use x=\"243.701172\" xlink:href=\"#DejaVuSans-102\"/>\n       <use x=\"278.90625\" xlink:href=\"#DejaVuSans-105\"/>\n       <use x=\"306.689453\" xlink:href=\"#DejaVuSans-99\"/>\n       <use x=\"361.669922\" xlink:href=\"#DejaVuSans-97\"/>\n       <use x=\"422.949219\" xlink:href=\"#DejaVuSans-116\"/>\n       <use x=\"462.158203\" xlink:href=\"#DejaVuSans-105\"/>\n       <use x=\"489.941406\" xlink:href=\"#DejaVuSans-111\"/>\n       <use x=\"551.123047\" xlink:href=\"#DejaVuSans-110\"/>\n      </g>\n     </g>\n    </g>\n    <g id=\"xtick_6\">\n     <g id=\"line2d_6\">\n      <g>\n       <use style=\"stroke:#000000;stroke-width:0.8;\" x=\"305.650601\" xlink:href=\"#ma0a01254a5\" y=\"408.916875\"/>\n      </g>\n     </g>\n     <g id=\"text_6\">\n      <!-- physics -->\n      <defs>\n       <path d=\"M 54.890625 33.015625 \nL 54.890625 0 \nL 45.90625 0 \nL 45.90625 32.71875 \nQ 45.90625 40.484375 42.875 44.328125 \nQ 39.84375 48.1875 33.796875 48.1875 \nQ 26.515625 48.1875 22.3125 43.546875 \nQ 18.109375 38.921875 18.109375 30.90625 \nL 18.109375 0 \nL 9.078125 0 \nL 9.078125 75.984375 \nL 18.109375 75.984375 \nL 18.109375 46.1875 \nQ 21.34375 51.125 25.703125 53.5625 \nQ 30.078125 56 35.796875 56 \nQ 45.21875 56 50.046875 50.171875 \nQ 54.890625 44.34375 54.890625 33.015625 \nz\n\" id=\"DejaVuSans-104\"/>\n      </defs>\n      <g transform=\"translate(308.409976 453.216875)rotate(-90)scale(0.1 -0.1)\">\n       <use xlink:href=\"#DejaVuSans-112\"/>\n       <use x=\"63.476562\" xlink:href=\"#DejaVuSans-104\"/>\n       <use x=\"126.855469\" xlink:href=\"#DejaVuSans-121\"/>\n       <use x=\"186.035156\" xlink:href=\"#DejaVuSans-115\"/>\n       <use x=\"238.134766\" xlink:href=\"#DejaVuSans-105\"/>\n       <use x=\"265.917969\" xlink:href=\"#DejaVuSans-99\"/>\n       <use x=\"320.898438\" xlink:href=\"#DejaVuSans-115\"/>\n      </g>\n     </g>\n    </g>\n    <g id=\"xtick_7\">\n     <g id=\"line2d_7\">\n      <g>\n       <use style=\"stroke:#000000;stroke-width:0.8;\" x=\"339.989063\" xlink:href=\"#ma0a01254a5\" y=\"408.916875\"/>\n      </g>\n     </g>\n     <g id=\"text_7\">\n      <!-- chemistry -->\n      <defs>\n       <path d=\"M 52 44.1875 \nQ 55.375 50.25 60.0625 53.125 \nQ 64.75 56 71.09375 56 \nQ 79.640625 56 84.28125 50.015625 \nQ 88.921875 44.046875 88.921875 33.015625 \nL 88.921875 0 \nL 79.890625 0 \nL 79.890625 32.71875 \nQ 79.890625 40.578125 77.09375 44.375 \nQ 74.3125 48.1875 68.609375 48.1875 \nQ 61.625 48.1875 57.5625 43.546875 \nQ 53.515625 38.921875 53.515625 30.90625 \nL 53.515625 0 \nL 44.484375 0 \nL 44.484375 32.71875 \nQ 44.484375 40.625 41.703125 44.40625 \nQ 38.921875 48.1875 33.109375 48.1875 \nQ 26.21875 48.1875 22.15625 43.53125 \nQ 18.109375 38.875 18.109375 30.90625 \nL 18.109375 0 \nL 9.078125 0 \nL 9.078125 54.6875 \nL 18.109375 54.6875 \nL 18.109375 46.1875 \nQ 21.1875 51.21875 25.484375 53.609375 \nQ 29.78125 56 35.6875 56 \nQ 41.65625 56 45.828125 52.96875 \nQ 50 49.953125 52 44.1875 \nz\n\" id=\"DejaVuSans-109\"/>\n      </defs>\n      <g transform=\"translate(342.748438 465.584062)rotate(-90)scale(0.1 -0.1)\">\n       <use xlink:href=\"#DejaVuSans-99\"/>\n       <use x=\"54.980469\" xlink:href=\"#DejaVuSans-104\"/>\n       <use x=\"118.359375\" xlink:href=\"#DejaVuSans-101\"/>\n       <use x=\"179.882812\" xlink:href=\"#DejaVuSans-109\"/>\n       <use x=\"277.294922\" xlink:href=\"#DejaVuSans-105\"/>\n       <use x=\"305.078125\" xlink:href=\"#DejaVuSans-115\"/>\n       <use x=\"357.177734\" xlink:href=\"#DejaVuSans-116\"/>\n       <use x=\"396.386719\" xlink:href=\"#DejaVuSans-114\"/>\n       <use x=\"437.5\" xlink:href=\"#DejaVuSans-121\"/>\n      </g>\n     </g>\n    </g>\n    <g id=\"xtick_8\">\n     <g id=\"line2d_8\">\n      <g>\n       <use style=\"stroke:#000000;stroke-width:0.8;\" x=\"374.327524\" xlink:href=\"#ma0a01254a5\" y=\"408.916875\"/>\n      </g>\n     </g>\n     <g id=\"text_8\">\n      <!-- biology -->\n      <defs>\n       <path d=\"M 48.6875 27.296875 \nQ 48.6875 37.203125 44.609375 42.84375 \nQ 40.53125 48.484375 33.40625 48.484375 \nQ 26.265625 48.484375 22.1875 42.84375 \nQ 18.109375 37.203125 18.109375 27.296875 \nQ 18.109375 17.390625 22.1875 11.75 \nQ 26.265625 6.109375 33.40625 6.109375 \nQ 40.53125 6.109375 44.609375 11.75 \nQ 48.6875 17.390625 48.6875 27.296875 \nz\nM 18.109375 46.390625 \nQ 20.953125 51.265625 25.265625 53.625 \nQ 29.59375 56 35.59375 56 \nQ 45.5625 56 51.78125 48.09375 \nQ 58.015625 40.1875 58.015625 27.296875 \nQ 58.015625 14.40625 51.78125 6.484375 \nQ 45.5625 -1.421875 35.59375 -1.421875 \nQ 29.59375 -1.421875 25.265625 0.953125 \nQ 20.953125 3.328125 18.109375 8.203125 \nL 18.109375 0 \nL 9.078125 0 \nL 9.078125 75.984375 \nL 18.109375 75.984375 \nz\n\" id=\"DejaVuSans-98\"/>\n      </defs>\n      <g transform=\"translate(377.086899 452.32625)rotate(-90)scale(0.1 -0.1)\">\n       <use xlink:href=\"#DejaVuSans-98\"/>\n       <use x=\"63.476562\" xlink:href=\"#DejaVuSans-105\"/>\n       <use x=\"91.259766\" xlink:href=\"#DejaVuSans-111\"/>\n       <use x=\"152.441406\" xlink:href=\"#DejaVuSans-108\"/>\n       <use x=\"180.224609\" xlink:href=\"#DejaVuSans-111\"/>\n       <use x=\"241.40625\" xlink:href=\"#DejaVuSans-103\"/>\n       <use x=\"304.882812\" xlink:href=\"#DejaVuSans-121\"/>\n      </g>\n     </g>\n    </g>\n    <g id=\"xtick_9\">\n     <g id=\"line2d_9\">\n      <g>\n       <use style=\"stroke:#000000;stroke-width:0.8;\" x=\"408.665986\" xlink:href=\"#ma0a01254a5\" y=\"408.916875\"/>\n      </g>\n     </g>\n     <g id=\"text_9\">\n      <!-- english -->\n      <g transform=\"translate(411.425361 451.859062)rotate(-90)scale(0.1 -0.1)\">\n       <use xlink:href=\"#DejaVuSans-101\"/>\n       <use x=\"61.523438\" xlink:href=\"#DejaVuSans-110\"/>\n       <use x=\"124.902344\" xlink:href=\"#DejaVuSans-103\"/>\n       <use x=\"188.378906\" xlink:href=\"#DejaVuSans-108\"/>\n       <use x=\"216.162109\" xlink:href=\"#DejaVuSans-105\"/>\n       <use x=\"243.945312\" xlink:href=\"#DejaVuSans-115\"/>\n       <use x=\"296.044922\" xlink:href=\"#DejaVuSans-104\"/>\n      </g>\n     </g>\n    </g>\n    <g id=\"xtick_10\">\n     <g id=\"line2d_10\">\n      <g>\n       <use style=\"stroke:#000000;stroke-width:0.8;\" x=\"443.004447\" xlink:href=\"#ma0a01254a5\" y=\"408.916875\"/>\n      </g>\n     </g>\n     <g id=\"text_10\">\n      <!-- geography -->\n      <g transform=\"translate(445.763822 469.729375)rotate(-90)scale(0.1 -0.1)\">\n       <use xlink:href=\"#DejaVuSans-103\"/>\n       <use x=\"63.476562\" xlink:href=\"#DejaVuSans-101\"/>\n       <use x=\"125\" xlink:href=\"#DejaVuSans-111\"/>\n       <use x=\"186.181641\" xlink:href=\"#DejaVuSans-103\"/>\n       <use x=\"249.658203\" xlink:href=\"#DejaVuSans-114\"/>\n       <use x=\"290.771484\" xlink:href=\"#DejaVuSans-97\"/>\n       <use x=\"352.050781\" xlink:href=\"#DejaVuSans-112\"/>\n       <use x=\"415.527344\" xlink:href=\"#DejaVuSans-104\"/>\n       <use x=\"478.90625\" xlink:href=\"#DejaVuSans-121\"/>\n      </g>\n     </g>\n    </g>\n    <g id=\"xtick_11\">\n     <g id=\"line2d_11\">\n      <g>\n       <use style=\"stroke:#000000;stroke-width:0.8;\" x=\"477.342909\" xlink:href=\"#ma0a01254a5\" y=\"408.916875\"/>\n      </g>\n     </g>\n     <g id=\"text_11\">\n      <!-- history -->\n      <g transform=\"translate(480.102284 450.310625)rotate(-90)scale(0.1 -0.1)\">\n       <use xlink:href=\"#DejaVuSans-104\"/>\n       <use x=\"63.378906\" xlink:href=\"#DejaVuSans-105\"/>\n       <use x=\"91.162109\" xlink:href=\"#DejaVuSans-115\"/>\n       <use x=\"143.261719\" xlink:href=\"#DejaVuSans-116\"/>\n       <use x=\"182.470703\" xlink:href=\"#DejaVuSans-111\"/>\n       <use x=\"243.652344\" xlink:href=\"#DejaVuSans-114\"/>\n       <use x=\"284.765625\" xlink:href=\"#DejaVuSans-121\"/>\n      </g>\n     </g>\n    </g>\n    <g id=\"xtick_12\">\n     <g id=\"line2d_12\">\n      <g>\n       <use style=\"stroke:#000000;stroke-width:0.8;\" x=\"511.68137\" xlink:href=\"#ma0a01254a5\" y=\"408.916875\"/>\n      </g>\n     </g>\n     <g id=\"text_12\">\n      <!-- mean_exam_points -->\n      <g transform=\"translate(514.301683 512.754375)rotate(-90)scale(0.1 -0.1)\">\n       <use xlink:href=\"#DejaVuSans-109\"/>\n       <use x=\"97.412109\" xlink:href=\"#DejaVuSans-101\"/>\n       <use x=\"158.935547\" xlink:href=\"#DejaVuSans-97\"/>\n       <use x=\"220.214844\" xlink:href=\"#DejaVuSans-110\"/>\n       <use x=\"283.59375\" xlink:href=\"#DejaVuSans-95\"/>\n       <use x=\"333.59375\" xlink:href=\"#DejaVuSans-101\"/>\n       <use x=\"393.367188\" xlink:href=\"#DejaVuSans-120\"/>\n       <use x=\"452.546875\" xlink:href=\"#DejaVuSans-97\"/>\n       <use x=\"513.826172\" xlink:href=\"#DejaVuSans-109\"/>\n       <use x=\"611.238281\" xlink:href=\"#DejaVuSans-95\"/>\n       <use x=\"661.238281\" xlink:href=\"#DejaVuSans-112\"/>\n       <use x=\"724.714844\" xlink:href=\"#DejaVuSans-111\"/>\n       <use x=\"785.896484\" xlink:href=\"#DejaVuSans-105\"/>\n       <use x=\"813.679688\" xlink:href=\"#DejaVuSans-110\"/>\n       <use x=\"877.058594\" xlink:href=\"#DejaVuSans-116\"/>\n       <use x=\"916.267578\" xlink:href=\"#DejaVuSans-115\"/>\n      </g>\n     </g>\n    </g>\n    <g id=\"xtick_13\">\n     <g id=\"line2d_13\">\n      <g>\n       <use style=\"stroke:#000000;stroke-width:0.8;\" x=\"546.019832\" xlink:href=\"#ma0a01254a5\" y=\"408.916875\"/>\n      </g>\n     </g>\n     <g id=\"text_13\">\n      <!-- choose -->\n      <g transform=\"translate(548.779207 451.352812)rotate(-90)scale(0.1 -0.1)\">\n       <use xlink:href=\"#DejaVuSans-99\"/>\n       <use x=\"54.980469\" xlink:href=\"#DejaVuSans-104\"/>\n       <use x=\"118.359375\" xlink:href=\"#DejaVuSans-111\"/>\n       <use x=\"179.541016\" xlink:href=\"#DejaVuSans-111\"/>\n       <use x=\"240.722656\" xlink:href=\"#DejaVuSans-115\"/>\n       <use x=\"292.822266\" xlink:href=\"#DejaVuSans-101\"/>\n      </g>\n     </g>\n    </g>\n   </g>\n   <g id=\"matplotlib.axis_2\">\n    <g id=\"ytick_1\">\n     <g id=\"line2d_14\">\n      <defs>\n       <path d=\"M 0 0 \nL -3.5 0 \n\" id=\"m412da18c3f\" style=\"stroke:#000000;stroke-width:0.8;\"/>\n      </defs>\n      <g>\n       <use style=\"stroke:#000000;stroke-width:0.8;\" x=\"116.789062\" xlink:href=\"#m412da18c3f\" y=\"43.03226\"/>\n      </g>\n     </g>\n     <g id=\"text_14\">\n      <!-- Id -->\n      <g transform=\"translate(100.490625 46.831478)scale(0.1 -0.1)\">\n       <use xlink:href=\"#DejaVuSans-73\"/>\n       <use x=\"29.492188\" xlink:href=\"#DejaVuSans-100\"/>\n      </g>\n     </g>\n    </g>\n    <g id=\"ytick_2\">\n     <g id=\"line2d_15\">\n      <g>\n       <use style=\"stroke:#000000;stroke-width:0.8;\" x=\"116.789062\" xlink:href=\"#m412da18c3f\" y=\"72.303029\"/>\n      </g>\n     </g>\n     <g id=\"text_15\">\n      <!-- age -->\n      <g transform=\"translate(91.159375 76.102248)scale(0.1 -0.1)\">\n       <use xlink:href=\"#DejaVuSans-97\"/>\n       <use x=\"61.279297\" xlink:href=\"#DejaVuSans-103\"/>\n       <use x=\"124.755859\" xlink:href=\"#DejaVuSans-101\"/>\n      </g>\n     </g>\n    </g>\n    <g id=\"ytick_3\">\n     <g id=\"line2d_16\">\n      <g>\n       <use style=\"stroke:#000000;stroke-width:0.8;\" x=\"116.789062\" xlink:href=\"#m412da18c3f\" y=\"101.573798\"/>\n      </g>\n     </g>\n     <g id=\"text_16\">\n      <!-- years_of_experience -->\n      <g transform=\"translate(7.2 105.373017)scale(0.1 -0.1)\">\n       <use xlink:href=\"#DejaVuSans-121\"/>\n       <use x=\"59.179688\" xlink:href=\"#DejaVuSans-101\"/>\n       <use x=\"120.703125\" xlink:href=\"#DejaVuSans-97\"/>\n       <use x=\"181.982422\" xlink:href=\"#DejaVuSans-114\"/>\n       <use x=\"223.095703\" xlink:href=\"#DejaVuSans-115\"/>\n       <use x=\"275.195312\" xlink:href=\"#DejaVuSans-95\"/>\n       <use x=\"325.195312\" xlink:href=\"#DejaVuSans-111\"/>\n       <use x=\"386.376953\" xlink:href=\"#DejaVuSans-102\"/>\n       <use x=\"421.582031\" xlink:href=\"#DejaVuSans-95\"/>\n       <use x=\"471.582031\" xlink:href=\"#DejaVuSans-101\"/>\n       <use x=\"531.355469\" xlink:href=\"#DejaVuSans-120\"/>\n       <use x=\"590.535156\" xlink:href=\"#DejaVuSans-112\"/>\n       <use x=\"654.011719\" xlink:href=\"#DejaVuSans-101\"/>\n       <use x=\"715.535156\" xlink:href=\"#DejaVuSans-114\"/>\n       <use x=\"756.648438\" xlink:href=\"#DejaVuSans-105\"/>\n       <use x=\"784.431641\" xlink:href=\"#DejaVuSans-101\"/>\n       <use x=\"845.955078\" xlink:href=\"#DejaVuSans-110\"/>\n       <use x=\"909.333984\" xlink:href=\"#DejaVuSans-99\"/>\n       <use x=\"964.314453\" xlink:href=\"#DejaVuSans-101\"/>\n      </g>\n     </g>\n    </g>\n    <g id=\"ytick_4\">\n     <g id=\"line2d_17\">\n      <g>\n       <use style=\"stroke:#000000;stroke-width:0.8;\" x=\"116.789062\" xlink:href=\"#m412da18c3f\" y=\"130.844567\"/>\n      </g>\n     </g>\n     <g id=\"text_17\">\n      <!-- lesson_price -->\n      <g transform=\"translate(48.09375 134.643786)scale(0.1 -0.1)\">\n       <use xlink:href=\"#DejaVuSans-108\"/>\n       <use x=\"27.783203\" xlink:href=\"#DejaVuSans-101\"/>\n       <use x=\"89.306641\" xlink:href=\"#DejaVuSans-115\"/>\n       <use x=\"141.40625\" xlink:href=\"#DejaVuSans-115\"/>\n       <use x=\"193.505859\" xlink:href=\"#DejaVuSans-111\"/>\n       <use x=\"254.6875\" xlink:href=\"#DejaVuSans-110\"/>\n       <use x=\"318.066406\" xlink:href=\"#DejaVuSans-95\"/>\n       <use x=\"368.066406\" xlink:href=\"#DejaVuSans-112\"/>\n       <use x=\"431.542969\" xlink:href=\"#DejaVuSans-114\"/>\n       <use x=\"472.65625\" xlink:href=\"#DejaVuSans-105\"/>\n       <use x=\"500.439453\" xlink:href=\"#DejaVuSans-99\"/>\n       <use x=\"555.419922\" xlink:href=\"#DejaVuSans-101\"/>\n      </g>\n     </g>\n    </g>\n    <g id=\"ytick_5\">\n     <g id=\"line2d_18\">\n      <g>\n       <use style=\"stroke:#000000;stroke-width:0.8;\" x=\"116.789062\" xlink:href=\"#m412da18c3f\" y=\"160.115337\"/>\n      </g>\n     </g>\n     <g id=\"text_18\">\n      <!-- qualification -->\n      <g transform=\"translate(48.339062 163.914555)scale(0.1 -0.1)\">\n       <use xlink:href=\"#DejaVuSans-113\"/>\n       <use x=\"63.476562\" xlink:href=\"#DejaVuSans-117\"/>\n       <use x=\"126.855469\" xlink:href=\"#DejaVuSans-97\"/>\n       <use x=\"188.134766\" xlink:href=\"#DejaVuSans-108\"/>\n       <use x=\"215.917969\" xlink:href=\"#DejaVuSans-105\"/>\n       <use x=\"243.701172\" xlink:href=\"#DejaVuSans-102\"/>\n       <use x=\"278.90625\" xlink:href=\"#DejaVuSans-105\"/>\n       <use x=\"306.689453\" xlink:href=\"#DejaVuSans-99\"/>\n       <use x=\"361.669922\" xlink:href=\"#DejaVuSans-97\"/>\n       <use x=\"422.949219\" xlink:href=\"#DejaVuSans-116\"/>\n       <use x=\"462.158203\" xlink:href=\"#DejaVuSans-105\"/>\n       <use x=\"489.941406\" xlink:href=\"#DejaVuSans-111\"/>\n       <use x=\"551.123047\" xlink:href=\"#DejaVuSans-110\"/>\n      </g>\n     </g>\n    </g>\n    <g id=\"ytick_6\">\n     <g id=\"line2d_19\">\n      <g>\n       <use style=\"stroke:#000000;stroke-width:0.8;\" x=\"116.789062\" xlink:href=\"#m412da18c3f\" y=\"189.386106\"/>\n      </g>\n     </g>\n     <g id=\"text_19\">\n      <!-- physics -->\n      <g transform=\"translate(72.489062 193.185325)scale(0.1 -0.1)\">\n       <use xlink:href=\"#DejaVuSans-112\"/>\n       <use x=\"63.476562\" xlink:href=\"#DejaVuSans-104\"/>\n       <use x=\"126.855469\" xlink:href=\"#DejaVuSans-121\"/>\n       <use x=\"186.035156\" xlink:href=\"#DejaVuSans-115\"/>\n       <use x=\"238.134766\" xlink:href=\"#DejaVuSans-105\"/>\n       <use x=\"265.917969\" xlink:href=\"#DejaVuSans-99\"/>\n       <use x=\"320.898438\" xlink:href=\"#DejaVuSans-115\"/>\n      </g>\n     </g>\n    </g>\n    <g id=\"ytick_7\">\n     <g id=\"line2d_20\">\n      <g>\n       <use style=\"stroke:#000000;stroke-width:0.8;\" x=\"116.789062\" xlink:href=\"#m412da18c3f\" y=\"218.656875\"/>\n      </g>\n     </g>\n     <g id=\"text_20\">\n      <!-- chemistry -->\n      <g transform=\"translate(60.121875 222.456094)scale(0.1 -0.1)\">\n       <use xlink:href=\"#DejaVuSans-99\"/>\n       <use x=\"54.980469\" xlink:href=\"#DejaVuSans-104\"/>\n       <use x=\"118.359375\" xlink:href=\"#DejaVuSans-101\"/>\n       <use x=\"179.882812\" xlink:href=\"#DejaVuSans-109\"/>\n       <use x=\"277.294922\" xlink:href=\"#DejaVuSans-105\"/>\n       <use x=\"305.078125\" xlink:href=\"#DejaVuSans-115\"/>\n       <use x=\"357.177734\" xlink:href=\"#DejaVuSans-116\"/>\n       <use x=\"396.386719\" xlink:href=\"#DejaVuSans-114\"/>\n       <use x=\"437.5\" xlink:href=\"#DejaVuSans-121\"/>\n      </g>\n     </g>\n    </g>\n    <g id=\"ytick_8\">\n     <g id=\"line2d_21\">\n      <g>\n       <use style=\"stroke:#000000;stroke-width:0.8;\" x=\"116.789062\" xlink:href=\"#m412da18c3f\" y=\"247.927644\"/>\n      </g>\n     </g>\n     <g id=\"text_21\">\n      <!-- biology -->\n      <g transform=\"translate(73.379687 251.726863)scale(0.1 -0.1)\">\n       <use xlink:href=\"#DejaVuSans-98\"/>\n       <use x=\"63.476562\" xlink:href=\"#DejaVuSans-105\"/>\n       <use x=\"91.259766\" xlink:href=\"#DejaVuSans-111\"/>\n       <use x=\"152.441406\" xlink:href=\"#DejaVuSans-108\"/>\n       <use x=\"180.224609\" xlink:href=\"#DejaVuSans-111\"/>\n       <use x=\"241.40625\" xlink:href=\"#DejaVuSans-103\"/>\n       <use x=\"304.882812\" xlink:href=\"#DejaVuSans-121\"/>\n      </g>\n     </g>\n    </g>\n    <g id=\"ytick_9\">\n     <g id=\"line2d_22\">\n      <g>\n       <use style=\"stroke:#000000;stroke-width:0.8;\" x=\"116.789062\" xlink:href=\"#m412da18c3f\" y=\"277.198413\"/>\n      </g>\n     </g>\n     <g id=\"text_22\">\n      <!-- english -->\n      <g transform=\"translate(73.846875 280.997632)scale(0.1 -0.1)\">\n       <use xlink:href=\"#DejaVuSans-101\"/>\n       <use x=\"61.523438\" xlink:href=\"#DejaVuSans-110\"/>\n       <use x=\"124.902344\" xlink:href=\"#DejaVuSans-103\"/>\n       <use x=\"188.378906\" xlink:href=\"#DejaVuSans-108\"/>\n       <use x=\"216.162109\" xlink:href=\"#DejaVuSans-105\"/>\n       <use x=\"243.945312\" xlink:href=\"#DejaVuSans-115\"/>\n       <use x=\"296.044922\" xlink:href=\"#DejaVuSans-104\"/>\n      </g>\n     </g>\n    </g>\n    <g id=\"ytick_10\">\n     <g id=\"line2d_23\">\n      <g>\n       <use style=\"stroke:#000000;stroke-width:0.8;\" x=\"116.789062\" xlink:href=\"#m412da18c3f\" y=\"306.469183\"/>\n      </g>\n     </g>\n     <g id=\"text_23\">\n      <!-- geography -->\n      <g transform=\"translate(55.976562 310.268401)scale(0.1 -0.1)\">\n       <use xlink:href=\"#DejaVuSans-103\"/>\n       <use x=\"63.476562\" xlink:href=\"#DejaVuSans-101\"/>\n       <use x=\"125\" xlink:href=\"#DejaVuSans-111\"/>\n       <use x=\"186.181641\" xlink:href=\"#DejaVuSans-103\"/>\n       <use x=\"249.658203\" xlink:href=\"#DejaVuSans-114\"/>\n       <use x=\"290.771484\" xlink:href=\"#DejaVuSans-97\"/>\n       <use x=\"352.050781\" xlink:href=\"#DejaVuSans-112\"/>\n       <use x=\"415.527344\" xlink:href=\"#DejaVuSans-104\"/>\n       <use x=\"478.90625\" xlink:href=\"#DejaVuSans-121\"/>\n      </g>\n     </g>\n    </g>\n    <g id=\"ytick_11\">\n     <g id=\"line2d_24\">\n      <g>\n       <use style=\"stroke:#000000;stroke-width:0.8;\" x=\"116.789062\" xlink:href=\"#m412da18c3f\" y=\"335.739952\"/>\n      </g>\n     </g>\n     <g id=\"text_24\">\n      <!-- history -->\n      <g transform=\"translate(75.395312 339.539171)scale(0.1 -0.1)\">\n       <use xlink:href=\"#DejaVuSans-104\"/>\n       <use x=\"63.378906\" xlink:href=\"#DejaVuSans-105\"/>\n       <use x=\"91.162109\" xlink:href=\"#DejaVuSans-115\"/>\n       <use x=\"143.261719\" xlink:href=\"#DejaVuSans-116\"/>\n       <use x=\"182.470703\" xlink:href=\"#DejaVuSans-111\"/>\n       <use x=\"243.652344\" xlink:href=\"#DejaVuSans-114\"/>\n       <use x=\"284.765625\" xlink:href=\"#DejaVuSans-121\"/>\n      </g>\n     </g>\n    </g>\n    <g id=\"ytick_12\">\n     <g id=\"line2d_25\">\n      <g>\n       <use style=\"stroke:#000000;stroke-width:0.8;\" x=\"116.789062\" xlink:href=\"#m412da18c3f\" y=\"365.010721\"/>\n      </g>\n     </g>\n     <g id=\"text_25\">\n      <!-- mean_exam_points -->\n      <g transform=\"translate(12.951562 368.80994)scale(0.1 -0.1)\">\n       <use xlink:href=\"#DejaVuSans-109\"/>\n       <use x=\"97.412109\" xlink:href=\"#DejaVuSans-101\"/>\n       <use x=\"158.935547\" xlink:href=\"#DejaVuSans-97\"/>\n       <use x=\"220.214844\" xlink:href=\"#DejaVuSans-110\"/>\n       <use x=\"283.59375\" xlink:href=\"#DejaVuSans-95\"/>\n       <use x=\"333.59375\" xlink:href=\"#DejaVuSans-101\"/>\n       <use x=\"393.367188\" xlink:href=\"#DejaVuSans-120\"/>\n       <use x=\"452.546875\" xlink:href=\"#DejaVuSans-97\"/>\n       <use x=\"513.826172\" xlink:href=\"#DejaVuSans-109\"/>\n       <use x=\"611.238281\" xlink:href=\"#DejaVuSans-95\"/>\n       <use x=\"661.238281\" xlink:href=\"#DejaVuSans-112\"/>\n       <use x=\"724.714844\" xlink:href=\"#DejaVuSans-111\"/>\n       <use x=\"785.896484\" xlink:href=\"#DejaVuSans-105\"/>\n       <use x=\"813.679688\" xlink:href=\"#DejaVuSans-110\"/>\n       <use x=\"877.058594\" xlink:href=\"#DejaVuSans-116\"/>\n       <use x=\"916.267578\" xlink:href=\"#DejaVuSans-115\"/>\n      </g>\n     </g>\n    </g>\n    <g id=\"ytick_13\">\n     <g id=\"line2d_26\">\n      <g>\n       <use style=\"stroke:#000000;stroke-width:0.8;\" x=\"116.789062\" xlink:href=\"#m412da18c3f\" y=\"394.28149\"/>\n      </g>\n     </g>\n     <g id=\"text_26\">\n      <!-- choose -->\n      <g transform=\"translate(74.353125 398.080709)scale(0.1 -0.1)\">\n       <use xlink:href=\"#DejaVuSans-99\"/>\n       <use x=\"54.980469\" xlink:href=\"#DejaVuSans-104\"/>\n       <use x=\"118.359375\" xlink:href=\"#DejaVuSans-111\"/>\n       <use x=\"179.541016\" xlink:href=\"#DejaVuSans-111\"/>\n       <use x=\"240.722656\" xlink:href=\"#DejaVuSans-115\"/>\n       <use x=\"292.822266\" xlink:href=\"#DejaVuSans-101\"/>\n      </g>\n     </g>\n    </g>\n   </g>\n   <g id=\"text_27\">\n    <!-- 1 -->\n    <defs>\n     <path d=\"M 12.40625 8.296875 \nL 28.515625 8.296875 \nL 28.515625 63.921875 \nL 10.984375 60.40625 \nL 10.984375 69.390625 \nL 28.421875 72.90625 \nL 38.28125 72.90625 \nL 38.28125 8.296875 \nL 54.390625 8.296875 \nL 54.390625 0 \nL 12.40625 0 \nz\n\" id=\"DejaVuSans-49\"/>\n    </defs>\n    <g style=\"fill:#ffffff;\" transform=\"translate(130.777043 45.791635)scale(0.1 -0.1)\">\n     <use xlink:href=\"#DejaVuSans-49\"/>\n    </g>\n   </g>\n   <g id=\"text_28\">\n    <!-- 0 -->\n    <defs>\n     <path d=\"M 31.78125 66.40625 \nQ 24.171875 66.40625 20.328125 58.90625 \nQ 16.5 51.421875 16.5 36.375 \nQ 16.5 21.390625 20.328125 13.890625 \nQ 24.171875 6.390625 31.78125 6.390625 \nQ 39.453125 6.390625 43.28125 13.890625 \nQ 47.125 21.390625 47.125 36.375 \nQ 47.125 51.421875 43.28125 58.90625 \nQ 39.453125 66.40625 31.78125 66.40625 \nz\nM 31.78125 74.21875 \nQ 44.046875 74.21875 50.515625 64.515625 \nQ 56.984375 54.828125 56.984375 36.375 \nQ 56.984375 17.96875 50.515625 8.265625 \nQ 44.046875 -1.421875 31.78125 -1.421875 \nQ 19.53125 -1.421875 13.0625 8.265625 \nQ 6.59375 17.96875 6.59375 36.375 \nQ 6.59375 54.828125 13.0625 64.515625 \nQ 19.53125 74.21875 31.78125 74.21875 \nz\n\" id=\"DejaVuSans-48\"/>\n    </defs>\n    <g style=\"fill:#ffffff;\" transform=\"translate(165.115505 45.791635)scale(0.1 -0.1)\">\n     <use xlink:href=\"#DejaVuSans-48\"/>\n    </g>\n   </g>\n   <g id=\"text_29\">\n    <!-- 0 -->\n    <g style=\"fill:#ffffff;\" transform=\"translate(199.453966 45.791635)scale(0.1 -0.1)\">\n     <use xlink:href=\"#DejaVuSans-48\"/>\n    </g>\n   </g>\n   <g id=\"text_30\">\n    <!-- 0 -->\n    <g style=\"fill:#ffffff;\" transform=\"translate(233.792428 45.791635)scale(0.1 -0.1)\">\n     <use xlink:href=\"#DejaVuSans-48\"/>\n    </g>\n   </g>\n   <g id=\"text_31\">\n    <!-- 0 -->\n    <g style=\"fill:#ffffff;\" transform=\"translate(268.130889 45.791635)scale(0.1 -0.1)\">\n     <use xlink:href=\"#DejaVuSans-48\"/>\n    </g>\n   </g>\n   <g id=\"text_32\">\n    <!-- 0 -->\n    <g style=\"fill:#ffffff;\" transform=\"translate(302.469351 45.791635)scale(0.1 -0.1)\">\n     <use xlink:href=\"#DejaVuSans-48\"/>\n    </g>\n   </g>\n   <g id=\"text_33\">\n    <!-- 0 -->\n    <g style=\"fill:#ffffff;\" transform=\"translate(336.807813 45.791635)scale(0.1 -0.1)\">\n     <use xlink:href=\"#DejaVuSans-48\"/>\n    </g>\n   </g>\n   <g id=\"text_34\">\n    <!-- 0 -->\n    <g style=\"fill:#ffffff;\" transform=\"translate(371.146274 45.791635)scale(0.1 -0.1)\">\n     <use xlink:href=\"#DejaVuSans-48\"/>\n    </g>\n   </g>\n   <g id=\"text_35\">\n    <!-- 0 -->\n    <g style=\"fill:#ffffff;\" transform=\"translate(405.484736 45.791635)scale(0.1 -0.1)\">\n     <use xlink:href=\"#DejaVuSans-48\"/>\n    </g>\n   </g>\n   <g id=\"text_36\">\n    <!-- 0 -->\n    <g style=\"fill:#ffffff;\" transform=\"translate(439.823197 45.791635)scale(0.1 -0.1)\">\n     <use xlink:href=\"#DejaVuSans-48\"/>\n    </g>\n   </g>\n   <g id=\"text_37\">\n    <!-- 0 -->\n    <g style=\"fill:#ffffff;\" transform=\"translate(474.161659 45.791635)scale(0.1 -0.1)\">\n     <use xlink:href=\"#DejaVuSans-48\"/>\n    </g>\n   </g>\n   <g id=\"text_38\">\n    <!-- 0 -->\n    <g style=\"fill:#ffffff;\" transform=\"translate(508.50012 45.791635)scale(0.1 -0.1)\">\n     <use xlink:href=\"#DejaVuSans-48\"/>\n    </g>\n   </g>\n   <g id=\"text_39\">\n    <!-- 0 -->\n    <g style=\"fill:#ffffff;\" transform=\"translate(542.838582 45.791635)scale(0.1 -0.1)\">\n     <use xlink:href=\"#DejaVuSans-48\"/>\n    </g>\n   </g>\n   <g id=\"text_40\">\n    <!-- 0 -->\n    <g style=\"fill:#ffffff;\" transform=\"translate(130.777043 75.062404)scale(0.1 -0.1)\">\n     <use xlink:href=\"#DejaVuSans-48\"/>\n    </g>\n   </g>\n   <g id=\"text_41\">\n    <!-- 1 -->\n    <g style=\"fill:#ffffff;\" transform=\"translate(165.115505 75.062404)scale(0.1 -0.1)\">\n     <use xlink:href=\"#DejaVuSans-49\"/>\n    </g>\n   </g>\n   <g id=\"text_42\">\n    <!-- 0 -->\n    <g style=\"fill:#ffffff;\" transform=\"translate(199.453966 75.062404)scale(0.1 -0.1)\">\n     <use xlink:href=\"#DejaVuSans-48\"/>\n    </g>\n   </g>\n   <g id=\"text_43\">\n    <!-- 0 -->\n    <g style=\"fill:#ffffff;\" transform=\"translate(233.792428 75.062404)scale(0.1 -0.1)\">\n     <use xlink:href=\"#DejaVuSans-48\"/>\n    </g>\n   </g>\n   <g id=\"text_44\">\n    <!-- 0 -->\n    <g style=\"fill:#ffffff;\" transform=\"translate(268.130889 75.062404)scale(0.1 -0.1)\">\n     <use xlink:href=\"#DejaVuSans-48\"/>\n    </g>\n   </g>\n   <g id=\"text_45\">\n    <!-- 0 -->\n    <g style=\"fill:#ffffff;\" transform=\"translate(302.469351 75.062404)scale(0.1 -0.1)\">\n     <use xlink:href=\"#DejaVuSans-48\"/>\n    </g>\n   </g>\n   <g id=\"text_46\">\n    <!-- 0 -->\n    <g style=\"fill:#ffffff;\" transform=\"translate(336.807813 75.062404)scale(0.1 -0.1)\">\n     <use xlink:href=\"#DejaVuSans-48\"/>\n    </g>\n   </g>\n   <g id=\"text_47\">\n    <!-- 0 -->\n    <g style=\"fill:#ffffff;\" transform=\"translate(371.146274 75.062404)scale(0.1 -0.1)\">\n     <use xlink:href=\"#DejaVuSans-48\"/>\n    </g>\n   </g>\n   <g id=\"text_48\">\n    <!-- 0 -->\n    <g style=\"fill:#ffffff;\" transform=\"translate(405.484736 75.062404)scale(0.1 -0.1)\">\n     <use xlink:href=\"#DejaVuSans-48\"/>\n    </g>\n   </g>\n   <g id=\"text_49\">\n    <!-- 0 -->\n    <g style=\"fill:#ffffff;\" transform=\"translate(439.823197 75.062404)scale(0.1 -0.1)\">\n     <use xlink:href=\"#DejaVuSans-48\"/>\n    </g>\n   </g>\n   <g id=\"text_50\">\n    <!-- 0 -->\n    <g style=\"fill:#ffffff;\" transform=\"translate(474.161659 75.062404)scale(0.1 -0.1)\">\n     <use xlink:href=\"#DejaVuSans-48\"/>\n    </g>\n   </g>\n   <g id=\"text_51\">\n    <!-- 0 -->\n    <g style=\"fill:#ffffff;\" transform=\"translate(508.50012 75.062404)scale(0.1 -0.1)\">\n     <use xlink:href=\"#DejaVuSans-48\"/>\n    </g>\n   </g>\n   <g id=\"text_52\">\n    <!-- 0 -->\n    <g style=\"fill:#ffffff;\" transform=\"translate(542.838582 75.062404)scale(0.1 -0.1)\">\n     <use xlink:href=\"#DejaVuSans-48\"/>\n    </g>\n   </g>\n   <g id=\"text_53\">\n    <!-- 0 -->\n    <g style=\"fill:#ffffff;\" transform=\"translate(130.777043 104.333173)scale(0.1 -0.1)\">\n     <use xlink:href=\"#DejaVuSans-48\"/>\n    </g>\n   </g>\n   <g id=\"text_54\">\n    <!-- 0 -->\n    <g style=\"fill:#ffffff;\" transform=\"translate(165.115505 104.333173)scale(0.1 -0.1)\">\n     <use xlink:href=\"#DejaVuSans-48\"/>\n    </g>\n   </g>\n   <g id=\"text_55\">\n    <!-- 1 -->\n    <g style=\"fill:#ffffff;\" transform=\"translate(199.453966 104.333173)scale(0.1 -0.1)\">\n     <use xlink:href=\"#DejaVuSans-49\"/>\n    </g>\n   </g>\n   <g id=\"text_56\">\n    <!-- 0 -->\n    <g style=\"fill:#ffffff;\" transform=\"translate(233.792428 104.333173)scale(0.1 -0.1)\">\n     <use xlink:href=\"#DejaVuSans-48\"/>\n    </g>\n   </g>\n   <g id=\"text_57\">\n    <!-- 0 -->\n    <g style=\"fill:#ffffff;\" transform=\"translate(268.130889 104.333173)scale(0.1 -0.1)\">\n     <use xlink:href=\"#DejaVuSans-48\"/>\n    </g>\n   </g>\n   <g id=\"text_58\">\n    <!-- 0 -->\n    <g style=\"fill:#ffffff;\" transform=\"translate(302.469351 104.333173)scale(0.1 -0.1)\">\n     <use xlink:href=\"#DejaVuSans-48\"/>\n    </g>\n   </g>\n   <g id=\"text_59\">\n    <!-- 0 -->\n    <g style=\"fill:#ffffff;\" transform=\"translate(336.807813 104.333173)scale(0.1 -0.1)\">\n     <use xlink:href=\"#DejaVuSans-48\"/>\n    </g>\n   </g>\n   <g id=\"text_60\">\n    <!-- 0 -->\n    <g style=\"fill:#ffffff;\" transform=\"translate(371.146274 104.333173)scale(0.1 -0.1)\">\n     <use xlink:href=\"#DejaVuSans-48\"/>\n    </g>\n   </g>\n   <g id=\"text_61\">\n    <!-- 0 -->\n    <g style=\"fill:#ffffff;\" transform=\"translate(405.484736 104.333173)scale(0.1 -0.1)\">\n     <use xlink:href=\"#DejaVuSans-48\"/>\n    </g>\n   </g>\n   <g id=\"text_62\">\n    <!-- 0 -->\n    <g style=\"fill:#ffffff;\" transform=\"translate(439.823197 104.333173)scale(0.1 -0.1)\">\n     <use xlink:href=\"#DejaVuSans-48\"/>\n    </g>\n   </g>\n   <g id=\"text_63\">\n    <!-- 0 -->\n    <g style=\"fill:#ffffff;\" transform=\"translate(474.161659 104.333173)scale(0.1 -0.1)\">\n     <use xlink:href=\"#DejaVuSans-48\"/>\n    </g>\n   </g>\n   <g id=\"text_64\">\n    <!-- 0 -->\n    <g style=\"fill:#ffffff;\" transform=\"translate(508.50012 104.333173)scale(0.1 -0.1)\">\n     <use xlink:href=\"#DejaVuSans-48\"/>\n    </g>\n   </g>\n   <g id=\"text_65\">\n    <!-- 0 -->\n    <g style=\"fill:#ffffff;\" transform=\"translate(542.838582 104.333173)scale(0.1 -0.1)\">\n     <use xlink:href=\"#DejaVuSans-48\"/>\n    </g>\n   </g>\n   <g id=\"text_66\">\n    <!-- 0 -->\n    <g style=\"fill:#ffffff;\" transform=\"translate(130.777043 133.603942)scale(0.1 -0.1)\">\n     <use xlink:href=\"#DejaVuSans-48\"/>\n    </g>\n   </g>\n   <g id=\"text_67\">\n    <!-- 0 -->\n    <g style=\"fill:#ffffff;\" transform=\"translate(165.115505 133.603942)scale(0.1 -0.1)\">\n     <use xlink:href=\"#DejaVuSans-48\"/>\n    </g>\n   </g>\n   <g id=\"text_68\">\n    <!-- 0 -->\n    <g style=\"fill:#ffffff;\" transform=\"translate(199.453966 133.603942)scale(0.1 -0.1)\">\n     <use xlink:href=\"#DejaVuSans-48\"/>\n    </g>\n   </g>\n   <g id=\"text_69\">\n    <!-- 1 -->\n    <g style=\"fill:#ffffff;\" transform=\"translate(233.792428 133.603942)scale(0.1 -0.1)\">\n     <use xlink:href=\"#DejaVuSans-49\"/>\n    </g>\n   </g>\n   <g id=\"text_70\">\n    <!-- 0.8 -->\n    <defs>\n     <path d=\"M 10.6875 12.40625 \nL 21 12.40625 \nL 21 0 \nL 10.6875 0 \nz\n\" id=\"DejaVuSans-46\"/>\n     <path d=\"M 31.78125 34.625 \nQ 24.75 34.625 20.71875 30.859375 \nQ 16.703125 27.09375 16.703125 20.515625 \nQ 16.703125 13.921875 20.71875 10.15625 \nQ 24.75 6.390625 31.78125 6.390625 \nQ 38.8125 6.390625 42.859375 10.171875 \nQ 46.921875 13.96875 46.921875 20.515625 \nQ 46.921875 27.09375 42.890625 30.859375 \nQ 38.875 34.625 31.78125 34.625 \nz\nM 21.921875 38.8125 \nQ 15.578125 40.375 12.03125 44.71875 \nQ 8.5 49.078125 8.5 55.328125 \nQ 8.5 64.0625 14.71875 69.140625 \nQ 20.953125 74.21875 31.78125 74.21875 \nQ 42.671875 74.21875 48.875 69.140625 \nQ 55.078125 64.0625 55.078125 55.328125 \nQ 55.078125 49.078125 51.53125 44.71875 \nQ 48 40.375 41.703125 38.8125 \nQ 48.828125 37.15625 52.796875 32.3125 \nQ 56.78125 27.484375 56.78125 20.515625 \nQ 56.78125 9.90625 50.3125 4.234375 \nQ 43.84375 -1.421875 31.78125 -1.421875 \nQ 19.734375 -1.421875 13.25 4.234375 \nQ 6.78125 9.90625 6.78125 20.515625 \nQ 6.78125 27.484375 10.78125 32.3125 \nQ 14.796875 37.15625 21.921875 38.8125 \nz\nM 18.3125 54.390625 \nQ 18.3125 48.734375 21.84375 45.5625 \nQ 25.390625 42.390625 31.78125 42.390625 \nQ 38.140625 42.390625 41.71875 45.5625 \nQ 45.3125 48.734375 45.3125 54.390625 \nQ 45.3125 60.0625 41.71875 63.234375 \nQ 38.140625 66.40625 31.78125 66.40625 \nQ 25.390625 66.40625 21.84375 63.234375 \nQ 18.3125 60.0625 18.3125 54.390625 \nz\n\" id=\"DejaVuSans-56\"/>\n    </defs>\n    <g style=\"fill:#ffffff;\" transform=\"translate(263.360577 133.603942)scale(0.1 -0.1)\">\n     <use xlink:href=\"#DejaVuSans-48\"/>\n     <use x=\"63.623047\" xlink:href=\"#DejaVuSans-46\"/>\n     <use x=\"95.410156\" xlink:href=\"#DejaVuSans-56\"/>\n    </g>\n   </g>\n   <g id=\"text_71\">\n    <!-- 0 -->\n    <g style=\"fill:#ffffff;\" transform=\"translate(302.469351 133.603942)scale(0.1 -0.1)\">\n     <use xlink:href=\"#DejaVuSans-48\"/>\n    </g>\n   </g>\n   <g id=\"text_72\">\n    <!-- 0 -->\n    <g style=\"fill:#ffffff;\" transform=\"translate(336.807813 133.603942)scale(0.1 -0.1)\">\n     <use xlink:href=\"#DejaVuSans-48\"/>\n    </g>\n   </g>\n   <g id=\"text_73\">\n    <!-- 0 -->\n    <g style=\"fill:#ffffff;\" transform=\"translate(371.146274 133.603942)scale(0.1 -0.1)\">\n     <use xlink:href=\"#DejaVuSans-48\"/>\n    </g>\n   </g>\n   <g id=\"text_74\">\n    <!-- 0 -->\n    <g style=\"fill:#ffffff;\" transform=\"translate(405.484736 133.603942)scale(0.1 -0.1)\">\n     <use xlink:href=\"#DejaVuSans-48\"/>\n    </g>\n   </g>\n   <g id=\"text_75\">\n    <!-- 0 -->\n    <g style=\"fill:#ffffff;\" transform=\"translate(439.823197 133.603942)scale(0.1 -0.1)\">\n     <use xlink:href=\"#DejaVuSans-48\"/>\n    </g>\n   </g>\n   <g id=\"text_76\">\n    <!-- 0 -->\n    <g style=\"fill:#ffffff;\" transform=\"translate(474.161659 133.603942)scale(0.1 -0.1)\">\n     <use xlink:href=\"#DejaVuSans-48\"/>\n    </g>\n   </g>\n   <g id=\"text_77\">\n    <!-- 0.73 -->\n    <defs>\n     <path d=\"M 8.203125 72.90625 \nL 55.078125 72.90625 \nL 55.078125 68.703125 \nL 28.609375 0 \nL 18.3125 0 \nL 43.21875 64.59375 \nL 8.203125 64.59375 \nz\n\" id=\"DejaVuSans-55\"/>\n     <path d=\"M 40.578125 39.3125 \nQ 47.65625 37.796875 51.625 33 \nQ 55.609375 28.21875 55.609375 21.1875 \nQ 55.609375 10.40625 48.1875 4.484375 \nQ 40.765625 -1.421875 27.09375 -1.421875 \nQ 22.515625 -1.421875 17.65625 -0.515625 \nQ 12.796875 0.390625 7.625 2.203125 \nL 7.625 11.71875 \nQ 11.71875 9.328125 16.59375 8.109375 \nQ 21.484375 6.890625 26.8125 6.890625 \nQ 36.078125 6.890625 40.9375 10.546875 \nQ 45.796875 14.203125 45.796875 21.1875 \nQ 45.796875 27.640625 41.28125 31.265625 \nQ 36.765625 34.90625 28.71875 34.90625 \nL 20.21875 34.90625 \nL 20.21875 43.015625 \nL 29.109375 43.015625 \nQ 36.375 43.015625 40.234375 45.921875 \nQ 44.09375 48.828125 44.09375 54.296875 \nQ 44.09375 59.90625 40.109375 62.90625 \nQ 36.140625 65.921875 28.71875 65.921875 \nQ 24.65625 65.921875 20.015625 65.03125 \nQ 15.375 64.15625 9.8125 62.3125 \nL 9.8125 71.09375 \nQ 15.4375 72.65625 20.34375 73.4375 \nQ 25.25 74.21875 29.59375 74.21875 \nQ 40.828125 74.21875 47.359375 69.109375 \nQ 53.90625 64.015625 53.90625 55.328125 \nQ 53.90625 49.265625 50.4375 45.09375 \nQ 46.96875 40.921875 40.578125 39.3125 \nz\n\" id=\"DejaVuSans-51\"/>\n    </defs>\n    <g style=\"fill:#262626;\" transform=\"translate(500.548558 133.603942)scale(0.1 -0.1)\">\n     <use xlink:href=\"#DejaVuSans-48\"/>\n     <use x=\"63.623047\" xlink:href=\"#DejaVuSans-46\"/>\n     <use x=\"95.410156\" xlink:href=\"#DejaVuSans-55\"/>\n     <use x=\"159.033203\" xlink:href=\"#DejaVuSans-51\"/>\n    </g>\n   </g>\n   <g id=\"text_78\">\n    <!-- 0 -->\n    <g style=\"fill:#ffffff;\" transform=\"translate(542.838582 133.603942)scale(0.1 -0.1)\">\n     <use xlink:href=\"#DejaVuSans-48\"/>\n    </g>\n   </g>\n   <g id=\"text_79\">\n    <!-- 0 -->\n    <g style=\"fill:#ffffff;\" transform=\"translate(130.777043 162.874712)scale(0.1 -0.1)\">\n     <use xlink:href=\"#DejaVuSans-48\"/>\n    </g>\n   </g>\n   <g id=\"text_80\">\n    <!-- 0 -->\n    <g style=\"fill:#ffffff;\" transform=\"translate(165.115505 162.874712)scale(0.1 -0.1)\">\n     <use xlink:href=\"#DejaVuSans-48\"/>\n    </g>\n   </g>\n   <g id=\"text_81\">\n    <!-- 0 -->\n    <g style=\"fill:#ffffff;\" transform=\"translate(199.453966 162.874712)scale(0.1 -0.1)\">\n     <use xlink:href=\"#DejaVuSans-48\"/>\n    </g>\n   </g>\n   <g id=\"text_82\">\n    <!-- 0.8 -->\n    <g style=\"fill:#ffffff;\" transform=\"translate(229.022115 162.874712)scale(0.1 -0.1)\">\n     <use xlink:href=\"#DejaVuSans-48\"/>\n     <use x=\"63.623047\" xlink:href=\"#DejaVuSans-46\"/>\n     <use x=\"95.410156\" xlink:href=\"#DejaVuSans-56\"/>\n    </g>\n   </g>\n   <g id=\"text_83\">\n    <!-- 1 -->\n    <g style=\"fill:#ffffff;\" transform=\"translate(268.130889 162.874712)scale(0.1 -0.1)\">\n     <use xlink:href=\"#DejaVuSans-49\"/>\n    </g>\n   </g>\n   <g id=\"text_84\">\n    <!-- 0 -->\n    <g style=\"fill:#ffffff;\" transform=\"translate(302.469351 162.874712)scale(0.1 -0.1)\">\n     <use xlink:href=\"#DejaVuSans-48\"/>\n    </g>\n   </g>\n   <g id=\"text_85\">\n    <!-- 0 -->\n    <g style=\"fill:#ffffff;\" transform=\"translate(336.807813 162.874712)scale(0.1 -0.1)\">\n     <use xlink:href=\"#DejaVuSans-48\"/>\n    </g>\n   </g>\n   <g id=\"text_86\">\n    <!-- 0 -->\n    <g style=\"fill:#ffffff;\" transform=\"translate(371.146274 162.874712)scale(0.1 -0.1)\">\n     <use xlink:href=\"#DejaVuSans-48\"/>\n    </g>\n   </g>\n   <g id=\"text_87\">\n    <!-- 0 -->\n    <g style=\"fill:#ffffff;\" transform=\"translate(405.484736 162.874712)scale(0.1 -0.1)\">\n     <use xlink:href=\"#DejaVuSans-48\"/>\n    </g>\n   </g>\n   <g id=\"text_88\">\n    <!-- 0 -->\n    <g style=\"fill:#ffffff;\" transform=\"translate(439.823197 162.874712)scale(0.1 -0.1)\">\n     <use xlink:href=\"#DejaVuSans-48\"/>\n    </g>\n   </g>\n   <g id=\"text_89\">\n    <!-- 0 -->\n    <g style=\"fill:#ffffff;\" transform=\"translate(474.161659 162.874712)scale(0.1 -0.1)\">\n     <use xlink:href=\"#DejaVuSans-48\"/>\n    </g>\n   </g>\n   <g id=\"text_90\">\n    <!-- 0.76 -->\n    <defs>\n     <path d=\"M 33.015625 40.375 \nQ 26.375 40.375 22.484375 35.828125 \nQ 18.609375 31.296875 18.609375 23.390625 \nQ 18.609375 15.53125 22.484375 10.953125 \nQ 26.375 6.390625 33.015625 6.390625 \nQ 39.65625 6.390625 43.53125 10.953125 \nQ 47.40625 15.53125 47.40625 23.390625 \nQ 47.40625 31.296875 43.53125 35.828125 \nQ 39.65625 40.375 33.015625 40.375 \nz\nM 52.59375 71.296875 \nL 52.59375 62.3125 \nQ 48.875 64.0625 45.09375 64.984375 \nQ 41.3125 65.921875 37.59375 65.921875 \nQ 27.828125 65.921875 22.671875 59.328125 \nQ 17.53125 52.734375 16.796875 39.40625 \nQ 19.671875 43.65625 24.015625 45.921875 \nQ 28.375 48.1875 33.59375 48.1875 \nQ 44.578125 48.1875 50.953125 41.515625 \nQ 57.328125 34.859375 57.328125 23.390625 \nQ 57.328125 12.15625 50.6875 5.359375 \nQ 44.046875 -1.421875 33.015625 -1.421875 \nQ 20.359375 -1.421875 13.671875 8.265625 \nQ 6.984375 17.96875 6.984375 36.375 \nQ 6.984375 53.65625 15.1875 63.9375 \nQ 23.390625 74.21875 37.203125 74.21875 \nQ 40.921875 74.21875 44.703125 73.484375 \nQ 48.484375 72.75 52.59375 71.296875 \nz\n\" id=\"DejaVuSans-54\"/>\n    </defs>\n    <g style=\"fill:#ffffff;\" transform=\"translate(500.548558 162.874712)scale(0.1 -0.1)\">\n     <use xlink:href=\"#DejaVuSans-48\"/>\n     <use x=\"63.623047\" xlink:href=\"#DejaVuSans-46\"/>\n     <use x=\"95.410156\" xlink:href=\"#DejaVuSans-55\"/>\n     <use x=\"159.033203\" xlink:href=\"#DejaVuSans-54\"/>\n    </g>\n   </g>\n   <g id=\"text_91\">\n    <!-- 0 -->\n    <g style=\"fill:#ffffff;\" transform=\"translate(542.838582 162.874712)scale(0.1 -0.1)\">\n     <use xlink:href=\"#DejaVuSans-48\"/>\n    </g>\n   </g>\n   <g id=\"text_92\">\n    <!-- 0 -->\n    <g style=\"fill:#ffffff;\" transform=\"translate(130.777043 192.145481)scale(0.1 -0.1)\">\n     <use xlink:href=\"#DejaVuSans-48\"/>\n    </g>\n   </g>\n   <g id=\"text_93\">\n    <!-- 0 -->\n    <g style=\"fill:#ffffff;\" transform=\"translate(165.115505 192.145481)scale(0.1 -0.1)\">\n     <use xlink:href=\"#DejaVuSans-48\"/>\n    </g>\n   </g>\n   <g id=\"text_94\">\n    <!-- 0 -->\n    <g style=\"fill:#ffffff;\" transform=\"translate(199.453966 192.145481)scale(0.1 -0.1)\">\n     <use xlink:href=\"#DejaVuSans-48\"/>\n    </g>\n   </g>\n   <g id=\"text_95\">\n    <!-- 0 -->\n    <g style=\"fill:#ffffff;\" transform=\"translate(233.792428 192.145481)scale(0.1 -0.1)\">\n     <use xlink:href=\"#DejaVuSans-48\"/>\n    </g>\n   </g>\n   <g id=\"text_96\">\n    <!-- 0 -->\n    <g style=\"fill:#ffffff;\" transform=\"translate(268.130889 192.145481)scale(0.1 -0.1)\">\n     <use xlink:href=\"#DejaVuSans-48\"/>\n    </g>\n   </g>\n   <g id=\"text_97\">\n    <!-- 1 -->\n    <g style=\"fill:#ffffff;\" transform=\"translate(302.469351 192.145481)scale(0.1 -0.1)\">\n     <use xlink:href=\"#DejaVuSans-49\"/>\n    </g>\n   </g>\n   <g id=\"text_98\">\n    <!-- 0 -->\n    <g style=\"fill:#ffffff;\" transform=\"translate(336.807813 192.145481)scale(0.1 -0.1)\">\n     <use xlink:href=\"#DejaVuSans-48\"/>\n    </g>\n   </g>\n   <g id=\"text_99\">\n    <!-- 0 -->\n    <g style=\"fill:#ffffff;\" transform=\"translate(371.146274 192.145481)scale(0.1 -0.1)\">\n     <use xlink:href=\"#DejaVuSans-48\"/>\n    </g>\n   </g>\n   <g id=\"text_100\">\n    <!-- 0 -->\n    <g style=\"fill:#ffffff;\" transform=\"translate(405.484736 192.145481)scale(0.1 -0.1)\">\n     <use xlink:href=\"#DejaVuSans-48\"/>\n    </g>\n   </g>\n   <g id=\"text_101\">\n    <!-- 0 -->\n    <g style=\"fill:#ffffff;\" transform=\"translate(439.823197 192.145481)scale(0.1 -0.1)\">\n     <use xlink:href=\"#DejaVuSans-48\"/>\n    </g>\n   </g>\n   <g id=\"text_102\">\n    <!-- 0 -->\n    <g style=\"fill:#ffffff;\" transform=\"translate(474.161659 192.145481)scale(0.1 -0.1)\">\n     <use xlink:href=\"#DejaVuSans-48\"/>\n    </g>\n   </g>\n   <g id=\"text_103\">\n    <!-- 0 -->\n    <g style=\"fill:#ffffff;\" transform=\"translate(508.50012 192.145481)scale(0.1 -0.1)\">\n     <use xlink:href=\"#DejaVuSans-48\"/>\n    </g>\n   </g>\n   <g id=\"text_104\">\n    <!-- 0 -->\n    <g style=\"fill:#ffffff;\" transform=\"translate(542.838582 192.145481)scale(0.1 -0.1)\">\n     <use xlink:href=\"#DejaVuSans-48\"/>\n    </g>\n   </g>\n   <g id=\"text_105\">\n    <!-- 0 -->\n    <g style=\"fill:#ffffff;\" transform=\"translate(130.777043 221.41625)scale(0.1 -0.1)\">\n     <use xlink:href=\"#DejaVuSans-48\"/>\n    </g>\n   </g>\n   <g id=\"text_106\">\n    <!-- 0 -->\n    <g style=\"fill:#ffffff;\" transform=\"translate(165.115505 221.41625)scale(0.1 -0.1)\">\n     <use xlink:href=\"#DejaVuSans-48\"/>\n    </g>\n   </g>\n   <g id=\"text_107\">\n    <!-- 0 -->\n    <g style=\"fill:#ffffff;\" transform=\"translate(199.453966 221.41625)scale(0.1 -0.1)\">\n     <use xlink:href=\"#DejaVuSans-48\"/>\n    </g>\n   </g>\n   <g id=\"text_108\">\n    <!-- 0 -->\n    <g style=\"fill:#ffffff;\" transform=\"translate(233.792428 221.41625)scale(0.1 -0.1)\">\n     <use xlink:href=\"#DejaVuSans-48\"/>\n    </g>\n   </g>\n   <g id=\"text_109\">\n    <!-- 0 -->\n    <g style=\"fill:#ffffff;\" transform=\"translate(268.130889 221.41625)scale(0.1 -0.1)\">\n     <use xlink:href=\"#DejaVuSans-48\"/>\n    </g>\n   </g>\n   <g id=\"text_110\">\n    <!-- 0 -->\n    <g style=\"fill:#ffffff;\" transform=\"translate(302.469351 221.41625)scale(0.1 -0.1)\">\n     <use xlink:href=\"#DejaVuSans-48\"/>\n    </g>\n   </g>\n   <g id=\"text_111\">\n    <!-- 1 -->\n    <g style=\"fill:#ffffff;\" transform=\"translate(336.807813 221.41625)scale(0.1 -0.1)\">\n     <use xlink:href=\"#DejaVuSans-49\"/>\n    </g>\n   </g>\n   <g id=\"text_112\">\n    <!-- 0 -->\n    <g style=\"fill:#ffffff;\" transform=\"translate(371.146274 221.41625)scale(0.1 -0.1)\">\n     <use xlink:href=\"#DejaVuSans-48\"/>\n    </g>\n   </g>\n   <g id=\"text_113\">\n    <!-- 0 -->\n    <g style=\"fill:#ffffff;\" transform=\"translate(405.484736 221.41625)scale(0.1 -0.1)\">\n     <use xlink:href=\"#DejaVuSans-48\"/>\n    </g>\n   </g>\n   <g id=\"text_114\">\n    <!-- 0 -->\n    <g style=\"fill:#ffffff;\" transform=\"translate(439.823197 221.41625)scale(0.1 -0.1)\">\n     <use xlink:href=\"#DejaVuSans-48\"/>\n    </g>\n   </g>\n   <g id=\"text_115\">\n    <!-- 0 -->\n    <g style=\"fill:#ffffff;\" transform=\"translate(474.161659 221.41625)scale(0.1 -0.1)\">\n     <use xlink:href=\"#DejaVuSans-48\"/>\n    </g>\n   </g>\n   <g id=\"text_116\">\n    <!-- 0 -->\n    <g style=\"fill:#ffffff;\" transform=\"translate(508.50012 221.41625)scale(0.1 -0.1)\">\n     <use xlink:href=\"#DejaVuSans-48\"/>\n    </g>\n   </g>\n   <g id=\"text_117\">\n    <!-- 0 -->\n    <g style=\"fill:#ffffff;\" transform=\"translate(542.838582 221.41625)scale(0.1 -0.1)\">\n     <use xlink:href=\"#DejaVuSans-48\"/>\n    </g>\n   </g>\n   <g id=\"text_118\">\n    <!-- 0 -->\n    <g style=\"fill:#ffffff;\" transform=\"translate(130.777043 250.687019)scale(0.1 -0.1)\">\n     <use xlink:href=\"#DejaVuSans-48\"/>\n    </g>\n   </g>\n   <g id=\"text_119\">\n    <!-- 0 -->\n    <g style=\"fill:#ffffff;\" transform=\"translate(165.115505 250.687019)scale(0.1 -0.1)\">\n     <use xlink:href=\"#DejaVuSans-48\"/>\n    </g>\n   </g>\n   <g id=\"text_120\">\n    <!-- 0 -->\n    <g style=\"fill:#ffffff;\" transform=\"translate(199.453966 250.687019)scale(0.1 -0.1)\">\n     <use xlink:href=\"#DejaVuSans-48\"/>\n    </g>\n   </g>\n   <g id=\"text_121\">\n    <!-- 0 -->\n    <g style=\"fill:#ffffff;\" transform=\"translate(233.792428 250.687019)scale(0.1 -0.1)\">\n     <use xlink:href=\"#DejaVuSans-48\"/>\n    </g>\n   </g>\n   <g id=\"text_122\">\n    <!-- 0 -->\n    <g style=\"fill:#ffffff;\" transform=\"translate(268.130889 250.687019)scale(0.1 -0.1)\">\n     <use xlink:href=\"#DejaVuSans-48\"/>\n    </g>\n   </g>\n   <g id=\"text_123\">\n    <!-- 0 -->\n    <g style=\"fill:#ffffff;\" transform=\"translate(302.469351 250.687019)scale(0.1 -0.1)\">\n     <use xlink:href=\"#DejaVuSans-48\"/>\n    </g>\n   </g>\n   <g id=\"text_124\">\n    <!-- 0 -->\n    <g style=\"fill:#ffffff;\" transform=\"translate(336.807813 250.687019)scale(0.1 -0.1)\">\n     <use xlink:href=\"#DejaVuSans-48\"/>\n    </g>\n   </g>\n   <g id=\"text_125\">\n    <!-- 1 -->\n    <g style=\"fill:#ffffff;\" transform=\"translate(371.146274 250.687019)scale(0.1 -0.1)\">\n     <use xlink:href=\"#DejaVuSans-49\"/>\n    </g>\n   </g>\n   <g id=\"text_126\">\n    <!-- 0 -->\n    <g style=\"fill:#ffffff;\" transform=\"translate(405.484736 250.687019)scale(0.1 -0.1)\">\n     <use xlink:href=\"#DejaVuSans-48\"/>\n    </g>\n   </g>\n   <g id=\"text_127\">\n    <!-- 0 -->\n    <g style=\"fill:#ffffff;\" transform=\"translate(439.823197 250.687019)scale(0.1 -0.1)\">\n     <use xlink:href=\"#DejaVuSans-48\"/>\n    </g>\n   </g>\n   <g id=\"text_128\">\n    <!-- 0 -->\n    <g style=\"fill:#ffffff;\" transform=\"translate(474.161659 250.687019)scale(0.1 -0.1)\">\n     <use xlink:href=\"#DejaVuSans-48\"/>\n    </g>\n   </g>\n   <g id=\"text_129\">\n    <!-- 0 -->\n    <g style=\"fill:#ffffff;\" transform=\"translate(508.50012 250.687019)scale(0.1 -0.1)\">\n     <use xlink:href=\"#DejaVuSans-48\"/>\n    </g>\n   </g>\n   <g id=\"text_130\">\n    <!-- 0 -->\n    <g style=\"fill:#ffffff;\" transform=\"translate(542.838582 250.687019)scale(0.1 -0.1)\">\n     <use xlink:href=\"#DejaVuSans-48\"/>\n    </g>\n   </g>\n   <g id=\"text_131\">\n    <!-- 0 -->\n    <g style=\"fill:#ffffff;\" transform=\"translate(130.777043 279.957788)scale(0.1 -0.1)\">\n     <use xlink:href=\"#DejaVuSans-48\"/>\n    </g>\n   </g>\n   <g id=\"text_132\">\n    <!-- 0 -->\n    <g style=\"fill:#ffffff;\" transform=\"translate(165.115505 279.957788)scale(0.1 -0.1)\">\n     <use xlink:href=\"#DejaVuSans-48\"/>\n    </g>\n   </g>\n   <g id=\"text_133\">\n    <!-- 0 -->\n    <g style=\"fill:#ffffff;\" transform=\"translate(199.453966 279.957788)scale(0.1 -0.1)\">\n     <use xlink:href=\"#DejaVuSans-48\"/>\n    </g>\n   </g>\n   <g id=\"text_134\">\n    <!-- 0 -->\n    <g style=\"fill:#ffffff;\" transform=\"translate(233.792428 279.957788)scale(0.1 -0.1)\">\n     <use xlink:href=\"#DejaVuSans-48\"/>\n    </g>\n   </g>\n   <g id=\"text_135\">\n    <!-- 0 -->\n    <g style=\"fill:#ffffff;\" transform=\"translate(268.130889 279.957788)scale(0.1 -0.1)\">\n     <use xlink:href=\"#DejaVuSans-48\"/>\n    </g>\n   </g>\n   <g id=\"text_136\">\n    <!-- 0 -->\n    <g style=\"fill:#ffffff;\" transform=\"translate(302.469351 279.957788)scale(0.1 -0.1)\">\n     <use xlink:href=\"#DejaVuSans-48\"/>\n    </g>\n   </g>\n   <g id=\"text_137\">\n    <!-- 0 -->\n    <g style=\"fill:#ffffff;\" transform=\"translate(336.807813 279.957788)scale(0.1 -0.1)\">\n     <use xlink:href=\"#DejaVuSans-48\"/>\n    </g>\n   </g>\n   <g id=\"text_138\">\n    <!-- 0 -->\n    <g style=\"fill:#ffffff;\" transform=\"translate(371.146274 279.957788)scale(0.1 -0.1)\">\n     <use xlink:href=\"#DejaVuSans-48\"/>\n    </g>\n   </g>\n   <g id=\"text_139\">\n    <!-- 1 -->\n    <g style=\"fill:#ffffff;\" transform=\"translate(405.484736 279.957788)scale(0.1 -0.1)\">\n     <use xlink:href=\"#DejaVuSans-49\"/>\n    </g>\n   </g>\n   <g id=\"text_140\">\n    <!-- 0 -->\n    <g style=\"fill:#ffffff;\" transform=\"translate(439.823197 279.957788)scale(0.1 -0.1)\">\n     <use xlink:href=\"#DejaVuSans-48\"/>\n    </g>\n   </g>\n   <g id=\"text_141\">\n    <!-- 0 -->\n    <g style=\"fill:#ffffff;\" transform=\"translate(474.161659 279.957788)scale(0.1 -0.1)\">\n     <use xlink:href=\"#DejaVuSans-48\"/>\n    </g>\n   </g>\n   <g id=\"text_142\">\n    <!-- 0 -->\n    <g style=\"fill:#ffffff;\" transform=\"translate(508.50012 279.957788)scale(0.1 -0.1)\">\n     <use xlink:href=\"#DejaVuSans-48\"/>\n    </g>\n   </g>\n   <g id=\"text_143\">\n    <!-- 0 -->\n    <g style=\"fill:#ffffff;\" transform=\"translate(542.838582 279.957788)scale(0.1 -0.1)\">\n     <use xlink:href=\"#DejaVuSans-48\"/>\n    </g>\n   </g>\n   <g id=\"text_144\">\n    <!-- 0 -->\n    <g style=\"fill:#ffffff;\" transform=\"translate(130.777043 309.228558)scale(0.1 -0.1)\">\n     <use xlink:href=\"#DejaVuSans-48\"/>\n    </g>\n   </g>\n   <g id=\"text_145\">\n    <!-- 0 -->\n    <g style=\"fill:#ffffff;\" transform=\"translate(165.115505 309.228558)scale(0.1 -0.1)\">\n     <use xlink:href=\"#DejaVuSans-48\"/>\n    </g>\n   </g>\n   <g id=\"text_146\">\n    <!-- 0 -->\n    <g style=\"fill:#ffffff;\" transform=\"translate(199.453966 309.228558)scale(0.1 -0.1)\">\n     <use xlink:href=\"#DejaVuSans-48\"/>\n    </g>\n   </g>\n   <g id=\"text_147\">\n    <!-- 0 -->\n    <g style=\"fill:#ffffff;\" transform=\"translate(233.792428 309.228558)scale(0.1 -0.1)\">\n     <use xlink:href=\"#DejaVuSans-48\"/>\n    </g>\n   </g>\n   <g id=\"text_148\">\n    <!-- 0 -->\n    <g style=\"fill:#ffffff;\" transform=\"translate(268.130889 309.228558)scale(0.1 -0.1)\">\n     <use xlink:href=\"#DejaVuSans-48\"/>\n    </g>\n   </g>\n   <g id=\"text_149\">\n    <!-- 0 -->\n    <g style=\"fill:#ffffff;\" transform=\"translate(302.469351 309.228558)scale(0.1 -0.1)\">\n     <use xlink:href=\"#DejaVuSans-48\"/>\n    </g>\n   </g>\n   <g id=\"text_150\">\n    <!-- 0 -->\n    <g style=\"fill:#ffffff;\" transform=\"translate(336.807813 309.228558)scale(0.1 -0.1)\">\n     <use xlink:href=\"#DejaVuSans-48\"/>\n    </g>\n   </g>\n   <g id=\"text_151\">\n    <!-- 0 -->\n    <g style=\"fill:#ffffff;\" transform=\"translate(371.146274 309.228558)scale(0.1 -0.1)\">\n     <use xlink:href=\"#DejaVuSans-48\"/>\n    </g>\n   </g>\n   <g id=\"text_152\">\n    <!-- 0 -->\n    <g style=\"fill:#ffffff;\" transform=\"translate(405.484736 309.228558)scale(0.1 -0.1)\">\n     <use xlink:href=\"#DejaVuSans-48\"/>\n    </g>\n   </g>\n   <g id=\"text_153\">\n    <!-- 1 -->\n    <g style=\"fill:#ffffff;\" transform=\"translate(439.823197 309.228558)scale(0.1 -0.1)\">\n     <use xlink:href=\"#DejaVuSans-49\"/>\n    </g>\n   </g>\n   <g id=\"text_154\">\n    <!-- 0 -->\n    <g style=\"fill:#ffffff;\" transform=\"translate(474.161659 309.228558)scale(0.1 -0.1)\">\n     <use xlink:href=\"#DejaVuSans-48\"/>\n    </g>\n   </g>\n   <g id=\"text_155\">\n    <!-- 0 -->\n    <g style=\"fill:#ffffff;\" transform=\"translate(508.50012 309.228558)scale(0.1 -0.1)\">\n     <use xlink:href=\"#DejaVuSans-48\"/>\n    </g>\n   </g>\n   <g id=\"text_156\">\n    <!-- 0 -->\n    <g style=\"fill:#ffffff;\" transform=\"translate(542.838582 309.228558)scale(0.1 -0.1)\">\n     <use xlink:href=\"#DejaVuSans-48\"/>\n    </g>\n   </g>\n   <g id=\"text_157\">\n    <!-- 0 -->\n    <g style=\"fill:#ffffff;\" transform=\"translate(130.777043 338.499327)scale(0.1 -0.1)\">\n     <use xlink:href=\"#DejaVuSans-48\"/>\n    </g>\n   </g>\n   <g id=\"text_158\">\n    <!-- 0 -->\n    <g style=\"fill:#ffffff;\" transform=\"translate(165.115505 338.499327)scale(0.1 -0.1)\">\n     <use xlink:href=\"#DejaVuSans-48\"/>\n    </g>\n   </g>\n   <g id=\"text_159\">\n    <!-- 0 -->\n    <g style=\"fill:#ffffff;\" transform=\"translate(199.453966 338.499327)scale(0.1 -0.1)\">\n     <use xlink:href=\"#DejaVuSans-48\"/>\n    </g>\n   </g>\n   <g id=\"text_160\">\n    <!-- 0 -->\n    <g style=\"fill:#ffffff;\" transform=\"translate(233.792428 338.499327)scale(0.1 -0.1)\">\n     <use xlink:href=\"#DejaVuSans-48\"/>\n    </g>\n   </g>\n   <g id=\"text_161\">\n    <!-- 0 -->\n    <g style=\"fill:#ffffff;\" transform=\"translate(268.130889 338.499327)scale(0.1 -0.1)\">\n     <use xlink:href=\"#DejaVuSans-48\"/>\n    </g>\n   </g>\n   <g id=\"text_162\">\n    <!-- 0 -->\n    <g style=\"fill:#ffffff;\" transform=\"translate(302.469351 338.499327)scale(0.1 -0.1)\">\n     <use xlink:href=\"#DejaVuSans-48\"/>\n    </g>\n   </g>\n   <g id=\"text_163\">\n    <!-- 0 -->\n    <g style=\"fill:#ffffff;\" transform=\"translate(336.807813 338.499327)scale(0.1 -0.1)\">\n     <use xlink:href=\"#DejaVuSans-48\"/>\n    </g>\n   </g>\n   <g id=\"text_164\">\n    <!-- 0 -->\n    <g style=\"fill:#ffffff;\" transform=\"translate(371.146274 338.499327)scale(0.1 -0.1)\">\n     <use xlink:href=\"#DejaVuSans-48\"/>\n    </g>\n   </g>\n   <g id=\"text_165\">\n    <!-- 0 -->\n    <g style=\"fill:#ffffff;\" transform=\"translate(405.484736 338.499327)scale(0.1 -0.1)\">\n     <use xlink:href=\"#DejaVuSans-48\"/>\n    </g>\n   </g>\n   <g id=\"text_166\">\n    <!-- 0 -->\n    <g style=\"fill:#ffffff;\" transform=\"translate(439.823197 338.499327)scale(0.1 -0.1)\">\n     <use xlink:href=\"#DejaVuSans-48\"/>\n    </g>\n   </g>\n   <g id=\"text_167\">\n    <!-- 1 -->\n    <g style=\"fill:#ffffff;\" transform=\"translate(474.161659 338.499327)scale(0.1 -0.1)\">\n     <use xlink:href=\"#DejaVuSans-49\"/>\n    </g>\n   </g>\n   <g id=\"text_168\">\n    <!-- 0 -->\n    <g style=\"fill:#ffffff;\" transform=\"translate(508.50012 338.499327)scale(0.1 -0.1)\">\n     <use xlink:href=\"#DejaVuSans-48\"/>\n    </g>\n   </g>\n   <g id=\"text_169\">\n    <!-- 0 -->\n    <g style=\"fill:#ffffff;\" transform=\"translate(542.838582 338.499327)scale(0.1 -0.1)\">\n     <use xlink:href=\"#DejaVuSans-48\"/>\n    </g>\n   </g>\n   <g id=\"text_170\">\n    <!-- 0 -->\n    <g style=\"fill:#ffffff;\" transform=\"translate(130.777043 367.770096)scale(0.1 -0.1)\">\n     <use xlink:href=\"#DejaVuSans-48\"/>\n    </g>\n   </g>\n   <g id=\"text_171\">\n    <!-- 0 -->\n    <g style=\"fill:#ffffff;\" transform=\"translate(165.115505 367.770096)scale(0.1 -0.1)\">\n     <use xlink:href=\"#DejaVuSans-48\"/>\n    </g>\n   </g>\n   <g id=\"text_172\">\n    <!-- 0 -->\n    <g style=\"fill:#ffffff;\" transform=\"translate(199.453966 367.770096)scale(0.1 -0.1)\">\n     <use xlink:href=\"#DejaVuSans-48\"/>\n    </g>\n   </g>\n   <g id=\"text_173\">\n    <!-- 0.73 -->\n    <g style=\"fill:#262626;\" transform=\"translate(225.840865 367.770096)scale(0.1 -0.1)\">\n     <use xlink:href=\"#DejaVuSans-48\"/>\n     <use x=\"63.623047\" xlink:href=\"#DejaVuSans-46\"/>\n     <use x=\"95.410156\" xlink:href=\"#DejaVuSans-55\"/>\n     <use x=\"159.033203\" xlink:href=\"#DejaVuSans-51\"/>\n    </g>\n   </g>\n   <g id=\"text_174\">\n    <!-- 0.76 -->\n    <g style=\"fill:#ffffff;\" transform=\"translate(260.179327 367.770096)scale(0.1 -0.1)\">\n     <use xlink:href=\"#DejaVuSans-48\"/>\n     <use x=\"63.623047\" xlink:href=\"#DejaVuSans-46\"/>\n     <use x=\"95.410156\" xlink:href=\"#DejaVuSans-55\"/>\n     <use x=\"159.033203\" xlink:href=\"#DejaVuSans-54\"/>\n    </g>\n   </g>\n   <g id=\"text_175\">\n    <!-- 0 -->\n    <g style=\"fill:#ffffff;\" transform=\"translate(302.469351 367.770096)scale(0.1 -0.1)\">\n     <use xlink:href=\"#DejaVuSans-48\"/>\n    </g>\n   </g>\n   <g id=\"text_176\">\n    <!-- 0 -->\n    <g style=\"fill:#ffffff;\" transform=\"translate(336.807813 367.770096)scale(0.1 -0.1)\">\n     <use xlink:href=\"#DejaVuSans-48\"/>\n    </g>\n   </g>\n   <g id=\"text_177\">\n    <!-- 0 -->\n    <g style=\"fill:#ffffff;\" transform=\"translate(371.146274 367.770096)scale(0.1 -0.1)\">\n     <use xlink:href=\"#DejaVuSans-48\"/>\n    </g>\n   </g>\n   <g id=\"text_178\">\n    <!-- 0 -->\n    <g style=\"fill:#ffffff;\" transform=\"translate(405.484736 367.770096)scale(0.1 -0.1)\">\n     <use xlink:href=\"#DejaVuSans-48\"/>\n    </g>\n   </g>\n   <g id=\"text_179\">\n    <!-- 0 -->\n    <g style=\"fill:#ffffff;\" transform=\"translate(439.823197 367.770096)scale(0.1 -0.1)\">\n     <use xlink:href=\"#DejaVuSans-48\"/>\n    </g>\n   </g>\n   <g id=\"text_180\">\n    <!-- 0 -->\n    <g style=\"fill:#ffffff;\" transform=\"translate(474.161659 367.770096)scale(0.1 -0.1)\">\n     <use xlink:href=\"#DejaVuSans-48\"/>\n    </g>\n   </g>\n   <g id=\"text_181\">\n    <!-- 1 -->\n    <g style=\"fill:#ffffff;\" transform=\"translate(508.50012 367.770096)scale(0.1 -0.1)\">\n     <use xlink:href=\"#DejaVuSans-49\"/>\n    </g>\n   </g>\n   <g id=\"text_182\">\n    <!-- 0 -->\n    <g style=\"fill:#ffffff;\" transform=\"translate(542.838582 367.770096)scale(0.1 -0.1)\">\n     <use xlink:href=\"#DejaVuSans-48\"/>\n    </g>\n   </g>\n   <g id=\"text_183\">\n    <!-- 0 -->\n    <g style=\"fill:#ffffff;\" transform=\"translate(130.777043 397.040865)scale(0.1 -0.1)\">\n     <use xlink:href=\"#DejaVuSans-48\"/>\n    </g>\n   </g>\n   <g id=\"text_184\">\n    <!-- 0 -->\n    <g style=\"fill:#ffffff;\" transform=\"translate(165.115505 397.040865)scale(0.1 -0.1)\">\n     <use xlink:href=\"#DejaVuSans-48\"/>\n    </g>\n   </g>\n   <g id=\"text_185\">\n    <!-- 0 -->\n    <g style=\"fill:#ffffff;\" transform=\"translate(199.453966 397.040865)scale(0.1 -0.1)\">\n     <use xlink:href=\"#DejaVuSans-48\"/>\n    </g>\n   </g>\n   <g id=\"text_186\">\n    <!-- 0 -->\n    <g style=\"fill:#ffffff;\" transform=\"translate(233.792428 397.040865)scale(0.1 -0.1)\">\n     <use xlink:href=\"#DejaVuSans-48\"/>\n    </g>\n   </g>\n   <g id=\"text_187\">\n    <!-- 0 -->\n    <g style=\"fill:#ffffff;\" transform=\"translate(268.130889 397.040865)scale(0.1 -0.1)\">\n     <use xlink:href=\"#DejaVuSans-48\"/>\n    </g>\n   </g>\n   <g id=\"text_188\">\n    <!-- 0 -->\n    <g style=\"fill:#ffffff;\" transform=\"translate(302.469351 397.040865)scale(0.1 -0.1)\">\n     <use xlink:href=\"#DejaVuSans-48\"/>\n    </g>\n   </g>\n   <g id=\"text_189\">\n    <!-- 0 -->\n    <g style=\"fill:#ffffff;\" transform=\"translate(336.807813 397.040865)scale(0.1 -0.1)\">\n     <use xlink:href=\"#DejaVuSans-48\"/>\n    </g>\n   </g>\n   <g id=\"text_190\">\n    <!-- 0 -->\n    <g style=\"fill:#ffffff;\" transform=\"translate(371.146274 397.040865)scale(0.1 -0.1)\">\n     <use xlink:href=\"#DejaVuSans-48\"/>\n    </g>\n   </g>\n   <g id=\"text_191\">\n    <!-- 0 -->\n    <g style=\"fill:#ffffff;\" transform=\"translate(405.484736 397.040865)scale(0.1 -0.1)\">\n     <use xlink:href=\"#DejaVuSans-48\"/>\n    </g>\n   </g>\n   <g id=\"text_192\">\n    <!-- 0 -->\n    <g style=\"fill:#ffffff;\" transform=\"translate(439.823197 397.040865)scale(0.1 -0.1)\">\n     <use xlink:href=\"#DejaVuSans-48\"/>\n    </g>\n   </g>\n   <g id=\"text_193\">\n    <!-- 0 -->\n    <g style=\"fill:#ffffff;\" transform=\"translate(474.161659 397.040865)scale(0.1 -0.1)\">\n     <use xlink:href=\"#DejaVuSans-48\"/>\n    </g>\n   </g>\n   <g id=\"text_194\">\n    <!-- 0 -->\n    <g style=\"fill:#ffffff;\" transform=\"translate(508.50012 397.040865)scale(0.1 -0.1)\">\n     <use xlink:href=\"#DejaVuSans-48\"/>\n    </g>\n   </g>\n   <g id=\"text_195\">\n    <!-- 1 -->\n    <g style=\"fill:#ffffff;\" transform=\"translate(542.838582 397.040865)scale(0.1 -0.1)\">\n     <use xlink:href=\"#DejaVuSans-49\"/>\n    </g>\n   </g>\n   <g id=\"text_196\">\n    <!-- Correlation matrix -->\n    <defs>\n     <path d=\"M 64.40625 67.28125 \nL 64.40625 56.890625 \nQ 59.421875 61.53125 53.78125 63.8125 \nQ 48.140625 66.109375 41.796875 66.109375 \nQ 29.296875 66.109375 22.65625 58.46875 \nQ 16.015625 50.828125 16.015625 36.375 \nQ 16.015625 21.96875 22.65625 14.328125 \nQ 29.296875 6.6875 41.796875 6.6875 \nQ 48.140625 6.6875 53.78125 8.984375 \nQ 59.421875 11.28125 64.40625 15.921875 \nL 64.40625 5.609375 \nQ 59.234375 2.09375 53.4375 0.328125 \nQ 47.65625 -1.421875 41.21875 -1.421875 \nQ 24.65625 -1.421875 15.125 8.703125 \nQ 5.609375 18.84375 5.609375 36.375 \nQ 5.609375 53.953125 15.125 64.078125 \nQ 24.65625 74.21875 41.21875 74.21875 \nQ 47.75 74.21875 53.53125 72.484375 \nQ 59.328125 70.75 64.40625 67.28125 \nz\n\" id=\"DejaVuSans-67\"/>\n     <path id=\"DejaVuSans-32\"/>\n    </defs>\n    <g transform=\"translate(249.076563 22.396875)scale(0.2 -0.2)\">\n     <use xlink:href=\"#DejaVuSans-67\"/>\n     <use x=\"69.824219\" xlink:href=\"#DejaVuSans-111\"/>\n     <use x=\"131.005859\" xlink:href=\"#DejaVuSans-114\"/>\n     <use x=\"170.369141\" xlink:href=\"#DejaVuSans-114\"/>\n     <use x=\"209.232422\" xlink:href=\"#DejaVuSans-101\"/>\n     <use x=\"270.755859\" xlink:href=\"#DejaVuSans-108\"/>\n     <use x=\"298.539062\" xlink:href=\"#DejaVuSans-97\"/>\n     <use x=\"359.818359\" xlink:href=\"#DejaVuSans-116\"/>\n     <use x=\"399.027344\" xlink:href=\"#DejaVuSans-105\"/>\n     <use x=\"426.810547\" xlink:href=\"#DejaVuSans-111\"/>\n     <use x=\"487.992188\" xlink:href=\"#DejaVuSans-110\"/>\n     <use x=\"551.371094\" xlink:href=\"#DejaVuSans-32\"/>\n     <use x=\"583.158203\" xlink:href=\"#DejaVuSans-109\"/>\n     <use x=\"680.570312\" xlink:href=\"#DejaVuSans-97\"/>\n     <use x=\"741.849609\" xlink:href=\"#DejaVuSans-116\"/>\n     <use x=\"781.058594\" xlink:href=\"#DejaVuSans-114\"/>\n     <use x=\"822.171875\" xlink:href=\"#DejaVuSans-105\"/>\n     <use x=\"849.955078\" xlink:href=\"#DejaVuSans-120\"/>\n    </g>\n   </g>\n  </g>\n  <g id=\"axes_2\">\n   <g id=\"patch_3\">\n    <path clip-path=\"url(#p2c0add7a4c)\" d=\"M 591.089063 408.916875 \nL 591.089063 407.430469 \nL 591.089063 29.883281 \nL 591.089063 28.396875 \nL 610.115063 28.396875 \nL 610.115063 29.883281 \nL 610.115063 407.430469 \nL 610.115063 408.916875 \nz\n\" style=\"fill:#ffffff;stroke:#ffffff;stroke-linejoin:miter;stroke-width:0.01;\"/>\n   </g>\n   <image height=\"380\" id=\"image6968284ef0\" transform=\"scale(1 -1)translate(0 -380)\" width=\"19\" x=\"591\" xlink:href=\"data:image/png;base64,\niVBORw0KGgoAAAANSUhEUgAAABMAAAF8CAYAAAAthYD3AAAABHNCSVQICAgIfAhkiAAAAe9JREFUeJztm9ttAzEMBCnjevJHKk6RubgGHgbwALssYKER37Lv/L5//geya16H0prrnBcmxinNzHVQTFCMxRzQAWLMc1BvWoMWzk2tN0EHiDFbaZ+IWTGHLUHWoCXjDM2AkIaCxlnL9t7YekbOZ2JMb3fqSLUXCylBIZjeoO2AvBdrQ1lbg3ZvKZhwblorbUxDycBMefQNeYqQejNl1gjB9DZhdtZIeUG2YqJPq2RHF2N6vRkya4RgdqR6IKbFhIPWW4IiKm1n2gdiWsyQp4j+IPNlsZQ7y8DsurM29UgVEbTe3ISbsDVoY/6BmZGbIVtdxh7Qre6BmBaTfYrI6JveDWUGzU1MSxy06Mm83hRjYl+CDn4y8Gj0nXFHM2OCJ7tuUI3GjPAm6QD0zmDMOwOT9CZ5Zy1Be2vQflkMDlrSm2JMNDe1JSilb7ahrMW8uRnTUEAxM2ZzcyuWUrbZWQPTMu/o3rLdkWov1heXtYmbsDdotd1JXWkxLXVu3piWGjPDm96g7RS0F/M2FHh55cTEuRmCGVOCMC01JjgexNyZFjOmnqFi1iYMb3WcWHNzbw3aB2JkdxJ7M+X9TJubIe9nId6MWV5RsQbt0sSYMUHLiZkxM6YgrRh7Z38ZmPXmXqyYaxNjkmIw5g1+DKrF/ACmWzhHZj4gfAAAAABJRU5ErkJggg==\" y=\"-28\"/>\n   <g id=\"matplotlib.axis_3\"/>\n   <g id=\"matplotlib.axis_4\">\n    <g id=\"ytick_14\">\n     <g id=\"line2d_27\">\n      <defs>\n       <path d=\"M 0 0 \nL 3.5 0 \n\" id=\"md8c1192d8e\" style=\"stroke:#000000;stroke-width:0.8;\"/>\n      </defs>\n      <g>\n       <use style=\"stroke:#000000;stroke-width:0.8;\" x=\"610.115063\" xlink:href=\"#md8c1192d8e\" y=\"408.916875\"/>\n      </g>\n     </g>\n     <g id=\"text_197\">\n      <!-- 0.0 -->\n      <g transform=\"translate(617.115063 412.716094)scale(0.1 -0.1)\">\n       <use xlink:href=\"#DejaVuSans-48\"/>\n       <use x=\"63.623047\" xlink:href=\"#DejaVuSans-46\"/>\n       <use x=\"95.410156\" xlink:href=\"#DejaVuSans-48\"/>\n      </g>\n     </g>\n    </g>\n    <g id=\"ytick_15\">\n     <g id=\"line2d_28\">\n      <g>\n       <use style=\"stroke:#000000;stroke-width:0.8;\" x=\"610.115063\" xlink:href=\"#md8c1192d8e\" y=\"332.812875\"/>\n      </g>\n     </g>\n     <g id=\"text_198\">\n      <!-- 0.2 -->\n      <defs>\n       <path d=\"M 19.1875 8.296875 \nL 53.609375 8.296875 \nL 53.609375 0 \nL 7.328125 0 \nL 7.328125 8.296875 \nQ 12.9375 14.109375 22.625 23.890625 \nQ 32.328125 33.6875 34.8125 36.53125 \nQ 39.546875 41.84375 41.421875 45.53125 \nQ 43.3125 49.21875 43.3125 52.78125 \nQ 43.3125 58.59375 39.234375 62.25 \nQ 35.15625 65.921875 28.609375 65.921875 \nQ 23.96875 65.921875 18.8125 64.3125 \nQ 13.671875 62.703125 7.8125 59.421875 \nL 7.8125 69.390625 \nQ 13.765625 71.78125 18.9375 73 \nQ 24.125 74.21875 28.421875 74.21875 \nQ 39.75 74.21875 46.484375 68.546875 \nQ 53.21875 62.890625 53.21875 53.421875 \nQ 53.21875 48.921875 51.53125 44.890625 \nQ 49.859375 40.875 45.40625 35.40625 \nQ 44.1875 33.984375 37.640625 27.21875 \nQ 31.109375 20.453125 19.1875 8.296875 \nz\n\" id=\"DejaVuSans-50\"/>\n      </defs>\n      <g transform=\"translate(617.115063 336.612094)scale(0.1 -0.1)\">\n       <use xlink:href=\"#DejaVuSans-48\"/>\n       <use x=\"63.623047\" xlink:href=\"#DejaVuSans-46\"/>\n       <use x=\"95.410156\" xlink:href=\"#DejaVuSans-50\"/>\n      </g>\n     </g>\n    </g>\n    <g id=\"ytick_16\">\n     <g id=\"line2d_29\">\n      <g>\n       <use style=\"stroke:#000000;stroke-width:0.8;\" x=\"610.115063\" xlink:href=\"#md8c1192d8e\" y=\"256.708875\"/>\n      </g>\n     </g>\n     <g id=\"text_199\">\n      <!-- 0.4 -->\n      <defs>\n       <path d=\"M 37.796875 64.3125 \nL 12.890625 25.390625 \nL 37.796875 25.390625 \nz\nM 35.203125 72.90625 \nL 47.609375 72.90625 \nL 47.609375 25.390625 \nL 58.015625 25.390625 \nL 58.015625 17.1875 \nL 47.609375 17.1875 \nL 47.609375 0 \nL 37.796875 0 \nL 37.796875 17.1875 \nL 4.890625 17.1875 \nL 4.890625 26.703125 \nz\n\" id=\"DejaVuSans-52\"/>\n      </defs>\n      <g transform=\"translate(617.115063 260.508094)scale(0.1 -0.1)\">\n       <use xlink:href=\"#DejaVuSans-48\"/>\n       <use x=\"63.623047\" xlink:href=\"#DejaVuSans-46\"/>\n       <use x=\"95.410156\" xlink:href=\"#DejaVuSans-52\"/>\n      </g>\n     </g>\n    </g>\n    <g id=\"ytick_17\">\n     <g id=\"line2d_30\">\n      <g>\n       <use style=\"stroke:#000000;stroke-width:0.8;\" x=\"610.115063\" xlink:href=\"#md8c1192d8e\" y=\"180.604875\"/>\n      </g>\n     </g>\n     <g id=\"text_200\">\n      <!-- 0.6 -->\n      <g transform=\"translate(617.115063 184.404094)scale(0.1 -0.1)\">\n       <use xlink:href=\"#DejaVuSans-48\"/>\n       <use x=\"63.623047\" xlink:href=\"#DejaVuSans-46\"/>\n       <use x=\"95.410156\" xlink:href=\"#DejaVuSans-54\"/>\n      </g>\n     </g>\n    </g>\n    <g id=\"ytick_18\">\n     <g id=\"line2d_31\">\n      <g>\n       <use style=\"stroke:#000000;stroke-width:0.8;\" x=\"610.115063\" xlink:href=\"#md8c1192d8e\" y=\"104.500875\"/>\n      </g>\n     </g>\n     <g id=\"text_201\">\n      <!-- 0.8 -->\n      <g transform=\"translate(617.115063 108.300094)scale(0.1 -0.1)\">\n       <use xlink:href=\"#DejaVuSans-48\"/>\n       <use x=\"63.623047\" xlink:href=\"#DejaVuSans-46\"/>\n       <use x=\"95.410156\" xlink:href=\"#DejaVuSans-56\"/>\n      </g>\n     </g>\n    </g>\n    <g id=\"ytick_19\">\n     <g id=\"line2d_32\">\n      <g>\n       <use style=\"stroke:#000000;stroke-width:0.8;\" x=\"610.115063\" xlink:href=\"#md8c1192d8e\" y=\"28.396875\"/>\n      </g>\n     </g>\n     <g id=\"text_202\">\n      <!-- 1.0 -->\n      <g transform=\"translate(617.115063 32.196094)scale(0.1 -0.1)\">\n       <use xlink:href=\"#DejaVuSans-49\"/>\n       <use x=\"63.623047\" xlink:href=\"#DejaVuSans-46\"/>\n       <use x=\"95.410156\" xlink:href=\"#DejaVuSans-48\"/>\n      </g>\n     </g>\n    </g>\n   </g>\n   <g id=\"patch_4\">\n    <path d=\"M 591.089063 408.916875 \nL 591.089063 407.430469 \nL 591.089063 29.883281 \nL 591.089063 28.396875 \nL 610.115063 28.396875 \nL 610.115063 29.883281 \nL 610.115063 407.430469 \nL 610.115063 408.916875 \nz\n\" style=\"fill:none;\"/>\n   </g>\n  </g>\n </g>\n <defs>\n  <clipPath id=\"p0d77c3625b\">\n   <rect height=\"380.52\" width=\"446.4\" x=\"116.789062\" y=\"28.396875\"/>\n  </clipPath>\n  <clipPath id=\"p2c0add7a4c\">\n   <rect height=\"380.52\" width=\"19.026\" x=\"591.089063\" y=\"28.396875\"/>\n  </clipPath>\n </defs>\n</svg>\n"
          },
          "metadata": {
            "needs_background": "light"
          }
        }
      ]
    },
    {
      "cell_type": "markdown",
      "metadata": {
        "id": "m1R5Edi9fY7l"
      },
      "source": [
        "Видно, средний балл зависит от квалификации преподавателя, а от этого зависит цена за урок. Зена за урок является одним из решающих факторов выбора преподавателя для подготовки к экзаменам"
      ],
      "id": "m1R5Edi9fY7l"
    },
    {
      "cell_type": "markdown",
      "metadata": {
        "id": "bAgiz7uaQPaJ"
      },
      "source": [
        "## Новые признаки"
      ],
      "id": "bAgiz7uaQPaJ"
    },
    {
      "cell_type": "code",
      "metadata": {
        "id": "phpS8Of_QOdg"
      },
      "source": [
        "df_train['No_science'] = 0\n",
        "df_test['No_science'] = 0"
      ],
      "id": "phpS8Of_QOdg",
      "execution_count": null,
      "outputs": []
    },
    {
      "cell_type": "code",
      "metadata": {
        "id": "sqKE7my4RHIj"
      },
      "source": [
        "df_train['No_science'].loc[(df_train['chemistry'] == 1) | (df_train['biology'] == 1) | \n",
        "                          (df_train['english'] == 1) | (df_train['geography'] == 1) | \n",
        "                          (df_train['history'] == 1)] = 1\n",
        "\n",
        "df_test['No_science'].loc[(df_test['chemistry'] == 1) | (df_test['biology'] == 1) | \n",
        "                          (df_test['english'] == 1) | (df_test['geography'] == 1) | \n",
        "                          (df_test['history'] == 1)] = 1"
      ],
      "id": "sqKE7my4RHIj",
      "execution_count": null,
      "outputs": []
    },
    {
      "cell_type": "code",
      "metadata": {
        "colab": {
          "base_uri": "https://localhost:8080/"
        },
        "id": "Y89-9lOfX-6J",
        "outputId": "9048cc6d-3db1-4f7b-91bd-49bdbe96084f"
      },
      "source": [
        "df_test['No_science'].value_counts()"
      ],
      "id": "Y89-9lOfX-6J",
      "execution_count": null,
      "outputs": [
        {
          "output_type": "execute_result",
          "data": {
            "text/plain": [
              "0    6997\n",
              "1    3003\n",
              "Name: No_science, dtype: int64"
            ]
          },
          "metadata": {},
          "execution_count": 17
        }
      ]
    },
    {
      "cell_type": "code",
      "metadata": {
        "id": "mrhN0dp0qvEj"
      },
      "source": [
        "columns = ['physics', 'chemistry', 'biology', 'english', 'geography', 'history']\n",
        "df_train['knowledges'] = df_train[columns].sum(axis=1)\n",
        "df_test['knowledges'] = df_test[columns].sum(axis=1)"
      ],
      "id": "mrhN0dp0qvEj",
      "execution_count": null,
      "outputs": []
    },
    {
      "cell_type": "code",
      "metadata": {
        "colab": {
          "base_uri": "https://localhost:8080/"
        },
        "id": "jT1us-nJMEgV",
        "outputId": "2cba8a21-a22f-43ac-fa60-a8c2d0ea0698"
      },
      "source": [
        "# разносторонне развитый препод не всегда хорошо (чем больше предметов ведет, тем меньше его можно рекомендовать для сдачи экзамена по математике)\n",
        "\n",
        "df_train.groupby('knowledges')['choose'].value_counts()"
      ],
      "id": "jT1us-nJMEgV",
      "execution_count": null,
      "outputs": [
        {
          "output_type": "execute_result",
          "data": {
            "text/plain": [
              "knowledges  choose\n",
              "0.0         0         4174\n",
              "            1          207\n",
              "1.0         0         3670\n",
              "            1          582\n",
              "2.0         0          946\n",
              "            1          270\n",
              "3.0         0           97\n",
              "            1           50\n",
              "4.0         0            4\n",
              "Name: choose, dtype: int64"
            ]
          },
          "metadata": {},
          "execution_count": 19
        }
      ]
    },
    {
      "cell_type": "code",
      "metadata": {
        "colab": {
          "base_uri": "https://localhost:8080/"
        },
        "id": "uN4uDvP68i20",
        "outputId": "e86a31f6-fcf3-4d96-ad47-0df5d17dc23a"
      },
      "source": [
        "# Разобьем признак на 10 групп\n",
        "df_train['age'] = pd.cut(df_train['age'], 10, labels=False)\n",
        "df_train['age']"
      ],
      "id": "uN4uDvP68i20",
      "execution_count": null,
      "outputs": [
        {
          "output_type": "execute_result",
          "data": {
            "text/plain": [
              "0       2\n",
              "1       6\n",
              "2       1\n",
              "3       2\n",
              "4       5\n",
              "       ..\n",
              "9995    7\n",
              "9996    6\n",
              "9997    4\n",
              "9998    3\n",
              "9999    3\n",
              "Name: age, Length: 10000, dtype: int64"
            ]
          },
          "metadata": {},
          "execution_count": 20
        }
      ]
    },
    {
      "cell_type": "code",
      "metadata": {
        "colab": {
          "base_uri": "https://localhost:8080/",
          "height": 444
        },
        "id": "clwvMgKQLomO",
        "outputId": "36ea83ac-e147-4241-a733-407da289cfe0"
      },
      "source": [
        "df_train.loc[df_train['mean_exam_points'].between(50, 70)]"
      ],
      "id": "clwvMgKQLomO",
      "execution_count": null,
      "outputs": [
        {
          "output_type": "execute_result",
          "data": {
            "text/html": [
              "<div>\n",
              "<style scoped>\n",
              "    .dataframe tbody tr th:only-of-type {\n",
              "        vertical-align: middle;\n",
              "    }\n",
              "\n",
              "    .dataframe tbody tr th {\n",
              "        vertical-align: top;\n",
              "    }\n",
              "\n",
              "    .dataframe thead th {\n",
              "        text-align: right;\n",
              "    }\n",
              "</style>\n",
              "<table border=\"1\" class=\"dataframe\">\n",
              "  <thead>\n",
              "    <tr style=\"text-align: right;\">\n",
              "      <th></th>\n",
              "      <th>Id</th>\n",
              "      <th>age</th>\n",
              "      <th>years_of_experience</th>\n",
              "      <th>lesson_price</th>\n",
              "      <th>qualification</th>\n",
              "      <th>physics</th>\n",
              "      <th>chemistry</th>\n",
              "      <th>biology</th>\n",
              "      <th>english</th>\n",
              "      <th>geography</th>\n",
              "      <th>history</th>\n",
              "      <th>mean_exam_points</th>\n",
              "      <th>choose</th>\n",
              "      <th>No_science</th>\n",
              "      <th>knowledges</th>\n",
              "    </tr>\n",
              "  </thead>\n",
              "  <tbody>\n",
              "    <tr>\n",
              "      <th>1</th>\n",
              "      <td>1</td>\n",
              "      <td>6</td>\n",
              "      <td>2.0</td>\n",
              "      <td>1250.0</td>\n",
              "      <td>2.0</td>\n",
              "      <td>1.0</td>\n",
              "      <td>0.0</td>\n",
              "      <td>1.0</td>\n",
              "      <td>0.0</td>\n",
              "      <td>0.0</td>\n",
              "      <td>1.0</td>\n",
              "      <td>57.0</td>\n",
              "      <td>1</td>\n",
              "      <td>1</td>\n",
              "      <td>3.0</td>\n",
              "    </tr>\n",
              "    <tr>\n",
              "      <th>2</th>\n",
              "      <td>2</td>\n",
              "      <td>1</td>\n",
              "      <td>3.0</td>\n",
              "      <td>1750.0</td>\n",
              "      <td>1.0</td>\n",
              "      <td>1.0</td>\n",
              "      <td>0.0</td>\n",
              "      <td>0.0</td>\n",
              "      <td>0.0</td>\n",
              "      <td>0.0</td>\n",
              "      <td>0.0</td>\n",
              "      <td>66.0</td>\n",
              "      <td>0</td>\n",
              "      <td>0</td>\n",
              "      <td>1.0</td>\n",
              "    </tr>\n",
              "    <tr>\n",
              "      <th>3</th>\n",
              "      <td>3</td>\n",
              "      <td>2</td>\n",
              "      <td>3.0</td>\n",
              "      <td>1050.0</td>\n",
              "      <td>1.0</td>\n",
              "      <td>0.0</td>\n",
              "      <td>0.0</td>\n",
              "      <td>0.0</td>\n",
              "      <td>0.0</td>\n",
              "      <td>0.0</td>\n",
              "      <td>0.0</td>\n",
              "      <td>66.0</td>\n",
              "      <td>1</td>\n",
              "      <td>0</td>\n",
              "      <td>0.0</td>\n",
              "    </tr>\n",
              "    <tr>\n",
              "      <th>5</th>\n",
              "      <td>5</td>\n",
              "      <td>3</td>\n",
              "      <td>3.0</td>\n",
              "      <td>1050.0</td>\n",
              "      <td>2.0</td>\n",
              "      <td>0.0</td>\n",
              "      <td>0.0</td>\n",
              "      <td>0.0</td>\n",
              "      <td>0.0</td>\n",
              "      <td>0.0</td>\n",
              "      <td>0.0</td>\n",
              "      <td>54.0</td>\n",
              "      <td>0</td>\n",
              "      <td>0</td>\n",
              "      <td>0.0</td>\n",
              "    </tr>\n",
              "    <tr>\n",
              "      <th>6</th>\n",
              "      <td>6</td>\n",
              "      <td>6</td>\n",
              "      <td>3.0</td>\n",
              "      <td>800.0</td>\n",
              "      <td>1.0</td>\n",
              "      <td>0.0</td>\n",
              "      <td>1.0</td>\n",
              "      <td>0.0</td>\n",
              "      <td>0.0</td>\n",
              "      <td>0.0</td>\n",
              "      <td>0.0</td>\n",
              "      <td>52.0</td>\n",
              "      <td>1</td>\n",
              "      <td>1</td>\n",
              "      <td>1.0</td>\n",
              "    </tr>\n",
              "    <tr>\n",
              "      <th>...</th>\n",
              "      <td>...</td>\n",
              "      <td>...</td>\n",
              "      <td>...</td>\n",
              "      <td>...</td>\n",
              "      <td>...</td>\n",
              "      <td>...</td>\n",
              "      <td>...</td>\n",
              "      <td>...</td>\n",
              "      <td>...</td>\n",
              "      <td>...</td>\n",
              "      <td>...</td>\n",
              "      <td>...</td>\n",
              "      <td>...</td>\n",
              "      <td>...</td>\n",
              "      <td>...</td>\n",
              "    </tr>\n",
              "    <tr>\n",
              "      <th>9990</th>\n",
              "      <td>9990</td>\n",
              "      <td>3</td>\n",
              "      <td>4.0</td>\n",
              "      <td>1600.0</td>\n",
              "      <td>2.0</td>\n",
              "      <td>1.0</td>\n",
              "      <td>1.0</td>\n",
              "      <td>0.0</td>\n",
              "      <td>0.0</td>\n",
              "      <td>0.0</td>\n",
              "      <td>0.0</td>\n",
              "      <td>67.0</td>\n",
              "      <td>0</td>\n",
              "      <td>1</td>\n",
              "      <td>2.0</td>\n",
              "    </tr>\n",
              "    <tr>\n",
              "      <th>9991</th>\n",
              "      <td>9991</td>\n",
              "      <td>4</td>\n",
              "      <td>5.0</td>\n",
              "      <td>1500.0</td>\n",
              "      <td>1.0</td>\n",
              "      <td>0.0</td>\n",
              "      <td>1.0</td>\n",
              "      <td>1.0</td>\n",
              "      <td>0.0</td>\n",
              "      <td>0.0</td>\n",
              "      <td>0.0</td>\n",
              "      <td>61.0</td>\n",
              "      <td>0</td>\n",
              "      <td>1</td>\n",
              "      <td>2.0</td>\n",
              "    </tr>\n",
              "    <tr>\n",
              "      <th>9994</th>\n",
              "      <td>9994</td>\n",
              "      <td>5</td>\n",
              "      <td>2.0</td>\n",
              "      <td>1550.0</td>\n",
              "      <td>1.0</td>\n",
              "      <td>0.0</td>\n",
              "      <td>1.0</td>\n",
              "      <td>0.0</td>\n",
              "      <td>0.0</td>\n",
              "      <td>0.0</td>\n",
              "      <td>0.0</td>\n",
              "      <td>62.0</td>\n",
              "      <td>0</td>\n",
              "      <td>1</td>\n",
              "      <td>1.0</td>\n",
              "    </tr>\n",
              "    <tr>\n",
              "      <th>9996</th>\n",
              "      <td>9996</td>\n",
              "      <td>6</td>\n",
              "      <td>2.0</td>\n",
              "      <td>1350.0</td>\n",
              "      <td>1.0</td>\n",
              "      <td>0.0</td>\n",
              "      <td>0.0</td>\n",
              "      <td>0.0</td>\n",
              "      <td>0.0</td>\n",
              "      <td>0.0</td>\n",
              "      <td>0.0</td>\n",
              "      <td>59.0</td>\n",
              "      <td>0</td>\n",
              "      <td>0</td>\n",
              "      <td>0.0</td>\n",
              "    </tr>\n",
              "    <tr>\n",
              "      <th>9997</th>\n",
              "      <td>9997</td>\n",
              "      <td>4</td>\n",
              "      <td>5.0</td>\n",
              "      <td>1750.0</td>\n",
              "      <td>1.0</td>\n",
              "      <td>0.0</td>\n",
              "      <td>0.0</td>\n",
              "      <td>0.0</td>\n",
              "      <td>0.0</td>\n",
              "      <td>0.0</td>\n",
              "      <td>1.0</td>\n",
              "      <td>59.0</td>\n",
              "      <td>0</td>\n",
              "      <td>1</td>\n",
              "      <td>1.0</td>\n",
              "    </tr>\n",
              "  </tbody>\n",
              "</table>\n",
              "<p>5672 rows × 15 columns</p>\n",
              "</div>"
            ],
            "text/plain": [
              "        Id  age  years_of_experience  ...  choose  No_science  knowledges\n",
              "1        1    6                  2.0  ...       1           1         3.0\n",
              "2        2    1                  3.0  ...       0           0         1.0\n",
              "3        3    2                  3.0  ...       1           0         0.0\n",
              "5        5    3                  3.0  ...       0           0         0.0\n",
              "6        6    6                  3.0  ...       1           1         1.0\n",
              "...    ...  ...                  ...  ...     ...         ...         ...\n",
              "9990  9990    3                  4.0  ...       0           1         2.0\n",
              "9991  9991    4                  5.0  ...       0           1         2.0\n",
              "9994  9994    5                  2.0  ...       0           1         1.0\n",
              "9996  9996    6                  2.0  ...       0           0         0.0\n",
              "9997  9997    4                  5.0  ...       0           1         1.0\n",
              "\n",
              "[5672 rows x 15 columns]"
            ]
          },
          "metadata": {},
          "execution_count": 21
        }
      ]
    },
    {
      "cell_type": "code",
      "metadata": {
        "id": "1H2Q3gDgbRpR"
      },
      "source": [
        "df_train['exam_score'] = 1\n",
        "df_train['exam_score'].loc[df_train['mean_exam_points'].between(50, 70)] = 2\n",
        "df_train['exam_score'].loc[df_train['mean_exam_points'] > 75] = 3\n",
        "\n",
        "df_test['exam_score'] = 1\n",
        "df_test['exam_score'].loc[df_test['mean_exam_points'].between(50, 70)] = 2\n",
        "df_test['exam_score'].loc[df_test['mean_exam_points'] > 75] = 3"
      ],
      "id": "1H2Q3gDgbRpR",
      "execution_count": null,
      "outputs": []
    },
    {
      "cell_type": "code",
      "metadata": {
        "id": "vffmIWhzMCWA"
      },
      "source": [
        "df_train['price_lavel'] = 1\n",
        "df_train['price_lavel'].loc[df_train['lesson_price'].between(1000, 2000)] = 2\n",
        "df_train['price_lavel'].loc[df_train['lesson_price'].between(2000, 3000)] = 3\n",
        "df_train['price_lavel'].loc[df_train['mean_exam_points'] > 3000] = 4\n",
        "\n",
        "df_test['price_lavel'] = 1\n",
        "df_test['price_lavel'].loc[df_test['lesson_price'].between(1000, 2000)] = 2\n",
        "df_test['price_lavel'].loc[df_test['lesson_price'].between(2000, 3000)] = 3\n",
        "df_test['price_lavel'].loc[df_test['lesson_price'] > 3000] = 4"
      ],
      "id": "vffmIWhzMCWA",
      "execution_count": null,
      "outputs": []
    },
    {
      "cell_type": "code",
      "metadata": {
        "colab": {
          "base_uri": "https://localhost:8080/",
          "height": 195
        },
        "id": "5e6XF4lhCRs0",
        "outputId": "020d0fe9-1ed0-4e42-98fb-4e1b5c2c1c18"
      },
      "source": [
        "pd.pivot_table(df_train, index='choose', columns='knowledges', aggfunc='count')"
      ],
      "id": "5e6XF4lhCRs0",
      "execution_count": null,
      "outputs": [
        {
          "output_type": "execute_result",
          "data": {
            "text/html": [
              "<div>\n",
              "<style scoped>\n",
              "    .dataframe tbody tr th:only-of-type {\n",
              "        vertical-align: middle;\n",
              "    }\n",
              "\n",
              "    .dataframe tbody tr th {\n",
              "        vertical-align: top;\n",
              "    }\n",
              "\n",
              "    .dataframe thead tr th {\n",
              "        text-align: left;\n",
              "    }\n",
              "\n",
              "    .dataframe thead tr:last-of-type th {\n",
              "        text-align: right;\n",
              "    }\n",
              "</style>\n",
              "<table border=\"1\" class=\"dataframe\">\n",
              "  <thead>\n",
              "    <tr>\n",
              "      <th></th>\n",
              "      <th colspan=\"5\" halign=\"left\">Id</th>\n",
              "      <th colspan=\"5\" halign=\"left\">No_science</th>\n",
              "      <th colspan=\"5\" halign=\"left\">age</th>\n",
              "      <th colspan=\"5\" halign=\"left\">biology</th>\n",
              "      <th colspan=\"5\" halign=\"left\">chemistry</th>\n",
              "      <th colspan=\"5\" halign=\"left\">english</th>\n",
              "      <th colspan=\"5\" halign=\"left\">exam_score</th>\n",
              "      <th colspan=\"5\" halign=\"left\">geography</th>\n",
              "      <th colspan=\"5\" halign=\"left\">history</th>\n",
              "      <th colspan=\"5\" halign=\"left\">lesson_price</th>\n",
              "      <th colspan=\"5\" halign=\"left\">mean_exam_points</th>\n",
              "      <th colspan=\"5\" halign=\"left\">physics</th>\n",
              "      <th colspan=\"5\" halign=\"left\">price_lavel</th>\n",
              "      <th colspan=\"5\" halign=\"left\">qualification</th>\n",
              "      <th colspan=\"5\" halign=\"left\">years_of_experience</th>\n",
              "    </tr>\n",
              "    <tr>\n",
              "      <th>knowledges</th>\n",
              "      <th>0.0</th>\n",
              "      <th>1.0</th>\n",
              "      <th>2.0</th>\n",
              "      <th>3.0</th>\n",
              "      <th>4.0</th>\n",
              "      <th>0.0</th>\n",
              "      <th>1.0</th>\n",
              "      <th>2.0</th>\n",
              "      <th>3.0</th>\n",
              "      <th>4.0</th>\n",
              "      <th>0.0</th>\n",
              "      <th>1.0</th>\n",
              "      <th>2.0</th>\n",
              "      <th>3.0</th>\n",
              "      <th>4.0</th>\n",
              "      <th>0.0</th>\n",
              "      <th>1.0</th>\n",
              "      <th>2.0</th>\n",
              "      <th>3.0</th>\n",
              "      <th>4.0</th>\n",
              "      <th>0.0</th>\n",
              "      <th>1.0</th>\n",
              "      <th>2.0</th>\n",
              "      <th>3.0</th>\n",
              "      <th>4.0</th>\n",
              "      <th>0.0</th>\n",
              "      <th>1.0</th>\n",
              "      <th>2.0</th>\n",
              "      <th>3.0</th>\n",
              "      <th>4.0</th>\n",
              "      <th>0.0</th>\n",
              "      <th>1.0</th>\n",
              "      <th>2.0</th>\n",
              "      <th>3.0</th>\n",
              "      <th>4.0</th>\n",
              "      <th>0.0</th>\n",
              "      <th>1.0</th>\n",
              "      <th>2.0</th>\n",
              "      <th>3.0</th>\n",
              "      <th>4.0</th>\n",
              "      <th>0.0</th>\n",
              "      <th>1.0</th>\n",
              "      <th>2.0</th>\n",
              "      <th>3.0</th>\n",
              "      <th>4.0</th>\n",
              "      <th>0.0</th>\n",
              "      <th>1.0</th>\n",
              "      <th>2.0</th>\n",
              "      <th>3.0</th>\n",
              "      <th>4.0</th>\n",
              "      <th>0.0</th>\n",
              "      <th>1.0</th>\n",
              "      <th>2.0</th>\n",
              "      <th>3.0</th>\n",
              "      <th>4.0</th>\n",
              "      <th>0.0</th>\n",
              "      <th>1.0</th>\n",
              "      <th>2.0</th>\n",
              "      <th>3.0</th>\n",
              "      <th>4.0</th>\n",
              "      <th>0.0</th>\n",
              "      <th>1.0</th>\n",
              "      <th>2.0</th>\n",
              "      <th>3.0</th>\n",
              "      <th>4.0</th>\n",
              "      <th>0.0</th>\n",
              "      <th>1.0</th>\n",
              "      <th>2.0</th>\n",
              "      <th>3.0</th>\n",
              "      <th>4.0</th>\n",
              "      <th>0.0</th>\n",
              "      <th>1.0</th>\n",
              "      <th>2.0</th>\n",
              "      <th>3.0</th>\n",
              "      <th>4.0</th>\n",
              "    </tr>\n",
              "    <tr>\n",
              "      <th>choose</th>\n",
              "      <th></th>\n",
              "      <th></th>\n",
              "      <th></th>\n",
              "      <th></th>\n",
              "      <th></th>\n",
              "      <th></th>\n",
              "      <th></th>\n",
              "      <th></th>\n",
              "      <th></th>\n",
              "      <th></th>\n",
              "      <th></th>\n",
              "      <th></th>\n",
              "      <th></th>\n",
              "      <th></th>\n",
              "      <th></th>\n",
              "      <th></th>\n",
              "      <th></th>\n",
              "      <th></th>\n",
              "      <th></th>\n",
              "      <th></th>\n",
              "      <th></th>\n",
              "      <th></th>\n",
              "      <th></th>\n",
              "      <th></th>\n",
              "      <th></th>\n",
              "      <th></th>\n",
              "      <th></th>\n",
              "      <th></th>\n",
              "      <th></th>\n",
              "      <th></th>\n",
              "      <th></th>\n",
              "      <th></th>\n",
              "      <th></th>\n",
              "      <th></th>\n",
              "      <th></th>\n",
              "      <th></th>\n",
              "      <th></th>\n",
              "      <th></th>\n",
              "      <th></th>\n",
              "      <th></th>\n",
              "      <th></th>\n",
              "      <th></th>\n",
              "      <th></th>\n",
              "      <th></th>\n",
              "      <th></th>\n",
              "      <th></th>\n",
              "      <th></th>\n",
              "      <th></th>\n",
              "      <th></th>\n",
              "      <th></th>\n",
              "      <th></th>\n",
              "      <th></th>\n",
              "      <th></th>\n",
              "      <th></th>\n",
              "      <th></th>\n",
              "      <th></th>\n",
              "      <th></th>\n",
              "      <th></th>\n",
              "      <th></th>\n",
              "      <th></th>\n",
              "      <th></th>\n",
              "      <th></th>\n",
              "      <th></th>\n",
              "      <th></th>\n",
              "      <th></th>\n",
              "      <th></th>\n",
              "      <th></th>\n",
              "      <th></th>\n",
              "      <th></th>\n",
              "      <th></th>\n",
              "      <th></th>\n",
              "      <th></th>\n",
              "      <th></th>\n",
              "      <th></th>\n",
              "      <th></th>\n",
              "    </tr>\n",
              "  </thead>\n",
              "  <tbody>\n",
              "    <tr>\n",
              "      <th>0</th>\n",
              "      <td>4174.0</td>\n",
              "      <td>3670.0</td>\n",
              "      <td>946.0</td>\n",
              "      <td>97.0</td>\n",
              "      <td>4.0</td>\n",
              "      <td>4174.0</td>\n",
              "      <td>3670.0</td>\n",
              "      <td>946.0</td>\n",
              "      <td>97.0</td>\n",
              "      <td>4.0</td>\n",
              "      <td>4174.0</td>\n",
              "      <td>3670.0</td>\n",
              "      <td>946.0</td>\n",
              "      <td>97.0</td>\n",
              "      <td>4.0</td>\n",
              "      <td>4174.0</td>\n",
              "      <td>3670.0</td>\n",
              "      <td>946.0</td>\n",
              "      <td>97.0</td>\n",
              "      <td>4.0</td>\n",
              "      <td>4174.0</td>\n",
              "      <td>3670.0</td>\n",
              "      <td>946.0</td>\n",
              "      <td>97.0</td>\n",
              "      <td>4.0</td>\n",
              "      <td>4174.0</td>\n",
              "      <td>3670.0</td>\n",
              "      <td>946.0</td>\n",
              "      <td>97.0</td>\n",
              "      <td>4.0</td>\n",
              "      <td>4174.0</td>\n",
              "      <td>3670.0</td>\n",
              "      <td>946.0</td>\n",
              "      <td>97.0</td>\n",
              "      <td>4.0</td>\n",
              "      <td>4174.0</td>\n",
              "      <td>3670.0</td>\n",
              "      <td>946.0</td>\n",
              "      <td>97.0</td>\n",
              "      <td>4.0</td>\n",
              "      <td>4174.0</td>\n",
              "      <td>3670.0</td>\n",
              "      <td>946.0</td>\n",
              "      <td>97.0</td>\n",
              "      <td>4.0</td>\n",
              "      <td>4174.0</td>\n",
              "      <td>3670.0</td>\n",
              "      <td>946.0</td>\n",
              "      <td>97.0</td>\n",
              "      <td>4.0</td>\n",
              "      <td>4174.0</td>\n",
              "      <td>3670.0</td>\n",
              "      <td>946.0</td>\n",
              "      <td>97.0</td>\n",
              "      <td>4.0</td>\n",
              "      <td>4174.0</td>\n",
              "      <td>3670.0</td>\n",
              "      <td>946.0</td>\n",
              "      <td>97.0</td>\n",
              "      <td>4.0</td>\n",
              "      <td>4174.0</td>\n",
              "      <td>3670.0</td>\n",
              "      <td>946.0</td>\n",
              "      <td>97.0</td>\n",
              "      <td>4.0</td>\n",
              "      <td>4174.0</td>\n",
              "      <td>3670.0</td>\n",
              "      <td>946.0</td>\n",
              "      <td>97.0</td>\n",
              "      <td>4.0</td>\n",
              "      <td>4174.0</td>\n",
              "      <td>3670.0</td>\n",
              "      <td>946.0</td>\n",
              "      <td>97.0</td>\n",
              "      <td>4.0</td>\n",
              "    </tr>\n",
              "    <tr>\n",
              "      <th>1</th>\n",
              "      <td>207.0</td>\n",
              "      <td>582.0</td>\n",
              "      <td>270.0</td>\n",
              "      <td>50.0</td>\n",
              "      <td>NaN</td>\n",
              "      <td>207.0</td>\n",
              "      <td>582.0</td>\n",
              "      <td>270.0</td>\n",
              "      <td>50.0</td>\n",
              "      <td>NaN</td>\n",
              "      <td>207.0</td>\n",
              "      <td>582.0</td>\n",
              "      <td>270.0</td>\n",
              "      <td>50.0</td>\n",
              "      <td>NaN</td>\n",
              "      <td>207.0</td>\n",
              "      <td>582.0</td>\n",
              "      <td>270.0</td>\n",
              "      <td>50.0</td>\n",
              "      <td>NaN</td>\n",
              "      <td>207.0</td>\n",
              "      <td>582.0</td>\n",
              "      <td>270.0</td>\n",
              "      <td>50.0</td>\n",
              "      <td>NaN</td>\n",
              "      <td>207.0</td>\n",
              "      <td>582.0</td>\n",
              "      <td>270.0</td>\n",
              "      <td>50.0</td>\n",
              "      <td>NaN</td>\n",
              "      <td>207.0</td>\n",
              "      <td>582.0</td>\n",
              "      <td>270.0</td>\n",
              "      <td>50.0</td>\n",
              "      <td>NaN</td>\n",
              "      <td>207.0</td>\n",
              "      <td>582.0</td>\n",
              "      <td>270.0</td>\n",
              "      <td>50.0</td>\n",
              "      <td>NaN</td>\n",
              "      <td>207.0</td>\n",
              "      <td>582.0</td>\n",
              "      <td>270.0</td>\n",
              "      <td>50.0</td>\n",
              "      <td>NaN</td>\n",
              "      <td>207.0</td>\n",
              "      <td>582.0</td>\n",
              "      <td>270.0</td>\n",
              "      <td>50.0</td>\n",
              "      <td>NaN</td>\n",
              "      <td>207.0</td>\n",
              "      <td>582.0</td>\n",
              "      <td>270.0</td>\n",
              "      <td>50.0</td>\n",
              "      <td>NaN</td>\n",
              "      <td>207.0</td>\n",
              "      <td>582.0</td>\n",
              "      <td>270.0</td>\n",
              "      <td>50.0</td>\n",
              "      <td>NaN</td>\n",
              "      <td>207.0</td>\n",
              "      <td>582.0</td>\n",
              "      <td>270.0</td>\n",
              "      <td>50.0</td>\n",
              "      <td>NaN</td>\n",
              "      <td>207.0</td>\n",
              "      <td>582.0</td>\n",
              "      <td>270.0</td>\n",
              "      <td>50.0</td>\n",
              "      <td>NaN</td>\n",
              "      <td>207.0</td>\n",
              "      <td>582.0</td>\n",
              "      <td>270.0</td>\n",
              "      <td>50.0</td>\n",
              "      <td>NaN</td>\n",
              "    </tr>\n",
              "  </tbody>\n",
              "</table>\n",
              "</div>"
            ],
            "text/plain": [
              "                Id                       ... years_of_experience                  \n",
              "knowledges     0.0     1.0    2.0   3.0  ...                 1.0    2.0   3.0  4.0\n",
              "choose                                   ...                                      \n",
              "0           4174.0  3670.0  946.0  97.0  ...              3670.0  946.0  97.0  4.0\n",
              "1            207.0   582.0  270.0  50.0  ...               582.0  270.0  50.0  NaN\n",
              "\n",
              "[2 rows x 75 columns]"
            ]
          },
          "metadata": {},
          "execution_count": 24
        }
      ]
    },
    {
      "cell_type": "code",
      "metadata": {
        "colab": {
          "base_uri": "https://localhost:8080/",
          "height": 224
        },
        "id": "re84oG2AIGJH",
        "outputId": "535e5cf2-bc45-445e-84a6-af8080e2a5cd"
      },
      "source": [
        "pd.pivot_table(df_train, index='choose', columns='age', aggfunc='count')"
      ],
      "id": "re84oG2AIGJH",
      "execution_count": null,
      "outputs": [
        {
          "output_type": "execute_result",
          "data": {
            "text/html": [
              "<div>\n",
              "<style scoped>\n",
              "    .dataframe tbody tr th:only-of-type {\n",
              "        vertical-align: middle;\n",
              "    }\n",
              "\n",
              "    .dataframe tbody tr th {\n",
              "        vertical-align: top;\n",
              "    }\n",
              "\n",
              "    .dataframe thead tr th {\n",
              "        text-align: left;\n",
              "    }\n",
              "\n",
              "    .dataframe thead tr:last-of-type th {\n",
              "        text-align: right;\n",
              "    }\n",
              "</style>\n",
              "<table border=\"1\" class=\"dataframe\">\n",
              "  <thead>\n",
              "    <tr>\n",
              "      <th></th>\n",
              "      <th colspan=\"10\" halign=\"left\">Id</th>\n",
              "      <th colspan=\"10\" halign=\"left\">No_science</th>\n",
              "      <th colspan=\"10\" halign=\"left\">biology</th>\n",
              "      <th colspan=\"10\" halign=\"left\">chemistry</th>\n",
              "      <th>...</th>\n",
              "      <th colspan=\"10\" halign=\"left\">physics</th>\n",
              "      <th colspan=\"10\" halign=\"left\">price_lavel</th>\n",
              "      <th colspan=\"10\" halign=\"left\">qualification</th>\n",
              "      <th colspan=\"10\" halign=\"left\">years_of_experience</th>\n",
              "    </tr>\n",
              "    <tr>\n",
              "      <th>age</th>\n",
              "      <th>0</th>\n",
              "      <th>1</th>\n",
              "      <th>2</th>\n",
              "      <th>3</th>\n",
              "      <th>4</th>\n",
              "      <th>5</th>\n",
              "      <th>6</th>\n",
              "      <th>7</th>\n",
              "      <th>8</th>\n",
              "      <th>9</th>\n",
              "      <th>0</th>\n",
              "      <th>1</th>\n",
              "      <th>2</th>\n",
              "      <th>3</th>\n",
              "      <th>4</th>\n",
              "      <th>5</th>\n",
              "      <th>6</th>\n",
              "      <th>7</th>\n",
              "      <th>8</th>\n",
              "      <th>9</th>\n",
              "      <th>0</th>\n",
              "      <th>1</th>\n",
              "      <th>2</th>\n",
              "      <th>3</th>\n",
              "      <th>4</th>\n",
              "      <th>5</th>\n",
              "      <th>6</th>\n",
              "      <th>7</th>\n",
              "      <th>8</th>\n",
              "      <th>9</th>\n",
              "      <th>0</th>\n",
              "      <th>1</th>\n",
              "      <th>2</th>\n",
              "      <th>3</th>\n",
              "      <th>4</th>\n",
              "      <th>5</th>\n",
              "      <th>6</th>\n",
              "      <th>7</th>\n",
              "      <th>8</th>\n",
              "      <th>9</th>\n",
              "      <th>...</th>\n",
              "      <th>0</th>\n",
              "      <th>1</th>\n",
              "      <th>2</th>\n",
              "      <th>3</th>\n",
              "      <th>4</th>\n",
              "      <th>5</th>\n",
              "      <th>6</th>\n",
              "      <th>7</th>\n",
              "      <th>8</th>\n",
              "      <th>9</th>\n",
              "      <th>0</th>\n",
              "      <th>1</th>\n",
              "      <th>2</th>\n",
              "      <th>3</th>\n",
              "      <th>4</th>\n",
              "      <th>5</th>\n",
              "      <th>6</th>\n",
              "      <th>7</th>\n",
              "      <th>8</th>\n",
              "      <th>9</th>\n",
              "      <th>0</th>\n",
              "      <th>1</th>\n",
              "      <th>2</th>\n",
              "      <th>3</th>\n",
              "      <th>4</th>\n",
              "      <th>5</th>\n",
              "      <th>6</th>\n",
              "      <th>7</th>\n",
              "      <th>8</th>\n",
              "      <th>9</th>\n",
              "      <th>0</th>\n",
              "      <th>1</th>\n",
              "      <th>2</th>\n",
              "      <th>3</th>\n",
              "      <th>4</th>\n",
              "      <th>5</th>\n",
              "      <th>6</th>\n",
              "      <th>7</th>\n",
              "      <th>8</th>\n",
              "      <th>9</th>\n",
              "    </tr>\n",
              "    <tr>\n",
              "      <th>choose</th>\n",
              "      <th></th>\n",
              "      <th></th>\n",
              "      <th></th>\n",
              "      <th></th>\n",
              "      <th></th>\n",
              "      <th></th>\n",
              "      <th></th>\n",
              "      <th></th>\n",
              "      <th></th>\n",
              "      <th></th>\n",
              "      <th></th>\n",
              "      <th></th>\n",
              "      <th></th>\n",
              "      <th></th>\n",
              "      <th></th>\n",
              "      <th></th>\n",
              "      <th></th>\n",
              "      <th></th>\n",
              "      <th></th>\n",
              "      <th></th>\n",
              "      <th></th>\n",
              "      <th></th>\n",
              "      <th></th>\n",
              "      <th></th>\n",
              "      <th></th>\n",
              "      <th></th>\n",
              "      <th></th>\n",
              "      <th></th>\n",
              "      <th></th>\n",
              "      <th></th>\n",
              "      <th></th>\n",
              "      <th></th>\n",
              "      <th></th>\n",
              "      <th></th>\n",
              "      <th></th>\n",
              "      <th></th>\n",
              "      <th></th>\n",
              "      <th></th>\n",
              "      <th></th>\n",
              "      <th></th>\n",
              "      <th></th>\n",
              "      <th></th>\n",
              "      <th></th>\n",
              "      <th></th>\n",
              "      <th></th>\n",
              "      <th></th>\n",
              "      <th></th>\n",
              "      <th></th>\n",
              "      <th></th>\n",
              "      <th></th>\n",
              "      <th></th>\n",
              "      <th></th>\n",
              "      <th></th>\n",
              "      <th></th>\n",
              "      <th></th>\n",
              "      <th></th>\n",
              "      <th></th>\n",
              "      <th></th>\n",
              "      <th></th>\n",
              "      <th></th>\n",
              "      <th></th>\n",
              "      <th></th>\n",
              "      <th></th>\n",
              "      <th></th>\n",
              "      <th></th>\n",
              "      <th></th>\n",
              "      <th></th>\n",
              "      <th></th>\n",
              "      <th></th>\n",
              "      <th></th>\n",
              "      <th></th>\n",
              "      <th></th>\n",
              "      <th></th>\n",
              "      <th></th>\n",
              "      <th></th>\n",
              "      <th></th>\n",
              "      <th></th>\n",
              "      <th></th>\n",
              "      <th></th>\n",
              "      <th></th>\n",
              "      <th></th>\n",
              "    </tr>\n",
              "  </thead>\n",
              "  <tbody>\n",
              "    <tr>\n",
              "      <th>0</th>\n",
              "      <td>95</td>\n",
              "      <td>344</td>\n",
              "      <td>663</td>\n",
              "      <td>1565</td>\n",
              "      <td>1720</td>\n",
              "      <td>2046</td>\n",
              "      <td>1236</td>\n",
              "      <td>810</td>\n",
              "      <td>278</td>\n",
              "      <td>134</td>\n",
              "      <td>95</td>\n",
              "      <td>344</td>\n",
              "      <td>663</td>\n",
              "      <td>1565</td>\n",
              "      <td>1720</td>\n",
              "      <td>2046</td>\n",
              "      <td>1236</td>\n",
              "      <td>810</td>\n",
              "      <td>278</td>\n",
              "      <td>134</td>\n",
              "      <td>95</td>\n",
              "      <td>344</td>\n",
              "      <td>663</td>\n",
              "      <td>1565</td>\n",
              "      <td>1720</td>\n",
              "      <td>2046</td>\n",
              "      <td>1236</td>\n",
              "      <td>810</td>\n",
              "      <td>278</td>\n",
              "      <td>134</td>\n",
              "      <td>95</td>\n",
              "      <td>344</td>\n",
              "      <td>663</td>\n",
              "      <td>1565</td>\n",
              "      <td>1720</td>\n",
              "      <td>2046</td>\n",
              "      <td>1236</td>\n",
              "      <td>810</td>\n",
              "      <td>278</td>\n",
              "      <td>134</td>\n",
              "      <td>...</td>\n",
              "      <td>95</td>\n",
              "      <td>344</td>\n",
              "      <td>663</td>\n",
              "      <td>1565</td>\n",
              "      <td>1720</td>\n",
              "      <td>2046</td>\n",
              "      <td>1236</td>\n",
              "      <td>810</td>\n",
              "      <td>278</td>\n",
              "      <td>134</td>\n",
              "      <td>95</td>\n",
              "      <td>344</td>\n",
              "      <td>663</td>\n",
              "      <td>1565</td>\n",
              "      <td>1720</td>\n",
              "      <td>2046</td>\n",
              "      <td>1236</td>\n",
              "      <td>810</td>\n",
              "      <td>278</td>\n",
              "      <td>134</td>\n",
              "      <td>95</td>\n",
              "      <td>344</td>\n",
              "      <td>663</td>\n",
              "      <td>1565</td>\n",
              "      <td>1720</td>\n",
              "      <td>2046</td>\n",
              "      <td>1236</td>\n",
              "      <td>810</td>\n",
              "      <td>278</td>\n",
              "      <td>134</td>\n",
              "      <td>95</td>\n",
              "      <td>344</td>\n",
              "      <td>663</td>\n",
              "      <td>1565</td>\n",
              "      <td>1720</td>\n",
              "      <td>2046</td>\n",
              "      <td>1236</td>\n",
              "      <td>810</td>\n",
              "      <td>278</td>\n",
              "      <td>134</td>\n",
              "    </tr>\n",
              "    <tr>\n",
              "      <th>1</th>\n",
              "      <td>8</td>\n",
              "      <td>36</td>\n",
              "      <td>90</td>\n",
              "      <td>182</td>\n",
              "      <td>199</td>\n",
              "      <td>245</td>\n",
              "      <td>174</td>\n",
              "      <td>125</td>\n",
              "      <td>31</td>\n",
              "      <td>19</td>\n",
              "      <td>8</td>\n",
              "      <td>36</td>\n",
              "      <td>90</td>\n",
              "      <td>182</td>\n",
              "      <td>199</td>\n",
              "      <td>245</td>\n",
              "      <td>174</td>\n",
              "      <td>125</td>\n",
              "      <td>31</td>\n",
              "      <td>19</td>\n",
              "      <td>8</td>\n",
              "      <td>36</td>\n",
              "      <td>90</td>\n",
              "      <td>182</td>\n",
              "      <td>199</td>\n",
              "      <td>245</td>\n",
              "      <td>174</td>\n",
              "      <td>125</td>\n",
              "      <td>31</td>\n",
              "      <td>19</td>\n",
              "      <td>8</td>\n",
              "      <td>36</td>\n",
              "      <td>90</td>\n",
              "      <td>182</td>\n",
              "      <td>199</td>\n",
              "      <td>245</td>\n",
              "      <td>174</td>\n",
              "      <td>125</td>\n",
              "      <td>31</td>\n",
              "      <td>19</td>\n",
              "      <td>...</td>\n",
              "      <td>8</td>\n",
              "      <td>36</td>\n",
              "      <td>90</td>\n",
              "      <td>182</td>\n",
              "      <td>199</td>\n",
              "      <td>245</td>\n",
              "      <td>174</td>\n",
              "      <td>125</td>\n",
              "      <td>31</td>\n",
              "      <td>19</td>\n",
              "      <td>8</td>\n",
              "      <td>36</td>\n",
              "      <td>90</td>\n",
              "      <td>182</td>\n",
              "      <td>199</td>\n",
              "      <td>245</td>\n",
              "      <td>174</td>\n",
              "      <td>125</td>\n",
              "      <td>31</td>\n",
              "      <td>19</td>\n",
              "      <td>8</td>\n",
              "      <td>36</td>\n",
              "      <td>90</td>\n",
              "      <td>182</td>\n",
              "      <td>199</td>\n",
              "      <td>245</td>\n",
              "      <td>174</td>\n",
              "      <td>125</td>\n",
              "      <td>31</td>\n",
              "      <td>19</td>\n",
              "      <td>8</td>\n",
              "      <td>36</td>\n",
              "      <td>90</td>\n",
              "      <td>182</td>\n",
              "      <td>199</td>\n",
              "      <td>245</td>\n",
              "      <td>174</td>\n",
              "      <td>125</td>\n",
              "      <td>31</td>\n",
              "      <td>19</td>\n",
              "    </tr>\n",
              "  </tbody>\n",
              "</table>\n",
              "<p>2 rows × 150 columns</p>\n",
              "</div>"
            ],
            "text/plain": [
              "        Id                              ... years_of_experience                           \n",
              "age      0    1    2     3     4     5  ...                   4     5     6    7    8    9\n",
              "choose                                  ...                                               \n",
              "0       95  344  663  1565  1720  2046  ...                1720  2046  1236  810  278  134\n",
              "1        8   36   90   182   199   245  ...                 199   245   174  125   31   19\n",
              "\n",
              "[2 rows x 150 columns]"
            ]
          },
          "metadata": {},
          "execution_count": 25
        }
      ]
    },
    {
      "cell_type": "markdown",
      "metadata": {
        "id": "bSDKcAMWa_Ia"
      },
      "source": [
        "### Балансировка целевой переменной"
      ],
      "id": "bSDKcAMWa_Ia"
    },
    {
      "cell_type": "code",
      "metadata": {
        "colab": {
          "base_uri": "https://localhost:8080/"
        },
        "id": "MyAiS8XX7f3F",
        "outputId": "86a0c7ed-8f8f-4f17-af81-62f9369f8930"
      },
      "source": [
        "# Сначала отбалансируем с помощью Tomek\n",
        "\n",
        "from imblearn.under_sampling import TomekLinks\n",
        "tl = TomekLinks()\n",
        "X_tomek, y_tomek = tl.fit_sample(df_train.drop(columns='choose'), df_train['choose'])\n",
        "X_tomek = pd.DataFrame(data=X_tomek, columns=df_train.drop(columns='choose').columns)\n",
        "y_tomek = pd.Series(y_tomek, name='choose')\n",
        "df_bal = pd.concat([X_tomek, y_tomek], axis=1)\n",
        "    \n",
        "df_bal['choose'].value_counts()"
      ],
      "id": "MyAiS8XX7f3F",
      "execution_count": null,
      "outputs": [
        {
          "output_type": "execute_result",
          "data": {
            "text/plain": [
              "0    8335\n",
              "1    1109\n",
              "Name: choose, dtype: int64"
            ]
          },
          "metadata": {},
          "execution_count": 26
        }
      ]
    },
    {
      "cell_type": "code",
      "metadata": {
        "colab": {
          "base_uri": "https://localhost:8080/"
        },
        "id": "uvOZKea_3DKI",
        "outputId": "645ce816-9d5b-469a-bf40-d73c74573b94"
      },
      "source": [
        "# Добавим еще наблюдений с помощью SMOTE\n",
        "\n",
        "from imblearn.over_sampling import SMOTE\n",
        "smote = SMOTE()\n",
        "X_smote, y_smote = smote.fit_resample(df_bal.drop(columns='choose'), df_bal['choose'])\n",
        "X_smote = pd.DataFrame(data=X_smote, columns=df_bal.drop(columns='choose').columns)\n",
        "y_smote = pd.Series(y_smote, name='choose')\n",
        "df_bal = pd.concat([X_smote, y_smote], axis=1)\n",
        "    \n",
        "df_bal['choose'].value_counts()"
      ],
      "id": "uvOZKea_3DKI",
      "execution_count": null,
      "outputs": [
        {
          "output_type": "execute_result",
          "data": {
            "text/plain": [
              "1    8335\n",
              "0    8335\n",
              "Name: choose, dtype: int64"
            ]
          },
          "metadata": {},
          "execution_count": 27
        }
      ]
    },
    {
      "cell_type": "code",
      "metadata": {
        "colab": {
          "base_uri": "https://localhost:8080/"
        },
        "id": "GkOjH9HeaWfS",
        "outputId": "7922cee3-6216-4f79-aafb-d78305b75dd7"
      },
      "source": [
        "df_bal.info()"
      ],
      "id": "GkOjH9HeaWfS",
      "execution_count": null,
      "outputs": [
        {
          "output_type": "stream",
          "name": "stdout",
          "text": [
            "<class 'pandas.core.frame.DataFrame'>\n",
            "RangeIndex: 16670 entries, 0 to 16669\n",
            "Data columns (total 17 columns):\n",
            " #   Column               Non-Null Count  Dtype  \n",
            "---  ------               --------------  -----  \n",
            " 0   Id                   16670 non-null  float64\n",
            " 1   age                  16670 non-null  float64\n",
            " 2   years_of_experience  16670 non-null  float64\n",
            " 3   lesson_price         16670 non-null  float64\n",
            " 4   qualification        16670 non-null  float64\n",
            " 5   physics              16670 non-null  float64\n",
            " 6   chemistry            16670 non-null  float64\n",
            " 7   biology              16670 non-null  float64\n",
            " 8   english              16670 non-null  float64\n",
            " 9   geography            16670 non-null  float64\n",
            " 10  history              16670 non-null  float64\n",
            " 11  mean_exam_points     16670 non-null  float64\n",
            " 12  No_science           16670 non-null  float64\n",
            " 13  knowledges           16670 non-null  float64\n",
            " 14  exam_score           16670 non-null  float64\n",
            " 15  price_lavel          16670 non-null  float64\n",
            " 16  choose               16670 non-null  int64  \n",
            "dtypes: float64(16), int64(1)\n",
            "memory usage: 2.2 MB\n"
          ]
        }
      ]
    },
    {
      "cell_type": "markdown",
      "metadata": {
        "id": "kDIJLZXjb79b"
      },
      "source": [
        "### Масштабирование признаков\n",
        "\n",
        "Так как далее будут использованы линейные и метрические алгоритмы, необходимо отмасштабировать данные. Для этого применим стандартизацию."
      ],
      "id": "kDIJLZXjb79b"
    },
    {
      "cell_type": "code",
      "metadata": {
        "id": "mEh4lJ64aAEc"
      },
      "source": [
        "def standard_scale(X_train, X_test):\n",
        "    \"\"\"Стандартизация датасета целиком\"\"\"\n",
        "    X_train_stand = X_train.copy()\n",
        "    X_test_stand = X_test.copy()\n",
        "    for i in range(X_train_stand.shape[1]):\n",
        "        mean = X_train_stand.iloc[:, i].mean()\n",
        "        std = X_train_stand.iloc[:, i].std()\n",
        "\n",
        "        X_train_stand.iloc[:, i] = (X_train_stand.iloc[:, i] - mean) / std\n",
        "        X_test_stand.iloc[:, i] = (X_test_stand.iloc[:, i] - mean) / std\n",
        "    return X_train_stand, X_test_stand"
      ],
      "id": "mEh4lJ64aAEc",
      "execution_count": null,
      "outputs": []
    },
    {
      "cell_type": "code",
      "metadata": {
        "colab": {
          "base_uri": "https://localhost:8080/"
        },
        "id": "kZBEcTXZh5gB",
        "outputId": "0e08887e-a331-42e0-954a-2500a2c2aa4c"
      },
      "source": [
        "df_train.columns"
      ],
      "id": "kZBEcTXZh5gB",
      "execution_count": null,
      "outputs": [
        {
          "output_type": "execute_result",
          "data": {
            "text/plain": [
              "Index(['Id', 'age', 'years_of_experience', 'lesson_price', 'qualification',\n",
              "       'physics', 'chemistry', 'biology', 'english', 'geography', 'history',\n",
              "       'mean_exam_points', 'choose', 'No_science', 'knowledges', 'exam_score',\n",
              "       'price_lavel'],\n",
              "      dtype='object')"
            ]
          },
          "metadata": {},
          "execution_count": 30
        }
      ]
    },
    {
      "cell_type": "code",
      "metadata": {
        "colab": {
          "base_uri": "https://localhost:8080/",
          "height": 444
        },
        "id": "pqFqz4X7c8PX",
        "outputId": "f3caa081-86c0-4f9f-e668-5e6f4e777e05"
      },
      "source": [
        "cols_for_scale = ['age', 'years_of_experience', 'lesson_price', 'qualification', \n",
        "                  'mean_exam_points', 'No_science', 'knowledges', 'exam_score',\n",
        "                  'price_lavel']\n",
        "df_bal[cols_for_scale], df_test[cols_for_scale]= standard_scale(df_bal[cols_for_scale], df_test[cols_for_scale])\n",
        "\n",
        "df_bal"
      ],
      "id": "pqFqz4X7c8PX",
      "execution_count": null,
      "outputs": [
        {
          "output_type": "execute_result",
          "data": {
            "text/html": [
              "<div>\n",
              "<style scoped>\n",
              "    .dataframe tbody tr th:only-of-type {\n",
              "        vertical-align: middle;\n",
              "    }\n",
              "\n",
              "    .dataframe tbody tr th {\n",
              "        vertical-align: top;\n",
              "    }\n",
              "\n",
              "    .dataframe thead th {\n",
              "        text-align: right;\n",
              "    }\n",
              "</style>\n",
              "<table border=\"1\" class=\"dataframe\">\n",
              "  <thead>\n",
              "    <tr style=\"text-align: right;\">\n",
              "      <th></th>\n",
              "      <th>Id</th>\n",
              "      <th>age</th>\n",
              "      <th>years_of_experience</th>\n",
              "      <th>lesson_price</th>\n",
              "      <th>qualification</th>\n",
              "      <th>physics</th>\n",
              "      <th>chemistry</th>\n",
              "      <th>biology</th>\n",
              "      <th>english</th>\n",
              "      <th>geography</th>\n",
              "      <th>history</th>\n",
              "      <th>mean_exam_points</th>\n",
              "      <th>No_science</th>\n",
              "      <th>knowledges</th>\n",
              "      <th>exam_score</th>\n",
              "      <th>price_lavel</th>\n",
              "      <th>choose</th>\n",
              "    </tr>\n",
              "  </thead>\n",
              "  <tbody>\n",
              "    <tr>\n",
              "      <th>0</th>\n",
              "      <td>0.000000</td>\n",
              "      <td>-1.535576</td>\n",
              "      <td>-1.191157</td>\n",
              "      <td>1.032516</td>\n",
              "      <td>0.287476</td>\n",
              "      <td>0.000000</td>\n",
              "      <td>0.000000</td>\n",
              "      <td>0.0</td>\n",
              "      <td>0.0</td>\n",
              "      <td>0.000000</td>\n",
              "      <td>0.0</td>\n",
              "      <td>0.597429</td>\n",
              "      <td>-0.807691</td>\n",
              "      <td>-1.253568</td>\n",
              "      <td>-1.710685</td>\n",
              "      <td>1.532572</td>\n",
              "      <td>0</td>\n",
              "    </tr>\n",
              "    <tr>\n",
              "      <th>1</th>\n",
              "      <td>1.000000</td>\n",
              "      <td>0.854665</td>\n",
              "      <td>0.000038</td>\n",
              "      <td>-0.729994</td>\n",
              "      <td>0.287476</td>\n",
              "      <td>1.000000</td>\n",
              "      <td>0.000000</td>\n",
              "      <td>1.0</td>\n",
              "      <td>0.0</td>\n",
              "      <td>0.000000</td>\n",
              "      <td>1.0</td>\n",
              "      <td>-0.736021</td>\n",
              "      <td>1.456700</td>\n",
              "      <td>2.893040</td>\n",
              "      <td>-0.102167</td>\n",
              "      <td>-0.373398</td>\n",
              "      <td>1</td>\n",
              "    </tr>\n",
              "    <tr>\n",
              "      <th>2</th>\n",
              "      <td>2.000000</td>\n",
              "      <td>-2.133136</td>\n",
              "      <td>0.595635</td>\n",
              "      <td>0.249178</td>\n",
              "      <td>-0.952178</td>\n",
              "      <td>1.000000</td>\n",
              "      <td>0.000000</td>\n",
              "      <td>0.0</td>\n",
              "      <td>0.0</td>\n",
              "      <td>0.000000</td>\n",
              "      <td>0.0</td>\n",
              "      <td>-0.030077</td>\n",
              "      <td>-0.807691</td>\n",
              "      <td>0.128634</td>\n",
              "      <td>-0.102167</td>\n",
              "      <td>-0.373398</td>\n",
              "      <td>0</td>\n",
              "    </tr>\n",
              "    <tr>\n",
              "      <th>3</th>\n",
              "      <td>3.000000</td>\n",
              "      <td>-1.535576</td>\n",
              "      <td>0.595635</td>\n",
              "      <td>-1.121662</td>\n",
              "      <td>-0.952178</td>\n",
              "      <td>0.000000</td>\n",
              "      <td>0.000000</td>\n",
              "      <td>0.0</td>\n",
              "      <td>0.0</td>\n",
              "      <td>0.000000</td>\n",
              "      <td>0.0</td>\n",
              "      <td>-0.030077</td>\n",
              "      <td>-0.807691</td>\n",
              "      <td>-1.253568</td>\n",
              "      <td>-0.102167</td>\n",
              "      <td>-0.373398</td>\n",
              "      <td>1</td>\n",
              "    </tr>\n",
              "    <tr>\n",
              "      <th>4</th>\n",
              "      <td>6.000000</td>\n",
              "      <td>0.854665</td>\n",
              "      <td>0.595635</td>\n",
              "      <td>-1.611248</td>\n",
              "      <td>-0.952178</td>\n",
              "      <td>0.000000</td>\n",
              "      <td>1.000000</td>\n",
              "      <td>0.0</td>\n",
              "      <td>0.0</td>\n",
              "      <td>0.000000</td>\n",
              "      <td>0.0</td>\n",
              "      <td>-1.128212</td>\n",
              "      <td>1.456700</td>\n",
              "      <td>0.128634</td>\n",
              "      <td>-0.102167</td>\n",
              "      <td>-2.279368</td>\n",
              "      <td>1</td>\n",
              "    </tr>\n",
              "    <tr>\n",
              "      <th>...</th>\n",
              "      <td>...</td>\n",
              "      <td>...</td>\n",
              "      <td>...</td>\n",
              "      <td>...</td>\n",
              "      <td>...</td>\n",
              "      <td>...</td>\n",
              "      <td>...</td>\n",
              "      <td>...</td>\n",
              "      <td>...</td>\n",
              "      <td>...</td>\n",
              "      <td>...</td>\n",
              "      <td>...</td>\n",
              "      <td>...</td>\n",
              "      <td>...</td>\n",
              "      <td>...</td>\n",
              "      <td>...</td>\n",
              "      <td>...</td>\n",
              "    </tr>\n",
              "    <tr>\n",
              "      <th>16665</th>\n",
              "      <td>7416.520715</td>\n",
              "      <td>1.094396</td>\n",
              "      <td>-0.299524</td>\n",
              "      <td>-0.720028</td>\n",
              "      <td>-0.083687</td>\n",
              "      <td>0.000000</td>\n",
              "      <td>0.299408</td>\n",
              "      <td>0.0</td>\n",
              "      <td>0.0</td>\n",
              "      <td>0.000000</td>\n",
              "      <td>0.0</td>\n",
              "      <td>-0.469238</td>\n",
              "      <td>-0.129714</td>\n",
              "      <td>-0.839726</td>\n",
              "      <td>-0.102167</td>\n",
              "      <td>-0.373398</td>\n",
              "      <td>1</td>\n",
              "    </tr>\n",
              "    <tr>\n",
              "      <th>16666</th>\n",
              "      <td>6838.183398</td>\n",
              "      <td>0.169739</td>\n",
              "      <td>-0.368001</td>\n",
              "      <td>1.228350</td>\n",
              "      <td>0.761108</td>\n",
              "      <td>1.000000</td>\n",
              "      <td>0.000000</td>\n",
              "      <td>0.0</td>\n",
              "      <td>0.0</td>\n",
              "      <td>0.617932</td>\n",
              "      <td>0.0</td>\n",
              "      <td>1.065461</td>\n",
              "      <td>0.591548</td>\n",
              "      <td>0.982741</td>\n",
              "      <td>-0.481557</td>\n",
              "      <td>1.532572</td>\n",
              "      <td>1</td>\n",
              "    </tr>\n",
              "    <tr>\n",
              "      <th>16667</th>\n",
              "      <td>9098.711236</td>\n",
              "      <td>0.721604</td>\n",
              "      <td>-1.191157</td>\n",
              "      <td>-0.436242</td>\n",
              "      <td>-0.952178</td>\n",
              "      <td>0.925775</td>\n",
              "      <td>1.000000</td>\n",
              "      <td>0.0</td>\n",
              "      <td>0.0</td>\n",
              "      <td>0.000000</td>\n",
              "      <td>0.0</td>\n",
              "      <td>0.115155</td>\n",
              "      <td>1.456700</td>\n",
              "      <td>1.408244</td>\n",
              "      <td>-0.102167</td>\n",
              "      <td>-0.373398</td>\n",
              "      <td>1</td>\n",
              "    </tr>\n",
              "    <tr>\n",
              "      <th>16668</th>\n",
              "      <td>1869.786426</td>\n",
              "      <td>0.208759</td>\n",
              "      <td>-0.998410</td>\n",
              "      <td>-0.925828</td>\n",
              "      <td>-0.851884</td>\n",
              "      <td>0.000000</td>\n",
              "      <td>0.080905</td>\n",
              "      <td>0.0</td>\n",
              "      <td>0.0</td>\n",
              "      <td>0.000000</td>\n",
              "      <td>0.0</td>\n",
              "      <td>-0.958643</td>\n",
              "      <td>-0.624490</td>\n",
              "      <td>-1.141741</td>\n",
              "      <td>-0.102167</td>\n",
              "      <td>-0.373398</td>\n",
              "      <td>1</td>\n",
              "    </tr>\n",
              "    <tr>\n",
              "      <th>16669</th>\n",
              "      <td>4784.743412</td>\n",
              "      <td>1.621445</td>\n",
              "      <td>-0.621912</td>\n",
              "      <td>1.013452</td>\n",
              "      <td>0.583677</td>\n",
              "      <td>0.238939</td>\n",
              "      <td>0.761061</td>\n",
              "      <td>1.0</td>\n",
              "      <td>0.0</td>\n",
              "      <td>0.000000</td>\n",
              "      <td>0.0</td>\n",
              "      <td>0.759165</td>\n",
              "      <td>1.456700</td>\n",
              "      <td>1.510837</td>\n",
              "      <td>-0.942011</td>\n",
              "      <td>1.077162</td>\n",
              "      <td>1</td>\n",
              "    </tr>\n",
              "  </tbody>\n",
              "</table>\n",
              "<p>16670 rows × 17 columns</p>\n",
              "</div>"
            ],
            "text/plain": [
              "                Id       age  ...  price_lavel  choose\n",
              "0         0.000000 -1.535576  ...     1.532572       0\n",
              "1         1.000000  0.854665  ...    -0.373398       1\n",
              "2         2.000000 -2.133136  ...    -0.373398       0\n",
              "3         3.000000 -1.535576  ...    -0.373398       1\n",
              "4         6.000000  0.854665  ...    -2.279368       1\n",
              "...            ...       ...  ...          ...     ...\n",
              "16665  7416.520715  1.094396  ...    -0.373398       1\n",
              "16666  6838.183398  0.169739  ...     1.532572       1\n",
              "16667  9098.711236  0.721604  ...    -0.373398       1\n",
              "16668  1869.786426  0.208759  ...    -0.373398       1\n",
              "16669  4784.743412  1.621445  ...     1.077162       1\n",
              "\n",
              "[16670 rows x 17 columns]"
            ]
          },
          "metadata": {},
          "execution_count": 31
        }
      ]
    },
    {
      "cell_type": "markdown",
      "metadata": {
        "id": "C_F7JdfYoe9t"
      },
      "source": [
        "### Разбивка датасета на обучающий и тестовый"
      ],
      "id": "C_F7JdfYoe9t"
    },
    {
      "cell_type": "code",
      "metadata": {
        "id": "B5CUmZ_npSMy"
      },
      "source": [
        "X = df_bal.drop(columns=['Id', 'choose'])\n",
        "y = df_bal['choose']\n",
        "\n",
        "X_train, X_valid, y_train, y_valid = train_test_split(X, y, test_size=0.3, stratify=y, random_state=42)"
      ],
      "id": "B5CUmZ_npSMy",
      "execution_count": null,
      "outputs": []
    },
    {
      "cell_type": "code",
      "metadata": {
        "colab": {
          "base_uri": "https://localhost:8080/"
        },
        "id": "_5o7eeF4ljHS",
        "outputId": "3b70f78e-adc9-47f9-f317-f734f5d48b7f"
      },
      "source": [
        "X_train.shape, X_valid.shape, y_train.shape, y_valid.shape"
      ],
      "id": "_5o7eeF4ljHS",
      "execution_count": null,
      "outputs": [
        {
          "output_type": "execute_result",
          "data": {
            "text/plain": [
              "((11669, 15), (5001, 15), (11669,), (5001,))"
            ]
          },
          "metadata": {},
          "execution_count": 33
        }
      ]
    },
    {
      "cell_type": "markdown",
      "metadata": {
        "id": "Zsv7OwTRnU8p"
      },
      "source": [
        "### Логистическая регрессия"
      ],
      "id": "Zsv7OwTRnU8p"
    },
    {
      "cell_type": "code",
      "metadata": {
        "id": "4wvP0ZoPnhnc"
      },
      "source": [
        "def calc_logloss(y, y_pred):\n",
        "    pred_log = np.where(y_pred == 0, 1e-10, 0.9999999999) \n",
        "    err = - np.mean(y * np.log(y_pred) + (1.0 - y) * np.log(1.0 - y_pred))\n",
        "    return err\n",
        "\n",
        "def eval_model(X, y, iterations, eta=1e-4, log=True):\n",
        "    np.random.seed(42)\n",
        "    W = np.random.randn(X.shape[1])\n",
        "    n = X.shape[0]\n",
        "    \n",
        "    for i in range(iterations):\n",
        "        z = np.dot(X, W)\n",
        "        y_pred = 1 / (1 + np.exp(-z))\n",
        "        err = calc_logloss(y, y_pred)\n",
        "        \n",
        "        dQ = 1/n * X.T @ (y_pred - y)\n",
        "        W -= eta * dQ\n",
        "        if i % (iterations / 10) == 0 and log==True:\n",
        "            print(f'Iteration: {i}, Weights: {W}, Logloss: {err}')\n",
        "    return W\n",
        "\n",
        "def calc_pred_proba(X, W):\n",
        "    z = np.dot(X, W)\n",
        "    y_pred_proba = 1 / (1 + np.exp(-z))\n",
        "    return y_pred_proba"
      ],
      "id": "4wvP0ZoPnhnc",
      "execution_count": null,
      "outputs": []
    },
    {
      "cell_type": "code",
      "metadata": {
        "colab": {
          "base_uri": "https://localhost:8080/"
        },
        "id": "J68lATYDI9or",
        "outputId": "0f8e33ff-cbd5-4345-bdc9-3df3a4342c10"
      },
      "source": [
        "X_train.columns"
      ],
      "id": "J68lATYDI9or",
      "execution_count": null,
      "outputs": [
        {
          "output_type": "execute_result",
          "data": {
            "text/plain": [
              "Index(['age', 'years_of_experience', 'lesson_price', 'qualification',\n",
              "       'physics', 'chemistry', 'biology', 'english', 'geography', 'history',\n",
              "       'mean_exam_points', 'No_science', 'knowledges', 'exam_score',\n",
              "       'price_lavel'],\n",
              "      dtype='object')"
            ]
          },
          "metadata": {},
          "execution_count": 35
        }
      ]
    },
    {
      "cell_type": "code",
      "metadata": {
        "colab": {
          "base_uri": "https://localhost:8080/"
        },
        "id": "KIhjBY8_n7Wt",
        "outputId": "ff491f33-3f71-4345-955e-4731438791c1"
      },
      "source": [
        "# model 1\n",
        "\n",
        "cols = ['age', 'lesson_price', 'qualification', 'chemistry', 'biology', 'english', 'geography', 'history',\n",
        "       'mean_exam_points', 'No_science', 'knowledges', 'exam_score']\n",
        "\n",
        "coef = eval_model(X_train[cols], y_train, 5000, eta=0.6)"
      ],
      "id": "KIhjBY8_n7Wt",
      "execution_count": null,
      "outputs": [
        {
          "output_type": "stream",
          "name": "stdout",
          "text": [
            "Iteration: 0, Weights: age                 0.451220\n",
            "lesson_price       -0.183086\n",
            "qualification       0.677938\n",
            "chemistry           1.510593\n",
            "biology            -0.226524\n",
            "english            -0.232672\n",
            "geography           1.574207\n",
            "history             0.765084\n",
            "mean_exam_points   -0.361154\n",
            "No_science          0.535096\n",
            "knowledges         -0.367363\n",
            "exam_score         -0.379670\n",
            "dtype: float64, Logloss: 0.864323026792044\n",
            "Iteration: 500, Weights: age                 0.067541\n",
            "lesson_price       -3.367724\n",
            "qualification       1.462981\n",
            "chemistry          -0.056041\n",
            "biology            -0.173867\n",
            "english            -0.429200\n",
            "geography           0.058139\n",
            "history            -0.176755\n",
            "mean_exam_points    1.859821\n",
            "No_science         -0.115081\n",
            "knowledges          0.770883\n",
            "exam_score         -0.076345\n",
            "dtype: float64, Logloss: 0.4364304678547719\n",
            "Iteration: 1000, Weights: age                 0.065193\n",
            "lesson_price       -3.463731\n",
            "qualification       1.507784\n",
            "chemistry          -0.162323\n",
            "biology            -0.264785\n",
            "english            -0.558516\n",
            "geography          -0.528999\n",
            "history            -0.688465\n",
            "mean_exam_points    1.901061\n",
            "No_science         -0.042094\n",
            "knowledges          0.790123\n",
            "exam_score         -0.071531\n",
            "dtype: float64, Logloss: 0.434076567415881\n",
            "Iteration: 1500, Weights: age                 0.064594\n",
            "lesson_price       -3.483547\n",
            "qualification       1.515880\n",
            "chemistry          -0.194251\n",
            "biology            -0.293971\n",
            "english            -0.602287\n",
            "geography          -0.754422\n",
            "history            -0.977841\n",
            "mean_exam_points    1.907771\n",
            "No_science         -0.017438\n",
            "knowledges          0.800462\n",
            "exam_score         -0.067389\n",
            "dtype: float64, Logloss: 0.43358834408075675\n",
            "Iteration: 2000, Weights: age                 0.064358\n",
            "lesson_price       -3.492100\n",
            "qualification       1.519242\n",
            "chemistry          -0.207617\n",
            "biology            -0.305781\n",
            "english            -0.618929\n",
            "geography          -0.841507\n",
            "history            -1.139582\n",
            "mean_exam_points    1.910721\n",
            "No_science         -0.007283\n",
            "knowledges          0.805705\n",
            "exam_score         -0.065501\n",
            "dtype: float64, Logloss: 0.433468422032439\n",
            "Iteration: 2500, Weights: age                 0.064247\n",
            "lesson_price       -3.496286\n",
            "qualification       1.520858\n",
            "chemistry          -0.213823\n",
            "biology            -0.311119\n",
            "english            -0.626170\n",
            "geography          -0.876077\n",
            "history            -1.229510\n",
            "mean_exam_points    1.912230\n",
            "No_science         -0.002701\n",
            "knowledges          0.808399\n",
            "exam_score         -0.064610\n",
            "dtype: float64, Logloss: 0.4334357803342503\n",
            "Iteration: 3000, Weights: age                 0.064192\n",
            "lesson_price       -3.498393\n",
            "qualification       1.521658\n",
            "chemistry          -0.216861\n",
            "biology            -0.313678\n",
            "english            -0.629595\n",
            "geography          -0.890307\n",
            "history            -1.279363\n",
            "mean_exam_points    1.913012\n",
            "No_science         -0.000513\n",
            "knowledges          0.809809\n",
            "exam_score         -0.064169\n",
            "dtype: float64, Logloss: 0.43342638308307774\n",
            "Iteration: 3500, Weights: age                 0.064163\n",
            "lesson_price       -3.499476\n",
            "qualification       1.522063\n",
            "chemistry          -0.218401\n",
            "biology            -0.314954\n",
            "english            -0.631298\n",
            "geography          -0.896417\n",
            "history            -1.306943\n",
            "mean_exam_points    1.913420\n",
            "No_science          0.000575\n",
            "knowledges          0.810558\n",
            "exam_score         -0.063943\n",
            "dtype: float64, Logloss: 0.4334236020176109\n",
            "Iteration: 4000, Weights: age                 0.064148\n",
            "lesson_price       -3.500043\n",
            "qualification       1.522273\n",
            "chemistry          -0.219202\n",
            "biology            -0.315610\n",
            "english            -0.632173\n",
            "geography          -0.899161\n",
            "history            -1.322180\n",
            "mean_exam_points    1.913636\n",
            "No_science          0.001133\n",
            "knowledges          0.810960\n",
            "exam_score         -0.063824\n",
            "dtype: float64, Logloss: 0.43342276825978104\n",
            "Iteration: 4500, Weights: age                 0.064139\n",
            "lesson_price       -3.500343\n",
            "qualification       1.522383\n",
            "chemistry          -0.219626\n",
            "biology            -0.315955\n",
            "english            -0.632632\n",
            "geography          -0.900448\n",
            "history            -1.330588\n",
            "mean_exam_points    1.913752\n",
            "No_science          0.001426\n",
            "knowledges          0.811177\n",
            "exam_score         -0.063761\n",
            "dtype: float64, Logloss: 0.4334225168061341\n"
          ]
        }
      ]
    },
    {
      "cell_type": "code",
      "metadata": {
        "id": "pWvVagNSbv3v"
      },
      "source": [
        "y_train_proba_1 = calc_pred_proba(X_train[cols], coef)\n",
        "y_valid_proba_1 = calc_pred_proba(X_valid[cols], coef)"
      ],
      "id": "pWvVagNSbv3v",
      "execution_count": null,
      "outputs": []
    },
    {
      "cell_type": "code",
      "metadata": {
        "colab": {
          "base_uri": "https://localhost:8080/",
          "height": 1000
        },
        "id": "azjfhOPpx1ri",
        "outputId": "7c59f040-db44-4cbb-99d3-af473bdc2f79"
      },
      "source": [
        "train_roc = roc_auc(y_train_proba_1, y_train)\n",
        "valid_roc = roc_auc(y_valid_proba_1, y_valid)\n",
        "\n",
        "print(f'Train ROC AUC score: {train_roc}',\n",
        "      f'Valid ROC AUC score: {valid_roc}', sep='\\n')"
      ],
      "id": "azjfhOPpx1ri",
      "execution_count": null,
      "outputs": [
        {
          "output_type": "stream",
          "name": "stdout",
          "text": [
            "Train ROC AUC score: ROC AUC score = 0.8763\n",
            "Valid ROC AUC score: ROC AUC score = 0.8813\n"
          ]
        },
        {
          "output_type": "display_data",
          "data": {
            "text/plain": [
              "<Figure size 720x432 with 1 Axes>"
            ],
            "image/svg+xml": "<?xml version=\"1.0\" encoding=\"utf-8\" standalone=\"no\"?>\n<!DOCTYPE svg PUBLIC \"-//W3C//DTD SVG 1.1//EN\"\n  \"http://www.w3.org/Graphics/SVG/1.1/DTD/svg11.dtd\">\n<!-- Created with matplotlib (https://matplotlib.org/) -->\n<svg height=\"392.113125pt\" version=\"1.1\" viewBox=\"0 0 608.98125 392.113125\" width=\"608.98125pt\" xmlns=\"http://www.w3.org/2000/svg\" xmlns:xlink=\"http://www.w3.org/1999/xlink\">\n <defs>\n  <style type=\"text/css\">\n*{stroke-linecap:butt;stroke-linejoin:round;}\n  </style>\n </defs>\n <g id=\"figure_1\">\n  <g id=\"patch_1\">\n   <path d=\"M 0 392.113125 \nL 608.98125 392.113125 \nL 608.98125 0 \nL 0 0 \nz\n\" style=\"fill:none;\"/>\n  </g>\n  <g id=\"axes_1\">\n   <g id=\"patch_2\">\n    <path d=\"M 43.78125 354.556875 \nL 601.78125 354.556875 \nL 601.78125 28.396875 \nL 43.78125 28.396875 \nz\n\" style=\"fill:#ffffff;\"/>\n   </g>\n   <g id=\"matplotlib.axis_1\">\n    <g id=\"xtick_1\">\n     <g id=\"line2d_1\">\n      <defs>\n       <path d=\"M 0 0 \nL 0 3.5 \n\" id=\"m17064b244b\" style=\"stroke:#000000;stroke-width:0.8;\"/>\n      </defs>\n      <g>\n       <use style=\"stroke:#000000;stroke-width:0.8;\" x=\"69.144886\" xlink:href=\"#m17064b244b\" y=\"354.556875\"/>\n      </g>\n     </g>\n     <g id=\"text_1\">\n      <!-- 0.0 -->\n      <defs>\n       <path d=\"M 31.78125 66.40625 \nQ 24.171875 66.40625 20.328125 58.90625 \nQ 16.5 51.421875 16.5 36.375 \nQ 16.5 21.390625 20.328125 13.890625 \nQ 24.171875 6.390625 31.78125 6.390625 \nQ 39.453125 6.390625 43.28125 13.890625 \nQ 47.125 21.390625 47.125 36.375 \nQ 47.125 51.421875 43.28125 58.90625 \nQ 39.453125 66.40625 31.78125 66.40625 \nz\nM 31.78125 74.21875 \nQ 44.046875 74.21875 50.515625 64.515625 \nQ 56.984375 54.828125 56.984375 36.375 \nQ 56.984375 17.96875 50.515625 8.265625 \nQ 44.046875 -1.421875 31.78125 -1.421875 \nQ 19.53125 -1.421875 13.0625 8.265625 \nQ 6.59375 17.96875 6.59375 36.375 \nQ 6.59375 54.828125 13.0625 64.515625 \nQ 19.53125 74.21875 31.78125 74.21875 \nz\n\" id=\"DejaVuSans-48\"/>\n       <path d=\"M 10.6875 12.40625 \nL 21 12.40625 \nL 21 0 \nL 10.6875 0 \nz\n\" id=\"DejaVuSans-46\"/>\n      </defs>\n      <g transform=\"translate(61.193324 369.155312)scale(0.1 -0.1)\">\n       <use xlink:href=\"#DejaVuSans-48\"/>\n       <use x=\"63.623047\" xlink:href=\"#DejaVuSans-46\"/>\n       <use x=\"95.410156\" xlink:href=\"#DejaVuSans-48\"/>\n      </g>\n     </g>\n    </g>\n    <g id=\"xtick_2\">\n     <g id=\"line2d_2\">\n      <g>\n       <use style=\"stroke:#000000;stroke-width:0.8;\" x=\"170.599432\" xlink:href=\"#m17064b244b\" y=\"354.556875\"/>\n      </g>\n     </g>\n     <g id=\"text_2\">\n      <!-- 0.2 -->\n      <defs>\n       <path d=\"M 19.1875 8.296875 \nL 53.609375 8.296875 \nL 53.609375 0 \nL 7.328125 0 \nL 7.328125 8.296875 \nQ 12.9375 14.109375 22.625 23.890625 \nQ 32.328125 33.6875 34.8125 36.53125 \nQ 39.546875 41.84375 41.421875 45.53125 \nQ 43.3125 49.21875 43.3125 52.78125 \nQ 43.3125 58.59375 39.234375 62.25 \nQ 35.15625 65.921875 28.609375 65.921875 \nQ 23.96875 65.921875 18.8125 64.3125 \nQ 13.671875 62.703125 7.8125 59.421875 \nL 7.8125 69.390625 \nQ 13.765625 71.78125 18.9375 73 \nQ 24.125 74.21875 28.421875 74.21875 \nQ 39.75 74.21875 46.484375 68.546875 \nQ 53.21875 62.890625 53.21875 53.421875 \nQ 53.21875 48.921875 51.53125 44.890625 \nQ 49.859375 40.875 45.40625 35.40625 \nQ 44.1875 33.984375 37.640625 27.21875 \nQ 31.109375 20.453125 19.1875 8.296875 \nz\n\" id=\"DejaVuSans-50\"/>\n      </defs>\n      <g transform=\"translate(162.647869 369.155312)scale(0.1 -0.1)\">\n       <use xlink:href=\"#DejaVuSans-48\"/>\n       <use x=\"63.623047\" xlink:href=\"#DejaVuSans-46\"/>\n       <use x=\"95.410156\" xlink:href=\"#DejaVuSans-50\"/>\n      </g>\n     </g>\n    </g>\n    <g id=\"xtick_3\">\n     <g id=\"line2d_3\">\n      <g>\n       <use style=\"stroke:#000000;stroke-width:0.8;\" x=\"272.053977\" xlink:href=\"#m17064b244b\" y=\"354.556875\"/>\n      </g>\n     </g>\n     <g id=\"text_3\">\n      <!-- 0.4 -->\n      <defs>\n       <path d=\"M 37.796875 64.3125 \nL 12.890625 25.390625 \nL 37.796875 25.390625 \nz\nM 35.203125 72.90625 \nL 47.609375 72.90625 \nL 47.609375 25.390625 \nL 58.015625 25.390625 \nL 58.015625 17.1875 \nL 47.609375 17.1875 \nL 47.609375 0 \nL 37.796875 0 \nL 37.796875 17.1875 \nL 4.890625 17.1875 \nL 4.890625 26.703125 \nz\n\" id=\"DejaVuSans-52\"/>\n      </defs>\n      <g transform=\"translate(264.102415 369.155312)scale(0.1 -0.1)\">\n       <use xlink:href=\"#DejaVuSans-48\"/>\n       <use x=\"63.623047\" xlink:href=\"#DejaVuSans-46\"/>\n       <use x=\"95.410156\" xlink:href=\"#DejaVuSans-52\"/>\n      </g>\n     </g>\n    </g>\n    <g id=\"xtick_4\">\n     <g id=\"line2d_4\">\n      <g>\n       <use style=\"stroke:#000000;stroke-width:0.8;\" x=\"373.508523\" xlink:href=\"#m17064b244b\" y=\"354.556875\"/>\n      </g>\n     </g>\n     <g id=\"text_4\">\n      <!-- 0.6 -->\n      <defs>\n       <path d=\"M 33.015625 40.375 \nQ 26.375 40.375 22.484375 35.828125 \nQ 18.609375 31.296875 18.609375 23.390625 \nQ 18.609375 15.53125 22.484375 10.953125 \nQ 26.375 6.390625 33.015625 6.390625 \nQ 39.65625 6.390625 43.53125 10.953125 \nQ 47.40625 15.53125 47.40625 23.390625 \nQ 47.40625 31.296875 43.53125 35.828125 \nQ 39.65625 40.375 33.015625 40.375 \nz\nM 52.59375 71.296875 \nL 52.59375 62.3125 \nQ 48.875 64.0625 45.09375 64.984375 \nQ 41.3125 65.921875 37.59375 65.921875 \nQ 27.828125 65.921875 22.671875 59.328125 \nQ 17.53125 52.734375 16.796875 39.40625 \nQ 19.671875 43.65625 24.015625 45.921875 \nQ 28.375 48.1875 33.59375 48.1875 \nQ 44.578125 48.1875 50.953125 41.515625 \nQ 57.328125 34.859375 57.328125 23.390625 \nQ 57.328125 12.15625 50.6875 5.359375 \nQ 44.046875 -1.421875 33.015625 -1.421875 \nQ 20.359375 -1.421875 13.671875 8.265625 \nQ 6.984375 17.96875 6.984375 36.375 \nQ 6.984375 53.65625 15.1875 63.9375 \nQ 23.390625 74.21875 37.203125 74.21875 \nQ 40.921875 74.21875 44.703125 73.484375 \nQ 48.484375 72.75 52.59375 71.296875 \nz\n\" id=\"DejaVuSans-54\"/>\n      </defs>\n      <g transform=\"translate(365.55696 369.155312)scale(0.1 -0.1)\">\n       <use xlink:href=\"#DejaVuSans-48\"/>\n       <use x=\"63.623047\" xlink:href=\"#DejaVuSans-46\"/>\n       <use x=\"95.410156\" xlink:href=\"#DejaVuSans-54\"/>\n      </g>\n     </g>\n    </g>\n    <g id=\"xtick_5\">\n     <g id=\"line2d_5\">\n      <g>\n       <use style=\"stroke:#000000;stroke-width:0.8;\" x=\"474.963068\" xlink:href=\"#m17064b244b\" y=\"354.556875\"/>\n      </g>\n     </g>\n     <g id=\"text_5\">\n      <!-- 0.8 -->\n      <defs>\n       <path d=\"M 31.78125 34.625 \nQ 24.75 34.625 20.71875 30.859375 \nQ 16.703125 27.09375 16.703125 20.515625 \nQ 16.703125 13.921875 20.71875 10.15625 \nQ 24.75 6.390625 31.78125 6.390625 \nQ 38.8125 6.390625 42.859375 10.171875 \nQ 46.921875 13.96875 46.921875 20.515625 \nQ 46.921875 27.09375 42.890625 30.859375 \nQ 38.875 34.625 31.78125 34.625 \nz\nM 21.921875 38.8125 \nQ 15.578125 40.375 12.03125 44.71875 \nQ 8.5 49.078125 8.5 55.328125 \nQ 8.5 64.0625 14.71875 69.140625 \nQ 20.953125 74.21875 31.78125 74.21875 \nQ 42.671875 74.21875 48.875 69.140625 \nQ 55.078125 64.0625 55.078125 55.328125 \nQ 55.078125 49.078125 51.53125 44.71875 \nQ 48 40.375 41.703125 38.8125 \nQ 48.828125 37.15625 52.796875 32.3125 \nQ 56.78125 27.484375 56.78125 20.515625 \nQ 56.78125 9.90625 50.3125 4.234375 \nQ 43.84375 -1.421875 31.78125 -1.421875 \nQ 19.734375 -1.421875 13.25 4.234375 \nQ 6.78125 9.90625 6.78125 20.515625 \nQ 6.78125 27.484375 10.78125 32.3125 \nQ 14.796875 37.15625 21.921875 38.8125 \nz\nM 18.3125 54.390625 \nQ 18.3125 48.734375 21.84375 45.5625 \nQ 25.390625 42.390625 31.78125 42.390625 \nQ 38.140625 42.390625 41.71875 45.5625 \nQ 45.3125 48.734375 45.3125 54.390625 \nQ 45.3125 60.0625 41.71875 63.234375 \nQ 38.140625 66.40625 31.78125 66.40625 \nQ 25.390625 66.40625 21.84375 63.234375 \nQ 18.3125 60.0625 18.3125 54.390625 \nz\n\" id=\"DejaVuSans-56\"/>\n      </defs>\n      <g transform=\"translate(467.011506 369.155312)scale(0.1 -0.1)\">\n       <use xlink:href=\"#DejaVuSans-48\"/>\n       <use x=\"63.623047\" xlink:href=\"#DejaVuSans-46\"/>\n       <use x=\"95.410156\" xlink:href=\"#DejaVuSans-56\"/>\n      </g>\n     </g>\n    </g>\n    <g id=\"xtick_6\">\n     <g id=\"line2d_6\">\n      <g>\n       <use style=\"stroke:#000000;stroke-width:0.8;\" x=\"576.417614\" xlink:href=\"#m17064b244b\" y=\"354.556875\"/>\n      </g>\n     </g>\n     <g id=\"text_6\">\n      <!-- 1.0 -->\n      <defs>\n       <path d=\"M 12.40625 8.296875 \nL 28.515625 8.296875 \nL 28.515625 63.921875 \nL 10.984375 60.40625 \nL 10.984375 69.390625 \nL 28.421875 72.90625 \nL 38.28125 72.90625 \nL 38.28125 8.296875 \nL 54.390625 8.296875 \nL 54.390625 0 \nL 12.40625 0 \nz\n\" id=\"DejaVuSans-49\"/>\n      </defs>\n      <g transform=\"translate(568.466051 369.155312)scale(0.1 -0.1)\">\n       <use xlink:href=\"#DejaVuSans-49\"/>\n       <use x=\"63.623047\" xlink:href=\"#DejaVuSans-46\"/>\n       <use x=\"95.410156\" xlink:href=\"#DejaVuSans-48\"/>\n      </g>\n     </g>\n    </g>\n    <g id=\"text_7\">\n     <!-- False Positive Rate -->\n     <defs>\n      <path d=\"M 9.8125 72.90625 \nL 51.703125 72.90625 \nL 51.703125 64.59375 \nL 19.671875 64.59375 \nL 19.671875 43.109375 \nL 48.578125 43.109375 \nL 48.578125 34.8125 \nL 19.671875 34.8125 \nL 19.671875 0 \nL 9.8125 0 \nz\n\" id=\"DejaVuSans-70\"/>\n      <path d=\"M 34.28125 27.484375 \nQ 23.390625 27.484375 19.1875 25 \nQ 14.984375 22.515625 14.984375 16.5 \nQ 14.984375 11.71875 18.140625 8.90625 \nQ 21.296875 6.109375 26.703125 6.109375 \nQ 34.1875 6.109375 38.703125 11.40625 \nQ 43.21875 16.703125 43.21875 25.484375 \nL 43.21875 27.484375 \nz\nM 52.203125 31.203125 \nL 52.203125 0 \nL 43.21875 0 \nL 43.21875 8.296875 \nQ 40.140625 3.328125 35.546875 0.953125 \nQ 30.953125 -1.421875 24.3125 -1.421875 \nQ 15.921875 -1.421875 10.953125 3.296875 \nQ 6 8.015625 6 15.921875 \nQ 6 25.140625 12.171875 29.828125 \nQ 18.359375 34.515625 30.609375 34.515625 \nL 43.21875 34.515625 \nL 43.21875 35.40625 \nQ 43.21875 41.609375 39.140625 45 \nQ 35.0625 48.390625 27.6875 48.390625 \nQ 23 48.390625 18.546875 47.265625 \nQ 14.109375 46.140625 10.015625 43.890625 \nL 10.015625 52.203125 \nQ 14.9375 54.109375 19.578125 55.046875 \nQ 24.21875 56 28.609375 56 \nQ 40.484375 56 46.34375 49.84375 \nQ 52.203125 43.703125 52.203125 31.203125 \nz\n\" id=\"DejaVuSans-97\"/>\n      <path d=\"M 9.421875 75.984375 \nL 18.40625 75.984375 \nL 18.40625 0 \nL 9.421875 0 \nz\n\" id=\"DejaVuSans-108\"/>\n      <path d=\"M 44.28125 53.078125 \nL 44.28125 44.578125 \nQ 40.484375 46.53125 36.375 47.5 \nQ 32.28125 48.484375 27.875 48.484375 \nQ 21.1875 48.484375 17.84375 46.4375 \nQ 14.5 44.390625 14.5 40.28125 \nQ 14.5 37.15625 16.890625 35.375 \nQ 19.28125 33.59375 26.515625 31.984375 \nL 29.59375 31.296875 \nQ 39.15625 29.25 43.1875 25.515625 \nQ 47.21875 21.78125 47.21875 15.09375 \nQ 47.21875 7.46875 41.1875 3.015625 \nQ 35.15625 -1.421875 24.609375 -1.421875 \nQ 20.21875 -1.421875 15.453125 -0.5625 \nQ 10.6875 0.296875 5.421875 2 \nL 5.421875 11.28125 \nQ 10.40625 8.6875 15.234375 7.390625 \nQ 20.0625 6.109375 24.8125 6.109375 \nQ 31.15625 6.109375 34.5625 8.28125 \nQ 37.984375 10.453125 37.984375 14.40625 \nQ 37.984375 18.0625 35.515625 20.015625 \nQ 33.0625 21.96875 24.703125 23.78125 \nL 21.578125 24.515625 \nQ 13.234375 26.265625 9.515625 29.90625 \nQ 5.8125 33.546875 5.8125 39.890625 \nQ 5.8125 47.609375 11.28125 51.796875 \nQ 16.75 56 26.8125 56 \nQ 31.78125 56 36.171875 55.265625 \nQ 40.578125 54.546875 44.28125 53.078125 \nz\n\" id=\"DejaVuSans-115\"/>\n      <path d=\"M 56.203125 29.59375 \nL 56.203125 25.203125 \nL 14.890625 25.203125 \nQ 15.484375 15.921875 20.484375 11.0625 \nQ 25.484375 6.203125 34.421875 6.203125 \nQ 39.59375 6.203125 44.453125 7.46875 \nQ 49.3125 8.734375 54.109375 11.28125 \nL 54.109375 2.78125 \nQ 49.265625 0.734375 44.1875 -0.34375 \nQ 39.109375 -1.421875 33.890625 -1.421875 \nQ 20.796875 -1.421875 13.15625 6.1875 \nQ 5.515625 13.8125 5.515625 26.8125 \nQ 5.515625 40.234375 12.765625 48.109375 \nQ 20.015625 56 32.328125 56 \nQ 43.359375 56 49.78125 48.890625 \nQ 56.203125 41.796875 56.203125 29.59375 \nz\nM 47.21875 32.234375 \nQ 47.125 39.59375 43.09375 43.984375 \nQ 39.0625 48.390625 32.421875 48.390625 \nQ 24.90625 48.390625 20.390625 44.140625 \nQ 15.875 39.890625 15.1875 32.171875 \nz\n\" id=\"DejaVuSans-101\"/>\n      <path id=\"DejaVuSans-32\"/>\n      <path d=\"M 19.671875 64.796875 \nL 19.671875 37.40625 \nL 32.078125 37.40625 \nQ 38.96875 37.40625 42.71875 40.96875 \nQ 46.484375 44.53125 46.484375 51.125 \nQ 46.484375 57.671875 42.71875 61.234375 \nQ 38.96875 64.796875 32.078125 64.796875 \nz\nM 9.8125 72.90625 \nL 32.078125 72.90625 \nQ 44.34375 72.90625 50.609375 67.359375 \nQ 56.890625 61.8125 56.890625 51.125 \nQ 56.890625 40.328125 50.609375 34.8125 \nQ 44.34375 29.296875 32.078125 29.296875 \nL 19.671875 29.296875 \nL 19.671875 0 \nL 9.8125 0 \nz\n\" id=\"DejaVuSans-80\"/>\n      <path d=\"M 30.609375 48.390625 \nQ 23.390625 48.390625 19.1875 42.75 \nQ 14.984375 37.109375 14.984375 27.296875 \nQ 14.984375 17.484375 19.15625 11.84375 \nQ 23.34375 6.203125 30.609375 6.203125 \nQ 37.796875 6.203125 41.984375 11.859375 \nQ 46.1875 17.53125 46.1875 27.296875 \nQ 46.1875 37.015625 41.984375 42.703125 \nQ 37.796875 48.390625 30.609375 48.390625 \nz\nM 30.609375 56 \nQ 42.328125 56 49.015625 48.375 \nQ 55.71875 40.765625 55.71875 27.296875 \nQ 55.71875 13.875 49.015625 6.21875 \nQ 42.328125 -1.421875 30.609375 -1.421875 \nQ 18.84375 -1.421875 12.171875 6.21875 \nQ 5.515625 13.875 5.515625 27.296875 \nQ 5.515625 40.765625 12.171875 48.375 \nQ 18.84375 56 30.609375 56 \nz\n\" id=\"DejaVuSans-111\"/>\n      <path d=\"M 9.421875 54.6875 \nL 18.40625 54.6875 \nL 18.40625 0 \nL 9.421875 0 \nz\nM 9.421875 75.984375 \nL 18.40625 75.984375 \nL 18.40625 64.59375 \nL 9.421875 64.59375 \nz\n\" id=\"DejaVuSans-105\"/>\n      <path d=\"M 18.3125 70.21875 \nL 18.3125 54.6875 \nL 36.8125 54.6875 \nL 36.8125 47.703125 \nL 18.3125 47.703125 \nL 18.3125 18.015625 \nQ 18.3125 11.328125 20.140625 9.421875 \nQ 21.96875 7.515625 27.59375 7.515625 \nL 36.8125 7.515625 \nL 36.8125 0 \nL 27.59375 0 \nQ 17.1875 0 13.234375 3.875 \nQ 9.28125 7.765625 9.28125 18.015625 \nL 9.28125 47.703125 \nL 2.6875 47.703125 \nL 2.6875 54.6875 \nL 9.28125 54.6875 \nL 9.28125 70.21875 \nz\n\" id=\"DejaVuSans-116\"/>\n      <path d=\"M 2.984375 54.6875 \nL 12.5 54.6875 \nL 29.59375 8.796875 \nL 46.6875 54.6875 \nL 56.203125 54.6875 \nL 35.6875 0 \nL 23.484375 0 \nz\n\" id=\"DejaVuSans-118\"/>\n      <path d=\"M 44.390625 34.1875 \nQ 47.5625 33.109375 50.5625 29.59375 \nQ 53.5625 26.078125 56.59375 19.921875 \nL 66.609375 0 \nL 56 0 \nL 46.6875 18.703125 \nQ 43.0625 26.03125 39.671875 28.421875 \nQ 36.28125 30.8125 30.421875 30.8125 \nL 19.671875 30.8125 \nL 19.671875 0 \nL 9.8125 0 \nL 9.8125 72.90625 \nL 32.078125 72.90625 \nQ 44.578125 72.90625 50.734375 67.671875 \nQ 56.890625 62.453125 56.890625 51.90625 \nQ 56.890625 45.015625 53.6875 40.46875 \nQ 50.484375 35.9375 44.390625 34.1875 \nz\nM 19.671875 64.796875 \nL 19.671875 38.921875 \nL 32.078125 38.921875 \nQ 39.203125 38.921875 42.84375 42.21875 \nQ 46.484375 45.515625 46.484375 51.90625 \nQ 46.484375 58.296875 42.84375 61.546875 \nQ 39.203125 64.796875 32.078125 64.796875 \nz\n\" id=\"DejaVuSans-82\"/>\n     </defs>\n     <g transform=\"translate(276.314844 382.833437)scale(0.1 -0.1)\">\n      <use xlink:href=\"#DejaVuSans-70\"/>\n      <use x=\"48.394531\" xlink:href=\"#DejaVuSans-97\"/>\n      <use x=\"109.673828\" xlink:href=\"#DejaVuSans-108\"/>\n      <use x=\"137.457031\" xlink:href=\"#DejaVuSans-115\"/>\n      <use x=\"189.556641\" xlink:href=\"#DejaVuSans-101\"/>\n      <use x=\"251.080078\" xlink:href=\"#DejaVuSans-32\"/>\n      <use x=\"282.867188\" xlink:href=\"#DejaVuSans-80\"/>\n      <use x=\"339.544922\" xlink:href=\"#DejaVuSans-111\"/>\n      <use x=\"400.726562\" xlink:href=\"#DejaVuSans-115\"/>\n      <use x=\"452.826172\" xlink:href=\"#DejaVuSans-105\"/>\n      <use x=\"480.609375\" xlink:href=\"#DejaVuSans-116\"/>\n      <use x=\"519.818359\" xlink:href=\"#DejaVuSans-105\"/>\n      <use x=\"547.601562\" xlink:href=\"#DejaVuSans-118\"/>\n      <use x=\"606.78125\" xlink:href=\"#DejaVuSans-101\"/>\n      <use x=\"668.304688\" xlink:href=\"#DejaVuSans-32\"/>\n      <use x=\"700.091797\" xlink:href=\"#DejaVuSans-82\"/>\n      <use x=\"767.324219\" xlink:href=\"#DejaVuSans-97\"/>\n      <use x=\"828.603516\" xlink:href=\"#DejaVuSans-116\"/>\n      <use x=\"867.8125\" xlink:href=\"#DejaVuSans-101\"/>\n     </g>\n    </g>\n   </g>\n   <g id=\"matplotlib.axis_2\">\n    <g id=\"ytick_1\">\n     <g id=\"line2d_7\">\n      <defs>\n       <path d=\"M 0 0 \nL -3.5 0 \n\" id=\"mcc8d5f0d93\" style=\"stroke:#000000;stroke-width:0.8;\"/>\n      </defs>\n      <g>\n       <use style=\"stroke:#000000;stroke-width:0.8;\" x=\"43.78125\" xlink:href=\"#mcc8d5f0d93\" y=\"339.73142\"/>\n      </g>\n     </g>\n     <g id=\"text_8\">\n      <!-- 0.0 -->\n      <g transform=\"translate(20.878125 343.530639)scale(0.1 -0.1)\">\n       <use xlink:href=\"#DejaVuSans-48\"/>\n       <use x=\"63.623047\" xlink:href=\"#DejaVuSans-46\"/>\n       <use x=\"95.410156\" xlink:href=\"#DejaVuSans-48\"/>\n      </g>\n     </g>\n    </g>\n    <g id=\"ytick_2\">\n     <g id=\"line2d_8\">\n      <g>\n       <use style=\"stroke:#000000;stroke-width:0.8;\" x=\"43.78125\" xlink:href=\"#mcc8d5f0d93\" y=\"280.429602\"/>\n      </g>\n     </g>\n     <g id=\"text_9\">\n      <!-- 0.2 -->\n      <g transform=\"translate(20.878125 284.228821)scale(0.1 -0.1)\">\n       <use xlink:href=\"#DejaVuSans-48\"/>\n       <use x=\"63.623047\" xlink:href=\"#DejaVuSans-46\"/>\n       <use x=\"95.410156\" xlink:href=\"#DejaVuSans-50\"/>\n      </g>\n     </g>\n    </g>\n    <g id=\"ytick_3\">\n     <g id=\"line2d_9\">\n      <g>\n       <use style=\"stroke:#000000;stroke-width:0.8;\" x=\"43.78125\" xlink:href=\"#mcc8d5f0d93\" y=\"221.127784\"/>\n      </g>\n     </g>\n     <g id=\"text_10\">\n      <!-- 0.4 -->\n      <g transform=\"translate(20.878125 224.927003)scale(0.1 -0.1)\">\n       <use xlink:href=\"#DejaVuSans-48\"/>\n       <use x=\"63.623047\" xlink:href=\"#DejaVuSans-46\"/>\n       <use x=\"95.410156\" xlink:href=\"#DejaVuSans-52\"/>\n      </g>\n     </g>\n    </g>\n    <g id=\"ytick_4\">\n     <g id=\"line2d_10\">\n      <g>\n       <use style=\"stroke:#000000;stroke-width:0.8;\" x=\"43.78125\" xlink:href=\"#mcc8d5f0d93\" y=\"161.825966\"/>\n      </g>\n     </g>\n     <g id=\"text_11\">\n      <!-- 0.6 -->\n      <g transform=\"translate(20.878125 165.625185)scale(0.1 -0.1)\">\n       <use xlink:href=\"#DejaVuSans-48\"/>\n       <use x=\"63.623047\" xlink:href=\"#DejaVuSans-46\"/>\n       <use x=\"95.410156\" xlink:href=\"#DejaVuSans-54\"/>\n      </g>\n     </g>\n    </g>\n    <g id=\"ytick_5\">\n     <g id=\"line2d_11\">\n      <g>\n       <use style=\"stroke:#000000;stroke-width:0.8;\" x=\"43.78125\" xlink:href=\"#mcc8d5f0d93\" y=\"102.524148\"/>\n      </g>\n     </g>\n     <g id=\"text_12\">\n      <!-- 0.8 -->\n      <g transform=\"translate(20.878125 106.323366)scale(0.1 -0.1)\">\n       <use xlink:href=\"#DejaVuSans-48\"/>\n       <use x=\"63.623047\" xlink:href=\"#DejaVuSans-46\"/>\n       <use x=\"95.410156\" xlink:href=\"#DejaVuSans-56\"/>\n      </g>\n     </g>\n    </g>\n    <g id=\"ytick_6\">\n     <g id=\"line2d_12\">\n      <g>\n       <use style=\"stroke:#000000;stroke-width:0.8;\" x=\"43.78125\" xlink:href=\"#mcc8d5f0d93\" y=\"43.22233\"/>\n      </g>\n     </g>\n     <g id=\"text_13\">\n      <!-- 1.0 -->\n      <g transform=\"translate(20.878125 47.021548)scale(0.1 -0.1)\">\n       <use xlink:href=\"#DejaVuSans-49\"/>\n       <use x=\"63.623047\" xlink:href=\"#DejaVuSans-46\"/>\n       <use x=\"95.410156\" xlink:href=\"#DejaVuSans-48\"/>\n      </g>\n     </g>\n    </g>\n    <g id=\"text_14\">\n     <!-- True Positive Rate -->\n     <defs>\n      <path d=\"M -0.296875 72.90625 \nL 61.375 72.90625 \nL 61.375 64.59375 \nL 35.5 64.59375 \nL 35.5 0 \nL 25.59375 0 \nL 25.59375 64.59375 \nL -0.296875 64.59375 \nz\n\" id=\"DejaVuSans-84\"/>\n      <path d=\"M 41.109375 46.296875 \nQ 39.59375 47.171875 37.8125 47.578125 \nQ 36.03125 48 33.890625 48 \nQ 26.265625 48 22.1875 43.046875 \nQ 18.109375 38.09375 18.109375 28.8125 \nL 18.109375 0 \nL 9.078125 0 \nL 9.078125 54.6875 \nL 18.109375 54.6875 \nL 18.109375 46.1875 \nQ 20.953125 51.171875 25.484375 53.578125 \nQ 30.03125 56 36.53125 56 \nQ 37.453125 56 38.578125 55.875 \nQ 39.703125 55.765625 41.0625 55.515625 \nz\n\" id=\"DejaVuSans-114\"/>\n      <path d=\"M 8.5 21.578125 \nL 8.5 54.6875 \nL 17.484375 54.6875 \nL 17.484375 21.921875 \nQ 17.484375 14.15625 20.5 10.265625 \nQ 23.53125 6.390625 29.59375 6.390625 \nQ 36.859375 6.390625 41.078125 11.03125 \nQ 45.3125 15.671875 45.3125 23.6875 \nL 45.3125 54.6875 \nL 54.296875 54.6875 \nL 54.296875 0 \nL 45.3125 0 \nL 45.3125 8.40625 \nQ 42.046875 3.421875 37.71875 1 \nQ 33.40625 -1.421875 27.6875 -1.421875 \nQ 18.265625 -1.421875 13.375 4.4375 \nQ 8.5 10.296875 8.5 21.578125 \nz\nM 31.109375 56 \nz\n\" id=\"DejaVuSans-117\"/>\n     </defs>\n     <g transform=\"translate(14.798438 236.006562)rotate(-90)scale(0.1 -0.1)\">\n      <use xlink:href=\"#DejaVuSans-84\"/>\n      <use x=\"46.333984\" xlink:href=\"#DejaVuSans-114\"/>\n      <use x=\"87.447266\" xlink:href=\"#DejaVuSans-117\"/>\n      <use x=\"150.826172\" xlink:href=\"#DejaVuSans-101\"/>\n      <use x=\"212.349609\" xlink:href=\"#DejaVuSans-32\"/>\n      <use x=\"244.136719\" xlink:href=\"#DejaVuSans-80\"/>\n      <use x=\"300.814453\" xlink:href=\"#DejaVuSans-111\"/>\n      <use x=\"361.996094\" xlink:href=\"#DejaVuSans-115\"/>\n      <use x=\"414.095703\" xlink:href=\"#DejaVuSans-105\"/>\n      <use x=\"441.878906\" xlink:href=\"#DejaVuSans-116\"/>\n      <use x=\"481.087891\" xlink:href=\"#DejaVuSans-105\"/>\n      <use x=\"508.871094\" xlink:href=\"#DejaVuSans-118\"/>\n      <use x=\"568.050781\" xlink:href=\"#DejaVuSans-101\"/>\n      <use x=\"629.574219\" xlink:href=\"#DejaVuSans-32\"/>\n      <use x=\"661.361328\" xlink:href=\"#DejaVuSans-82\"/>\n      <use x=\"728.59375\" xlink:href=\"#DejaVuSans-97\"/>\n      <use x=\"789.873047\" xlink:href=\"#DejaVuSans-116\"/>\n      <use x=\"829.082031\" xlink:href=\"#DejaVuSans-101\"/>\n     </g>\n    </g>\n   </g>\n   <g id=\"line2d_13\">\n    <path clip-path=\"url(#p5380893fdb)\" d=\"M 576.417614 43.22233 \nL 443.817184 43.527223 \nL 390.69006 45.153323 \nL 347.475363 47.084316 \nL 311.477607 50.997118 \nL 279.740455 55.824601 \nL 254.437684 62.78634 \nL 231.656495 70.66276 \nL 209.049209 80.216094 \nL 190.96338 90.480848 \nL 173.920964 102.320885 \nL 158.443668 116.650888 \nL 144.705394 133.928195 \nL 131.314924 152.780787 \nL 116.967992 174.936394 \nL 104.273131 199.277071 \nL 93.92595 232.002325 \nL 82.100601 262.74577 \nL 74.101099 300.247691 \nL 69.144886 339.73142 \n\" style=\"fill:none;stroke:#0b032d;stroke-linecap:square;stroke-width:1.5;\"/>\n   </g>\n   <g id=\"line2d_14\">\n    <path clip-path=\"url(#p5380893fdb)\" d=\"M 69.144886 339.73142 \nL 79.497391 333.680215 \nL 89.849896 327.629009 \nL 100.2024 321.577803 \nL 110.554905 315.526597 \nL 120.90741 309.475391 \nL 131.259914 303.424185 \nL 141.612419 297.372979 \nL 151.964923 291.321773 \nL 162.317428 285.270567 \nL 172.669933 279.219361 \nL 183.022437 273.168155 \nL 193.374942 267.116949 \nL 203.727447 261.065743 \nL 214.079951 255.014537 \nL 224.432456 248.963331 \nL 234.784961 242.912125 \nL 245.137465 236.86092 \nL 255.48997 230.809714 \nL 265.842474 224.758508 \nL 276.194979 218.707302 \nL 286.547484 212.656096 \nL 296.899988 206.60489 \nL 307.252493 200.553684 \nL 317.604998 194.502478 \nL 327.957502 188.451272 \nL 338.310007 182.400066 \nL 348.662512 176.34886 \nL 359.015016 170.297654 \nL 369.367521 164.246448 \nL 379.720026 158.195242 \nL 390.07253 152.144036 \nL 400.425035 146.09283 \nL 410.777539 140.041625 \nL 421.130044 133.990419 \nL 431.482549 127.939213 \nL 441.835053 121.888007 \nL 452.187558 115.836801 \nL 462.540063 109.785595 \nL 472.892567 103.734389 \nL 483.245072 97.683183 \nL 493.597577 91.631977 \nL 503.950081 85.580771 \nL 514.302586 79.529565 \nL 524.65509 73.478359 \nL 535.007595 67.427153 \nL 545.3601 61.375947 \nL 555.712604 55.324741 \nL 566.065109 49.273535 \nL 576.417614 43.22233 \n\" style=\"fill:none;stroke:#e36414;stroke-dasharray:5.55,2.4;stroke-dashoffset:0;stroke-width:1.5;\"/>\n   </g>\n   <g id=\"patch_3\">\n    <path d=\"M 43.78125 354.556875 \nL 43.78125 28.396875 \n\" style=\"fill:none;stroke:#000000;stroke-linecap:square;stroke-linejoin:miter;stroke-width:0.8;\"/>\n   </g>\n   <g id=\"patch_4\">\n    <path d=\"M 601.78125 354.556875 \nL 601.78125 28.396875 \n\" style=\"fill:none;stroke:#000000;stroke-linecap:square;stroke-linejoin:miter;stroke-width:0.8;\"/>\n   </g>\n   <g id=\"patch_5\">\n    <path d=\"M 43.78125 354.556875 \nL 601.78125 354.556875 \n\" style=\"fill:none;stroke:#000000;stroke-linecap:square;stroke-linejoin:miter;stroke-width:0.8;\"/>\n   </g>\n   <g id=\"patch_6\">\n    <path d=\"M 43.78125 28.396875 \nL 601.78125 28.396875 \n\" style=\"fill:none;stroke:#000000;stroke-linecap:square;stroke-linejoin:miter;stroke-width:0.8;\"/>\n   </g>\n   <g id=\"text_15\">\n    <!-- ROC AUC curve -->\n    <defs>\n     <path d=\"M 39.40625 66.21875 \nQ 28.65625 66.21875 22.328125 58.203125 \nQ 16.015625 50.203125 16.015625 36.375 \nQ 16.015625 22.609375 22.328125 14.59375 \nQ 28.65625 6.59375 39.40625 6.59375 \nQ 50.140625 6.59375 56.421875 14.59375 \nQ 62.703125 22.609375 62.703125 36.375 \nQ 62.703125 50.203125 56.421875 58.203125 \nQ 50.140625 66.21875 39.40625 66.21875 \nz\nM 39.40625 74.21875 \nQ 54.734375 74.21875 63.90625 63.9375 \nQ 73.09375 53.65625 73.09375 36.375 \nQ 73.09375 19.140625 63.90625 8.859375 \nQ 54.734375 -1.421875 39.40625 -1.421875 \nQ 24.03125 -1.421875 14.8125 8.828125 \nQ 5.609375 19.09375 5.609375 36.375 \nQ 5.609375 53.65625 14.8125 63.9375 \nQ 24.03125 74.21875 39.40625 74.21875 \nz\n\" id=\"DejaVuSans-79\"/>\n     <path d=\"M 64.40625 67.28125 \nL 64.40625 56.890625 \nQ 59.421875 61.53125 53.78125 63.8125 \nQ 48.140625 66.109375 41.796875 66.109375 \nQ 29.296875 66.109375 22.65625 58.46875 \nQ 16.015625 50.828125 16.015625 36.375 \nQ 16.015625 21.96875 22.65625 14.328125 \nQ 29.296875 6.6875 41.796875 6.6875 \nQ 48.140625 6.6875 53.78125 8.984375 \nQ 59.421875 11.28125 64.40625 15.921875 \nL 64.40625 5.609375 \nQ 59.234375 2.09375 53.4375 0.328125 \nQ 47.65625 -1.421875 41.21875 -1.421875 \nQ 24.65625 -1.421875 15.125 8.703125 \nQ 5.609375 18.84375 5.609375 36.375 \nQ 5.609375 53.953125 15.125 64.078125 \nQ 24.65625 74.21875 41.21875 74.21875 \nQ 47.75 74.21875 53.53125 72.484375 \nQ 59.328125 70.75 64.40625 67.28125 \nz\n\" id=\"DejaVuSans-67\"/>\n     <path d=\"M 34.1875 63.1875 \nL 20.796875 26.90625 \nL 47.609375 26.90625 \nz\nM 28.609375 72.90625 \nL 39.796875 72.90625 \nL 67.578125 0 \nL 57.328125 0 \nL 50.6875 18.703125 \nL 17.828125 18.703125 \nL 11.1875 0 \nL 0.78125 0 \nz\n\" id=\"DejaVuSans-65\"/>\n     <path d=\"M 8.6875 72.90625 \nL 18.609375 72.90625 \nL 18.609375 28.609375 \nQ 18.609375 16.890625 22.84375 11.734375 \nQ 27.09375 6.59375 36.625 6.59375 \nQ 46.09375 6.59375 50.34375 11.734375 \nQ 54.59375 16.890625 54.59375 28.609375 \nL 54.59375 72.90625 \nL 64.5 72.90625 \nL 64.5 27.390625 \nQ 64.5 13.140625 57.4375 5.859375 \nQ 50.390625 -1.421875 36.625 -1.421875 \nQ 22.796875 -1.421875 15.734375 5.859375 \nQ 8.6875 13.140625 8.6875 27.390625 \nz\n\" id=\"DejaVuSans-85\"/>\n     <path d=\"M 48.78125 52.59375 \nL 48.78125 44.1875 \nQ 44.96875 46.296875 41.140625 47.34375 \nQ 37.3125 48.390625 33.40625 48.390625 \nQ 24.65625 48.390625 19.8125 42.84375 \nQ 14.984375 37.3125 14.984375 27.296875 \nQ 14.984375 17.28125 19.8125 11.734375 \nQ 24.65625 6.203125 33.40625 6.203125 \nQ 37.3125 6.203125 41.140625 7.25 \nQ 44.96875 8.296875 48.78125 10.40625 \nL 48.78125 2.09375 \nQ 45.015625 0.34375 40.984375 -0.53125 \nQ 36.96875 -1.421875 32.421875 -1.421875 \nQ 20.0625 -1.421875 12.78125 6.34375 \nQ 5.515625 14.109375 5.515625 27.296875 \nQ 5.515625 40.671875 12.859375 48.328125 \nQ 20.21875 56 33.015625 56 \nQ 37.15625 56 41.109375 55.140625 \nQ 45.0625 54.296875 48.78125 52.59375 \nz\n\" id=\"DejaVuSans-99\"/>\n    </defs>\n    <g transform=\"translate(245.460938 22.396875)scale(0.2 -0.2)\">\n     <use xlink:href=\"#DejaVuSans-82\"/>\n     <use x=\"69.482422\" xlink:href=\"#DejaVuSans-79\"/>\n     <use x=\"148.193359\" xlink:href=\"#DejaVuSans-67\"/>\n     <use x=\"218.017578\" xlink:href=\"#DejaVuSans-32\"/>\n     <use x=\"249.804688\" xlink:href=\"#DejaVuSans-65\"/>\n     <use x=\"318.212891\" xlink:href=\"#DejaVuSans-85\"/>\n     <use x=\"391.40625\" xlink:href=\"#DejaVuSans-67\"/>\n     <use x=\"461.230469\" xlink:href=\"#DejaVuSans-32\"/>\n     <use x=\"493.017578\" xlink:href=\"#DejaVuSans-99\"/>\n     <use x=\"547.998047\" xlink:href=\"#DejaVuSans-117\"/>\n     <use x=\"611.376953\" xlink:href=\"#DejaVuSans-114\"/>\n     <use x=\"652.490234\" xlink:href=\"#DejaVuSans-118\"/>\n     <use x=\"711.669922\" xlink:href=\"#DejaVuSans-101\"/>\n    </g>\n   </g>\n  </g>\n </g>\n <defs>\n  <clipPath id=\"p5380893fdb\">\n   <rect height=\"326.16\" width=\"558\" x=\"43.78125\" y=\"28.396875\"/>\n  </clipPath>\n </defs>\n</svg>\n"
          },
          "metadata": {
            "needs_background": "light"
          }
        },
        {
          "output_type": "display_data",
          "data": {
            "text/plain": [
              "<Figure size 720x432 with 1 Axes>"
            ],
            "image/svg+xml": "<?xml version=\"1.0\" encoding=\"utf-8\" standalone=\"no\"?>\n<!DOCTYPE svg PUBLIC \"-//W3C//DTD SVG 1.1//EN\"\n  \"http://www.w3.org/Graphics/SVG/1.1/DTD/svg11.dtd\">\n<!-- Created with matplotlib (https://matplotlib.org/) -->\n<svg height=\"392.113125pt\" version=\"1.1\" viewBox=\"0 0 608.98125 392.113125\" width=\"608.98125pt\" xmlns=\"http://www.w3.org/2000/svg\" xmlns:xlink=\"http://www.w3.org/1999/xlink\">\n <defs>\n  <style type=\"text/css\">\n*{stroke-linecap:butt;stroke-linejoin:round;}\n  </style>\n </defs>\n <g id=\"figure_1\">\n  <g id=\"patch_1\">\n   <path d=\"M 0 392.113125 \nL 608.98125 392.113125 \nL 608.98125 0 \nL 0 0 \nz\n\" style=\"fill:none;\"/>\n  </g>\n  <g id=\"axes_1\">\n   <g id=\"patch_2\">\n    <path d=\"M 43.78125 354.556875 \nL 601.78125 354.556875 \nL 601.78125 28.396875 \nL 43.78125 28.396875 \nz\n\" style=\"fill:#ffffff;\"/>\n   </g>\n   <g id=\"matplotlib.axis_1\">\n    <g id=\"xtick_1\">\n     <g id=\"line2d_1\">\n      <defs>\n       <path d=\"M 0 0 \nL 0 3.5 \n\" id=\"mcf0d09486d\" style=\"stroke:#000000;stroke-width:0.8;\"/>\n      </defs>\n      <g>\n       <use style=\"stroke:#000000;stroke-width:0.8;\" x=\"69.144886\" xlink:href=\"#mcf0d09486d\" y=\"354.556875\"/>\n      </g>\n     </g>\n     <g id=\"text_1\">\n      <!-- 0.0 -->\n      <defs>\n       <path d=\"M 31.78125 66.40625 \nQ 24.171875 66.40625 20.328125 58.90625 \nQ 16.5 51.421875 16.5 36.375 \nQ 16.5 21.390625 20.328125 13.890625 \nQ 24.171875 6.390625 31.78125 6.390625 \nQ 39.453125 6.390625 43.28125 13.890625 \nQ 47.125 21.390625 47.125 36.375 \nQ 47.125 51.421875 43.28125 58.90625 \nQ 39.453125 66.40625 31.78125 66.40625 \nz\nM 31.78125 74.21875 \nQ 44.046875 74.21875 50.515625 64.515625 \nQ 56.984375 54.828125 56.984375 36.375 \nQ 56.984375 17.96875 50.515625 8.265625 \nQ 44.046875 -1.421875 31.78125 -1.421875 \nQ 19.53125 -1.421875 13.0625 8.265625 \nQ 6.59375 17.96875 6.59375 36.375 \nQ 6.59375 54.828125 13.0625 64.515625 \nQ 19.53125 74.21875 31.78125 74.21875 \nz\n\" id=\"DejaVuSans-48\"/>\n       <path d=\"M 10.6875 12.40625 \nL 21 12.40625 \nL 21 0 \nL 10.6875 0 \nz\n\" id=\"DejaVuSans-46\"/>\n      </defs>\n      <g transform=\"translate(61.193324 369.155312)scale(0.1 -0.1)\">\n       <use xlink:href=\"#DejaVuSans-48\"/>\n       <use x=\"63.623047\" xlink:href=\"#DejaVuSans-46\"/>\n       <use x=\"95.410156\" xlink:href=\"#DejaVuSans-48\"/>\n      </g>\n     </g>\n    </g>\n    <g id=\"xtick_2\">\n     <g id=\"line2d_2\">\n      <g>\n       <use style=\"stroke:#000000;stroke-width:0.8;\" x=\"170.599432\" xlink:href=\"#mcf0d09486d\" y=\"354.556875\"/>\n      </g>\n     </g>\n     <g id=\"text_2\">\n      <!-- 0.2 -->\n      <defs>\n       <path d=\"M 19.1875 8.296875 \nL 53.609375 8.296875 \nL 53.609375 0 \nL 7.328125 0 \nL 7.328125 8.296875 \nQ 12.9375 14.109375 22.625 23.890625 \nQ 32.328125 33.6875 34.8125 36.53125 \nQ 39.546875 41.84375 41.421875 45.53125 \nQ 43.3125 49.21875 43.3125 52.78125 \nQ 43.3125 58.59375 39.234375 62.25 \nQ 35.15625 65.921875 28.609375 65.921875 \nQ 23.96875 65.921875 18.8125 64.3125 \nQ 13.671875 62.703125 7.8125 59.421875 \nL 7.8125 69.390625 \nQ 13.765625 71.78125 18.9375 73 \nQ 24.125 74.21875 28.421875 74.21875 \nQ 39.75 74.21875 46.484375 68.546875 \nQ 53.21875 62.890625 53.21875 53.421875 \nQ 53.21875 48.921875 51.53125 44.890625 \nQ 49.859375 40.875 45.40625 35.40625 \nQ 44.1875 33.984375 37.640625 27.21875 \nQ 31.109375 20.453125 19.1875 8.296875 \nz\n\" id=\"DejaVuSans-50\"/>\n      </defs>\n      <g transform=\"translate(162.647869 369.155312)scale(0.1 -0.1)\">\n       <use xlink:href=\"#DejaVuSans-48\"/>\n       <use x=\"63.623047\" xlink:href=\"#DejaVuSans-46\"/>\n       <use x=\"95.410156\" xlink:href=\"#DejaVuSans-50\"/>\n      </g>\n     </g>\n    </g>\n    <g id=\"xtick_3\">\n     <g id=\"line2d_3\">\n      <g>\n       <use style=\"stroke:#000000;stroke-width:0.8;\" x=\"272.053977\" xlink:href=\"#mcf0d09486d\" y=\"354.556875\"/>\n      </g>\n     </g>\n     <g id=\"text_3\">\n      <!-- 0.4 -->\n      <defs>\n       <path d=\"M 37.796875 64.3125 \nL 12.890625 25.390625 \nL 37.796875 25.390625 \nz\nM 35.203125 72.90625 \nL 47.609375 72.90625 \nL 47.609375 25.390625 \nL 58.015625 25.390625 \nL 58.015625 17.1875 \nL 47.609375 17.1875 \nL 47.609375 0 \nL 37.796875 0 \nL 37.796875 17.1875 \nL 4.890625 17.1875 \nL 4.890625 26.703125 \nz\n\" id=\"DejaVuSans-52\"/>\n      </defs>\n      <g transform=\"translate(264.102415 369.155312)scale(0.1 -0.1)\">\n       <use xlink:href=\"#DejaVuSans-48\"/>\n       <use x=\"63.623047\" xlink:href=\"#DejaVuSans-46\"/>\n       <use x=\"95.410156\" xlink:href=\"#DejaVuSans-52\"/>\n      </g>\n     </g>\n    </g>\n    <g id=\"xtick_4\">\n     <g id=\"line2d_4\">\n      <g>\n       <use style=\"stroke:#000000;stroke-width:0.8;\" x=\"373.508523\" xlink:href=\"#mcf0d09486d\" y=\"354.556875\"/>\n      </g>\n     </g>\n     <g id=\"text_4\">\n      <!-- 0.6 -->\n      <defs>\n       <path d=\"M 33.015625 40.375 \nQ 26.375 40.375 22.484375 35.828125 \nQ 18.609375 31.296875 18.609375 23.390625 \nQ 18.609375 15.53125 22.484375 10.953125 \nQ 26.375 6.390625 33.015625 6.390625 \nQ 39.65625 6.390625 43.53125 10.953125 \nQ 47.40625 15.53125 47.40625 23.390625 \nQ 47.40625 31.296875 43.53125 35.828125 \nQ 39.65625 40.375 33.015625 40.375 \nz\nM 52.59375 71.296875 \nL 52.59375 62.3125 \nQ 48.875 64.0625 45.09375 64.984375 \nQ 41.3125 65.921875 37.59375 65.921875 \nQ 27.828125 65.921875 22.671875 59.328125 \nQ 17.53125 52.734375 16.796875 39.40625 \nQ 19.671875 43.65625 24.015625 45.921875 \nQ 28.375 48.1875 33.59375 48.1875 \nQ 44.578125 48.1875 50.953125 41.515625 \nQ 57.328125 34.859375 57.328125 23.390625 \nQ 57.328125 12.15625 50.6875 5.359375 \nQ 44.046875 -1.421875 33.015625 -1.421875 \nQ 20.359375 -1.421875 13.671875 8.265625 \nQ 6.984375 17.96875 6.984375 36.375 \nQ 6.984375 53.65625 15.1875 63.9375 \nQ 23.390625 74.21875 37.203125 74.21875 \nQ 40.921875 74.21875 44.703125 73.484375 \nQ 48.484375 72.75 52.59375 71.296875 \nz\n\" id=\"DejaVuSans-54\"/>\n      </defs>\n      <g transform=\"translate(365.55696 369.155312)scale(0.1 -0.1)\">\n       <use xlink:href=\"#DejaVuSans-48\"/>\n       <use x=\"63.623047\" xlink:href=\"#DejaVuSans-46\"/>\n       <use x=\"95.410156\" xlink:href=\"#DejaVuSans-54\"/>\n      </g>\n     </g>\n    </g>\n    <g id=\"xtick_5\">\n     <g id=\"line2d_5\">\n      <g>\n       <use style=\"stroke:#000000;stroke-width:0.8;\" x=\"474.963068\" xlink:href=\"#mcf0d09486d\" y=\"354.556875\"/>\n      </g>\n     </g>\n     <g id=\"text_5\">\n      <!-- 0.8 -->\n      <defs>\n       <path d=\"M 31.78125 34.625 \nQ 24.75 34.625 20.71875 30.859375 \nQ 16.703125 27.09375 16.703125 20.515625 \nQ 16.703125 13.921875 20.71875 10.15625 \nQ 24.75 6.390625 31.78125 6.390625 \nQ 38.8125 6.390625 42.859375 10.171875 \nQ 46.921875 13.96875 46.921875 20.515625 \nQ 46.921875 27.09375 42.890625 30.859375 \nQ 38.875 34.625 31.78125 34.625 \nz\nM 21.921875 38.8125 \nQ 15.578125 40.375 12.03125 44.71875 \nQ 8.5 49.078125 8.5 55.328125 \nQ 8.5 64.0625 14.71875 69.140625 \nQ 20.953125 74.21875 31.78125 74.21875 \nQ 42.671875 74.21875 48.875 69.140625 \nQ 55.078125 64.0625 55.078125 55.328125 \nQ 55.078125 49.078125 51.53125 44.71875 \nQ 48 40.375 41.703125 38.8125 \nQ 48.828125 37.15625 52.796875 32.3125 \nQ 56.78125 27.484375 56.78125 20.515625 \nQ 56.78125 9.90625 50.3125 4.234375 \nQ 43.84375 -1.421875 31.78125 -1.421875 \nQ 19.734375 -1.421875 13.25 4.234375 \nQ 6.78125 9.90625 6.78125 20.515625 \nQ 6.78125 27.484375 10.78125 32.3125 \nQ 14.796875 37.15625 21.921875 38.8125 \nz\nM 18.3125 54.390625 \nQ 18.3125 48.734375 21.84375 45.5625 \nQ 25.390625 42.390625 31.78125 42.390625 \nQ 38.140625 42.390625 41.71875 45.5625 \nQ 45.3125 48.734375 45.3125 54.390625 \nQ 45.3125 60.0625 41.71875 63.234375 \nQ 38.140625 66.40625 31.78125 66.40625 \nQ 25.390625 66.40625 21.84375 63.234375 \nQ 18.3125 60.0625 18.3125 54.390625 \nz\n\" id=\"DejaVuSans-56\"/>\n      </defs>\n      <g transform=\"translate(467.011506 369.155312)scale(0.1 -0.1)\">\n       <use xlink:href=\"#DejaVuSans-48\"/>\n       <use x=\"63.623047\" xlink:href=\"#DejaVuSans-46\"/>\n       <use x=\"95.410156\" xlink:href=\"#DejaVuSans-56\"/>\n      </g>\n     </g>\n    </g>\n    <g id=\"xtick_6\">\n     <g id=\"line2d_6\">\n      <g>\n       <use style=\"stroke:#000000;stroke-width:0.8;\" x=\"576.417614\" xlink:href=\"#mcf0d09486d\" y=\"354.556875\"/>\n      </g>\n     </g>\n     <g id=\"text_6\">\n      <!-- 1.0 -->\n      <defs>\n       <path d=\"M 12.40625 8.296875 \nL 28.515625 8.296875 \nL 28.515625 63.921875 \nL 10.984375 60.40625 \nL 10.984375 69.390625 \nL 28.421875 72.90625 \nL 38.28125 72.90625 \nL 38.28125 8.296875 \nL 54.390625 8.296875 \nL 54.390625 0 \nL 12.40625 0 \nz\n\" id=\"DejaVuSans-49\"/>\n      </defs>\n      <g transform=\"translate(568.466051 369.155312)scale(0.1 -0.1)\">\n       <use xlink:href=\"#DejaVuSans-49\"/>\n       <use x=\"63.623047\" xlink:href=\"#DejaVuSans-46\"/>\n       <use x=\"95.410156\" xlink:href=\"#DejaVuSans-48\"/>\n      </g>\n     </g>\n    </g>\n    <g id=\"text_7\">\n     <!-- False Positive Rate -->\n     <defs>\n      <path d=\"M 9.8125 72.90625 \nL 51.703125 72.90625 \nL 51.703125 64.59375 \nL 19.671875 64.59375 \nL 19.671875 43.109375 \nL 48.578125 43.109375 \nL 48.578125 34.8125 \nL 19.671875 34.8125 \nL 19.671875 0 \nL 9.8125 0 \nz\n\" id=\"DejaVuSans-70\"/>\n      <path d=\"M 34.28125 27.484375 \nQ 23.390625 27.484375 19.1875 25 \nQ 14.984375 22.515625 14.984375 16.5 \nQ 14.984375 11.71875 18.140625 8.90625 \nQ 21.296875 6.109375 26.703125 6.109375 \nQ 34.1875 6.109375 38.703125 11.40625 \nQ 43.21875 16.703125 43.21875 25.484375 \nL 43.21875 27.484375 \nz\nM 52.203125 31.203125 \nL 52.203125 0 \nL 43.21875 0 \nL 43.21875 8.296875 \nQ 40.140625 3.328125 35.546875 0.953125 \nQ 30.953125 -1.421875 24.3125 -1.421875 \nQ 15.921875 -1.421875 10.953125 3.296875 \nQ 6 8.015625 6 15.921875 \nQ 6 25.140625 12.171875 29.828125 \nQ 18.359375 34.515625 30.609375 34.515625 \nL 43.21875 34.515625 \nL 43.21875 35.40625 \nQ 43.21875 41.609375 39.140625 45 \nQ 35.0625 48.390625 27.6875 48.390625 \nQ 23 48.390625 18.546875 47.265625 \nQ 14.109375 46.140625 10.015625 43.890625 \nL 10.015625 52.203125 \nQ 14.9375 54.109375 19.578125 55.046875 \nQ 24.21875 56 28.609375 56 \nQ 40.484375 56 46.34375 49.84375 \nQ 52.203125 43.703125 52.203125 31.203125 \nz\n\" id=\"DejaVuSans-97\"/>\n      <path d=\"M 9.421875 75.984375 \nL 18.40625 75.984375 \nL 18.40625 0 \nL 9.421875 0 \nz\n\" id=\"DejaVuSans-108\"/>\n      <path d=\"M 44.28125 53.078125 \nL 44.28125 44.578125 \nQ 40.484375 46.53125 36.375 47.5 \nQ 32.28125 48.484375 27.875 48.484375 \nQ 21.1875 48.484375 17.84375 46.4375 \nQ 14.5 44.390625 14.5 40.28125 \nQ 14.5 37.15625 16.890625 35.375 \nQ 19.28125 33.59375 26.515625 31.984375 \nL 29.59375 31.296875 \nQ 39.15625 29.25 43.1875 25.515625 \nQ 47.21875 21.78125 47.21875 15.09375 \nQ 47.21875 7.46875 41.1875 3.015625 \nQ 35.15625 -1.421875 24.609375 -1.421875 \nQ 20.21875 -1.421875 15.453125 -0.5625 \nQ 10.6875 0.296875 5.421875 2 \nL 5.421875 11.28125 \nQ 10.40625 8.6875 15.234375 7.390625 \nQ 20.0625 6.109375 24.8125 6.109375 \nQ 31.15625 6.109375 34.5625 8.28125 \nQ 37.984375 10.453125 37.984375 14.40625 \nQ 37.984375 18.0625 35.515625 20.015625 \nQ 33.0625 21.96875 24.703125 23.78125 \nL 21.578125 24.515625 \nQ 13.234375 26.265625 9.515625 29.90625 \nQ 5.8125 33.546875 5.8125 39.890625 \nQ 5.8125 47.609375 11.28125 51.796875 \nQ 16.75 56 26.8125 56 \nQ 31.78125 56 36.171875 55.265625 \nQ 40.578125 54.546875 44.28125 53.078125 \nz\n\" id=\"DejaVuSans-115\"/>\n      <path d=\"M 56.203125 29.59375 \nL 56.203125 25.203125 \nL 14.890625 25.203125 \nQ 15.484375 15.921875 20.484375 11.0625 \nQ 25.484375 6.203125 34.421875 6.203125 \nQ 39.59375 6.203125 44.453125 7.46875 \nQ 49.3125 8.734375 54.109375 11.28125 \nL 54.109375 2.78125 \nQ 49.265625 0.734375 44.1875 -0.34375 \nQ 39.109375 -1.421875 33.890625 -1.421875 \nQ 20.796875 -1.421875 13.15625 6.1875 \nQ 5.515625 13.8125 5.515625 26.8125 \nQ 5.515625 40.234375 12.765625 48.109375 \nQ 20.015625 56 32.328125 56 \nQ 43.359375 56 49.78125 48.890625 \nQ 56.203125 41.796875 56.203125 29.59375 \nz\nM 47.21875 32.234375 \nQ 47.125 39.59375 43.09375 43.984375 \nQ 39.0625 48.390625 32.421875 48.390625 \nQ 24.90625 48.390625 20.390625 44.140625 \nQ 15.875 39.890625 15.1875 32.171875 \nz\n\" id=\"DejaVuSans-101\"/>\n      <path id=\"DejaVuSans-32\"/>\n      <path d=\"M 19.671875 64.796875 \nL 19.671875 37.40625 \nL 32.078125 37.40625 \nQ 38.96875 37.40625 42.71875 40.96875 \nQ 46.484375 44.53125 46.484375 51.125 \nQ 46.484375 57.671875 42.71875 61.234375 \nQ 38.96875 64.796875 32.078125 64.796875 \nz\nM 9.8125 72.90625 \nL 32.078125 72.90625 \nQ 44.34375 72.90625 50.609375 67.359375 \nQ 56.890625 61.8125 56.890625 51.125 \nQ 56.890625 40.328125 50.609375 34.8125 \nQ 44.34375 29.296875 32.078125 29.296875 \nL 19.671875 29.296875 \nL 19.671875 0 \nL 9.8125 0 \nz\n\" id=\"DejaVuSans-80\"/>\n      <path d=\"M 30.609375 48.390625 \nQ 23.390625 48.390625 19.1875 42.75 \nQ 14.984375 37.109375 14.984375 27.296875 \nQ 14.984375 17.484375 19.15625 11.84375 \nQ 23.34375 6.203125 30.609375 6.203125 \nQ 37.796875 6.203125 41.984375 11.859375 \nQ 46.1875 17.53125 46.1875 27.296875 \nQ 46.1875 37.015625 41.984375 42.703125 \nQ 37.796875 48.390625 30.609375 48.390625 \nz\nM 30.609375 56 \nQ 42.328125 56 49.015625 48.375 \nQ 55.71875 40.765625 55.71875 27.296875 \nQ 55.71875 13.875 49.015625 6.21875 \nQ 42.328125 -1.421875 30.609375 -1.421875 \nQ 18.84375 -1.421875 12.171875 6.21875 \nQ 5.515625 13.875 5.515625 27.296875 \nQ 5.515625 40.765625 12.171875 48.375 \nQ 18.84375 56 30.609375 56 \nz\n\" id=\"DejaVuSans-111\"/>\n      <path d=\"M 9.421875 54.6875 \nL 18.40625 54.6875 \nL 18.40625 0 \nL 9.421875 0 \nz\nM 9.421875 75.984375 \nL 18.40625 75.984375 \nL 18.40625 64.59375 \nL 9.421875 64.59375 \nz\n\" id=\"DejaVuSans-105\"/>\n      <path d=\"M 18.3125 70.21875 \nL 18.3125 54.6875 \nL 36.8125 54.6875 \nL 36.8125 47.703125 \nL 18.3125 47.703125 \nL 18.3125 18.015625 \nQ 18.3125 11.328125 20.140625 9.421875 \nQ 21.96875 7.515625 27.59375 7.515625 \nL 36.8125 7.515625 \nL 36.8125 0 \nL 27.59375 0 \nQ 17.1875 0 13.234375 3.875 \nQ 9.28125 7.765625 9.28125 18.015625 \nL 9.28125 47.703125 \nL 2.6875 47.703125 \nL 2.6875 54.6875 \nL 9.28125 54.6875 \nL 9.28125 70.21875 \nz\n\" id=\"DejaVuSans-116\"/>\n      <path d=\"M 2.984375 54.6875 \nL 12.5 54.6875 \nL 29.59375 8.796875 \nL 46.6875 54.6875 \nL 56.203125 54.6875 \nL 35.6875 0 \nL 23.484375 0 \nz\n\" id=\"DejaVuSans-118\"/>\n      <path d=\"M 44.390625 34.1875 \nQ 47.5625 33.109375 50.5625 29.59375 \nQ 53.5625 26.078125 56.59375 19.921875 \nL 66.609375 0 \nL 56 0 \nL 46.6875 18.703125 \nQ 43.0625 26.03125 39.671875 28.421875 \nQ 36.28125 30.8125 30.421875 30.8125 \nL 19.671875 30.8125 \nL 19.671875 0 \nL 9.8125 0 \nL 9.8125 72.90625 \nL 32.078125 72.90625 \nQ 44.578125 72.90625 50.734375 67.671875 \nQ 56.890625 62.453125 56.890625 51.90625 \nQ 56.890625 45.015625 53.6875 40.46875 \nQ 50.484375 35.9375 44.390625 34.1875 \nz\nM 19.671875 64.796875 \nL 19.671875 38.921875 \nL 32.078125 38.921875 \nQ 39.203125 38.921875 42.84375 42.21875 \nQ 46.484375 45.515625 46.484375 51.90625 \nQ 46.484375 58.296875 42.84375 61.546875 \nQ 39.203125 64.796875 32.078125 64.796875 \nz\n\" id=\"DejaVuSans-82\"/>\n     </defs>\n     <g transform=\"translate(276.314844 382.833437)scale(0.1 -0.1)\">\n      <use xlink:href=\"#DejaVuSans-70\"/>\n      <use x=\"48.394531\" xlink:href=\"#DejaVuSans-97\"/>\n      <use x=\"109.673828\" xlink:href=\"#DejaVuSans-108\"/>\n      <use x=\"137.457031\" xlink:href=\"#DejaVuSans-115\"/>\n      <use x=\"189.556641\" xlink:href=\"#DejaVuSans-101\"/>\n      <use x=\"251.080078\" xlink:href=\"#DejaVuSans-32\"/>\n      <use x=\"282.867188\" xlink:href=\"#DejaVuSans-80\"/>\n      <use x=\"339.544922\" xlink:href=\"#DejaVuSans-111\"/>\n      <use x=\"400.726562\" xlink:href=\"#DejaVuSans-115\"/>\n      <use x=\"452.826172\" xlink:href=\"#DejaVuSans-105\"/>\n      <use x=\"480.609375\" xlink:href=\"#DejaVuSans-116\"/>\n      <use x=\"519.818359\" xlink:href=\"#DejaVuSans-105\"/>\n      <use x=\"547.601562\" xlink:href=\"#DejaVuSans-118\"/>\n      <use x=\"606.78125\" xlink:href=\"#DejaVuSans-101\"/>\n      <use x=\"668.304688\" xlink:href=\"#DejaVuSans-32\"/>\n      <use x=\"700.091797\" xlink:href=\"#DejaVuSans-82\"/>\n      <use x=\"767.324219\" xlink:href=\"#DejaVuSans-97\"/>\n      <use x=\"828.603516\" xlink:href=\"#DejaVuSans-116\"/>\n      <use x=\"867.8125\" xlink:href=\"#DejaVuSans-101\"/>\n     </g>\n    </g>\n   </g>\n   <g id=\"matplotlib.axis_2\">\n    <g id=\"ytick_1\">\n     <g id=\"line2d_7\">\n      <defs>\n       <path d=\"M 0 0 \nL -3.5 0 \n\" id=\"m71b8ba5c2a\" style=\"stroke:#000000;stroke-width:0.8;\"/>\n      </defs>\n      <g>\n       <use style=\"stroke:#000000;stroke-width:0.8;\" x=\"43.78125\" xlink:href=\"#m71b8ba5c2a\" y=\"339.73142\"/>\n      </g>\n     </g>\n     <g id=\"text_8\">\n      <!-- 0.0 -->\n      <g transform=\"translate(20.878125 343.530639)scale(0.1 -0.1)\">\n       <use xlink:href=\"#DejaVuSans-48\"/>\n       <use x=\"63.623047\" xlink:href=\"#DejaVuSans-46\"/>\n       <use x=\"95.410156\" xlink:href=\"#DejaVuSans-48\"/>\n      </g>\n     </g>\n    </g>\n    <g id=\"ytick_2\">\n     <g id=\"line2d_8\">\n      <g>\n       <use style=\"stroke:#000000;stroke-width:0.8;\" x=\"43.78125\" xlink:href=\"#m71b8ba5c2a\" y=\"280.429602\"/>\n      </g>\n     </g>\n     <g id=\"text_9\">\n      <!-- 0.2 -->\n      <g transform=\"translate(20.878125 284.228821)scale(0.1 -0.1)\">\n       <use xlink:href=\"#DejaVuSans-48\"/>\n       <use x=\"63.623047\" xlink:href=\"#DejaVuSans-46\"/>\n       <use x=\"95.410156\" xlink:href=\"#DejaVuSans-50\"/>\n      </g>\n     </g>\n    </g>\n    <g id=\"ytick_3\">\n     <g id=\"line2d_9\">\n      <g>\n       <use style=\"stroke:#000000;stroke-width:0.8;\" x=\"43.78125\" xlink:href=\"#m71b8ba5c2a\" y=\"221.127784\"/>\n      </g>\n     </g>\n     <g id=\"text_10\">\n      <!-- 0.4 -->\n      <g transform=\"translate(20.878125 224.927003)scale(0.1 -0.1)\">\n       <use xlink:href=\"#DejaVuSans-48\"/>\n       <use x=\"63.623047\" xlink:href=\"#DejaVuSans-46\"/>\n       <use x=\"95.410156\" xlink:href=\"#DejaVuSans-52\"/>\n      </g>\n     </g>\n    </g>\n    <g id=\"ytick_4\">\n     <g id=\"line2d_10\">\n      <g>\n       <use style=\"stroke:#000000;stroke-width:0.8;\" x=\"43.78125\" xlink:href=\"#m71b8ba5c2a\" y=\"161.825966\"/>\n      </g>\n     </g>\n     <g id=\"text_11\">\n      <!-- 0.6 -->\n      <g transform=\"translate(20.878125 165.625185)scale(0.1 -0.1)\">\n       <use xlink:href=\"#DejaVuSans-48\"/>\n       <use x=\"63.623047\" xlink:href=\"#DejaVuSans-46\"/>\n       <use x=\"95.410156\" xlink:href=\"#DejaVuSans-54\"/>\n      </g>\n     </g>\n    </g>\n    <g id=\"ytick_5\">\n     <g id=\"line2d_11\">\n      <g>\n       <use style=\"stroke:#000000;stroke-width:0.8;\" x=\"43.78125\" xlink:href=\"#m71b8ba5c2a\" y=\"102.524148\"/>\n      </g>\n     </g>\n     <g id=\"text_12\">\n      <!-- 0.8 -->\n      <g transform=\"translate(20.878125 106.323366)scale(0.1 -0.1)\">\n       <use xlink:href=\"#DejaVuSans-48\"/>\n       <use x=\"63.623047\" xlink:href=\"#DejaVuSans-46\"/>\n       <use x=\"95.410156\" xlink:href=\"#DejaVuSans-56\"/>\n      </g>\n     </g>\n    </g>\n    <g id=\"ytick_6\">\n     <g id=\"line2d_12\">\n      <g>\n       <use style=\"stroke:#000000;stroke-width:0.8;\" x=\"43.78125\" xlink:href=\"#m71b8ba5c2a\" y=\"43.22233\"/>\n      </g>\n     </g>\n     <g id=\"text_13\">\n      <!-- 1.0 -->\n      <g transform=\"translate(20.878125 47.021548)scale(0.1 -0.1)\">\n       <use xlink:href=\"#DejaVuSans-49\"/>\n       <use x=\"63.623047\" xlink:href=\"#DejaVuSans-46\"/>\n       <use x=\"95.410156\" xlink:href=\"#DejaVuSans-48\"/>\n      </g>\n     </g>\n    </g>\n    <g id=\"text_14\">\n     <!-- True Positive Rate -->\n     <defs>\n      <path d=\"M -0.296875 72.90625 \nL 61.375 72.90625 \nL 61.375 64.59375 \nL 35.5 64.59375 \nL 35.5 0 \nL 25.59375 0 \nL 25.59375 64.59375 \nL -0.296875 64.59375 \nz\n\" id=\"DejaVuSans-84\"/>\n      <path d=\"M 41.109375 46.296875 \nQ 39.59375 47.171875 37.8125 47.578125 \nQ 36.03125 48 33.890625 48 \nQ 26.265625 48 22.1875 43.046875 \nQ 18.109375 38.09375 18.109375 28.8125 \nL 18.109375 0 \nL 9.078125 0 \nL 9.078125 54.6875 \nL 18.109375 54.6875 \nL 18.109375 46.1875 \nQ 20.953125 51.171875 25.484375 53.578125 \nQ 30.03125 56 36.53125 56 \nQ 37.453125 56 38.578125 55.875 \nQ 39.703125 55.765625 41.0625 55.515625 \nz\n\" id=\"DejaVuSans-114\"/>\n      <path d=\"M 8.5 21.578125 \nL 8.5 54.6875 \nL 17.484375 54.6875 \nL 17.484375 21.921875 \nQ 17.484375 14.15625 20.5 10.265625 \nQ 23.53125 6.390625 29.59375 6.390625 \nQ 36.859375 6.390625 41.078125 11.03125 \nQ 45.3125 15.671875 45.3125 23.6875 \nL 45.3125 54.6875 \nL 54.296875 54.6875 \nL 54.296875 0 \nL 45.3125 0 \nL 45.3125 8.40625 \nQ 42.046875 3.421875 37.71875 1 \nQ 33.40625 -1.421875 27.6875 -1.421875 \nQ 18.265625 -1.421875 13.375 4.4375 \nQ 8.5 10.296875 8.5 21.578125 \nz\nM 31.109375 56 \nz\n\" id=\"DejaVuSans-117\"/>\n     </defs>\n     <g transform=\"translate(14.798438 236.006562)rotate(-90)scale(0.1 -0.1)\">\n      <use xlink:href=\"#DejaVuSans-84\"/>\n      <use x=\"46.333984\" xlink:href=\"#DejaVuSans-114\"/>\n      <use x=\"87.447266\" xlink:href=\"#DejaVuSans-117\"/>\n      <use x=\"150.826172\" xlink:href=\"#DejaVuSans-101\"/>\n      <use x=\"212.349609\" xlink:href=\"#DejaVuSans-32\"/>\n      <use x=\"244.136719\" xlink:href=\"#DejaVuSans-80\"/>\n      <use x=\"300.814453\" xlink:href=\"#DejaVuSans-111\"/>\n      <use x=\"361.996094\" xlink:href=\"#DejaVuSans-115\"/>\n      <use x=\"414.095703\" xlink:href=\"#DejaVuSans-105\"/>\n      <use x=\"441.878906\" xlink:href=\"#DejaVuSans-116\"/>\n      <use x=\"481.087891\" xlink:href=\"#DejaVuSans-105\"/>\n      <use x=\"508.871094\" xlink:href=\"#DejaVuSans-118\"/>\n      <use x=\"568.050781\" xlink:href=\"#DejaVuSans-101\"/>\n      <use x=\"629.574219\" xlink:href=\"#DejaVuSans-32\"/>\n      <use x=\"661.361328\" xlink:href=\"#DejaVuSans-82\"/>\n      <use x=\"728.59375\" xlink:href=\"#DejaVuSans-97\"/>\n      <use x=\"789.873047\" xlink:href=\"#DejaVuSans-116\"/>\n      <use x=\"829.082031\" xlink:href=\"#DejaVuSans-101\"/>\n     </g>\n    </g>\n   </g>\n   <g id=\"line2d_13\">\n    <path clip-path=\"url(#p1af4c52ef1)\" d=\"M 576.417614 43.22233 \nL 440.928537 43.459537 \nL 388.396095 44.408366 \nL 346.816363 46.306024 \nL 307.062083 49.982737 \nL 281.708588 54.252468 \nL 254.529642 61.8431 \nL 228.567663 70.382562 \nL 208.690523 79.040628 \nL 190.841662 90.54518 \nL 171.16735 103.710184 \nL 156.360909 116.519377 \nL 142.162952 131.819246 \nL 131.818726 148.423755 \nL 118.229253 170.484031 \nL 105.653919 195.983813 \nL 91.455962 227.17657 \nL 80.300424 259.199551 \nL 72.592962 298.101544 \nL 69.144886 339.73142 \n\" style=\"fill:none;stroke:#0b032d;stroke-linecap:square;stroke-width:1.5;\"/>\n   </g>\n   <g id=\"line2d_14\">\n    <path clip-path=\"url(#p1af4c52ef1)\" d=\"M 69.144886 339.73142 \nL 79.497391 333.680215 \nL 89.849896 327.629009 \nL 100.2024 321.577803 \nL 110.554905 315.526597 \nL 120.90741 309.475391 \nL 131.259914 303.424185 \nL 141.612419 297.372979 \nL 151.964923 291.321773 \nL 162.317428 285.270567 \nL 172.669933 279.219361 \nL 183.022437 273.168155 \nL 193.374942 267.116949 \nL 203.727447 261.065743 \nL 214.079951 255.014537 \nL 224.432456 248.963331 \nL 234.784961 242.912125 \nL 245.137465 236.86092 \nL 255.48997 230.809714 \nL 265.842474 224.758508 \nL 276.194979 218.707302 \nL 286.547484 212.656096 \nL 296.899988 206.60489 \nL 307.252493 200.553684 \nL 317.604998 194.502478 \nL 327.957502 188.451272 \nL 338.310007 182.400066 \nL 348.662512 176.34886 \nL 359.015016 170.297654 \nL 369.367521 164.246448 \nL 379.720026 158.195242 \nL 390.07253 152.144036 \nL 400.425035 146.09283 \nL 410.777539 140.041625 \nL 421.130044 133.990419 \nL 431.482549 127.939213 \nL 441.835053 121.888007 \nL 452.187558 115.836801 \nL 462.540063 109.785595 \nL 472.892567 103.734389 \nL 483.245072 97.683183 \nL 493.597577 91.631977 \nL 503.950081 85.580771 \nL 514.302586 79.529565 \nL 524.65509 73.478359 \nL 535.007595 67.427153 \nL 545.3601 61.375947 \nL 555.712604 55.324741 \nL 566.065109 49.273535 \nL 576.417614 43.22233 \n\" style=\"fill:none;stroke:#e36414;stroke-dasharray:5.55,2.4;stroke-dashoffset:0;stroke-width:1.5;\"/>\n   </g>\n   <g id=\"patch_3\">\n    <path d=\"M 43.78125 354.556875 \nL 43.78125 28.396875 \n\" style=\"fill:none;stroke:#000000;stroke-linecap:square;stroke-linejoin:miter;stroke-width:0.8;\"/>\n   </g>\n   <g id=\"patch_4\">\n    <path d=\"M 601.78125 354.556875 \nL 601.78125 28.396875 \n\" style=\"fill:none;stroke:#000000;stroke-linecap:square;stroke-linejoin:miter;stroke-width:0.8;\"/>\n   </g>\n   <g id=\"patch_5\">\n    <path d=\"M 43.78125 354.556875 \nL 601.78125 354.556875 \n\" style=\"fill:none;stroke:#000000;stroke-linecap:square;stroke-linejoin:miter;stroke-width:0.8;\"/>\n   </g>\n   <g id=\"patch_6\">\n    <path d=\"M 43.78125 28.396875 \nL 601.78125 28.396875 \n\" style=\"fill:none;stroke:#000000;stroke-linecap:square;stroke-linejoin:miter;stroke-width:0.8;\"/>\n   </g>\n   <g id=\"text_15\">\n    <!-- ROC AUC curve -->\n    <defs>\n     <path d=\"M 39.40625 66.21875 \nQ 28.65625 66.21875 22.328125 58.203125 \nQ 16.015625 50.203125 16.015625 36.375 \nQ 16.015625 22.609375 22.328125 14.59375 \nQ 28.65625 6.59375 39.40625 6.59375 \nQ 50.140625 6.59375 56.421875 14.59375 \nQ 62.703125 22.609375 62.703125 36.375 \nQ 62.703125 50.203125 56.421875 58.203125 \nQ 50.140625 66.21875 39.40625 66.21875 \nz\nM 39.40625 74.21875 \nQ 54.734375 74.21875 63.90625 63.9375 \nQ 73.09375 53.65625 73.09375 36.375 \nQ 73.09375 19.140625 63.90625 8.859375 \nQ 54.734375 -1.421875 39.40625 -1.421875 \nQ 24.03125 -1.421875 14.8125 8.828125 \nQ 5.609375 19.09375 5.609375 36.375 \nQ 5.609375 53.65625 14.8125 63.9375 \nQ 24.03125 74.21875 39.40625 74.21875 \nz\n\" id=\"DejaVuSans-79\"/>\n     <path d=\"M 64.40625 67.28125 \nL 64.40625 56.890625 \nQ 59.421875 61.53125 53.78125 63.8125 \nQ 48.140625 66.109375 41.796875 66.109375 \nQ 29.296875 66.109375 22.65625 58.46875 \nQ 16.015625 50.828125 16.015625 36.375 \nQ 16.015625 21.96875 22.65625 14.328125 \nQ 29.296875 6.6875 41.796875 6.6875 \nQ 48.140625 6.6875 53.78125 8.984375 \nQ 59.421875 11.28125 64.40625 15.921875 \nL 64.40625 5.609375 \nQ 59.234375 2.09375 53.4375 0.328125 \nQ 47.65625 -1.421875 41.21875 -1.421875 \nQ 24.65625 -1.421875 15.125 8.703125 \nQ 5.609375 18.84375 5.609375 36.375 \nQ 5.609375 53.953125 15.125 64.078125 \nQ 24.65625 74.21875 41.21875 74.21875 \nQ 47.75 74.21875 53.53125 72.484375 \nQ 59.328125 70.75 64.40625 67.28125 \nz\n\" id=\"DejaVuSans-67\"/>\n     <path d=\"M 34.1875 63.1875 \nL 20.796875 26.90625 \nL 47.609375 26.90625 \nz\nM 28.609375 72.90625 \nL 39.796875 72.90625 \nL 67.578125 0 \nL 57.328125 0 \nL 50.6875 18.703125 \nL 17.828125 18.703125 \nL 11.1875 0 \nL 0.78125 0 \nz\n\" id=\"DejaVuSans-65\"/>\n     <path d=\"M 8.6875 72.90625 \nL 18.609375 72.90625 \nL 18.609375 28.609375 \nQ 18.609375 16.890625 22.84375 11.734375 \nQ 27.09375 6.59375 36.625 6.59375 \nQ 46.09375 6.59375 50.34375 11.734375 \nQ 54.59375 16.890625 54.59375 28.609375 \nL 54.59375 72.90625 \nL 64.5 72.90625 \nL 64.5 27.390625 \nQ 64.5 13.140625 57.4375 5.859375 \nQ 50.390625 -1.421875 36.625 -1.421875 \nQ 22.796875 -1.421875 15.734375 5.859375 \nQ 8.6875 13.140625 8.6875 27.390625 \nz\n\" id=\"DejaVuSans-85\"/>\n     <path d=\"M 48.78125 52.59375 \nL 48.78125 44.1875 \nQ 44.96875 46.296875 41.140625 47.34375 \nQ 37.3125 48.390625 33.40625 48.390625 \nQ 24.65625 48.390625 19.8125 42.84375 \nQ 14.984375 37.3125 14.984375 27.296875 \nQ 14.984375 17.28125 19.8125 11.734375 \nQ 24.65625 6.203125 33.40625 6.203125 \nQ 37.3125 6.203125 41.140625 7.25 \nQ 44.96875 8.296875 48.78125 10.40625 \nL 48.78125 2.09375 \nQ 45.015625 0.34375 40.984375 -0.53125 \nQ 36.96875 -1.421875 32.421875 -1.421875 \nQ 20.0625 -1.421875 12.78125 6.34375 \nQ 5.515625 14.109375 5.515625 27.296875 \nQ 5.515625 40.671875 12.859375 48.328125 \nQ 20.21875 56 33.015625 56 \nQ 37.15625 56 41.109375 55.140625 \nQ 45.0625 54.296875 48.78125 52.59375 \nz\n\" id=\"DejaVuSans-99\"/>\n    </defs>\n    <g transform=\"translate(245.460938 22.396875)scale(0.2 -0.2)\">\n     <use xlink:href=\"#DejaVuSans-82\"/>\n     <use x=\"69.482422\" xlink:href=\"#DejaVuSans-79\"/>\n     <use x=\"148.193359\" xlink:href=\"#DejaVuSans-67\"/>\n     <use x=\"218.017578\" xlink:href=\"#DejaVuSans-32\"/>\n     <use x=\"249.804688\" xlink:href=\"#DejaVuSans-65\"/>\n     <use x=\"318.212891\" xlink:href=\"#DejaVuSans-85\"/>\n     <use x=\"391.40625\" xlink:href=\"#DejaVuSans-67\"/>\n     <use x=\"461.230469\" xlink:href=\"#DejaVuSans-32\"/>\n     <use x=\"493.017578\" xlink:href=\"#DejaVuSans-99\"/>\n     <use x=\"547.998047\" xlink:href=\"#DejaVuSans-117\"/>\n     <use x=\"611.376953\" xlink:href=\"#DejaVuSans-114\"/>\n     <use x=\"652.490234\" xlink:href=\"#DejaVuSans-118\"/>\n     <use x=\"711.669922\" xlink:href=\"#DejaVuSans-101\"/>\n    </g>\n   </g>\n  </g>\n </g>\n <defs>\n  <clipPath id=\"p1af4c52ef1\">\n   <rect height=\"326.16\" width=\"558\" x=\"43.78125\" y=\"28.396875\"/>\n  </clipPath>\n </defs>\n</svg>\n"
          },
          "metadata": {
            "needs_background": "light"
          }
        }
      ]
    },
    {
      "cell_type": "code",
      "metadata": {
        "colab": {
          "base_uri": "https://localhost:8080/"
        },
        "id": "z04OKjAp16O7",
        "outputId": "32dc6494-2a32-4fb0-cce0-fa252eba4f1a"
      },
      "source": [
        "y_pred = calc_pred_proba(df_test[cols], coef)\n",
        "y_pred = np.where(y_pred>0.78, 1, 0)\n",
        "y_pred"
      ],
      "id": "z04OKjAp16O7",
      "execution_count": null,
      "outputs": [
        {
          "output_type": "execute_result",
          "data": {
            "text/plain": [
              "array([0, 1, 0, ..., 1, 1, 0])"
            ]
          },
          "metadata": {},
          "execution_count": 39
        }
      ]
    },
    {
      "cell_type": "code",
      "metadata": {
        "id": "r2-gLn2iuNa-",
        "colab": {
          "base_uri": "https://localhost:8080/"
        },
        "outputId": "02b8093c-5dfb-454b-ef75-cddf893ee4df"
      },
      "source": [
        "project_pred = pd.DataFrame({'Id': df_test['Id'], 'choose': y_pred})\n",
        "project_pred.to_csv('Sokolova_predictionsLog.csv', index=False, encoding='utf-8', sep=',')\n",
        "project_pred.info()"
      ],
      "id": "r2-gLn2iuNa-",
      "execution_count": null,
      "outputs": [
        {
          "output_type": "stream",
          "name": "stdout",
          "text": [
            "<class 'pandas.core.frame.DataFrame'>\n",
            "RangeIndex: 10000 entries, 0 to 9999\n",
            "Data columns (total 2 columns):\n",
            " #   Column  Non-Null Count  Dtype\n",
            "---  ------  --------------  -----\n",
            " 0   Id      10000 non-null  int64\n",
            " 1   choose  10000 non-null  int64\n",
            "dtypes: int64(2)\n",
            "memory usage: 156.4 KB\n"
          ]
        }
      ]
    },
    {
      "cell_type": "markdown",
      "metadata": {
        "id": "tiJQnjkBR0uF"
      },
      "source": [
        "## KNN"
      ],
      "id": "tiJQnjkBR0uF"
    },
    {
      "cell_type": "code",
      "metadata": {
        "id": "fkSBNUZ6679B"
      },
      "source": [
        "# model 2\n",
        "\n",
        "def e_metrics(x1, x2):\n",
        "    distance = np.sum(np.square(x1 - x2))\n",
        "    return np.sqrt(distance)\n",
        "\n",
        "def knn(x_train, y_train, x_test, k, weights=False, q=0.5):\n",
        "\n",
        "    x_train = x_train.to_numpy()\n",
        "    y_train  =y_train.to_numpy()\n",
        "    x_test = x_test.to_numpy()\n",
        "\n",
        "    probabilities = []\n",
        "    answers = []\n",
        "    for x in x_test:\n",
        "        test_distances = []\n",
        "            \n",
        "        for i in range(len(x_train)):\n",
        "            \n",
        "            # расчет расстояния от классифицируемого объекта до\n",
        "            # объекта обучающей выборки\n",
        "            distance = e_metrics(x, x_train[i])\n",
        "            \n",
        "            # Записываем в список значение расстояния и ответ на объекте обучающей выборки\n",
        "            test_distances.append((distance, y_train[i]))\n",
        "        \n",
        "        # создаем словарь со всеми возможными классами\n",
        "        classes = {class_item: 0 for class_item in set(y_train)}\n",
        "        \n",
        "        # Сортируем список и среди первых k элементов \n",
        "        for d in sorted(test_distances)[0:k]:\n",
        "\n",
        "            if weights==True:\n",
        "              # расчитаем вес объекта  \n",
        "              weight = (q) ** d[0]\n",
        "              classes[d[1]] += weight\n",
        "            \n",
        "            else:\n",
        "              # подсчитаем частоту появления разных классов\n",
        "              classes[d[1]] += 1\n",
        "\n",
        "\n",
        "        # Записываем в список ответов наиболее часто встречающийся класс\n",
        "        answers.append(sorted(classes, key=classes.get)[-1])\n",
        "        probabilities.append(classes[1]/k)\n",
        "\n",
        "    return answers, classes, probabilities"
      ],
      "id": "fkSBNUZ6679B",
      "execution_count": null,
      "outputs": []
    },
    {
      "cell_type": "code",
      "metadata": {
        "id": "0LVGfvmzSdR1"
      },
      "source": [
        "y_pred_2, classes, proba_2 = knn(X_train, y_train, X_valid, 5, weights=True, q=0.5)"
      ],
      "id": "0LVGfvmzSdR1",
      "execution_count": null,
      "outputs": []
    },
    {
      "cell_type": "code",
      "metadata": {
        "colab": {
          "base_uri": "https://localhost:8080/",
          "height": 564
        },
        "id": "mC9e68QnVa-a",
        "outputId": "bfd15751-09ed-44e7-a9ea-a78c6654c3d8"
      },
      "source": [
        "knn_valid_roc = roc_auc(proba_2, y_valid)\n",
        "knn_valid_roc"
      ],
      "id": "mC9e68QnVa-a",
      "execution_count": null,
      "outputs": [
        {
          "output_type": "execute_result",
          "data": {
            "application/vnd.google.colaboratory.intrinsic+json": {
              "type": "string"
            },
            "text/plain": [
              "'ROC AUC score = 0.9398'"
            ]
          },
          "metadata": {},
          "execution_count": 43
        },
        {
          "output_type": "display_data",
          "data": {
            "text/plain": [
              "<Figure size 720x432 with 1 Axes>"
            ],
            "image/svg+xml": "<?xml version=\"1.0\" encoding=\"utf-8\" standalone=\"no\"?>\n<!DOCTYPE svg PUBLIC \"-//W3C//DTD SVG 1.1//EN\"\n  \"http://www.w3.org/Graphics/SVG/1.1/DTD/svg11.dtd\">\n<!-- Created with matplotlib (https://matplotlib.org/) -->\n<svg height=\"392.113125pt\" version=\"1.1\" viewBox=\"0 0 608.98125 392.113125\" width=\"608.98125pt\" xmlns=\"http://www.w3.org/2000/svg\" xmlns:xlink=\"http://www.w3.org/1999/xlink\">\n <defs>\n  <style type=\"text/css\">\n*{stroke-linecap:butt;stroke-linejoin:round;}\n  </style>\n </defs>\n <g id=\"figure_1\">\n  <g id=\"patch_1\">\n   <path d=\"M 0 392.113125 \nL 608.98125 392.113125 \nL 608.98125 0 \nL 0 0 \nz\n\" style=\"fill:none;\"/>\n  </g>\n  <g id=\"axes_1\">\n   <g id=\"patch_2\">\n    <path d=\"M 43.78125 354.556875 \nL 601.78125 354.556875 \nL 601.78125 28.396875 \nL 43.78125 28.396875 \nz\n\" style=\"fill:#ffffff;\"/>\n   </g>\n   <g id=\"matplotlib.axis_1\">\n    <g id=\"xtick_1\">\n     <g id=\"line2d_1\">\n      <defs>\n       <path d=\"M 0 0 \nL 0 3.5 \n\" id=\"m900281eeab\" style=\"stroke:#000000;stroke-width:0.8;\"/>\n      </defs>\n      <g>\n       <use style=\"stroke:#000000;stroke-width:0.8;\" x=\"69.144886\" xlink:href=\"#m900281eeab\" y=\"354.556875\"/>\n      </g>\n     </g>\n     <g id=\"text_1\">\n      <!-- 0.0 -->\n      <defs>\n       <path d=\"M 31.78125 66.40625 \nQ 24.171875 66.40625 20.328125 58.90625 \nQ 16.5 51.421875 16.5 36.375 \nQ 16.5 21.390625 20.328125 13.890625 \nQ 24.171875 6.390625 31.78125 6.390625 \nQ 39.453125 6.390625 43.28125 13.890625 \nQ 47.125 21.390625 47.125 36.375 \nQ 47.125 51.421875 43.28125 58.90625 \nQ 39.453125 66.40625 31.78125 66.40625 \nz\nM 31.78125 74.21875 \nQ 44.046875 74.21875 50.515625 64.515625 \nQ 56.984375 54.828125 56.984375 36.375 \nQ 56.984375 17.96875 50.515625 8.265625 \nQ 44.046875 -1.421875 31.78125 -1.421875 \nQ 19.53125 -1.421875 13.0625 8.265625 \nQ 6.59375 17.96875 6.59375 36.375 \nQ 6.59375 54.828125 13.0625 64.515625 \nQ 19.53125 74.21875 31.78125 74.21875 \nz\n\" id=\"DejaVuSans-48\"/>\n       <path d=\"M 10.6875 12.40625 \nL 21 12.40625 \nL 21 0 \nL 10.6875 0 \nz\n\" id=\"DejaVuSans-46\"/>\n      </defs>\n      <g transform=\"translate(61.193324 369.155312)scale(0.1 -0.1)\">\n       <use xlink:href=\"#DejaVuSans-48\"/>\n       <use x=\"63.623047\" xlink:href=\"#DejaVuSans-46\"/>\n       <use x=\"95.410156\" xlink:href=\"#DejaVuSans-48\"/>\n      </g>\n     </g>\n    </g>\n    <g id=\"xtick_2\">\n     <g id=\"line2d_2\">\n      <g>\n       <use style=\"stroke:#000000;stroke-width:0.8;\" x=\"170.599432\" xlink:href=\"#m900281eeab\" y=\"354.556875\"/>\n      </g>\n     </g>\n     <g id=\"text_2\">\n      <!-- 0.2 -->\n      <defs>\n       <path d=\"M 19.1875 8.296875 \nL 53.609375 8.296875 \nL 53.609375 0 \nL 7.328125 0 \nL 7.328125 8.296875 \nQ 12.9375 14.109375 22.625 23.890625 \nQ 32.328125 33.6875 34.8125 36.53125 \nQ 39.546875 41.84375 41.421875 45.53125 \nQ 43.3125 49.21875 43.3125 52.78125 \nQ 43.3125 58.59375 39.234375 62.25 \nQ 35.15625 65.921875 28.609375 65.921875 \nQ 23.96875 65.921875 18.8125 64.3125 \nQ 13.671875 62.703125 7.8125 59.421875 \nL 7.8125 69.390625 \nQ 13.765625 71.78125 18.9375 73 \nQ 24.125 74.21875 28.421875 74.21875 \nQ 39.75 74.21875 46.484375 68.546875 \nQ 53.21875 62.890625 53.21875 53.421875 \nQ 53.21875 48.921875 51.53125 44.890625 \nQ 49.859375 40.875 45.40625 35.40625 \nQ 44.1875 33.984375 37.640625 27.21875 \nQ 31.109375 20.453125 19.1875 8.296875 \nz\n\" id=\"DejaVuSans-50\"/>\n      </defs>\n      <g transform=\"translate(162.647869 369.155312)scale(0.1 -0.1)\">\n       <use xlink:href=\"#DejaVuSans-48\"/>\n       <use x=\"63.623047\" xlink:href=\"#DejaVuSans-46\"/>\n       <use x=\"95.410156\" xlink:href=\"#DejaVuSans-50\"/>\n      </g>\n     </g>\n    </g>\n    <g id=\"xtick_3\">\n     <g id=\"line2d_3\">\n      <g>\n       <use style=\"stroke:#000000;stroke-width:0.8;\" x=\"272.053977\" xlink:href=\"#m900281eeab\" y=\"354.556875\"/>\n      </g>\n     </g>\n     <g id=\"text_3\">\n      <!-- 0.4 -->\n      <defs>\n       <path d=\"M 37.796875 64.3125 \nL 12.890625 25.390625 \nL 37.796875 25.390625 \nz\nM 35.203125 72.90625 \nL 47.609375 72.90625 \nL 47.609375 25.390625 \nL 58.015625 25.390625 \nL 58.015625 17.1875 \nL 47.609375 17.1875 \nL 47.609375 0 \nL 37.796875 0 \nL 37.796875 17.1875 \nL 4.890625 17.1875 \nL 4.890625 26.703125 \nz\n\" id=\"DejaVuSans-52\"/>\n      </defs>\n      <g transform=\"translate(264.102415 369.155312)scale(0.1 -0.1)\">\n       <use xlink:href=\"#DejaVuSans-48\"/>\n       <use x=\"63.623047\" xlink:href=\"#DejaVuSans-46\"/>\n       <use x=\"95.410156\" xlink:href=\"#DejaVuSans-52\"/>\n      </g>\n     </g>\n    </g>\n    <g id=\"xtick_4\">\n     <g id=\"line2d_4\">\n      <g>\n       <use style=\"stroke:#000000;stroke-width:0.8;\" x=\"373.508523\" xlink:href=\"#m900281eeab\" y=\"354.556875\"/>\n      </g>\n     </g>\n     <g id=\"text_4\">\n      <!-- 0.6 -->\n      <defs>\n       <path d=\"M 33.015625 40.375 \nQ 26.375 40.375 22.484375 35.828125 \nQ 18.609375 31.296875 18.609375 23.390625 \nQ 18.609375 15.53125 22.484375 10.953125 \nQ 26.375 6.390625 33.015625 6.390625 \nQ 39.65625 6.390625 43.53125 10.953125 \nQ 47.40625 15.53125 47.40625 23.390625 \nQ 47.40625 31.296875 43.53125 35.828125 \nQ 39.65625 40.375 33.015625 40.375 \nz\nM 52.59375 71.296875 \nL 52.59375 62.3125 \nQ 48.875 64.0625 45.09375 64.984375 \nQ 41.3125 65.921875 37.59375 65.921875 \nQ 27.828125 65.921875 22.671875 59.328125 \nQ 17.53125 52.734375 16.796875 39.40625 \nQ 19.671875 43.65625 24.015625 45.921875 \nQ 28.375 48.1875 33.59375 48.1875 \nQ 44.578125 48.1875 50.953125 41.515625 \nQ 57.328125 34.859375 57.328125 23.390625 \nQ 57.328125 12.15625 50.6875 5.359375 \nQ 44.046875 -1.421875 33.015625 -1.421875 \nQ 20.359375 -1.421875 13.671875 8.265625 \nQ 6.984375 17.96875 6.984375 36.375 \nQ 6.984375 53.65625 15.1875 63.9375 \nQ 23.390625 74.21875 37.203125 74.21875 \nQ 40.921875 74.21875 44.703125 73.484375 \nQ 48.484375 72.75 52.59375 71.296875 \nz\n\" id=\"DejaVuSans-54\"/>\n      </defs>\n      <g transform=\"translate(365.55696 369.155312)scale(0.1 -0.1)\">\n       <use xlink:href=\"#DejaVuSans-48\"/>\n       <use x=\"63.623047\" xlink:href=\"#DejaVuSans-46\"/>\n       <use x=\"95.410156\" xlink:href=\"#DejaVuSans-54\"/>\n      </g>\n     </g>\n    </g>\n    <g id=\"xtick_5\">\n     <g id=\"line2d_5\">\n      <g>\n       <use style=\"stroke:#000000;stroke-width:0.8;\" x=\"474.963068\" xlink:href=\"#m900281eeab\" y=\"354.556875\"/>\n      </g>\n     </g>\n     <g id=\"text_5\">\n      <!-- 0.8 -->\n      <defs>\n       <path d=\"M 31.78125 34.625 \nQ 24.75 34.625 20.71875 30.859375 \nQ 16.703125 27.09375 16.703125 20.515625 \nQ 16.703125 13.921875 20.71875 10.15625 \nQ 24.75 6.390625 31.78125 6.390625 \nQ 38.8125 6.390625 42.859375 10.171875 \nQ 46.921875 13.96875 46.921875 20.515625 \nQ 46.921875 27.09375 42.890625 30.859375 \nQ 38.875 34.625 31.78125 34.625 \nz\nM 21.921875 38.8125 \nQ 15.578125 40.375 12.03125 44.71875 \nQ 8.5 49.078125 8.5 55.328125 \nQ 8.5 64.0625 14.71875 69.140625 \nQ 20.953125 74.21875 31.78125 74.21875 \nQ 42.671875 74.21875 48.875 69.140625 \nQ 55.078125 64.0625 55.078125 55.328125 \nQ 55.078125 49.078125 51.53125 44.71875 \nQ 48 40.375 41.703125 38.8125 \nQ 48.828125 37.15625 52.796875 32.3125 \nQ 56.78125 27.484375 56.78125 20.515625 \nQ 56.78125 9.90625 50.3125 4.234375 \nQ 43.84375 -1.421875 31.78125 -1.421875 \nQ 19.734375 -1.421875 13.25 4.234375 \nQ 6.78125 9.90625 6.78125 20.515625 \nQ 6.78125 27.484375 10.78125 32.3125 \nQ 14.796875 37.15625 21.921875 38.8125 \nz\nM 18.3125 54.390625 \nQ 18.3125 48.734375 21.84375 45.5625 \nQ 25.390625 42.390625 31.78125 42.390625 \nQ 38.140625 42.390625 41.71875 45.5625 \nQ 45.3125 48.734375 45.3125 54.390625 \nQ 45.3125 60.0625 41.71875 63.234375 \nQ 38.140625 66.40625 31.78125 66.40625 \nQ 25.390625 66.40625 21.84375 63.234375 \nQ 18.3125 60.0625 18.3125 54.390625 \nz\n\" id=\"DejaVuSans-56\"/>\n      </defs>\n      <g transform=\"translate(467.011506 369.155312)scale(0.1 -0.1)\">\n       <use xlink:href=\"#DejaVuSans-48\"/>\n       <use x=\"63.623047\" xlink:href=\"#DejaVuSans-46\"/>\n       <use x=\"95.410156\" xlink:href=\"#DejaVuSans-56\"/>\n      </g>\n     </g>\n    </g>\n    <g id=\"xtick_6\">\n     <g id=\"line2d_6\">\n      <g>\n       <use style=\"stroke:#000000;stroke-width:0.8;\" x=\"576.417614\" xlink:href=\"#m900281eeab\" y=\"354.556875\"/>\n      </g>\n     </g>\n     <g id=\"text_6\">\n      <!-- 1.0 -->\n      <defs>\n       <path d=\"M 12.40625 8.296875 \nL 28.515625 8.296875 \nL 28.515625 63.921875 \nL 10.984375 60.40625 \nL 10.984375 69.390625 \nL 28.421875 72.90625 \nL 38.28125 72.90625 \nL 38.28125 8.296875 \nL 54.390625 8.296875 \nL 54.390625 0 \nL 12.40625 0 \nz\n\" id=\"DejaVuSans-49\"/>\n      </defs>\n      <g transform=\"translate(568.466051 369.155312)scale(0.1 -0.1)\">\n       <use xlink:href=\"#DejaVuSans-49\"/>\n       <use x=\"63.623047\" xlink:href=\"#DejaVuSans-46\"/>\n       <use x=\"95.410156\" xlink:href=\"#DejaVuSans-48\"/>\n      </g>\n     </g>\n    </g>\n    <g id=\"text_7\">\n     <!-- False Positive Rate -->\n     <defs>\n      <path d=\"M 9.8125 72.90625 \nL 51.703125 72.90625 \nL 51.703125 64.59375 \nL 19.671875 64.59375 \nL 19.671875 43.109375 \nL 48.578125 43.109375 \nL 48.578125 34.8125 \nL 19.671875 34.8125 \nL 19.671875 0 \nL 9.8125 0 \nz\n\" id=\"DejaVuSans-70\"/>\n      <path d=\"M 34.28125 27.484375 \nQ 23.390625 27.484375 19.1875 25 \nQ 14.984375 22.515625 14.984375 16.5 \nQ 14.984375 11.71875 18.140625 8.90625 \nQ 21.296875 6.109375 26.703125 6.109375 \nQ 34.1875 6.109375 38.703125 11.40625 \nQ 43.21875 16.703125 43.21875 25.484375 \nL 43.21875 27.484375 \nz\nM 52.203125 31.203125 \nL 52.203125 0 \nL 43.21875 0 \nL 43.21875 8.296875 \nQ 40.140625 3.328125 35.546875 0.953125 \nQ 30.953125 -1.421875 24.3125 -1.421875 \nQ 15.921875 -1.421875 10.953125 3.296875 \nQ 6 8.015625 6 15.921875 \nQ 6 25.140625 12.171875 29.828125 \nQ 18.359375 34.515625 30.609375 34.515625 \nL 43.21875 34.515625 \nL 43.21875 35.40625 \nQ 43.21875 41.609375 39.140625 45 \nQ 35.0625 48.390625 27.6875 48.390625 \nQ 23 48.390625 18.546875 47.265625 \nQ 14.109375 46.140625 10.015625 43.890625 \nL 10.015625 52.203125 \nQ 14.9375 54.109375 19.578125 55.046875 \nQ 24.21875 56 28.609375 56 \nQ 40.484375 56 46.34375 49.84375 \nQ 52.203125 43.703125 52.203125 31.203125 \nz\n\" id=\"DejaVuSans-97\"/>\n      <path d=\"M 9.421875 75.984375 \nL 18.40625 75.984375 \nL 18.40625 0 \nL 9.421875 0 \nz\n\" id=\"DejaVuSans-108\"/>\n      <path d=\"M 44.28125 53.078125 \nL 44.28125 44.578125 \nQ 40.484375 46.53125 36.375 47.5 \nQ 32.28125 48.484375 27.875 48.484375 \nQ 21.1875 48.484375 17.84375 46.4375 \nQ 14.5 44.390625 14.5 40.28125 \nQ 14.5 37.15625 16.890625 35.375 \nQ 19.28125 33.59375 26.515625 31.984375 \nL 29.59375 31.296875 \nQ 39.15625 29.25 43.1875 25.515625 \nQ 47.21875 21.78125 47.21875 15.09375 \nQ 47.21875 7.46875 41.1875 3.015625 \nQ 35.15625 -1.421875 24.609375 -1.421875 \nQ 20.21875 -1.421875 15.453125 -0.5625 \nQ 10.6875 0.296875 5.421875 2 \nL 5.421875 11.28125 \nQ 10.40625 8.6875 15.234375 7.390625 \nQ 20.0625 6.109375 24.8125 6.109375 \nQ 31.15625 6.109375 34.5625 8.28125 \nQ 37.984375 10.453125 37.984375 14.40625 \nQ 37.984375 18.0625 35.515625 20.015625 \nQ 33.0625 21.96875 24.703125 23.78125 \nL 21.578125 24.515625 \nQ 13.234375 26.265625 9.515625 29.90625 \nQ 5.8125 33.546875 5.8125 39.890625 \nQ 5.8125 47.609375 11.28125 51.796875 \nQ 16.75 56 26.8125 56 \nQ 31.78125 56 36.171875 55.265625 \nQ 40.578125 54.546875 44.28125 53.078125 \nz\n\" id=\"DejaVuSans-115\"/>\n      <path d=\"M 56.203125 29.59375 \nL 56.203125 25.203125 \nL 14.890625 25.203125 \nQ 15.484375 15.921875 20.484375 11.0625 \nQ 25.484375 6.203125 34.421875 6.203125 \nQ 39.59375 6.203125 44.453125 7.46875 \nQ 49.3125 8.734375 54.109375 11.28125 \nL 54.109375 2.78125 \nQ 49.265625 0.734375 44.1875 -0.34375 \nQ 39.109375 -1.421875 33.890625 -1.421875 \nQ 20.796875 -1.421875 13.15625 6.1875 \nQ 5.515625 13.8125 5.515625 26.8125 \nQ 5.515625 40.234375 12.765625 48.109375 \nQ 20.015625 56 32.328125 56 \nQ 43.359375 56 49.78125 48.890625 \nQ 56.203125 41.796875 56.203125 29.59375 \nz\nM 47.21875 32.234375 \nQ 47.125 39.59375 43.09375 43.984375 \nQ 39.0625 48.390625 32.421875 48.390625 \nQ 24.90625 48.390625 20.390625 44.140625 \nQ 15.875 39.890625 15.1875 32.171875 \nz\n\" id=\"DejaVuSans-101\"/>\n      <path id=\"DejaVuSans-32\"/>\n      <path d=\"M 19.671875 64.796875 \nL 19.671875 37.40625 \nL 32.078125 37.40625 \nQ 38.96875 37.40625 42.71875 40.96875 \nQ 46.484375 44.53125 46.484375 51.125 \nQ 46.484375 57.671875 42.71875 61.234375 \nQ 38.96875 64.796875 32.078125 64.796875 \nz\nM 9.8125 72.90625 \nL 32.078125 72.90625 \nQ 44.34375 72.90625 50.609375 67.359375 \nQ 56.890625 61.8125 56.890625 51.125 \nQ 56.890625 40.328125 50.609375 34.8125 \nQ 44.34375 29.296875 32.078125 29.296875 \nL 19.671875 29.296875 \nL 19.671875 0 \nL 9.8125 0 \nz\n\" id=\"DejaVuSans-80\"/>\n      <path d=\"M 30.609375 48.390625 \nQ 23.390625 48.390625 19.1875 42.75 \nQ 14.984375 37.109375 14.984375 27.296875 \nQ 14.984375 17.484375 19.15625 11.84375 \nQ 23.34375 6.203125 30.609375 6.203125 \nQ 37.796875 6.203125 41.984375 11.859375 \nQ 46.1875 17.53125 46.1875 27.296875 \nQ 46.1875 37.015625 41.984375 42.703125 \nQ 37.796875 48.390625 30.609375 48.390625 \nz\nM 30.609375 56 \nQ 42.328125 56 49.015625 48.375 \nQ 55.71875 40.765625 55.71875 27.296875 \nQ 55.71875 13.875 49.015625 6.21875 \nQ 42.328125 -1.421875 30.609375 -1.421875 \nQ 18.84375 -1.421875 12.171875 6.21875 \nQ 5.515625 13.875 5.515625 27.296875 \nQ 5.515625 40.765625 12.171875 48.375 \nQ 18.84375 56 30.609375 56 \nz\n\" id=\"DejaVuSans-111\"/>\n      <path d=\"M 9.421875 54.6875 \nL 18.40625 54.6875 \nL 18.40625 0 \nL 9.421875 0 \nz\nM 9.421875 75.984375 \nL 18.40625 75.984375 \nL 18.40625 64.59375 \nL 9.421875 64.59375 \nz\n\" id=\"DejaVuSans-105\"/>\n      <path d=\"M 18.3125 70.21875 \nL 18.3125 54.6875 \nL 36.8125 54.6875 \nL 36.8125 47.703125 \nL 18.3125 47.703125 \nL 18.3125 18.015625 \nQ 18.3125 11.328125 20.140625 9.421875 \nQ 21.96875 7.515625 27.59375 7.515625 \nL 36.8125 7.515625 \nL 36.8125 0 \nL 27.59375 0 \nQ 17.1875 0 13.234375 3.875 \nQ 9.28125 7.765625 9.28125 18.015625 \nL 9.28125 47.703125 \nL 2.6875 47.703125 \nL 2.6875 54.6875 \nL 9.28125 54.6875 \nL 9.28125 70.21875 \nz\n\" id=\"DejaVuSans-116\"/>\n      <path d=\"M 2.984375 54.6875 \nL 12.5 54.6875 \nL 29.59375 8.796875 \nL 46.6875 54.6875 \nL 56.203125 54.6875 \nL 35.6875 0 \nL 23.484375 0 \nz\n\" id=\"DejaVuSans-118\"/>\n      <path d=\"M 44.390625 34.1875 \nQ 47.5625 33.109375 50.5625 29.59375 \nQ 53.5625 26.078125 56.59375 19.921875 \nL 66.609375 0 \nL 56 0 \nL 46.6875 18.703125 \nQ 43.0625 26.03125 39.671875 28.421875 \nQ 36.28125 30.8125 30.421875 30.8125 \nL 19.671875 30.8125 \nL 19.671875 0 \nL 9.8125 0 \nL 9.8125 72.90625 \nL 32.078125 72.90625 \nQ 44.578125 72.90625 50.734375 67.671875 \nQ 56.890625 62.453125 56.890625 51.90625 \nQ 56.890625 45.015625 53.6875 40.46875 \nQ 50.484375 35.9375 44.390625 34.1875 \nz\nM 19.671875 64.796875 \nL 19.671875 38.921875 \nL 32.078125 38.921875 \nQ 39.203125 38.921875 42.84375 42.21875 \nQ 46.484375 45.515625 46.484375 51.90625 \nQ 46.484375 58.296875 42.84375 61.546875 \nQ 39.203125 64.796875 32.078125 64.796875 \nz\n\" id=\"DejaVuSans-82\"/>\n     </defs>\n     <g transform=\"translate(276.314844 382.833437)scale(0.1 -0.1)\">\n      <use xlink:href=\"#DejaVuSans-70\"/>\n      <use x=\"48.394531\" xlink:href=\"#DejaVuSans-97\"/>\n      <use x=\"109.673828\" xlink:href=\"#DejaVuSans-108\"/>\n      <use x=\"137.457031\" xlink:href=\"#DejaVuSans-115\"/>\n      <use x=\"189.556641\" xlink:href=\"#DejaVuSans-101\"/>\n      <use x=\"251.080078\" xlink:href=\"#DejaVuSans-32\"/>\n      <use x=\"282.867188\" xlink:href=\"#DejaVuSans-80\"/>\n      <use x=\"339.544922\" xlink:href=\"#DejaVuSans-111\"/>\n      <use x=\"400.726562\" xlink:href=\"#DejaVuSans-115\"/>\n      <use x=\"452.826172\" xlink:href=\"#DejaVuSans-105\"/>\n      <use x=\"480.609375\" xlink:href=\"#DejaVuSans-116\"/>\n      <use x=\"519.818359\" xlink:href=\"#DejaVuSans-105\"/>\n      <use x=\"547.601562\" xlink:href=\"#DejaVuSans-118\"/>\n      <use x=\"606.78125\" xlink:href=\"#DejaVuSans-101\"/>\n      <use x=\"668.304688\" xlink:href=\"#DejaVuSans-32\"/>\n      <use x=\"700.091797\" xlink:href=\"#DejaVuSans-82\"/>\n      <use x=\"767.324219\" xlink:href=\"#DejaVuSans-97\"/>\n      <use x=\"828.603516\" xlink:href=\"#DejaVuSans-116\"/>\n      <use x=\"867.8125\" xlink:href=\"#DejaVuSans-101\"/>\n     </g>\n    </g>\n   </g>\n   <g id=\"matplotlib.axis_2\">\n    <g id=\"ytick_1\">\n     <g id=\"line2d_7\">\n      <defs>\n       <path d=\"M 0 0 \nL -3.5 0 \n\" id=\"m5a6b1b5711\" style=\"stroke:#000000;stroke-width:0.8;\"/>\n      </defs>\n      <g>\n       <use style=\"stroke:#000000;stroke-width:0.8;\" x=\"43.78125\" xlink:href=\"#m5a6b1b5711\" y=\"339.73142\"/>\n      </g>\n     </g>\n     <g id=\"text_8\">\n      <!-- 0.0 -->\n      <g transform=\"translate(20.878125 343.530639)scale(0.1 -0.1)\">\n       <use xlink:href=\"#DejaVuSans-48\"/>\n       <use x=\"63.623047\" xlink:href=\"#DejaVuSans-46\"/>\n       <use x=\"95.410156\" xlink:href=\"#DejaVuSans-48\"/>\n      </g>\n     </g>\n    </g>\n    <g id=\"ytick_2\">\n     <g id=\"line2d_8\">\n      <g>\n       <use style=\"stroke:#000000;stroke-width:0.8;\" x=\"43.78125\" xlink:href=\"#m5a6b1b5711\" y=\"280.429602\"/>\n      </g>\n     </g>\n     <g id=\"text_9\">\n      <!-- 0.2 -->\n      <g transform=\"translate(20.878125 284.228821)scale(0.1 -0.1)\">\n       <use xlink:href=\"#DejaVuSans-48\"/>\n       <use x=\"63.623047\" xlink:href=\"#DejaVuSans-46\"/>\n       <use x=\"95.410156\" xlink:href=\"#DejaVuSans-50\"/>\n      </g>\n     </g>\n    </g>\n    <g id=\"ytick_3\">\n     <g id=\"line2d_9\">\n      <g>\n       <use style=\"stroke:#000000;stroke-width:0.8;\" x=\"43.78125\" xlink:href=\"#m5a6b1b5711\" y=\"221.127784\"/>\n      </g>\n     </g>\n     <g id=\"text_10\">\n      <!-- 0.4 -->\n      <g transform=\"translate(20.878125 224.927003)scale(0.1 -0.1)\">\n       <use xlink:href=\"#DejaVuSans-48\"/>\n       <use x=\"63.623047\" xlink:href=\"#DejaVuSans-46\"/>\n       <use x=\"95.410156\" xlink:href=\"#DejaVuSans-52\"/>\n      </g>\n     </g>\n    </g>\n    <g id=\"ytick_4\">\n     <g id=\"line2d_10\">\n      <g>\n       <use style=\"stroke:#000000;stroke-width:0.8;\" x=\"43.78125\" xlink:href=\"#m5a6b1b5711\" y=\"161.825966\"/>\n      </g>\n     </g>\n     <g id=\"text_11\">\n      <!-- 0.6 -->\n      <g transform=\"translate(20.878125 165.625185)scale(0.1 -0.1)\">\n       <use xlink:href=\"#DejaVuSans-48\"/>\n       <use x=\"63.623047\" xlink:href=\"#DejaVuSans-46\"/>\n       <use x=\"95.410156\" xlink:href=\"#DejaVuSans-54\"/>\n      </g>\n     </g>\n    </g>\n    <g id=\"ytick_5\">\n     <g id=\"line2d_11\">\n      <g>\n       <use style=\"stroke:#000000;stroke-width:0.8;\" x=\"43.78125\" xlink:href=\"#m5a6b1b5711\" y=\"102.524148\"/>\n      </g>\n     </g>\n     <g id=\"text_12\">\n      <!-- 0.8 -->\n      <g transform=\"translate(20.878125 106.323366)scale(0.1 -0.1)\">\n       <use xlink:href=\"#DejaVuSans-48\"/>\n       <use x=\"63.623047\" xlink:href=\"#DejaVuSans-46\"/>\n       <use x=\"95.410156\" xlink:href=\"#DejaVuSans-56\"/>\n      </g>\n     </g>\n    </g>\n    <g id=\"ytick_6\">\n     <g id=\"line2d_12\">\n      <g>\n       <use style=\"stroke:#000000;stroke-width:0.8;\" x=\"43.78125\" xlink:href=\"#m5a6b1b5711\" y=\"43.22233\"/>\n      </g>\n     </g>\n     <g id=\"text_13\">\n      <!-- 1.0 -->\n      <g transform=\"translate(20.878125 47.021548)scale(0.1 -0.1)\">\n       <use xlink:href=\"#DejaVuSans-49\"/>\n       <use x=\"63.623047\" xlink:href=\"#DejaVuSans-46\"/>\n       <use x=\"95.410156\" xlink:href=\"#DejaVuSans-48\"/>\n      </g>\n     </g>\n    </g>\n    <g id=\"text_14\">\n     <!-- True Positive Rate -->\n     <defs>\n      <path d=\"M -0.296875 72.90625 \nL 61.375 72.90625 \nL 61.375 64.59375 \nL 35.5 64.59375 \nL 35.5 0 \nL 25.59375 0 \nL 25.59375 64.59375 \nL -0.296875 64.59375 \nz\n\" id=\"DejaVuSans-84\"/>\n      <path d=\"M 41.109375 46.296875 \nQ 39.59375 47.171875 37.8125 47.578125 \nQ 36.03125 48 33.890625 48 \nQ 26.265625 48 22.1875 43.046875 \nQ 18.109375 38.09375 18.109375 28.8125 \nL 18.109375 0 \nL 9.078125 0 \nL 9.078125 54.6875 \nL 18.109375 54.6875 \nL 18.109375 46.1875 \nQ 20.953125 51.171875 25.484375 53.578125 \nQ 30.03125 56 36.53125 56 \nQ 37.453125 56 38.578125 55.875 \nQ 39.703125 55.765625 41.0625 55.515625 \nz\n\" id=\"DejaVuSans-114\"/>\n      <path d=\"M 8.5 21.578125 \nL 8.5 54.6875 \nL 17.484375 54.6875 \nL 17.484375 21.921875 \nQ 17.484375 14.15625 20.5 10.265625 \nQ 23.53125 6.390625 29.59375 6.390625 \nQ 36.859375 6.390625 41.078125 11.03125 \nQ 45.3125 15.671875 45.3125 23.6875 \nL 45.3125 54.6875 \nL 54.296875 54.6875 \nL 54.296875 0 \nL 45.3125 0 \nL 45.3125 8.40625 \nQ 42.046875 3.421875 37.71875 1 \nQ 33.40625 -1.421875 27.6875 -1.421875 \nQ 18.265625 -1.421875 13.375 4.4375 \nQ 8.5 10.296875 8.5 21.578125 \nz\nM 31.109375 56 \nz\n\" id=\"DejaVuSans-117\"/>\n     </defs>\n     <g transform=\"translate(14.798438 236.006562)rotate(-90)scale(0.1 -0.1)\">\n      <use xlink:href=\"#DejaVuSans-84\"/>\n      <use x=\"46.333984\" xlink:href=\"#DejaVuSans-114\"/>\n      <use x=\"87.447266\" xlink:href=\"#DejaVuSans-117\"/>\n      <use x=\"150.826172\" xlink:href=\"#DejaVuSans-101\"/>\n      <use x=\"212.349609\" xlink:href=\"#DejaVuSans-32\"/>\n      <use x=\"244.136719\" xlink:href=\"#DejaVuSans-80\"/>\n      <use x=\"300.814453\" xlink:href=\"#DejaVuSans-111\"/>\n      <use x=\"361.996094\" xlink:href=\"#DejaVuSans-115\"/>\n      <use x=\"414.095703\" xlink:href=\"#DejaVuSans-105\"/>\n      <use x=\"441.878906\" xlink:href=\"#DejaVuSans-116\"/>\n      <use x=\"481.087891\" xlink:href=\"#DejaVuSans-105\"/>\n      <use x=\"508.871094\" xlink:href=\"#DejaVuSans-118\"/>\n      <use x=\"568.050781\" xlink:href=\"#DejaVuSans-101\"/>\n      <use x=\"629.574219\" xlink:href=\"#DejaVuSans-32\"/>\n      <use x=\"661.361328\" xlink:href=\"#DejaVuSans-82\"/>\n      <use x=\"728.59375\" xlink:href=\"#DejaVuSans-97\"/>\n      <use x=\"789.873047\" xlink:href=\"#DejaVuSans-116\"/>\n      <use x=\"829.082031\" xlink:href=\"#DejaVuSans-101\"/>\n     </g>\n    </g>\n   </g>\n   <g id=\"line2d_13\">\n    <path clip-path=\"url(#pe35f17b721)\" d=\"M 576.417614 43.22233 \nL 267.307803 45.950213 \nL 254.529642 46.18742 \nL 219.034749 49.508322 \nL 189.624694 57.57337 \nL 167.922103 60.301253 \nL 149.464758 68.3663 \nL 129.993274 81.175493 \nL 114.984005 92.205631 \nL 108.290683 109.521762 \nL 96.121005 140.002897 \nL 85.168295 178.311871 \nL 80.70608 217.688279 \nL 77.258005 262.639057 \nL 73.404274 293.238795 \nL 72.998618 313.757224 \nL 71.375994 326.922228 \nL 70.361854 335.698897 \nL 69.550542 339.37561 \nL 69.144886 339.73142 \n\" style=\"fill:none;stroke:#0b032d;stroke-linecap:square;stroke-width:1.5;\"/>\n   </g>\n   <g id=\"line2d_14\">\n    <path clip-path=\"url(#pe35f17b721)\" d=\"M 69.144886 339.73142 \nL 79.497391 333.680215 \nL 89.849896 327.629009 \nL 100.2024 321.577803 \nL 110.554905 315.526597 \nL 120.90741 309.475391 \nL 131.259914 303.424185 \nL 141.612419 297.372979 \nL 151.964923 291.321773 \nL 162.317428 285.270567 \nL 172.669933 279.219361 \nL 183.022437 273.168155 \nL 193.374942 267.116949 \nL 203.727447 261.065743 \nL 214.079951 255.014537 \nL 224.432456 248.963331 \nL 234.784961 242.912125 \nL 245.137465 236.86092 \nL 255.48997 230.809714 \nL 265.842474 224.758508 \nL 276.194979 218.707302 \nL 286.547484 212.656096 \nL 296.899988 206.60489 \nL 307.252493 200.553684 \nL 317.604998 194.502478 \nL 327.957502 188.451272 \nL 338.310007 182.400066 \nL 348.662512 176.34886 \nL 359.015016 170.297654 \nL 369.367521 164.246448 \nL 379.720026 158.195242 \nL 390.07253 152.144036 \nL 400.425035 146.09283 \nL 410.777539 140.041625 \nL 421.130044 133.990419 \nL 431.482549 127.939213 \nL 441.835053 121.888007 \nL 452.187558 115.836801 \nL 462.540063 109.785595 \nL 472.892567 103.734389 \nL 483.245072 97.683183 \nL 493.597577 91.631977 \nL 503.950081 85.580771 \nL 514.302586 79.529565 \nL 524.65509 73.478359 \nL 535.007595 67.427153 \nL 545.3601 61.375947 \nL 555.712604 55.324741 \nL 566.065109 49.273535 \nL 576.417614 43.22233 \n\" style=\"fill:none;stroke:#e36414;stroke-dasharray:5.55,2.4;stroke-dashoffset:0;stroke-width:1.5;\"/>\n   </g>\n   <g id=\"patch_3\">\n    <path d=\"M 43.78125 354.556875 \nL 43.78125 28.396875 \n\" style=\"fill:none;stroke:#000000;stroke-linecap:square;stroke-linejoin:miter;stroke-width:0.8;\"/>\n   </g>\n   <g id=\"patch_4\">\n    <path d=\"M 601.78125 354.556875 \nL 601.78125 28.396875 \n\" style=\"fill:none;stroke:#000000;stroke-linecap:square;stroke-linejoin:miter;stroke-width:0.8;\"/>\n   </g>\n   <g id=\"patch_5\">\n    <path d=\"M 43.78125 354.556875 \nL 601.78125 354.556875 \n\" style=\"fill:none;stroke:#000000;stroke-linecap:square;stroke-linejoin:miter;stroke-width:0.8;\"/>\n   </g>\n   <g id=\"patch_6\">\n    <path d=\"M 43.78125 28.396875 \nL 601.78125 28.396875 \n\" style=\"fill:none;stroke:#000000;stroke-linecap:square;stroke-linejoin:miter;stroke-width:0.8;\"/>\n   </g>\n   <g id=\"text_15\">\n    <!-- ROC AUC curve -->\n    <defs>\n     <path d=\"M 39.40625 66.21875 \nQ 28.65625 66.21875 22.328125 58.203125 \nQ 16.015625 50.203125 16.015625 36.375 \nQ 16.015625 22.609375 22.328125 14.59375 \nQ 28.65625 6.59375 39.40625 6.59375 \nQ 50.140625 6.59375 56.421875 14.59375 \nQ 62.703125 22.609375 62.703125 36.375 \nQ 62.703125 50.203125 56.421875 58.203125 \nQ 50.140625 66.21875 39.40625 66.21875 \nz\nM 39.40625 74.21875 \nQ 54.734375 74.21875 63.90625 63.9375 \nQ 73.09375 53.65625 73.09375 36.375 \nQ 73.09375 19.140625 63.90625 8.859375 \nQ 54.734375 -1.421875 39.40625 -1.421875 \nQ 24.03125 -1.421875 14.8125 8.828125 \nQ 5.609375 19.09375 5.609375 36.375 \nQ 5.609375 53.65625 14.8125 63.9375 \nQ 24.03125 74.21875 39.40625 74.21875 \nz\n\" id=\"DejaVuSans-79\"/>\n     <path d=\"M 64.40625 67.28125 \nL 64.40625 56.890625 \nQ 59.421875 61.53125 53.78125 63.8125 \nQ 48.140625 66.109375 41.796875 66.109375 \nQ 29.296875 66.109375 22.65625 58.46875 \nQ 16.015625 50.828125 16.015625 36.375 \nQ 16.015625 21.96875 22.65625 14.328125 \nQ 29.296875 6.6875 41.796875 6.6875 \nQ 48.140625 6.6875 53.78125 8.984375 \nQ 59.421875 11.28125 64.40625 15.921875 \nL 64.40625 5.609375 \nQ 59.234375 2.09375 53.4375 0.328125 \nQ 47.65625 -1.421875 41.21875 -1.421875 \nQ 24.65625 -1.421875 15.125 8.703125 \nQ 5.609375 18.84375 5.609375 36.375 \nQ 5.609375 53.953125 15.125 64.078125 \nQ 24.65625 74.21875 41.21875 74.21875 \nQ 47.75 74.21875 53.53125 72.484375 \nQ 59.328125 70.75 64.40625 67.28125 \nz\n\" id=\"DejaVuSans-67\"/>\n     <path d=\"M 34.1875 63.1875 \nL 20.796875 26.90625 \nL 47.609375 26.90625 \nz\nM 28.609375 72.90625 \nL 39.796875 72.90625 \nL 67.578125 0 \nL 57.328125 0 \nL 50.6875 18.703125 \nL 17.828125 18.703125 \nL 11.1875 0 \nL 0.78125 0 \nz\n\" id=\"DejaVuSans-65\"/>\n     <path d=\"M 8.6875 72.90625 \nL 18.609375 72.90625 \nL 18.609375 28.609375 \nQ 18.609375 16.890625 22.84375 11.734375 \nQ 27.09375 6.59375 36.625 6.59375 \nQ 46.09375 6.59375 50.34375 11.734375 \nQ 54.59375 16.890625 54.59375 28.609375 \nL 54.59375 72.90625 \nL 64.5 72.90625 \nL 64.5 27.390625 \nQ 64.5 13.140625 57.4375 5.859375 \nQ 50.390625 -1.421875 36.625 -1.421875 \nQ 22.796875 -1.421875 15.734375 5.859375 \nQ 8.6875 13.140625 8.6875 27.390625 \nz\n\" id=\"DejaVuSans-85\"/>\n     <path d=\"M 48.78125 52.59375 \nL 48.78125 44.1875 \nQ 44.96875 46.296875 41.140625 47.34375 \nQ 37.3125 48.390625 33.40625 48.390625 \nQ 24.65625 48.390625 19.8125 42.84375 \nQ 14.984375 37.3125 14.984375 27.296875 \nQ 14.984375 17.28125 19.8125 11.734375 \nQ 24.65625 6.203125 33.40625 6.203125 \nQ 37.3125 6.203125 41.140625 7.25 \nQ 44.96875 8.296875 48.78125 10.40625 \nL 48.78125 2.09375 \nQ 45.015625 0.34375 40.984375 -0.53125 \nQ 36.96875 -1.421875 32.421875 -1.421875 \nQ 20.0625 -1.421875 12.78125 6.34375 \nQ 5.515625 14.109375 5.515625 27.296875 \nQ 5.515625 40.671875 12.859375 48.328125 \nQ 20.21875 56 33.015625 56 \nQ 37.15625 56 41.109375 55.140625 \nQ 45.0625 54.296875 48.78125 52.59375 \nz\n\" id=\"DejaVuSans-99\"/>\n    </defs>\n    <g transform=\"translate(245.460938 22.396875)scale(0.2 -0.2)\">\n     <use xlink:href=\"#DejaVuSans-82\"/>\n     <use x=\"69.482422\" xlink:href=\"#DejaVuSans-79\"/>\n     <use x=\"148.193359\" xlink:href=\"#DejaVuSans-67\"/>\n     <use x=\"218.017578\" xlink:href=\"#DejaVuSans-32\"/>\n     <use x=\"249.804688\" xlink:href=\"#DejaVuSans-65\"/>\n     <use x=\"318.212891\" xlink:href=\"#DejaVuSans-85\"/>\n     <use x=\"391.40625\" xlink:href=\"#DejaVuSans-67\"/>\n     <use x=\"461.230469\" xlink:href=\"#DejaVuSans-32\"/>\n     <use x=\"493.017578\" xlink:href=\"#DejaVuSans-99\"/>\n     <use x=\"547.998047\" xlink:href=\"#DejaVuSans-117\"/>\n     <use x=\"611.376953\" xlink:href=\"#DejaVuSans-114\"/>\n     <use x=\"652.490234\" xlink:href=\"#DejaVuSans-118\"/>\n     <use x=\"711.669922\" xlink:href=\"#DejaVuSans-101\"/>\n    </g>\n   </g>\n  </g>\n </g>\n <defs>\n  <clipPath id=\"pe35f17b721\">\n   <rect height=\"326.16\" width=\"558\" x=\"43.78125\" y=\"28.396875\"/>\n  </clipPath>\n </defs>\n</svg>\n"
          },
          "metadata": {
            "needs_background": "light"
          }
        }
      ]
    },
    {
      "cell_type": "code",
      "metadata": {
        "id": "pU2s7BVQX5oH"
      },
      "source": [
        "y_pred_f, classes, proba_2 = knn(df_train.drop(columns=['Id', 'choose']), df_train['choose'],\n",
        "                                 df_test.drop(columns=['Id']), 5, weights=True, q=0.5)"
      ],
      "id": "pU2s7BVQX5oH",
      "execution_count": 45,
      "outputs": []
    },
    {
      "cell_type": "code",
      "metadata": {
        "colab": {
          "base_uri": "https://localhost:8080/"
        },
        "id": "1wlkwmYBBoLF",
        "outputId": "ef53c0b1-c973-42e8-bcc8-7c5078f39db8"
      },
      "source": [
        "project_pred_2 = pd.DataFrame({'Id': df_test['Id'], 'choose': y_pred_f})\n",
        "project_pred_2.to_csv('Sokolova_predictions_KNN.csv', index=False, encoding='utf-8', sep=',')\n",
        "project_pred_2.info()"
      ],
      "id": "1wlkwmYBBoLF",
      "execution_count": 46,
      "outputs": [
        {
          "output_type": "stream",
          "name": "stdout",
          "text": [
            "<class 'pandas.core.frame.DataFrame'>\n",
            "RangeIndex: 10000 entries, 0 to 9999\n",
            "Data columns (total 2 columns):\n",
            " #   Column  Non-Null Count  Dtype\n",
            "---  ------  --------------  -----\n",
            " 0   Id      10000 non-null  int64\n",
            " 1   choose  10000 non-null  int64\n",
            "dtypes: int64(2)\n",
            "memory usage: 156.4 KB\n"
          ]
        }
      ]
    },
    {
      "cell_type": "code",
      "metadata": {
        "id": "jIAwaVN5nJua"
      },
      "source": [
        ""
      ],
      "id": "jIAwaVN5nJua",
      "execution_count": null,
      "outputs": []
    }
  ]
}