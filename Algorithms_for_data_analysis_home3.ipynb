{
  "nbformat": 4,
  "nbformat_minor": 5,
  "metadata": {
    "colab": {
      "name": "Algorithms_for_data_analysis_home3.ipynb",
      "provenance": [],
      "collapsed_sections": []
    },
    "kernelspec": {
      "display_name": "Python 3",
      "language": "python",
      "name": "python3"
    },
    "language_info": {
      "codemirror_mode": {
        "name": "ipython",
        "version": 3
      },
      "file_extension": ".py",
      "mimetype": "text/x-python",
      "name": "python",
      "nbconvert_exporter": "python",
      "pygments_lexer": "ipython3",
      "version": "3.9.5"
    }
  },
  "cells": [
    {
      "cell_type": "code",
      "metadata": {
        "id": "b71d4235-d8c3-4b12-884f-223d44f9a07d"
      },
      "source": [
        "import numpy as np\n",
        "from sklearn import datasets\n",
        "import warnings\n",
        "warnings.filterwarnings('ignore')"
      ],
      "id": "b71d4235-d8c3-4b12-884f-223d44f9a07d",
      "execution_count": 1,
      "outputs": []
    },
    {
      "cell_type": "code",
      "metadata": {
        "id": "ha8uBxT70VLB"
      },
      "source": [
        "def standard_scale(X):\n",
        "    \"\"\"Стандартизация одного признака\"\"\"\n",
        "    mean = X.mean()\n",
        "    std = X.std()\n",
        "    return (X - mean) / std\n",
        "\n",
        "def standard_scale2(X):\n",
        "    \"\"\"Стандартизация датасета целиком\"\"\"\n",
        "    X_stand = X.copy()\n",
        "    for i in range(X_stand.shape[1]):\n",
        "        mean = X_stand[:, i].mean()\n",
        "        std = X_stand[:, i].std()\n",
        "        X_stand[:, i] = (X_stand[:, i] - mean) / std\n",
        "    return X_stand"
      ],
      "id": "ha8uBxT70VLB",
      "execution_count": 2,
      "outputs": []
    },
    {
      "cell_type": "markdown",
      "metadata": {
        "id": "7faadc6c-76c2-4d2c-9f2b-98dbaaebfa7e"
      },
      "source": [
        "__1*.__ Измените функцию calc_logloss так, чтобы нули по возможности не попадали в np.log."
      ],
      "id": "7faadc6c-76c2-4d2c-9f2b-98dbaaebfa7e"
    },
    {
      "cell_type": "code",
      "metadata": {
        "id": "3d6b82d0-efa7-4511-a198-9f3948587fbc"
      },
      "source": [
        "def calc_logloss(y, y_pred):\n",
        "    for i in range(len(y)):\n",
        "\n",
        "      if y_pred[i]==1:\n",
        "          y_pred[i] = 0.9999999999\n",
        "      if y_pred[i]==0:\n",
        "          y_pred[i] = 1e-10\n",
        "    err = - np.mean(y * np.log(y_pred) + (1.0 - y) * np.log(1.0 - y_pred))\n",
        "    return err"
      ],
      "id": "3d6b82d0-efa7-4511-a198-9f3948587fbc",
      "execution_count": 3,
      "outputs": []
    },
    {
      "cell_type": "markdown",
      "metadata": {
        "id": "9df68546-2c48-476f-800b-245f0de244c8"
      },
      "source": [
        "__2.__ Подберите аргументы функции eval_model для логистической регрессии таким образом, чтобы log loss был минимальным."
      ],
      "id": "9df68546-2c48-476f-800b-245f0de244c8"
    },
    {
      "cell_type": "code",
      "metadata": {
        "id": "yjlYj_sc0Zgg"
      },
      "source": [
        "# сгеренируем данные с помощью sklearn.datasets и стандартизируем признаки\n",
        "X, y = datasets.make_classification(n_samples=100, n_features=4, n_informative=2,\n",
        "                                    n_redundant=0, n_classes=2, random_state=1)\n",
        "X_stand = standard_scale2(X)"
      ],
      "id": "yjlYj_sc0Zgg",
      "execution_count": 4,
      "outputs": []
    },
    {
      "cell_type": "code",
      "metadata": {
        "id": "5d386d05-585b-47bf-bb64-4361911a78c2"
      },
      "source": [
        "def eval_model(X, y, iterations, eta=1e-4, log=True):\n",
        "    np.random.seed(42)\n",
        "    W = np.random.randn(X.shape[1])\n",
        "    n = X.shape[0]\n",
        "    \n",
        "    for i in range(iterations):\n",
        "        z = np.dot(X, W)\n",
        "        y_pred = 1 / (1 + np.exp(-z))\n",
        "        err = calc_logloss(y, y_pred)\n",
        "        \n",
        "        dQ = 1/n * X.T @ (y_pred - y)\n",
        "        W -= eta * dQ\n",
        "        if i % (iterations / 10) == 0 and log==True:\n",
        "            print(f'Iteration: {i}, Weights: {W}, Logloss: {err}')\n",
        "    return W"
      ],
      "id": "5d386d05-585b-47bf-bb64-4361911a78c2",
      "execution_count": 5,
      "outputs": []
    },
    {
      "cell_type": "code",
      "metadata": {
        "colab": {
          "base_uri": "https://localhost:8080/"
        },
        "id": "l1AGbeF65FVz",
        "outputId": "91784669-313c-4066-946e-0f50425baff2"
      },
      "source": [
        "eval_model(X_stand, y, iterations=1500, eta=0.3)"
      ],
      "id": "l1AGbeF65FVz",
      "execution_count": 6,
      "outputs": [
        {
          "output_type": "stream",
          "text": [
            "Iteration: 0, Weights: [ 0.49393621 -0.13412425  0.61792284  1.57066707], Logloss: 0.2875378351156201\n",
            "Iteration: 150, Weights: [ 0.60864946  0.10858356 -0.1760802   3.67909521], Logloss: 0.10888624645403817\n",
            "Iteration: 300, Weights: [ 0.78499261  0.22816412 -0.33383349  4.32275798], Logloss: 0.09771652505280905\n",
            "Iteration: 450, Weights: [ 0.91860057  0.30630752 -0.44301962  4.71628326], Logloss: 0.09341541781024107\n",
            "Iteration: 600, Weights: [ 1.02184007  0.36307047 -0.52633233  5.00224638], Logloss: 0.09111586046147434\n",
            "Iteration: 750, Weights: [ 1.10410491  0.40717179 -0.59269246  5.22692153], Logloss: 0.08969411683357005\n",
            "Iteration: 900, Weights: [ 1.17148433  0.44293381 -0.64720933  5.41120736], Logloss: 0.08873964713966036\n",
            "Iteration: 1050, Weights: [ 1.22791845  0.4727629  -0.69305027  5.56650423], Logloss: 0.08806390153374599\n",
            "Iteration: 1200, Weights: [ 1.27602393  0.49813779 -0.73228196  5.69982274], Logloss: 0.08756738162546121\n",
            "Iteration: 1350, Weights: [ 1.31760004  0.52003899 -0.76631626  5.81583543], Logloss: 0.08719241342330869\n"
          ],
          "name": "stdout"
        },
        {
          "output_type": "execute_result",
          "data": {
            "text/plain": [
              "array([ 1.35370152,  0.53903496, -0.79597088,  5.91719996])"
            ]
          },
          "metadata": {
            "tags": []
          },
          "execution_count": 6
        }
      ]
    },
    {
      "cell_type": "markdown",
      "metadata": {
        "id": "d423557f-97a8-47ad-bd2b-b1569914bbfd"
      },
      "source": [
        "__3.__ Создайте функцию calc_pred_proba, возвращающую предсказанную вероятность класса 1 (на вход подаются W, который уже посчитан функцией eval_model и X, на выходе - массив y_pred_proba)."
      ],
      "id": "d423557f-97a8-47ad-bd2b-b1569914bbfd"
    },
    {
      "cell_type": "code",
      "metadata": {
        "id": "b6fffdaf-c935-4166-a14e-634a545adbce"
      },
      "source": [
        "def calc_pred_proba(X, W):\n",
        "    z = np.dot(X, W)\n",
        "    y_pred_proba = 1 / (1 + np.exp(-z))\n",
        "    return y_pred_proba"
      ],
      "id": "b6fffdaf-c935-4166-a14e-634a545adbce",
      "execution_count": 7,
      "outputs": []
    },
    {
      "cell_type": "code",
      "metadata": {
        "colab": {
          "base_uri": "https://localhost:8080/"
        },
        "id": "Yw67igkukLuD",
        "outputId": "eefd9d43-a1a5-40de-d951-346f6cbac09a"
      },
      "source": [
        "proba = calc_pred_proba(X_stand, eval_model(X_stand, y, iterations=1500, eta=0.3, log=False))\n",
        "proba"
      ],
      "id": "Yw67igkukLuD",
      "execution_count": 8,
      "outputs": [
        {
          "output_type": "execute_result",
          "data": {
            "text/plain": [
              "array([4.53343519e-04, 1.72079657e-01, 3.78900800e-03, 5.23496208e-03,\n",
              "       6.15141802e-04, 9.53423105e-01, 9.99440255e-01, 9.95933373e-01,\n",
              "       9.95245005e-01, 9.01901370e-01, 9.95537838e-01, 3.81520984e-02,\n",
              "       3.20239834e-03, 9.60303741e-01, 2.14236650e-03, 2.19786843e-03,\n",
              "       9.99449773e-01, 1.08676425e-04, 5.68086709e-03, 9.99997044e-01,\n",
              "       1.35568693e-02, 8.74513748e-04, 1.20878064e-02, 9.99913482e-01,\n",
              "       9.73373546e-01, 9.97907954e-01, 6.96082706e-01, 9.99533867e-01,\n",
              "       1.43175200e-01, 1.38275916e-02, 1.37161523e-04, 9.35938189e-01,\n",
              "       9.99978045e-01, 5.23762801e-04, 1.32298666e-04, 8.59835437e-05,\n",
              "       9.96202314e-01, 9.98501796e-01, 7.85030361e-03, 4.12839772e-04,\n",
              "       4.25815298e-04, 9.99961918e-01, 9.99427697e-01, 9.22271728e-01,\n",
              "       4.18584757e-03, 3.44224226e-03, 9.59306839e-01, 1.16321331e-03,\n",
              "       9.94155336e-01, 3.79895046e-03, 8.26906402e-01, 9.96973668e-01,\n",
              "       9.99288663e-01, 8.58897812e-01, 9.99785278e-01, 9.99756503e-01,\n",
              "       9.99517112e-01, 7.93449543e-02, 4.47915032e-04, 9.96316755e-01,\n",
              "       1.75814432e-03, 9.77313732e-02, 9.22977922e-04, 5.73204297e-02,\n",
              "       1.09661407e-04, 9.96380762e-01, 9.30428383e-01, 1.54405115e-02,\n",
              "       9.79613707e-01, 1.97525611e-03, 9.99323652e-01, 3.28144182e-04,\n",
              "       1.33046849e-02, 9.82120306e-01, 9.99446247e-01, 1.46578081e-02,\n",
              "       1.04959487e-02, 1.78391735e-03, 4.37485368e-02, 9.98818734e-01,\n",
              "       9.71010891e-01, 9.99971374e-01, 2.14159625e-01, 9.04047095e-01,\n",
              "       9.99490519e-01, 5.02138431e-01, 9.98167565e-01, 9.99262960e-01,\n",
              "       4.95471212e-02, 7.28723776e-04, 9.99756229e-01, 1.47405153e-02,\n",
              "       1.51858237e-01, 8.20251483e-01, 3.53749073e-02, 1.37435569e-01,\n",
              "       9.99697126e-01, 4.50807635e-03, 5.90015417e-04, 9.82991338e-01])"
            ]
          },
          "metadata": {
            "tags": []
          },
          "execution_count": 8
        }
      ]
    },
    {
      "cell_type": "markdown",
      "metadata": {
        "id": "7cb1af3a-cff4-48b8-92de-6cf57612b356"
      },
      "source": [
        "__4.__ Создайте функцию calc_pred, возвращающую предсказанный класс (на вход подаются W, который уже посчитан функцией eval_model и X, на выходе - массив y_pred)."
      ],
      "id": "7cb1af3a-cff4-48b8-92de-6cf57612b356"
    },
    {
      "cell_type": "code",
      "metadata": {
        "id": "eee0194c-fd13-47ec-911d-c841e98fc2d8"
      },
      "source": [
        "def calc_pred(X, W, threshold=0.5):\n",
        "    y_pred_proba = calc_pred_proba(X, W)\n",
        "    y_pred = np.where(y_pred_proba>threshold, 1, 0)\n",
        "    return y_pred"
      ],
      "id": "eee0194c-fd13-47ec-911d-c841e98fc2d8",
      "execution_count": 9,
      "outputs": []
    },
    {
      "cell_type": "code",
      "metadata": {
        "colab": {
          "base_uri": "https://localhost:8080/"
        },
        "id": "N6mFSdtelU0E",
        "outputId": "3b191771-6ff9-45de-f3a3-ace584e8f358"
      },
      "source": [
        "y_pred = calc_pred(X_stand, eval_model(X_stand, y, iterations=1500, eta=0.3, log=False))\n",
        "y_pred"
      ],
      "id": "N6mFSdtelU0E",
      "execution_count": 10,
      "outputs": [
        {
          "output_type": "execute_result",
          "data": {
            "text/plain": [
              "array([0, 0, 0, 0, 0, 1, 1, 1, 1, 1, 1, 0, 0, 1, 0, 0, 1, 0, 0, 1, 0, 0,\n",
              "       0, 1, 1, 1, 1, 1, 0, 0, 0, 1, 1, 0, 0, 0, 1, 1, 0, 0, 0, 1, 1, 1,\n",
              "       0, 0, 1, 0, 1, 0, 1, 1, 1, 1, 1, 1, 1, 0, 0, 1, 0, 0, 0, 0, 0, 1,\n",
              "       1, 0, 1, 0, 1, 0, 0, 1, 1, 0, 0, 0, 0, 1, 1, 1, 0, 1, 1, 1, 1, 1,\n",
              "       0, 0, 1, 0, 0, 1, 0, 0, 1, 0, 0, 1])"
            ]
          },
          "metadata": {
            "tags": []
          },
          "execution_count": 10
        }
      ]
    },
    {
      "cell_type": "markdown",
      "metadata": {
        "id": "a4a9b4f3-da7e-4448-901e-61a0986364c0"
      },
      "source": [
        "__5*.__ Реализуйте функции для подсчета Accuracy, матрицы ошибок, точности и полноты, а также F1 score."
      ],
      "id": "a4a9b4f3-da7e-4448-901e-61a0986364c0"
    },
    {
      "cell_type": "code",
      "metadata": {
        "id": "bbaf48fb-2859-4228-a97b-825cbc0f2cb6"
      },
      "source": [
        "def confus_matrix(y_true, y_pred):\n",
        "    TP = len([e for e in map(lambda x,y: (y==1) & (x == y), y_true, y_pred) if e])\n",
        "    FP = len([e for e in map(lambda x,y: (y==1) & (x != y), y_true, y_pred) if e])\n",
        "    TN = len([e for e in map(lambda x,y: (y==0) & (x == y), y_true, y_pred) if e])\n",
        "    FN = len([e for e in map(lambda x,y: (y==0) & (x != y), y_true, y_pred) if e])\n",
        "    matrix = np.array([[TP, FP], [FN, TN]])\n",
        "    return matrix\n",
        "\n",
        "def accuracy(y_true, y_pred):\n",
        "    matrix = confus_matrix(y_true, y_pred)\n",
        "    TP = matrix[0, 0]; FP = matrix[0, 1]; FN = matrix[1, 0]; TN = matrix[1, 1]\n",
        "    return (TP + TN) / (TP + FP + TN + FN)\n",
        "\n",
        "def precision(y_true, y_pred):\n",
        "    matrix = confus_matrix(y_true, y_pred)\n",
        "    TP = matrix[0, 0]; FP = matrix[0, 1]; FN = matrix[1, 0]; TN = matrix[1, 1]\n",
        "    return TP / (TP + FP)\n",
        "\n",
        "def recall(y_true, y_pred):\n",
        "    matrix = confus_matrix(y_true, y_pred)\n",
        "    TP = matrix[0, 0]; FP = matrix[0, 1]; FN = matrix[1, 0]; TN = matrix[1, 1]\n",
        "    return TP / (TP + FN)\n",
        "\n",
        "def fscore(y_true, y_pred, beta=1):\n",
        "    matrix = confus_matrix(y_true, y_pred)\n",
        "    TP = matrix[0, 0]; FP = matrix[0, 1]; FN = matrix[1, 0]; TN = matrix[1, 1]\n",
        "    f = ((1 + beta**2) * TP) / (((1 + beta**2) * TP) + beta**2 * FN + FP)\n",
        "    return  f"
      ],
      "id": "bbaf48fb-2859-4228-a97b-825cbc0f2cb6",
      "execution_count": 11,
      "outputs": []
    },
    {
      "cell_type": "code",
      "metadata": {
        "colab": {
          "base_uri": "https://localhost:8080/"
        },
        "id": "Y3X9SmEfmH7e",
        "outputId": "a55f26c1-c102-475c-f778-0c889703bfc8"
      },
      "source": [
        "matrix_ = confus_matrix(y, y_pred)\n",
        "accuracy_ = accuracy(y, y_pred)\n",
        "precision_ = precision(y, y_pred)\n",
        "recall_ = recall(y, y_pred)\n",
        "f_score_ = fscore(y, y_pred)\n",
        "\n",
        "print(f'Confusion matrix: \\n{matrix_}', \n",
        "      f'Accuracy: {accuracy_:.4f}', \n",
        "      f'Precision: {precision_:.4f}', \n",
        "      f'Recall: {recall_:.4f}',\n",
        "      f'F-score: {f_score_:.4f}', sep='\\n'+'-'*20+'\\n')"
      ],
      "id": "Y3X9SmEfmH7e",
      "execution_count": 12,
      "outputs": [
        {
          "output_type": "stream",
          "text": [
            "Confusion matrix: \n",
            "[[48  1]\n",
            " [ 1 50]]\n",
            "--------------------\n",
            "Accuracy: 0.9800\n",
            "--------------------\n",
            "Precision: 0.9796\n",
            "--------------------\n",
            "Recall: 0.9796\n",
            "--------------------\n",
            "F-score: 0.9796\n"
          ],
          "name": "stdout"
        }
      ]
    },
    {
      "cell_type": "markdown",
      "metadata": {
        "id": "92d5c92a-9d39-4015-9e1d-a91c2e5bb7f7"
      },
      "source": [
        "__6.__ Могла ли модель переобучиться? Почему?  \n",
        "\n",
        "Могла, если модель идеально подстроилась под все значения обучающего датасета"
      ],
      "id": "92d5c92a-9d39-4015-9e1d-a91c2e5bb7f7"
    },
    {
      "cell_type": "code",
      "metadata": {
        "id": "x0VSxZlbtCht"
      },
      "source": [
        ""
      ],
      "id": "x0VSxZlbtCht",
      "execution_count": null,
      "outputs": []
    }
  ]
}